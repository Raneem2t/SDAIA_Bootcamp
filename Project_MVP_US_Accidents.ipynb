{
 "cells": [
  {
   "cell_type": "markdown",
   "id": "33e62613",
   "metadata": {},
   "source": [
    "# US Accidents Analysis "
   ]
  },
  {
   "cell_type": "markdown",
   "id": "bf8bf9fa",
   "metadata": {},
   "source": [
    "####  Minimum Viable Product (MVP)\n",
    "\n",
    "In this notebook I used a dataset from Kaggle, this dataset has been collected in real-time it is about “US accidents”, which covers 49 states of the USA. The dataset has about 1.5 million accident recordsfrom February 2016 to Dec 2020 and has 47 features.\n",
    "The analyse will help both the police station and the municipality of the county to spread awareness and investigate the issues that causes the car accidents.\n",
    "\n",
    "### Data source\n",
    "https://www.kaggle.com/sobhanmoosavi/us-accidents"
   ]
  },
  {
   "cell_type": "code",
   "execution_count": 1,
   "id": "7b8a9fb4",
   "metadata": {},
   "outputs": [],
   "source": [
    "import pandas as pd\n",
    "import numpy as np\n",
    "import matplotlib.pyplot as plt\n",
    "import seaborn as sns\n",
    "import pygal\n",
    "from pygal.style import LightGreenStyle\n",
    "\n",
    "\n",
    "import folium\n",
    "from folium import plugins\n",
    "from folium.plugins import HeatMap\n"
   ]
  },
  {
   "cell_type": "code",
   "execution_count": 2,
   "id": "3e323b28",
   "metadata": {},
   "outputs": [],
   "source": [
    "df = pd.read_csv('/Users/raneem/PycharmProjects/pythonProject/Data/US_Accidents_Dec20_updated.csv')"
   ]
  },
  {
   "cell_type": "code",
   "execution_count": 3,
   "id": "035af11c",
   "metadata": {},
   "outputs": [
    {
     "data": {
      "text/html": [
       "<div>\n",
       "<style scoped>\n",
       "    .dataframe tbody tr th:only-of-type {\n",
       "        vertical-align: middle;\n",
       "    }\n",
       "\n",
       "    .dataframe tbody tr th {\n",
       "        vertical-align: top;\n",
       "    }\n",
       "\n",
       "    .dataframe thead th {\n",
       "        text-align: right;\n",
       "    }\n",
       "</style>\n",
       "<table border=\"1\" class=\"dataframe\">\n",
       "  <thead>\n",
       "    <tr style=\"text-align: right;\">\n",
       "      <th></th>\n",
       "      <th>ID</th>\n",
       "      <th>Severity</th>\n",
       "      <th>Start_Time</th>\n",
       "      <th>End_Time</th>\n",
       "      <th>Start_Lat</th>\n",
       "      <th>Start_Lng</th>\n",
       "      <th>End_Lat</th>\n",
       "      <th>End_Lng</th>\n",
       "      <th>Distance(mi)</th>\n",
       "      <th>Description</th>\n",
       "      <th>...</th>\n",
       "      <th>Roundabout</th>\n",
       "      <th>Station</th>\n",
       "      <th>Stop</th>\n",
       "      <th>Traffic_Calming</th>\n",
       "      <th>Traffic_Signal</th>\n",
       "      <th>Turning_Loop</th>\n",
       "      <th>Sunrise_Sunset</th>\n",
       "      <th>Civil_Twilight</th>\n",
       "      <th>Nautical_Twilight</th>\n",
       "      <th>Astronomical_Twilight</th>\n",
       "    </tr>\n",
       "  </thead>\n",
       "  <tbody>\n",
       "    <tr>\n",
       "      <th>0</th>\n",
       "      <td>A-2716600</td>\n",
       "      <td>3</td>\n",
       "      <td>2016-02-08 00:37:08</td>\n",
       "      <td>2016-02-08 06:37:08</td>\n",
       "      <td>40.10891</td>\n",
       "      <td>-83.09286</td>\n",
       "      <td>40.11206</td>\n",
       "      <td>-83.03187</td>\n",
       "      <td>3.230</td>\n",
       "      <td>Between Sawmill Rd/Exit 20 and OH-315/Olentang...</td>\n",
       "      <td>...</td>\n",
       "      <td>False</td>\n",
       "      <td>False</td>\n",
       "      <td>False</td>\n",
       "      <td>False</td>\n",
       "      <td>False</td>\n",
       "      <td>False</td>\n",
       "      <td>Night</td>\n",
       "      <td>Night</td>\n",
       "      <td>Night</td>\n",
       "      <td>Night</td>\n",
       "    </tr>\n",
       "    <tr>\n",
       "      <th>1</th>\n",
       "      <td>A-2716601</td>\n",
       "      <td>2</td>\n",
       "      <td>2016-02-08 05:56:20</td>\n",
       "      <td>2016-02-08 11:56:20</td>\n",
       "      <td>39.86542</td>\n",
       "      <td>-84.06280</td>\n",
       "      <td>39.86501</td>\n",
       "      <td>-84.04873</td>\n",
       "      <td>0.747</td>\n",
       "      <td>At OH-4/OH-235/Exit 41 - Accident.</td>\n",
       "      <td>...</td>\n",
       "      <td>False</td>\n",
       "      <td>False</td>\n",
       "      <td>False</td>\n",
       "      <td>False</td>\n",
       "      <td>False</td>\n",
       "      <td>False</td>\n",
       "      <td>Night</td>\n",
       "      <td>Night</td>\n",
       "      <td>Night</td>\n",
       "      <td>Night</td>\n",
       "    </tr>\n",
       "    <tr>\n",
       "      <th>2</th>\n",
       "      <td>A-2716602</td>\n",
       "      <td>2</td>\n",
       "      <td>2016-02-08 06:15:39</td>\n",
       "      <td>2016-02-08 12:15:39</td>\n",
       "      <td>39.10266</td>\n",
       "      <td>-84.52468</td>\n",
       "      <td>39.10209</td>\n",
       "      <td>-84.52396</td>\n",
       "      <td>0.055</td>\n",
       "      <td>At I-71/US-50/Exit 1 - Accident.</td>\n",
       "      <td>...</td>\n",
       "      <td>False</td>\n",
       "      <td>False</td>\n",
       "      <td>False</td>\n",
       "      <td>False</td>\n",
       "      <td>False</td>\n",
       "      <td>False</td>\n",
       "      <td>Night</td>\n",
       "      <td>Night</td>\n",
       "      <td>Night</td>\n",
       "      <td>Day</td>\n",
       "    </tr>\n",
       "    <tr>\n",
       "      <th>3</th>\n",
       "      <td>A-2716603</td>\n",
       "      <td>2</td>\n",
       "      <td>2016-02-08 06:15:39</td>\n",
       "      <td>2016-02-08 12:15:39</td>\n",
       "      <td>39.10148</td>\n",
       "      <td>-84.52341</td>\n",
       "      <td>39.09841</td>\n",
       "      <td>-84.52241</td>\n",
       "      <td>0.219</td>\n",
       "      <td>At I-71/US-50/Exit 1 - Accident.</td>\n",
       "      <td>...</td>\n",
       "      <td>False</td>\n",
       "      <td>False</td>\n",
       "      <td>False</td>\n",
       "      <td>False</td>\n",
       "      <td>False</td>\n",
       "      <td>False</td>\n",
       "      <td>Night</td>\n",
       "      <td>Night</td>\n",
       "      <td>Night</td>\n",
       "      <td>Day</td>\n",
       "    </tr>\n",
       "    <tr>\n",
       "      <th>4</th>\n",
       "      <td>A-2716604</td>\n",
       "      <td>2</td>\n",
       "      <td>2016-02-08 06:51:45</td>\n",
       "      <td>2016-02-08 12:51:45</td>\n",
       "      <td>41.06213</td>\n",
       "      <td>-81.53784</td>\n",
       "      <td>41.06217</td>\n",
       "      <td>-81.53547</td>\n",
       "      <td>0.123</td>\n",
       "      <td>At Dart Ave/Exit 21 - Accident.</td>\n",
       "      <td>...</td>\n",
       "      <td>False</td>\n",
       "      <td>False</td>\n",
       "      <td>False</td>\n",
       "      <td>False</td>\n",
       "      <td>False</td>\n",
       "      <td>False</td>\n",
       "      <td>Night</td>\n",
       "      <td>Night</td>\n",
       "      <td>Day</td>\n",
       "      <td>Day</td>\n",
       "    </tr>\n",
       "  </tbody>\n",
       "</table>\n",
       "<p>5 rows × 47 columns</p>\n",
       "</div>"
      ],
      "text/plain": [
       "          ID  Severity           Start_Time             End_Time  Start_Lat  \\\n",
       "0  A-2716600         3  2016-02-08 00:37:08  2016-02-08 06:37:08   40.10891   \n",
       "1  A-2716601         2  2016-02-08 05:56:20  2016-02-08 11:56:20   39.86542   \n",
       "2  A-2716602         2  2016-02-08 06:15:39  2016-02-08 12:15:39   39.10266   \n",
       "3  A-2716603         2  2016-02-08 06:15:39  2016-02-08 12:15:39   39.10148   \n",
       "4  A-2716604         2  2016-02-08 06:51:45  2016-02-08 12:51:45   41.06213   \n",
       "\n",
       "   Start_Lng   End_Lat   End_Lng  Distance(mi)  \\\n",
       "0  -83.09286  40.11206 -83.03187         3.230   \n",
       "1  -84.06280  39.86501 -84.04873         0.747   \n",
       "2  -84.52468  39.10209 -84.52396         0.055   \n",
       "3  -84.52341  39.09841 -84.52241         0.219   \n",
       "4  -81.53784  41.06217 -81.53547         0.123   \n",
       "\n",
       "                                         Description  ...  Roundabout Station  \\\n",
       "0  Between Sawmill Rd/Exit 20 and OH-315/Olentang...  ...       False   False   \n",
       "1                 At OH-4/OH-235/Exit 41 - Accident.  ...       False   False   \n",
       "2                   At I-71/US-50/Exit 1 - Accident.  ...       False   False   \n",
       "3                   At I-71/US-50/Exit 1 - Accident.  ...       False   False   \n",
       "4                    At Dart Ave/Exit 21 - Accident.  ...       False   False   \n",
       "\n",
       "    Stop Traffic_Calming Traffic_Signal Turning_Loop Sunrise_Sunset  \\\n",
       "0  False           False          False        False          Night   \n",
       "1  False           False          False        False          Night   \n",
       "2  False           False          False        False          Night   \n",
       "3  False           False          False        False          Night   \n",
       "4  False           False          False        False          Night   \n",
       "\n",
       "  Civil_Twilight Nautical_Twilight Astronomical_Twilight  \n",
       "0          Night             Night                 Night  \n",
       "1          Night             Night                 Night  \n",
       "2          Night             Night                   Day  \n",
       "3          Night             Night                   Day  \n",
       "4          Night               Day                   Day  \n",
       "\n",
       "[5 rows x 47 columns]"
      ]
     },
     "execution_count": 3,
     "metadata": {},
     "output_type": "execute_result"
    }
   ],
   "source": [
    "df.head()"
   ]
  },
  {
   "cell_type": "code",
   "execution_count": 4,
   "id": "d24b59a4",
   "metadata": {},
   "outputs": [
    {
     "data": {
      "text/plain": [
       "(1516064, 47)"
      ]
     },
     "execution_count": 4,
     "metadata": {},
     "output_type": "execute_result"
    }
   ],
   "source": [
    "df.shape"
   ]
  },
  {
   "cell_type": "code",
   "execution_count": 5,
   "id": "804c020f",
   "metadata": {},
   "outputs": [
    {
     "name": "stdout",
     "output_type": "stream",
     "text": [
      "<class 'pandas.core.frame.DataFrame'>\n",
      "RangeIndex: 1516064 entries, 0 to 1516063\n",
      "Data columns (total 47 columns):\n",
      " #   Column                 Non-Null Count    Dtype  \n",
      "---  ------                 --------------    -----  \n",
      " 0   ID                     1516064 non-null  object \n",
      " 1   Severity               1516064 non-null  int64  \n",
      " 2   Start_Time             1516064 non-null  object \n",
      " 3   End_Time               1516064 non-null  object \n",
      " 4   Start_Lat              1516064 non-null  float64\n",
      " 5   Start_Lng              1516064 non-null  float64\n",
      " 6   End_Lat                1516064 non-null  float64\n",
      " 7   End_Lng                1516064 non-null  float64\n",
      " 8   Distance(mi)           1516064 non-null  float64\n",
      " 9   Description            1516064 non-null  object \n",
      " 10  Number                 469969 non-null   float64\n",
      " 11  Street                 1516064 non-null  object \n",
      " 12  Side                   1516064 non-null  object \n",
      " 13  City                   1515981 non-null  object \n",
      " 14  County                 1516064 non-null  object \n",
      " 15  State                  1516064 non-null  object \n",
      " 16  Zipcode                1515129 non-null  object \n",
      " 17  Country                1516064 non-null  object \n",
      " 18  Timezone               1513762 non-null  object \n",
      " 19  Airport_Code           1511816 non-null  object \n",
      " 20  Weather_Timestamp      1485800 non-null  object \n",
      " 21  Temperature(F)         1473031 non-null  float64\n",
      " 22  Wind_Chill(F)          1066748 non-null  float64\n",
      " 23  Humidity(%)            1470555 non-null  float64\n",
      " 24  Pressure(in)           1479790 non-null  float64\n",
      " 25  Visibility(mi)         1471853 non-null  float64\n",
      " 26  Wind_Direction         1474206 non-null  object \n",
      " 27  Wind_Speed(mph)        1387202 non-null  float64\n",
      " 28  Precipitation(in)      1005515 non-null  float64\n",
      " 29  Weather_Condition      1472057 non-null  object \n",
      " 30  Amenity                1516064 non-null  bool   \n",
      " 31  Bump                   1516064 non-null  bool   \n",
      " 32  Crossing               1516064 non-null  bool   \n",
      " 33  Give_Way               1516064 non-null  bool   \n",
      " 34  Junction               1516064 non-null  bool   \n",
      " 35  No_Exit                1516064 non-null  bool   \n",
      " 36  Railway                1516064 non-null  bool   \n",
      " 37  Roundabout             1516064 non-null  bool   \n",
      " 38  Station                1516064 non-null  bool   \n",
      " 39  Stop                   1516064 non-null  bool   \n",
      " 40  Traffic_Calming        1516064 non-null  bool   \n",
      " 41  Traffic_Signal         1516064 non-null  bool   \n",
      " 42  Turning_Loop           1516064 non-null  bool   \n",
      " 43  Sunrise_Sunset         1515981 non-null  object \n",
      " 44  Civil_Twilight         1515981 non-null  object \n",
      " 45  Nautical_Twilight      1515981 non-null  object \n",
      " 46  Astronomical_Twilight  1515981 non-null  object \n",
      "dtypes: bool(13), float64(13), int64(1), object(20)\n",
      "memory usage: 412.1+ MB\n"
     ]
    }
   ],
   "source": [
    "df.info()"
   ]
  },
  {
   "cell_type": "code",
   "execution_count": 6,
   "id": "51920cff",
   "metadata": {},
   "outputs": [
    {
     "data": {
      "text/plain": [
       "<bound method NDFrame.describe of                 ID  Severity           Start_Time             End_Time  \\\n",
       "0        A-2716600         3  2016-02-08 00:37:08  2016-02-08 06:37:08   \n",
       "1        A-2716601         2  2016-02-08 05:56:20  2016-02-08 11:56:20   \n",
       "2        A-2716602         2  2016-02-08 06:15:39  2016-02-08 12:15:39   \n",
       "3        A-2716603         2  2016-02-08 06:15:39  2016-02-08 12:15:39   \n",
       "4        A-2716604         2  2016-02-08 06:51:45  2016-02-08 12:51:45   \n",
       "...            ...       ...                  ...                  ...   \n",
       "1516059  A-4239402         2  2019-08-23 18:03:25  2019-08-23 18:32:01   \n",
       "1516060  A-4239403         2  2019-08-23 19:11:30  2019-08-23 19:38:23   \n",
       "1516061  A-4239404         2  2019-08-23 19:00:21  2019-08-23 19:28:49   \n",
       "1516062  A-4239405         2  2019-08-23 19:00:21  2019-08-23 19:29:42   \n",
       "1516063  A-4239406         2  2019-08-23 18:52:06  2019-08-23 19:21:31   \n",
       "\n",
       "         Start_Lat  Start_Lng   End_Lat    End_Lng  Distance(mi)  \\\n",
       "0         40.10891  -83.09286  40.11206  -83.03187         3.230   \n",
       "1         39.86542  -84.06280  39.86501  -84.04873         0.747   \n",
       "2         39.10266  -84.52468  39.10209  -84.52396         0.055   \n",
       "3         39.10148  -84.52341  39.09841  -84.52241         0.219   \n",
       "4         41.06213  -81.53784  41.06217  -81.53547         0.123   \n",
       "...            ...        ...       ...        ...           ...   \n",
       "1516059   34.00248 -117.37936  33.99888 -117.37094         0.543   \n",
       "1516060   32.76696 -117.14806  32.76555 -117.15363         0.338   \n",
       "1516061   33.77545 -117.84779  33.77740 -117.85727         0.561   \n",
       "1516062   33.99246 -118.40302  33.98311 -118.39565         0.772   \n",
       "1516063   34.13393 -117.23092  34.13736 -117.23934         0.537   \n",
       "\n",
       "                                               Description  ...  Roundabout  \\\n",
       "0        Between Sawmill Rd/Exit 20 and OH-315/Olentang...  ...       False   \n",
       "1                       At OH-4/OH-235/Exit 41 - Accident.  ...       False   \n",
       "2                         At I-71/US-50/Exit 1 - Accident.  ...       False   \n",
       "3                         At I-71/US-50/Exit 1 - Accident.  ...       False   \n",
       "4                          At Dart Ave/Exit 21 - Accident.  ...       False   \n",
       "...                                                    ...  ...         ...   \n",
       "1516059                           At Market St - Accident.  ...       False   \n",
       "1516060    At Camino Del Rio/Mission Center Rd - Accident.  ...       False   \n",
       "1516061  At Glassell St/Grand Ave - Accident. in the ri...  ...       False   \n",
       "1516062     At CA-90/Marina Fwy/Jefferson Blvd - Accident.  ...       False   \n",
       "1516063              At Highland Ave/Arden Ave - Accident.  ...       False   \n",
       "\n",
       "        Station   Stop Traffic_Calming Traffic_Signal Turning_Loop  \\\n",
       "0         False  False           False          False        False   \n",
       "1         False  False           False          False        False   \n",
       "2         False  False           False          False        False   \n",
       "3         False  False           False          False        False   \n",
       "4         False  False           False          False        False   \n",
       "...         ...    ...             ...            ...          ...   \n",
       "1516059   False  False           False          False        False   \n",
       "1516060   False  False           False          False        False   \n",
       "1516061   False  False           False          False        False   \n",
       "1516062   False  False           False          False        False   \n",
       "1516063   False  False           False          False        False   \n",
       "\n",
       "        Sunrise_Sunset Civil_Twilight Nautical_Twilight Astronomical_Twilight  \n",
       "0                Night          Night             Night                 Night  \n",
       "1                Night          Night             Night                 Night  \n",
       "2                Night          Night             Night                   Day  \n",
       "3                Night          Night             Night                   Day  \n",
       "4                Night          Night               Day                   Day  \n",
       "...                ...            ...               ...                   ...  \n",
       "1516059            Day            Day               Day                   Day  \n",
       "1516060            Day            Day               Day                   Day  \n",
       "1516061            Day            Day               Day                   Day  \n",
       "1516062            Day            Day               Day                   Day  \n",
       "1516063            Day            Day               Day                   Day  \n",
       "\n",
       "[1516064 rows x 47 columns]>"
      ]
     },
     "execution_count": 6,
     "metadata": {},
     "output_type": "execute_result"
    }
   ],
   "source": [
    "df.describe"
   ]
  },
  {
   "cell_type": "code",
   "execution_count": 7,
   "id": "d38cef63",
   "metadata": {},
   "outputs": [
    {
     "data": {
      "text/plain": [
       "Index(['ID', 'Severity', 'Start_Time', 'End_Time', 'Start_Lat', 'Start_Lng',\n",
       "       'End_Lat', 'End_Lng', 'Distance(mi)', 'Description', 'Number', 'Street',\n",
       "       'Side', 'City', 'County', 'State', 'Zipcode', 'Country', 'Timezone',\n",
       "       'Airport_Code', 'Weather_Timestamp', 'Temperature(F)', 'Wind_Chill(F)',\n",
       "       'Humidity(%)', 'Pressure(in)', 'Visibility(mi)', 'Wind_Direction',\n",
       "       'Wind_Speed(mph)', 'Precipitation(in)', 'Weather_Condition', 'Amenity',\n",
       "       'Bump', 'Crossing', 'Give_Way', 'Junction', 'No_Exit', 'Railway',\n",
       "       'Roundabout', 'Station', 'Stop', 'Traffic_Calming', 'Traffic_Signal',\n",
       "       'Turning_Loop', 'Sunrise_Sunset', 'Civil_Twilight', 'Nautical_Twilight',\n",
       "       'Astronomical_Twilight'],\n",
       "      dtype='object')"
      ]
     },
     "execution_count": 7,
     "metadata": {},
     "output_type": "execute_result"
    }
   ],
   "source": [
    "df.columns"
   ]
  },
  {
   "cell_type": "markdown",
   "id": "9e90cdde",
   "metadata": {},
   "source": [
    "# Data Preparation"
   ]
  },
  {
   "cell_type": "code",
   "execution_count": 8,
   "id": "55ffc41f",
   "metadata": {},
   "outputs": [],
   "source": [
    "# Take the Features that I need to work with it\n",
    " \n",
    "accident_df = df\n",
    "\n",
    "accident_df = accident_df.drop(['Zipcode' ,'Airport_Code', 'Temperature(F)' , 'Wind_Chill(F)' , 'Humidity(%)' , 'Pressure(in)' , 'Bump' , 'Crossing' , 'Give_Way', 'Junction',\n",
    "           'No_Exit','Railway', 'Roundabout','Station','Traffic_Calming','Traffic_Signal',\n",
    "                                'Stop','Turning_Loop','Astronomical_Twilight', 'Amenity' , 'Precipitation(in)'  , 'Nautical_Twilight' ,'Civil_Twilight' , 'Timezone', 'Weather_Condition', 'Wind_Direction', 'Number' , 'Weather_Timestamp', 'Wind_Speed(mph)' ],  axis=1)"
   ]
  },
  {
   "cell_type": "code",
   "execution_count": 9,
   "id": "9e17acf2",
   "metadata": {},
   "outputs": [
    {
     "data": {
      "text/plain": [
       "(1516064, 18)"
      ]
     },
     "execution_count": 9,
     "metadata": {},
     "output_type": "execute_result"
    }
   ],
   "source": [
    "accident_df.shape"
   ]
  },
  {
   "cell_type": "code",
   "execution_count": 10,
   "id": "85b2beac",
   "metadata": {
    "scrolled": true
   },
   "outputs": [
    {
     "data": {
      "text/html": [
       "<div>\n",
       "<style scoped>\n",
       "    .dataframe tbody tr th:only-of-type {\n",
       "        vertical-align: middle;\n",
       "    }\n",
       "\n",
       "    .dataframe tbody tr th {\n",
       "        vertical-align: top;\n",
       "    }\n",
       "\n",
       "    .dataframe thead th {\n",
       "        text-align: right;\n",
       "    }\n",
       "</style>\n",
       "<table border=\"1\" class=\"dataframe\">\n",
       "  <thead>\n",
       "    <tr style=\"text-align: right;\">\n",
       "      <th></th>\n",
       "      <th>ID</th>\n",
       "      <th>Severity</th>\n",
       "      <th>Start_Time</th>\n",
       "      <th>End_Time</th>\n",
       "      <th>Start_Lat</th>\n",
       "      <th>Start_Lng</th>\n",
       "      <th>End_Lat</th>\n",
       "      <th>End_Lng</th>\n",
       "      <th>Distance(mi)</th>\n",
       "      <th>Description</th>\n",
       "      <th>Street</th>\n",
       "      <th>Side</th>\n",
       "      <th>City</th>\n",
       "      <th>County</th>\n",
       "      <th>State</th>\n",
       "      <th>Country</th>\n",
       "      <th>Visibility(mi)</th>\n",
       "      <th>Sunrise_Sunset</th>\n",
       "    </tr>\n",
       "  </thead>\n",
       "  <tbody>\n",
       "    <tr>\n",
       "      <th>0</th>\n",
       "      <td>A-2716600</td>\n",
       "      <td>3</td>\n",
       "      <td>2016-02-08 00:37:08</td>\n",
       "      <td>2016-02-08 06:37:08</td>\n",
       "      <td>40.10891</td>\n",
       "      <td>-83.09286</td>\n",
       "      <td>40.11206</td>\n",
       "      <td>-83.03187</td>\n",
       "      <td>3.230</td>\n",
       "      <td>Between Sawmill Rd/Exit 20 and OH-315/Olentang...</td>\n",
       "      <td>Outerbelt E</td>\n",
       "      <td>R</td>\n",
       "      <td>Dublin</td>\n",
       "      <td>Franklin</td>\n",
       "      <td>OH</td>\n",
       "      <td>US</td>\n",
       "      <td>10.0</td>\n",
       "      <td>Night</td>\n",
       "    </tr>\n",
       "    <tr>\n",
       "      <th>1</th>\n",
       "      <td>A-2716601</td>\n",
       "      <td>2</td>\n",
       "      <td>2016-02-08 05:56:20</td>\n",
       "      <td>2016-02-08 11:56:20</td>\n",
       "      <td>39.86542</td>\n",
       "      <td>-84.06280</td>\n",
       "      <td>39.86501</td>\n",
       "      <td>-84.04873</td>\n",
       "      <td>0.747</td>\n",
       "      <td>At OH-4/OH-235/Exit 41 - Accident.</td>\n",
       "      <td>I-70 E</td>\n",
       "      <td>R</td>\n",
       "      <td>Dayton</td>\n",
       "      <td>Montgomery</td>\n",
       "      <td>OH</td>\n",
       "      <td>US</td>\n",
       "      <td>10.0</td>\n",
       "      <td>Night</td>\n",
       "    </tr>\n",
       "    <tr>\n",
       "      <th>2</th>\n",
       "      <td>A-2716602</td>\n",
       "      <td>2</td>\n",
       "      <td>2016-02-08 06:15:39</td>\n",
       "      <td>2016-02-08 12:15:39</td>\n",
       "      <td>39.10266</td>\n",
       "      <td>-84.52468</td>\n",
       "      <td>39.10209</td>\n",
       "      <td>-84.52396</td>\n",
       "      <td>0.055</td>\n",
       "      <td>At I-71/US-50/Exit 1 - Accident.</td>\n",
       "      <td>I-75 S</td>\n",
       "      <td>R</td>\n",
       "      <td>Cincinnati</td>\n",
       "      <td>Hamilton</td>\n",
       "      <td>OH</td>\n",
       "      <td>US</td>\n",
       "      <td>10.0</td>\n",
       "      <td>Night</td>\n",
       "    </tr>\n",
       "    <tr>\n",
       "      <th>3</th>\n",
       "      <td>A-2716603</td>\n",
       "      <td>2</td>\n",
       "      <td>2016-02-08 06:15:39</td>\n",
       "      <td>2016-02-08 12:15:39</td>\n",
       "      <td>39.10148</td>\n",
       "      <td>-84.52341</td>\n",
       "      <td>39.09841</td>\n",
       "      <td>-84.52241</td>\n",
       "      <td>0.219</td>\n",
       "      <td>At I-71/US-50/Exit 1 - Accident.</td>\n",
       "      <td>US-50 E</td>\n",
       "      <td>R</td>\n",
       "      <td>Cincinnati</td>\n",
       "      <td>Hamilton</td>\n",
       "      <td>OH</td>\n",
       "      <td>US</td>\n",
       "      <td>10.0</td>\n",
       "      <td>Night</td>\n",
       "    </tr>\n",
       "    <tr>\n",
       "      <th>4</th>\n",
       "      <td>A-2716604</td>\n",
       "      <td>2</td>\n",
       "      <td>2016-02-08 06:51:45</td>\n",
       "      <td>2016-02-08 12:51:45</td>\n",
       "      <td>41.06213</td>\n",
       "      <td>-81.53784</td>\n",
       "      <td>41.06217</td>\n",
       "      <td>-81.53547</td>\n",
       "      <td>0.123</td>\n",
       "      <td>At Dart Ave/Exit 21 - Accident.</td>\n",
       "      <td>I-77 N</td>\n",
       "      <td>R</td>\n",
       "      <td>Akron</td>\n",
       "      <td>Summit</td>\n",
       "      <td>OH</td>\n",
       "      <td>US</td>\n",
       "      <td>10.0</td>\n",
       "      <td>Night</td>\n",
       "    </tr>\n",
       "  </tbody>\n",
       "</table>\n",
       "</div>"
      ],
      "text/plain": [
       "          ID  Severity           Start_Time             End_Time  Start_Lat  \\\n",
       "0  A-2716600         3  2016-02-08 00:37:08  2016-02-08 06:37:08   40.10891   \n",
       "1  A-2716601         2  2016-02-08 05:56:20  2016-02-08 11:56:20   39.86542   \n",
       "2  A-2716602         2  2016-02-08 06:15:39  2016-02-08 12:15:39   39.10266   \n",
       "3  A-2716603         2  2016-02-08 06:15:39  2016-02-08 12:15:39   39.10148   \n",
       "4  A-2716604         2  2016-02-08 06:51:45  2016-02-08 12:51:45   41.06213   \n",
       "\n",
       "   Start_Lng   End_Lat   End_Lng  Distance(mi)  \\\n",
       "0  -83.09286  40.11206 -83.03187         3.230   \n",
       "1  -84.06280  39.86501 -84.04873         0.747   \n",
       "2  -84.52468  39.10209 -84.52396         0.055   \n",
       "3  -84.52341  39.09841 -84.52241         0.219   \n",
       "4  -81.53784  41.06217 -81.53547         0.123   \n",
       "\n",
       "                                         Description       Street Side  \\\n",
       "0  Between Sawmill Rd/Exit 20 and OH-315/Olentang...  Outerbelt E    R   \n",
       "1                 At OH-4/OH-235/Exit 41 - Accident.       I-70 E    R   \n",
       "2                   At I-71/US-50/Exit 1 - Accident.       I-75 S    R   \n",
       "3                   At I-71/US-50/Exit 1 - Accident.      US-50 E    R   \n",
       "4                    At Dart Ave/Exit 21 - Accident.       I-77 N    R   \n",
       "\n",
       "         City      County State Country  Visibility(mi) Sunrise_Sunset  \n",
       "0      Dublin    Franklin    OH      US            10.0          Night  \n",
       "1      Dayton  Montgomery    OH      US            10.0          Night  \n",
       "2  Cincinnati    Hamilton    OH      US            10.0          Night  \n",
       "3  Cincinnati    Hamilton    OH      US            10.0          Night  \n",
       "4       Akron      Summit    OH      US            10.0          Night  "
      ]
     },
     "execution_count": 10,
     "metadata": {},
     "output_type": "execute_result"
    }
   ],
   "source": [
    "accident_df.head()"
   ]
  },
  {
   "cell_type": "markdown",
   "id": "87d21ea5",
   "metadata": {},
   "source": [
    "# Data Cleaning & EDA"
   ]
  },
  {
   "cell_type": "code",
   "execution_count": 11,
   "id": "ad5d254e",
   "metadata": {
    "scrolled": true
   },
   "outputs": [
    {
     "data": {
      "text/plain": [
       "ID                 object\n",
       "Severity            int64\n",
       "Start_Time         object\n",
       "End_Time           object\n",
       "Start_Lat         float64\n",
       "Start_Lng         float64\n",
       "End_Lat           float64\n",
       "End_Lng           float64\n",
       "Distance(mi)      float64\n",
       "Description        object\n",
       "Street             object\n",
       "Side               object\n",
       "City               object\n",
       "County             object\n",
       "State              object\n",
       "Country            object\n",
       "Visibility(mi)    float64\n",
       "Sunrise_Sunset     object\n",
       "dtype: object"
      ]
     },
     "execution_count": 11,
     "metadata": {},
     "output_type": "execute_result"
    }
   ],
   "source": [
    "accident_df.dtypes"
   ]
  },
  {
   "cell_type": "code",
   "execution_count": 12,
   "id": "096cd501",
   "metadata": {},
   "outputs": [
    {
     "data": {
      "text/plain": [
       "Visibility(mi)    44211\n",
       "Sunrise_Sunset       83\n",
       "City                 83\n",
       "Severity              0\n",
       "Country               0\n",
       "State                 0\n",
       "County                0\n",
       "Side                  0\n",
       "Street                0\n",
       "ID                    0\n",
       "Distance(mi)          0\n",
       "End_Lng               0\n",
       "End_Lat               0\n",
       "Start_Lng             0\n",
       "Start_Lat             0\n",
       "End_Time              0\n",
       "Start_Time            0\n",
       "Description           0\n",
       "dtype: int64"
      ]
     },
     "execution_count": 12,
     "metadata": {},
     "output_type": "execute_result"
    }
   ],
   "source": [
    "# Check # of NAN Value\n",
    "accident_df.isnull().sum().sort_values(ascending=False)"
   ]
  },
  {
   "cell_type": "code",
   "execution_count": 13,
   "id": "3d54f4c4",
   "metadata": {},
   "outputs": [],
   "source": [
    "# Delet null value \n",
    "accident_df.dropna(inplace=True)"
   ]
  },
  {
   "cell_type": "code",
   "execution_count": 14,
   "id": "f6f0cca0",
   "metadata": {},
   "outputs": [
    {
     "data": {
      "text/plain": [
       "ID                0\n",
       "Severity          0\n",
       "Visibility(mi)    0\n",
       "Country           0\n",
       "State             0\n",
       "County            0\n",
       "City              0\n",
       "Side              0\n",
       "Street            0\n",
       "Description       0\n",
       "Distance(mi)      0\n",
       "End_Lng           0\n",
       "End_Lat           0\n",
       "Start_Lng         0\n",
       "Start_Lat         0\n",
       "End_Time          0\n",
       "Start_Time        0\n",
       "Sunrise_Sunset    0\n",
       "dtype: int64"
      ]
     },
     "execution_count": 14,
     "metadata": {},
     "output_type": "execute_result"
    }
   ],
   "source": [
    "# Check Again to see there is NAN value or not \n",
    "accident_df.isnull().sum().sort_values(ascending=False)"
   ]
  },
  {
   "cell_type": "code",
   "execution_count": null,
   "id": "68e39145",
   "metadata": {},
   "outputs": [],
   "source": []
  },
  {
   "cell_type": "markdown",
   "id": "77ceee18",
   "metadata": {},
   "source": [
    "## - TOP 10 State, Count and City had an accidents:"
   ]
  },
  {
   "cell_type": "code",
   "execution_count": 15,
   "id": "0dbe8440",
   "metadata": {},
   "outputs": [
    {
     "data": {
      "text/plain": [
       "49"
      ]
     },
     "execution_count": 15,
     "metadata": {},
     "output_type": "execute_result"
    }
   ],
   "source": [
    "# Number of State \n",
    "state = df.State.unique()\n",
    "len(state)"
   ]
  },
  {
   "cell_type": "code",
   "execution_count": 16,
   "id": "cbd9c97b",
   "metadata": {},
   "outputs": [
    {
     "data": {
      "text/plain": [
       "CA    437156\n",
       "FL    149871\n",
       "OR     85704\n",
       "TX     73282\n",
       "NY     60196\n",
       "MN     51145\n",
       "NC     49353\n",
       "VA     47533\n",
       "PA     41959\n",
       "IL     41588\n",
       "Name: State, dtype: int64"
      ]
     },
     "execution_count": 16,
     "metadata": {},
     "output_type": "execute_result"
    }
   ],
   "source": [
    "# What are the unique 'State' of US where accidents have taken place?\n",
    "state = accident_df['State'].value_counts()\n",
    "state.head(10)"
   ]
  },
  {
   "cell_type": "code",
   "execution_count": 17,
   "id": "17609839",
   "metadata": {},
   "outputs": [
    {
     "data": {
      "text/plain": [
       "<AxesSubplot:>"
      ]
     },
     "execution_count": 17,
     "metadata": {},
     "output_type": "execute_result"
    },
    {
     "data": {
      "image/png": "[encoded data removed]",
      "text/plain": [
       "<Figure size 432x288 with 1 Axes>"
      ]
     },
     "metadata": {
      "needs_background": "light"
     },
     "output_type": "display_data"
    }
   ],
   "source": [
    "state[:10].plot(kind='bar')"
   ]
  },
  {
   "cell_type": "code",
   "execution_count": 18,
   "id": "fa500fb5",
   "metadata": {},
   "outputs": [
    {
     "data": {
      "text/plain": [
       "1671"
      ]
     },
     "execution_count": 18,
     "metadata": {},
     "output_type": "execute_result"
    }
   ],
   "source": [
    "# Number of County \n",
    "county = df.County.unique()\n",
    "len(county)"
   ]
  },
  {
   "cell_type": "code",
   "execution_count": 19,
   "id": "0b76fb8e",
   "metadata": {},
   "outputs": [
    {
     "data": {
      "text/plain": [
       "Los Angeles       134347\n",
       "Orange             49157\n",
       "Miami-Dade         46631\n",
       "San Bernardino     29962\n",
       "San Diego          26325\n",
       "Sacramento         25844\n",
       "Alameda            24695\n",
       "Riverside          24042\n",
       "Mecklenburg        23716\n",
       "Dallas             23662\n",
       "Name: County, dtype: int64"
      ]
     },
     "execution_count": 19,
     "metadata": {},
     "output_type": "execute_result"
    }
   ],
   "source": [
    "# What are the unique 'County' of US where accidents have taken place?\n",
    "county = accident_df['County'].value_counts()\n",
    "county.head(10)"
   ]
  },
  {
   "cell_type": "code",
   "execution_count": 20,
   "id": "08617ac0",
   "metadata": {},
   "outputs": [
    {
     "data": {
      "text/plain": [
       "<AxesSubplot:>"
      ]
     },
     "execution_count": 20,
     "metadata": {},
     "output_type": "execute_result"
    },
    {
     "data": {
      "image/png": "[encoded data removed]",
      "text/plain": [
       "<Figure size 432x288 with 1 Axes>"
      ]
     },
     "metadata": {
      "needs_background": "light"
     },
     "output_type": "display_data"
    }
   ],
   "source": [
    "county[:10].plot(kind='bar')"
   ]
  },
  {
   "cell_type": "code",
   "execution_count": null,
   "id": "ee6fd9e2",
   "metadata": {},
   "outputs": [],
   "source": []
  },
  {
   "cell_type": "code",
   "execution_count": 21,
   "id": "9501b6b7",
   "metadata": {},
   "outputs": [
    {
     "data": {
      "text/plain": [
       "10446"
      ]
     },
     "execution_count": 21,
     "metadata": {},
     "output_type": "execute_result"
    }
   ],
   "source": [
    "# Number of city \n",
    "city = accident_df.City.unique()\n",
    "len(city)"
   ]
  },
  {
   "cell_type": "code",
   "execution_count": 22,
   "id": "b6bd7b3a",
   "metadata": {},
   "outputs": [
    {
     "data": {
      "text/plain": [
       "Los Angeles    39603\n",
       "Miami          35590\n",
       "Charlotte      22136\n",
       "Houston        20570\n",
       "Dallas         19390\n",
       "Sacramento     18364\n",
       "Orlando        15992\n",
       "Portland       14776\n",
       "San Diego      13982\n",
       "Minneapolis    12627\n",
       "Name: City, dtype: int64"
      ]
     },
     "execution_count": 22,
     "metadata": {},
     "output_type": "execute_result"
    }
   ],
   "source": [
    "# What are the unique 'City' of US where accidents have taken place?\n",
    "city = accident_df['City'].value_counts()\n",
    "city.head(10)"
   ]
  },
  {
   "cell_type": "code",
   "execution_count": null,
   "id": "5a4311a4",
   "metadata": {},
   "outputs": [],
   "source": []
  },
  {
   "cell_type": "code",
   "execution_count": 23,
   "id": "f5159ebc",
   "metadata": {},
   "outputs": [
    {
     "data": {
      "text/plain": [
       "<AxesSubplot:>"
      ]
     },
     "execution_count": 23,
     "metadata": {},
     "output_type": "execute_result"
    },
    {
     "data": {
      "image/png": "[encoded data removed]",
      "text/plain": [
       "<Figure size 432x288 with 1 Axes>"
      ]
     },
     "metadata": {
      "needs_background": "light"
     },
     "output_type": "display_data"
    }
   ],
   "source": [
    "city[:10].plot(kind='bar')"
   ]
  },
  {
   "cell_type": "markdown",
   "id": "dfdbb507",
   "metadata": {},
   "source": [
    "## - Show the accidents on US MAP"
   ]
  },
  {
   "cell_type": "code",
   "execution_count": 24,
   "id": "a51e2830",
   "metadata": {},
   "outputs": [
    {
     "data": {
      "text/plain": [
       "(40.10891, -83.09286)"
      ]
     },
     "execution_count": 24,
     "metadata": {},
     "output_type": "execute_result"
    }
   ],
   "source": [
    "lat, lon = accident_df.Start_Lat[0], accident_df.Start_Lng[0]\n",
    "lat, lon "
   ]
  },
  {
   "cell_type": "code",
   "execution_count": 25,
   "id": "2e1dc90f",
   "metadata": {},
   "outputs": [
    {
     "name": "stdout",
     "output_type": "stream",
     "text": [
      "1306231    37.866440\n",
      "1075805    33.873720\n",
      "563350     39.277678\n",
      "347206     33.875064\n",
      "855201     34.036820\n",
      "             ...    \n",
      "854689     34.172140\n",
      "1479654    40.900610\n",
      "815426     37.562210\n",
      "561898     37.295268\n",
      "1285056    33.717520\n",
      "Name: Start_Lat, Length: 100, dtype: float64\n",
      "1306231   -122.038780\n",
      "1075805   -118.232050\n",
      "563350     -77.323526\n",
      "347206     -78.618321\n",
      "855201    -118.377550\n",
      "              ...    \n",
      "854689    -118.570930\n",
      "1479654    -74.134400\n",
      "815426     -77.501720\n",
      "561898    -120.479260\n",
      "1285056    -85.020750\n",
      "Name: Start_Lng, Length: 100, dtype: float64\n"
     ]
    }
   ],
   "source": [
    "for x in df[['Start_Lat', 'Start_Lng']].sample(100).iteritems():\n",
    "    print(x[1])"
   ]
  },
  {
   "cell_type": "code",
   "execution_count": 26,
   "id": "d7ae169d",
   "metadata": {},
   "outputs": [
    {
     "data": {
      "text/plain": [
       "<zip at 0x7ff49eb6a940>"
      ]
     },
     "execution_count": 26,
     "metadata": {},
     "output_type": "execute_result"
    }
   ],
   "source": [
    "zip(list(df.Start_Lat), list(df.Start_Lng))"
   ]
  },
  {
   "cell_type": "code",
   "execution_count": 27,
   "id": "a81dac6d",
   "metadata": {},
   "outputs": [],
   "source": [
    "sample_df = df.sample(int(0.001 * len(df)))\n",
    "lat_lon_pairs = list(zip(list(sample_df.Start_Lat), list(sample_df.Start_Lng)))"
   ]
  },
  {
   "cell_type": "code",
   "execution_count": 28,
   "id": "2af00e7d",
   "metadata": {},
   "outputs": [
    {
     "data": {
      "text/html": [
       "<div style=\"width:100%;\"><div style=\"position:relative;width:100%;height:0;padding-bottom:60%;\"><span style=\"color:#565656\">Make this Notebook Trusted to load map: File -> Trust Notebook</span><iframe src=\"about:blank\" style=\"position:absolute;width:100%;height:100%;left:0;top:0;border:none !important;\" data-html=%3C%21DOCTYPE%20html%3E%0A%3Chead%3E%20%20%20%20%0A%20%20%20%20%3Cmeta%20http-equiv%3D%22content-type%22%20content%3D%22text/html%3B%20charset%3DUTF-8%22%20/%3E%0A%20%20%20%20%0A%20%20%20%20%20%20%20%20%3Cscript%3E%0A%20%20%20%20%20%20%20%20%20%20%20%20L_NO_TOUCH%20%3D%20false%3B%0A%20%20%20%20%20%20%20%20%20%20%20%20L_DISABLE_3D%20%3D%20false%3B%0A%20%20%20%20%20%20%20%20%3C/script%3E%0A%20%20%20%20%0A%20%20%20%20%3Cstyle%3Ehtml%2C%20body%20%7Bwidth%3A%20100%25%3Bheight%3A%20100%25%3Bmargin%3A%200%3Bpadding%3A%200%3B%7D%3C/style%3E%0A%20%20%20%20%3Cstyle%3E%23map%20%7Bposition%3Aabsolute%3Btop%3A0%3Bbottom%3A0%3Bright%3A0%3Bleft%3A0%3B%7D%3C/style%3E%0A%20%20%20%20%3Cscript%20src%3D%22https%3A//cdn.jsdelivr.net/npm/leaflet%401.6.0/dist/leaflet.js%22%3E%3C/script%3E%0A%20%20%20%20%3Cscript%20src%3D%22https%3A//code.jquery.com/jquery-1.12.4.min.js%22%3E%3C/script%3E%0A%20%20%20%20%3Cscript%20src%3D%22https%3A//maxcdn.bootstrapcdn.com/bootstrap/3.2.0/js/bootstrap.min.js%22%3E%3C/script%3E%0A%20%20%20%20%3Cscript%20src%3D%22https%3A//cdnjs.cloudflare.com/ajax/libs/Leaflet.awesome-markers/2.0.2/leaflet.awesome-markers.js%22%3E%3C/script%3E%0A%20%20%20%20%3Clink%20rel%3D%22stylesheet%22%20href%3D%22https%3A//cdn.jsdelivr.net/npm/leaflet%401.6.0/dist/leaflet.css%22/%3E%0A%20%20%20%20%3Clink%20rel%3D%22stylesheet%22%20href%3D%22https%3A//maxcdn.bootstrapcdn.com/bootstrap/3.2.0/css/bootstrap.min.css%22/%3E%0A%20%20%20%20%3Clink%20rel%3D%22stylesheet%22%20href%3D%22https%3A//maxcdn.bootstrapcdn.com/bootstrap/3.2.0/css/bootstrap-theme.min.css%22/%3E%0A%20%20%20%20%3Clink%20rel%3D%22stylesheet%22%20href%3D%22https%3A//maxcdn.bootstrapcdn.com/font-awesome/4.6.3/css/font-awesome.min.css%22/%3E%0A%20%20%20%20%3Clink%20rel%3D%22stylesheet%22%20href%3D%22https%3A//cdnjs.cloudflare.com/ajax/libs/Leaflet.awesome-markers/2.0.2/leaflet.awesome-markers.css%22/%3E%0A%20%20%20%20%3Clink%20rel%3D%22stylesheet%22%20href%3D%22https%3A//cdn.jsdelivr.net/gh/python-visualization/folium/folium/templates/leaflet.awesome.rotate.min.css%22/%3E%0A%20%20%20%20%0A%20%20%20%20%20%20%20%20%20%20%20%20%3Cmeta%20name%3D%22viewport%22%20content%3D%22width%3Ddevice-width%2C%0A%20%20%20%20%20%20%20%20%20%20%20%20%20%20%20%20initial-scale%3D1.0%2C%20maximum-scale%3D1.0%2C%20user-scalable%3Dno%22%20/%3E%0A%20%20%20%20%20%20%20%20%20%20%20%20%3Cstyle%3E%0A%20%20%20%20%20%20%20%20%20%20%20%20%20%20%20%20%23map_d3126a693f0b4ef883fea3ecea18e2cc%20%7B%0A%20%20%20%20%20%20%20%20%20%20%20%20%20%20%20%20%20%20%20%20position%3A%20relative%3B%0A%20%20%20%20%20%20%20%20%20%20%20%20%20%20%20%20%20%20%20%20width%3A%20100.0%25%3B%0A%20%20%20%20%20%20%20%20%20%20%20%20%20%20%20%20%20%20%20%20height%3A%20100.0%25%3B%0A%20%20%20%20%20%20%20%20%20%20%20%20%20%20%20%20%20%20%20%20left%3A%200.0%25%3B%0A%20%20%20%20%20%20%20%20%20%20%20%20%20%20%20%20%20%20%20%20top%3A%200.0%25%3B%0A%20%20%20%20%20%20%20%20%20%20%20%20%20%20%20%20%7D%0A%20%20%20%20%20%20%20%20%20%20%20%20%3C/style%3E%0A%20%20%20%20%20%20%20%20%0A%20%20%20%20%3Cscript%20src%3D%22https%3A//cdn.jsdelivr.net/gh/python-visualization/folium%40master/folium/templates/leaflet_heat.min.js%22%3E%3C/script%3E%0A%3C/head%3E%0A%3Cbody%3E%20%20%20%20%0A%20%20%20%20%0A%20%20%20%20%20%20%20%20%20%20%20%20%3Cdiv%20class%3D%22folium-map%22%20id%3D%22map_d3126a693f0b4ef883fea3ecea18e2cc%22%20%3E%3C/div%3E%0A%20%20%20%20%20%20%20%20%0A%3C/body%3E%0A%3Cscript%3E%20%20%20%20%0A%20%20%20%20%0A%20%20%20%20%20%20%20%20%20%20%20%20var%20map_d3126a693f0b4ef883fea3ecea18e2cc%20%3D%20L.map%28%0A%20%20%20%20%20%20%20%20%20%20%20%20%20%20%20%20%22map_d3126a693f0b4ef883fea3ecea18e2cc%22%2C%0A%20%20%20%20%20%20%20%20%20%20%20%20%20%20%20%20%7B%0A%20%20%20%20%20%20%20%20%20%20%20%20%20%20%20%20%20%20%20%20center%3A%20%5B0%2C%200%5D%2C%0A%20%20%20%20%20%20%20%20%20%20%20%20%20%20%20%20%20%20%20%20crs%3A%20L.CRS.EPSG3857%2C%0A%20%20%20%20%20%20%20%20%20%20%20%20%20%20%20%20%20%20%20%20zoom%3A%201%2C%0A%20%20%20%20%20%20%20%20%20%20%20%20%20%20%20%20%20%20%20%20zoomControl%3A%20true%2C%0A%20%20%20%20%20%20%20%20%20%20%20%20%20%20%20%20%20%20%20%20preferCanvas%3A%20false%2C%0A%20%20%20%20%20%20%20%20%20%20%20%20%20%20%20%20%7D%0A%20%20%20%20%20%20%20%20%20%20%20%20%29%3B%0A%0A%20%20%20%20%20%20%20%20%20%20%20%20%0A%0A%20%20%20%20%20%20%20%20%0A%20%20%20%20%0A%20%20%20%20%20%20%20%20%20%20%20%20var%20tile_layer_9ca648a166f2475f92171f6fba617272%20%3D%20L.tileLayer%28%0A%20%20%20%20%20%20%20%20%20%20%20%20%20%20%20%20%22https%3A//%7Bs%7D.tile.openstreetmap.org/%7Bz%7D/%7Bx%7D/%7By%7D.png%22%2C%0A%20%20%20%20%20%20%20%20%20%20%20%20%20%20%20%20%7B%22attribution%22%3A%20%22Data%20by%20%5Cu0026copy%3B%20%5Cu003ca%20href%3D%5C%22http%3A//openstreetmap.org%5C%22%5Cu003eOpenStreetMap%5Cu003c/a%5Cu003e%2C%20under%20%5Cu003ca%20href%3D%5C%22http%3A//www.openstreetmap.org/copyright%5C%22%5Cu003eODbL%5Cu003c/a%5Cu003e.%22%2C%20%22detectRetina%22%3A%20false%2C%20%22maxNativeZoom%22%3A%2018%2C%20%22maxZoom%22%3A%2018%2C%20%22minZoom%22%3A%200%2C%20%22noWrap%22%3A%20false%2C%20%22opacity%22%3A%201%2C%20%22subdomains%22%3A%20%22abc%22%2C%20%22tms%22%3A%20false%7D%0A%20%20%20%20%20%20%20%20%20%20%20%20%29.addTo%28map_d3126a693f0b4ef883fea3ecea18e2cc%29%3B%0A%20%20%20%20%20%20%20%20%0A%20%20%20%20%0A%20%20%20%20%20%20%20%20%20%20%20%20var%20heat_map_b8f72cfb737549858fac6237f44cf16c%20%3D%20L.heatLayer%28%0A%20%20%20%20%20%20%20%20%20%20%20%20%20%20%20%20%5B%5B39.11814%2C%20-77.19507%5D%2C%20%5B37.2519%2C%20-121.93744%5D%2C%20%5B37.84259%2C%20-122.29759%5D%2C%20%5B40.87632%2C%20-73.87061%5D%2C%20%5B37.784351%2C%20-122.18786%5D%2C%20%5B33.660483%2C%20-117.747926%5D%2C%20%5B35.23278%2C%20-80.80782%5D%2C%20%5B40.64236%2C%20-74.14205%5D%2C%20%5B40.49598%2C%20-79.911342%5D%2C%20%5B42.39178%2C%20-122.48541%5D%2C%20%5B33.74981%2C%20-84.23133%5D%2C%20%5B42.421764%2C%20-82.931016%5D%2C%20%5B25.956285%2C%20-80.191964%5D%2C%20%5B44.81463%2C%20-93.39813%5D%2C%20%5B34.949201%2C%20-82.039816%5D%2C%20%5B34.03238%2C%20-118.02915%5D%2C%20%5B34.07414%2C%20-117.54468%5D%2C%20%5B34.7469%2C%20-92.36704%5D%2C%20%5B35.34153%2C%20-80.76771%5D%2C%20%5B34.067439%2C%20-117.9819%5D%2C%20%5B39.232135%2C%20-76.97405%5D%2C%20%5B34.056062%2C%20-117.546582%5D%2C%20%5B45.63272%2C%20-93.98556%5D%2C%20%5B48.254862%2C%20-114.293143%5D%2C%20%5B37.604973%2C%20-122.384314%5D%2C%20%5B32.44451%2C%20-93.95471%5D%2C%20%5B27.89387%2C%20-82.67562%5D%2C%20%5B45.174234%2C%20-93.122586%5D%2C%20%5B47.814078%2C%20-122.140392%5D%2C%20%5B39.7256%2C%20-104.82461%5D%2C%20%5B44.231653%2C%20-121.203627%5D%2C%20%5B36.07085%2C%20-79.15462%5D%2C%20%5B34.22049%2C%20-118.35739%5D%2C%20%5B33.39282%2C%20-111.89202%5D%2C%20%5B29.824243%2C%20-95.379942%5D%2C%20%5B38.198059%2C%20-79.115622%5D%2C%20%5B37.747407%2C%20-122.202233%5D%2C%20%5B42.01835%2C%20-88.23614%5D%2C%20%5B46.636651%2C%20-114.581662%5D%2C%20%5B42.26525%2C%20-71.56425%5D%2C%20%5B29.702261%2C%20-95.376555%5D%2C%20%5B45.198386%2C%20-123.05892%5D%2C%20%5B47.18106%2C%20-122.46507%5D%2C%20%5B40.069984%2C%20-74.867024%5D%2C%20%5B42.206015%2C%20-123.649766%5D%2C%20%5B34.067498%2C%20-117.593516%5D%2C%20%5B36.190897%2C%20-86.788868%5D%2C%20%5B28.66436%2C%20-81.38872%5D%2C%20%5B45.431288%2C%20-118.360744%5D%2C%20%5B34.11957%2C%20-117.76607%5D%2C%20%5B44.649625%2C%20-90.150335%5D%2C%20%5B40.71735%2C%20-111.83634%5D%2C%20%5B34.270278%2C%20-119.223056%5D%2C%20%5B40.7356%2C%20-73.26249%5D%2C%20%5B39.01374%2C%20-77.05084%5D%2C%20%5B33.46213%2C%20-112.05922%5D%2C%20%5B25.731815%2C%20-80.318244%5D%2C%20%5B26.51991%2C%20-80.0727%5D%2C%20%5B33.98262%2C%20-81.10708%5D%2C%20%5B28.206101%2C%20-82.679369%5D%2C%20%5B33.812077%2C%20-118.139179%5D%2C%20%5B33.927372%2C%20-84.35796%5D%2C%20%5B39.324889%2C%20-76.74482%5D%2C%20%5B35.28978%2C%20-80.732661%5D%2C%20%5B39.89759%2C%20-84.18781%5D%2C%20%5B37.02606%2C%20-113.60644%5D%2C%20%5B35.30505%2C%20-80.85837%5D%2C%20%5B33.94506%2C%20-118.094733%5D%2C%20%5B37.31793%2C%20-121.97919%5D%2C%20%5B34.196888%2C%20-118.859163%5D%2C%20%5B33.886337%2C%20-118.19007%5D%2C%20%5B38.0692%2C%20-122.18318%5D%2C%20%5B34.024717%2C%20-117.541766%5D%2C%20%5B40.73098%2C%20-73.87383%5D%2C%20%5B38.673888%2C%20-121.723994%5D%2C%20%5B44.072082%2C%20-121.302229%5D%2C%20%5B40.734873%2C%20-73.936612%5D%2C%20%5B37.82216%2C%20-122.32819%5D%2C%20%5B37.376031%2C%20-121.938418%5D%2C%20%5B39.03464%2C%20-104.78478%5D%2C%20%5B37.598036%2C%20-122.060583%5D%2C%20%5B34.221435%2C%20-118.467713%5D%2C%20%5B42.4647%2C%20-87.88151%5D%2C%20%5B42.42202%2C%20-123.20674%5D%2C%20%5B33.859753%2C%20-118.309149%5D%2C%20%5B40.097084%2C%20-74.086669%5D%2C%20%5B35.292082%2C%20-80.856397%5D%2C%20%5B31.80738%2C%20-106.26002%5D%2C%20%5B35.13886%2C%20-80.73894%5D%2C%20%5B37.708549%2C%20-122.163662%5D%2C%20%5B46.847348%2C%20-96.720387%5D%2C%20%5B34.07239%2C%20-117.92249%5D%2C%20%5B34.023685%2C%20-117.557618%5D%2C%20%5B39.71871%2C%20-75.55453%5D%2C%20%5B26.16468%2C%20-80.22707%5D%2C%20%5B40.29372%2C%20-75.376714%5D%2C%20%5B36.167509%2C%20-115.101466%5D%2C%20%5B45.5264%2C%20-122.49642%5D%2C%20%5B33.89786%2C%20-84.2672%5D%2C%20%5B28.45131%2C%20-81.230329%5D%2C%20%5B34.26034%2C%20-118.43873%5D%2C%20%5B25.780416%2C%20-80.312021%5D%2C%20%5B33.504213%2C%20-117.152763%5D%2C%20%5B39.874759%2C%20-75.096627%5D%2C%20%5B45.983174%2C%20-92.951702%5D%2C%20%5B41.5749%2C%20-87.27062%5D%2C%20%5B44.86071%2C%20-93.4206%5D%2C%20%5B45.400838%2C%20-92.652663%5D%2C%20%5B46.028602%2C%20-123.243977%5D%2C%20%5B45.62356%2C%20-123.37594%5D%2C%20%5B38.090842%2C%20-122.227589%5D%2C%20%5B26.877011%2C%20-80.124589%5D%2C%20%5B36.44344%2C%20-120.40084%5D%2C%20%5B30.00859%2C%20-90.2265%5D%2C%20%5B29.43706%2C%20-98.50403%5D%2C%20%5B32.66988%2C%20-96.93186%5D%2C%20%5B34.02225%2C%20-117.55438%5D%2C%20%5B42.37077%2C%20-87.89785%5D%2C%20%5B41.22337%2C%20-95.95162%5D%2C%20%5B28.12089%2C%20-82.374962%5D%2C%20%5B34.39244%2C%20-81.10208%5D%2C%20%5B40.76087%2C%20-73.75463%5D%2C%20%5B34.27262%2C%20-118.55966%5D%2C%20%5B35.89536%2C%20-87.63936%5D%2C%20%5B40.32155%2C%20-111.72684%5D%2C%20%5B38.93656%2C%20-94.45114%5D%2C%20%5B47.56575%2C%20-122.33939%5D%2C%20%5B42.02382%2C%20-72.58959%5D%2C%20%5B25.718618%2C%20-80.294104%5D%2C%20%5B41.455912%2C%20-73.670605%5D%2C%20%5B30.087468%2C%20-81.497649%5D%2C%20%5B43.09451%2C%20-123.36803%5D%2C%20%5B34.02537%2C%20-118.42875%5D%2C%20%5B48.78678%2C%20-122.51106%5D%2C%20%5B32.879998%2C%20-96.770278%5D%2C%20%5B40.00533%2C%20-75.70595%5D%2C%20%5B25.84664%2C%20-80.20714%5D%2C%20%5B39.41195%2C%20-74.55411%5D%2C%20%5B39.198494%2C%20-121.026674%5D%2C%20%5B42.47628%2C%20-88.10543%5D%2C%20%5B38.52492%2C%20-121.46779%5D%2C%20%5B30.627622%2C%20-84.669452%5D%2C%20%5B31.799771%2C%20-85.983709%5D%2C%20%5B37.671293%2C%20-118.937076%5D%2C%20%5B35.838571%2C%20-78.571203%5D%2C%20%5B32.77311%2C%20-96.81156%5D%2C%20%5B40.65483%2C%20-111.88834%5D%2C%20%5B38.79503%2C%20-77.01628%5D%2C%20%5B32.32316%2C%20-111.02806%5D%2C%20%5B42.563203%2C%20-112.177885%5D%2C%20%5B29.77418%2C%20-95.31046%5D%2C%20%5B36.171487%2C%20-86.798976%5D%2C%20%5B41.161678%2C%20-112.035333%5D%2C%20%5B40.786049%2C%20-73.787769%5D%2C%20%5B40.464195%2C%20-79.999728%5D%2C%20%5B34.07288%2C%20-117.776%5D%2C%20%5B26.421556%2C%20-81.77375%5D%2C%20%5B33.807782%2C%20-118.284465%5D%2C%20%5B41.98155%2C%20-87.65242%5D%2C%20%5B43.165636%2C%20-77.579183%5D%2C%20%5B32.88421%2C%20-96.69716%5D%2C%20%5B33.98347%2C%20-117.366546%5D%2C%20%5B44.948201%2C%20-93.079983%5D%2C%20%5B33.576025%2C%20-117.134626%5D%2C%20%5B39.01356%2C%20-77.04447%5D%2C%20%5B38.502265%2C%20-90.326695%5D%2C%20%5B33.59349%2C%20-117.24251%5D%2C%20%5B32.689236%2C%20-117.09396%5D%2C%20%5B34.18756%2C%20-118.93386%5D%2C%20%5B25.940932%2C%20-80.30678%5D%2C%20%5B28.650743%2C%20-82.44696%5D%2C%20%5B31.781342%2C%20-106.414742%5D%2C%20%5B33.050984%2C%20-96.697422%5D%2C%20%5B39.06307%2C%20-94.48071%5D%2C%20%5B27.81399%2C%20-82.771%5D%2C%20%5B25.597572%2C%20-80.381932%5D%2C%20%5B41.23413%2C%20-73.20071%5D%2C%20%5B37.374689%2C%20-121.932211%5D%2C%20%5B39.06426%2C%20-77.12612%5D%2C%20%5B30.507155%2C%20-87.161847%5D%2C%20%5B34.110419%2C%20-118.334407%5D%2C%20%5B39.838332%2C%20-104.98351%5D%2C%20%5B34.736033%2C%20-86.609947%5D%2C%20%5B33.81412%2C%20-118.17021%5D%2C%20%5B35.2286%2C%20-80.82891%5D%2C%20%5B46.528573%2C%20-67.903005%5D%2C%20%5B25.881615%2C%20-80.209262%5D%2C%20%5B33.92548%2C%20-84.18184%5D%2C%20%5B40.667342%2C%20-111.90153%5D%2C%20%5B35.983818%2C%20-119.960622%5D%2C%20%5B28.371022%2C%20-80.802136%5D%2C%20%5B41.87329%2C%20-87.79962%5D%2C%20%5B37.461072%2C%20-77.425407%5D%2C%20%5B34.143338%2C%20-81.232405%5D%2C%20%5B36.148133%2C%20-86.625744%5D%2C%20%5B26.331485%2C%20-81.750114%5D%2C%20%5B39.15928%2C%20-84.56345%5D%2C%20%5B33.030223%2C%20-117.232517%5D%2C%20%5B34.39054%2C%20-118.47588%5D%2C%20%5B40.217117%2C%20-75.246852%5D%2C%20%5B42.264233%2C%20-88.17946%5D%2C%20%5B43.614456%2C%20-116.354484%5D%2C%20%5B40.82539%2C%20-73.33865%5D%2C%20%5B33.673564%2C%20-117.886115%5D%2C%20%5B34.06521%2C%20-84.27355%5D%2C%20%5B42.811%2C%20-83.56827%5D%2C%20%5B34.1188%2C%20-83.75777%5D%2C%20%5B34.075389%2C%20-118.275278%5D%2C%20%5B41.82255%2C%20-72.66621%5D%2C%20%5B30.308972%2C%20-81.770457%5D%2C%20%5B39.93889%2C%20-74.97187%5D%2C%20%5B44.903741%2C%20-112.821879%5D%2C%20%5B41.78475%2C%20-88.03735%5D%2C%20%5B38.70439%2C%20-121.313119%5D%2C%20%5B34.324188%2C%20-118.501557%5D%2C%20%5B39.466913%2C%20-76.661599%5D%2C%20%5B34.119061%2C%20-118.152304%5D%2C%20%5B28.547834%2C%20-81.475886%5D%2C%20%5B42.868487%2C%20-73.806771%5D%2C%20%5B38.667086%2C%20-77.271299%5D%2C%20%5B37.348604%2C%20-77.356765%5D%2C%20%5B47.951877%2C%20-122.102109%5D%2C%20%5B34.30577%2C%20-118.48217%5D%2C%20%5B25.570268%2C%20-80.341498%5D%2C%20%5B42.527002%2C%20-88.976435%5D%2C%20%5B33.997589%2C%20-118.068341%5D%2C%20%5B25.608504%2C%20-80.349403%5D%2C%20%5B40.6944%2C%20-73.811892%5D%2C%20%5B42.90553%2C%20-71.36547%5D%2C%20%5B37.996773%2C%20-121.789698%5D%2C%20%5B34.571909%2C%20-118.690623%5D%2C%20%5B34.006742%2C%20-117.826647%5D%2C%20%5B45.201131%2C%20-122.93944%5D%2C%20%5B26.980812%2C%20-82.096933%5D%2C%20%5B40.238839%2C%20-75.615509%5D%2C%20%5B32.7582%2C%20-96.80943%5D%2C%20%5B33.877203%2C%20-118.144958%5D%2C%20%5B34.07174%2C%20-117.8772%5D%2C%20%5B25.626078%2C%20-80.418627%5D%2C%20%5B40.281361%2C%20-80.162247%5D%2C%20%5B33.719884%2C%20-84.50249%5D%2C%20%5B45.141373%2C%20-93.391953%5D%2C%20%5B42.48764%2C%20-83.23029%5D%2C%20%5B30.258104%2C%20-95.45671%5D%2C%20%5B34.05729%2C%20-117.80391%5D%2C%20%5B43.613129%2C%20-118.728098%5D%2C%20%5B45.90122%2C%20-123.86716%5D%2C%20%5B38.881784%2C%20-77.060197%5D%2C%20%5B34.22789%2C%20-118.39117%5D%2C%20%5B36.139%2C%20-86.733023%5D%2C%20%5B33.89199%2C%20-117.27254%5D%2C%20%5B32.72109%2C%20-117.11701%5D%2C%20%5B43.14442%2C%20-88.05472%5D%2C%20%5B39.988245%2C%20-86.403992%5D%2C%20%5B34.068667%2C%20-117.366104%5D%2C%20%5B34.136275%2C%20-117.427978%5D%2C%20%5B35.079626%2C%20-85.189979%5D%2C%20%5B28.259828%2C%20-81.589372%5D%2C%20%5B40.659874%2C%20-74.436353%5D%2C%20%5B39.70026%2C%20-77.77609%5D%2C%20%5B26.06448%2C%20-80.25207%5D%2C%20%5B34.1486%2C%20-118.07299%5D%2C%20%5B32.67624%2C%20-97.1825%5D%2C%20%5B37.456739%2C%20-79.120499%5D%2C%20%5B32.99296%2C%20-96.7099%5D%2C%20%5B34.446548%2C%20-118.611005%5D%2C%20%5B35.90485%2C%20-78.97115%5D%2C%20%5B28.333001%2C%20-81.495813%5D%2C%20%5B38.19128%2C%20-121.086265%5D%2C%20%5B42.385408%2C%20-83.147334%5D%2C%20%5B40.02814%2C%20-75.024%5D%2C%20%5B32.725392%2C%20-117.074009%5D%2C%20%5B36.255345%2C%20-120.103552%5D%2C%20%5B37.14907%2C%20-121.64895%5D%2C%20%5B36.86761%2C%20-76.42731%5D%2C%20%5B34.998211%2C%20-85.28275%5D%2C%20%5B34.216588%2C%20-118.47336%5D%2C%20%5B34.89892%2C%20-82.333194%5D%2C%20%5B35.239781%2C%20-80.971785%5D%2C%20%5B34.067562%2C%20-117.563635%5D%2C%20%5B33.027235%2C%20-116.562857%5D%2C%20%5B45.50987%2C%20-122.43474%5D%2C%20%5B34.113102%2C%20-117.199874%5D%2C%20%5B33.877083%2C%20-118.154922%5D%2C%20%5B35.017569%2C%20-85.206116%5D%2C%20%5B38.559039%2C%20-121.476892%5D%2C%20%5B39.63452%2C%20-86.20531%5D%2C%20%5B37.73929%2C%20-122.19505%5D%2C%20%5B41.889024%2C%20-79.340134%5D%2C%20%5B37.58125%2C%20-122.32541%5D%2C%20%5B34.31808%2C%20-110.24755%5D%2C%20%5B36.932852%2C%20-76.266209%5D%2C%20%5B29.751791%2C%20-95.265487%5D%2C%20%5B40.638845%2C%20-78.650891%5D%2C%20%5B36.065352%2C%20-86.621991%5D%2C%20%5B35.105757%2C%20-111.725308%5D%2C%20%5B35.14841%2C%20-80.83092%5D%2C%20%5B33.6343%2C%20-91.8018%5D%2C%20%5B36.740253%2C%20-119.812625%5D%2C%20%5B38.84483%2C%20-77.43826%5D%2C%20%5B38.00369%2C%20-122.53933%5D%2C%20%5B39.48521%2C%20-80.096547%5D%2C%20%5B33.979221%2C%20-118.2806%5D%2C%20%5B36.72738%2C%20-121.65852%5D%2C%20%5B42.43918%2C%20-87.85478%5D%2C%20%5B40.85306%2C%20-73.960111%5D%2C%20%5B34.121559%2C%20-117.696732%5D%2C%20%5B36.01774%2C%20-86.6244%5D%2C%20%5B39.03039%2C%20-76.85348%5D%2C%20%5B28.547192%2C%20-81.223506%5D%2C%20%5B38.6293%2C%20-90.32311%5D%2C%20%5B32.8273%2C%20-96.62285%5D%2C%20%5B39.03473%2C%20-94.68575%5D%2C%20%5B28.597531%2C%20-81.224471%5D%2C%20%5B37.707%2C%20-122.161794%5D%2C%20%5B38.59303%2C%20-122.84958%5D%2C%20%5B33.155026%2C%20-80.064409%5D%2C%20%5B33.996505%2C%20-117.36476%5D%2C%20%5B41.1287%2C%20-73.29971%5D%2C%20%5B34.152128%2C%20-118.121459%5D%2C%20%5B32.767291%2C%20-96.873953%5D%2C%20%5B37.311036%2C%20-80.062162%5D%2C%20%5B29.76807%2C%20-95.35602%5D%2C%20%5B37.097535%2C%20-120.924447%5D%2C%20%5B33.740811%2C%20-117.833808%5D%2C%20%5B38.45599%2C%20-121.40527%5D%2C%20%5B41.88681%2C%20-87.92041%5D%2C%20%5B33.879259%2C%20-84.271906%5D%2C%20%5B38.31668%2C%20-85.58805%5D%2C%20%5B27.9815%2C%20-82.40169%5D%2C%20%5B45.57235%2C%20-122.67877%5D%2C%20%5B34.482253%2C%20-82.559927%5D%2C%20%5B39.8993%2C%20-104.98796%5D%2C%20%5B41.80955%2C%20-87.99526%5D%2C%20%5B33.82701%2C%20-117.52586%5D%2C%20%5B41.42052%2C%20-81.7967%5D%2C%20%5B40.1679%2C%20-76.39939%5D%2C%20%5B32.759538%2C%20-117.182691%5D%2C%20%5B32.50014%2C%20-93.75186%5D%2C%20%5B34.017867%2C%20-118.052654%5D%2C%20%5B33.49011%2C%20-117.14395%5D%2C%20%5B47.92294%2C%20-122.81368%5D%2C%20%5B30.408278%2C%20-84.159468%5D%2C%20%5B26.15146%2C%20-80.33836%5D%2C%20%5B37.715206%2C%20-122.172632%5D%2C%20%5B40.459996%2C%20-74.278592%5D%2C%20%5B34.471462%2C%20-120.182309%5D%2C%20%5B38.92817%2C%20-104.81323%5D%2C%20%5B42.64684%2C%20-73.71111%5D%2C%20%5B41.58461%2C%20-87.23495%5D%2C%20%5B29.753066%2C%20-82.493434%5D%2C%20%5B32.48165%2C%20-84.98775%5D%2C%20%5B44.370767%2C%20-98.229404%5D%2C%20%5B29.10097%2C%20-82.45047%5D%2C%20%5B32.90118%2C%20-80.02219%5D%2C%20%5B45.823776%2C%20-111.269165%5D%2C%20%5B29.730785%2C%20-95.38053%5D%2C%20%5B38.373018%2C%20-121.358499%5D%2C%20%5B33.940962%2C%20-117.268717%5D%2C%20%5B40.85306%2C%20-73.96011%5D%2C%20%5B26.30023%2C%20-80.19618%5D%2C%20%5B34.272584%2C%20-118.449158%5D%2C%20%5B33.577791%2C%20-86.006695%5D%2C%20%5B47.045248%2C%20-123.262664%5D%2C%20%5B37.82506%2C%20-122.31199%5D%2C%20%5B40.66575%2C%20-73.83233%5D%2C%20%5B35.29518%2C%20-80.975956%5D%2C%20%5B38.729262%2C%20-121.297663%5D%2C%20%5B33.7162%2C%20-84.398391%5D%2C%20%5B45.07563%2C%20-93.18549%5D%2C%20%5B33.42747%2C%20-117.14899%5D%2C%20%5B39.16568%2C%20-76.73494%5D%2C%20%5B38.350536%2C%20-78.691807%5D%2C%20%5B37.317951%2C%20-79.443106%5D%2C%20%5B42.40631%2C%20-82.95625%5D%2C%20%5B42.80612%2C%20-86.10298%5D%2C%20%5B38.343268%2C%20-121.335751%5D%2C%20%5B40.75448%2C%20-74.19774%5D%2C%20%5B45.068829%2C%20-93.262875%5D%2C%20%5B33.436521%2C%20-112.246194%5D%2C%20%5B40.73195%2C%20-83.93198%5D%2C%20%5B31.90021%2C%20-96.72039%5D%2C%20%5B32.38603%2C%20-86.32205%5D%2C%20%5B38.60996%2C%20-90.45151%5D%2C%20%5B37.548061%2C%20-122.291318%5D%2C%20%5B33.866112%2C%20-117.998024%5D%2C%20%5B42.41854%2C%20-123.36695%5D%2C%20%5B38.120225%2C%20-84.60199%5D%2C%20%5B30.00989%2C%20-90.02086%5D%2C%20%5B35.37501%2C%20-118.949791%5D%2C%20%5B37.881746%2C%20-122.307966%5D%2C%20%5B33.33358%2C%20-111.89242%5D%2C%20%5B30.631977%2C%20-81.601299%5D%2C%20%5B45.48303%2C%20-117.41251%5D%2C%20%5B34.055434%2C%20-118.240423%5D%2C%20%5B45.50859%2C%20-122.77801%5D%2C%20%5B41.330555%2C%20-73.817878%5D%2C%20%5B26.120732%2C%20-80.261154%5D%2C%20%5B36.17603%2C%20-86.8007%5D%2C%20%5B33.92585%2C%20-118.30867%5D%2C%20%5B32.692791%2C%20-117.094784%5D%2C%20%5B25.762003%2C%20-80.339449%5D%2C%20%5B30.370031%2C%20-91.061677%5D%2C%20%5B40.853061%2C%20-73.83561%5D%2C%20%5B38.18999%2C%20-85.76674%5D%2C%20%5B39.264081%2C%20-76.589395%5D%2C%20%5B40.76208%2C%20-73.83781%5D%2C%20%5B30.50394%2C%20-90.50378%5D%2C%20%5B33.88901%2C%20-117.880695%5D%2C%20%5B45.251107%2C%20-123.848114%5D%2C%20%5B40.90209%2C%20-74.13319%5D%2C%20%5B39.08927%2C%20-84.5227%5D%2C%20%5B47.047668%2C%20-122.820361%5D%2C%20%5B40.83311%2C%20-73.931581%5D%2C%20%5B35.53652%2C%20-78.25357%5D%2C%20%5B28.2171%2C%20-82.72876%5D%2C%20%5B43.635739%2C%20-123.21735%5D%2C%20%5B33.967222%2C%20-118.083234%5D%2C%20%5B40.75292%2C%20-74.19441%5D%2C%20%5B36.284333%2C%20-119.260905%5D%2C%20%5B34.061094%2C%20-117.396424%5D%2C%20%5B40.037426%2C%20-76.310556%5D%2C%20%5B40.591596%2C%20-111.901899%5D%2C%20%5B39.798327%2C%20-86.111408%5D%2C%20%5B39.395396%2C%20-77.421916%5D%2C%20%5B40.097049%2C%20-76.352587%5D%2C%20%5B38.3657%2C%20-85.75495%5D%2C%20%5B39.824913%2C%20-104.966346%5D%2C%20%5B46.70676%2C%20-95.69244%5D%2C%20%5B37.29176%2C%20-121.87164%5D%2C%20%5B43.597172%2C%20-116.347349%5D%2C%20%5B33.87976%2C%20-117.60656%5D%2C%20%5B39.88341%2C%20-75.10282%5D%2C%20%5B38.95243%2C%20-76.86225%5D%2C%20%5B42.153713%2C%20-88.03003%5D%2C%20%5B39.013427%2C%20-77.038789%5D%2C%20%5B34.790711%2C%20-118.872028%5D%2C%20%5B34.81516%2C%20-82.44137%5D%2C%20%5B48.300265%2C%20-113.379968%5D%2C%20%5B33.559343%2C%20-117.672864%5D%2C%20%5B41.8424%2C%20-87.63065%5D%2C%20%5B40.903161%2C%20-74.092472%5D%2C%20%5B35.83721%2C%20-78.61319%5D%2C%20%5B35.689848%2C%20-78.838931%5D%2C%20%5B44.674955%2C%20-118.239897%5D%2C%20%5B41.19101%2C%20-112.04792%5D%2C%20%5B43.226699%2C%20-123.360998%5D%2C%20%5B30.479772%2C%20-91.115002%5D%2C%20%5B29.659686%2C%20-82.427761%5D%2C%20%5B28.95749%2C%20-81.25714%5D%2C%20%5B30.052038%2C%20-95.629624%5D%2C%20%5B47.634639%2C%20-122.6289%5D%2C%20%5B34.293018%2C%20-118.848778%5D%2C%20%5B37.822692%2C%20-122.3201%5D%2C%20%5B40.013915%2C%20-122.402205%5D%2C%20%5B25.769466%2C%20-80.338159%5D%2C%20%5B28.506035%2C%20-81.330964%5D%2C%20%5B30.25182%2C%20-81.45936%5D%2C%20%5B28.407493%2C%20-81.40349%5D%2C%20%5B36.736888%2C%20-119.663971%5D%2C%20%5B40.54997%2C%20-74.15083%5D%2C%20%5B45.04412%2C%20-117.93615%5D%2C%20%5B45.5103%2C%20-93.001295%5D%2C%20%5B39.072335%2C%20-121.540827%5D%2C%20%5B33.20339%2C%20-84.06358%5D%2C%20%5B30.03181%2C%20-89.98933%5D%2C%20%5B32.235985%2C%20-110.961034%5D%2C%20%5B37.93277%2C%20-122.40959%5D%2C%20%5B33.87364%2C%20-118.21248%5D%2C%20%5B35.30505%2C%20-80.85837%5D%2C%20%5B34.05125%2C%20-118.00588%5D%2C%20%5B32.250441%2C%20-110.993703%5D%2C%20%5B42.269134%2C%20-88.00401%5D%2C%20%5B34.081387%2C%20-117.094854%5D%2C%20%5B27.939144%2C%20-82.285766%5D%2C%20%5B33.802654%2C%20-118.125189%5D%2C%20%5B35.289987%2C%20-80.729077%5D%2C%20%5B35.06637%2C%20-92.41601%5D%2C%20%5B42.29063%2C%20-83.13027%5D%2C%20%5B37.739326%2C%20-121.590858%5D%2C%20%5B33.49703%2C%20-117.14845%5D%2C%20%5B36.92111%2C%20-120.0184%5D%2C%20%5B26.51991%2C%20-80.0727%5D%2C%20%5B34.16771%2C%20-117.33624%5D%2C%20%5B40.49825%2C%20-111.89102%5D%2C%20%5B34.120786%2C%20-118.271453%5D%2C%20%5B36.710139%2C%20-81.943899%5D%2C%20%5B38.000581%2C%20-122.054101%5D%2C%20%5B40.78435%2C%20-73.94199%5D%2C%20%5B32.771771%2C%20-117.026742%5D%2C%20%5B33.94094%2C%20-117.24911%5D%2C%20%5B43.99529%2C%20-90.46539%5D%2C%20%5B35.02608%2C%20-82.03274%5D%2C%20%5B33.879923%2C%20-117.562432%5D%2C%20%5B36.310753%2C%20-119.636938%5D%2C%20%5B33.765696%2C%20-117.960129%5D%2C%20%5B38.54585%2C%20-104.64464%5D%2C%20%5B25.942657%2C%20-80.204219%5D%2C%20%5B39.147684%2C%20-122.148423%5D%2C%20%5B40.80181%2C%20-111.92066%5D%2C%20%5B38.599542%2C%20-121.44103%5D%2C%20%5B45.57949%2C%20-118.5941%5D%2C%20%5B45.06884%2C%20-93.26336%5D%2C%20%5B43.05888%2C%20-77.63969%5D%2C%20%5B38.913%2C%20-77.0199%5D%2C%20%5B33.92569%2C%20-117.42293%5D%2C%20%5B26.93388%2C%20-80.08097%5D%2C%20%5B39.08443%2C%20-94.48941%5D%2C%20%5B33.83976%2C%20-79.11295%5D%2C%20%5B32.43321%2C%20-84.95557%5D%2C%20%5B27.74845%2C%20-82.67601%5D%2C%20%5B37.52501%2C%20-77.43774%5D%2C%20%5B32.711672%2C%20-117.118974%5D%2C%20%5B40.216783%2C%20-75.553429%5D%2C%20%5B37.43823%2C%20-122.24685%5D%2C%20%5B37.951794%2C%20-120.423838%5D%2C%20%5B34.118417%2C%20-117.841404%5D%2C%20%5B38.76803%2C%20-90.49223%5D%2C%20%5B40.72609%2C%20-111.88825%5D%2C%20%5B39.98233%2C%20-76.73449%5D%2C%20%5B29.686477%2C%20-95.565911%5D%2C%20%5B40.70635%2C%20-112.06312%5D%2C%20%5B25.760893%2C%20-80.395272%5D%2C%20%5B28.39687%2C%20-81.3318%5D%2C%20%5B32.964521%2C%20-117.096202%5D%2C%20%5B43.40539%2C%20-70.56227%5D%2C%20%5B41.028363%2C%20-123.659365%5D%2C%20%5B46.001268%2C%20-95.731977%5D%2C%20%5B34.168542%2C%20-81.967352%5D%2C%20%5B41.42688%2C%20-72.6356%5D%2C%20%5B35.90932%2C%20-78.93043%5D%2C%20%5B32.83364%2C%20-116.96212%5D%2C%20%5B44.211228%2C%20-117.149737%5D%2C%20%5B37.38338%2C%20-121.96903%5D%2C%20%5B33.945537%2C%20-118.2795%5D%2C%20%5B41.193986%2C%20-81.339035%5D%2C%20%5B40.57968%2C%20-74.5233%5D%2C%20%5B38.6401%2C%20-121.271688%5D%2C%20%5B38.05746%2C%20-121.296098%5D%2C%20%5B37.78733%2C%20-122.24788%5D%2C%20%5B42.49445%2C%20-83.1172%5D%2C%20%5B37.54113%2C%20-77.44339%5D%2C%20%5B41.86003%2C%20-88.019317%5D%2C%20%5B40.28292%2C%20-120.48951%5D%2C%20%5B38.63977%2C%20-121.48511%5D%2C%20%5B33.1899%2C%20-117.27578%5D%2C%20%5B34.186631%2C%20-118.400312%5D%2C%20%5B27.99602%2C%20-82.401865%5D%2C%20%5B42.97102%2C%20-78.76081%5D%2C%20%5B43.06212%2C%20-76.12867%5D%2C%20%5B32.66833%2C%20-97.21828%5D%2C%20%5B29.493494%2C%20-98.555343%5D%2C%20%5B36.18337%2C%20-86.74857%5D%2C%20%5B28.017336%2C%20-82.035909%5D%2C%20%5B32.814928%2C%20-96.816156%5D%2C%20%5B44.523384%2C%20-119.628143%5D%2C%20%5B34.239618%2C%20-118.862518%5D%2C%20%5B28.538491%2C%20-81.368408%5D%2C%20%5B32.71657%2C%20-96.82881%5D%2C%20%5B40.805433%2C%20-73.248642%5D%2C%20%5B39.819643%2C%20-84.202827%5D%2C%20%5B34.706622%2C%20-86.673975%5D%2C%20%5B40.141433%2C%20-75.390611%5D%2C%20%5B38.61004%2C%20-121.34576%5D%2C%20%5B34.823835%2C%20-118.170091%5D%2C%20%5B38.76948%2C%20-90.3382%5D%2C%20%5B28.853909%2C%20-82.207757%5D%2C%20%5B34.072295%2C%20-118.083115%5D%2C%20%5B36.188198%2C%20-86.607615%5D%2C%20%5B35.80148%2C%20-78.5151%5D%2C%20%5B37.551931%2C%20-122.296749%5D%2C%20%5B35.55934%2C%20-82.63806%5D%2C%20%5B33.80529%2C%20-118.28857%5D%2C%20%5B37.606941%2C%20-120.974181%5D%2C%20%5B32.844203%2C%20-117.176222%5D%2C%20%5B41.100562%2C%20-73.956493%5D%2C%20%5B30.500549%2C%20-88.315389%5D%2C%20%5B40.076572%2C%20-75.159196%5D%2C%20%5B30.18282%2C%20-97.6875%5D%2C%20%5B41.33896%2C%20-72.97719%5D%2C%20%5B42.64357%2C%20-124.407332%5D%2C%20%5B41.97189%2C%20-88.20696%5D%2C%20%5B35.968648%2C%20-83.253332%5D%2C%20%5B33.496996%2C%20-117.665388%5D%2C%20%5B40.774051%2C%20-73.765819%5D%2C%20%5B34.09294%2C%20-118.20621%5D%2C%20%5B36.177112%2C%20-95.958495%5D%2C%20%5B29.6963%2C%20-95.29152%5D%2C%20%5B34.07456%2C%20-78.14289%5D%2C%20%5B28.206115%2C%20-82.665205%5D%2C%20%5B40.617433%2C%20-111.905079%5D%2C%20%5B38.77064%2C%20-90.24265%5D%2C%20%5B32.3244%2C%20-86.33545%5D%2C%20%5B47.73839%2C%20-122.32719%5D%2C%20%5B38.852709%2C%20-77.006317%5D%2C%20%5B43.000803%2C%20-83.870868%5D%2C%20%5B36.547514%2C%20-77.575257%5D%2C%20%5B40.01199%2C%20-82.99159%5D%2C%20%5B32.806587%2C%20-117.215819%5D%2C%20%5B36.261481%2C%20-80.824581%5D%2C%20%5B35.819881%2C%20-78.311729%5D%2C%20%5B37.914584%2C%20-122.317505%5D%2C%20%5B43.53258%2C%20-89.4759%5D%2C%20%5B33.93017%2C%20-117.88006%5D%2C%20%5B34.26587%2C%20-118.468333%5D%2C%20%5B33.32559%2C%20-111.97237%5D%2C%20%5B30.090921%2C%20-82.640529%5D%2C%20%5B40.333161%2C%20-75.463832%5D%2C%20%5B34.049361%2C%20-117.801677%5D%2C%20%5B34.15415%2C%20-118.34559%5D%2C%20%5B33.10363%2C%20-117.09195%5D%2C%20%5B28.565286%2C%20-81.165694%5D%2C%20%5B42.39792%2C%20-82.98566%5D%2C%20%5B42.43077%2C%20-82.92419%5D%2C%20%5B41.768277%2C%20-72.683351%5D%2C%20%5B46.80809%2C%20-123.00396%5D%2C%20%5B38.244451%2C%20-78.077001%5D%2C%20%5B40.66678%2C%20-73.83608%5D%2C%20%5B39.090905%2C%20-94.542462%5D%2C%20%5B42.479242%2C%20-71.221976%5D%2C%20%5B38.73308%2C%20-90.35152%5D%2C%20%5B28.45103%2C%20-81.35937%5D%2C%20%5B38.90254%2C%20-77.034592%5D%2C%20%5B33.5198%2C%20-86.81788%5D%2C%20%5B33.634598%2C%20-81.318273%5D%2C%20%5B33.92522%2C%20-118.21113%5D%2C%20%5B38.71939%2C%20-90.33157%5D%2C%20%5B30.425035%2C%20-91.158468%5D%2C%20%5B33.428931%2C%20-112.0777%5D%2C%20%5B36.802935%2C%20-119.555997%5D%2C%20%5B47.03185%2C%20-114.31897%5D%2C%20%5B39.232376%2C%20-121.687263%5D%2C%20%5B42.390779%2C%20-122.411609%5D%2C%20%5B33.472946%2C%20-112.03869%5D%2C%20%5B37.596105%2C%20-77.530728%5D%2C%20%5B26.544801%2C%20-81.852424%5D%2C%20%5B34.133611%2C%20-117.370429%5D%2C%20%5B32.83185%2C%20-96.63149%5D%2C%20%5B32.32341%2C%20-111.046%5D%2C%20%5B35.553095%2C%20-82.722285%5D%2C%20%5B37.559119%2C%20-77.416427%5D%2C%20%5B31.80928%2C%20-106.24769%5D%2C%20%5B45.01053%2C%20-93.08979%5D%2C%20%5B39.842938%2C%20-79.041577%5D%2C%20%5B37.88583%2C%20-121.279626%5D%2C%20%5B32.1779%2C%20-110.92643%5D%2C%20%5B40.85171%2C%20-73.95254%5D%2C%20%5B44.9585%2C%20-93.19889%5D%2C%20%5B30.422354%2C%20-91.139906%5D%2C%20%5B38.459638%2C%20-77.409534%5D%2C%20%5B35.304%2C%20-80.84886%5D%2C%20%5B33.992646%2C%20-118.358928%5D%2C%20%5B39.30109%2C%20-76.54707%5D%2C%20%5B39.018273%2C%20-94.692681%5D%2C%20%5B41.39355%2C%20-73.60044%5D%2C%20%5B44.05857%2C%20-93.25761%5D%2C%20%5B45.677751%2C%20-118.851031%5D%2C%20%5B40.70204%2C%20-73.48705%5D%2C%20%5B34.0939%2C%20-118.24244%5D%2C%20%5B42.549222%2C%20-71.832531%5D%2C%20%5B33.95242%2C%20-84.12997%5D%2C%20%5B41.297127%2C%20-72.73819%5D%2C%20%5B45.31676%2C%20-123.01963%5D%2C%20%5B33.42103%2C%20-112.2896%5D%2C%20%5B38.57351%2C%20-121.58174%5D%2C%20%5B33.57508%2C%20-117.67168%5D%2C%20%5B35.11962%2C%20-80.88122%5D%2C%20%5B33.511689%2C%20-84.576307%5D%2C%20%5B32.801789%2C%20-96.826984%5D%2C%20%5B25.924719%2C%20-80.209819%5D%2C%20%5B33.130638%2C%20-117.092736%5D%2C%20%5B40.63997%2C%20-74.29014%5D%2C%20%5B33.160096%2C%20-117.340496%5D%2C%20%5B32.75873%2C%20-97.25646%5D%2C%20%5B36.19571%2C%20-115.16082%5D%2C%20%5B42.40793%2C%20-88.00397%5D%2C%20%5B41.406482%2C%20-95.655087%5D%2C%20%5B37.861975%2C%20-122.505175%5D%2C%20%5B34.042975%2C%20-118.217073%5D%2C%20%5B37.37359%2C%20-77.50206%5D%2C%20%5B39.88685%2C%20-75.2152%5D%2C%20%5B28.572354%2C%20-81.475994%5D%2C%20%5B37.767187%2C%20-121.334272%5D%2C%20%5B32.93429%2C%20-80.04735%5D%2C%20%5B33.69575%2C%20-117.86392%5D%2C%20%5B44.9446%2C%20-93.34807%5D%2C%20%5B40.852307%2C%20-121.762236%5D%2C%20%5B36.54457%2C%20-105.23283%5D%2C%20%5B32.76049%2C%20-117.162805%5D%2C%20%5B44.425323%2C%20-121.841364%5D%2C%20%5B38.59182%2C%20-77.31669%5D%2C%20%5B42.462607%2C%20-122.724391%5D%2C%20%5B34.172117%2C%20-118.46771%5D%2C%20%5B33.754031%2C%20-117.18915%5D%2C%20%5B37.996565%2C%20-122.533805%5D%2C%20%5B39.343501%2C%20-94.743878%5D%2C%20%5B41.586986%2C%20-72.648931%5D%2C%20%5B41.84303%2C%20-71.41926%5D%2C%20%5B33.194246%2C%20-117.258702%5D%2C%20%5B37.14412%2C%20-80.347148%5D%2C%20%5B36.832834%2C%20-76.196118%5D%2C%20%5B41.1154%2C%20-112.01505%5D%2C%20%5B44.432127%2C%20-92.88157%5D%2C%20%5B41.78369%2C%20-72.660302%5D%2C%20%5B40.68343%2C%20-73.68583%5D%2C%20%5B29.776371%2C%20-95.455967%5D%2C%20%5B25.95802%2C%20-80.17108%5D%2C%20%5B47.31823%2C%20-122.29601%5D%2C%20%5B34.049678%2C%20-118.448599%5D%2C%20%5B39.765308%2C%20-86.143077%5D%2C%20%5B40.44597%2C%20-104.99228%5D%2C%20%5B38.94647%2C%20-76.84464%5D%2C%20%5B45.4249%2C%20-122.57744%5D%2C%20%5B25.670204%2C%20-80.369911%5D%2C%20%5B38.822496%2C%20-77.162782%5D%2C%20%5B39.091264%2C%20-119.775255%5D%2C%20%5B41.28788%2C%20-72.53193%5D%2C%20%5B46.917825%2C%20-113.438954%5D%2C%20%5B34.071468%2C%20-117.948799%5D%2C%20%5B38.793%2C%20-77.82%5D%2C%20%5B42.39273%2C%20-88.18345%5D%2C%20%5B36.345677%2C%20-119.057202%5D%2C%20%5B41.85753%2C%20-88.05267%5D%2C%20%5B37.39454%2C%20-121.13599%5D%2C%20%5B39.70305%2C%20-86.10826%5D%2C%20%5B42.30868%2C%20-87.86258%5D%2C%20%5B35.252033%2C%20-80.856177%5D%2C%20%5B32.673748%2C%20-117.082812%5D%2C%20%5B29.97758%2C%20-90.0611%5D%2C%20%5B25.744015%2C%20-80.173805%5D%2C%20%5B36.138592%2C%20-86.728144%5D%2C%20%5B37.62752%2C%20-97.32039%5D%2C%20%5B29.991887%2C%20-90.049694%5D%2C%20%5B43.64227%2C%20-118.62877%5D%2C%20%5B34.120547%2C%20-117.736325%5D%2C%20%5B43.025664%2C%20-124.415318%5D%2C%20%5B34.23319%2C%20-117.42018%5D%2C%20%5B28.41691%2C%20-81.474%5D%2C%20%5B30.265802%2C%20-97.734668%5D%2C%20%5B33.772151%2C%20-83.702407%5D%2C%20%5B43.096212%2C%20-83.736143%5D%2C%20%5B43.93439%2C%20-123.00993%5D%2C%20%5B38.24385%2C%20-122.682636%5D%2C%20%5B26.678591%2C%20-80.069829%5D%2C%20%5B34.03606%2C%20-118.26965%5D%2C%20%5B41.10687%2C%20-73.4137%5D%2C%20%5B37.662006%2C%20-120.461585%5D%2C%20%5B37.511362%2C%20-121.937633%5D%2C%20%5B39.63222%2C%20-104.9048%5D%2C%20%5B26.627801%2C%20-80.067726%5D%2C%20%5B37.80771%2C%20-122.36764%5D%2C%20%5B34.028829%2C%20-118.17212%5D%2C%20%5B39.30245%2C%20-76.54518%5D%2C%20%5B39.03508%2C%20-77.1443%5D%2C%20%5B37.36789%2C%20-77.41735%5D%2C%20%5B35.31404%2C%20-80.76381%5D%2C%20%5B38.474165%2C%20-121.427142%5D%2C%20%5B33.975153%2C%20-118.383858%5D%2C%20%5B41.01914%2C%20-74.293595%5D%2C%20%5B38.03269%2C%20-78.86027%5D%2C%20%5B33.84569%2C%20-81.20909%5D%2C%20%5B29.78423%2C%20-95.53878%5D%2C%20%5B36.32323%2C%20-86.86185%5D%2C%20%5B28.55143%2C%20-81.55812%5D%2C%20%5B33.837394%2C%20-84.487012%5D%2C%20%5B28.52333%2C%20-81.38631%5D%2C%20%5B33.05586%2C%20-97.01168%5D%2C%20%5B37.83352%2C%20-79.974709%5D%2C%20%5B35.9143%2C%20-83.36348%5D%2C%20%5B37.558576%2C%20-77.451535%5D%2C%20%5B42.28422%2C%20-83.78662%5D%2C%20%5B41.704283%2C%20-123.448144%5D%2C%20%5B37.56021%2C%20-122.03513%5D%2C%20%5B34.124085%2C%20-117.302905%5D%2C%20%5B34.22505%2C%20-117.40961%5D%2C%20%5B41.050245%2C%20-73.810907%5D%2C%20%5B33.17311%2C%20-87.46781%5D%2C%20%5B37.198597%2C%20-76.567913%5D%2C%20%5B34.01685%2C%20-117.98549%5D%2C%20%5B40.89312%2C%20-74.2566%5D%2C%20%5B34.049306%2C%20-117.305245%5D%2C%20%5B40.760049%2C%20-74.972019%5D%2C%20%5B45.014592%2C%20-93.457209%5D%2C%20%5B30.204369%2C%20-81.751754%5D%2C%20%5B47.160639%2C%20-122.43422%5D%2C%20%5B29.73044%2C%20-95.42029%5D%2C%20%5B33.8764%2C%20-118.07711%5D%2C%20%5B40.12239%2C%20-75.217204%5D%2C%20%5B45.57808%2C%20-94.83891%5D%2C%20%5B47.21399%2C%20-122.46274%5D%2C%20%5B39.76463%2C%20-75.54275%5D%2C%20%5B38.87939%2C%20-94.67622%5D%2C%20%5B42.14449%2C%20-122.6383%5D%2C%20%5B38.833268%2C%20-77.102447%5D%2C%20%5B40.44425%2C%20-80.02821%5D%2C%20%5B45.290333%2C%20-93.555976%5D%2C%20%5B30.439403%2C%20-91.086303%5D%2C%20%5B40.84478%2C%20-73.90484%5D%2C%20%5B29.96642%2C%20-90.07137%5D%2C%20%5B34.380139%2C%20-118.490961%5D%2C%20%5B42.36316%2C%20-83.06976%5D%2C%20%5B42.81886%2C%20-88.92586%5D%2C%20%5B41.79194%2C%20-87.80156%5D%2C%20%5B45.81057%2C%20-119.48218%5D%2C%20%5B39.668177%2C%20-74.82046%5D%2C%20%5B38.489337%2C%20-121.802849%5D%2C%20%5B35.054594%2C%20-81.992393%5D%2C%20%5B44.943726%2C%20-93.274591%5D%2C%20%5B38.574912%2C%20-121.550362%5D%2C%20%5B28.553175%2C%20-81.36617%5D%2C%20%5B40.256161%2C%20-78.023707%5D%2C%20%5B30.263192%2C%20-97.598039%5D%2C%20%5B45.56065%2C%20-122.56316%5D%2C%20%5B35.007984%2C%20-85.200496%5D%2C%20%5B35.00706%2C%20-117.734953%5D%2C%20%5B33.92922%2C%20-84.35777%5D%2C%20%5B37.608711%2C%20-122.068184%5D%2C%20%5B29.97361%2C%20-90.057345%5D%2C%20%5B40.56412%2C%20-111.89942%5D%2C%20%5B44.02167%2C%20-121.31875%5D%2C%20%5B36.285999%2C%20-121.193074%5D%2C%20%5B33.952571%2C%20-117.67783%5D%2C%20%5B34.13764%2C%20-118.36296%5D%2C%20%5B36.996041%2C%20-121.71711%5D%2C%20%5B45.603467%2C%20-92.994232%5D%2C%20%5B33.984781%2C%20-118.133767%5D%2C%20%5B40.27002%2C%20-79.84767%5D%2C%20%5B39.144276%2C%20-76.844863%5D%2C%20%5B42.292632%2C%20-122.827553%5D%2C%20%5B42.459214%2C%20-83.102134%5D%2C%20%5B39.59504%2C%20-104.78719%5D%2C%20%5B33.462499%2C%20-112.069934%5D%2C%20%5B39.097623%2C%20-84.516256%5D%2C%20%5B42.46501%2C%20-87.91331%5D%2C%20%5B39.085751%2C%20-94.59221%5D%2C%20%5B43.59918%2C%20-116.51399%5D%2C%20%5B43.05124%2C%20-70.81104%5D%2C%20%5B42.53032%2C%20-83.11605%5D%2C%20%5B42.11775%2C%20-87.77868%5D%2C%20%5B38.592918%2C%20-121.55175%5D%2C%20%5B45.831903%2C%20-95.269156%5D%2C%20%5B33.19471%2C%20-117.139803%5D%2C%20%5B43.33359%2C%20-121.75926%5D%2C%20%5B40.582882%2C%20-73.974726%5D%2C%20%5B37.57598%2C%20-121.88112%5D%2C%20%5B46.14071%2C%20-122.89789%5D%2C%20%5B37.680348%2C%20-77.539926%5D%2C%20%5B41.787514%2C%20-87.76208%5D%2C%20%5B37.320783%2C%20-121.824392%5D%2C%20%5B34.222744%2C%20-118.473555%5D%2C%20%5B44.52265%2C%20-119.03916%5D%2C%20%5B33.92842%2C%20-118.23776%5D%2C%20%5B37.89289%2C%20-122.12503%5D%2C%20%5B33.732072%2C%20-112.121669%5D%2C%20%5B34.908394%2C%20-82.267551%5D%2C%20%5B43.60114%2C%20-116.577585%5D%2C%20%5B38.779932%2C%20-123.007672%5D%2C%20%5B35.11962%2C%20-80.88122%5D%2C%20%5B39.191221%2C%20-76.759404%5D%2C%20%5B34.20221%2C%20-118.34031%5D%2C%20%5B42.290979%2C%20-79.679964%5D%2C%20%5B42.53666%2C%20-83.02932%5D%2C%20%5B42.305613%2C%20-83.108536%5D%2C%20%5B44.97108%2C%20-93.43293%5D%2C%20%5B28.332828%2C%20-81.48949%5D%2C%20%5B26.071017%2C%20-80.166667%5D%2C%20%5B37.920636%2C%20-122.062281%5D%2C%20%5B34.825797%2C%20-82.187537%5D%2C%20%5B41.47174%2C%20-81.69221%5D%2C%20%5B44.97027%2C%20-93.32179%5D%2C%20%5B42.38145%2C%20-83.06496%5D%2C%20%5B40.89006%2C%20-73.8872%5D%2C%20%5B38.838411%2C%20-77.008985%5D%2C%20%5B33.873764%2C%20-118.252484%5D%2C%20%5B38.449701%2C%20-120.898244%5D%2C%20%5B32.7986%2C%20-96.62613%5D%2C%20%5B44.11007%2C%20-121.29469%5D%2C%20%5B37.612174%2C%20-122.394885%5D%2C%20%5B33.883704%2C%20-117.640311%5D%2C%20%5B37.80887%2C%20-122.366472%5D%2C%20%5B28.04795%2C%20-81.89557%5D%2C%20%5B37.107644%2C%20-77.35948%5D%2C%20%5B32.75526%2C%20-117.10941%5D%2C%20%5B41.6342%2C%20-83.56187%5D%2C%20%5B39.76575%2C%20-105.00029%5D%2C%20%5B40.900436%2C%20-74.072789%5D%2C%20%5B29.7713%2C%20-95.33988%5D%2C%20%5B33.99888%2C%20-117.37094%5D%2C%20%5B33.97356%2C%20-118.218971%5D%2C%20%5B34.43235%2C%20-119.745993%5D%2C%20%5B30.481378%2C%20-87.228055%5D%2C%20%5B45.069481%2C%20-93.293681%5D%2C%20%5B29.8028%2C%20-95.45062%5D%2C%20%5B35.872905%2C%20-78.514442%5D%2C%20%5B39.813078%2C%20-74.986487%5D%2C%20%5B45.24204%2C%20-94.06137%5D%2C%20%5B25.809929%2C%20-80.264653%5D%2C%20%5B25.95343%2C%20-80.29454%5D%2C%20%5B34.09723%2C%20-118.3136%5D%2C%20%5B34.14522%2C%20-117.28291%5D%2C%20%5B32.722831%2C%20-96.826704%5D%2C%20%5B29.78413%2C%20-95.52127%5D%2C%20%5B47.61849%2C%20-122.33071%5D%2C%20%5B40.753081%2C%20-74.211144%5D%2C%20%5B43.144212%2C%20-77.549776%5D%2C%20%5B37.66371%2C%20-121.02826%5D%2C%20%5B45.49868%2C%20-122.79056%5D%2C%20%5B29.02002%2C%20-82.15576%5D%2C%20%5B37.673006%2C%20-77.536425%5D%2C%20%5B35.745631%2C%20-78.648781%5D%2C%20%5B40.74834%2C%20-73.14609%5D%2C%20%5B34.162255%2C%20-118.294011%5D%2C%20%5B39.76335%2C%20-104.78438%5D%2C%20%5B32.854971%2C%20-96.646859%5D%2C%20%5B39.567362%2C%20-123.765671%5D%2C%20%5B34.019619%2C%20-118.153621%5D%2C%20%5B40.90127%2C%20-74.13933%5D%2C%20%5B34.15971%2C%20-118.63654%5D%2C%20%5B25.95802%2C%20-80.17108%5D%2C%20%5B33.739364%2C%20-117.998654%5D%2C%20%5B38.16484%2C%20-85.72094%5D%2C%20%5B35.903695%2C%20-94.19196%5D%2C%20%5B40.2985%2C%20-76.82658%5D%2C%20%5B40.730942%2C%20-74.125388%5D%2C%20%5B28.583592%2C%20-81.41675%5D%2C%20%5B34.04012%2C%20-81.1139%5D%2C%20%5B34.31548%2C%20-84.55111%5D%2C%20%5B34.01222%2C%20-118.16336%5D%2C%20%5B35.209389%2C%20-118.752626%5D%2C%20%5B36.14711%2C%20-86.74376%5D%2C%20%5B39.282278%2C%20-77.325489%5D%2C%20%5B39.19638%2C%20-94.62089%5D%2C%20%5B29.434081%2C%20-98.477984%5D%2C%20%5B45.708708%2C%20-121.521516%5D%2C%20%5B37.95093%2C%20-121.286102%5D%2C%20%5B34.030713%2C%20-117.593167%5D%2C%20%5B27.923128%2C%20-82.401956%5D%2C%20%5B44.96581%2C%20-93.26569%5D%2C%20%5B40.86573%2C%20-73.37198%5D%2C%20%5B40.254148%2C%20-76.826329%5D%2C%20%5B32.93624%2C%20-117.24165%5D%2C%20%5B36.556815%2C%20-80.906631%5D%2C%20%5B44.24884%2C%20-94.3447%5D%2C%20%5B28.50935%2C%20-81.40055%5D%2C%20%5B37.84193%2C%20-122.29746%5D%2C%20%5B33.97799%2C%20-118.281%5D%2C%20%5B34.07184%2C%20-118.12059%5D%2C%20%5B35.27366%2C%20-80.83033%5D%2C%20%5B37.31662%2C%20-122.301348%5D%2C%20%5B46.23506%2C%20-123.87196%5D%2C%20%5B34.022033%2C%20-118.172959%5D%2C%20%5B30.443682%2C%20-91.087913%5D%2C%20%5B35.31259%2C%20-80.75978%5D%2C%20%5B34.0244%2C%20-117.75582%5D%2C%20%5B38.079341%2C%20-77.585774%5D%2C%20%5B41.22286%2C%20-95.98183%5D%2C%20%5B35.240458%2C%20-80.939311%5D%2C%20%5B37.58709%2C%20-122.34466%5D%2C%20%5B27.683326%2C%20-80.534774%5D%2C%20%5B43.015899%2C%20-123.983123%5D%2C%20%5B40.10967%2C%20-79.91911%5D%2C%20%5B40.68331%2C%20-75.291922%5D%2C%20%5B32.887905%2C%20-96.705061%5D%2C%20%5B33.737436%2C%20-81.100376%5D%2C%20%5B33.972641%2C%20-118.079466%5D%2C%20%5B40.78457%2C%20-73.64896%5D%2C%20%5B33.748196%2C%20-117.843053%5D%2C%20%5B46.629103%2C%20-120.514552%5D%2C%20%5B40.909504%2C%20-124.052147%5D%2C%20%5B34.02631%2C%20-118.23396%5D%2C%20%5B29.86013%2C%20-95.56378%5D%2C%20%5B38.93705%2C%20-77.18543%5D%2C%20%5B42.02695%2C%20-121.87868%5D%2C%20%5B39.985754%2C%20-74.212017%5D%2C%20%5B36.738584%2C%20-119.839001%5D%2C%20%5B30.855922%2C%20-86.854489%5D%2C%20%5B44.857674%2C%20-93.393976%5D%2C%20%5B30.28915%2C%20-97.70737%5D%2C%20%5B38.55892%2C%20-121.47359%5D%2C%20%5B32.36806%2C%20-86.29733%5D%2C%20%5B39.78329%2C%20-105.06261%5D%2C%20%5B42.71261%2C%20-73.866083%5D%2C%20%5B37.964008%2C%20-122.51269%5D%2C%20%5B33.88184%2C%20-118.19171%5D%2C%20%5B40.239773%2C%20-111.65867%5D%2C%20%5B38.709973%2C%20-77.221645%5D%2C%20%5B44.629481%2C%20-123.042409%5D%2C%20%5B46.15208%2C%20-123.850301%5D%2C%20%5B44.413012%2C%20-123.903222%5D%2C%20%5B30.248053%2C%20-97.735422%5D%2C%20%5B40.717684%2C%20-111.837809%5D%2C%20%5B38.798482%2C%20-77.123615%5D%2C%20%5B43.07141%2C%20-76.51738%5D%2C%20%5B34.0263%2C%20-118.27497%5D%2C%20%5B26.496652%2C%20-80.172654%5D%2C%20%5B37.255437%2C%20-121.848195%5D%2C%20%5B40.178471%2C%20-74.099467%5D%2C%20%5B38.93334%2C%20-76.91999%5D%2C%20%5B37.938391%2C%20-122.515867%5D%2C%20%5B28.566491%2C%20-81.24484%5D%2C%20%5B33.913743%2C%20-84.395734%5D%2C%20%5B40.7341%2C%20-74.12472%5D%2C%20%5B29.439273%2C%20-98.451367%5D%2C%20%5B32.668214%2C%20-96.585058%5D%2C%20%5B34.03238%2C%20-117.8094%5D%2C%20%5B37.892935%2C%20-121.282181%5D%2C%20%5B41.983311%2C%20-88.070974%5D%2C%20%5B33.237626%2C%20-87.572285%5D%2C%20%5B42.38513%2C%20-83.28224%5D%2C%20%5B41.054331%2C%20-73.525539%5D%2C%20%5B34.03406%2C%20-118.22114%5D%2C%20%5B42.477049%2C%20-83.104895%5D%2C%20%5B37.51734%2C%20-122.25987%5D%2C%20%5B40.79559%2C%20-73.34637%5D%2C%20%5B32.54569%2C%20-93.78837%5D%2C%20%5B33.840415%2C%20-117.135357%5D%2C%20%5B38.75226%2C%20-90.23912%5D%2C%20%5B35.056902%2C%20-80.769842%5D%2C%20%5B34.144788%2C%20-117.273591%5D%2C%20%5B36.13387%2C%20-120.15509%5D%2C%20%5B34.9892%2C%20-80.982086%5D%2C%20%5B29.848818%2C%20-95.327795%5D%2C%20%5B44.69868%2C%20-123.0521%5D%2C%20%5B37.47052%2C%20-122.1582%5D%2C%20%5B33.850735%2C%20-117.814275%5D%2C%20%5B25.883616%2C%20-80.211893%5D%2C%20%5B34.004322%2C%20-117.726803%5D%2C%20%5B34.135813%2C%20-117.191781%5D%2C%20%5B29.30221%2C%20-94.899651%5D%2C%20%5B33.99587%2C%20-117.36347%5D%2C%20%5B36.221777%2C%20-86.782452%5D%2C%20%5B32.946803%2C%20-96.768987%5D%2C%20%5B26.582354%2C%20-80.173212%5D%2C%20%5B39.955041%2C%20-82.072808%5D%2C%20%5B34.065996%2C%20-117.201236%5D%2C%20%5B42.91883%2C%20-83.67764%5D%2C%20%5B40.09797%2C%20-75.41801%5D%2C%20%5B40.745877%2C%20-73.836246%5D%2C%20%5B39.79817%2C%20-104.93114%5D%2C%20%5B37.41258%2C%20-122.07937%5D%2C%20%5B39.78696%2C%20-86.13484%5D%2C%20%5B39.611402%2C%20-79.923159%5D%2C%20%5B27.361024%2C%20-80.377426%5D%2C%20%5B29.78292%2C%20-95.45165%5D%2C%20%5B34.22957%2C%20-118.407007%5D%2C%20%5B29.860166%2C%20-95.333649%5D%2C%20%5B37.652307%2C%20-77.451052%5D%2C%20%5B34.145263%2C%20-117.284159%5D%2C%20%5B33.96995%2C%20-117.37561%5D%2C%20%5B34.272247%2C%20-118.55627%5D%2C%20%5B38.051953%2C%20-122.228744%5D%2C%20%5B37.82624%2C%20-122.30135%5D%2C%20%5B35.23817%2C%20-80.79975%5D%2C%20%5B39.1173%2C%20-77.19486%5D%2C%20%5B44.95075%2C%20-93.09934%5D%2C%20%5B38.794409%2C%20-77.053674%5D%2C%20%5B33.910855%2C%20-117.883466%5D%2C%20%5B38.318501%2C%20-122.714412%5D%2C%20%5B35.155272%2C%20-85.33084%5D%2C%20%5B36.15907%2C%20-115.2803%5D%2C%20%5B37.950911%2C%20-122.51102%5D%2C%20%5B42.976406%2C%20-85.590481%5D%2C%20%5B28.237105%2C%20-80.720318%5D%2C%20%5B37.674258%2C%20-122.136513%5D%2C%20%5B44.99753%2C%20-92.95798%5D%2C%20%5B32.77742%2C%20-96.78026%5D%2C%20%5B37.714203%2C%20-121.711294%5D%2C%20%5B40.082431%2C%20-75.172802%5D%2C%20%5B38.000732%2C%20-120.491148%5D%2C%20%5B43.03252%2C%20-87.97272%5D%2C%20%5B40.132197%2C%20-75.384719%5D%2C%20%5B35.50122%2C%20-80.56265%5D%2C%20%5B39.097057%2C%20-121.551533%5D%2C%20%5B28.52025%2C%20-81.37639%5D%2C%20%5B40.25777%2C%20-74.84368%5D%2C%20%5B28.186094%2C%20-82.437838%5D%2C%20%5B38.49012%2C%20-90.28798%5D%2C%20%5B35.10755%2C%20-106.61522%5D%2C%20%5B33.804148%2C%20-118.207343%5D%2C%20%5B33.994241%2C%20-117.904833%5D%2C%20%5B32.90407%2C%20-96.76887%5D%2C%20%5B33.93917%2C%20-117.18849%5D%2C%20%5B32.67621%2C%20-97.17744%5D%2C%20%5B34.037999%2C%20-118.276449%5D%2C%20%5B33.93913%2C%20-118.097815%5D%2C%20%5B41.942077%2C%20-71.48088%5D%2C%20%5B38.889905%2C%20-77.039471%5D%2C%20%5B43.192961%2C%20-124.319658%5D%2C%20%5B38.55335%2C%20-121.43662%5D%2C%20%5B34.087198%2C%20-118.234118%5D%2C%20%5B42.23756%2C%20-88.14875%5D%2C%20%5B35.22437%2C%20-80.86529%5D%2C%20%5B34.207209%2C%20-117.385278%5D%2C%20%5B35.43792%2C%20-80.86841%5D%2C%20%5B43.53867%2C%20-111.96821%5D%2C%20%5B45.571619%2C%20-122.550689%5D%2C%20%5B40.002218%2C%20-75.220137%5D%2C%20%5B28.523087%2C%20-81.386501%5D%2C%20%5B38.84218%2C%20-77.08339%5D%2C%20%5B32.888311%2C%20-117.204141%5D%2C%20%5B34.067841%2C%20-117.403205%5D%2C%20%5B42.7466%2C%20-86.07457%5D%2C%20%5B34.22774%2C%20-118.39039%5D%2C%20%5B41.91487%2C%20-88.20871%5D%2C%20%5B34.072742%2C%20-117.784012%5D%2C%20%5B43.635939%2C%20-72.212427%5D%2C%20%5B38.736672%2C%20-120.710907%5D%2C%20%5B32.65702%2C%20-96.884631%5D%2C%20%5B42.11179%2C%20-76.00545%5D%2C%20%5B34.018896%2C%20-117.539684%5D%2C%20%5B36.184021%2C%20-86.775516%5D%2C%20%5B31.778007%2C%20-106.459182%5D%2C%20%5B42.764782%2C%20-95.552463%5D%2C%20%5B33.902703%2C%20-117.463835%5D%2C%20%5B41.29194%2C%20-72.448%5D%2C%20%5B45.08655%2C%20-94.35519%5D%2C%20%5B25.875447%2C%20-80.210202%5D%2C%20%5B39.365415%2C%20-77.186998%5D%2C%20%5B30.40263%2C%20-91.50081%5D%2C%20%5B37.784809%2C%20-121.306773%5D%2C%20%5B44.40506%2C%20-123.94396%5D%2C%20%5B37.63539%2C%20-76.41216%5D%2C%20%5B38.59517%2C%20-121.4443%5D%2C%20%5B38.341215%2C%20-81.679041%5D%2C%20%5B39.75412%2C%20-86.17194%5D%2C%20%5B33.743326%2C%20-117.110879%5D%2C%20%5B47.260496%2C%20-122.327024%5D%2C%20%5B33.06835%2C%20-117.29336%5D%2C%20%5B33.8694%2C%20-118.28476%5D%2C%20%5B28.61099%2C%20-81.3867%5D%2C%20%5B34.026506%2C%20-117.927325%5D%2C%20%5B40.7665%2C%20-111.99669%5D%2C%20%5B38.681391%2C%20-122.591425%5D%2C%20%5B45.351539%2C%20-122.579386%5D%2C%20%5B29.608799%2C%20-98.494904%5D%2C%20%5B35.993839%2C%20-83.897749%5D%2C%20%5B26.12211%2C%20-80.15049%5D%2C%20%5B45.921381%2C%20-119.323056%5D%2C%20%5B36.678662%2C%20-121.737332%5D%2C%20%5B32.675597%2C%20-117.10953%5D%2C%20%5B40.84021%2C%20-74.16036%5D%2C%20%5B40.784733%2C%20-77.834314%5D%2C%20%5B42.955009%2C%20-85.659156%5D%2C%20%5B37.54923%2C%20-77.47752%5D%2C%20%5B40.248446%2C%20-111.69512%5D%2C%20%5B36.017915%2C%20-86.624268%5D%2C%20%5B39.957522%2C%20-75.180342%5D%2C%20%5B34.605575%2C%20-118.712449%5D%2C%20%5B41.258769%2C%20-95.98043%5D%2C%20%5B43.05428%2C%20-76.12199%5D%2C%20%5B40.72611%2C%20-73.90269%5D%2C%20%5B44.301363%2C%20-117.237708%5D%2C%20%5B44.131811%2C%20-123.050726%5D%2C%20%5B40.013425%2C%20-75.724117%5D%2C%20%5B45.000567%2C%20-93.237153%5D%2C%20%5B31.774456%2C%20-106.423496%5D%2C%20%5B37.40821%2C%20-122.00377%5D%2C%20%5B37.752995%2C%20-121.351517%5D%2C%20%5B34.14916%2C%20-118.37314%5D%2C%20%5B35.034223%2C%20-85.315728%5D%2C%20%5B32.412792%2C%20-80.648249%5D%2C%20%5B42.15379%2C%20-88.03949%5D%2C%20%5B43.03564%2C%20-87.92422%5D%2C%20%5B33.988984%2C%20-117.54945%5D%2C%20%5B40.54987%2C%20-74.40686%5D%2C%20%5B28.299397%2C%20-81.357697%5D%2C%20%5B33.815297%2C%20-117.51176%5D%2C%20%5B33.933564%2C%20-118.35247%5D%2C%20%5B32.93624%2C%20-117.24165%5D%2C%20%5B33.87143%2C%20-117.70197%5D%2C%20%5B38.7974%2C%20-77.57747%5D%2C%20%5B37.81053%2C%20-122.36464%5D%2C%20%5B43.0999%2C%20-77.800087%5D%2C%20%5B29.802792%2C%20-95.482896%5D%2C%20%5B32.272433%2C%20-111.007449%5D%2C%20%5B33.53792%2C%20-117.17352%5D%2C%20%5B32.69625%2C%20-117.09504%5D%2C%20%5B34.574095%2C%20-82.68793%5D%2C%20%5B47.252968%2C%20-122.332497%5D%2C%20%5B45.90623%2C%20-95.88718%5D%2C%20%5B26.26534%2C%20-80.12913%5D%2C%20%5B37.44591%2C%20-77.23337%5D%2C%20%5B45.64035%2C%20-89.70464%5D%2C%20%5B33.900414%2C%20-118.059249%5D%2C%20%5B42.865286%2C%20-82.553668%5D%2C%20%5B32.963709%2C%20-117.095598%5D%2C%20%5B33.88779%2C%20-117.279878%5D%2C%20%5B38.69391%2C%20-76.87198%5D%2C%20%5B39.60107%2C%20-76.25982%5D%2C%20%5B38.300517%2C%20-77.503577%5D%2C%20%5B33.870907%2C%20-117.703134%5D%2C%20%5B37.925819%2C%20-122.060867%5D%2C%20%5B33.837224%2C%20-117.287603%5D%2C%20%5B37.85001%2C%20-112.43919%5D%2C%20%5B39.1234%2C%20-77.72246%5D%2C%20%5B38.865905%2C%20-77.072857%5D%2C%20%5B35.212517%2C%20-113.97592%5D%2C%20%5B33.182738%2C%20-117.155871%5D%2C%20%5B40.785%2C%20-73.94091%5D%2C%20%5B40.60767%2C%20-111.90516%5D%2C%20%5B32.631783%2C%20-81.920025%5D%2C%20%5B42.280837%2C%20-87.973705%5D%2C%20%5B29.775449%2C%20-95.262311%5D%2C%20%5B33.87362%2C%20-118.2426%5D%2C%20%5B39.052613%2C%20-77.15262%5D%2C%20%5B36.166646%2C%20-86.765014%5D%2C%20%5B25.686254%2C%20-80.385739%5D%2C%20%5B45.70726%2C%20-122.87263%5D%2C%20%5B35.17396%2C%20-112.462311%5D%2C%20%5B37.609272%2C%20-120.897277%5D%2C%20%5B38.865564%2C%20-77.053794%5D%2C%20%5B45.0933%2C%20-123.97494%5D%2C%20%5B41.47477%2C%20-81.72165%5D%2C%20%5B34.067863%2C%20-118.029803%5D%2C%20%5B45.073803%2C%20-93.286387%5D%2C%20%5B32.71568%2C%20-96.61759%5D%2C%20%5B41.244019%2C%20-111.951023%5D%2C%20%5B36.84551%2C%20-76.24915%5D%2C%20%5B33.50911%2C%20-84.23495%5D%2C%20%5B36.671665%2C%20-119.733658%5D%2C%20%5B39.149639%2C%20-84.539381%5D%2C%20%5B25.776117%2C%20-80.369631%5D%2C%20%5B36.07232%2C%20-86.69174%5D%2C%20%5B34.099425%2C%20-117.846358%5D%2C%20%5B44.032507%2C%20-88.58281%5D%2C%20%5B40.27519%2C%20-111.7137%5D%2C%20%5B39.694526%2C%20-104.828976%5D%2C%20%5B40.889543%2C%20-123.570174%5D%2C%20%5B33.95384%2C%20-118.17076%5D%2C%20%5B37.8275%2C%20-121.21726%5D%2C%20%5B34.056572%2C%20-118.231739%5D%2C%20%5B34.512116%2C%20-118.030139%5D%2C%20%5B42.745023%2C%20-123.371304%5D%2C%20%5B33.913244%2C%20-118.140574%5D%2C%20%5B37.125312%2C%20-76.860766%5D%2C%20%5B38.526724%2C%20-121.952759%5D%2C%20%5B35.83288%2C%20-78.63732%5D%2C%20%5B40.06522%2C%20-80.57338%5D%2C%20%5B41.99757%2C%20-87.87716%5D%2C%20%5B44.95965%2C%20-93.20469%5D%2C%20%5B47.46459%2C%20-122.26668%5D%2C%20%5B29.70126%2C%20-95.45927%5D%2C%20%5B42.258507%2C%20-88.018765%5D%2C%20%5B42.1882%2C%20-83.38827%5D%2C%20%5B35.731954%2C%20-78.651323%5D%2C%20%5B35.845432%2C%20-78.680284%5D%2C%20%5B33.910455%2C%20-84.218765%5D%2C%20%5B33.87543%2C%20-118.193503%5D%2C%20%5B34.07584%2C%20-117.62046%5D%2C%20%5B34.07203%2C%20-117.295717%5D%2C%20%5B32.66136%2C%20-97.28016%5D%2C%20%5B40.039818%2C%20-86.87589%5D%2C%20%5B34.0099%2C%20-117.823332%5D%2C%20%5B38.57306%2C%20-121.50902%5D%2C%20%5B30.525622%2C%20-87.313316%5D%2C%20%5B35.809652%2C%20-78.416239%5D%2C%20%5B47.43389%2C%20-111.507334%5D%2C%20%5B33.918885%2C%20-117.434571%5D%2C%20%5B25.910112%2C%20-80.168208%5D%2C%20%5B35.688325%2C%20-78.845669%5D%2C%20%5B27.86514%2C%20-82.78693%5D%2C%20%5B32.524666%2C%20-93.759567%5D%2C%20%5B38.027039%2C%20-111.344082%5D%2C%20%5B33.57508%2C%20-117.67194%5D%2C%20%5B32.776833%2C%20-117.16245%5D%2C%20%5B33.65765%2C%20-117.77821%5D%2C%20%5B33.875577%2C%20-117.26518%5D%2C%20%5B29.801273%2C%20-95.5064%5D%2C%20%5B35.84905%2C%20-78.60156%5D%2C%20%5B40.71826%2C%20-112.070893%5D%2C%20%5B39.20063%2C%20-84.56353%5D%2C%20%5B37.767567%2C%20-122.405502%5D%2C%20%5B44.965322%2C%20-93.247258%5D%2C%20%5B33.96816%2C%20-118.16766%5D%2C%20%5B37.36061%2C%20-121.90502%5D%2C%20%5B44.88988%2C%20-93.28328%5D%2C%20%5B40.11384%2C%20-111.67065%5D%2C%20%5B34.30836%2C%20-117.470551%5D%2C%20%5B34.068845%2C%20-117.366515%5D%2C%20%5B42.42742%2C%20-123.24354%5D%2C%20%5B38.54118%2C%20-90.41954%5D%2C%20%5B29.781485%2C%20-95.372159%5D%2C%20%5B30.408093%2C%20-91.020754%5D%2C%20%5B37.77304%2C%20-122.40657%5D%2C%20%5B38.330678%2C%20-77.500204%5D%2C%20%5B38.47624%2C%20-121.42503%5D%2C%20%5B32.78805%2C%20-117.16024%5D%2C%20%5B37.428169%2C%20-122.10143%5D%2C%20%5B45.078674%2C%20-93.053973%5D%2C%20%5B40.429119%2C%20-79.956268%5D%2C%20%5B47.46727%2C%20-122.2284%5D%2C%20%5B35.85024%2C%20-78.33402%5D%2C%20%5B36.04773%2C%20-80.23927%5D%2C%20%5B25.92184%2C%20-80.21123%5D%2C%20%5B26.693335%2C%20-80.067985%5D%2C%20%5B32.76101%2C%20-117.16739%5D%2C%20%5B34.113331%2C%20-118.244258%5D%2C%20%5B45.266934%2C%20-93.719391%5D%2C%20%5B34.2727%2C%20-118.47198%5D%2C%20%5B32.449761%2C%20-93.865524%5D%2C%20%5B37.953572%2C%20-121.309468%5D%2C%20%5B42.42167%2C%20-82.93084%5D%2C%20%5B38.93815%2C%20-94.39794%5D%2C%20%5B33.20592%2C%20-89.82475%5D%2C%20%5B44.85408%2C%20-120.92658%5D%2C%20%5B44.938118%2C%20-123.061453%5D%2C%20%5B33.94081%2C%20-117.880381%5D%2C%20%5B30.444559%2C%20-91.138582%5D%2C%20%5B33.930773%2C%20-117.879909%5D%2C%20%5B42.882889%2C%20-83.478101%5D%2C%20%5B37.51147%2C%20-121.93808%5D%2C%20%5B42.30345%2C%20-71.08522%5D%2C%20%5B25.810269%2C%20-80.369328%5D%2C%20%5B37.98999%2C%20-122.13381%5D%2C%20%5B33.45644%2C%20-117.65166%5D%2C%20%5B26.089416%2C%20-80.168537%5D%2C%20%5B33.644195%2C%20-117.915929%5D%2C%20%5B28.005006%2C%20-82.285981%5D%2C%20%5B33.96469%2C%20-118.16889%5D%2C%20%5B30.30931%2C%20-81.77016%5D%2C%20%5B33.91891%2C%20-84.35776%5D%2C%20%5B36.07683%2C%20-80.23063%5D%2C%20%5B34.083554%2C%20-118.298805%5D%2C%20%5B40.812159%2C%20-104.79132%5D%2C%20%5B40.809457%2C%20-73.934975%5D%2C%20%5B43.407196%2C%20-70.56149%5D%2C%20%5B39.315355%2C%20-120.617509%5D%2C%20%5B33.023606%2C%20-117.079057%5D%2C%20%5B37.80811%2C%20-122.36719%5D%2C%20%5B45.06521%2C%20-93.93893%5D%2C%20%5B33.46305%2C%20-112.18034%5D%2C%20%5B34.790005%2C%20-120.458804%5D%2C%20%5B33.03514%2C%20-80.14535%5D%2C%20%5B32.37837%2C%20-86.32186%5D%2C%20%5B35.20833%2C%20-80.6701%5D%2C%20%5B41.87662%2C%20-87.91864%5D%2C%20%5B25.904649%2C%20-80.242033%5D%2C%20%5B39.111163%2C%20-76.932918%5D%2C%20%5B25.866967%2C%20-80.323114%5D%2C%20%5B37.27594%2C%20-112.63318%5D%2C%20%5B44.55579%2C%20-123.06099%5D%2C%20%5B37.895826%2C%20-121.712604%5D%2C%20%5B35.15931%2C%20-80.84876%5D%2C%20%5B25.926457%2C%20-80.240653%5D%2C%20%5B43.001896%2C%20-83.782382%5D%2C%20%5B38.244248%2C%20-122.082717%5D%2C%20%5B42.207621%2C%20-121.71779%5D%2C%20%5B41.8714%2C%20-87.74908%5D%2C%20%5B39.630035%2C%20-104.905278%5D%2C%20%5B40.95944%2C%20-73.7953%5D%2C%20%5B40.50779%2C%20-111.98278%5D%2C%20%5B37.25046%2C%20-121.91199%5D%2C%20%5B37.992591%2C%20-122.039625%5D%2C%20%5B42.621397%2C%20-123.382804%5D%2C%20%5B40.48538%2C%20-74.4227%5D%2C%20%5B32.75273%2C%20-117.15741%5D%2C%20%5B38.84105%2C%20-104.83024%5D%2C%20%5B28.880277%2C%20-80.923501%5D%2C%20%5B45.60734%2C%20-121.19748%5D%2C%20%5B37.392041%2C%20-122.168105%5D%2C%20%5B33.9036%2C%20-78.85967%5D%2C%20%5B41.794907%2C%20-88.38561%5D%2C%20%5B30.28828%2C%20-81.99049%5D%2C%20%5B29.749321%2C%20-95.45621%5D%2C%20%5B30.36333%2C%20-97.71748%5D%2C%20%5B34.958723%2C%20-82.486909%5D%2C%20%5B41.36327%2C%20-72.06141%5D%2C%20%5B44.9929%2C%20-93.28398%5D%2C%20%5B33.97473%2C%20-118.23278%5D%2C%20%5B44.70273%2C%20-122.22977%5D%2C%20%5B43.606971%2C%20-116.354665%5D%2C%20%5B42.472991%2C%20-71.44023%5D%2C%20%5B33.717609%2C%20-84.314242%5D%2C%20%5B32.652429%2C%20-96.873461%5D%2C%20%5B35.02075%2C%20-85.17629%5D%2C%20%5B45.488473%2C%20-118.409668%5D%2C%20%5B34.226074%2C%20-79.794984%5D%2C%20%5B41.42184%2C%20-81.77658%5D%2C%20%5B44.31898%2C%20-93.90496%5D%2C%20%5B34.149125%2C%20-118.803935%5D%2C%20%5B42.303473%2C%20-123.259112%5D%2C%20%5B39.30272%2C%20-123.29765%5D%2C%20%5B42.313502%2C%20-88.098549%5D%2C%20%5B47.59582%2C%20-122.31283%5D%2C%20%5B26.45755%2C%20-80.08926%5D%2C%20%5B25.92728%2C%20-80.20813%5D%2C%20%5B33.18125%2C%20-117.33573%5D%2C%20%5B40.764912%2C%20-111.991647%5D%2C%20%5B42.71923%2C%20-87.86297%5D%2C%20%5B46.62549%2C%20-92.53348%5D%2C%20%5B34.15254%2C%20-118.11622%5D%2C%20%5B44.30433%2C%20-88.2535%5D%2C%20%5B34.03706%2C%20-118.30533%5D%2C%20%5B34.749765%2C%20-86.696113%5D%2C%20%5B36.06605%2C%20-80.25757%5D%2C%20%5B37.685875%2C%20-121.659725%5D%2C%20%5B37.38665%2C%20-121.90556%5D%2C%20%5B33.945236%2C%20-118.300288%5D%2C%20%5B28.396223%2C%20-99.259239%5D%2C%20%5B38.684905%2C%20-121.339377%5D%2C%20%5B32.284753%2C%20-86.343291%5D%2C%20%5B40.02351%2C%20-82.98144%5D%2C%20%5B35.73032%2C%20-78.63574%5D%2C%20%5B38.574008%2C%20-121.383103%5D%2C%20%5B48.78312%2C%20-122.49151%5D%2C%20%5B42.19764%2C%20-87.93176%5D%2C%20%5B37.95487%2C%20-122.548236%5D%2C%20%5B45.47019%2C%20-122.68793%5D%2C%20%5B33.490042%2C%20-111.944488%5D%2C%20%5B47.75758%2C%20-122.16914%5D%2C%20%5B29.650315%2C%20-82.422409%5D%2C%20%5B41.85757%2C%20-87.64439%5D%2C%20%5B37.603428%2C%20-122.064142%5D%2C%20%5B33.82439%2C%20-118.29021%5D%2C%20%5B34.71685%2C%20-92.21794%5D%2C%20%5B35.004919%2C%20-85.217739%5D%2C%20%5B34.489447%2C%20-118.137392%5D%2C%20%5B37.980455%2C%20-121.341645%5D%2C%20%5B33.90356%2C%20-78.85995%5D%2C%20%5B25.844424%2C%20-80.206664%5D%2C%20%5B44.09151%2C%20-121.30494%5D%2C%20%5B40.692556%2C%20-121.399647%5D%2C%20%5B47.59734%2C%20-122.32074%5D%2C%20%5B41.18873%2C%20-85.29302%5D%2C%20%5B30.521484%2C%20-87.312232%5D%2C%20%5B40.479351%2C%20-104.991717%5D%2C%20%5B33.90451%2C%20-117.45989%5D%2C%20%5B40.131917%2C%20-74.065768%5D%2C%20%5B39.536554%2C%20-85.173048%5D%2C%20%5B38.405693%2C%20-122.368144%5D%2C%20%5B27.821105%2C%20-82.697841%5D%2C%20%5B43.002094%2C%20-83.752998%5D%2C%20%5B34.27699%2C%20-118.49656%5D%2C%20%5B37.49557%2C%20-121.95213%5D%2C%20%5B39.34593%2C%20-76.5069%5D%2C%20%5B38.584315%2C%20-121.415315%5D%2C%20%5B41.46846%2C%20-81.6924%5D%2C%20%5B29.81389%2C%20-95.371%5D%2C%20%5B32.772908%2C%20-96.810688%5D%2C%20%5B40.96852%2C%20-74.07897%5D%2C%20%5B41.2896%2C%20-73.92963%5D%2C%20%5B37.55187%2C%20-77.47331%5D%2C%20%5B33.85099%2C%20-117.81451%5D%2C%20%5B35.731949%2C%20-78.587193%5D%2C%20%5B37.31767%2C%20-77.494972%5D%2C%20%5B44.085827%2C%20-117.020086%5D%2C%20%5B44.8586%2C%20-93.14503%5D%2C%20%5B39.96358%2C%20-83.0197%5D%2C%20%5B39.11677%2C%20-84.5169%5D%2C%20%5B33.731506%2C%20-117.812189%5D%2C%20%5B37.0995%2C%20-111.86885%5D%2C%20%5B39.23033%2C%20-76.51011%5D%2C%20%5B33.40917%2C%20-86.76134%5D%2C%20%5B33.876612%2C%20-118.106564%5D%2C%20%5B32.759566%2C%20-97.085994%5D%2C%20%5B36.751445%2C%20-119.792286%5D%2C%20%5B43.08716%2C%20-77.61725%5D%2C%20%5B34.159663%2C%20-118.466154%5D%2C%20%5B39.423011%2C%20-76.397885%5D%2C%20%5B32.925134%2C%20-96.78748%5D%2C%20%5B39.88891%2C%20-76.88607%5D%2C%20%5B36.692827%2C%20-119.672943%5D%2C%20%5B33.81819%2C%20-84.24683%5D%2C%20%5B43.28356%2C%20-123.35597%5D%2C%20%5B34.081583%2C%20-117.723011%5D%2C%20%5B30.15349%2C%20-89.85568%5D%2C%20%5B39.26432%2C%20-104.89469%5D%2C%20%5B41.55093%2C%20-87.31094%5D%2C%20%5B34.145733%2C%20-117.296186%5D%2C%20%5B32.72042%2C%20-96.8744%5D%2C%20%5B44.559892%2C%20-123.062034%5D%2C%20%5B38.34637%2C%20-75.16799%5D%2C%20%5B28.66183%2C%20-81.38979%5D%2C%20%5B33.46257%2C%20-112.12931%5D%2C%20%5B45.671022%2C%20-111.126053%5D%2C%20%5B33.595987%2C%20-112.177318%5D%2C%20%5B33.94747%2C%20-118.36829%5D%2C%20%5B34.276753%2C%20-118.423207%5D%2C%20%5B34.386257%2C%20-81.088423%5D%2C%20%5B39.87644%2C%20-75.25635%5D%2C%20%5B35.799121%2C%20-78.568418%5D%2C%20%5B42.96269%2C%20-123.32854%5D%2C%20%5B38.500661%2C%20-121.517679%5D%2C%20%5B43.074356%2C%20-78.990916%5D%2C%20%5B25.821447%2C%20-80.248828%5D%2C%20%5B34.04674%2C%20-118.2148%5D%2C%20%5B46.072648%2C%20-123.916919%5D%2C%20%5B35.26091%2C%20-80.84178%5D%2C%20%5B42.67015%2C%20-73.74222%5D%2C%20%5B45.251107%2C%20-123.848114%5D%2C%20%5B45.561175%2C%20-122.171721%5D%2C%20%5B26.10258%2C%20-80.26649%5D%2C%20%5B42.92628%2C%20-84.00448%5D%2C%20%5B42.912728%2C%20-85.637247%5D%2C%20%5B32.99426%2C%20-96.70947%5D%2C%20%5B26.09479%2C%20-80.2333%5D%2C%20%5B40.749199%2C%20-73.774003%5D%2C%20%5B45.09633%2C%20-123.3663%5D%2C%20%5B35.13496%2C%20-89.86786%5D%2C%20%5B38.8946%2C%20-76.95302%5D%2C%20%5B42.97049%2C%20-83.76985%5D%2C%20%5B40.60799%2C%20-74.133564%5D%2C%20%5B38.86966%2C%20-77.17464%5D%2C%20%5B28.196572%2C%20-82.546538%5D%2C%20%5B33.761404%2C%20-84.381169%5D%2C%20%5B38.631657%2C%20-121.328141%5D%2C%20%5B25.685165%2C%20-80.419593%5D%2C%20%5B40.734634%2C%20-73.435573%5D%2C%20%5B37.698419%2C%20-121.361207%5D%2C%20%5B36.15798%2C%20-86.78419%5D%2C%20%5B34.078012%2C%20-118.2859%5D%2C%20%5B45.52874%2C%20-122.66575%5D%2C%20%5B38.614222%2C%20-77.300808%5D%2C%20%5B41.85886%2C%20-88.10251%5D%2C%20%5B26.086047%2C%20-80.201789%5D%2C%20%5B34.17108%2C%20-118.50441%5D%5D%2C%0A%20%20%20%20%20%20%20%20%20%20%20%20%20%20%20%20%7B%22blur%22%3A%2015%2C%20%22maxZoom%22%3A%2018%2C%20%22minOpacity%22%3A%200.5%2C%20%22radius%22%3A%2025%7D%0A%20%20%20%20%20%20%20%20%20%20%20%20%29.addTo%28map_d3126a693f0b4ef883fea3ecea18e2cc%29%3B%0A%20%20%20%20%20%20%20%20%0A%3C/script%3E onload=\"this.contentDocument.open();this.contentDocument.write(    decodeURIComponent(this.getAttribute('data-html')));this.contentDocument.close();\" allowfullscreen webkitallowfullscreen mozallowfullscreen></iframe></div></div>"
      ],
      "text/plain": [
       "<folium.folium.Map at 0x7ff459a80970>"
      ]
     },
     "execution_count": 28,
     "metadata": {},
     "output_type": "execute_result"
    }
   ],
   "source": [
    "map = folium.Map()\n",
    "HeatMap(lat_lon_pairs).add_to(map)\n",
    "map"
   ]
  },
  {
   "cell_type": "markdown",
   "id": "7dee938f",
   "metadata": {},
   "source": [
    "## - Change datatype of the Start Time & End Time "
   ]
  },
  {
   "cell_type": "code",
   "execution_count": 29,
   "id": "468fed67",
   "metadata": {},
   "outputs": [],
   "source": [
    "accident_df.Start_Time = pd.to_datetime(accident_df.Start_Time)\n",
    "accident_df.End_Time = pd.to_datetime(accident_df.End_Time)"
   ]
  },
  {
   "cell_type": "code",
   "execution_count": 30,
   "id": "5d8b72d6",
   "metadata": {},
   "outputs": [
    {
     "data": {
      "text/plain": [
       "ID                        object\n",
       "Severity                   int64\n",
       "Start_Time        datetime64[ns]\n",
       "End_Time          datetime64[ns]\n",
       "Start_Lat                float64\n",
       "Start_Lng                float64\n",
       "End_Lat                  float64\n",
       "End_Lng                  float64\n",
       "Distance(mi)             float64\n",
       "Description               object\n",
       "Street                    object\n",
       "Side                      object\n",
       "City                      object\n",
       "County                    object\n",
       "State                     object\n",
       "Country                   object\n",
       "Visibility(mi)           float64\n",
       "Sunrise_Sunset            object\n",
       "dtype: object"
      ]
     },
     "execution_count": 30,
     "metadata": {},
     "output_type": "execute_result"
    }
   ],
   "source": [
    "accident_df.dtypes"
   ]
  },
  {
   "cell_type": "code",
   "execution_count": 31,
   "id": "0899f333",
   "metadata": {},
   "outputs": [
    {
     "data": {
      "text/plain": [
       "0   2016-02-08 00:37:08\n",
       "1   2016-02-08 05:56:20\n",
       "Name: Start_Time, dtype: datetime64[ns]"
      ]
     },
     "execution_count": 31,
     "metadata": {},
     "output_type": "execute_result"
    }
   ],
   "source": [
    "accident_df.Start_Time.head(2)"
   ]
  },
  {
   "cell_type": "code",
   "execution_count": 32,
   "id": "20a2098d",
   "metadata": {},
   "outputs": [
    {
     "data": {
      "text/plain": [
       "0   2016-02-08 06:37:08\n",
       "1   2016-02-08 11:56:20\n",
       "Name: End_Time, dtype: datetime64[ns]"
      ]
     },
     "execution_count": 32,
     "metadata": {},
     "output_type": "execute_result"
    }
   ],
   "source": [
    "accident_df.End_Time.head(2)"
   ]
  },
  {
   "cell_type": "markdown",
   "id": "dc52bcff",
   "metadata": {},
   "source": [
    "## - New feature Amount of time in the unit of minutes for each accident"
   ]
  },
  {
   "cell_type": "code",
   "execution_count": 33,
   "id": "ef435c5c",
   "metadata": {},
   "outputs": [],
   "source": [
    "accident_df['Time_Duration(min)']=round((accident_df['End_Time'] - accident_df['Start_Time'])/np.timedelta64(1,'m'))"
   ]
  },
  {
   "cell_type": "code",
   "execution_count": 34,
   "id": "1984f7d4",
   "metadata": {},
   "outputs": [
    {
     "name": "stdout",
     "output_type": "stream",
     "text": [
      "<class 'pandas.core.frame.DataFrame'>\n",
      "Int64Index: 1471775 entries, 0 to 1516063\n",
      "Data columns (total 19 columns):\n",
      " #   Column              Non-Null Count    Dtype         \n",
      "---  ------              --------------    -----         \n",
      " 0   ID                  1471775 non-null  object        \n",
      " 1   Severity            1471775 non-null  int64         \n",
      " 2   Start_Time          1471775 non-null  datetime64[ns]\n",
      " 3   End_Time            1471775 non-null  datetime64[ns]\n",
      " 4   Start_Lat           1471775 non-null  float64       \n",
      " 5   Start_Lng           1471775 non-null  float64       \n",
      " 6   End_Lat             1471775 non-null  float64       \n",
      " 7   End_Lng             1471775 non-null  float64       \n",
      " 8   Distance(mi)        1471775 non-null  float64       \n",
      " 9   Description         1471775 non-null  object        \n",
      " 10  Street              1471775 non-null  object        \n",
      " 11  Side                1471775 non-null  object        \n",
      " 12  City                1471775 non-null  object        \n",
      " 13  County              1471775 non-null  object        \n",
      " 14  State               1471775 non-null  object        \n",
      " 15  Country             1471775 non-null  object        \n",
      " 16  Visibility(mi)      1471775 non-null  float64       \n",
      " 17  Sunrise_Sunset      1471775 non-null  object        \n",
      " 18  Time_Duration(min)  1471775 non-null  float64       \n",
      "dtypes: datetime64[ns](2), float64(7), int64(1), object(9)\n",
      "memory usage: 224.6+ MB\n"
     ]
    }
   ],
   "source": [
    "accident_df.info()"
   ]
  },
  {
   "cell_type": "code",
   "execution_count": 35,
   "id": "81d4d1ef",
   "metadata": {},
   "outputs": [
    {
     "data": {
      "text/html": [
       "<div>\n",
       "<style scoped>\n",
       "    .dataframe tbody tr th:only-of-type {\n",
       "        vertical-align: middle;\n",
       "    }\n",
       "\n",
       "    .dataframe tbody tr th {\n",
       "        vertical-align: top;\n",
       "    }\n",
       "\n",
       "    .dataframe thead th {\n",
       "        text-align: right;\n",
       "    }\n",
       "</style>\n",
       "<table border=\"1\" class=\"dataframe\">\n",
       "  <thead>\n",
       "    <tr style=\"text-align: right;\">\n",
       "      <th></th>\n",
       "      <th>ID</th>\n",
       "      <th>Severity</th>\n",
       "      <th>Start_Time</th>\n",
       "      <th>End_Time</th>\n",
       "      <th>Start_Lat</th>\n",
       "      <th>Start_Lng</th>\n",
       "      <th>End_Lat</th>\n",
       "      <th>End_Lng</th>\n",
       "      <th>Distance(mi)</th>\n",
       "      <th>Description</th>\n",
       "      <th>Street</th>\n",
       "      <th>Side</th>\n",
       "      <th>City</th>\n",
       "      <th>County</th>\n",
       "      <th>State</th>\n",
       "      <th>Country</th>\n",
       "      <th>Visibility(mi)</th>\n",
       "      <th>Sunrise_Sunset</th>\n",
       "      <th>Time_Duration(min)</th>\n",
       "    </tr>\n",
       "  </thead>\n",
       "  <tbody>\n",
       "    <tr>\n",
       "      <th>0</th>\n",
       "      <td>A-2716600</td>\n",
       "      <td>3</td>\n",
       "      <td>2016-02-08 00:37:08</td>\n",
       "      <td>2016-02-08 06:37:08</td>\n",
       "      <td>40.10891</td>\n",
       "      <td>-83.09286</td>\n",
       "      <td>40.11206</td>\n",
       "      <td>-83.03187</td>\n",
       "      <td>3.23</td>\n",
       "      <td>Between Sawmill Rd/Exit 20 and OH-315/Olentang...</td>\n",
       "      <td>Outerbelt E</td>\n",
       "      <td>R</td>\n",
       "      <td>Dublin</td>\n",
       "      <td>Franklin</td>\n",
       "      <td>OH</td>\n",
       "      <td>US</td>\n",
       "      <td>10.0</td>\n",
       "      <td>Night</td>\n",
       "      <td>360.0</td>\n",
       "    </tr>\n",
       "  </tbody>\n",
       "</table>\n",
       "</div>"
      ],
      "text/plain": [
       "          ID  Severity          Start_Time            End_Time  Start_Lat  \\\n",
       "0  A-2716600         3 2016-02-08 00:37:08 2016-02-08 06:37:08   40.10891   \n",
       "\n",
       "   Start_Lng   End_Lat   End_Lng  Distance(mi)  \\\n",
       "0  -83.09286  40.11206 -83.03187          3.23   \n",
       "\n",
       "                                         Description       Street Side  \\\n",
       "0  Between Sawmill Rd/Exit 20 and OH-315/Olentang...  Outerbelt E    R   \n",
       "\n",
       "     City    County State Country  Visibility(mi) Sunrise_Sunset  \\\n",
       "0  Dublin  Franklin    OH      US            10.0          Night   \n",
       "\n",
       "   Time_Duration(min)  \n",
       "0               360.0  "
      ]
     },
     "execution_count": 35,
     "metadata": {},
     "output_type": "execute_result"
    }
   ],
   "source": [
    "accident_df.head(1)"
   ]
  },
  {
   "cell_type": "code",
   "execution_count": 36,
   "id": "3e76dbcd",
   "metadata": {},
   "outputs": [
    {
     "data": {
      "text/plain": [
       "Series([], Name: Time_Duration(min), dtype: float64)"
      ]
     },
     "execution_count": 36,
     "metadata": {},
     "output_type": "execute_result"
    }
   ],
   "source": [
    "# Check if there is any negative time_duration values\n",
    "accident_df['Time_Duration(min)'][accident_df['Time_Duration(min)']<=0]"
   ]
  },
  {
   "cell_type": "code",
   "execution_count": 37,
   "id": "6afb4239",
   "metadata": {},
   "outputs": [
    {
     "name": "stdout",
     "output_type": "stream",
     "text": [
      "<class 'pandas.core.frame.DataFrame'>\n",
      "Int64Index: 1471775 entries, 0 to 1516063\n",
      "Data columns (total 19 columns):\n",
      " #   Column              Non-Null Count    Dtype         \n",
      "---  ------              --------------    -----         \n",
      " 0   ID                  1471775 non-null  object        \n",
      " 1   Severity            1471775 non-null  float64       \n",
      " 2   Start_Time          1471775 non-null  datetime64[ns]\n",
      " 3   End_Time            1471775 non-null  datetime64[ns]\n",
      " 4   Start_Lat           1471775 non-null  float64       \n",
      " 5   Start_Lng           1471775 non-null  float64       \n",
      " 6   End_Lat             1471775 non-null  float64       \n",
      " 7   End_Lng             1471775 non-null  float64       \n",
      " 8   Distance(mi)        1471775 non-null  float64       \n",
      " 9   Description         1471775 non-null  object        \n",
      " 10  Street              1471775 non-null  object        \n",
      " 11  Side                1471775 non-null  object        \n",
      " 12  City                1471775 non-null  object        \n",
      " 13  County              1471775 non-null  object        \n",
      " 14  State               1471775 non-null  object        \n",
      " 15  Country             1471775 non-null  object        \n",
      " 16  Visibility(mi)      1471775 non-null  float64       \n",
      " 17  Sunrise_Sunset      1471775 non-null  object        \n",
      " 18  Time_Duration(min)  1471775 non-null  float64       \n",
      "dtypes: datetime64[ns](2), float64(8), object(9)\n",
      "memory usage: 224.6+ MB\n"
     ]
    }
   ],
   "source": [
    "neg_outliers=accident_df['Time_Duration(min)']<=0\n",
    "\n",
    "# Set outliers to NAN\n",
    "accident_df[neg_outliers] = np.nan\n",
    "\n",
    "# Drop rows with negative td\n",
    "accident_df.dropna(subset=['Time_Duration(min)'],axis=0,inplace=True)\n",
    "accident_df.info()"
   ]
  },
  {
   "cell_type": "code",
   "execution_count": 38,
   "id": "c29bf3d6",
   "metadata": {},
   "outputs": [
    {
     "name": "stdout",
     "output_type": "stream",
     "text": [
      "<class 'pandas.core.frame.DataFrame'>\n",
      "Int64Index: 1471775 entries, 0 to 1516063\n",
      "Data columns (total 19 columns):\n",
      " #   Column              Non-Null Count    Dtype         \n",
      "---  ------              --------------    -----         \n",
      " 0   ID                  1470981 non-null  object        \n",
      " 1   Severity            1470981 non-null  float64       \n",
      " 2   Start_Time          1470981 non-null  datetime64[ns]\n",
      " 3   End_Time            1470981 non-null  datetime64[ns]\n",
      " 4   Start_Lat           1470981 non-null  float64       \n",
      " 5   Start_Lng           1470981 non-null  float64       \n",
      " 6   End_Lat             1470981 non-null  float64       \n",
      " 7   End_Lng             1470981 non-null  float64       \n",
      " 8   Distance(mi)        1470981 non-null  float64       \n",
      " 9   Description         1470981 non-null  object        \n",
      " 10  Street              1470981 non-null  object        \n",
      " 11  Side                1470981 non-null  object        \n",
      " 12  City                1470981 non-null  object        \n",
      " 13  County              1470981 non-null  object        \n",
      " 14  State               1470981 non-null  object        \n",
      " 15  Country             1470981 non-null  object        \n",
      " 16  Visibility(mi)      1470981 non-null  float64       \n",
      " 17  Sunrise_Sunset      1470981 non-null  object        \n",
      " 18  Time_Duration(min)  1471775 non-null  float64       \n",
      "dtypes: datetime64[ns](2), float64(8), object(9)\n",
      "memory usage: 224.6+ MB\n"
     ]
    }
   ],
   "source": [
    "# Remove outliers for Time_Duration(min): n * std (n=3), \n",
    "\n",
    "n=3\n",
    "median = accident_df['Time_Duration(min)'].median()\n",
    "std = accident_df['Time_Duration(min)'].std()\n",
    "outliers = (accident_df['Time_Duration(min)'] - median).abs() > std*n\n",
    "\n",
    "# Set outliers to NULL\n",
    "accident_df[outliers] = np.nan\n",
    "\n",
    "# Fill  with median\n",
    "accident_df['Time_Duration(min)'].fillna(median, inplace=True) \n",
    "\n",
    "accident_df.info()"
   ]
  },
  {
   "cell_type": "markdown",
   "id": "8f680491",
   "metadata": {},
   "source": [
    "## Max time to clear an accident"
   ]
  },
  {
   "cell_type": "code",
   "execution_count": 39,
   "id": "d4a39142",
   "metadata": {},
   "outputs": [
    {
     "name": "stdout",
     "output_type": "stream",
     "text": [
      "Max time to clear an accident by 17409.0 minutes \n",
      "Max time to clear an accident by 290 hours \n",
      "Max time to clear an accident by 12 days \n",
      "Min time to clear an accident by 5.0 minutes \n"
     ]
    }
   ],
   "source": [
    "max_time_minutes = accident_df['Time_Duration(min)'].max()\n",
    "max_time_hours = round(accident_df['Time_Duration(min)'].max()/60)\n",
    "max_time_days = round(accident_df['Time_Duration(min)'].max()/60/24)\n",
    "min_time_minutes = accident_df['Time_Duration(min)'].min()\n",
    "\n",
    "print('Max time to clear an accident by {} minutes ' .format(max_time_minutes))\n",
    "print('Max time to clear an accident by {} hours ' .format(max_time_hours))\n",
    "print('Max time to clear an accident by {} days ' .format(max_time_days))\n",
    "print('Min time to clear an accident by {} minutes ' .format(min_time_minutes))\n",
    "\n"
   ]
  },
  {
   "cell_type": "markdown",
   "id": "cfa12373",
   "metadata": {},
   "source": [
    "## Dose the weekend affect the number of accidents"
   ]
  },
  {
   "cell_type": "code",
   "execution_count": 40,
   "id": "93c0d5c6",
   "metadata": {},
   "outputs": [],
   "source": [
    "from datetime import datetime\n",
    "from datetime import date\n",
    "\n",
    "accident_df['Is_Weekend'] = accident_df['Start_Time'].dt.weekday > 4"
   ]
  },
  {
   "cell_type": "code",
   "execution_count": 41,
   "id": "044e4787",
   "metadata": {},
   "outputs": [
    {
     "data": {
      "text/html": [
       "<div>\n",
       "<style scoped>\n",
       "    .dataframe tbody tr th:only-of-type {\n",
       "        vertical-align: middle;\n",
       "    }\n",
       "\n",
       "    .dataframe tbody tr th {\n",
       "        vertical-align: top;\n",
       "    }\n",
       "\n",
       "    .dataframe thead th {\n",
       "        text-align: right;\n",
       "    }\n",
       "</style>\n",
       "<table border=\"1\" class=\"dataframe\">\n",
       "  <thead>\n",
       "    <tr style=\"text-align: right;\">\n",
       "      <th></th>\n",
       "      <th>Is_Weekend</th>\n",
       "      <th>#Accident</th>\n",
       "    </tr>\n",
       "  </thead>\n",
       "  <tbody>\n",
       "    <tr>\n",
       "      <th>0</th>\n",
       "      <td>True</td>\n",
       "      <td>249176</td>\n",
       "    </tr>\n",
       "    <tr>\n",
       "      <th>1</th>\n",
       "      <td>False</td>\n",
       "      <td>1221805</td>\n",
       "    </tr>\n",
       "  </tbody>\n",
       "</table>\n",
       "</div>"
      ],
      "text/plain": [
       "   Is_Weekend  #Accident\n",
       "0        True     249176\n",
       "1       False    1221805"
      ]
     },
     "execution_count": 41,
     "metadata": {},
     "output_type": "execute_result"
    }
   ],
   "source": [
    "# Show number of accidents in weekday and weekend\n",
    "weekend = accident_df.Is_Weekend\n",
    "weekend = accident_df.groupby([weekend]).count().sort_values(by = \"ID\").iloc[:,[0]]\n",
    "weekend = weekend.reset_index()\n",
    "weekend.rename(columns={'ID': '#Accident'}, inplace=True)\n",
    "weekend"
   ]
  },
  {
   "cell_type": "markdown",
   "id": "e23a1843",
   "metadata": {},
   "source": [
    "## - Dose the weekend affect the severity of accidents (New Feature)"
   ]
  },
  {
   "cell_type": "code",
   "execution_count": 42,
   "id": "2a07c59d",
   "metadata": {},
   "outputs": [
    {
     "data": {
      "text/html": [
       "<div>\n",
       "<style scoped>\n",
       "    .dataframe tbody tr th:only-of-type {\n",
       "        vertical-align: middle;\n",
       "    }\n",
       "\n",
       "    .dataframe tbody tr th {\n",
       "        vertical-align: top;\n",
       "    }\n",
       "\n",
       "    .dataframe thead th {\n",
       "        text-align: right;\n",
       "    }\n",
       "</style>\n",
       "<table border=\"1\" class=\"dataframe\">\n",
       "  <thead>\n",
       "    <tr style=\"text-align: right;\">\n",
       "      <th></th>\n",
       "      <th>Is_Weekend</th>\n",
       "      <th>Severity</th>\n",
       "      <th>#Accident</th>\n",
       "    </tr>\n",
       "  </thead>\n",
       "  <tbody>\n",
       "    <tr>\n",
       "      <th>0</th>\n",
       "      <td>True</td>\n",
       "      <td>1.0</td>\n",
       "      <td>4319</td>\n",
       "    </tr>\n",
       "    <tr>\n",
       "      <th>1</th>\n",
       "      <td>True</td>\n",
       "      <td>4.0</td>\n",
       "      <td>23282</td>\n",
       "    </tr>\n",
       "    <tr>\n",
       "      <th>2</th>\n",
       "      <td>False</td>\n",
       "      <td>1.0</td>\n",
       "      <td>23515</td>\n",
       "    </tr>\n",
       "    <tr>\n",
       "      <th>3</th>\n",
       "      <td>True</td>\n",
       "      <td>3.0</td>\n",
       "      <td>24623</td>\n",
       "    </tr>\n",
       "    <tr>\n",
       "      <th>4</th>\n",
       "      <td>False</td>\n",
       "      <td>4.0</td>\n",
       "      <td>87177</td>\n",
       "    </tr>\n",
       "    <tr>\n",
       "      <th>5</th>\n",
       "      <td>False</td>\n",
       "      <td>3.0</td>\n",
       "      <td>132285</td>\n",
       "    </tr>\n",
       "    <tr>\n",
       "      <th>6</th>\n",
       "      <td>True</td>\n",
       "      <td>2.0</td>\n",
       "      <td>196952</td>\n",
       "    </tr>\n",
       "    <tr>\n",
       "      <th>7</th>\n",
       "      <td>False</td>\n",
       "      <td>2.0</td>\n",
       "      <td>978828</td>\n",
       "    </tr>\n",
       "  </tbody>\n",
       "</table>\n",
       "</div>"
      ],
      "text/plain": [
       "   Is_Weekend  Severity  #Accident\n",
       "0        True       1.0       4319\n",
       "1        True       4.0      23282\n",
       "2       False       1.0      23515\n",
       "3        True       3.0      24623\n",
       "4       False       4.0      87177\n",
       "5       False       3.0     132285\n",
       "6        True       2.0     196952\n",
       "7       False       2.0     978828"
      ]
     },
     "execution_count": 42,
     "metadata": {},
     "output_type": "execute_result"
    }
   ],
   "source": [
    "# Show severity of accidents in weekday and weekend\n",
    "weekend_Severity = accident_df.groupby(['Is_Weekend','Severity']).count().sort_values(by = \"ID\").iloc[:,[0]]\n",
    "weekend_Severity = weekend_Severity.reset_index()\n",
    "weekend_Severity.rename(columns={'ID': '#Accident'}, inplace=True)\n",
    "weekend_Severity"
   ]
  },
  {
   "cell_type": "code",
   "execution_count": null,
   "id": "c1e07682",
   "metadata": {},
   "outputs": [],
   "source": []
  },
  {
   "cell_type": "markdown",
   "id": "4ad6ed08",
   "metadata": {},
   "source": [
    "## - What times with the most accidents? "
   ]
  },
  {
   "cell_type": "code",
   "execution_count": 43,
   "id": "aa59f753",
   "metadata": {},
   "outputs": [
    {
     "data": {
      "text/plain": [
       "<AxesSubplot:xlabel='Start_Time', ylabel='Count'>"
      ]
     },
     "execution_count": 43,
     "metadata": {},
     "output_type": "execute_result"
    },
    {
     "data": {
      "image/png": "[encoded data removed]",
      "text/plain": [
       "<Figure size 432x288 with 1 Axes>"
      ]
     },
     "metadata": {
      "needs_background": "light"
     },
     "output_type": "display_data"
    }
   ],
   "source": [
    "# Show the time that has most accidents \n",
    "sns.histplot(accident_df.Start_Time.dt.hour)"
   ]
  },
  {
   "cell_type": "markdown",
   "id": "13ea19e9",
   "metadata": {},
   "source": [
    "## - Compare number of accidents of each year [2016, 2017, 2018, 2019, 2020] "
   ]
  },
  {
   "cell_type": "code",
   "execution_count": 44,
   "id": "35fa118d",
   "metadata": {},
   "outputs": [],
   "source": [
    "times = pd.to_datetime(accident_df.Start_Time)\n",
    "times = accident_df.groupby([times.dt.year]).count().sort_values(by = \"ID\").iloc[:,[0]]\n",
    "times = times.reset_index()"
   ]
  },
  {
   "cell_type": "code",
   "execution_count": 45,
   "id": "71a72891",
   "metadata": {},
   "outputs": [
    {
     "data": {
      "text/html": [
       "<div>\n",
       "<style scoped>\n",
       "    .dataframe tbody tr th:only-of-type {\n",
       "        vertical-align: middle;\n",
       "    }\n",
       "\n",
       "    .dataframe tbody tr th {\n",
       "        vertical-align: top;\n",
       "    }\n",
       "\n",
       "    .dataframe thead th {\n",
       "        text-align: right;\n",
       "    }\n",
       "</style>\n",
       "<table border=\"1\" class=\"dataframe\">\n",
       "  <thead>\n",
       "    <tr style=\"text-align: right;\">\n",
       "      <th></th>\n",
       "      <th>Year</th>\n",
       "      <th>#Accident</th>\n",
       "    </tr>\n",
       "  </thead>\n",
       "  <tbody>\n",
       "    <tr>\n",
       "      <th>0</th>\n",
       "      <td>2016</td>\n",
       "      <td>126196</td>\n",
       "    </tr>\n",
       "    <tr>\n",
       "      <th>1</th>\n",
       "      <td>2018</td>\n",
       "      <td>161859</td>\n",
       "    </tr>\n",
       "    <tr>\n",
       "      <th>2</th>\n",
       "      <td>2017</td>\n",
       "      <td>165401</td>\n",
       "    </tr>\n",
       "    <tr>\n",
       "      <th>3</th>\n",
       "      <td>2019</td>\n",
       "      <td>254508</td>\n",
       "    </tr>\n",
       "    <tr>\n",
       "      <th>4</th>\n",
       "      <td>2020</td>\n",
       "      <td>763017</td>\n",
       "    </tr>\n",
       "  </tbody>\n",
       "</table>\n",
       "</div>"
      ],
      "text/plain": [
       "   Year  #Accident\n",
       "0  2016     126196\n",
       "1  2018     161859\n",
       "2  2017     165401\n",
       "3  2019     254508\n",
       "4  2020     763017"
      ]
     },
     "execution_count": 45,
     "metadata": {},
     "output_type": "execute_result"
    }
   ],
   "source": [
    "# Change coloumn name\n",
    "times['Start_Time'] = pd.to_numeric(times['Start_Time'], downcast='signed')\n",
    "times.rename(columns={'Start_Time': 'Year' ,  'ID': '#Accident'}, inplace=True)\n",
    "\n",
    "\n",
    "times"
   ]
  },
  {
   "cell_type": "code",
   "execution_count": 46,
   "id": "9791acb2",
   "metadata": {},
   "outputs": [
    {
     "data": {
      "image/png": "[encoded data removed]",
      "text/plain": [
       "<Figure size 720x360 with 1 Axes>"
      ]
     },
     "metadata": {
      "needs_background": "light"
     },
     "output_type": "display_data"
    }
   ],
   "source": [
    "times = times.head().sort_values(by = \"Year\")\n",
    "\n",
    "a4_dims = (10, 5)\n",
    "fig, ax = plt.subplots(figsize=a4_dims)\n",
    "x = times['Year']\n",
    "y = times['#Accident']\n",
    "\n",
    "plt.plot(x, y, color='Red')\n",
    "plt.xticks([2016,2017,2018,2019,2020])\n",
    "plt.show()"
   ]
  },
  {
   "cell_type": "markdown",
   "id": "98e21a4f",
   "metadata": {},
   "source": [
    "## - Compare number of accedint in Day & Night"
   ]
  },
  {
   "cell_type": "code",
   "execution_count": 47,
   "id": "7ec789bd",
   "metadata": {},
   "outputs": [],
   "source": [
    "day_night = accident_df.Sunrise_Sunset\n",
    "day_night = accident_df.groupby([day_night]).count().sort_values(by = \"ID\").iloc[:,[0]]\n",
    "day_night = day_night.reset_index()"
   ]
  },
  {
   "cell_type": "code",
   "execution_count": 48,
   "id": "cc061be6",
   "metadata": {},
   "outputs": [
    {
     "data": {
      "text/html": [
       "<div>\n",
       "<style scoped>\n",
       "    .dataframe tbody tr th:only-of-type {\n",
       "        vertical-align: middle;\n",
       "    }\n",
       "\n",
       "    .dataframe tbody tr th {\n",
       "        vertical-align: top;\n",
       "    }\n",
       "\n",
       "    .dataframe thead th {\n",
       "        text-align: right;\n",
       "    }\n",
       "</style>\n",
       "<table border=\"1\" class=\"dataframe\">\n",
       "  <thead>\n",
       "    <tr style=\"text-align: right;\">\n",
       "      <th></th>\n",
       "      <th>Day/Night</th>\n",
       "      <th>#Accident</th>\n",
       "    </tr>\n",
       "  </thead>\n",
       "  <tbody>\n",
       "    <tr>\n",
       "      <th>0</th>\n",
       "      <td>Night</td>\n",
       "      <td>585467</td>\n",
       "    </tr>\n",
       "    <tr>\n",
       "      <th>1</th>\n",
       "      <td>Day</td>\n",
       "      <td>885514</td>\n",
       "    </tr>\n",
       "  </tbody>\n",
       "</table>\n",
       "</div>"
      ],
      "text/plain": [
       "  Day/Night  #Accident\n",
       "0     Night     585467\n",
       "1       Day     885514"
      ]
     },
     "execution_count": 48,
     "metadata": {},
     "output_type": "execute_result"
    }
   ],
   "source": [
    "day_night.rename(columns={'Sunrise_Sunset': 'Day/Night', 'ID': '#Accident'}, inplace=True)\n",
    "day_night"
   ]
  },
  {
   "cell_type": "markdown",
   "id": "951f052d",
   "metadata": {},
   "source": [
    "## - Compare number of accedint in severity"
   ]
  },
  {
   "cell_type": "code",
   "execution_count": 49,
   "id": "5ef063a3",
   "metadata": {},
   "outputs": [],
   "source": [
    "# How the severity of accedint affect \n",
    "\n",
    "severity = accident_df.Severity\n",
    "severity=accident_df.groupby([severity]).count().sort_values(by = \"ID\").iloc[:,[0]]\n",
    "severity=severity.reset_index()\n"
   ]
  },
  {
   "cell_type": "code",
   "execution_count": 50,
   "id": "54da13cc",
   "metadata": {},
   "outputs": [
    {
     "data": {
      "text/html": [
       "<div>\n",
       "<style scoped>\n",
       "    .dataframe tbody tr th:only-of-type {\n",
       "        vertical-align: middle;\n",
       "    }\n",
       "\n",
       "    .dataframe tbody tr th {\n",
       "        vertical-align: top;\n",
       "    }\n",
       "\n",
       "    .dataframe thead th {\n",
       "        text-align: right;\n",
       "    }\n",
       "</style>\n",
       "<table border=\"1\" class=\"dataframe\">\n",
       "  <thead>\n",
       "    <tr style=\"text-align: right;\">\n",
       "      <th></th>\n",
       "      <th>Severity</th>\n",
       "      <th>#Accident</th>\n",
       "    </tr>\n",
       "  </thead>\n",
       "  <tbody>\n",
       "    <tr>\n",
       "      <th>0</th>\n",
       "      <td>1.0</td>\n",
       "      <td>27834</td>\n",
       "    </tr>\n",
       "    <tr>\n",
       "      <th>1</th>\n",
       "      <td>4.0</td>\n",
       "      <td>110459</td>\n",
       "    </tr>\n",
       "    <tr>\n",
       "      <th>2</th>\n",
       "      <td>3.0</td>\n",
       "      <td>156908</td>\n",
       "    </tr>\n",
       "    <tr>\n",
       "      <th>3</th>\n",
       "      <td>2.0</td>\n",
       "      <td>1175780</td>\n",
       "    </tr>\n",
       "  </tbody>\n",
       "</table>\n",
       "</div>"
      ],
      "text/plain": [
       "   Severity  #Accident\n",
       "0       1.0      27834\n",
       "1       4.0     110459\n",
       "2       3.0     156908\n",
       "3       2.0    1175780"
      ]
     },
     "execution_count": 50,
     "metadata": {},
     "output_type": "execute_result"
    }
   ],
   "source": [
    "severity.rename(columns={'ID': '#Accident'}, inplace=True)\n",
    "\n",
    "\n",
    "severity"
   ]
  },
  {
   "cell_type": "code",
   "execution_count": null,
   "id": "5ef74ac5",
   "metadata": {},
   "outputs": [],
   "source": []
  },
  {
   "cell_type": "markdown",
   "id": "3c6446d7",
   "metadata": {},
   "source": [
    "## - Show the severity of the accidents during the day or night"
   ]
  },
  {
   "cell_type": "code",
   "execution_count": 51,
   "id": "cb72af58",
   "metadata": {},
   "outputs": [],
   "source": [
    "day_severity = accident_df.groupby(['Severity', 'Sunrise_Sunset'] ).count().sort_values(by = \"ID\").iloc[:,[0]]\n",
    "day_severity = day_severity.reset_index()"
   ]
  },
  {
   "cell_type": "code",
   "execution_count": 52,
   "id": "48d36cfe",
   "metadata": {},
   "outputs": [
    {
     "data": {
      "text/html": [
       "<div>\n",
       "<style scoped>\n",
       "    .dataframe tbody tr th:only-of-type {\n",
       "        vertical-align: middle;\n",
       "    }\n",
       "\n",
       "    .dataframe tbody tr th {\n",
       "        vertical-align: top;\n",
       "    }\n",
       "\n",
       "    .dataframe thead th {\n",
       "        text-align: right;\n",
       "    }\n",
       "</style>\n",
       "<table border=\"1\" class=\"dataframe\">\n",
       "  <thead>\n",
       "    <tr style=\"text-align: right;\">\n",
       "      <th></th>\n",
       "      <th>Severity</th>\n",
       "      <th>Day/Night</th>\n",
       "      <th>#Accident</th>\n",
       "    </tr>\n",
       "  </thead>\n",
       "  <tbody>\n",
       "    <tr>\n",
       "      <th>0</th>\n",
       "      <td>1.0</td>\n",
       "      <td>Night</td>\n",
       "      <td>4704</td>\n",
       "    </tr>\n",
       "    <tr>\n",
       "      <th>1</th>\n",
       "      <td>1.0</td>\n",
       "      <td>Day</td>\n",
       "      <td>23130</td>\n",
       "    </tr>\n",
       "    <tr>\n",
       "      <th>2</th>\n",
       "      <td>4.0</td>\n",
       "      <td>Night</td>\n",
       "      <td>45502</td>\n",
       "    </tr>\n",
       "    <tr>\n",
       "      <th>3</th>\n",
       "      <td>3.0</td>\n",
       "      <td>Night</td>\n",
       "      <td>48259</td>\n",
       "    </tr>\n",
       "    <tr>\n",
       "      <th>4</th>\n",
       "      <td>4.0</td>\n",
       "      <td>Day</td>\n",
       "      <td>64957</td>\n",
       "    </tr>\n",
       "    <tr>\n",
       "      <th>5</th>\n",
       "      <td>3.0</td>\n",
       "      <td>Day</td>\n",
       "      <td>108649</td>\n",
       "    </tr>\n",
       "    <tr>\n",
       "      <th>6</th>\n",
       "      <td>2.0</td>\n",
       "      <td>Night</td>\n",
       "      <td>487002</td>\n",
       "    </tr>\n",
       "    <tr>\n",
       "      <th>7</th>\n",
       "      <td>2.0</td>\n",
       "      <td>Day</td>\n",
       "      <td>688778</td>\n",
       "    </tr>\n",
       "  </tbody>\n",
       "</table>\n",
       "</div>"
      ],
      "text/plain": [
       "   Severity Day/Night  #Accident\n",
       "0       1.0     Night       4704\n",
       "1       1.0       Day      23130\n",
       "2       4.0     Night      45502\n",
       "3       3.0     Night      48259\n",
       "4       4.0       Day      64957\n",
       "5       3.0       Day     108649\n",
       "6       2.0     Night     487002\n",
       "7       2.0       Day     688778"
      ]
     },
     "execution_count": 52,
     "metadata": {},
     "output_type": "execute_result"
    }
   ],
   "source": [
    "day_severity.rename(columns={'Sunrise_Sunset': 'Day/Night', 'ID': '#Accident'}, inplace=True)\n",
    "\n",
    "day_severity"
   ]
  },
  {
   "cell_type": "markdown",
   "id": "9cfb3ad3",
   "metadata": {},
   "source": [
    "## - Show the data of New York county "
   ]
  },
  {
   "cell_type": "code",
   "execution_count": 53,
   "id": "c747ee86",
   "metadata": {},
   "outputs": [
    {
     "data": {
      "text/html": [
       "<div>\n",
       "<style scoped>\n",
       "    .dataframe tbody tr th:only-of-type {\n",
       "        vertical-align: middle;\n",
       "    }\n",
       "\n",
       "    .dataframe tbody tr th {\n",
       "        vertical-align: top;\n",
       "    }\n",
       "\n",
       "    .dataframe thead th {\n",
       "        text-align: right;\n",
       "    }\n",
       "</style>\n",
       "<table border=\"1\" class=\"dataframe\">\n",
       "  <thead>\n",
       "    <tr style=\"text-align: right;\">\n",
       "      <th></th>\n",
       "      <th>ID</th>\n",
       "      <th>Severity</th>\n",
       "      <th>Start_Time</th>\n",
       "      <th>End_Time</th>\n",
       "      <th>Start_Lat</th>\n",
       "      <th>Start_Lng</th>\n",
       "      <th>End_Lat</th>\n",
       "      <th>End_Lng</th>\n",
       "      <th>Distance(mi)</th>\n",
       "      <th>Description</th>\n",
       "      <th>Street</th>\n",
       "      <th>Side</th>\n",
       "      <th>City</th>\n",
       "      <th>County</th>\n",
       "      <th>Country</th>\n",
       "      <th>Visibility(mi)</th>\n",
       "      <th>Sunrise_Sunset</th>\n",
       "      <th>Time_Duration(min)</th>\n",
       "      <th>Is_Weekend</th>\n",
       "    </tr>\n",
       "  </thead>\n",
       "  <tbody>\n",
       "    <tr>\n",
       "      <th>32547</th>\n",
       "      <td>A-2749147</td>\n",
       "      <td>2.0</td>\n",
       "      <td>2016-11-30 15:58:59</td>\n",
       "      <td>2016-11-30 21:58:59</td>\n",
       "      <td>40.850020</td>\n",
       "      <td>-73.943990</td>\n",
       "      <td>40.85329</td>\n",
       "      <td>-73.96064</td>\n",
       "      <td>0.899</td>\n",
       "      <td>Between Amsterdam Ave/Harlem River Dr and Huds...</td>\n",
       "      <td>George Washington Brg</td>\n",
       "      <td>R</td>\n",
       "      <td>New York</td>\n",
       "      <td>New York</td>\n",
       "      <td>US</td>\n",
       "      <td>2.0</td>\n",
       "      <td>Day</td>\n",
       "      <td>360.0</td>\n",
       "      <td>False</td>\n",
       "    </tr>\n",
       "    <tr>\n",
       "      <th>32574</th>\n",
       "      <td>A-2749174</td>\n",
       "      <td>2.0</td>\n",
       "      <td>2016-11-30 17:13:53</td>\n",
       "      <td>2016-11-30 23:13:53</td>\n",
       "      <td>41.311771</td>\n",
       "      <td>-74.121299</td>\n",
       "      <td>41.12997</td>\n",
       "      <td>-74.16773</td>\n",
       "      <td>12.791</td>\n",
       "      <td>Between RT-17/Toll Plaza/Exit 16 and RT-17/RT-...</td>\n",
       "      <td>I-87 S</td>\n",
       "      <td>R</td>\n",
       "      <td>Central Valley</td>\n",
       "      <td>Orange</td>\n",
       "      <td>US</td>\n",
       "      <td>3.0</td>\n",
       "      <td>Night</td>\n",
       "      <td>360.0</td>\n",
       "      <td>False</td>\n",
       "    </tr>\n",
       "    <tr>\n",
       "      <th>32576</th>\n",
       "      <td>A-2749176</td>\n",
       "      <td>2.0</td>\n",
       "      <td>2016-11-30 17:12:20</td>\n",
       "      <td>2016-11-30 23:12:20</td>\n",
       "      <td>43.039261</td>\n",
       "      <td>-76.142130</td>\n",
       "      <td>43.04273</td>\n",
       "      <td>-76.14244</td>\n",
       "      <td>0.240</td>\n",
       "      <td>At Adams St/Exit 18 - Accident.</td>\n",
       "      <td>I-81 S</td>\n",
       "      <td>R</td>\n",
       "      <td>Syracuse</td>\n",
       "      <td>Onondaga</td>\n",
       "      <td>US</td>\n",
       "      <td>10.0</td>\n",
       "      <td>Night</td>\n",
       "      <td>360.0</td>\n",
       "      <td>False</td>\n",
       "    </tr>\n",
       "    <tr>\n",
       "      <th>32593</th>\n",
       "      <td>A-2749193</td>\n",
       "      <td>2.0</td>\n",
       "      <td>2016-11-30 17:31:55</td>\n",
       "      <td>2016-11-30 23:31:55</td>\n",
       "      <td>40.771460</td>\n",
       "      <td>-73.946580</td>\n",
       "      <td>40.76878</td>\n",
       "      <td>-73.94906</td>\n",
       "      <td>0.226</td>\n",
       "      <td>At 79th St - Accident.</td>\n",
       "      <td>FDR Dr S</td>\n",
       "      <td>R</td>\n",
       "      <td>New York</td>\n",
       "      <td>New York</td>\n",
       "      <td>US</td>\n",
       "      <td>2.5</td>\n",
       "      <td>Night</td>\n",
       "      <td>360.0</td>\n",
       "      <td>False</td>\n",
       "    </tr>\n",
       "    <tr>\n",
       "      <th>32598</th>\n",
       "      <td>A-2749198</td>\n",
       "      <td>2.0</td>\n",
       "      <td>2016-11-30 17:46:05</td>\n",
       "      <td>2016-11-30 23:46:05</td>\n",
       "      <td>42.657380</td>\n",
       "      <td>-73.741570</td>\n",
       "      <td>42.67173</td>\n",
       "      <td>-73.72838</td>\n",
       "      <td>1.197</td>\n",
       "      <td>At I-90/Exit 5 - Accident.</td>\n",
       "      <td>I-787 N</td>\n",
       "      <td>R</td>\n",
       "      <td>Albany</td>\n",
       "      <td>Albany</td>\n",
       "      <td>US</td>\n",
       "      <td>10.0</td>\n",
       "      <td>Night</td>\n",
       "      <td>360.0</td>\n",
       "      <td>False</td>\n",
       "    </tr>\n",
       "  </tbody>\n",
       "</table>\n",
       "</div>"
      ],
      "text/plain": [
       "              ID  Severity          Start_Time            End_Time  Start_Lat  \\\n",
       "32547  A-2749147       2.0 2016-11-30 15:58:59 2016-11-30 21:58:59  40.850020   \n",
       "32574  A-2749174       2.0 2016-11-30 17:13:53 2016-11-30 23:13:53  41.311771   \n",
       "32576  A-2749176       2.0 2016-11-30 17:12:20 2016-11-30 23:12:20  43.039261   \n",
       "32593  A-2749193       2.0 2016-11-30 17:31:55 2016-11-30 23:31:55  40.771460   \n",
       "32598  A-2749198       2.0 2016-11-30 17:46:05 2016-11-30 23:46:05  42.657380   \n",
       "\n",
       "       Start_Lng   End_Lat   End_Lng  Distance(mi)  \\\n",
       "32547 -73.943990  40.85329 -73.96064         0.899   \n",
       "32574 -74.121299  41.12997 -74.16773        12.791   \n",
       "32576 -76.142130  43.04273 -76.14244         0.240   \n",
       "32593 -73.946580  40.76878 -73.94906         0.226   \n",
       "32598 -73.741570  42.67173 -73.72838         1.197   \n",
       "\n",
       "                                             Description  \\\n",
       "32547  Between Amsterdam Ave/Harlem River Dr and Huds...   \n",
       "32574  Between RT-17/Toll Plaza/Exit 16 and RT-17/RT-...   \n",
       "32576                    At Adams St/Exit 18 - Accident.   \n",
       "32593                             At 79th St - Accident.   \n",
       "32598                         At I-90/Exit 5 - Accident.   \n",
       "\n",
       "                      Street Side            City    County Country  \\\n",
       "32547  George Washington Brg    R        New York  New York      US   \n",
       "32574                 I-87 S    R  Central Valley    Orange      US   \n",
       "32576                 I-81 S    R        Syracuse  Onondaga      US   \n",
       "32593               FDR Dr S    R        New York  New York      US   \n",
       "32598                I-787 N    R          Albany    Albany      US   \n",
       "\n",
       "       Visibility(mi) Sunrise_Sunset  Time_Duration(min)  Is_Weekend  \n",
       "32547             2.0            Day               360.0       False  \n",
       "32574             3.0          Night               360.0       False  \n",
       "32576            10.0          Night               360.0       False  \n",
       "32593             2.5          Night               360.0       False  \n",
       "32598            10.0          Night               360.0       False  "
      ]
     },
     "execution_count": 53,
     "metadata": {},
     "output_type": "execute_result"
    }
   ],
   "source": [
    "# Set state\n",
    "state='NY'\n",
    "\n",
    "# Select the state of Pennsylvania\n",
    "df_state=accident_df.loc[accident_df.State==state].copy()\n",
    "df_state.drop('State',axis=1, inplace=True)\n",
    "df_state.head()"
   ]
  },
  {
   "cell_type": "code",
   "execution_count": 54,
   "id": "01cbc50d",
   "metadata": {
    "scrolled": true
   },
   "outputs": [
    {
     "data": {
      "text/html": [
       "<div>\n",
       "<style scoped>\n",
       "    .dataframe tbody tr th:only-of-type {\n",
       "        vertical-align: middle;\n",
       "    }\n",
       "\n",
       "    .dataframe tbody tr th {\n",
       "        vertical-align: top;\n",
       "    }\n",
       "\n",
       "    .dataframe thead th {\n",
       "        text-align: right;\n",
       "    }\n",
       "</style>\n",
       "<table border=\"1\" class=\"dataframe\">\n",
       "  <thead>\n",
       "    <tr style=\"text-align: right;\">\n",
       "      <th></th>\n",
       "      <th>ID</th>\n",
       "      <th>Severity</th>\n",
       "      <th>Start_Time</th>\n",
       "      <th>End_Time</th>\n",
       "      <th>Start_Lat</th>\n",
       "      <th>Start_Lng</th>\n",
       "      <th>End_Lat</th>\n",
       "      <th>End_Lng</th>\n",
       "      <th>Distance(mi)</th>\n",
       "      <th>Description</th>\n",
       "      <th>Street</th>\n",
       "      <th>Side</th>\n",
       "      <th>City</th>\n",
       "      <th>Country</th>\n",
       "      <th>Visibility(mi)</th>\n",
       "      <th>Sunrise_Sunset</th>\n",
       "      <th>Time_Duration(min)</th>\n",
       "      <th>Is_Weekend</th>\n",
       "    </tr>\n",
       "  </thead>\n",
       "  <tbody>\n",
       "    <tr>\n",
       "      <th>32547</th>\n",
       "      <td>A-2749147</td>\n",
       "      <td>2.0</td>\n",
       "      <td>2016-11-30 15:58:59</td>\n",
       "      <td>2016-11-30 21:58:59</td>\n",
       "      <td>40.850020</td>\n",
       "      <td>-73.943990</td>\n",
       "      <td>40.853290</td>\n",
       "      <td>-73.960640</td>\n",
       "      <td>0.899</td>\n",
       "      <td>Between Amsterdam Ave/Harlem River Dr and Huds...</td>\n",
       "      <td>George Washington Brg</td>\n",
       "      <td>R</td>\n",
       "      <td>New York</td>\n",
       "      <td>US</td>\n",
       "      <td>2.0</td>\n",
       "      <td>Day</td>\n",
       "      <td>360.0</td>\n",
       "      <td>False</td>\n",
       "    </tr>\n",
       "    <tr>\n",
       "      <th>32593</th>\n",
       "      <td>A-2749193</td>\n",
       "      <td>2.0</td>\n",
       "      <td>2016-11-30 17:31:55</td>\n",
       "      <td>2016-11-30 23:31:55</td>\n",
       "      <td>40.771460</td>\n",
       "      <td>-73.946580</td>\n",
       "      <td>40.768780</td>\n",
       "      <td>-73.949060</td>\n",
       "      <td>0.226</td>\n",
       "      <td>At 79th St - Accident.</td>\n",
       "      <td>FDR Dr S</td>\n",
       "      <td>R</td>\n",
       "      <td>New York</td>\n",
       "      <td>US</td>\n",
       "      <td>2.5</td>\n",
       "      <td>Night</td>\n",
       "      <td>360.0</td>\n",
       "      <td>False</td>\n",
       "    </tr>\n",
       "    <tr>\n",
       "      <th>32683</th>\n",
       "      <td>A-2749283</td>\n",
       "      <td>3.0</td>\n",
       "      <td>2016-11-26 22:57:16</td>\n",
       "      <td>2016-12-01 04:44:45</td>\n",
       "      <td>40.762979</td>\n",
       "      <td>-73.973938</td>\n",
       "      <td>40.762956</td>\n",
       "      <td>-73.973953</td>\n",
       "      <td>0.002</td>\n",
       "      <td>Between 65th St/66th St and 34th St - Accident.</td>\n",
       "      <td>W 57th St</td>\n",
       "      <td>L</td>\n",
       "      <td>New York</td>\n",
       "      <td>US</td>\n",
       "      <td>10.0</td>\n",
       "      <td>Night</td>\n",
       "      <td>6107.0</td>\n",
       "      <td>True</td>\n",
       "    </tr>\n",
       "    <tr>\n",
       "      <th>32901</th>\n",
       "      <td>A-2749501</td>\n",
       "      <td>3.0</td>\n",
       "      <td>2016-12-01 12:14:13</td>\n",
       "      <td>2016-12-01 18:14:13</td>\n",
       "      <td>40.744340</td>\n",
       "      <td>-73.971240</td>\n",
       "      <td>40.748080</td>\n",
       "      <td>-73.967930</td>\n",
       "      <td>0.311</td>\n",
       "      <td>At 42nd St/Exit 9 - Accident.</td>\n",
       "      <td>FDR Dr N</td>\n",
       "      <td>R</td>\n",
       "      <td>New York</td>\n",
       "      <td>US</td>\n",
       "      <td>10.0</td>\n",
       "      <td>Day</td>\n",
       "      <td>360.0</td>\n",
       "      <td>False</td>\n",
       "    </tr>\n",
       "    <tr>\n",
       "      <th>33361</th>\n",
       "      <td>A-2749961</td>\n",
       "      <td>2.0</td>\n",
       "      <td>2016-12-02 12:40:48</td>\n",
       "      <td>2016-12-02 18:40:48</td>\n",
       "      <td>40.838730</td>\n",
       "      <td>-73.933270</td>\n",
       "      <td>40.846976</td>\n",
       "      <td>-73.932792</td>\n",
       "      <td>0.570</td>\n",
       "      <td>At I-95/Amsterdam Ave/Exit 23 - Accident.</td>\n",
       "      <td>Harlem River Dr N</td>\n",
       "      <td>R</td>\n",
       "      <td>New York</td>\n",
       "      <td>US</td>\n",
       "      <td>10.0</td>\n",
       "      <td>Day</td>\n",
       "      <td>360.0</td>\n",
       "      <td>False</td>\n",
       "    </tr>\n",
       "  </tbody>\n",
       "</table>\n",
       "</div>"
      ],
      "text/plain": [
       "              ID  Severity          Start_Time            End_Time  Start_Lat  \\\n",
       "32547  A-2749147       2.0 2016-11-30 15:58:59 2016-11-30 21:58:59  40.850020   \n",
       "32593  A-2749193       2.0 2016-11-30 17:31:55 2016-11-30 23:31:55  40.771460   \n",
       "32683  A-2749283       3.0 2016-11-26 22:57:16 2016-12-01 04:44:45  40.762979   \n",
       "32901  A-2749501       3.0 2016-12-01 12:14:13 2016-12-01 18:14:13  40.744340   \n",
       "33361  A-2749961       2.0 2016-12-02 12:40:48 2016-12-02 18:40:48  40.838730   \n",
       "\n",
       "       Start_Lng    End_Lat    End_Lng  Distance(mi)  \\\n",
       "32547 -73.943990  40.853290 -73.960640         0.899   \n",
       "32593 -73.946580  40.768780 -73.949060         0.226   \n",
       "32683 -73.973938  40.762956 -73.973953         0.002   \n",
       "32901 -73.971240  40.748080 -73.967930         0.311   \n",
       "33361 -73.933270  40.846976 -73.932792         0.570   \n",
       "\n",
       "                                             Description  \\\n",
       "32547  Between Amsterdam Ave/Harlem River Dr and Huds...   \n",
       "32593                             At 79th St - Accident.   \n",
       "32683    Between 65th St/66th St and 34th St - Accident.   \n",
       "32901                      At 42nd St/Exit 9 - Accident.   \n",
       "33361          At I-95/Amsterdam Ave/Exit 23 - Accident.   \n",
       "\n",
       "                      Street Side      City Country  Visibility(mi)  \\\n",
       "32547  George Washington Brg    R  New York      US             2.0   \n",
       "32593               FDR Dr S    R  New York      US             2.5   \n",
       "32683              W 57th St    L  New York      US            10.0   \n",
       "32901               FDR Dr N    R  New York      US            10.0   \n",
       "33361      Harlem River Dr N    R  New York      US            10.0   \n",
       "\n",
       "      Sunrise_Sunset  Time_Duration(min)  Is_Weekend  \n",
       "32547            Day               360.0       False  \n",
       "32593          Night               360.0       False  \n",
       "32683          Night              6107.0        True  \n",
       "32901            Day               360.0       False  \n",
       "33361            Day               360.0       False  "
      ]
     },
     "execution_count": 54,
     "metadata": {},
     "output_type": "execute_result"
    }
   ],
   "source": [
    "# Set county\n",
    "county='New York'\n",
    "\n",
    "df_county=df_state.loc[df_state.County==county].copy()\n",
    "df_county.drop('County',axis=1, inplace=True)\n",
    "df_county.head()"
   ]
  },
  {
   "cell_type": "markdown",
   "id": "3150334a",
   "metadata": {},
   "source": [
    "## -\n",
    "# To Be Continu ..\n",
    "## -"
   ]
  }
 ],
 "metadata": {
  "kernelspec": {
   "display_name": "Python 3 (ipykernel)",
   "language": "python",
   "name": "python3"
  },
  "language_info": {
   "codemirror_mode": {
    "name": "ipython",
    "version": 3
   },
   "file_extension": ".py",
   "mimetype": "text/x-python",
   "name": "python",
   "nbconvert_exporter": "python",
   "pygments_lexer": "ipython3",
   "version": "3.9.7"
  }
 },
 "nbformat": 4,
 "nbformat_minor": 5
}
