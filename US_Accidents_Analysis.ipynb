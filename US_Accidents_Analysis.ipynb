{
 "cells": [
  {
   "cell_type": "markdown",
   "id": "33e62613",
   "metadata": {},
   "source": [
    "# US Accidents Analysis Project"
   ]
  },
  {
   "cell_type": "markdown",
   "id": "6e875f26",
   "metadata": {},
   "source": [
    "#### Prepared by: Raneem Alhumaidan\n",
    "\n",
    "\n",
    "\n",
    "## Abstract\n",
    "The project has two goals, first, it will strive for understanding the cause and effect rules of the accidents to analyze and generate insights on the traffic accidents and key factors affecting the accidents, also perform data visualization, to describe this data more vividly. Second, build several machine learning models: Accurately predict accident severity and predict street side of an accident in the United State, in order to help and understand to identify the patterns of how these serious accidents happen.\n",
    "\n",
    "\n",
    "\n",
    "\n",
    "### Dataset \n",
    "\n",
    "US-Accident dataset is a countrywide car accident dataset, which covers 49 states of the United States. It contains more than 4 million cases of traffic accidents that took place from February 2016 to December 2020. In this project, however, only the data of accidents that happened after February 2019 and were reported by MapQuest was finally used in exploration analysis and modeling so that irrelevant factors can be eliminated to the greatest extent.\n",
    "\n",
    "### Acknowledgements\n",
    "\n",
    "Moosavi, Sobhan, Mohammad Hossein Samavatian, Srinivasan Parthasarathy, and Rajiv Ramnath. “A Countrywide Traffic Accident Dataset.”, 2019.\n",
    "Moosavi, Sobhan, Mohammad Hossein Samavatian, Srinivasan Parthasarathy, Radu Teodorescu, and Rajiv Ramnath. \"Accident Risk Prediction based on Heterogeneous Sparse Data: New Dataset and Insights.\" In proceedings of the 27th ACM SIGSPATIAL International Conference on Advances in Geographic Information Systems, ACM, 2019.\n",
    "\n",
    "### Data Source\n",
    "https://www.kaggle.com/sobhanmoosavi/us-accidents"
   ]
  },
  {
   "cell_type": "code",
   "execution_count": 1,
   "id": "7b8a9fb4",
   "metadata": {},
   "outputs": [
    {
     "data": {
      "text/html": [
       "        <script type=\"text/javascript\">\n",
       "        window.PlotlyConfig = {MathJaxConfig: 'local'};\n",
       "        if (window.MathJax) {MathJax.Hub.Config({SVG: {font: \"STIX-Web\"}});}\n",
       "        if (typeof require !== 'undefined') {\n",
       "        require.undef(\"plotly\");\n",
       "        requirejs.config({\n",
       "            paths: {\n",
       "                'plotly': ['https://cdn.plot.ly/plotly-2.6.3.min']\n",
       "            }\n",
       "        });\n",
       "        require(['plotly'], function(Plotly) {\n",
       "            window._Plotly = Plotly;\n",
       "        });\n",
       "        }\n",
       "        </script>\n",
       "        "
      ]
     },
     "metadata": {},
     "output_type": "display_data"
    },
    {
     "data": {
      "text/html": [
       "\n",
       "    <div class=\"bk-root\">\n",
       "        <a href=\"https://bokeh.org\" target=\"_blank\" class=\"bk-logo bk-logo-small bk-logo-notebook\"></a>\n",
       "        <span id=\"1002\">Loading BokehJS ...</span>\n",
       "    </div>"
      ]
     },
     "metadata": {},
     "output_type": "display_data"
    },
    {
     "data": {
      "application/javascript": [
       "\n",
       "(function(root) {\n",
       "  function now() {\n",
       "    return new Date();\n",
       "  }\n",
       "\n",
       "  const force = true;\n",
       "\n",
       "  if (typeof root._bokeh_onload_callbacks === \"undefined\" || force === true) {\n",
       "    root._bokeh_onload_callbacks = [];\n",
       "    root._bokeh_is_loading = undefined;\n",
       "  }\n",
       "\n",
       "  const JS_MIME_TYPE = 'application/javascript';\n",
       "  const HTML_MIME_TYPE = 'text/html';\n",
       "  const EXEC_MIME_TYPE = 'application/vnd.bokehjs_exec.v0+json';\n",
       "  const CLASS_NAME = 'output_bokeh rendered_html';\n",
       "\n",
       "  /**\n",
       "   * Render data to the DOM node\n",
       "   */\n",
       "  function render(props, node) {\n",
       "    const script = document.createElement(\"script\");\n",
       "    node.appendChild(script);\n",
       "  }\n",
       "\n",
       "  /**\n",
       "   * Handle when an output is cleared or removed\n",
       "   */\n",
       "  function handleClearOutput(event, handle) {\n",
       "    const cell = handle.cell;\n",
       "\n",
       "    const id = cell.output_area._bokeh_element_id;\n",
       "    const server_id = cell.output_area._bokeh_server_id;\n",
       "    // Clean up Bokeh references\n",
       "    if (id != null && id in Bokeh.index) {\n",
       "      Bokeh.index[id].model.document.clear();\n",
       "      delete Bokeh.index[id];\n",
       "    }\n",
       "\n",
       "    if (server_id !== undefined) {\n",
       "      // Clean up Bokeh references\n",
       "      const cmd_clean = \"from bokeh.io.state import curstate; print(curstate().uuid_to_server['\" + server_id + \"'].get_sessions()[0].document.roots[0]._id)\";\n",
       "      cell.notebook.kernel.execute(cmd_clean, {\n",
       "        iopub: {\n",
       "          output: function(msg) {\n",
       "            const id = msg.content.text.trim();\n",
       "            if (id in Bokeh.index) {\n",
       "              Bokeh.index[id].model.document.clear();\n",
       "              delete Bokeh.index[id];\n",
       "            }\n",
       "          }\n",
       "        }\n",
       "      });\n",
       "      // Destroy server and session\n",
       "      const cmd_destroy = \"import bokeh.io.notebook as ion; ion.destroy_server('\" + server_id + \"')\";\n",
       "      cell.notebook.kernel.execute(cmd_destroy);\n",
       "    }\n",
       "  }\n",
       "\n",
       "  /**\n",
       "   * Handle when a new output is added\n",
       "   */\n",
       "  function handleAddOutput(event, handle) {\n",
       "    const output_area = handle.output_area;\n",
       "    const output = handle.output;\n",
       "\n",
       "    // limit handleAddOutput to display_data with EXEC_MIME_TYPE content only\n",
       "    if ((output.output_type != \"display_data\") || (!Object.prototype.hasOwnProperty.call(output.data, EXEC_MIME_TYPE))) {\n",
       "      return\n",
       "    }\n",
       "\n",
       "    const toinsert = output_area.element.find(\".\" + CLASS_NAME.split(' ')[0]);\n",
       "\n",
       "    if (output.metadata[EXEC_MIME_TYPE][\"id\"] !== undefined) {\n",
       "      toinsert[toinsert.length - 1].firstChild.textContent = output.data[JS_MIME_TYPE];\n",
       "      // store reference to embed id on output_area\n",
       "      output_area._bokeh_element_id = output.metadata[EXEC_MIME_TYPE][\"id\"];\n",
       "    }\n",
       "    if (output.metadata[EXEC_MIME_TYPE][\"server_id\"] !== undefined) {\n",
       "      const bk_div = document.createElement(\"div\");\n",
       "      bk_div.innerHTML = output.data[HTML_MIME_TYPE];\n",
       "      const script_attrs = bk_div.children[0].attributes;\n",
       "      for (let i = 0; i < script_attrs.length; i++) {\n",
       "        toinsert[toinsert.length - 1].firstChild.setAttribute(script_attrs[i].name, script_attrs[i].value);\n",
       "        toinsert[toinsert.length - 1].firstChild.textContent = bk_div.children[0].textContent\n",
       "      }\n",
       "      // store reference to server id on output_area\n",
       "      output_area._bokeh_server_id = output.metadata[EXEC_MIME_TYPE][\"server_id\"];\n",
       "    }\n",
       "  }\n",
       "\n",
       "  function register_renderer(events, OutputArea) {\n",
       "\n",
       "    function append_mime(data, metadata, element) {\n",
       "      // create a DOM node to render to\n",
       "      const toinsert = this.create_output_subarea(\n",
       "        metadata,\n",
       "        CLASS_NAME,\n",
       "        EXEC_MIME_TYPE\n",
       "      );\n",
       "      this.keyboard_manager.register_events(toinsert);\n",
       "      // Render to node\n",
       "      const props = {data: data, metadata: metadata[EXEC_MIME_TYPE]};\n",
       "      render(props, toinsert[toinsert.length - 1]);\n",
       "      element.append(toinsert);\n",
       "      return toinsert\n",
       "    }\n",
       "\n",
       "    /* Handle when an output is cleared or removed */\n",
       "    events.on('clear_output.CodeCell', handleClearOutput);\n",
       "    events.on('delete.Cell', handleClearOutput);\n",
       "\n",
       "    /* Handle when a new output is added */\n",
       "    events.on('output_added.OutputArea', handleAddOutput);\n",
       "\n",
       "    /**\n",
       "     * Register the mime type and append_mime function with output_area\n",
       "     */\n",
       "    OutputArea.prototype.register_mime_type(EXEC_MIME_TYPE, append_mime, {\n",
       "      /* Is output safe? */\n",
       "      safe: true,\n",
       "      /* Index of renderer in `output_area.display_order` */\n",
       "      index: 0\n",
       "    });\n",
       "  }\n",
       "\n",
       "  // register the mime type if in Jupyter Notebook environment and previously unregistered\n",
       "  if (root.Jupyter !== undefined) {\n",
       "    const events = require('base/js/events');\n",
       "    const OutputArea = require('notebook/js/outputarea').OutputArea;\n",
       "\n",
       "    if (OutputArea.prototype.mime_types().indexOf(EXEC_MIME_TYPE) == -1) {\n",
       "      register_renderer(events, OutputArea);\n",
       "    }\n",
       "  }\n",
       "\n",
       "  \n",
       "  if (typeof (root._bokeh_timeout) === \"undefined\" || force === true) {\n",
       "    root._bokeh_timeout = Date.now() + 5000;\n",
       "    root._bokeh_failed_load = false;\n",
       "  }\n",
       "\n",
       "  const NB_LOAD_WARNING = {'data': {'text/html':\n",
       "     \"<div style='background-color: #fdd'>\\n\"+\n",
       "     \"<p>\\n\"+\n",
       "     \"BokehJS does not appear to have successfully loaded. If loading BokehJS from CDN, this \\n\"+\n",
       "     \"may be due to a slow or bad network connection. Possible fixes:\\n\"+\n",
       "     \"</p>\\n\"+\n",
       "     \"<ul>\\n\"+\n",
       "     \"<li>re-rerun `output_notebook()` to attempt to load from CDN again, or</li>\\n\"+\n",
       "     \"<li>use INLINE resources instead, as so:</li>\\n\"+\n",
       "     \"</ul>\\n\"+\n",
       "     \"<code>\\n\"+\n",
       "     \"from bokeh.resources import INLINE\\n\"+\n",
       "     \"output_notebook(resources=INLINE)\\n\"+\n",
       "     \"</code>\\n\"+\n",
       "     \"</div>\"}};\n",
       "\n",
       "  function display_loaded() {\n",
       "    const el = document.getElementById(\"1002\");\n",
       "    if (el != null) {\n",
       "      el.textContent = \"BokehJS is loading...\";\n",
       "    }\n",
       "    if (root.Bokeh !== undefined) {\n",
       "      if (el != null) {\n",
       "        el.textContent = \"BokehJS \" + root.Bokeh.version + \" successfully loaded.\";\n",
       "      }\n",
       "    } else if (Date.now() < root._bokeh_timeout) {\n",
       "      setTimeout(display_loaded, 100)\n",
       "    }\n",
       "  }\n",
       "\n",
       "\n",
       "  function run_callbacks() {\n",
       "    try {\n",
       "      root._bokeh_onload_callbacks.forEach(function(callback) {\n",
       "        if (callback != null)\n",
       "          callback();\n",
       "      });\n",
       "    } finally {\n",
       "      delete root._bokeh_onload_callbacks\n",
       "    }\n",
       "    console.debug(\"Bokeh: all callbacks have finished\");\n",
       "  }\n",
       "\n",
       "  function load_libs(css_urls, js_urls, callback) {\n",
       "    if (css_urls == null) css_urls = [];\n",
       "    if (js_urls == null) js_urls = [];\n",
       "\n",
       "    root._bokeh_onload_callbacks.push(callback);\n",
       "    if (root._bokeh_is_loading > 0) {\n",
       "      console.debug(\"Bokeh: BokehJS is being loaded, scheduling callback at\", now());\n",
       "      return null;\n",
       "    }\n",
       "    if (js_urls == null || js_urls.length === 0) {\n",
       "      run_callbacks();\n",
       "      return null;\n",
       "    }\n",
       "    console.debug(\"Bokeh: BokehJS not loaded, scheduling load and callback at\", now());\n",
       "    root._bokeh_is_loading = css_urls.length + js_urls.length;\n",
       "\n",
       "    function on_load() {\n",
       "      root._bokeh_is_loading--;\n",
       "      if (root._bokeh_is_loading === 0) {\n",
       "        console.debug(\"Bokeh: all BokehJS libraries/stylesheets loaded\");\n",
       "        run_callbacks()\n",
       "      }\n",
       "    }\n",
       "\n",
       "    function on_error(url) {\n",
       "      console.error(\"failed to load \" + url);\n",
       "    }\n",
       "\n",
       "    for (let i = 0; i < css_urls.length; i++) {\n",
       "      const url = css_urls[i];\n",
       "      const element = document.createElement(\"link\");\n",
       "      element.onload = on_load;\n",
       "      element.onerror = on_error.bind(null, url);\n",
       "      element.rel = \"stylesheet\";\n",
       "      element.type = \"text/css\";\n",
       "      element.href = url;\n",
       "      console.debug(\"Bokeh: injecting link tag for BokehJS stylesheet: \", url);\n",
       "      document.body.appendChild(element);\n",
       "    }\n",
       "\n",
       "    for (let i = 0; i < js_urls.length; i++) {\n",
       "      const url = js_urls[i];\n",
       "      const element = document.createElement('script');\n",
       "      element.onload = on_load;\n",
       "      element.onerror = on_error.bind(null, url);\n",
       "      element.async = false;\n",
       "      element.src = url;\n",
       "      console.debug(\"Bokeh: injecting script tag for BokehJS library: \", url);\n",
       "      document.head.appendChild(element);\n",
       "    }\n",
       "  };\n",
       "\n",
       "  function inject_raw_css(css) {\n",
       "    const element = document.createElement(\"style\");\n",
       "    element.appendChild(document.createTextNode(css));\n",
       "    document.body.appendChild(element);\n",
       "  }\n",
       "\n",
       "  \n",
       "  const js_urls = [\"https://cdn.bokeh.org/bokeh/release/bokeh-2.4.1.min.js\", \"https://cdn.bokeh.org/bokeh/release/bokeh-gl-2.4.1.min.js\", \"https://cdn.bokeh.org/bokeh/release/bokeh-widgets-2.4.1.min.js\", \"https://cdn.bokeh.org/bokeh/release/bokeh-tables-2.4.1.min.js\", \"https://cdn.bokeh.org/bokeh/release/bokeh-mathjax-2.4.1.min.js\"];\n",
       "  const css_urls = [];\n",
       "  \n",
       "\n",
       "  const inline_js = [\n",
       "    function(Bokeh) {\n",
       "      Bokeh.set_log_level(\"info\");\n",
       "    },\n",
       "    function(Bokeh) {\n",
       "    \n",
       "    \n",
       "    }\n",
       "  ];\n",
       "\n",
       "  function run_inline_js() {\n",
       "    \n",
       "    if (root.Bokeh !== undefined || force === true) {\n",
       "      \n",
       "    for (let i = 0; i < inline_js.length; i++) {\n",
       "      inline_js[i].call(root, root.Bokeh);\n",
       "    }\n",
       "    if (force === true) {\n",
       "        display_loaded();\n",
       "      }} else if (Date.now() < root._bokeh_timeout) {\n",
       "      setTimeout(run_inline_js, 100);\n",
       "    } else if (!root._bokeh_failed_load) {\n",
       "      console.log(\"Bokeh: BokehJS failed to load within specified timeout.\");\n",
       "      root._bokeh_failed_load = true;\n",
       "    } else if (force !== true) {\n",
       "      const cell = $(document.getElementById(\"1002\")).parents('.cell').data().cell;\n",
       "      cell.output_area.append_execute_result(NB_LOAD_WARNING)\n",
       "    }\n",
       "\n",
       "  }\n",
       "\n",
       "  if (root._bokeh_is_loading === 0) {\n",
       "    console.debug(\"Bokeh: BokehJS loaded, going straight to plotting\");\n",
       "    run_inline_js();\n",
       "  } else {\n",
       "    load_libs(css_urls, js_urls, function() {\n",
       "      console.debug(\"Bokeh: BokehJS plotting callback run at\", now());\n",
       "      run_inline_js();\n",
       "    });\n",
       "  }\n",
       "}(window));"
      ],
      "application/vnd.bokehjs_load.v0+json": "\n(function(root) {\n  function now() {\n    return new Date();\n  }\n\n  const force = true;\n\n  if (typeof root._bokeh_onload_callbacks === \"undefined\" || force === true) {\n    root._bokeh_onload_callbacks = [];\n    root._bokeh_is_loading = undefined;\n  }\n\n  \n\n  \n  if (typeof (root._bokeh_timeout) === \"undefined\" || force === true) {\n    root._bokeh_timeout = Date.now() + 5000;\n    root._bokeh_failed_load = false;\n  }\n\n  const NB_LOAD_WARNING = {'data': {'text/html':\n     \"<div style='background-color: #fdd'>\\n\"+\n     \"<p>\\n\"+\n     \"BokehJS does not appear to have successfully loaded. If loading BokehJS from CDN, this \\n\"+\n     \"may be due to a slow or bad network connection. Possible fixes:\\n\"+\n     \"</p>\\n\"+\n     \"<ul>\\n\"+\n     \"<li>re-rerun `output_notebook()` to attempt to load from CDN again, or</li>\\n\"+\n     \"<li>use INLINE resources instead, as so:</li>\\n\"+\n     \"</ul>\\n\"+\n     \"<code>\\n\"+\n     \"from bokeh.resources import INLINE\\n\"+\n     \"output_notebook(resources=INLINE)\\n\"+\n     \"</code>\\n\"+\n     \"</div>\"}};\n\n  function display_loaded() {\n    const el = document.getElementById(\"1002\");\n    if (el != null) {\n      el.textContent = \"BokehJS is loading...\";\n    }\n    if (root.Bokeh !== undefined) {\n      if (el != null) {\n        el.textContent = \"BokehJS \" + root.Bokeh.version + \" successfully loaded.\";\n      }\n    } else if (Date.now() < root._bokeh_timeout) {\n      setTimeout(display_loaded, 100)\n    }\n  }\n\n\n  function run_callbacks() {\n    try {\n      root._bokeh_onload_callbacks.forEach(function(callback) {\n        if (callback != null)\n          callback();\n      });\n    } finally {\n      delete root._bokeh_onload_callbacks\n    }\n    console.debug(\"Bokeh: all callbacks have finished\");\n  }\n\n  function load_libs(css_urls, js_urls, callback) {\n    if (css_urls == null) css_urls = [];\n    if (js_urls == null) js_urls = [];\n\n    root._bokeh_onload_callbacks.push(callback);\n    if (root._bokeh_is_loading > 0) {\n      console.debug(\"Bokeh: BokehJS is being loaded, scheduling callback at\", now());\n      return null;\n    }\n    if (js_urls == null || js_urls.length === 0) {\n      run_callbacks();\n      return null;\n    }\n    console.debug(\"Bokeh: BokehJS not loaded, scheduling load and callback at\", now());\n    root._bokeh_is_loading = css_urls.length + js_urls.length;\n\n    function on_load() {\n      root._bokeh_is_loading--;\n      if (root._bokeh_is_loading === 0) {\n        console.debug(\"Bokeh: all BokehJS libraries/stylesheets loaded\");\n        run_callbacks()\n      }\n    }\n\n    function on_error(url) {\n      console.error(\"failed to load \" + url);\n    }\n\n    for (let i = 0; i < css_urls.length; i++) {\n      const url = css_urls[i];\n      const element = document.createElement(\"link\");\n      element.onload = on_load;\n      element.onerror = on_error.bind(null, url);\n      element.rel = \"stylesheet\";\n      element.type = \"text/css\";\n      element.href = url;\n      console.debug(\"Bokeh: injecting link tag for BokehJS stylesheet: \", url);\n      document.body.appendChild(element);\n    }\n\n    for (let i = 0; i < js_urls.length; i++) {\n      const url = js_urls[i];\n      const element = document.createElement('script');\n      element.onload = on_load;\n      element.onerror = on_error.bind(null, url);\n      element.async = false;\n      element.src = url;\n      console.debug(\"Bokeh: injecting script tag for BokehJS library: \", url);\n      document.head.appendChild(element);\n    }\n  };\n\n  function inject_raw_css(css) {\n    const element = document.createElement(\"style\");\n    element.appendChild(document.createTextNode(css));\n    document.body.appendChild(element);\n  }\n\n  \n  const js_urls = [\"https://cdn.bokeh.org/bokeh/release/bokeh-2.4.1.min.js\", \"https://cdn.bokeh.org/bokeh/release/bokeh-gl-2.4.1.min.js\", \"https://cdn.bokeh.org/bokeh/release/bokeh-widgets-2.4.1.min.js\", \"https://cdn.bokeh.org/bokeh/release/bokeh-tables-2.4.1.min.js\", \"https://cdn.bokeh.org/bokeh/release/bokeh-mathjax-2.4.1.min.js\"];\n  const css_urls = [];\n  \n\n  const inline_js = [\n    function(Bokeh) {\n      Bokeh.set_log_level(\"info\");\n    },\n    function(Bokeh) {\n    \n    \n    }\n  ];\n\n  function run_inline_js() {\n    \n    if (root.Bokeh !== undefined || force === true) {\n      \n    for (let i = 0; i < inline_js.length; i++) {\n      inline_js[i].call(root, root.Bokeh);\n    }\n    if (force === true) {\n        display_loaded();\n      }} else if (Date.now() < root._bokeh_timeout) {\n      setTimeout(run_inline_js, 100);\n    } else if (!root._bokeh_failed_load) {\n      console.log(\"Bokeh: BokehJS failed to load within specified timeout.\");\n      root._bokeh_failed_load = true;\n    } else if (force !== true) {\n      const cell = $(document.getElementById(\"1002\")).parents('.cell').data().cell;\n      cell.output_area.append_execute_result(NB_LOAD_WARNING)\n    }\n\n  }\n\n  if (root._bokeh_is_loading === 0) {\n    console.debug(\"Bokeh: BokehJS loaded, going straight to plotting\");\n    run_inline_js();\n  } else {\n    load_libs(css_urls, js_urls, function() {\n      console.debug(\"Bokeh: BokehJS plotting callback run at\", now());\n      run_inline_js();\n    });\n  }\n}(window));"
     },
     "metadata": {},
     "output_type": "display_data"
    }
   ],
   "source": [
    "import pandas as pd\n",
    "import numpy as np\n",
    "import matplotlib.pyplot as plt\n",
    "import seaborn as sns\n",
    "\n",
    "import pygal\n",
    "from pygal.style import LightGreenStyle\n",
    "import plotly.express as px\n",
    "\n",
    "from bokeh.plotting import figure, show\n",
    "\n",
    "import plotly.graph_objects as go\n",
    "from plotly.offline import init_notebook_mode,iplot,plot\n",
    "init_notebook_mode(connected=True)\n",
    "import plotly.express as px\n",
    "import pandas_bokeh\n",
    "from bokeh.sampledata.autompg import autompg as df\n",
    "from bokeh.layouts import gridplot\n",
    "from bokeh.plotting import figure, show\n",
    "\n",
    "from bokeh.themes import built_in_themes\n",
    "from bokeh.io import show, output_notebook, curdoc, output_file\n",
    "\n",
    "from bokeh.models.formatters import NumeralTickFormatter\n",
    "from bokeh.models import Label, Title, NumeralTickFormatter\n",
    "\n",
    "from bokeh.models import Range1d\n",
    "\n",
    "\n",
    "\n",
    "\n",
    "pandas_bokeh.output_notebook()\n",
    "\n",
    "\n",
    "\n",
    "import folium\n",
    "from folium import plugins\n",
    "from folium.plugins import HeatMap\n",
    "\n",
    "\n",
    "\n",
    "\n",
    "from sklearn import metrics\n",
    "from sklearn.neighbors import KNeighborsClassifier\n",
    "from sklearn.tree import DecisionTreeClassifier\n",
    "from sklearn.ensemble import RandomForestClassifier\n",
    "from sklearn.linear_model import LogisticRegression\n",
    "\n",
    "from sklearn.model_selection import train_test_split\n",
    "from sklearn.model_selection import GridSearchCV\n",
    "from sklearn.feature_selection import SelectFromModel\n",
    "from sklearn.metrics import classification_report\n",
    "from sklearn.metrics import confusion_matrix\n",
    "from sklearn.metrics import accuracy_score\n",
    "from sklearn.metrics import roc_curve, auc"
   ]
  },
  {
   "cell_type": "code",
   "execution_count": 2,
   "id": "3e323b28",
   "metadata": {},
   "outputs": [],
   "source": [
    "df = pd.read_csv('US_Accidents_Dec20_updated.csv')"
   ]
  },
  {
   "cell_type": "code",
   "execution_count": null,
   "id": "035af11c",
   "metadata": {},
   "outputs": [],
   "source": [
    "df.head()"
   ]
  },
  {
   "cell_type": "code",
   "execution_count": null,
   "id": "d24b59a4",
   "metadata": {},
   "outputs": [],
   "source": [
    "df.shape"
   ]
  },
  {
   "cell_type": "code",
   "execution_count": null,
   "id": "804c020f",
   "metadata": {},
   "outputs": [],
   "source": [
    "df.info()"
   ]
  },
  {
   "cell_type": "code",
   "execution_count": null,
   "id": "51920cff",
   "metadata": {},
   "outputs": [],
   "source": [
    "df.describe"
   ]
  },
  {
   "cell_type": "code",
   "execution_count": null,
   "id": "d38cef63",
   "metadata": {},
   "outputs": [],
   "source": [
    "df.columns"
   ]
  },
  {
   "cell_type": "markdown",
   "id": "9e90cdde",
   "metadata": {},
   "source": [
    "# Data Preparation"
   ]
  },
  {
   "cell_type": "code",
   "execution_count": 3,
   "id": "55ffc41f",
   "metadata": {},
   "outputs": [],
   "source": [
    "# Take the Features that I need to work with it\n",
    " \n",
    "accident_df = df\n",
    "\n",
    "accident_df = accident_df.drop(['Zipcode' ,'Airport_Code', 'Bump' , 'Crossing' , 'Give_Way', 'Junction',\n",
    "           'No_Exit','Railway', 'Roundabout','Station','Traffic_Calming','Traffic_Signal',\n",
    "                                'Stop','Turning_Loop','Astronomical_Twilight', 'Amenity' , 'Precipitation(in)'  , 'Nautical_Twilight' ,'Civil_Twilight' , 'Timezone', 'Wind_Direction', 'Number' , 'Weather_Timestamp', 'Wind_Speed(mph)' ],  axis=1)\n"
   ]
  },
  {
   "cell_type": "code",
   "execution_count": 4,
   "id": "9e17acf2",
   "metadata": {},
   "outputs": [
    {
     "data": {
      "text/plain": [
       "(1516064, 23)"
      ]
     },
     "execution_count": 4,
     "metadata": {},
     "output_type": "execute_result"
    }
   ],
   "source": [
    "accident_df.shape"
   ]
  },
  {
   "cell_type": "code",
   "execution_count": 5,
   "id": "d2c8fda4",
   "metadata": {},
   "outputs": [
    {
     "data": {
      "text/plain": [
       "Index(['ID', 'Severity', 'Start_Time', 'End_Time', 'Start_Lat', 'Start_Lng',\n",
       "       'End_Lat', 'End_Lng', 'Distance(mi)', 'Description', 'Street', 'Side',\n",
       "       'City', 'County', 'State', 'Country', 'Temperature(F)', 'Wind_Chill(F)',\n",
       "       'Humidity(%)', 'Pressure(in)', 'Visibility(mi)', 'Weather_Condition',\n",
       "       'Sunrise_Sunset'],\n",
       "      dtype='object')"
      ]
     },
     "execution_count": 5,
     "metadata": {},
     "output_type": "execute_result"
    }
   ],
   "source": [
    "accident_df.columns"
   ]
  },
  {
   "cell_type": "code",
   "execution_count": null,
   "id": "85b2beac",
   "metadata": {
    "scrolled": true
   },
   "outputs": [],
   "source": [
    "accident_df.head()"
   ]
  },
  {
   "cell_type": "markdown",
   "id": "87d21ea5",
   "metadata": {},
   "source": [
    "# Data Cleaning & EDA"
   ]
  },
  {
   "cell_type": "code",
   "execution_count": null,
   "id": "ad5d254e",
   "metadata": {
    "scrolled": true
   },
   "outputs": [],
   "source": [
    "accident_df.dtypes"
   ]
  },
  {
   "cell_type": "code",
   "execution_count": 6,
   "id": "096cd501",
   "metadata": {},
   "outputs": [
    {
     "data": {
      "text/plain": [
       "Wind_Chill(F)        449316\n",
       "Humidity(%)           45509\n",
       "Visibility(mi)        44211\n",
       "Weather_Condition     44007\n",
       "Temperature(F)        43033\n",
       "Pressure(in)          36274\n",
       "Sunrise_Sunset           83\n",
       "City                     83\n",
       "Country                   0\n",
       "State                     0\n",
       "County                    0\n",
       "ID                        0\n",
       "Severity                  0\n",
       "Street                    0\n",
       "Description               0\n",
       "Distance(mi)              0\n",
       "End_Lng                   0\n",
       "End_Lat                   0\n",
       "Start_Lng                 0\n",
       "Start_Lat                 0\n",
       "End_Time                  0\n",
       "Start_Time                0\n",
       "Side                      0\n",
       "dtype: int64"
      ]
     },
     "execution_count": 6,
     "metadata": {},
     "output_type": "execute_result"
    }
   ],
   "source": [
    "# Check # of NAN Value\n",
    "accident_df.isnull().sum().sort_values(ascending=False)"
   ]
  },
  {
   "cell_type": "code",
   "execution_count": 7,
   "id": "3d54f4c4",
   "metadata": {},
   "outputs": [],
   "source": [
    "# Delet null value \n",
    "accident_df=accident_df.dropna()"
   ]
  },
  {
   "cell_type": "code",
   "execution_count": 8,
   "id": "f6f0cca0",
   "metadata": {},
   "outputs": [
    {
     "data": {
      "text/plain": [
       "ID                   0\n",
       "City                 0\n",
       "Weather_Condition    0\n",
       "Visibility(mi)       0\n",
       "Pressure(in)         0\n",
       "Humidity(%)          0\n",
       "Wind_Chill(F)        0\n",
       "Temperature(F)       0\n",
       "Country              0\n",
       "State                0\n",
       "County               0\n",
       "Side                 0\n",
       "Severity             0\n",
       "Street               0\n",
       "Description          0\n",
       "Distance(mi)         0\n",
       "End_Lng              0\n",
       "End_Lat              0\n",
       "Start_Lng            0\n",
       "Start_Lat            0\n",
       "End_Time             0\n",
       "Start_Time           0\n",
       "Sunrise_Sunset       0\n",
       "dtype: int64"
      ]
     },
     "execution_count": 8,
     "metadata": {},
     "output_type": "execute_result"
    }
   ],
   "source": [
    "# Check Again to see there is NAN value or not \n",
    "accident_df.isnull().sum().sort_values(ascending=False)"
   ]
  },
  {
   "cell_type": "code",
   "execution_count": 9,
   "id": "882c549d",
   "metadata": {},
   "outputs": [
    {
     "data": {
      "image/png": "[encoded data removed]",
      "text/plain": [
       "<Figure size 1440x1080 with 2 Axes>"
      ]
     },
     "metadata": {
      "needs_background": "light"
     },
     "output_type": "display_data"
    }
   ],
   "source": [
    "cmap = sns.diverging_palette(20, 220, n=200)\n",
    "fig= sns.heatmap(accident_df.corr(),cmap=cmap, annot=True, fmt=\"f\",center=0)\n",
    "fig=plt.gcf()\n",
    "fig.set_size_inches(20,15)\n",
    "plt.xticks(fontsize=16)\n",
    "plt.yticks(fontsize=16)\n",
    "plt.show()"
   ]
  },
  {
   "cell_type": "markdown",
   "id": "595be4a7",
   "metadata": {},
   "source": [
    "## - Heat MAP of number of accidents "
   ]
  },
  {
   "cell_type": "code",
   "execution_count": 10,
   "id": "9a4f3da9",
   "metadata": {},
   "outputs": [
    {
     "data": {
      "application/vnd.plotly.v1+json": {
       "config": {
        "plotlyServerURL": "https://plot.ly"
       },
       "data": [
        {
         "colorbar": {
          "title": {
           "text": " Accident Counts"
          }
         },
         "colorscale": [
          [
           0,
           "rgb(228, 241, 225)"
          ],
          [
           0.16666666666666666,
           "rgb(180, 217, 204)"
          ],
          [
           0.3333333333333333,
           "rgb(137, 192, 182)"
          ],
          [
           0.5,
           "rgb(99, 166, 160)"
          ],
          [
           0.6666666666666666,
           "rgb(68, 140, 138)"
          ],
          [
           0.8333333333333334,
           "rgb(40, 114, 116)"
          ],
          [
           1,
           "rgb(13, 88, 95)"
          ]
         ],
         "locationmode": "USA-states",
         "locations": [
          "CA",
          "FL",
          "OR",
          "MN",
          "NY",
          "TX",
          "VA",
          "PA",
          "NC",
          "UT",
          "IL",
          "SC",
          "MD",
          "NJ",
          "AZ",
          "MI",
          "GA",
          "TN",
          "LA",
          "CO",
          "WA",
          "OH",
          "CT",
          "MO",
          "IN",
          "AL",
          "WI",
          "MA",
          "OK",
          "AR",
          "IA",
          "KY",
          "MT",
          "ID",
          "DC",
          "KS",
          "NH",
          "RI",
          "WV",
          "MS",
          "DE",
          "NE",
          "ME",
          "NV",
          "NM",
          "ND",
          "VT",
          "WY",
          "SD"
         ],
         "type": "choropleth",
         "z": [
          324405,
          106991,
          67302,
          44914,
          44033,
          42027,
          37035,
          35162,
          31786,
          25289,
          25248,
          23121,
          20873,
          19337,
          19310,
          19268,
          16743,
          16129,
          16080,
          14146,
          12523,
          12456,
          10520,
          9258,
          7718,
          7281,
          4497,
          4155,
          3947,
          3746,
          3496,
          3239,
          2999,
          2926,
          2882,
          2554,
          2320,
          2140,
          1955,
          1597,
          1572,
          1514,
          1313,
          1074,
          909,
          401,
          253,
          238,
          200
         ]
        }
       ],
       "layout": {
        "font": {
         "color": "MidnightBlue",
         "family": "Calibri",
         "size": 14
        },
        "geo": {
         "scope": "usa"
        },
        "template": {
         "data": {
          "bar": [
           {
            "error_x": {
             "color": "#2a3f5f"
            },
            "error_y": {
             "color": "#2a3f5f"
            },
            "marker": {
             "line": {
              "color": "#E5ECF6",
              "width": 0.5
             },
             "pattern": {
              "fillmode": "overlay",
              "size": 10,
              "solidity": 0.2
             }
            },
            "type": "bar"
           }
          ],
          "barpolar": [
           {
            "marker": {
             "line": {
              "color": "#E5ECF6",
              "width": 0.5
             },
             "pattern": {
              "fillmode": "overlay",
              "size": 10,
              "solidity": 0.2
             }
            },
            "type": "barpolar"
           }
          ],
          "carpet": [
           {
            "aaxis": {
             "endlinecolor": "#2a3f5f",
             "gridcolor": "white",
             "linecolor": "white",
             "minorgridcolor": "white",
             "startlinecolor": "#2a3f5f"
            },
            "baxis": {
             "endlinecolor": "#2a3f5f",
             "gridcolor": "white",
             "linecolor": "white",
             "minorgridcolor": "white",
             "startlinecolor": "#2a3f5f"
            },
            "type": "carpet"
           }
          ],
          "choropleth": [
           {
            "colorbar": {
             "outlinewidth": 0,
             "ticks": ""
            },
            "type": "choropleth"
           }
          ],
          "contour": [
           {
            "colorbar": {
             "outlinewidth": 0,
             "ticks": ""
            },
            "colorscale": [
             [
              0,
              "#0d0887"
             ],
             [
              0.1111111111111111,
              "#46039f"
             ],
             [
              0.2222222222222222,
              "#7201a8"
             ],
             [
              0.3333333333333333,
              "#9c179e"
             ],
             [
              0.4444444444444444,
              "#bd3786"
             ],
             [
              0.5555555555555556,
              "#d8576b"
             ],
             [
              0.6666666666666666,
              "#ed7953"
             ],
             [
              0.7777777777777778,
              "#fb9f3a"
             ],
             [
              0.8888888888888888,
              "#fdca26"
             ],
             [
              1,
              "#f0f921"
             ]
            ],
            "type": "contour"
           }
          ],
          "contourcarpet": [
           {
            "colorbar": {
             "outlinewidth": 0,
             "ticks": ""
            },
            "type": "contourcarpet"
           }
          ],
          "heatmap": [
           {
            "colorbar": {
             "outlinewidth": 0,
             "ticks": ""
            },
            "colorscale": [
             [
              0,
              "#0d0887"
             ],
             [
              0.1111111111111111,
              "#46039f"
             ],
             [
              0.2222222222222222,
              "#7201a8"
             ],
             [
              0.3333333333333333,
              "#9c179e"
             ],
             [
              0.4444444444444444,
              "#bd3786"
             ],
             [
              0.5555555555555556,
              "#d8576b"
             ],
             [
              0.6666666666666666,
              "#ed7953"
             ],
             [
              0.7777777777777778,
              "#fb9f3a"
             ],
             [
              0.8888888888888888,
              "#fdca26"
             ],
             [
              1,
              "#f0f921"
             ]
            ],
            "type": "heatmap"
           }
          ],
          "heatmapgl": [
           {
            "colorbar": {
             "outlinewidth": 0,
             "ticks": ""
            },
            "colorscale": [
             [
              0,
              "#0d0887"
             ],
             [
              0.1111111111111111,
              "#46039f"
             ],
             [
              0.2222222222222222,
              "#7201a8"
             ],
             [
              0.3333333333333333,
              "#9c179e"
             ],
             [
              0.4444444444444444,
              "#bd3786"
             ],
             [
              0.5555555555555556,
              "#d8576b"
             ],
             [
              0.6666666666666666,
              "#ed7953"
             ],
             [
              0.7777777777777778,
              "#fb9f3a"
             ],
             [
              0.8888888888888888,
              "#fdca26"
             ],
             [
              1,
              "#f0f921"
             ]
            ],
            "type": "heatmapgl"
           }
          ],
          "histogram": [
           {
            "marker": {
             "pattern": {
              "fillmode": "overlay",
              "size": 10,
              "solidity": 0.2
             }
            },
            "type": "histogram"
           }
          ],
          "histogram2d": [
           {
            "colorbar": {
             "outlinewidth": 0,
             "ticks": ""
            },
            "colorscale": [
             [
              0,
              "#0d0887"
             ],
             [
              0.1111111111111111,
              "#46039f"
             ],
             [
              0.2222222222222222,
              "#7201a8"
             ],
             [
              0.3333333333333333,
              "#9c179e"
             ],
             [
              0.4444444444444444,
              "#bd3786"
             ],
             [
              0.5555555555555556,
              "#d8576b"
             ],
             [
              0.6666666666666666,
              "#ed7953"
             ],
             [
              0.7777777777777778,
              "#fb9f3a"
             ],
             [
              0.8888888888888888,
              "#fdca26"
             ],
             [
              1,
              "#f0f921"
             ]
            ],
            "type": "histogram2d"
           }
          ],
          "histogram2dcontour": [
           {
            "colorbar": {
             "outlinewidth": 0,
             "ticks": ""
            },
            "colorscale": [
             [
              0,
              "#0d0887"
             ],
             [
              0.1111111111111111,
              "#46039f"
             ],
             [
              0.2222222222222222,
              "#7201a8"
             ],
             [
              0.3333333333333333,
              "#9c179e"
             ],
             [
              0.4444444444444444,
              "#bd3786"
             ],
             [
              0.5555555555555556,
              "#d8576b"
             ],
             [
              0.6666666666666666,
              "#ed7953"
             ],
             [
              0.7777777777777778,
              "#fb9f3a"
             ],
             [
              0.8888888888888888,
              "#fdca26"
             ],
             [
              1,
              "#f0f921"
             ]
            ],
            "type": "histogram2dcontour"
           }
          ],
          "mesh3d": [
           {
            "colorbar": {
             "outlinewidth": 0,
             "ticks": ""
            },
            "type": "mesh3d"
           }
          ],
          "parcoords": [
           {
            "line": {
             "colorbar": {
              "outlinewidth": 0,
              "ticks": ""
             }
            },
            "type": "parcoords"
           }
          ],
          "pie": [
           {
            "automargin": true,
            "type": "pie"
           }
          ],
          "scatter": [
           {
            "marker": {
             "colorbar": {
              "outlinewidth": 0,
              "ticks": ""
             }
            },
            "type": "scatter"
           }
          ],
          "scatter3d": [
           {
            "line": {
             "colorbar": {
              "outlinewidth": 0,
              "ticks": ""
             }
            },
            "marker": {
             "colorbar": {
              "outlinewidth": 0,
              "ticks": ""
             }
            },
            "type": "scatter3d"
           }
          ],
          "scattercarpet": [
           {
            "marker": {
             "colorbar": {
              "outlinewidth": 0,
              "ticks": ""
             }
            },
            "type": "scattercarpet"
           }
          ],
          "scattergeo": [
           {
            "marker": {
             "colorbar": {
              "outlinewidth": 0,
              "ticks": ""
             }
            },
            "type": "scattergeo"
           }
          ],
          "scattergl": [
           {
            "marker": {
             "colorbar": {
              "outlinewidth": 0,
              "ticks": ""
             }
            },
            "type": "scattergl"
           }
          ],
          "scattermapbox": [
           {
            "marker": {
             "colorbar": {
              "outlinewidth": 0,
              "ticks": ""
             }
            },
            "type": "scattermapbox"
           }
          ],
          "scatterpolar": [
           {
            "marker": {
             "colorbar": {
              "outlinewidth": 0,
              "ticks": ""
             }
            },
            "type": "scatterpolar"
           }
          ],
          "scatterpolargl": [
           {
            "marker": {
             "colorbar": {
              "outlinewidth": 0,
              "ticks": ""
             }
            },
            "type": "scatterpolargl"
           }
          ],
          "scatterternary": [
           {
            "marker": {
             "colorbar": {
              "outlinewidth": 0,
              "ticks": ""
             }
            },
            "type": "scatterternary"
           }
          ],
          "surface": [
           {
            "colorbar": {
             "outlinewidth": 0,
             "ticks": ""
            },
            "colorscale": [
             [
              0,
              "#0d0887"
             ],
             [
              0.1111111111111111,
              "#46039f"
             ],
             [
              0.2222222222222222,
              "#7201a8"
             ],
             [
              0.3333333333333333,
              "#9c179e"
             ],
             [
              0.4444444444444444,
              "#bd3786"
             ],
             [
              0.5555555555555556,
              "#d8576b"
             ],
             [
              0.6666666666666666,
              "#ed7953"
             ],
             [
              0.7777777777777778,
              "#fb9f3a"
             ],
             [
              0.8888888888888888,
              "#fdca26"
             ],
             [
              1,
              "#f0f921"
             ]
            ],
            "type": "surface"
           }
          ],
          "table": [
           {
            "cells": {
             "fill": {
              "color": "#EBF0F8"
             },
             "line": {
              "color": "white"
             }
            },
            "header": {
             "fill": {
              "color": "#C8D4E3"
             },
             "line": {
              "color": "white"
             }
            },
            "type": "table"
           }
          ]
         },
         "layout": {
          "annotationdefaults": {
           "arrowcolor": "#2a3f5f",
           "arrowhead": 0,
           "arrowwidth": 1
          },
          "autotypenumbers": "strict",
          "coloraxis": {
           "colorbar": {
            "outlinewidth": 0,
            "ticks": ""
           }
          },
          "colorscale": {
           "diverging": [
            [
             0,
             "#8e0152"
            ],
            [
             0.1,
             "#c51b7d"
            ],
            [
             0.2,
             "#de77ae"
            ],
            [
             0.3,
             "#f1b6da"
            ],
            [
             0.4,
             "#fde0ef"
            ],
            [
             0.5,
             "#f7f7f7"
            ],
            [
             0.6,
             "#e6f5d0"
            ],
            [
             0.7,
             "#b8e186"
            ],
            [
             0.8,
             "#7fbc41"
            ],
            [
             0.9,
             "#4d9221"
            ],
            [
             1,
             "#276419"
            ]
           ],
           "sequential": [
            [
             0,
             "#0d0887"
            ],
            [
             0.1111111111111111,
             "#46039f"
            ],
            [
             0.2222222222222222,
             "#7201a8"
            ],
            [
             0.3333333333333333,
             "#9c179e"
            ],
            [
             0.4444444444444444,
             "#bd3786"
            ],
            [
             0.5555555555555556,
             "#d8576b"
            ],
            [
             0.6666666666666666,
             "#ed7953"
            ],
            [
             0.7777777777777778,
             "#fb9f3a"
            ],
            [
             0.8888888888888888,
             "#fdca26"
            ],
            [
             1,
             "#f0f921"
            ]
           ],
           "sequentialminus": [
            [
             0,
             "#0d0887"
            ],
            [
             0.1111111111111111,
             "#46039f"
            ],
            [
             0.2222222222222222,
             "#7201a8"
            ],
            [
             0.3333333333333333,
             "#9c179e"
            ],
            [
             0.4444444444444444,
             "#bd3786"
            ],
            [
             0.5555555555555556,
             "#d8576b"
            ],
            [
             0.6666666666666666,
             "#ed7953"
            ],
            [
             0.7777777777777778,
             "#fb9f3a"
            ],
            [
             0.8888888888888888,
             "#fdca26"
            ],
            [
             1,
             "#f0f921"
            ]
           ]
          },
          "colorway": [
           "#636efa",
           "#EF553B",
           "#00cc96",
           "#ab63fa",
           "#FFA15A",
           "#19d3f3",
           "#FF6692",
           "#B6E880",
           "#FF97FF",
           "#FECB52"
          ],
          "font": {
           "color": "#2a3f5f"
          },
          "geo": {
           "bgcolor": "white",
           "lakecolor": "white",
           "landcolor": "#E5ECF6",
           "showlakes": true,
           "showland": true,
           "subunitcolor": "white"
          },
          "hoverlabel": {
           "align": "left"
          },
          "hovermode": "closest",
          "mapbox": {
           "style": "light"
          },
          "paper_bgcolor": "white",
          "plot_bgcolor": "#E5ECF6",
          "polar": {
           "angularaxis": {
            "gridcolor": "white",
            "linecolor": "white",
            "ticks": ""
           },
           "bgcolor": "#E5ECF6",
           "radialaxis": {
            "gridcolor": "white",
            "linecolor": "white",
            "ticks": ""
           }
          },
          "scene": {
           "xaxis": {
            "backgroundcolor": "#E5ECF6",
            "gridcolor": "white",
            "gridwidth": 2,
            "linecolor": "white",
            "showbackground": true,
            "ticks": "",
            "zerolinecolor": "white"
           },
           "yaxis": {
            "backgroundcolor": "#E5ECF6",
            "gridcolor": "white",
            "gridwidth": 2,
            "linecolor": "white",
            "showbackground": true,
            "ticks": "",
            "zerolinecolor": "white"
           },
           "zaxis": {
            "backgroundcolor": "#E5ECF6",
            "gridcolor": "white",
            "gridwidth": 2,
            "linecolor": "white",
            "showbackground": true,
            "ticks": "",
            "zerolinecolor": "white"
           }
          },
          "shapedefaults": {
           "line": {
            "color": "#2a3f5f"
           }
          },
          "ternary": {
           "aaxis": {
            "gridcolor": "white",
            "linecolor": "white",
            "ticks": ""
           },
           "baxis": {
            "gridcolor": "white",
            "linecolor": "white",
            "ticks": ""
           },
           "bgcolor": "#E5ECF6",
           "caxis": {
            "gridcolor": "white",
            "linecolor": "white",
            "ticks": ""
           }
          },
          "title": {
           "x": 0.05
          },
          "xaxis": {
           "automargin": true,
           "gridcolor": "white",
           "linecolor": "white",
           "ticks": "",
           "title": {
            "standoff": 15
           },
           "zerolinecolor": "white",
           "zerolinewidth": 2
          },
          "yaxis": {
           "automargin": true,
           "gridcolor": "white",
           "linecolor": "white",
           "ticks": "",
           "title": {
            "standoff": 15
           },
           "zerolinecolor": "white",
           "zerolinewidth": 2
          }
         }
        },
        "title": {
         "text": "Accidents Counts by States 2016 - 2020",
         "x": 0.5
        }
       }
      },
      "text/html": [
       "<div>                            <div id=\"573394d8-e5bd-403b-850d-c6c9dba5fb6f\" class=\"plotly-graph-div\" style=\"height:525px; width:100%;\"></div>            <script type=\"text/javascript\">                require([\"plotly\"], function(Plotly) {                    window.PLOTLYENV=window.PLOTLYENV || {};                                    if (document.getElementById(\"573394d8-e5bd-403b-850d-c6c9dba5fb6f\")) {                    Plotly.newPlot(                        \"573394d8-e5bd-403b-850d-c6c9dba5fb6f\",                        [{\"colorbar\":{\"title\":{\"text\":\" Accident Counts\"}},\"colorscale\":[[0.0,\"rgb(228, 241, 225)\"],[0.16666666666666666,\"rgb(180, 217, 204)\"],[0.3333333333333333,\"rgb(137, 192, 182)\"],[0.5,\"rgb(99, 166, 160)\"],[0.6666666666666666,\"rgb(68, 140, 138)\"],[0.8333333333333334,\"rgb(40, 114, 116)\"],[1.0,\"rgb(13, 88, 95)\"]],\"locationmode\":\"USA-states\",\"locations\":[\"CA\",\"FL\",\"OR\",\"MN\",\"NY\",\"TX\",\"VA\",\"PA\",\"NC\",\"UT\",\"IL\",\"SC\",\"MD\",\"NJ\",\"AZ\",\"MI\",\"GA\",\"TN\",\"LA\",\"CO\",\"WA\",\"OH\",\"CT\",\"MO\",\"IN\",\"AL\",\"WI\",\"MA\",\"OK\",\"AR\",\"IA\",\"KY\",\"MT\",\"ID\",\"DC\",\"KS\",\"NH\",\"RI\",\"WV\",\"MS\",\"DE\",\"NE\",\"ME\",\"NV\",\"NM\",\"ND\",\"VT\",\"WY\",\"SD\"],\"z\":[324405.0,106991.0,67302.0,44914.0,44033.0,42027.0,37035.0,35162.0,31786.0,25289.0,25248.0,23121.0,20873.0,19337.0,19310.0,19268.0,16743.0,16129.0,16080.0,14146.0,12523.0,12456.0,10520.0,9258.0,7718.0,7281.0,4497.0,4155.0,3947.0,3746.0,3496.0,3239.0,2999.0,2926.0,2882.0,2554.0,2320.0,2140.0,1955.0,1597.0,1572.0,1514.0,1313.0,1074.0,909.0,401.0,253.0,238.0,200.0],\"type\":\"choropleth\"}],                        {\"font\":{\"color\":\"MidnightBlue\",\"family\":\"Calibri\",\"size\":14},\"geo\":{\"scope\":\"usa\"},\"title\":{\"text\":\"Accidents Counts by States 2016 - 2020\",\"x\":0.5},\"template\":{\"data\":{\"bar\":[{\"error_x\":{\"color\":\"#2a3f5f\"},\"error_y\":{\"color\":\"#2a3f5f\"},\"marker\":{\"line\":{\"color\":\"#E5ECF6\",\"width\":0.5},\"pattern\":{\"fillmode\":\"overlay\",\"size\":10,\"solidity\":0.2}},\"type\":\"bar\"}],\"barpolar\":[{\"marker\":{\"line\":{\"color\":\"#E5ECF6\",\"width\":0.5},\"pattern\":{\"fillmode\":\"overlay\",\"size\":10,\"solidity\":0.2}},\"type\":\"barpolar\"}],\"carpet\":[{\"aaxis\":{\"endlinecolor\":\"#2a3f5f\",\"gridcolor\":\"white\",\"linecolor\":\"white\",\"minorgridcolor\":\"white\",\"startlinecolor\":\"#2a3f5f\"},\"baxis\":{\"endlinecolor\":\"#2a3f5f\",\"gridcolor\":\"white\",\"linecolor\":\"white\",\"minorgridcolor\":\"white\",\"startlinecolor\":\"#2a3f5f\"},\"type\":\"carpet\"}],\"choropleth\":[{\"colorbar\":{\"outlinewidth\":0,\"ticks\":\"\"},\"type\":\"choropleth\"}],\"contour\":[{\"colorbar\":{\"outlinewidth\":0,\"ticks\":\"\"},\"colorscale\":[[0.0,\"#0d0887\"],[0.1111111111111111,\"#46039f\"],[0.2222222222222222,\"#7201a8\"],[0.3333333333333333,\"#9c179e\"],[0.4444444444444444,\"#bd3786\"],[0.5555555555555556,\"#d8576b\"],[0.6666666666666666,\"#ed7953\"],[0.7777777777777778,\"#fb9f3a\"],[0.8888888888888888,\"#fdca26\"],[1.0,\"#f0f921\"]],\"type\":\"contour\"}],\"contourcarpet\":[{\"colorbar\":{\"outlinewidth\":0,\"ticks\":\"\"},\"type\":\"contourcarpet\"}],\"heatmap\":[{\"colorbar\":{\"outlinewidth\":0,\"ticks\":\"\"},\"colorscale\":[[0.0,\"#0d0887\"],[0.1111111111111111,\"#46039f\"],[0.2222222222222222,\"#7201a8\"],[0.3333333333333333,\"#9c179e\"],[0.4444444444444444,\"#bd3786\"],[0.5555555555555556,\"#d8576b\"],[0.6666666666666666,\"#ed7953\"],[0.7777777777777778,\"#fb9f3a\"],[0.8888888888888888,\"#fdca26\"],[1.0,\"#f0f921\"]],\"type\":\"heatmap\"}],\"heatmapgl\":[{\"colorbar\":{\"outlinewidth\":0,\"ticks\":\"\"},\"colorscale\":[[0.0,\"#0d0887\"],[0.1111111111111111,\"#46039f\"],[0.2222222222222222,\"#7201a8\"],[0.3333333333333333,\"#9c179e\"],[0.4444444444444444,\"#bd3786\"],[0.5555555555555556,\"#d8576b\"],[0.6666666666666666,\"#ed7953\"],[0.7777777777777778,\"#fb9f3a\"],[0.8888888888888888,\"#fdca26\"],[1.0,\"#f0f921\"]],\"type\":\"heatmapgl\"}],\"histogram\":[{\"marker\":{\"pattern\":{\"fillmode\":\"overlay\",\"size\":10,\"solidity\":0.2}},\"type\":\"histogram\"}],\"histogram2d\":[{\"colorbar\":{\"outlinewidth\":0,\"ticks\":\"\"},\"colorscale\":[[0.0,\"#0d0887\"],[0.1111111111111111,\"#46039f\"],[0.2222222222222222,\"#7201a8\"],[0.3333333333333333,\"#9c179e\"],[0.4444444444444444,\"#bd3786\"],[0.5555555555555556,\"#d8576b\"],[0.6666666666666666,\"#ed7953\"],[0.7777777777777778,\"#fb9f3a\"],[0.8888888888888888,\"#fdca26\"],[1.0,\"#f0f921\"]],\"type\":\"histogram2d\"}],\"histogram2dcontour\":[{\"colorbar\":{\"outlinewidth\":0,\"ticks\":\"\"},\"colorscale\":[[0.0,\"#0d0887\"],[0.1111111111111111,\"#46039f\"],[0.2222222222222222,\"#7201a8\"],[0.3333333333333333,\"#9c179e\"],[0.4444444444444444,\"#bd3786\"],[0.5555555555555556,\"#d8576b\"],[0.6666666666666666,\"#ed7953\"],[0.7777777777777778,\"#fb9f3a\"],[0.8888888888888888,\"#fdca26\"],[1.0,\"#f0f921\"]],\"type\":\"histogram2dcontour\"}],\"mesh3d\":[{\"colorbar\":{\"outlinewidth\":0,\"ticks\":\"\"},\"type\":\"mesh3d\"}],\"parcoords\":[{\"line\":{\"colorbar\":{\"outlinewidth\":0,\"ticks\":\"\"}},\"type\":\"parcoords\"}],\"pie\":[{\"automargin\":true,\"type\":\"pie\"}],\"scatter\":[{\"marker\":{\"colorbar\":{\"outlinewidth\":0,\"ticks\":\"\"}},\"type\":\"scatter\"}],\"scatter3d\":[{\"line\":{\"colorbar\":{\"outlinewidth\":0,\"ticks\":\"\"}},\"marker\":{\"colorbar\":{\"outlinewidth\":0,\"ticks\":\"\"}},\"type\":\"scatter3d\"}],\"scattercarpet\":[{\"marker\":{\"colorbar\":{\"outlinewidth\":0,\"ticks\":\"\"}},\"type\":\"scattercarpet\"}],\"scattergeo\":[{\"marker\":{\"colorbar\":{\"outlinewidth\":0,\"ticks\":\"\"}},\"type\":\"scattergeo\"}],\"scattergl\":[{\"marker\":{\"colorbar\":{\"outlinewidth\":0,\"ticks\":\"\"}},\"type\":\"scattergl\"}],\"scattermapbox\":[{\"marker\":{\"colorbar\":{\"outlinewidth\":0,\"ticks\":\"\"}},\"type\":\"scattermapbox\"}],\"scatterpolar\":[{\"marker\":{\"colorbar\":{\"outlinewidth\":0,\"ticks\":\"\"}},\"type\":\"scatterpolar\"}],\"scatterpolargl\":[{\"marker\":{\"colorbar\":{\"outlinewidth\":0,\"ticks\":\"\"}},\"type\":\"scatterpolargl\"}],\"scatterternary\":[{\"marker\":{\"colorbar\":{\"outlinewidth\":0,\"ticks\":\"\"}},\"type\":\"scatterternary\"}],\"surface\":[{\"colorbar\":{\"outlinewidth\":0,\"ticks\":\"\"},\"colorscale\":[[0.0,\"#0d0887\"],[0.1111111111111111,\"#46039f\"],[0.2222222222222222,\"#7201a8\"],[0.3333333333333333,\"#9c179e\"],[0.4444444444444444,\"#bd3786\"],[0.5555555555555556,\"#d8576b\"],[0.6666666666666666,\"#ed7953\"],[0.7777777777777778,\"#fb9f3a\"],[0.8888888888888888,\"#fdca26\"],[1.0,\"#f0f921\"]],\"type\":\"surface\"}],\"table\":[{\"cells\":{\"fill\":{\"color\":\"#EBF0F8\"},\"line\":{\"color\":\"white\"}},\"header\":{\"fill\":{\"color\":\"#C8D4E3\"},\"line\":{\"color\":\"white\"}},\"type\":\"table\"}]},\"layout\":{\"annotationdefaults\":{\"arrowcolor\":\"#2a3f5f\",\"arrowhead\":0,\"arrowwidth\":1},\"autotypenumbers\":\"strict\",\"coloraxis\":{\"colorbar\":{\"outlinewidth\":0,\"ticks\":\"\"}},\"colorscale\":{\"diverging\":[[0,\"#8e0152\"],[0.1,\"#c51b7d\"],[0.2,\"#de77ae\"],[0.3,\"#f1b6da\"],[0.4,\"#fde0ef\"],[0.5,\"#f7f7f7\"],[0.6,\"#e6f5d0\"],[0.7,\"#b8e186\"],[0.8,\"#7fbc41\"],[0.9,\"#4d9221\"],[1,\"#276419\"]],\"sequential\":[[0.0,\"#0d0887\"],[0.1111111111111111,\"#46039f\"],[0.2222222222222222,\"#7201a8\"],[0.3333333333333333,\"#9c179e\"],[0.4444444444444444,\"#bd3786\"],[0.5555555555555556,\"#d8576b\"],[0.6666666666666666,\"#ed7953\"],[0.7777777777777778,\"#fb9f3a\"],[0.8888888888888888,\"#fdca26\"],[1.0,\"#f0f921\"]],\"sequentialminus\":[[0.0,\"#0d0887\"],[0.1111111111111111,\"#46039f\"],[0.2222222222222222,\"#7201a8\"],[0.3333333333333333,\"#9c179e\"],[0.4444444444444444,\"#bd3786\"],[0.5555555555555556,\"#d8576b\"],[0.6666666666666666,\"#ed7953\"],[0.7777777777777778,\"#fb9f3a\"],[0.8888888888888888,\"#fdca26\"],[1.0,\"#f0f921\"]]},\"colorway\":[\"#636efa\",\"#EF553B\",\"#00cc96\",\"#ab63fa\",\"#FFA15A\",\"#19d3f3\",\"#FF6692\",\"#B6E880\",\"#FF97FF\",\"#FECB52\"],\"font\":{\"color\":\"#2a3f5f\"},\"geo\":{\"bgcolor\":\"white\",\"lakecolor\":\"white\",\"landcolor\":\"#E5ECF6\",\"showlakes\":true,\"showland\":true,\"subunitcolor\":\"white\"},\"hoverlabel\":{\"align\":\"left\"},\"hovermode\":\"closest\",\"mapbox\":{\"style\":\"light\"},\"paper_bgcolor\":\"white\",\"plot_bgcolor\":\"#E5ECF6\",\"polar\":{\"angularaxis\":{\"gridcolor\":\"white\",\"linecolor\":\"white\",\"ticks\":\"\"},\"bgcolor\":\"#E5ECF6\",\"radialaxis\":{\"gridcolor\":\"white\",\"linecolor\":\"white\",\"ticks\":\"\"}},\"scene\":{\"xaxis\":{\"backgroundcolor\":\"#E5ECF6\",\"gridcolor\":\"white\",\"gridwidth\":2,\"linecolor\":\"white\",\"showbackground\":true,\"ticks\":\"\",\"zerolinecolor\":\"white\"},\"yaxis\":{\"backgroundcolor\":\"#E5ECF6\",\"gridcolor\":\"white\",\"gridwidth\":2,\"linecolor\":\"white\",\"showbackground\":true,\"ticks\":\"\",\"zerolinecolor\":\"white\"},\"zaxis\":{\"backgroundcolor\":\"#E5ECF6\",\"gridcolor\":\"white\",\"gridwidth\":2,\"linecolor\":\"white\",\"showbackground\":true,\"ticks\":\"\",\"zerolinecolor\":\"white\"}},\"shapedefaults\":{\"line\":{\"color\":\"#2a3f5f\"}},\"ternary\":{\"aaxis\":{\"gridcolor\":\"white\",\"linecolor\":\"white\",\"ticks\":\"\"},\"baxis\":{\"gridcolor\":\"white\",\"linecolor\":\"white\",\"ticks\":\"\"},\"bgcolor\":\"#E5ECF6\",\"caxis\":{\"gridcolor\":\"white\",\"linecolor\":\"white\",\"ticks\":\"\"}},\"title\":{\"x\":0.05},\"xaxis\":{\"automargin\":true,\"gridcolor\":\"white\",\"linecolor\":\"white\",\"ticks\":\"\",\"title\":{\"standoff\":15},\"zerolinecolor\":\"white\",\"zerolinewidth\":2},\"yaxis\":{\"automargin\":true,\"gridcolor\":\"white\",\"linecolor\":\"white\",\"ticks\":\"\",\"title\":{\"standoff\":15},\"zerolinecolor\":\"white\",\"zerolinewidth\":2}}}},                        {\"responsive\": true}                    ).then(function(){\n",
       "                            \n",
       "var gd = document.getElementById('573394d8-e5bd-403b-850d-c6c9dba5fb6f');\n",
       "var x = new MutationObserver(function (mutations, observer) {{\n",
       "        var display = window.getComputedStyle(gd).display;\n",
       "        if (!display || display === 'none') {{\n",
       "            console.log([gd, 'removed!']);\n",
       "            Plotly.purge(gd);\n",
       "            observer.disconnect();\n",
       "        }}\n",
       "}});\n",
       "\n",
       "// Listen for the removal of the full notebook cells\n",
       "var notebookContainer = gd.closest('#notebook-container');\n",
       "if (notebookContainer) {{\n",
       "    x.observe(notebookContainer, {childList: true});\n",
       "}}\n",
       "\n",
       "// Listen for the clearing of the current output cell\n",
       "var outputEl = gd.closest('.output');\n",
       "if (outputEl) {{\n",
       "    x.observe(outputEl, {childList: true});\n",
       "}}\n",
       "\n",
       "                        })                };                });            </script>        </div>"
      ]
     },
     "metadata": {},
     "output_type": "display_data"
    }
   ],
   "source": [
    "# blugrn - bluyl - brwnyl - bugn - bupu - burg - burgyl - darkmint - emrld - greys - magenta - mint\n",
    "\n",
    "fig = go.Figure(\n",
    "    data=go.Choropleth(\n",
    "        locations = pd.value_counts(accident_df['State']).index, \n",
    "        z = pd.value_counts(accident_df['State']).values.astype(float), \n",
    "        locationmode = 'USA-states', \n",
    "        colorscale = 'mint', \n",
    "        colorbar_title = \" Accident Counts\"), \n",
    "\n",
    "    \n",
    "    \n",
    "    layout=go.Layout(\n",
    "        title_text='Accidents Counts by States 2016 - 2020', \n",
    "        title_x=0.5, \n",
    "        font=dict(family='Calibri', size=14, color='MidnightBlue'), \n",
    "        geo_scope='usa'))\n",
    "\n",
    "fig.show()"
   ]
  },
  {
   "cell_type": "markdown",
   "id": "77ceee18",
   "metadata": {},
   "source": [
    "## - TOP 10 State, Count and City had an accidents:"
   ]
  },
  {
   "cell_type": "code",
   "execution_count": 11,
   "id": "0dbe8440",
   "metadata": {},
   "outputs": [
    {
     "data": {
      "text/plain": [
       "49"
      ]
     },
     "execution_count": 11,
     "metadata": {},
     "output_type": "execute_result"
    }
   ],
   "source": [
    "# Number of State \n",
    "state = accident_df.State.unique()\n",
    "len(state)"
   ]
  },
  {
   "cell_type": "code",
   "execution_count": 12,
   "id": "cbd9c97b",
   "metadata": {},
   "outputs": [],
   "source": [
    "# What are the unique 'State' of US where accidents have taken place?\n",
    "state = accident_df['State'].value_counts()\n",
    "#state.head(10)"
   ]
  },
  {
   "cell_type": "code",
   "execution_count": 13,
   "id": "ac2350f0",
   "metadata": {},
   "outputs": [],
   "source": [
    "state = accident_df['State'].unique()\n",
    "state = pd.DataFrame()\n",
    "# state.head(10)\n",
    "\n",
    "state = accident_df.groupby(['State']).count().sort_values(by = \"ID\" , ascending= False).iloc[:,[0]]\n",
    "state = state.reset_index()\n",
    "state.rename(columns={'ID': '#Accident'}, inplace=True)\n",
    "# state.head(49)"
   ]
  },
  {
   "cell_type": "code",
   "execution_count": 15,
   "id": "4fe5d711",
   "metadata": {},
   "outputs": [
    {
     "data": {
      "text/html": [
       "\n",
       "\n",
       "\n",
       "\n",
       "\n",
       "\n",
       "  <div class=\"bk-root\" id=\"b1629eef-8e0a-43de-881b-b0ba62a4ade2\" data-root-id=\"1078\"></div>\n"
      ]
     },
     "metadata": {},
     "output_type": "display_data"
    },
    {
     "data": {
      "application/javascript": [
       "(function(root) {\n",
       "  function embed_document(root) {\n",
       "    \n",
       "  const docs_json = {\"16c70bcd-9ab0-4b0e-92c5-6361a651bf5c\":{\"defs\":[],\"roots\":{\"references\":[{\"attributes\":{\"below\":[{\"id\":\"1089\"}],\"center\":[{\"id\":\"1091\"},{\"id\":\"1095\"}],\"height\":500,\"left\":[{\"id\":\"1092\"}],\"renderers\":[{\"id\":\"1103\"}],\"title\":{\"id\":\"1079\"},\"toolbar\":{\"id\":\"1096\"},\"toolbar_location\":null,\"width\":800,\"x_range\":{\"id\":\"1081\"},\"x_scale\":{\"id\":\"1085\"},\"y_range\":{\"id\":\"1083\"},\"y_scale\":{\"id\":\"1087\"}},\"id\":\"1078\",\"subtype\":\"Figure\",\"type\":\"Plot\"},{\"attributes\":{\"axis_label_standoff\":10,\"axis_label_text_color\":\"#5B5B5B\",\"axis_label_text_font\":\"Calibri Light\",\"axis_label_text_font_size\":\"1.15em\",\"axis_label_text_font_style\":\"bold\",\"axis_line_alpha\":1,\"axis_line_color\":\"#5B5B5B\",\"coordinates\":null,\"formatter\":{\"id\":\"1097\"},\"group\":null,\"major_label_policy\":{\"id\":\"1115\"},\"major_label_text_color\":\"#5B5B5B\",\"major_label_text_font\":\"Calibri Light\",\"major_label_text_font_size\":\"0.95em\",\"major_label_text_font_style\":\"bold\",\"major_tick_in\":0,\"major_tick_line_alpha\":0.25,\"major_tick_line_color\":\"#5B5B5B\",\"major_tick_out\":3,\"minor_tick_line_alpha\":0.25,\"minor_tick_line_color\":\"#5B5B5B\",\"ticker\":{\"id\":\"1093\"}},\"id\":\"1092\",\"type\":\"LinearAxis\"},{\"attributes\":{\"axis\":{\"id\":\"1092\"},\"coordinates\":null,\"dimension\":1,\"group\":null,\"ticker\":null},\"id\":\"1095\",\"type\":\"Grid\"},{\"attributes\":{},\"id\":\"1085\",\"type\":\"CategoricalScale\"},{\"attributes\":{\"factors\":[\"CA\",\"FL\",\"OR\",\"MN\",\"NY\",\"TX\",\"VA\",\"PA\",\"NC\",\"UT\"]},\"id\":\"1081\",\"type\":\"FactorRange\"},{\"attributes\":{},\"id\":\"1090\",\"type\":\"CategoricalTicker\"},{\"attributes\":{},\"id\":\"1115\",\"type\":\"AllLabels\"},{\"attributes\":{},\"id\":\"1118\",\"type\":\"AllLabels\"},{\"attributes\":{},\"id\":\"1093\",\"type\":\"BasicTicker\"},{\"attributes\":{\"fill_color\":{\"value\":\"grey\"},\"hatch_color\":{\"value\":\"grey\"},\"line_color\":{\"value\":\"grey\"},\"top\":{\"field\":\"top\"},\"width\":{\"value\":0.5},\"x\":{\"field\":\"x\"}},\"id\":\"1100\",\"type\":\"VBar\"},{\"attributes\":{\"data\":{\"top\":[324405,106991,67302,44914,44033,42027,37035,35162,31786,25289,25248,23121,20873,19337,19310,19268,16743,16129,16080,14146,12523,12456,10520,9258,7718,7281,4497,4155,3947,3746,3496,3239,2999,2926,2882,2554,2320,2140,1955,1597,1572,1514,1313,1074,909,401,253,238,200],\"x\":[\"CA\",\"FL\",\"OR\",\"MN\",\"NY\",\"TX\",\"VA\",\"PA\",\"NC\",\"UT\",\"IL\",\"SC\",\"MD\",\"NJ\",\"AZ\",\"MI\",\"GA\",\"TN\",\"LA\",\"CO\",\"WA\",\"OH\",\"CT\",\"MO\",\"IN\",\"AL\",\"WI\",\"MA\",\"OK\",\"AR\",\"IA\",\"KY\",\"MT\",\"ID\",\"DC\",\"KS\",\"NH\",\"RI\",\"WV\",\"MS\",\"DE\",\"NE\",\"ME\",\"NV\",\"NM\",\"ND\",\"VT\",\"WY\",\"SD\"]},\"selected\":{\"id\":\"1120\"},\"selection_policy\":{\"id\":\"1119\"}},\"id\":\"1099\",\"type\":\"ColumnDataSource\"},{\"attributes\":{},\"id\":\"1119\",\"type\":\"UnionRenderers\"},{\"attributes\":{\"source\":{\"id\":\"1099\"}},\"id\":\"1104\",\"type\":\"CDSView\"},{\"attributes\":{\"coordinates\":null,\"data_source\":{\"id\":\"1099\"},\"glyph\":{\"id\":\"1100\"},\"group\":null,\"hover_glyph\":null,\"muted_glyph\":{\"id\":\"1102\"},\"nonselection_glyph\":{\"id\":\"1101\"},\"view\":{\"id\":\"1104\"}},\"id\":\"1103\",\"type\":\"GlyphRenderer\"},{\"attributes\":{},\"id\":\"1097\",\"type\":\"NumeralTickFormatter\"},{\"attributes\":{},\"id\":\"1096\",\"type\":\"Toolbar\"},{\"attributes\":{\"axis\":{\"id\":\"1089\"},\"coordinates\":null,\"grid_line_color\":null,\"group\":null,\"ticker\":null},\"id\":\"1091\",\"type\":\"Grid\"},{\"attributes\":{},\"id\":\"1087\",\"type\":\"LinearScale\"},{\"attributes\":{\"fill_alpha\":{\"value\":0.2},\"fill_color\":{\"value\":\"grey\"},\"hatch_alpha\":{\"value\":0.2},\"hatch_color\":{\"value\":\"grey\"},\"line_alpha\":{\"value\":0.2},\"line_color\":{\"value\":\"grey\"},\"top\":{\"field\":\"top\"},\"width\":{\"value\":0.5},\"x\":{\"field\":\"x\"}},\"id\":\"1102\",\"type\":\"VBar\"},{\"attributes\":{\"start\":0},\"id\":\"1083\",\"type\":\"DataRange1d\"},{\"attributes\":{\"coordinates\":null,\"group\":null,\"text\":\"Top States have Number of Accident\",\"text_color\":\"#5B5B5B\",\"text_font\":\"Calibri Light\",\"text_font_size\":\"1.25em\",\"text_font_style\":\"bold\"},\"id\":\"1079\",\"type\":\"Title\"},{\"attributes\":{},\"id\":\"1117\",\"type\":\"CategoricalTickFormatter\"},{\"attributes\":{\"axis_label_standoff\":10,\"axis_label_text_color\":\"#5B5B5B\",\"axis_label_text_font\":\"Calibri Light\",\"axis_label_text_font_size\":\"1.15em\",\"axis_label_text_font_style\":\"bold\",\"axis_line_alpha\":1,\"axis_line_color\":\"#5B5B5B\",\"coordinates\":null,\"formatter\":{\"id\":\"1117\"},\"group\":null,\"major_label_policy\":{\"id\":\"1118\"},\"major_label_text_color\":\"#5B5B5B\",\"major_label_text_font\":\"Calibri Light\",\"major_label_text_font_size\":\"0.95em\",\"major_label_text_font_style\":\"bold\",\"major_tick_in\":0,\"major_tick_line_alpha\":0.25,\"major_tick_line_color\":\"#5B5B5B\",\"major_tick_out\":3,\"minor_tick_line_alpha\":0.25,\"minor_tick_line_color\":\"#5B5B5B\",\"ticker\":{\"id\":\"1090\"}},\"id\":\"1089\",\"type\":\"CategoricalAxis\"},{\"attributes\":{\"fill_alpha\":{\"value\":0.1},\"fill_color\":{\"value\":\"grey\"},\"hatch_alpha\":{\"value\":0.1},\"hatch_color\":{\"value\":\"grey\"},\"line_alpha\":{\"value\":0.1},\"line_color\":{\"value\":\"grey\"},\"top\":{\"field\":\"top\"},\"width\":{\"value\":0.5},\"x\":{\"field\":\"x\"}},\"id\":\"1101\",\"type\":\"VBar\"},{\"attributes\":{},\"id\":\"1120\",\"type\":\"Selection\"}],\"root_ids\":[\"1078\"]},\"title\":\"Bokeh Application\",\"version\":\"2.4.1\"}};\n",
       "  const render_items = [{\"docid\":\"16c70bcd-9ab0-4b0e-92c5-6361a651bf5c\",\"root_ids\":[\"1078\"],\"roots\":{\"1078\":\"b1629eef-8e0a-43de-881b-b0ba62a4ade2\"}}];\n",
       "  root.Bokeh.embed.embed_items_notebook(docs_json, render_items);\n",
       "\n",
       "  }\n",
       "  if (root.Bokeh !== undefined) {\n",
       "    embed_document(root);\n",
       "  } else {\n",
       "    let attempts = 0;\n",
       "    const timer = setInterval(function(root) {\n",
       "      if (root.Bokeh !== undefined) {\n",
       "        clearInterval(timer);\n",
       "        embed_document(root);\n",
       "      } else {\n",
       "        attempts++;\n",
       "        if (attempts > 100) {\n",
       "          clearInterval(timer);\n",
       "          console.log(\"Bokeh: ERROR: Unable to run BokehJS code because BokehJS library is missing\");\n",
       "        }\n",
       "      }\n",
       "    }, 10, root)\n",
       "  }\n",
       "})(window);"
      ],
      "application/vnd.bokehjs_exec.v0+json": ""
     },
     "metadata": {
      "application/vnd.bokehjs_exec.v0+json": {
       "id": "1078"
      }
     },
     "output_type": "display_data"
    }
   ],
   "source": [
    "\n",
    "x = state.State\n",
    "y = state['#Accident']\n",
    "\n",
    "curdoc().theme = 'caliber'\n",
    "\n",
    "p = figure(x_range=x[:10],width=800, height=500, title=\"Top States have Number of Accident\" \n",
    "           ,toolbar_location=None, tools=\"\")\n",
    "p.yaxis.formatter = NumeralTickFormatter(format=\"0,0\")\n",
    "p.vbar(x=x, top=y, width=.5, color=\"grey\")\n",
    "\n",
    "p.xgrid.grid_line_color = None\n",
    "p.y_range.start = 0\n",
    "\n",
    "show(p)"
   ]
  },
  {
   "cell_type": "code",
   "execution_count": 16,
   "id": "fa500fb5",
   "metadata": {},
   "outputs": [
    {
     "data": {
      "text/plain": [
       "1671"
      ]
     },
     "execution_count": 16,
     "metadata": {},
     "output_type": "execute_result"
    }
   ],
   "source": [
    "# Number of County \n",
    "county = df.County.unique()\n",
    "len(county)"
   ]
  },
  {
   "cell_type": "code",
   "execution_count": 17,
   "id": "0b76fb8e",
   "metadata": {},
   "outputs": [],
   "source": [
    "# What are the unique 'County' of US where accidents have taken place?\n",
    "county = accident_df['County'].value_counts()\n",
    "#county.head(10)"
   ]
  },
  {
   "cell_type": "code",
   "execution_count": 18,
   "id": "c9b0921e",
   "metadata": {},
   "outputs": [],
   "source": [
    "county = accident_df['County'].unique()\n",
    "county = pd.DataFrame()\n",
    "\n",
    "county = accident_df.groupby(['County']).count().sort_values(by = \"ID\" , ascending= False).iloc[:,[0]]\n",
    "county = county.reset_index()\n",
    "county.rename(columns={'ID': '#Accident'}, inplace=True)\n",
    "# county.head(10)"
   ]
  },
  {
   "cell_type": "code",
   "execution_count": 19,
   "id": "4b9fdb86",
   "metadata": {
    "scrolled": true
   },
   "outputs": [
    {
     "data": {
      "text/html": [
       "\n",
       "\n",
       "\n",
       "\n",
       "\n",
       "\n",
       "  <div class=\"bk-root\" id=\"af27d81c-8315-498b-9e85-98c13d51e966\" data-root-id=\"1161\"></div>\n"
      ]
     },
     "metadata": {},
     "output_type": "display_data"
    },
    {
     "data": {
      "application/javascript": [
       "(function(root) {\n",
       "  function embed_document(root) {\n",
       "    \n",
       "  const docs_json = {\"94627c67-8797-4ead-af90-0080a9053912\":{\"defs\":[],\"roots\":{\"references\":[{\"attributes\":{\"below\":[{\"id\":\"1172\"}],\"center\":[{\"id\":\"1174\"},{\"id\":\"1178\"}],\"height\":500,\"left\":[{\"id\":\"1175\"}],\"renderers\":[{\"id\":\"1186\"}],\"title\":{\"id\":\"1162\"},\"toolbar\":{\"id\":\"1179\"},\"toolbar_location\":null,\"width\":800,\"x_range\":{\"id\":\"1164\"},\"x_scale\":{\"id\":\"1168\"},\"y_range\":{\"id\":\"1166\"},\"y_scale\":{\"id\":\"1170\"}},\"id\":\"1161\",\"subtype\":\"Figure\",\"type\":\"Plot\"},{\"attributes\":{},\"id\":\"1179\",\"type\":\"Toolbar\"},{\"attributes\":{},\"id\":\"1208\",\"type\":\"CategoricalTickFormatter\"},{\"attributes\":{},\"id\":\"1173\",\"type\":\"CategoricalTicker\"},{\"attributes\":{},\"id\":\"1209\",\"type\":\"AllLabels\"},{\"attributes\":{\"axis\":{\"id\":\"1175\"},\"coordinates\":null,\"dimension\":1,\"group\":null,\"ticker\":null},\"id\":\"1178\",\"type\":\"Grid\"},{\"attributes\":{},\"id\":\"1206\",\"type\":\"AllLabels\"},{\"attributes\":{},\"id\":\"1176\",\"type\":\"BasicTicker\"},{\"attributes\":{},\"id\":\"1170\",\"type\":\"LinearScale\"},{\"attributes\":{\"coordinates\":null,\"group\":null,\"text\":\"Top County have Number of Accident\",\"text_color\":\"#5B5B5B\",\"text_font\":\"Calibri Light\",\"text_font_size\":\"1.25em\",\"text_font_style\":\"bold\"},\"id\":\"1162\",\"type\":\"Title\"},{\"attributes\":{},\"id\":\"1210\",\"type\":\"UnionRenderers\"},{\"attributes\":{\"fill_alpha\":{\"value\":0.1},\"fill_color\":{\"value\":\"grey\"},\"hatch_alpha\":{\"value\":0.1},\"hatch_color\":{\"value\":\"grey\"},\"line_alpha\":{\"value\":0.1},\"line_color\":{\"value\":\"grey\"},\"top\":{\"field\":\"top\"},\"width\":{\"value\":0.5},\"x\":{\"field\":\"x\"}},\"id\":\"1184\",\"type\":\"VBar\"},{\"attributes\":{\"coordinates\":null,\"data_source\":{\"id\":\"1182\"},\"glyph\":{\"id\":\"1183\"},\"group\":null,\"hover_glyph\":null,\"muted_glyph\":{\"id\":\"1185\"},\"nonselection_glyph\":{\"id\":\"1184\"},\"view\":{\"id\":\"1187\"}},\"id\":\"1186\",\"type\":\"GlyphRenderer\"},{\"attributes\":{},\"id\":\"1180\",\"type\":\"NumeralTickFormatter\"},{\"attributes\":{\"source\":{\"id\":\"1182\"}},\"id\":\"1187\",\"type\":\"CDSView\"},{\"attributes\":{},\"id\":\"1211\",\"type\":\"Selection\"},{\"attributes\":{},\"id\":\"1168\",\"type\":\"CategoricalScale\"},{\"attributes\":{\"fill_color\":{\"value\":\"grey\"},\"hatch_color\":{\"value\":\"grey\"},\"line_color\":{\"value\":\"grey\"},\"top\":{\"field\":\"top\"},\"width\":{\"value\":0.5},\"x\":{\"field\":\"x\"}},\"id\":\"1183\",\"type\":\"VBar\"},{\"attributes\":{\"axis_label_standoff\":10,\"axis_label_text_color\":\"#5B5B5B\",\"axis_label_text_font\":\"Calibri Light\",\"axis_label_text_font_size\":\"1.15em\",\"axis_label_text_font_style\":\"bold\",\"axis_line_alpha\":1,\"axis_line_color\":\"#5B5B5B\",\"coordinates\":null,\"formatter\":{\"id\":\"1208\"},\"group\":null,\"major_label_policy\":{\"id\":\"1209\"},\"major_label_text_color\":\"#5B5B5B\",\"major_label_text_font\":\"Calibri Light\",\"major_label_text_font_size\":\"0.95em\",\"major_label_text_font_style\":\"bold\",\"major_tick_in\":0,\"major_tick_line_alpha\":0.25,\"major_tick_line_color\":\"#5B5B5B\",\"major_tick_out\":3,\"minor_tick_line_alpha\":0.25,\"minor_tick_line_color\":\"#5B5B5B\",\"ticker\":{\"id\":\"1173\"}},\"id\":\"1172\",\"type\":\"CategoricalAxis\"},{\"attributes\":{\"axis_label_standoff\":10,\"axis_label_text_color\":\"#5B5B5B\",\"axis_label_text_font\":\"Calibri Light\",\"axis_label_text_font_size\":\"1.15em\",\"axis_label_text_font_style\":\"bold\",\"axis_line_alpha\":1,\"axis_line_color\":\"#5B5B5B\",\"coordinates\":null,\"formatter\":{\"id\":\"1180\"},\"group\":null,\"major_label_policy\":{\"id\":\"1206\"},\"major_label_text_color\":\"#5B5B5B\",\"major_label_text_font\":\"Calibri Light\",\"major_label_text_font_size\":\"0.95em\",\"major_label_text_font_style\":\"bold\",\"major_tick_in\":0,\"major_tick_line_alpha\":0.25,\"major_tick_line_color\":\"#5B5B5B\",\"major_tick_out\":3,\"minor_tick_line_alpha\":0.25,\"minor_tick_line_color\":\"#5B5B5B\",\"ticker\":{\"id\":\"1176\"}},\"id\":\"1175\",\"type\":\"LinearAxis\"},{\"attributes\":{\"data\":{\"top\":[94245,35797,34378,22705,20890,18652,17703,16422,16161,13341,12768,12280,12232,11948,11128,11032,10697,10662,10059,9905,9218,9058,8605,8561,8045,7318,7309,7287,7248,7228,6593,6586,6482,6431,6327,6272,6109,5960,5948,5815,5471,5368,5106,5025,4858,4813,4802,4747,4233,4194,4166,4046,4029,3963,3934,3920,3910,3872,3848,3718,3673,3670,3588,3564,3504,3462,3458,3394,3379,3358,3345,3282,3219,3148,3125,3115,3093,3060,3052,3009,3001,2986,2936,2936,2910,2885,2857,2830,2818,2814,2758,2747,2692,2678,2650,2632,2600,2553,2546,2537,2515,2512,2504,2502,2451,2415,2395,2390,2378,2300,2282,2264,2219,2187,2184,2151,2069,2050,2036,1991,1986,1950,1945,1935,1930,1923,1894,1877,1876,1876,1864,1859,1845,1796,1736,1716,1682,1682,1677,1645,1644,1609,1605,1549,1548,1534,1521,1510,1503,1489,1466,1442,1439,1431,1412,1402,1379,1366,1361,1341,1328,1321,1317,1313,1306,1260,1251,1234,1187,1175,1165,1159,1148,1145,1133,1098,1088,1078,1074,1072,1071,1065,1064,1044,1039,1035,1032,1000,953,950,947,940,936,930,921,919,905,880,877,871,858,856,851,848,847,847,843,834,829,828,809,788,785,780,776,770,770,767,764,761,760,758,758,756,753,752,745,734,718,718,709,705,701,684,681,676,669,663,654,653,653,642,642,640,631,629,622,610,609,606,595,589,589,586,585,578,570,568,564,564,564,561,560,560,558,556,554,554,551,549,548,547,542,533,528,526,526,525,515,515,514,514,513,512,508,504,499,498,487,484,480,479,477,474,464,464,462,461,456,453,451,449,448,448,441,435,435,429,429,423,420,414,409,402,402,400,398,397,395,395,393,392,392,389,388,387,381,376,374,372,371,369,368,365,365,365,360,360,359,358,353,351,351,347,346,344,342,340,333,333,331,327,324,323,323,323,322,320,315,311,309,307,304,302,301,301,297,295,294,294,293,290,289,289,288,286,285,285,284,282,279,278,275,269,269,269,266,266,266,265,264,263,262,261,260,258,258,258,256,252,246,244,244,242,240,239,237,236,236,236,234,234,233,231,231,231,231,230,229,228,225,224,224,223,222,221,219,219,218,216,216,215,212,212,210,209,209,208,208,208,206,205,205,205,205,203,201,201,200,197,195,191,191,190,186,185,183,183,183,182,181,180,179,179,179,179,179,179,177,177,176,173,173,172,171,170,167,167,166,166,163,163,161,159,159,158,158,158,157,156,156,155,154,153,153,152,150,150,148,147,145,145,145,144,144,144,143,143,142,140,140,140,139,138,138,136,134,134,133,131,130,129,128,128,128,127,126,126,125,125,125,125,125,125,125,123,123,122,122,122,120,120,120,119,118,118,117,116,116,116,116,114,114,114,114,113,112,112,111,110,110,110,109,109,108,108,108,108,107,107,107,107,107,106,106,106,105,105,103,102,101,101,101,101,100,100,99,98,97,96,95,95,95,95,95,95,94,94,93,93,93,93,92,92,91,90,90,90,90,90,89,88,88,88,88,88,88,87,87,87,86,86,86,86,86,85,84,84,83,83,82,82,82,81,81,80,80,79,78,78,78,78,77,77,77,75,75,75,75,74,73,73,72,72,72,72,72,71,71,71,70,70,70,70,70,70,68,68,67,67,67,66,66,65,64,64,63,63,63,63,62,62,62,62,62,61,61,61,61,61,61,60,60,60,59,59,58,57,57,57,56,56,56,56,56,56,56,56,55,55,55,55,54,54,53,53,53,53,53,53,52,52,52,51,51,51,51,50,50,49,49,49,49,49,48,48,48,48,48,47,47,47,47,46,46,46,46,46,46,46,45,45,45,45,45,45,45,45,44,44,44,44,44,43,42,42,42,42,41,41,41,41,41,41,41,41,41,41,41,41,41,40,40,40,40,40,39,39,39,39,38,38,38,38,38,38,37,37,37,37,37,37,36,36,36,36,36,36,36,36,36,35,35,35,35,35,35,34,34,34,34,34,34,34,33,33,33,33,33,33,32,32,32,32,32,32,31,31,31,31,31,31,31,31,30,30,30,30,30,30,29,29,29,29,29,29,29,29,29,29,29,29,28,28,28,28,28,28,28,28,28,28,27,27,27,27,27,27,27,27,27,26,26,26,26,26,25,25,25,25,25,25,25,25,25,24,24,24,24,24,24,24,24,24,24,23,23,23,23,23,23,23,23,23,23,23,23,22,22,22,22,22,22,22,22,22,22,22,22,21,21,21,21,21,21,21,21,21,21,21,20,20,20,20,20,20,20,20,20,20,20,20,19,19,19,19,19,19,19,19,19,19,19,19,19,18,18,18,18,18,18,18,18,18,18,18,17,17,17,17,17,17,17,17,17,17,17,17,17,17,17,17,17,17,17,17,16,16,16,16,16,16,16,16,16,16,16,16,16,16,16,15,15,15,15,15,15,15,15,15,15,15,15,15,15,14,14,14,14,14,14,14,14,14,14,14,14,14,14,14,14,14,14,14,14,13,13,13,13,13,13,13,13,13,13,13,13,13,13,13,13,12,12,12,12,12,12,12,12,12,12,12,12,12,11,11,11,11,11,11,11,11,11,11,11,11,11,11,11,11,11,11,11,11,11,11,11,10,10,10,10,10,10,10,10,10,10,10,10,10,10,10,10,9,9,9,9,9,9,9,9,9,9,9,9,9,9,9,9,9,9,9,9,9,9,9,8,8,8,8,8,8,8,8,8,8,8,8,8,8,8,8,8,8,8,8,8,8,8,8,8,8,8,8,8,8,8,8,7,7,7,7,7,7,7,7,7,7,7,7,7,7,7,7,7,7,7,7,7,7,7,7,7,7,7,7,7,7,7,7,7,7,7,7,6,6,6,6,6,6,6,6,6,6,6,6,6,6,6,6,6,6,6,6,6,6,6,6,6,6,6,6,6,6,6,6,6,6,6,6,6,6,6,6,6,5,5,5,5,5,5,5,5,5,5,5,5,5,5,5,5,5,5,5,5,5,5,5,5,5,5,5,5,5,5,5,5,5,5,5,5,5,5,5,5,5,5,5,5,5,5,5,5,4,4,4,4,4,4,4,4,4,4,4,4,4,4,4,4,4,4,4,4,4,4,4,4,4,4,4,4,4,4,4,4,4,4,3,3,3,3,3,3,3,3,3,3,3,3,3,3,3,3,3,3,3,3,3,3,3,3,3,3,3,3,3,3,3,3,3,3,3,3,3,3,3,3,3,3,3,3,3,3,3,3,3,3,3,3,3,3,3,3,3,3,3,3,3,3,2,2,2,2,2,2,2,2,2,2,2,2,2,2,2,2,2,2,2,2,2,2,2,2,2,2,2,2,2,2,2,2,2,2,2,2,2,2,2,2,2,2,2,2,2,2,2,2,2,2,2,2,2,2,2,2,2,2,2,2,2,2,2,2,2,2,2,2,2,2,1,1,1,1,1,1,1,1,1,1,1,1,1,1,1,1,1,1,1,1,1,1,1,1,1,1,1,1,1,1,1,1,1,1,1,1,1,1,1,1,1,1,1,1,1,1,1,1,1,1,1,1,1,1,1,1,1,1,1,1,1,1,1,1,1,1,1,1,1,1,1,1,1,1,1,1,1,1,1,1,1,1,1,1,1,1,1,1,1,1,1,1,1,1,1,1,1,1,1,1,1,1,1],\"x\":[\"Los Angeles\",\"Miami-Dade\",\"Orange\",\"San Bernardino\",\"Sacramento\",\"Riverside\",\"San Diego\",\"Montgomery\",\"Alameda\",\"Dallas\",\"Hennepin\",\"Cook\",\"Mecklenburg\",\"Salt Lake\",\"Harris\",\"Maricopa\",\"Multnomah\",\"Wake\",\"Lake\",\"Santa Clara\",\"Marion\",\"Kern\",\"Davidson\",\"Contra Costa\",\"Jackson\",\"San Joaquin\",\"Broward\",\"Jefferson\",\"Fresno\",\"Washington\",\"Monroe\",\"Hillsborough\",\"Douglas\",\"East Baton Rouge\",\"Fairfax County\",\"Pima\",\"King\",\"Ramsey\",\"Hamilton\",\"Travis\",\"Orleans\",\"Wayne\",\"Fulton\",\"San Mateo\",\"Prince George's\",\"Queens\",\"Duval\",\"Lane\",\"Ventura\",\"Pinellas\",\"Westchester\",\"Greenville\",\"Stanislaus\",\"Palm Beach\",\"Bronx\",\"York\",\"Sonoma\",\"Clackamas\",\"Richmond City\",\"Monterey\",\"El Paso\",\"Kent\",\"Henrico\",\"Solano\",\"Union\",\"Lancaster\",\"Suffolk\",\"Placer\",\"Middlesex\",\"Hartford\",\"Nassau\",\"Fairfield\",\"Denver\",\"Philadelphia\",\"DuPage\",\"Essex\",\"Genesee\",\"Dakota\",\"Lee\",\"San Francisco\",\"Manatee\",\"Tarrant\",\"Tulare\",\"Linn\",\"Klamath\",\"Santa Cruz\",\"DeKalb\",\"Umatilla\",\"District of Columbia\",\"Franklin\",\"Chester\",\"Polk\",\"Escambia\",\"Deschutes\",\"Kings\",\"Utah\",\"Santa Barbara\",\"Bergen\",\"Richland\",\"Spartanburg\",\"Sarasota\",\"Chesterfield\",\"Adams\",\"Bexar\",\"New Haven\",\"Merced\",\"Oklahoma\",\"New York\",\"Prince William\",\"Davis\",\"Caddo\",\"Onondaga\",\"Frederick\",\"Allegheny\",\"Pasco\",\"Marin\",\"Weber\",\"Anne Arundel\",\"Madera\",\"Josephine\",\"Oakland\",\"Erie\",\"St. Louis County\",\"San Luis Obispo\",\"El Dorado\",\"Baltimore County\",\"Johnson\",\"Shelby\",\"Camden\",\"Pulaski\",\"Norfolk\",\"Pierce\",\"Yolo\",\"Columbia\",\"Cuyahoga\",\"Providence\",\"Lincoln\",\"Anoka\",\"Horry\",\"Brevard\",\"Osceola\",\"Leon\",\"Cumberland\",\"Albany\",\"Milwaukee\",\"Baker\",\"Mendocino\",\"Yamhill\",\"Lexington\",\"Snohomish\",\"Anderson\",\"Malheur\",\"Wasco\",\"Greene\",\"Shasta\",\"Nevada\",\"Madison\",\"Delaware\",\"Hudson\",\"Cobb\",\"Napa\",\"Clatsop\",\"Humboldt\",\"Florence\",\"Clay\",\"Butte\",\"New Castle\",\"Seminole\",\"Tillamook\",\"Mercer\",\"Harford\",\"Burlington\",\"St. Louis\",\"Coos\",\"Arlington\",\"Tulsa\",\"Arapahoe\",\"Macomb\",\"Rockland\",\"Oneida\",\"Yuba\",\"Guilford\",\"Howard\",\"Ada\",\"Forsyth\",\"Santa Rosa\",\"Scott\",\"Stearns\",\"Richmond\",\"Tooele\",\"Grant\",\"Dutchess\",\"Rockingham\",\"Putnam\",\"Saratoga\",\"Clark\",\"Tuscaloosa\",\"Stafford\",\"Benton\",\"Passaic\",\"Chisago\",\"Dupage\",\"Summit\",\"Virginia Beach\",\"Clayton\",\"Monmouth\",\"Wright\",\"Smith\",\"Chesapeake\",\"Siskiyou\",\"Loudoun\",\"Gwinnett\",\"Bucks\",\"Gloucester\",\"Warren\",\"Box Elder\",\"Buncombe\",\"Sumter\",\"Morris\",\"Rice\",\"Olmsted\",\"St. Charles\",\"Westmoreland\",\"Dauphin\",\"Carroll\",\"Mobile\",\"Kane\",\"Tehama\",\"Ocean\",\"Somerset\",\"Martin\",\"Berkeley\",\"Volusia\",\"Tuolumne\",\"Hood River\",\"Berks\",\"Will\",\"Henry\",\"Cass\",\"Wyandotte\",\"Kanawha\",\"Worcester\",\"Augusta\",\"Alachua\",\"San Benito\",\"Steele\",\"Iron\",\"Blue Earth\",\"Lycoming\",\"Goodhue\",\"St. Louis City\",\"Washtenaw\",\"Washoe\",\"Hanover\",\"Bay\",\"Pine\",\"Curry\",\"Weld\",\"Lehigh\",\"Williamson\",\"Morgan\",\"Ottawa\",\"Freeborn\",\"Aiken\",\"Calaveras\",\"Albemarle\",\"Dorchester\",\"St. Lucie\",\"Durham\",\"Okaloosa\",\"Alexandria\",\"Centre\",\"Orangeburg\",\"Larimer\",\"Knox\",\"Denton\",\"Merrimack\",\"Sutter\",\"Lassen\",\"Rensselaer\",\"Amador\",\"Chatham\",\"New London\",\"Yavapai\",\"Clearfield\",\"Morrow\",\"Kenton\",\"Collin\",\"Fayette\",\"Boone\",\"Sherman\",\"Winona\",\"Lucas\",\"Hinds\",\"St. Johns\",\"Carver\",\"Carbon\",\"Newport News\",\"Charleston\",\"Gilliam\",\"Dane\",\"Harney\",\"Livingston\",\"Ingham\",\"Pickens\",\"Spotsylvania\",\"Fauquier\",\"Wichita\",\"Caroline\",\"Northampton\",\"Nicollet\",\"Sevier\",\"Johnston\",\"Colusa\",\"Atlantic\",\"Del Norte\",\"Walton\",\"Crook\",\"Canyon\",\"Jasper\",\"Bernalillo\",\"Cecil\",\"Blair\",\"Carlton\",\"Flathead\",\"Botetourt\",\"Schenectady\",\"Mono\",\"Cambria\",\"Garfield\",\"Bristol\",\"Oconee\",\"Queen Anne's\",\"Collier\",\"Shenandoah\",\"Rockbridge\",\"Clinton\",\"Yellowstone\",\"Pueblo\",\"Kershaw\",\"St. Clair\",\"Hampton\",\"Northumberland\",\"Crow Wing\",\"Waukesha\",\"Calhoun\",\"Ulster\",\"Glenn\",\"Spokane\",\"Laurens\",\"Coconino\",\"Pinal\",\"Beaver\",\"Gallatin\",\"Lebanon\",\"Lyon\",\"Plumas\",\"Juab\",\"Hernando\",\"Millard\",\"Sarpy\",\"Wallowa\",\"Darlington\",\"Cherokee\",\"Kandiyohi\",\"Charlotte\",\"Mariposa\",\"Whatcom\",\"McLeod\",\"Thurston\",\"Iredell\",\"New Kent\",\"Charles\",\"Sherburne\",\"Roanoke County\",\"Itasca\",\"Missoula\",\"Mille Lacs\",\"Eaton\",\"Beaufort\",\"Bedford\",\"Platte\",\"Allen\",\"Broome\",\"Inyo\",\"Colleton\",\"Berrien\",\"Clear Creek\",\"Houston\",\"Sussex\",\"Wythe\",\"Nobles\",\"Park\",\"Rutherford\",\"Otter Tail\",\"Baldwin\",\"Haywood\",\"Kalamazoo\",\"Macon-Bibb County\",\"Emery\",\"Mohave\",\"Goochland\",\"Tolland\",\"Cabarrus\",\"Skagit\",\"Pottawattamie\",\"Kitsap\",\"Wood\",\"West Baton Rouge\",\"Henderson\",\"Wheeler\",\"Fredericksburg\",\"Luzerne\",\"Cleveland\",\"Eagle\",\"Baltimore City\",\"Grand\",\"Gadsden\",\"Highlands\",\"Todd\",\"Brown\",\"Beltrami\",\"Litchfield\",\"Gaston\",\"Chilton\",\"Greenwood\",\"Flagler\",\"Kootenai\",\"Sedgwick\",\"Limestone\",\"Dodge\",\"Ontario\",\"DeSoto\",\"Brunswick\",\"Campbell\",\"Mower\",\"Sanpete\",\"Le Sueur\",\"Saline\",\"Newton\",\"Lawrence\",\"Morrison\",\"Blount\",\"Windham\",\"Chautauqua\",\"Hancock\",\"Allegan\",\"Trinity\",\"Hunterdon\",\"Lewis and Clark\",\"Saginaw\",\"Tioga\",\"Coweta\",\"Butler\",\"Cabell\",\"Lewis\",\"Winnebago\",\"Talbot\",\"Hendricks\",\"Meeker\",\"Sibley\",\"Becker\",\"Faribault\",\"Rockdale\",\"Aitkin\",\"Plymouth\",\"Lorain\",\"Mifflin\",\"Louisa\",\"Isanti\",\"Pike\",\"Citrus\",\"Wilson\",\"Dinwiddie\",\"Harrison\",\"Rock\",\"Sullivan\",\"Boulder\",\"Niagara\",\"Stark\",\"Renville\",\"Floyd\",\"Modoc\",\"Fort Bend\",\"Gila\",\"Strafford\",\"Duchesne\",\"Ascension\",\"Perry\",\"Mason\",\"Snyder\",\"Randolph\",\"Alamance\",\"Rankin\",\"Clarendon\",\"Hubbard\",\"Chippewa\",\"Indian River\",\"Hampden\",\"Rowan\",\"Hays\",\"Crawford\",\"Isle of Wight\",\"Huntingdon\",\"Suwannee\",\"Dillon\",\"St. Joseph\",\"Racine\",\"Penobscot\",\"Lowndes\",\"Crittenden\",\"Ravalli\",\"Fairfax\",\"Fillmore\",\"San Juan\",\"Van Buren\",\"Elmore\",\"McKean\",\"Harnett\",\"Rockwall\",\"Allegany\",\"Cottonwood\",\"Robertson\",\"Elk\",\"Cayuga\",\"Surry\",\"Mineral\",\"Broomfield\",\"Minnehaha\",\"Lackawanna\",\"James City\",\"Uintah\",\"Kenosha\",\"Canadian\",\"Lonoke\",\"Salem\",\"Juniata\",\"Kennebec\",\"Alpine\",\"Cascade\",\"Bannock\",\"Franklin County\",\"Cowlitz\",\"Portage\",\"Harrisonburg\",\"Lafayette\",\"Muscogee\",\"Bonneville\",\"Navajo\",\"Jerome\",\"Apache\",\"Outagamie\",\"Culpeper\",\"Hall\",\"Burke\",\"Marlboro\",\"Bibb\",\"Geauga\",\"Galveston\",\"Redwood\",\"Fremont\",\"Bartow\",\"Levy\",\"Forrest\",\"Spalding\",\"Cullman\",\"Wabasha\",\"Brazoria\",\"Belknap\",\"Wakulla\",\"Schuylkill\",\"Catawba\",\"Pacific\",\"Colonial Heights\",\"Clarke\",\"Ellis\",\"Lamar\",\"Davie\",\"Herkimer\",\"Nash\",\"Waseca\",\"Medina\",\"Montour\",\"Las Animas\",\"Adair\",\"Mesa\",\"Grafton\",\"Pender\",\"Halifax\",\"McHenry\",\"Ohio\",\"Porter\",\"Pope\",\"Tangipahoa\",\"Stillwater\",\"Troup\",\"Grays Harbor\",\"New Hanover\",\"Prince Georges\",\"Oswego\",\"Cape May\",\"Clarion\",\"St. Tammany\",\"Garrett\",\"Holmes\",\"Comal\",\"Hardee\",\"Island\",\"Cassia\",\"Bingham\",\"Alleghany\",\"Marshall\",\"Sumner\",\"Woodbury\",\"Roane\",\"Walworth\",\"Murray\",\"Sierra\",\"St. Martin\",\"Roanoke City\",\"Granville\",\"Peach\",\"Cedar\",\"St. John the Baptist\",\"Cibola\",\"Yellow Medicine\",\"Butts\",\"Bossier\",\"Story\",\"Mahoning\",\"Monongalia\",\"Raleigh\",\"Guadalupe\",\"Kaufman\",\"Silver Bow\",\"La Paz\",\"Abbeville\",\"McDowell\",\"Kanabec\",\"Wicomico\",\"King George\",\"Trumbull\",\"White\",\"Portsmouth\",\"Midland\",\"Liberty\",\"Pitt\",\"Walker\",\"Seneca\",\"Chaffee\",\"Wadena\",\"Bedford County\",\"Elkhart\",\"St. Francis\",\"Iowa\",\"Susquehanna\",\"Shoshone\",\"Macon\",\"Bradford\",\"Muskegon\",\"Dawson\",\"Autauga\",\"Barnstable\",\"Hendry\",\"Calcasieu\",\"Grundy\",\"Payette\",\"Pittsylvania\",\"Craighead\",\"Robeson\",\"Hot Spring\",\"Coffee\",\"Page\",\"Potter\",\"Prince George\",\"District Of Columbia\",\"Sampson\",\"Clermont\",\"Bryan\",\"Smyth\",\"Faulkner\",\"Otsego\",\"Clallam\",\"Vigo\",\"Cache\",\"Elko\",\"Miami\",\"Koochiching\",\"Indiana\",\"Kittitas\",\"Shiawassee\",\"Haralson\",\"Barry\",\"Braxton\",\"Powell\",\"Prairie\",\"Cleburne\",\"Whitfield\",\"Russell\",\"Licking\",\"McKinley\",\"Barrow\",\"Bland\",\"LaPorte\",\"Logan\",\"Swift\",\"Waller\",\"Wilkes\",\"Huerfano\",\"Talladega\",\"St. Croix\",\"Bartholomew\",\"Hickman\",\"Windsor\",\"Cheatham\",\"Bradley\",\"Calvert\",\"Otero\",\"Glynn\",\"Sagadahoc\",\"Amherst\",\"Buchanan\",\"Morton\",\"Bulloch\",\"Tazewell\",\"Parker\",\"Effingham\",\"Meriwether\",\"Ionia\",\"Cochise\",\"Marathon\",\"Vance\",\"Klickitat\",\"Giles\",\"Black Hawk\",\"St. Mary's\",\"Catoosa\",\"Terrebonne\",\"Elbert\",\"Ozaukee\",\"Powhatan\",\"Twin Falls\",\"Gunnison\",\"Sheboygan\",\"Gordon\",\"Amelia\",\"Wapello\",\"Barnwell\",\"Laclede\",\"Chittenden\",\"Shawano\",\"Pickaway\",\"Cocke\",\"Craven\",\"Dickson\",\"Skamania\",\"Eau Claire\",\"Gilchrist\",\"Baltimore\",\"Belmont\",\"Wasatch\",\"Twiggs\",\"Androscoggin\",\"Sweetwater\",\"Accomack\",\"Highland\",\"Santa Fe\",\"Luna\",\"Cortland\",\"Sangamon\",\"Spencer\",\"Mahnomen\",\"Daggett\",\"Caldwell\",\"Carson City\",\"Poweshiek\",\"Nelson\",\"Schoharie\",\"Manassas\",\"Kendall\",\"Greensville\",\"Yuma\",\"Wyoming\",\"Mchenry\",\"Steuben\",\"Iberville\",\"Yadkin\",\"Bamberg\",\"Tompkins\",\"Waynesboro\",\"Newberry\",\"Fond du Lac\",\"Jones\",\"Sanders\",\"Fluvanna\",\"Preble\",\"Tippecanoe\",\"Custer\",\"Cerro Gordo\",\"Conway\",\"Loudon\",\"Waupaca\",\"Fairfax City\",\"Churchill\",\"St. James\",\"Juneau\",\"Gilmer\",\"Imperial\",\"Big Horn\",\"Mississippi\",\"Miller\",\"Treutlen\",\"Power\",\"McMinn\",\"Lenoir\",\"Columbus\",\"La Crosse\",\"Graham\",\"Teller\",\"Whitley\",\"Habersham\",\"Lenawee\",\"Dixie\",\"Stevens\",\"Stokes\",\"McLennan\",\"Sauk\",\"Cattaraugus\",\"Duplin\",\"Pottawatomie\",\"Paulding\",\"Moore\",\"Hidalgo\",\"Garland\",\"Venango\",\"Southampton\",\"Onslow\",\"Okeechobee\",\"Ripley\",\"Cameron\",\"Do\\u00f1a Ana\",\"Lapeer\",\"Teton\",\"Lauderdale\",\"Dekalb\",\"Shawnee\",\"Rosebud\",\"Grand Forks\",\"Sweet Grass\",\"Dunn\",\"Chattooga\",\"Chambers\",\"Humphreys\",\"Christian\",\"Whitman\",\"Aroostook\",\"Cheshire\",\"Edgecombe\",\"Gooding\",\"Bertie\",\"Yell\",\"Rock Island\",\"Buffalo\",\"Bonner\",\"Seward\",\"Laramie\",\"Decatur\",\"Armstrong\",\"Boundary\",\"Stanly\",\"Sandusky\",\"Roseau\",\"Rio Arriba\",\"Muskingum\",\"Idaho\",\"Vanderburgh\",\"Champaign\",\"Taylor\",\"Beaverhead\",\"Hempstead\",\"Gilpin\",\"Berkshire\",\"Poinsett\",\"King William\",\"Trempealeau\",\"Colquitt\",\"Latah\",\"Brooks\",\"Sandoval\",\"Charles City\",\"Piute\",\"Cheyenne\",\"Bladen\",\"Webster\",\"Bullitt\",\"Arkansas\",\"Clearwater\",\"Prowers\",\"LaSalle\",\"McLean\",\"Preston\",\"Allendale\",\"Broadwater\",\"Traill\",\"Manitowoc\",\"Yakima\",\"Rutland\",\"Bleckley\",\"St. Lawrence\",\"Dooly\",\"McIntosh\",\"Barnes\",\"Dearborn\",\"McClain\",\"Noble\",\"Granite\",\"Mahaska\",\"Benewah\",\"Hamblen\",\"Charlottesville\",\"Rio Blanco\",\"Heard\",\"Columbiana\",\"Conecuh\",\"Glades\",\"Saguache\",\"Benzie\",\"Scotland\",\"Marquette\",\"Buckingham\",\"Montezuma\",\"Dale\",\"Grayson\",\"Wise\",\"Hampshire\",\"Valley\",\"Mills\",\"Toole\",\"Prince Edward\",\"Dubuque\",\"Dougherty\",\"Isabella\",\"San Miguel\",\"Lac qui Parle\",\"Iroquois\",\"Marinette\",\"Saint Louis\",\"Person\",\"Hawkins\",\"Delta\",\"Covington\",\"Oxford\",\"Gratiot\",\"Kankakee\",\"Pondera\",\"Darke\",\"Ogle\",\"Callaway\",\"Williams\",\"Hertford\",\"Van Wert\",\"Sebastian\",\"Ashland\",\"Waushara\",\"Wabash\",\"LaGrange\",\"Kit Carson\",\"Rush\",\"Richmond County\",\"Mitchell\",\"Oldham\",\"McDuffie\",\"Staunton\",\"Maury\",\"Blaine\",\"Bullock\",\"Saint Joseph\",\"Burleigh\",\"Bennington\",\"Hardin\",\"Huntington\",\"Hart\",\"Rio Grande\",\"Lunenburg\",\"Kosciusko\",\"Deer Lodge\",\"Mecosta\",\"Emmet\",\"Buena Vista\",\"Ross\",\"Minidoka\",\"Phillips\",\"Phelps\",\"Ouachita\",\"Alexander\",\"Boise\",\"Appomattox\",\"Oconto\",\"Lea\",\"Worth\",\"Pennington\",\"Bell\",\"Watonwan\",\"Vermillion\",\"Vernon\",\"Des Moines\",\"Gibson\",\"Nez Perce\",\"Bath\",\"Ford\",\"Tipton\",\"Copiah\",\"Montrose\",\"Stutsman\",\"Tate\",\"Carter\",\"Kiowa\",\"Ashtabula\",\"Eureka\",\"Colbert\",\"Bear Lake\",\"Chenango\",\"Summers\",\"Chemung\",\"Emanuel\",\"Scioto\",\"Oglethorpe\",\"Fergus\",\"Huron\",\"Clare\",\"Nicholas\",\"Sac\",\"Treasure\",\"Watauga\",\"Dubois\",\"Toombs\",\"Addison\",\"Dickinson\",\"Dade\",\"Fountain\",\"Green\",\"Grand Traverse\",\"Colfax\",\"McCormick\",\"Greenlee\",\"Tallapoosa\",\"Chelan\",\"Simpson\",\"Peoria\",\"Rusk\",\"Pershing\",\"Quay\",\"Routt\",\"Tuscarawas\",\"Bent\",\"Stephens\",\"Hill\",\"Newaygo\",\"Drew\",\"Hunt\",\"Creek\",\"Ward\",\"Nottoway\",\"O'Brien\",\"Arenac\",\"Upson\",\"Cole\",\"Independence\",\"Caswell\",\"De Soto\",\"Osage\",\"Chicot\",\"Ashley\",\"Suffolk City\",\"Jay\",\"Natrona\",\"Turner\",\"Newport\",\"Kidder\",\"Choctaw\",\"Patrick\",\"Monona\",\"Montcalm\",\"Pend Oreille\",\"Socorro\",\"Wharton\",\"Wexford\",\"Branch\",\"Muscatine\",\"Roscommon\",\"Roosevelt\",\"Gulf\",\"Rapides\",\"Transylvania\",\"Alpena\",\"Warrick\",\"Tift\",\"Beadle\",\"Taos\",\"Winneshiek\",\"Do\\ufffda Ana\",\"Brazos\",\"Unicoi\",\"Bond\",\"Saint Clair\",\"Greenbrier\",\"Torrance\",\"Gem\",\"Charlevoix\",\"Auglaize\",\"Hutchinson\",\"Lynchburg\",\"Musselshell\",\"Daviess\",\"Guernsey\",\"Yalobusha\",\"Charlton\",\"Victoria\",\"Queen Annes\",\"Hopewell\",\"Charles Mix\",\"Schoolcraft\",\"Posey\",\"Lander\",\"Cheboygan\",\"Ouray\",\"Pocahontas\",\"Chouteau\",\"Cooper\",\"Meigs\",\"Golden Valley\",\"Hillsdale\",\"Jefferson Davis\",\"Crisp\",\"Eddy\",\"Kimball\",\"Reno\",\"Rappahannock\",\"Panola\",\"Kalkaska\",\"Dickenson\",\"Manassas Park\",\"Stewart\",\"Manistee\",\"Stone\",\"Etowah\",\"Ben Hill\",\"Leavenworth\",\"Acadia\",\"Schuyler\",\"Lake of the Woods\",\"Bastrop\",\"King and Queen\",\"Grainger\",\"Mora\",\"Rogers\",\"Dyer\",\"Parke\",\"Allamakee\",\"Comanche\",\"Wibaux\",\"Ashe\",\"Owyhee\",\"Yazoo\",\"Otoe\",\"Antrim\",\"Woodford\",\"Hocking\",\"La Plata\",\"Plaquemines\",\"Leelanau\",\"Crowley\",\"Taliaferro\",\"Pratt\",\"Sequatchie\",\"McKenzie\",\"Culberson\",\"Iosco\",\"Ogemaw\",\"Bureau\",\"Uinta\",\"Chattahoochee\",\"Wilkinson\",\"Candler\",\"Calumet\",\"Georgetown\",\"Jennings\",\"Deuel\",\"Alexandria City\",\"Jenkins\",\"Waldo\",\"Atascosa\",\"New Madrid\",\"Palo Pinto\",\"Pawnee\",\"Chaves\",\"Gates\",\"Avery\",\"Rich\",\"Geneva\",\"Emporia\",\"Evans\",\"Massac\",\"Sheridan\",\"Pamlico\",\"Forest\",\"Hyde\",\"Pitkin\",\"Grady\",\"Hinsdale\",\"Franklin City\",\"Pendleton\",\"Sharp\",\"Tishomingo\",\"Appanoose\",\"Pearl River\",\"Menominee\",\"Lemhi\",\"Burt\",\"Thomas\",\"Hoke\",\"Coosa\",\"Mckean\",\"Bienville\",\"Langlade\",\"Saluda\",\"Wilkin\",\"Moffat\",\"Navarro\",\"White Pine\",\"Nolan\",\"Wahkiakum\",\"Barron\",\"Austin\",\"Vinton\",\"Norton\",\"Judith Basin\",\"Ringgold\",\"Doddridge\",\"Chickasaw\",\"Green Lake\",\"Ware\",\"Irwin\",\"Bacon\",\"Vilas\",\"Holt\",\"Emmons\",\"Chase\",\"Price\",\"McCracken\",\"Itawamba\",\"Nodaway\",\"Nemaha\",\"George\",\"Asotin\",\"Neshoba\",\"Marengo\",\"Alcona\",\"Rhea\",\"Costilla\",\"Gallia\",\"Claiborne\",\"Bledsoe\",\"Jessamine\",\"Mackinac\",\"Bowie\",\"Hale\",\"Desha\",\"Weakley\",\"Currituck\",\"La Porte\",\"Ector\",\"Ida\",\"Whiteside\",\"Pontotoc\",\"Danville\",\"Barbour\",\"Bayfield\",\"Grand Isle\",\"Winchester\",\"Angelina\",\"Crenshaw\",\"Sargent\",\"Hardy\",\"Caribou\",\"Baraga\",\"Lamoille\",\"Colorado\",\"Okfuskee\",\"Saint Lawrence\",\"Tama\",\"Mingo\",\"Moniteau\",\"Walla Walla\",\"Kossuth\",\"Atkinson\",\"Garvin\",\"Gonzales\",\"LaMoure\",\"Wabaunsee\",\"Yates\",\"Gentry\",\"Wheatland\",\"St. Bernard\",\"Lafourche\",\"Winston\",\"Tattnall\",\"Kay\",\"Lanier\",\"Tunica\",\"Pipestone\",\"St Joseph\",\"Rabun\",\"Breathitt\",\"Cooke\",\"Petroleum\",\"Burnett\",\"Oceana\",\"Converse\",\"Searcy\",\"Defiance\",\"Saint Johns\",\"De Kalb\",\"Owen\",\"Pasquotank\",\"Brantley\",\"Palo Alto\",\"Dickey\",\"Greenup\",\"Mountrail\",\"Mcclain\",\"Vermilion\",\"Hardeman\",\"Lagrange\",\"Wells\",\"Andrew\",\"Glacier\",\"Pettis\",\"West Feliciana\",\"Oktibbeha\",\"Okanogan\",\"Ellsworth\",\"Appling\",\"Iberia\",\"East Feliciana\",\"Trigg\",\"Early\",\"Saint Tammany\",\"Kimble\",\"Tyrrell\",\"Edgefield\",\"Crockett\",\"Kerr\",\"Williamsburg\",\"Davison\",\"Anson\",\"Titus\",\"McCook\",\"Tippah\",\"Virginia Beach City\",\"Laurel\",\"Woodward\",\"Bremer\",\"Wagoner\",\"Covington City\",\"Billings\",\"Nye\",\"Ransom\",\"Ralls\",\"Walsh\",\"Guthrie\",\"Fredericksburg City\",\"Payne\",\"Finney\",\"Luce\",\"Foster\",\"Bottineau\",\"Coahoma\",\"Gasconade\",\"Tucker\",\"Wyandot\",\"Grimes\",\"Sioux\",\"Fannin\",\"Brookings\",\"Sublette\",\"Hot Springs\",\"Obion\",\"Perkins\",\"Coles\",\"Radford\",\"Griggs\",\"Pointe Coupee\",\"Athens\",\"Barren\",\"Chowan\",\"Natchitoches\",\"Dare\",\"Kingsbury\",\"Niobrara\",\"Dallam\",\"Wetzel\",\"Presque Isle\",\"Rockcastle\",\"Isle Of Wight\",\"Randall\",\"Nowata\",\"Saint Charles\",\"Muskogee\",\"Montague\",\"Upshur\",\"Powder River\",\"Jo Daviess\",\"Keith\",\"Dimmit\",\"Archuleta\",\"Pickett\",\"McDonough\",\"Mcleod\",\"Houghton\",\"Gladwin\",\"McPherson\",\"Sequoyah\",\"Cross\",\"Beckham\",\"Switzerland\",\"Swain\",\"Esmeralda\",\"Lewis And Clark\",\"Craig\",\"Slope\",\"Pemiscot\",\"Ste Genevieve\",\"Pecos\",\"Starke\",\"Los Alamos\",\"Furnas\",\"Freestone\",\"Hodgeman\",\"Love\",\"Lumpkin\",\"Box Butte\",\"Amite\",\"Clinch\",\"Crosby\",\"Telfair\",\"Echols\",\"Sawyer\",\"Meagher\",\"Trego\",\"Camas\",\"Goshen\",\"Metcalfe\",\"Menard\",\"Wilcox\",\"Cape Girardeau\",\"Callahan\",\"Harrisonburg City\",\"Oscoda\",\"Piscataquis\",\"Wolfe\",\"Hockley\",\"Alamosa\",\"Young\",\"Cotton\",\"Jeff Davis\",\"Cuming\",\"Alcorn\",\"Pembina\",\"Coryell\",\"Oliver\",\"Nuckolls\",\"Hudspeth\",\"Harlan\",\"Hood\",\"Hopkins\",\"Woods\",\"Perquimans\",\"Piatt\",\"Okmulgee\",\"Harvey\",\"Portsmouth City\",\"Ontonagon\",\"Door\",\"Assumption\",\"Meade\",\"Mathews\",\"McCone\",\"Le Flore\",\"Shannon\",\"Beauregard\",\"Mccormick\",\"Glascock\",\"Gogebic\",\"Erath\",\"Terrell\",\"Thayer\",\"Mellette\",\"Baylor\",\"Menifee\",\"Edwards\",\"Baxter\",\"Martinsville\",\"Benson\",\"Washburn\",\"Ferry\",\"Lynchburg City\",\"Fond Du Lac\",\"Boyd\",\"Macoupin\",\"St. Landry\",\"Bon Homme\",\"Lubbock\",\"Blanco\",\"Maries\",\"Galax\",\"Staunton City\",\"Long\",\"Manassas City\",\"Garza\",\"Geary\",\"Brooke\",\"Labette\",\"Tom Green\",\"Merrick\",\"Ness\",\"Van Zandt\",\"Dickens\",\"Greer\",\"Roanoke\",\"Ritchie\",\"Gregory\",\"Neosho\",\"Cherry\",\"Bates\",\"Reeves\",\"Red River\",\"Walthall\",\"Audubon\",\"De Baca\",\"Dawes\",\"Atchison\",\"Kearney\",\"Banks\",\"Valencia\",\"Dolores\",\"La Salle\",\"San Jacinto\",\"Gove\",\"Trimble\",\"Barton\",\"Milam\",\"Trousdale\",\"Carteret\",\"Eastland\",\"Tuscola\",\"Saint Marys\",\"Saint Louis City\",\"Saint James\",\"Keokuk\",\"Bourbon\",\"St John The Baptist\"]},\"selected\":{\"id\":\"1211\"},\"selection_policy\":{\"id\":\"1210\"}},\"id\":\"1182\",\"type\":\"ColumnDataSource\"},{\"attributes\":{\"factors\":[\"Los Angeles\",\"Miami-Dade\",\"Orange\",\"San Bernardino\",\"Sacramento\",\"Riverside\",\"San Diego\",\"Montgomery\",\"Alameda\",\"Dallas\"]},\"id\":\"1164\",\"type\":\"FactorRange\"},{\"attributes\":{\"start\":0},\"id\":\"1166\",\"type\":\"DataRange1d\"},{\"attributes\":{\"fill_alpha\":{\"value\":0.2},\"fill_color\":{\"value\":\"grey\"},\"hatch_alpha\":{\"value\":0.2},\"hatch_color\":{\"value\":\"grey\"},\"line_alpha\":{\"value\":0.2},\"line_color\":{\"value\":\"grey\"},\"top\":{\"field\":\"top\"},\"width\":{\"value\":0.5},\"x\":{\"field\":\"x\"}},\"id\":\"1185\",\"type\":\"VBar\"},{\"attributes\":{\"axis\":{\"id\":\"1172\"},\"coordinates\":null,\"grid_line_color\":null,\"group\":null,\"ticker\":null},\"id\":\"1174\",\"type\":\"Grid\"}],\"root_ids\":[\"1161\"]},\"title\":\"Bokeh Application\",\"version\":\"2.4.1\"}};\n",
       "  const render_items = [{\"docid\":\"94627c67-8797-4ead-af90-0080a9053912\",\"root_ids\":[\"1161\"],\"roots\":{\"1161\":\"af27d81c-8315-498b-9e85-98c13d51e966\"}}];\n",
       "  root.Bokeh.embed.embed_items_notebook(docs_json, render_items);\n",
       "\n",
       "  }\n",
       "  if (root.Bokeh !== undefined) {\n",
       "    embed_document(root);\n",
       "  } else {\n",
       "    let attempts = 0;\n",
       "    const timer = setInterval(function(root) {\n",
       "      if (root.Bokeh !== undefined) {\n",
       "        clearInterval(timer);\n",
       "        embed_document(root);\n",
       "      } else {\n",
       "        attempts++;\n",
       "        if (attempts > 100) {\n",
       "          clearInterval(timer);\n",
       "          console.log(\"Bokeh: ERROR: Unable to run BokehJS code because BokehJS library is missing\");\n",
       "        }\n",
       "      }\n",
       "    }, 10, root)\n",
       "  }\n",
       "})(window);"
      ],
      "application/vnd.bokehjs_exec.v0+json": ""
     },
     "metadata": {
      "application/vnd.bokehjs_exec.v0+json": {
       "id": "1161"
      }
     },
     "output_type": "display_data"
    }
   ],
   "source": [
    "\n",
    "x = county.County\n",
    "y = county['#Accident']\n",
    "\n",
    "\n",
    "\n",
    "curdoc().theme = 'caliber'\n",
    "\n",
    "\n",
    "p = figure(x_range=x[:10],width=800, height=500, title=\"Top County have Number of Accident\" \n",
    "           ,toolbar_location=None, tools=\"\")\n",
    "\n",
    "p.yaxis.formatter = NumeralTickFormatter(format=\"0,0\")\n",
    "\n",
    "\n",
    "p.vbar(x=x, top=y, width=.5, color=\"grey\")\n",
    "\n",
    "p.xgrid.grid_line_color = None\n",
    "p.y_range.start = 0\n",
    "\n",
    "show(p)"
   ]
  },
  {
   "cell_type": "code",
   "execution_count": 20,
   "id": "9501b6b7",
   "metadata": {},
   "outputs": [
    {
     "data": {
      "text/plain": [
       "9489"
      ]
     },
     "execution_count": 20,
     "metadata": {},
     "output_type": "execute_result"
    }
   ],
   "source": [
    "# Number of city \n",
    "city = accident_df.City.unique()\n",
    "len(city)"
   ]
  },
  {
   "cell_type": "code",
   "execution_count": 21,
   "id": "b6bd7b3a",
   "metadata": {},
   "outputs": [],
   "source": [
    "# What are the unique 'City' of US where accidents have taken place?\n",
    "city = accident_df['City'].value_counts()\n",
    "#city.head(10)"
   ]
  },
  {
   "cell_type": "code",
   "execution_count": 22,
   "id": "def5d57b",
   "metadata": {},
   "outputs": [],
   "source": [
    "city = accident_df['City'].unique()\n",
    "city = pd.DataFrame()\n",
    "\n",
    "city = accident_df.groupby(['City']).count().sort_values(by = \"ID\" , ascending= False).iloc[:,[0]]\n",
    "city = city.reset_index()\n",
    "city.rename(columns={'ID': '#Accident'}, inplace=True)\n",
    "# city.head(10)"
   ]
  },
  {
   "cell_type": "code",
   "execution_count": 24,
   "id": "d8da378c",
   "metadata": {},
   "outputs": [
    {
     "data": {
      "text/html": [
       "\n",
       "\n",
       "\n",
       "\n",
       "\n",
       "\n",
       "  <div class=\"bk-root\" id=\"a09cdf31-68d9-4aa7-a380-2e4351abb3d0\" data-root-id=\"1351\"></div>\n"
      ]
     },
     "metadata": {},
     "output_type": "display_data"
    },
    {
     "data": {
      "application/javascript": [
       "(function(root) {\n",
       "  function embed_document(root) {\n",
       "    \n",
       "  const docs_json = {\"1c60eebd-c595-4306-9486-b069c4838b7d\":{\"defs\":[],\"roots\":{\"references\":[{\"attributes\":{\"below\":[{\"id\":\"1362\"}],\"center\":[{\"id\":\"1364\"},{\"id\":\"1368\"}],\"height\":500,\"left\":[{\"id\":\"1365\"}],\"renderers\":[{\"id\":\"1376\"}],\"title\":{\"id\":\"1352\"},\"toolbar\":{\"id\":\"1369\"},\"toolbar_location\":null,\"width\":800,\"x_range\":{\"id\":\"1354\"},\"x_scale\":{\"id\":\"1358\"},\"y_range\":{\"id\":\"1356\"},\"y_scale\":{\"id\":\"1360\"}},\"id\":\"1351\",\"subtype\":\"Figure\",\"type\":\"Plot\"},{\"attributes\":{},\"id\":\"1416\",\"type\":\"UnionRenderers\"},{\"attributes\":{\"fill_alpha\":{\"value\":0.1},\"fill_color\":{\"value\":\"grey\"},\"hatch_alpha\":{\"value\":0.1},\"hatch_color\":{\"value\":\"grey\"},\"line_alpha\":{\"value\":0.1},\"line_color\":{\"value\":\"grey\"},\"top\":{\"field\":\"top\"},\"width\":{\"value\":0.5},\"x\":{\"field\":\"x\"}},\"id\":\"1374\",\"type\":\"VBar\"},{\"attributes\":{},\"id\":\"1366\",\"type\":\"BasicTicker\"},{\"attributes\":{\"fill_color\":{\"value\":\"grey\"},\"hatch_color\":{\"value\":\"grey\"},\"line_color\":{\"value\":\"grey\"},\"top\":{\"field\":\"top\"},\"width\":{\"value\":0.5},\"x\":{\"field\":\"x\"}},\"id\":\"1373\",\"type\":\"VBar\"},{\"attributes\":{\"fill_alpha\":{\"value\":0.2},\"fill_color\":{\"value\":\"grey\"},\"hatch_alpha\":{\"value\":0.2},\"hatch_color\":{\"value\":\"grey\"},\"line_alpha\":{\"value\":0.2},\"line_color\":{\"value\":\"grey\"},\"top\":{\"field\":\"top\"},\"width\":{\"value\":0.5},\"x\":{\"field\":\"x\"}},\"id\":\"1375\",\"type\":\"VBar\"},{\"attributes\":{},\"id\":\"1363\",\"type\":\"CategoricalTicker\"},{\"attributes\":{\"axis_label_standoff\":10,\"axis_label_text_color\":\"#5B5B5B\",\"axis_label_text_font\":\"Calibri Light\",\"axis_label_text_font_size\":\"1.15em\",\"axis_label_text_font_style\":\"bold\",\"axis_line_alpha\":1,\"axis_line_color\":\"#5B5B5B\",\"coordinates\":null,\"formatter\":{\"id\":\"1414\"},\"group\":null,\"major_label_policy\":{\"id\":\"1415\"},\"major_label_text_color\":\"#5B5B5B\",\"major_label_text_font\":\"Calibri Light\",\"major_label_text_font_size\":\"0.95em\",\"major_label_text_font_style\":\"bold\",\"major_tick_in\":0,\"major_tick_line_alpha\":0.25,\"major_tick_line_color\":\"#5B5B5B\",\"major_tick_out\":3,\"minor_tick_line_alpha\":0.25,\"minor_tick_line_color\":\"#5B5B5B\",\"ticker\":{\"id\":\"1363\"}},\"id\":\"1362\",\"type\":\"CategoricalAxis\"},{\"attributes\":{},\"id\":\"1415\",\"type\":\"AllLabels\"},{\"attributes\":{\"source\":{\"id\":\"1372\"}},\"id\":\"1377\",\"type\":\"CDSView\"},{\"attributes\":{},\"id\":\"1414\",\"type\":\"CategoricalTickFormatter\"},{\"attributes\":{\"coordinates\":null,\"data_source\":{\"id\":\"1372\"},\"glyph\":{\"id\":\"1373\"},\"group\":null,\"hover_glyph\":null,\"muted_glyph\":{\"id\":\"1375\"},\"nonselection_glyph\":{\"id\":\"1374\"},\"view\":{\"id\":\"1377\"}},\"id\":\"1376\",\"type\":\"GlyphRenderer\"},{\"attributes\":{\"start\":0},\"id\":\"1356\",\"type\":\"DataRange1d\"},{\"attributes\":{\"axis\":{\"id\":\"1365\"},\"coordinates\":null,\"dimension\":1,\"group\":null,\"ticker\":null},\"id\":\"1368\",\"type\":\"Grid\"},{\"attributes\":{},\"id\":\"1412\",\"type\":\"AllLabels\"},{\"attributes\":{},\"id\":\"1358\",\"type\":\"CategoricalScale\"},{\"attributes\":{\"axis_label_standoff\":10,\"axis_label_text_color\":\"#5B5B5B\",\"axis_label_text_font\":\"Calibri Light\",\"axis_label_text_font_size\":\"1.15em\",\"axis_label_text_font_style\":\"bold\",\"axis_line_alpha\":1,\"axis_line_color\":\"#5B5B5B\",\"coordinates\":null,\"formatter\":{\"id\":\"1370\"},\"group\":null,\"major_label_policy\":{\"id\":\"1412\"},\"major_label_text_color\":\"#5B5B5B\",\"major_label_text_font\":\"Calibri Light\",\"major_label_text_font_size\":\"0.95em\",\"major_label_text_font_style\":\"bold\",\"major_tick_in\":0,\"major_tick_line_alpha\":0.25,\"major_tick_line_color\":\"#5B5B5B\",\"major_tick_out\":3,\"minor_tick_line_alpha\":0.25,\"minor_tick_line_color\":\"#5B5B5B\",\"ticker\":{\"id\":\"1366\"}},\"id\":\"1365\",\"type\":\"LinearAxis\"},{\"attributes\":{},\"id\":\"1369\",\"type\":\"Toolbar\"},{\"attributes\":{\"data\":{\"top\":[27767,26838,14695,11485,11391,11238,10832,10814,10314,9542,8392,7533,7062,6698,6548,6492,6318,6250,6206,6182,5962,5848,5519,5455,5368,5279,5026,4976,4930,4922,4694,4537,4428,4010,3927,3875,3787,3620,3513,3351,3333,3276,3170,3068,3026,2824,2823,2772,2743,2607,2600,2571,2512,2503,2445,2440,2409,2391,2370,2359,2235,2216,2202,2171,2140,2136,2133,2124,2088,2076,2041,2030,2005,1978,1938,1830,1829,1828,1823,1822,1821,1784,1735,1731,1717,1700,1697,1685,1657,1657,1652,1651,1635,1633,1607,1597,1578,1574,1529,1528,1526,1524,1514,1508,1502,1465,1456,1450,1440,1435,1416,1414,1406,1390,1385,1372,1354,1342,1336,1332,1325,1324,1312,1302,1281,1274,1273,1251,1246,1226,1214,1213,1210,1204,1199,1195,1192,1191,1189,1188,1171,1160,1139,1137,1137,1135,1124,1124,1124,1112,1103,1091,1082,1077,1076,1069,1068,1065,1059,1039,1036,1030,1027,1026,1026,1022,1002,990,986,980,977,974,970,970,968,968,967,964,962,956,956,928,924,923,921,915,912,909,904,903,901,898,896,896,887,885,884,872,870,861,851,848,840,837,832,831,827,821,817,817,815,810,808,807,807,806,796,794,794,788,783,781,780,779,777,777,772,771,771,763,761,759,756,756,754,745,745,744,742,742,742,739,739,733,731,726,725,713,712,710,707,705,702,693,693,689,687,684,682,681,681,675,669,667,666,666,665,665,662,662,662,655,654,648,645,643,638,636,636,635,627,627,625,624,621,621,615,613,613,613,610,607,607,605,605,605,603,602,601,601,600,600,596,589,587,583,581,581,580,579,578,577,574,573,572,572,571,570,570,569,568,568,565,562,561,561,561,559,556,553,552,551,551,550,548,546,546,546,545,542,542,542,541,541,535,534,534,533,532,530,530,529,529,529,527,526,523,521,520,519,518,518,517,516,516,516,512,510,510,510,507,507,504,503,502,502,499,498,497,496,495,495,494,494,493,493,492,491,490,488,487,481,480,480,478,476,476,476,476,475,474,473,472,470,467,467,464,464,464,463,462,462,461,461,457,456,454,454,453,453,451,450,447,447,447,446,446,446,443,442,441,440,439,435,432,431,429,427,427,426,425,425,423,423,423,422,420,418,418,418,418,417,416,414,412,411,411,409,409,408,406,406,406,406,406,406,404,401,401,400,398,397,397,396,395,395,395,395,394,394,394,393,391,391,391,390,389,387,385,384,383,383,383,383,381,381,379,378,378,378,377,377,376,375,374,374,373,373,372,372,372,371,371,371,370,368,367,367,367,366,365,364,364,364,364,362,362,361,360,359,358,358,357,357,357,356,355,354,353,352,351,351,351,350,350,350,350,349,349,349,349,348,347,345,344,343,343,342,342,342,341,341,341,340,340,340,340,339,339,338,337,336,336,335,335,333,332,330,330,329,329,328,328,327,325,324,324,323,323,323,322,321,321,321,320,319,317,316,316,313,313,313,313,313,312,311,311,310,309,308,308,307,307,307,306,305,305,305,304,303,302,302,302,301,301,301,301,300,299,298,298,297,296,296,295,295,294,294,294,294,294,294,293,292,292,292,292,291,291,291,290,289,288,287,286,286,285,284,283,283,283,283,283,282,282,282,281,281,281,281,281,281,280,280,280,280,279,278,278,277,277,276,276,273,273,273,273,272,271,271,271,271,270,270,270,270,269,268,268,268,268,268,268,267,267,266,266,266,266,266,265,265,265,265,265,265,265,264,264,264,263,263,263,262,262,261,260,260,257,257,256,256,255,255,255,255,254,254,253,253,253,252,252,252,252,251,251,250,249,248,248,248,247,247,246,246,245,245,245,245,245,245,245,244,244,244,243,243,243,243,242,242,241,240,240,239,239,239,239,239,239,238,238,238,237,237,237,237,236,236,235,235,235,234,233,233,233,233,233,232,232,232,232,232,232,232,231,230,229,228,228,228,227,227,227,227,226,226,226,225,225,225,225,225,225,224,223,222,222,221,221,221,221,220,219,218,217,217,217,217,217,217,217,217,216,216,215,215,215,215,215,214,214,214,214,213,213,212,212,212,212,212,212,211,211,211,211,211,211,211,211,211,211,211,211,211,211,210,209,209,209,209,209,208,208,208,207,207,207,207,206,206,206,206,205,205,204,204,204,203,203,203,202,202,202,202,202,202,201,201,201,201,201,201,201,200,200,199,198,198,197,197,197,196,196,196,195,195,195,195,195,195,194,194,193,193,192,192,192,192,191,191,191,191,190,190,189,189,189,189,189,189,188,188,188,187,187,187,187,187,186,186,186,186,185,185,185,185,184,184,184,184,183,183,183,183,183,182,182,182,182,182,181,181,181,181,180,179,179,179,179,179,178,178,178,178,178,178,177,177,177,177,177,177,177,176,176,176,176,176,176,176,176,176,176,176,175,175,175,175,175,175,175,174,174,174,174,174,174,174,173,173,173,173,173,173,173,172,172,172,172,171,171,171,171,171,171,171,171,171,171,170,170,170,170,170,169,169,169,169,169,169,167,167,166,166,166,165,165,165,165,165,165,164,164,164,164,164,164,163,163,163,163,163,163,163,163,162,161,161,161,161,161,160,160,160,160,160,160,160,160,160,160,160,159,159,159,159,159,159,158,158,158,158,158,158,157,157,157,156,156,156,156,156,155,155,155,155,155,155,155,154,154,154,154,154,153,153,153,153,153,153,153,153,153,152,152,152,152,152,152,152,152,151,151,151,151,151,151,150,150,150,150,150,150,150,150,150,149,149,149,149,148,148,148,148,148,148,148,148,147,147,147,147,146,146,146,146,146,146,146,145,145,145,145,145,145,145,144,144,144,144,144,144,144,144,143,143,143,142,142,142,142,142,141,141,141,141,141,141,141,140,140,140,140,140,140,140,140,139,139,139,139,139,138,138,138,138,138,138,138,138,138,138,138,137,137,137,137,137,137,136,136,136,136,136,135,135,135,135,135,135,135,135,135,135,134,134,134,134,134,134,134,134,134,134,134,134,134,134,134,133,133,133,133,133,133,132,132,132,132,132,132,132,132,131,131,131,131,131,131,131,131,131,131,131,130,130,130,130,130,130,130,129,129,129,129,129,129,129,128,128,128,128,128,128,128,127,127,127,127,127,127,127,127,126,126,126,126,126,126,126,126,126,126,125,125,125,125,125,125,125,124,124,124,124,124,124,123,123,123,122,122,122,121,121,121,121,121,121,121,121,120,120,120,120,120,120,120,120,120,119,119,119,119,119,119,119,119,119,118,118,118,117,117,117,117,117,117,117,117,117,116,116,116,116,116,116,116,116,116,116,115,115,115,115,115,115,114,114,114,114,114,114,114,114,114,114,114,113,113,113,113,113,113,113,113,112,112,112,112,112,112,112,112,112,112,112,112,111,111,111,111,111,111,111,111,111,111,111,111,111,111,111,110,110,110,110,110,110,110,110,110,110,109,109,109,109,109,109,109,109,109,109,109,109,108,108,108,108,108,108,108,107,107,107,107,107,107,107,107,106,106,106,106,106,106,106,105,105,105,105,105,105,105,105,105,105,105,105,104,104,104,104,104,104,104,104,104,103,103,103,103,103,103,103,103,103,103,102,102,102,102,102,102,102,102,102,101,101,101,101,101,101,101,101,101,101,101,101,101,101,100,100,100,100,100,100,100,100,100,99,99,99,99,99,99,99,99,99,98,98,98,98,98,98,98,98,98,98,98,98,98,98,98,97,97,97,97,97,97,97,97,96,96,96,96,96,96,96,96,96,96,96,95,95,95,95,95,95,95,95,95,95,94,94,94,94,94,94,94,94,94,94,94,94,94,94,93,93,93,93,93,93,93,93,93,93,93,93,93,93,92,92,92,92,92,92,92,92,92,92,92,92,91,91,91,91,91,91,91,91,90,90,90,90,90,90,90,90,90,89,89,89,89,89,89,89,89,89,89,88,88,88,88,88,88,88,88,88,87,87,87,87,87,87,87,87,87,87,87,86,86,86,86,86,86,86,86,86,86,86,86,86,85,85,85,85,85,85,85,85,85,85,85,85,85,85,85,85,85,85,84,84,84,84,84,84,84,84,84,84,84,84,83,83,83,83,83,83,83,83,83,83,83,83,83,83,83,83,83,83,83,82,82,82,82,82,82,82,82,82,81,81,81,81,81,81,81,81,81,81,81,81,81,80,80,80,80,80,80,80,79,79,79,79,79,79,79,79,79,79,79,79,79,79,79,79,79,79,79,79,79,79,78,78,78,78,78,78,78,78,78,78,78,78,78,78,78,77,77,77,77,77,77,77,77,77,77,77,77,77,77,77,77,77,77,77,76,76,76,76,76,76,76,76,76,76,76,76,76,76,76,76,75,75,75,75,75,75,75,75,75,75,75,75,75,75,75,75,74,74,74,74,74,74,74,74,74,74,74,74,74,74,74,74,74,74,74,74,73,73,73,73,73,73,73,73,73,73,73,73,73,73,73,73,73,73,73,72,72,72,72,72,72,72,72,72,72,72,72,72,72,72,72,72,72,71,71,71,71,71,71,71,71,71,70,70,70,70,70,70,70,70,70,70,70,70,70,70,70,70,70,70,70,70,70,69,69,69,69,69,69,69,69,69,69,69,69,69,69,69,69,69,69,69,69,69,68,68,68,68,68,68,68,68,68,68,68,68,68,68,68,68,68,68,68,68,68,68,68,68,68,68,68,68,67,67,67,67,67,67,67,67,67,67,67,67,67,67,67,67,67,67,67,67,66,66,66,66,66,66,66,66,66,66,66,66,66,66,66,66,66,66,65,65,65,65,65,65,65,65,65,65,65,65,65,65,65,64,64,64,64,64,64,64,64,64,64,64,64,64,64,64,64,64,63,63,63,63,63,63,63,63,63,63,63,63,63,63,63,63,63,63,63,63,63,63,62,62,62,62,62,62,62,62,62,62,62,62,62,62,62,62,62,61,61,61,61,61,61,61,61,61,61,61,61,61,61,61,61,60,60,60,60,60,60,60,60,60,60,60,60,60,60,60,60,60,60,60,60,60,60,60,60,60,60,60,60,60,60,60,60,59,59,59,59,59,59,59,59,59,59,59,59,59,59,59,59,59,59,59,58,58,58,58,58,58,58,58,58,58,58,58,58,58,58,58,58,58,58,58,58,58,58,58,58,58,58,57,57,57,57,57,57,57,57,57,57,57,57,57,57,57,57,56,56,56,56,56,56,56,56,56,56,56,56,56,56,56,56,56,56,56,56,56,56,56,56,56,56,55,55,55,55,55,55,55,55,55,55,55,55,55,55,54,54,54,54,54,54,54,54,54,54,54,54,54,54,54,54,54,54,54,54,54,54,54,54,53,53,53,53,53,53,53,53,53,53,53,53,53,53,53,53,53,53,53,53,53,53,53,53,53,53,53,53,53,53,53,53,52,52,52,52,52,52,52,52,52,52,52,52,52,52,52,52,52,52,52,52,52,52,51,51,51,51,51,51,51,51,51,51,51,51,51,51,51,51,51,51,51,51,51,51,51,51,51,51,51,51,51,51,50,50,50,50,50,50,50,50,50,50,50,50,50,50,50,50,50,50,50,50,50,50,50,50,50,50,50,50,50,50,50,49,49,49,49,49,49,49,49,49,49,49,49,49,49,49,49,49,49,49,49,49,49,49,49,49,49,49,49,49,49,48,48,48,48,48,48,48,48,48,48,48,48,48,48,48,48,48,48,48,48,48,48,48,48,48,48,48,48,48,48,48,47,47,47,47,47,47,47,47,47,47,47,47,47,47,47,47,47,47,47,47,47,47,47,47,47,47,47,47,46,46,46,46,46,46,46,46,46,46,46,46,46,46,46,46,46,46,46,46,46,46,46,46,46,46,46,46,46,46,46,46,46,46,46,46,46,46,45,45,45,45,45,45,45,45,45,45,45,45,45,45,45,45,45,45,45,45,45,45,45,45,45,45,45,45,45,45,45,45,45,45,45,45,45,45,44,44,44,44,44,44,44,44,44,44,44,44,44,44,44,44,44,44,44,44,44,44,44,44,44,44,44,44,44,44,43,43,43,43,43,43,43,43,43,43,43,43,43,43,43,43,43,43,43,43,43,43,42,42,42,42,42,42,42,42,42,42,42,42,42,42,42,42,42,42,42,42,42,42,42,42,42,42,42,42,42,42,42,42,42,42,42,42,42,41,41,41,41,41,41,41,41,41,41,41,41,41,41,41,41,41,41,41,41,41,41,41,41,41,41,41,41,41,41,41,41,41,41,40,40,40,40,40,40,40,40,40,40,40,40,40,40,40,40,40,40,40,40,40,40,40,40,40,40,40,40,40,40,40,40,40,40,40,40,40,40,39,39,39,39,39,39,39,39,39,39,39,39,39,39,39,39,39,39,39,39,39,39,39,39,39,39,39,39,39,39,39,39,39,39,39,39,39,39,39,39,39,39,39,39,39,39,39,39,39,39,39,39,38,38,38,38,38,38,38,38,38,38,38,38,38,38,38,38,38,38,38,38,38,38,38,38,38,38,38,38,38,38,38,38,38,37,37,37,37,37,37,37,37,37,37,37,37,37,37,37,37,37,37,37,37,37,37,37,37,37,37,37,37,37,37,37,37,37,37,37,37,37,37,37,37,37,37,36,36,36,36,36,36,36,36,36,36,36,36,36,36,36,36,36,36,36,36,36,36,36,36,36,36,36,36,36,36,36,36,36,35,35,35,35,35,35,35,35,35,35,35,35,35,35,35,35,35,35,35,35,35,35,35,35,35,35,35,35,35,35,35,35,35,35,35,35,35,35,35,35,34,34,34,34,34,34,34,34,34,34,34,34,34,34,34,34,34,34,34,34,34,34,34,34,34,34,34,34,34,34,34,34,34,34,34,34,34,34,34,33,33,33,33,33,33,33,33,33,33,33,33,33,33,33,33,33,33,33,33,33,33,33,33,33,33,33,33,33,33,33,33,33,33,33,33,33,33,33,33,33,33,33,33,33,33,33,33,33,33,33,32,32,32,32,32,32,32,32,32,32,32,32,32,32,32,32,32,32,32,32,32,32,32,32,32,32,32,32,32,32,32,32,32,32,32,32,32,32,32,32,32,32,32,32,32,32,32,32,32,32,32,32,32,31,31,31,31,31,31,31,31,31,31,31,31,31,31,31,31,31,31,31,31,31,31,31,31,31,31,31,31,31,31,31,31,31,31,31,31,31,31,31,31,31,31,31,31,31,31,31,31,31,31,31,31,31,31,31,31,30,30,30,30,30,30,30,30,30,30,30,30,30,30,30,30,30,30,30,30,30,30,30,30,30,30,30,30,30,30,30,30,30,30,30,30,30,30,30,30,30,30,30,30,29,29,29,29,29,29,29,29,29,29,29,29,29,29,29,29,29,29,29,29,29,29,29,29,29,29,29,29,29,29,29,29,29,29,29,29,29,29,29,29,29,29,29,29,29,29,29,29,29,29,29,29,29,29,29,29,29,29,29,29,29,29,29,29,29,28,28,28,28,28,28,28,28,28,28,28,28,28,28,28,28,28,28,28,28,28,28,28,28,28,28,28,28,28,28,28,28,28,28,28,28,28,28,28,28,28,28,28,28,28,28,28,28,28,28,28,28,28,28,28,28,27,27,27,27,27,27,27,27,27,27,27,27,27,27,27,27,27,27,27,27,27,27,27,27,27,27,27,27,27,27,27,27,27,27,27,27,27,27,27,27,27,27,27,27,27,27,27,27,27,27,27,27,27,27,26,26,26,26,26,26,26,26,26,26,26,26,26,26,26,26,26,26,26,26,26,26,26,26,26,26,26,26,26,26,26,26,26,26,26,26,26,26,26,26,26,26,26,26,26,26,26,26,26,26,26,26,26,26,26,26,26,26,26,26,26,26,26,26,26,26,26,26,26,26,25,25,25,25,25,25,25,25,25,25,25,25,25,25,25,25,25,25,25,25,25,25,25,25,25,25,25,25,25,25,25,25,25,25,25,25,25,25,25,25,25,25,25,25,25,25,25,25,25,25,25,25,25,25,25,25,25,25,24,24,24,24,24,24,24,24,24,24,24,24,24,24,24,24,24,24,24,24,24,24,24,24,24,24,24,24,24,24,24,24,24,24,24,24,24,24,24,24,24,24,24,24,24,24,24,24,24,24,24,24,24,24,24,24,24,24,24,24,24,24,24,24,24,24,24,24,24,24,24,23,23,23,23,23,23,23,23,23,23,23,23,23,23,23,23,23,23,23,23,23,23,23,23,23,23,23,23,23,23,23,23,23,23,23,23,23,23,23,23,23,23,23,23,23,23,23,23,23,23,23,23,23,23,23,23,23,23,23,23,23,23,23,23,23,23,23,23,23,23,23,23,23,23,23,22,22,22,22,22,22,22,22,22,22,22,22,22,22,22,22,22,22,22,22,22,22,22,22,22,22,22,22,22,22,22,22,22,22,22,22,22,22,22,22,22,22,22,22,22,22,22,22,22,22,22,22,22,22,22,22,22,22,22,22,22,22,22,22,22,22,22,22,22,22,22,22,22,22,22,21,21,21,21,21,21,21,21,21,21,21,21,21,21,21,21,21,21,21,21,21,21,21,21,21,21,21,21,21,21,21,21,21,21,21,21,21,21,21,21,21,21,21,21,21,21,21,21,21,21,21,21,21,21,21,21,21,21,21,21,21,21,21,21,21,21,21,21,21,21,21,21,21,21,21,21,21,21,21,21,21,21,21,21,21,21,20,20,20,20,20,20,20,20,20,20,20,20,20,20,20,20,20,20,20,20,20,20,20,20,20,20,20,20,20,20,20,20,20,20,20,20,20,20,20,20,20,20,20,20,20,20,20,20,20,20,20,20,20,20,20,20,20,20,20,20,20,20,20,20,20,20,20,20,20,20,20,20,20,20,20,20,20,20,20,20,20,20,20,20,20,20,19,19,19,19,19,19,19,19,19,19,19,19,19,19,19,19,19,19,19,19,19,19,19,19,19,19,19,19,19,19,19,19,19,19,19,19,19,19,19,19,19,19,19,19,19,19,19,19,19,19,19,19,19,19,19,19,19,19,19,19,19,19,19,19,19,19,19,19,19,19,19,19,19,19,18,18,18,18,18,18,18,18,18,18,18,18,18,18,18,18,18,18,18,18,18,18,18,18,18,18,18,18,18,18,18,18,18,18,18,18,18,18,18,18,18,18,18,18,18,18,18,18,18,18,18,18,18,18,18,18,18,18,18,18,18,18,18,18,18,18,18,18,18,18,18,18,18,18,18,18,18,18,18,18,18,18,18,18,18,18,18,18,18,18,18,18,18,18,18,17,17,17,17,17,17,17,17,17,17,17,17,17,17,17,17,17,17,17,17,17,17,17,17,17,17,17,17,17,17,17,17,17,17,17,17,17,17,17,17,17,17,17,17,17,17,17,17,17,17,17,17,17,17,17,17,17,17,17,17,17,17,17,17,17,17,17,17,17,17,17,17,17,17,17,17,17,17,17,17,17,17,17,17,17,17,17,17,17,17,17,17,17,17,17,17,17,17,17,17,17,17,16,16,16,16,16,16,16,16,16,16,16,16,16,16,16,16,16,16,16,16,16,16,16,16,16,16,16,16,16,16,16,16,16,16,16,16,16,16,16,16,16,16,16,16,16,16,16,16,16,16,16,16,16,16,16,16,16,16,16,16,16,16,16,16,16,16,16,16,16,16,16,16,16,16,16,16,16,16,16,16,16,16,16,16,16,16,16,16,16,16,16,16,16,16,16,16,16,16,16,16,16,16,16,16,16,15,15,15,15,15,15,15,15,15,15,15,15,15,15,15,15,15,15,15,15,15,15,15,15,15,15,15,15,15,15,15,15,15,15,15,15,15,15,15,15,15,15,15,15,15,15,15,15,15,15,15,15,15,15,15,15,15,15,15,15,15,15,15,15,15,15,15,15,15,15,15,15,15,15,15,15,15,15,15,15,15,15,15,15,15,15,15,15,15,15,15,15,15,15,15,15,15,15,15,15,15,15,15,15,15,15,15,15,15,15,15,15,15,14,14,14,14,14,14,14,14,14,14,14,14,14,14,14,14,14,14,14,14,14,14,14,14,14,14,14,14,14,14,14,14,14,14,14,14,14,14,14,14,14,14,14,14,14,14,14,14,14,14,14,14,14,14,14,14,14,14,14,14,14,14,14,14,14,14,14,14,14,14,14,14,14,14,14,14,14,14,14,14,14,14,14,14,14,14,14,14,14,14,14,14,14,14,14,14,14,14,14,14,14,14,14,14,14,14,14,14,14,14,14,14,14,14,14,14,14,14,14,14,14,14,14,14,14,14,14,14,14,14,14,14,14,14,14,14,14,14,14,14,14,14,13,13,13,13,13,13,13,13,13,13,13,13,13,13,13,13,13,13,13,13,13,13,13,13,13,13,13,13,13,13,13,13,13,13,13,13,13,13,13,13,13,13,13,13,13,13,13,13,13,13,13,13,13,13,13,13,13,13,13,13,13,13,13,13,13,13,13,13,13,13,13,13,13,13,13,13,13,13,13,13,13,13,13,13,13,13,13,13,13,13,13,13,13,13,13,13,13,13,13,13,13,13,13,13,13,13,13,13,13,13,13,13,13,13,13,13,13,13,13,13,13,13,13,13,13,13,13,13,13,13,13,13,13,13,13,13,13,13,13,13,12,12,12,12,12,12,12,12,12,12,12,12,12,12,12,12,12,12,12,12,12,12,12,12,12,12,12,12,12,12,12,12,12,12,12,12,12,12,12,12,12,12,12,12,12,12,12,12,12,12,12,12,12,12,12,12,12,12,12,12,12,12,12,12,12,12,12,12,12,12,12,12,12,12,12,12,12,12,12,12,12,12,12,12,12,12,12,12,12,12,12,12,12,12,12,12,12,12,12,12,12,12,12,12,12,12,12,12,12,12,12,12,12,12,12,12,12,12,12,12,12,12,12,12,12,12,12,12,12,12,12,12,12,12,12,12,12,12,12,12,12,12,12,12,12,12,12,12,12,12,12,12,12,12,12,12,12,12,12,12,12,12,12,12,12,12,12,11,11,11,11,11,11,11,11,11,11,11,11,11,11,11,11,11,11,11,11,11,11,11,11,11,11,11,11,11,11,11,11,11,11,11,11,11,11,11,11,11,11,11,11,11,11,11,11,11,11,11,11,11,11,11,11,11,11,11,11,11,11,11,11,11,11,11,11,11,11,11,11,11,11,11,11,11,11,11,11,11,11,11,11,11,11,11,11,11,11,11,11,11,11,11,11,11,11,11,11,11,11,11,11,11,11,11,11,11,11,11,11,11,11,11,11,11,11,11,11,11,11,11,11,11,11,11,11,11,11,11,11,11,11,11,11,11,11,11,11,11,11,11,11,11,11,11,11,11,11,11,11,11,11,11,11,11,11,11,11,11,11,11,11,11,11,11,10,10,10,10,10,10,10,10,10,10,10,10,10,10,10,10,10,10,10,10,10,10,10,10,10,10,10,10,10,10,10,10,10,10,10,10,10,10,10,10,10,10,10,10,10,10,10,10,10,10,10,10,10,10,10,10,10,10,10,10,10,10,10,10,10,10,10,10,10,10,10,10,10,10,10,10,10,10,10,10,10,10,10,10,10,10,10,10,10,10,10,10,10,10,10,10,10,10,10,10,10,10,10,10,10,10,10,10,10,10,10,10,10,10,10,10,10,10,10,10,10,10,10,10,10,10,10,10,10,10,10,10,10,10,10,10,10,10,10,10,10,10,10,10,10,10,10,10,10,10,10,10,10,10,10,10,10,10,10,10,10,10,10,10,10,10,10,10,10,10,9,9,9,9,9,9,9,9,9,9,9,9,9,9,9,9,9,9,9,9,9,9,9,9,9,9,9,9,9,9,9,9,9,9,9,9,9,9,9,9,9,9,9,9,9,9,9,9,9,9,9,9,9,9,9,9,9,9,9,9,9,9,9,9,9,9,9,9,9,9,9,9,9,9,9,9,9,9,9,9,9,9,9,9,9,9,9,9,9,9,9,9,9,9,9,9,9,9,9,9,9,9,9,9,9,9,9,9,9,9,9,9,9,9,9,9,9,9,9,9,9,9,9,9,9,9,9,9,9,9,9,9,9,9,9,9,9,9,9,9,9,9,9,9,9,9,9,9,9,9,9,9,9,9,9,9,9,9,9,9,9,9,9,9,9,9,9,9,9,9,9,9,9,9,9,9,9,9,9,9,9,9,9,8,8,8,8,8,8,8,8,8,8,8,8,8,8,8,8,8,8,8,8,8,8,8,8,8,8,8,8,8,8,8,8,8,8,8,8,8,8,8,8,8,8,8,8,8,8,8,8,8,8,8,8,8,8,8,8,8,8,8,8,8,8,8,8,8,8,8,8,8,8,8,8,8,8,8,8,8,8,8,8,8,8,8,8,8,8,8,8,8,8,8,8,8,8,8,8,8,8,8,8,8,8,8,8,8,8,8,8,8,8,8,8,8,8,8,8,8,8,8,8,8,8,8,8,8,8,8,8,8,8,8,8,8,8,8,8,8,8,8,8,8,8,8,8,8,8,8,8,8,8,8,8,8,8,8,8,8,8,8,8,8,8,8,8,8,8,8,8,8,8,8,8,8,8,8,8,8,8,8,8,8,8,8,8,8,8,8,8,8,8,8,8,8,8,8,8,8,8,8,8,8,8,8,8,8,8,8,8,8,8,8,8,8,8,8,8,8,8,8,8,8,8,8,8,8,8,8,8,8,8,8,8,8,8,8,8,8,7,7,7,7,7,7,7,7,7,7,7,7,7,7,7,7,7,7,7,7,7,7,7,7,7,7,7,7,7,7,7,7,7,7,7,7,7,7,7,7,7,7,7,7,7,7,7,7,7,7,7,7,7,7,7,7,7,7,7,7,7,7,7,7,7,7,7,7,7,7,7,7,7,7,7,7,7,7,7,7,7,7,7,7,7,7,7,7,7,7,7,7,7,7,7,7,7,7,7,7,7,7,7,7,7,7,7,7,7,7,7,7,7,7,7,7,7,7,7,7,7,7,7,7,7,7,7,7,7,7,7,7,7,7,7,7,7,7,7,7,7,7,7,7,7,7,7,7,7,7,7,7,7,7,7,7,7,7,7,7,7,7,7,7,7,7,7,7,7,7,7,7,7,7,7,7,7,7,7,7,7,7,7,7,7,7,7,7,7,7,7,7,7,7,7,7,7,7,7,7,7,7,7,7,7,7,7,7,7,7,7,7,7,7,7,7,7,7,7,7,7,7,7,7,7,7,7,7,7,7,7,7,7,7,7,7,7,7,7,7,7,7,7,7,7,7,7,7,7,7,7,7,7,7,7,7,7,7,7,7,7,7,7,7,7,7,7,7,7,7,7,7,7,7,7,7,7,7,6,6,6,6,6,6,6,6,6,6,6,6,6,6,6,6,6,6,6,6,6,6,6,6,6,6,6,6,6,6,6,6,6,6,6,6,6,6,6,6,6,6,6,6,6,6,6,6,6,6,6,6,6,6,6,6,6,6,6,6,6,6,6,6,6,6,6,6,6,6,6,6,6,6,6,6,6,6,6,6,6,6,6,6,6,6,6,6,6,6,6,6,6,6,6,6,6,6,6,6,6,6,6,6,6,6,6,6,6,6,6,6,6,6,6,6,6,6,6,6,6,6,6,6,6,6,6,6,6,6,6,6,6,6,6,6,6,6,6,6,6,6,6,6,6,6,6,6,6,6,6,6,6,6,6,6,6,6,6,6,6,6,6,6,6,6,6,6,6,6,6,6,6,6,6,6,6,6,6,6,6,6,6,6,6,6,6,6,6,6,6,6,6,6,6,6,6,6,6,6,6,6,6,6,6,6,6,6,6,6,6,6,6,6,6,6,6,6,6,6,6,6,6,6,6,6,6,6,6,6,6,6,6,6,6,6,6,6,6,6,6,6,6,6,6,6,6,6,6,6,6,6,6,6,6,6,6,6,6,6,6,6,6,6,6,6,6,6,6,6,6,6,6,6,6,6,6,6,6,6,6,6,6,6,6,6,6,6,6,6,6,6,6,6,6,6,6,6,6,6,6,6,6,6,6,6,6,6,6,6,6,6,6,6,6,6,6,6,6,6,6,6,6,6,6,6,6,6,6,6,6,6,6,5,5,5,5,5,5,5,5,5,5,5,5,5,5,5,5,5,5,5,5,5,5,5,5,5,5,5,5,5,5,5,5,5,5,5,5,5,5,5,5,5,5,5,5,5,5,5,5,5,5,5,5,5,5,5,5,5,5,5,5,5,5,5,5,5,5,5,5,5,5,5,5,5,5,5,5,5,5,5,5,5,5,5,5,5,5,5,5,5,5,5,5,5,5,5,5,5,5,5,5,5,5,5,5,5,5,5,5,5,5,5,5,5,5,5,5,5,5,5,5,5,5,5,5,5,5,5,5,5,5,5,5,5,5,5,5,5,5,5,5,5,5,5,5,5,5,5,5,5,5,5,5,5,5,5,5,5,5,5,5,5,5,5,5,5,5,5,5,5,5,5,5,5,5,5,5,5,5,5,5,5,5,5,5,5,5,5,5,5,5,5,5,5,5,5,5,5,5,5,5,5,5,5,5,5,5,5,5,5,5,5,5,5,5,5,5,5,5,5,5,5,5,5,5,5,5,5,5,5,5,5,5,5,5,5,5,5,5,5,5,5,5,5,5,5,5,5,5,5,5,5,5,5,5,5,5,5,5,5,5,5,5,5,5,5,5,5,5,5,5,5,5,5,5,5,5,5,5,5,5,5,5,5,5,5,5,5,5,5,5,5,5,5,5,5,5,5,5,5,5,5,5,5,5,5,5,5,5,5,5,5,5,5,5,5,5,5,5,5,5,5,5,5,5,5,5,5,5,5,5,5,5,5,4,4,4,4,4,4,4,4,4,4,4,4,4,4,4,4,4,4,4,4,4,4,4,4,4,4,4,4,4,4,4,4,4,4,4,4,4,4,4,4,4,4,4,4,4,4,4,4,4,4,4,4,4,4,4,4,4,4,4,4,4,4,4,4,4,4,4,4,4,4,4,4,4,4,4,4,4,4,4,4,4,4,4,4,4,4,4,4,4,4,4,4,4,4,4,4,4,4,4,4,4,4,4,4,4,4,4,4,4,4,4,4,4,4,4,4,4,4,4,4,4,4,4,4,4,4,4,4,4,4,4,4,4,4,4,4,4,4,4,4,4,4,4,4,4,4,4,4,4,4,4,4,4,4,4,4,4,4,4,4,4,4,4,4,4,4,4,4,4,4,4,4,4,4,4,4,4,4,4,4,4,4,4,4,4,4,4,4,4,4,4,4,4,4,4,4,4,4,4,4,4,4,4,4,4,4,4,4,4,4,4,4,4,4,4,4,4,4,4,4,4,4,4,4,4,4,4,4,4,4,4,4,4,4,4,4,4,4,4,4,4,4,4,4,4,4,4,4,4,4,4,4,4,4,4,4,4,4,4,4,4,4,4,4,4,4,4,4,4,4,4,4,4,4,4,4,4,4,4,4,4,4,4,4,4,4,4,4,4,4,4,4,4,4,4,4,4,4,4,4,4,4,4,4,4,4,4,4,4,4,4,4,4,4,4,4,4,4,4,4,4,4,4,4,4,4,4,4,4,4,4,4,4,4,4,4,4,4,4,4,4,4,4,4,4,4,4,4,4,4,4,4,4,4,4,4,4,4,4,4,4,4,4,4,4,4,4,4,4,4,4,4,4,4,4,4,4,4,4,4,4,4,4,4,4,4,4,4,4,4,4,4,4,4,4,4,4,4,4,4,4,4,4,4,4,4,4,4,4,4,4,4,4,4,4,4,4,4,4,4,4,4,4,4,4,4,4,4,4,4,4,4,4,4,4,4,4,4,4,4,4,4,4,4,4,4,4,4,4,4,4,4,4,4,4,4,4,4,4,4,4,4,4,3,3,3,3,3,3,3,3,3,3,3,3,3,3,3,3,3,3,3,3,3,3,3,3,3,3,3,3,3,3,3,3,3,3,3,3,3,3,3,3,3,3,3,3,3,3,3,3,3,3,3,3,3,3,3,3,3,3,3,3,3,3,3,3,3,3,3,3,3,3,3,3,3,3,3,3,3,3,3,3,3,3,3,3,3,3,3,3,3,3,3,3,3,3,3,3,3,3,3,3,3,3,3,3,3,3,3,3,3,3,3,3,3,3,3,3,3,3,3,3,3,3,3,3,3,3,3,3,3,3,3,3,3,3,3,3,3,3,3,3,3,3,3,3,3,3,3,3,3,3,3,3,3,3,3,3,3,3,3,3,3,3,3,3,3,3,3,3,3,3,3,3,3,3,3,3,3,3,3,3,3,3,3,3,3,3,3,3,3,3,3,3,3,3,3,3,3,3,3,3,3,3,3,3,3,3,3,3,3,3,3,3,3,3,3,3,3,3,3,3,3,3,3,3,3,3,3,3,3,3,3,3,3,3,3,3,3,3,3,3,3,3,3,3,3,3,3,3,3,3,3,3,3,3,3,3,3,3,3,3,3,3,3,3,3,3,3,3,3,3,3,3,3,3,3,3,3,3,3,3,3,3,3,3,3,3,3,3,3,3,3,3,3,3,3,3,3,3,3,3,3,3,3,3,3,3,3,3,3,3,3,3,3,3,3,3,3,3,3,3,3,3,3,3,3,3,3,3,3,3,3,3,3,3,3,3,3,3,3,3,3,3,3,3,3,3,3,3,3,3,3,3,3,3,3,3,3,3,3,3,3,3,3,3,3,3,3,3,3,3,3,3,3,3,3,3,3,3,3,3,3,3,3,3,3,3,3,3,3,3,3,3,3,3,3,3,3,3,3,3,3,3,3,3,3,3,3,3,3,3,3,3,3,3,3,3,3,3,3,3,3,3,3,3,3,3,3,3,3,3,3,3,3,3,3,3,3,3,3,3,3,3,3,3,3,3,3,3,3,3,3,3,3,3,3,3,3,3,3,3,3,3,3,3,3,3,3,3,3,3,3,3,3,3,3,3,3,3,3,3,3,3,3,3,3,3,3,3,3,3,3,3,3,3,3,3,3,3,3,3,3,3,3,3,3,3,3,3,3,3,3,3,3,3,3,3,3,3,3,3,3,3,3,3,3,3,3,3,3,3,2,2,2,2,2,2,2,2,2,2,2,2,2,2,2,2,2,2,2,2,2,2,2,2,2,2,2,2,2,2,2,2,2,2,2,2,2,2,2,2,2,2,2,2,2,2,2,2,2,2,2,2,2,2,2,2,2,2,2,2,2,2,2,2,2,2,2,2,2,2,2,2,2,2,2,2,2,2,2,2,2,2,2,2,2,2,2,2,2,2,2,2,2,2,2,2,2,2,2,2,2,2,2,2,2,2,2,2,2,2,2,2,2,2,2,2,2,2,2,2,2,2,2,2,2,2,2,2,2,2,2,2,2,2,2,2,2,2,2,2,2,2,2,2,2,2,2,2,2,2,2,2,2,2,2,2,2,2,2,2,2,2,2,2,2,2,2,2,2,2,2,2,2,2,2,2,2,2,2,2,2,2,2,2,2,2,2,2,2,2,2,2,2,2,2,2,2,2,2,2,2,2,2,2,2,2,2,2,2,2,2,2,2,2,2,2,2,2,2,2,2,2,2,2,2,2,2,2,2,2,2,2,2,2,2,2,2,2,2,2,2,2,2,2,2,2,2,2,2,2,2,2,2,2,2,2,2,2,2,2,2,2,2,2,2,2,2,2,2,2,2,2,2,2,2,2,2,2,2,2,2,2,2,2,2,2,2,2,2,2,2,2,2,2,2,2,2,2,2,2,2,2,2,2,2,2,2,2,2,2,2,2,2,2,2,2,2,2,2,2,2,2,2,2,2,2,2,2,2,2,2,2,2,2,2,2,2,2,2,2,2,2,2,2,2,2,2,2,2,2,2,2,2,2,2,2,2,2,2,2,2,2,2,2,2,2,2,2,2,2,2,2,2,2,2,2,2,2,2,2,2,2,2,2,2,2,2,2,2,2,2,2,2,2,2,2,2,2,2,2,2,2,2,2,2,2,2,2,2,2,2,2,2,2,2,2,2,2,2,2,2,2,2,2,2,2,2,2,2,2,2,2,2,2,2,2,2,2,2,2,2,2,2,2,2,2,2,2,2,2,2,2,2,2,2,2,2,2,2,2,2,2,2,2,2,2,2,2,2,2,2,2,2,2,2,2,2,2,2,2,2,2,2,2,2,2,2,2,2,2,2,2,2,2,2,2,2,2,2,2,2,2,2,2,2,2,2,2,2,2,2,2,2,2,2,2,2,2,2,2,2,2,2,2,2,2,2,2,2,2,2,2,2,2,2,2,2,2,2,2,2,2,2,2,2,2,2,2,2,2,2,2,2,2,2,2,2,2,2,2,2,2,2,2,2,2,2,2,2,2,2,2,2,2,2,2,2,2,2,2,2,2,2,2,2,2,2,2,2,2,2,2,2,2,2,2,2,2,2,2,2,2,2,2,2,2,2,2,2,2,2,2,2,2,2,2,2,2,2,2,2,2,2,2,2,2,2,2,2,2,2,2,2,2,2,2,2,2,2,2,2,2,2,2,2,2,2,2,2,2,2,2,2,2,2,2,2,2,2,2,2,2,2,2,2,2,2,2,2,2,2,2,2,2,2,2,2,2,2,2,2,2,2,2,2,2,2,2,2,2,2,2,2,2,2,2,2,2,2,2,2,2,2,2,2,2,2,2,2,2,2,2,2,2,2,2,2,2,2,2,2,2,2,2,2,2,2,2,2,2,2,2,2,2,2,2,2,2,2,2,2,2,2,2,2,2,2,2,2,2,2,2,2,2,2,2,2,2,2,2,2,2,2,2,2,2,2,2,2,2,2,2,2,2,2,2,2,2,2,2,2,2,2,2,2,2,2,2,2,2,2,2,2,2,2,2,2,2,2,2,2,2,2,2,2,2,2,2,2,2,2,2,2,2,2,2,2,2,2,2,2,2,2,2,2,2,2,2,2,2,2,2,2,2,2,2,2,2,2,2,2,2,2,2,2,2,2,2,2,2,2,2,2,2,2,2,2,2,2,2,2,2,2,2,2,2,2,2,2,2,2,2,2,2,2,2,2,2,2,2,2,2,2,2,2,2,2,2,2,2,2,2,2,2,2,2,2,2,2,1,1,1,1,1,1,1,1,1,1,1,1,1,1,1,1,1,1,1,1,1,1,1,1,1,1,1,1,1,1,1,1,1,1,1,1,1,1,1,1,1,1,1,1,1,1,1,1,1,1,1,1,1,1,1,1,1,1,1,1,1,1,1,1,1,1,1,1,1,1,1,1,1,1,1,1,1,1,1,1,1,1,1,1,1,1,1,1,1,1,1,1,1,1,1,1,1,1,1,1,1,1,1,1,1,1,1,1,1,1,1,1,1,1,1,1,1,1,1,1,1,1,1,1,1,1,1,1,1,1,1,1,1,1,1,1,1,1,1,1,1,1,1,1,1,1,1,1,1,1,1,1,1,1,1,1,1,1,1,1,1,1,1,1,1,1,1,1,1,1,1,1,1,1,1,1,1,1,1,1,1,1,1,1,1,1,1,1,1,1,1,1,1,1,1,1,1,1,1,1,1,1,1,1,1,1,1,1,1,1,1,1,1,1,1,1,1,1,1,1,1,1,1,1,1,1,1,1,1,1,1,1,1,1,1,1,1,1,1,1,1,1,1,1,1,1,1,1,1,1,1,1,1,1,1,1,1,1,1,1,1,1,1,1,1,1,1,1,1,1,1,1,1,1,1,1,1,1,1,1,1,1,1,1,1,1,1,1,1,1,1,1,1,1,1,1,1,1,1,1,1,1,1,1,1,1,1,1,1,1,1,1,1,1,1,1,1,1,1,1,1,1,1,1,1,1,1,1,1,1,1,1,1,1,1,1,1,1,1,1,1,1,1,1,1,1,1,1,1,1,1,1,1,1,1,1,1,1,1,1,1,1,1,1,1,1,1,1,1,1,1,1,1,1,1,1,1,1,1,1,1,1,1,1,1,1,1,1,1,1,1,1,1,1,1,1,1,1,1,1,1,1,1,1,1,1,1,1,1,1,1,1,1,1,1,1,1,1,1,1,1,1,1,1,1,1,1,1,1,1,1,1,1,1,1,1,1,1,1,1,1,1,1,1,1,1,1,1,1,1,1,1,1,1,1,1,1,1,1,1,1,1,1,1,1,1,1,1,1,1,1,1,1,1,1,1,1,1,1,1,1,1,1,1,1,1,1,1,1,1,1,1,1,1,1,1,1,1,1,1,1,1,1,1,1,1,1,1,1,1,1,1,1,1,1,1,1,1,1,1,1,1,1,1,1,1,1,1,1,1,1,1,1,1,1,1,1,1,1,1,1,1,1,1,1,1,1,1,1,1,1,1,1,1,1,1,1,1,1,1,1,1,1,1,1,1,1,1,1,1,1,1,1,1,1,1,1,1,1,1,1,1,1,1,1,1,1,1,1,1,1,1,1,1,1,1,1,1,1,1,1,1,1,1,1,1,1,1,1,1,1,1,1,1,1,1,1,1,1,1,1,1,1,1,1,1,1,1,1,1,1,1,1,1,1,1,1,1,1,1,1,1,1,1,1,1,1,1,1,1,1,1,1,1,1,1,1,1,1,1,1,1,1,1,1,1,1,1,1,1,1,1,1,1,1,1,1,1,1,1,1,1,1,1,1,1,1,1,1,1,1,1,1,1,1,1,1,1,1,1,1,1,1,1,1,1,1,1,1,1,1,1,1,1,1,1,1,1,1,1,1,1,1,1,1,1,1,1,1,1,1,1,1,1,1,1,1,1,1,1,1,1,1,1,1,1,1,1,1,1,1,1,1,1,1,1,1,1,1,1,1,1,1,1,1,1,1,1,1,1,1,1,1,1,1,1,1,1,1,1,1,1,1,1,1,1,1,1,1,1,1,1,1,1,1,1,1,1,1,1,1,1,1,1,1,1,1,1,1,1,1,1,1,1,1,1,1,1,1,1,1,1,1,1,1,1,1,1,1,1,1,1,1,1,1,1,1,1,1,1,1,1,1,1,1,1,1,1,1,1,1,1,1,1,1,1,1,1,1,1,1,1,1,1,1,1,1,1,1,1,1,1,1,1,1,1,1,1,1,1,1,1,1,1,1,1,1,1,1,1,1,1,1,1,1,1,1,1,1,1,1,1,1,1,1,1,1,1,1,1,1,1,1,1,1,1,1,1,1,1,1,1,1,1,1,1,1,1,1,1,1,1,1,1,1,1,1,1,1,1,1,1,1,1,1,1,1,1,1,1,1,1,1,1,1,1,1,1,1,1,1,1,1,1,1,1,1,1,1,1,1,1,1,1,1,1,1,1,1,1,1,1,1,1,1,1,1,1,1,1,1,1,1,1,1,1,1,1,1,1,1,1,1,1,1,1,1,1,1,1,1,1,1,1,1,1,1,1,1,1,1,1,1,1,1,1,1,1,1,1,1,1,1,1,1,1,1,1,1,1,1,1,1,1,1,1,1,1,1,1,1,1,1,1,1,1,1,1,1,1,1,1,1,1,1,1,1,1,1],\"x\":[\"Los Angeles\",\"Miami\",\"Sacramento\",\"Charlotte\",\"Dallas\",\"Portland\",\"Minneapolis\",\"Orlando\",\"Houston\",\"San Diego\",\"Saint Paul\",\"Raleigh\",\"Chicago\",\"Richmond\",\"Atlanta\",\"Nashville\",\"Salt Lake City\",\"Riverside\",\"Baton Rouge\",\"Tucson\",\"Phoenix\",\"San Jose\",\"Bakersfield\",\"New Orleans\",\"Austin\",\"San Bernardino\",\"Rochester\",\"Jacksonville\",\"Denver\",\"Ontario\",\"Oakland\",\"Anaheim\",\"Fresno\",\"Kansas City\",\"Bronx\",\"Long Beach\",\"Corona\",\"Seattle\",\"Fort Lauderdale\",\"Tampa\",\"Indianapolis\",\"Detroit\",\"Philadelphia\",\"Washington\",\"San Francisco\",\"Chattanooga\",\"Hialeah\",\"Grand Rapids\",\"Whittier\",\"Greenville\",\"Columbia\",\"Stockton\",\"Dayton\",\"Springfield\",\"Salem\",\"San Antonio\",\"Pensacola\",\"Oklahoma City\",\"New York\",\"Lancaster\",\"Tracy\",\"Shreveport\",\"Arlington\",\"Hayward\",\"Columbus\",\"Bradenton\",\"Newark\",\"El Paso\",\"Irvine\",\"Baldwin Park\",\"Fontana\",\"Louisville\",\"Pomona\",\"Cincinnati\",\"Saint Louis\",\"Sarasota\",\"Modesto\",\"Brooklyn\",\"Santa Ana\",\"Ogden\",\"Colton\",\"Fort Worth\",\"Albany\",\"Gardena\",\"Orange\",\"Glendale\",\"West Valley City\",\"Norwalk\",\"Redlands\",\"Sherman Oaks\",\"York\",\"Saint Petersburg\",\"Flint\",\"Henrico\",\"Tallahassee\",\"Eugene\",\"Moreno Valley\",\"Santa Rosa\",\"Newhall\",\"Salinas\",\"Diamond Bar\",\"Silver Spring\",\"Downey\",\"Pittsburgh\",\"Fort Myers\",\"Birmingham\",\"Pendleton\",\"Fairfield\",\"Livermore\",\"Hollywood\",\"Milwaukee\",\"Memphis\",\"Fairfax\",\"Antioch\",\"La Puente\",\"Syracuse\",\"Cleveland\",\"Alexandria\",\"Sylmar\",\"Inglewood\",\"Norfolk\",\"Compton\",\"Little Rock\",\"Buffalo\",\"Klamath Falls\",\"Cerritos\",\"Madera\",\"Kissimmee\",\"Frederick\",\"Escondido\",\"Aurora\",\"San Leandro\",\"Perris\",\"North Hollywood\",\"Lexington\",\"Concord\",\"Bend\",\"Florence\",\"Clearwater\",\"Garden Grove\",\"Opa Locka\",\"Mira Loma\",\"Homestead\",\"Carson\",\"Bloomington\",\"San Mateo\",\"Ocala\",\"Los Gatos\",\"Hartford\",\"West Covina\",\"Rancho Cucamonga\",\"Tustin\",\"Madison\",\"Tulsa\",\"Ashland\",\"Grants Pass\",\"Fremont\",\"Redwood City\",\"Rowland Heights\",\"Chino\",\"North Miami\",\"Woodbridge\",\"West Palm Beach\",\"Garner\",\"Bethesda\",\"Colorado Springs\",\"Berkeley\",\"Spartanburg\",\"Costa Mesa\",\"Tacoma\",\"La Grande\",\"Burbank\",\"Auburn\",\"Hacienda Heights\",\"Jackson\",\"Hyattsville\",\"Roseburg\",\"Palmdale\",\"Decatur\",\"Providence\",\"Roseville\",\"Milton\",\"Ventura\",\"Anderson\",\"Temecula\",\"Westminster\",\"Fredericksburg\",\"Chester\",\"Medford\",\"Torrance\",\"Fallbrook\",\"Fort Lee\",\"Lodi\",\"Omaha\",\"Tempe\",\"Castro Valley\",\"Lynwood\",\"Vallejo\",\"Elk Grove\",\"Hawthorne\",\"Virginia Beach\",\"Blue River\",\"Boca Raton\",\"Carlsbad\",\"Montgomery\",\"Chesapeake\",\"Pleasanton\",\"Centreville\",\"Greensboro\",\"Monticello\",\"Walnut Creek\",\"Tyler\",\"Sandy\",\"Santa Fe Springs\",\"Van Nuys\",\"Glendora\",\"Santa Cruz\",\"Azusa\",\"Lebec\",\"Pittsburg\",\"Petaluma\",\"Huntington\",\"Redmond\",\"North Highlands\",\"El Monte\",\"Winston Salem\",\"Santa Barbara\",\"San Marcos\",\"Pacoima\",\"Buena Park\",\"Vista\",\"Draper\",\"Farmington\",\"San Dimas\",\"Hallandale\",\"Fair Oaks\",\"Jurupa Valley\",\"Napa\",\"The Dalles\",\"Norristown\",\"Culver City\",\"Encino\",\"Paramount\",\"Manassas\",\"Marysville\",\"Harrisburg\",\"Elgin\",\"Mission Viejo\",\"Seaside\",\"Scottsdale\",\"Sun Valley\",\"Lake Elsinore\",\"Englewood\",\"Visalia\",\"Castaic\",\"Brentwood\",\"Wilmington\",\"Carmichael\",\"Upland\",\"Alhambra\",\"Watsonville\",\"Covina\",\"Martinez\",\"Saint Cloud\",\"Emeryville\",\"Middletown\",\"Myrtle Beach\",\"Midvale\",\"Charleston\",\"Oceanside\",\"Greer\",\"Rockville\",\"Cottage Grove\",\"Flushing\",\"Murrieta\",\"Halethorpe\",\"Bellevue\",\"Burnsville\",\"Elmhurst\",\"Claremont\",\"Lorton\",\"Manteca\",\"Durham\",\"West Sacramento\",\"Santa Maria\",\"Trenton\",\"Oxnard\",\"Acton\",\"Vacaville\",\"Gurnee\",\"Fullerton\",\"Valencia\",\"San Pablo\",\"Hopkins\",\"Union City\",\"Pompano Beach\",\"Mission Hills\",\"Staten Island\",\"Forest Lake\",\"Canyon Country\",\"Mc Lean\",\"Mesa\",\"Brea\",\"Laurel\",\"North Miami Beach\",\"Chiloquin\",\"Lake Forest\",\"Fountain Valley\",\"Montclair\",\"Chandler\",\"Des Moines\",\"Seal Beach\",\"Yonkers\",\"Montebello\",\"Selma\",\"Riverview\",\"Baker City\",\"Jamaica\",\"Falls Church\",\"Duluth\",\"Davis\",\"Lebanon\",\"Rancho Cordova\",\"Bell Gardens\",\"Mobile\",\"Rosedale\",\"San Rafael\",\"Midlothian\",\"Waukegan\",\"Bellflower\",\"Mesquite\",\"Libertyville\",\"Tooele\",\"Madras\",\"Lansing\",\"San Juan Capistrano\",\"Lake Worth\",\"Lakewood\",\"Gainesville\",\"Knoxville\",\"Sunol\",\"Merced\",\"Toledo\",\"Delray Beach\",\"Saint Charles\",\"Astoria\",\"Stafford\",\"Gilroy\",\"Irving\",\"Meridian\",\"Lafayette\",\"Marietta\",\"San Clemente\",\"Conway\",\"Lake Zurich\",\"Wolf Creek\",\"Huntsville\",\"Turlock\",\"Melbourne\",\"Tuscaloosa\",\"Winter Park\",\"Glen Allen\",\"Bridgeport\",\"Camarillo\",\"Hollister\",\"West Jordan\",\"Palo Alto\",\"Woodland Hills\",\"Encinitas\",\"Brandon\",\"Asheville\",\"Magna\",\"South El Monte\",\"Highland Park\",\"Lake City\",\"Simpsonville\",\"Dixon\",\"South Jordan\",\"San Lorenzo\",\"Santa Clarita\",\"North Hills\",\"Redding\",\"Akron\",\"Cary\",\"Tualatin\",\"East Hartford\",\"Clearfield\",\"Lathrop\",\"Winchester\",\"Provo\",\"Hampton\",\"Pottstown\",\"Oroville\",\"Eden Prairie\",\"Maple Grove\",\"South Gate\",\"Palm Harbor\",\"Osseo\",\"Milford\",\"New Port Richey\",\"Bellmawr\",\"Milpitas\",\"Arcadia\",\"Miami Gardens\",\"Everett\",\"Chico\",\"Newport News\",\"West Chester\",\"Corbett\",\"Manchester\",\"Linden\",\"Monrovia\",\"Newport\",\"Independence\",\"Tulare\",\"Piedmont\",\"Mankato\",\"Rialto\",\"Windsor\",\"Spanish Fork\",\"Rye\",\"Danville\",\"Rogers\",\"Fort Mill\",\"Greenwich\",\"Troy\",\"Grass Valley\",\"Lehi\",\"Central Point\",\"Woodland\",\"Rosemead\",\"Covington\",\"New Haven\",\"New Castle\",\"Walnut\",\"Grayslake\",\"Phelan\",\"Simi Valley\",\"Boise\",\"Antelope\",\"Santa Monica\",\"Barrington\",\"Granada Hills\",\"Calabasas\",\"Hagerstown\",\"Los Banos\",\"Waterbury\",\"Goleta\",\"Wichita Falls\",\"Renton\",\"Palmetto\",\"Union\",\"Dover\",\"Woodburn\",\"Venice\",\"Morrisville\",\"Placerville\",\"La Grange\",\"North Chesterfield\",\"Cedar City\",\"Novato\",\"Tillamook\",\"La Pine\",\"Jefferson\",\"National City\",\"Boynton Beach\",\"Wasco\",\"Princeton\",\"Oregon City\",\"Conshohocken\",\"Beaverton\",\"Upper Marlboro\",\"Dublin\",\"Gaithersburg\",\"Castle Rock\",\"Deerfield Beach\",\"Monterey Park\",\"Irvington\",\"Macon\",\"Westport\",\"Utica\",\"Jordan Valley\",\"Menifee\",\"Cascade Locks\",\"Lenexa\",\"Willits\",\"Faribault\",\"Hillside\",\"Hanford\",\"Jersey City\",\"Overland Park\",\"Coos Bay\",\"Laguna Hills\",\"Annapolis\",\"Canton\",\"Galt\",\"Inver Grove Heights\",\"Willow Grove\",\"South San Francisco\",\"Glen Burnie\",\"Clifton\",\"Camden\",\"Ripon\",\"Mount Vernon\",\"Orinda\",\"Hanover\",\"Clackamas\",\"Fillmore\",\"Alamo\",\"Government Camp\",\"Bonita Springs\",\"Clinton\",\"Myrtle Creek\",\"Carrollton\",\"Layton\",\"Lincoln\",\"Daly City\",\"Williamsport\",\"Aptos\",\"Augusta\",\"Porter Ranch\",\"Des Plaines\",\"Patterson\",\"Schenectady\",\"Leesburg\",\"Eagle Point\",\"West Columbia\",\"Boston\",\"Johnstown\",\"Shakopee\",\"Downingtown\",\"Forest Park\",\"Larkspur\",\"Charlottesville\",\"San Luis Obispo\",\"Kent\",\"Studio City\",\"Largo\",\"Tehachapi\",\"Golden\",\"San Bruno\",\"East Orange\",\"Maupin\",\"Albuquerque\",\"Hastings\",\"Owatonna\",\"North Little Rock\",\"Plant City\",\"Lehigh Acres\",\"Morgan Hill\",\"Lutz\",\"Reno\",\"Cloverdale\",\"Duarte\",\"Oakridge\",\"El Dorado Hills\",\"Vancouver\",\"Littleton\",\"Lost Hills\",\"Atwater\",\"Fort Washington\",\"Meriden\",\"Valley Village\",\"Hudson\",\"Orem\",\"Truckee\",\"Orange Park\",\"Sonoma\",\"Southfield\",\"Hermiston\",\"Downers Grove\",\"Warrenton\",\"Highland\",\"Brewster\",\"Ceres\",\"Lansdale\",\"Hood River\",\"Gold Hill\",\"Woodbury\",\"Wesley Chapel\",\"Chatsworth\",\"Saint Augustine\",\"Oak Brook\",\"Mundelein\",\"Sausalito\",\"Vienna\",\"Williamsburg\",\"Citrus Heights\",\"Pueblo\",\"Summerville\",\"Dumfries\",\"Hillsboro\",\"Ukiah\",\"North Salt Lake\",\"Morgan\",\"Sanford\",\"Grand Prairie\",\"Coatesville\",\"Bedford\",\"March Air Reserve Base\",\"Savannah\",\"Webster\",\"Santa Clara\",\"North Powder\",\"Malibu\",\"Plymouth\",\"Greenbelt\",\"Carmel\",\"Cocoa\",\"Otis\",\"Warren\",\"Gary\",\"Knightdale\",\"West Linn\",\"Pleasant Hill\",\"Allentown\",\"Lakeview\",\"Huntingdon Valley\",\"Sheridan\",\"Kearny\",\"Annandale\",\"Ann Arbor\",\"Byron\",\"Cutler Bay\",\"Kingsburg\",\"Lakeland\",\"Mount Laurel\",\"Capitol Heights\",\"Woodside\",\"Rocklin\",\"Chowchilla\",\"Brighton\",\"Quincy\",\"Kaysville\",\"Metairie\",\"Beltsville\",\"West Hartford\",\"Oakdale\",\"Grand Terrace\",\"Apopka\",\"Lompoc\",\"Orangevale\",\"Delano\",\"North Fort Myers\",\"Davenport\",\"Edison\",\"Elkton\",\"Hixson\",\"Monroe\",\"Sonora\",\"Taylors\",\"Newberg\",\"Denton\",\"King of Prussia\",\"Lynnwood\",\"Port Saint Lucie\",\"Linthicum Heights\",\"Camp Pendleton\",\"Olivehurst\",\"Lombard\",\"Albert Lea\",\"Boiling Springs\",\"Hammond\",\"Sandston\",\"Weston\",\"Fayetteville\",\"Hurricane\",\"Exton\",\"Stamford\",\"Roanoke\",\"Los Alamitos\",\"Roy\",\"Cardiff By the Sea\",\"Suffolk\",\"Salida\",\"Norcross\",\"Agoura Hills\",\"Greenwood\",\"Germantown\",\"Nevada City\",\"Ambler\",\"Westlake Village\",\"Clovis\",\"Lanham\",\"French Camp\",\"Chesterfield\",\"Lakeville\",\"Sanger\",\"Cherry Hill\",\"Folsom\",\"Shawnee\",\"Apex\",\"Pinole\",\"Rosamond\",\"Red Bluff\",\"Warwick\",\"Orangeburg\",\"Norco\",\"Livingston\",\"Easley\",\"Panama City\",\"Eureka\",\"Fort Pierce\",\"Palm Beach Gardens\",\"Peoria\",\"Easton\",\"Wilsonville\",\"Fowler\",\"Newbury Park\",\"Oakland Gardens\",\"Olathe\",\"San Juan Bautista\",\"Corvallis\",\"Latham\",\"American Canyon\",\"Mill Valley\",\"Wadsworth\",\"Clatskanie\",\"Fairview\",\"Winter Garden\",\"San Gabriel\",\"Stratford\",\"Calistoga\",\"Mojave\",\"North Bend\",\"Tarzana\",\"Maspeth\",\"Soda Springs\",\"Riverdale\",\"Porterville\",\"Suitland\",\"North Wales\",\"Wildwood\",\"Richfield\",\"Payson\",\"Oxon Hill\",\"Northfield\",\"Rio Linda\",\"Naples\",\"Altoona\",\"Del Mar\",\"Lawndale\",\"Huntington Park\",\"Belmont\",\"Temple Hills\",\"Bel Air\",\"Clifton Park\",\"Barstow\",\"New Rochelle\",\"Huntington Beach\",\"Bala Cynwyd\",\"Chula Vista\",\"Doral\",\"Chantilly\",\"Nephi\",\"Malvern\",\"Mechanicsville\",\"Paso Robles\",\"Gustine\",\"Huntersville\",\"Marion\",\"Santa Paula\",\"Brookings\",\"Fort Walton Beach\",\"Dania\",\"Castroville\",\"John Day\",\"Oxford\",\"Prineville\",\"Plymouth Meeting\",\"Avondale\",\"Ellicott City\",\"Ephrata\",\"Staunton\",\"Williams\",\"Smyrna\",\"Stockbridge\",\"Bothell\",\"Buffalo Grove\",\"Darien\",\"Lees Summit\",\"Coquille\",\"Garland\",\"Gilchrist\",\"Altamonte Springs\",\"Holland\",\"Crescent City\",\"Saint Clair Shores\",\"Wyoming\",\"Sterling\",\"Plano\",\"Riverton\",\"White Plains\",\"Burlingame\",\"Shingle Springs\",\"Happy Valley\",\"Jamestown\",\"Burlington\",\"Port Allen\",\"Zion\",\"Madison Heights\",\"Lake Villa\",\"Coarsegold\",\"Brandywine\",\"Nampa\",\"Rainier\",\"North Branch\",\"Miamisburg\",\"Little Falls\",\"Paterson\",\"Burns\",\"Round Lake\",\"Broomfield\",\"Chemult\",\"Springville\",\"Colfax\",\"Rock Hill\",\"Half Moon Bay\",\"Colonial Heights\",\"Isleton\",\"Chevy Chase\",\"Laguna Niguel\",\"Parsippany\",\"Ooltewah\",\"Centerville\",\"Wethersfield\",\"Parkville\",\"Coalinga\",\"Reading\",\"Liberty\",\"Aiken\",\"Franklin\",\"Cambridge\",\"Hermitage\",\"Palm City\",\"Bethlehem\",\"Olympia\",\"Secaucus\",\"Grand Blanc\",\"Wake Forest\",\"Ellendale\",\"Lithonia\",\"Running Springs\",\"Damascus\",\"Merritt Island\",\"Seffner\",\"Menlo Park\",\"Carpinteria\",\"Mc Farland\",\"Seneca\",\"Aberdeen\",\"Reedsport\",\"Snowville\",\"San Fernando\",\"Manheim\",\"Carlisle\",\"Lisle\",\"Roosevelt\",\"Yuba City\",\"Idleyld Park\",\"Brigham City\",\"Vale\",\"Nipomo\",\"Nanuet\",\"Danbury\",\"Lake Mary\",\"Arvin\",\"Goodyear\",\"Elkridge\",\"Sumter\",\"Wilton\",\"Cedar Rapids\",\"Horsham\",\"La Verne\",\"Vida\",\"San Ramon\",\"Creswell\",\"Clarkston\",\"Dorchester\",\"Wayne\",\"Buchanan\",\"Royal Oak\",\"Acampo\",\"North Charleston\",\"Commerce City\",\"Elizabeth\",\"Bozeman\",\"Brooksville\",\"Spokane\",\"Abingdon\",\"Benicia\",\"Elkins Park\",\"South Lake Tahoe\",\"Livonia\",\"Federal Way\",\"District Heights\",\"Forest Hills\",\"Saginaw\",\"Grand Ronde\",\"Chino Hills\",\"Zebulon\",\"Valley Stream\",\"Joppa\",\"Cottonwood\",\"Wichita\",\"Gulf Breeze\",\"Circle Pines\",\"Fresh Meadows\",\"Pinellas Park\",\"Longwood\",\"La Jolla\",\"Liverpool\",\"Arroyo Grande\",\"La Crescenta\",\"Monterey\",\"Bristol\",\"Harleysville\",\"Merrick\",\"Erie\",\"Harrison\",\"Millersville\",\"Monument\",\"Bowie\",\"Addison\",\"Bloomfield\",\"Henderson\",\"Susanville\",\"Conyers\",\"Plainville\",\"Culver\",\"Cannon Falls\",\"Oak Park\",\"Burton\",\"Parker\",\"Hopewell Junction\",\"Miami Lakes\",\"Portage\",\"Wantagh\",\"Nyack\",\"Warrenville\",\"Lewisville\",\"Inman\",\"Land O Lakes\",\"Cranston\",\"Billings\",\"Kalispell\",\"Irmo\",\"Moorpark\",\"Lowell\",\"Georgetown\",\"Clarksburg\",\"Pflugerville\",\"Marshall\",\"Collegeville\",\"Sauk Centre\",\"Woodford\",\"Spring Hill\",\"Jenkintown\",\"Saint George\",\"Artesia\",\"Troutdale\",\"Brainerd\",\"San Carlos\",\"Bridgeton\",\"Clermont\",\"Goodlettsville\",\"Bordentown\",\"Estero\",\"Matthews\",\"Exeter\",\"Dearborn\",\"Woodstock\",\"Paramus\",\"Flagstaff\",\"Lemoore\",\"Niles\",\"Thousand Oaks\",\"Fenton\",\"Abington\",\"Massapequa\",\"Norden\",\"East Syracuse\",\"Sisters\",\"Bonsall\",\"Meacham\",\"Benton\",\"Duncan\",\"Chaska\",\"Carlton\",\"Campbell\",\"Saint Peter\",\"Clayton\",\"Romulus\",\"Lawrence Township\",\"Corning\",\"Elmsford\",\"North Port\",\"Gibsonton\",\"Grove City\",\"East Brunswick\",\"Willowbrook\",\"Gilbert\",\"Nashua\",\"Royersford\",\"Scotts Valley\",\"Firebaugh\",\"Lake Oswego\",\"Mount Airy\",\"Bensalem\",\"Surprise\",\"Holly Springs\",\"Caldwell\",\"Punta Gorda\",\"Greenfield\",\"Freeport\",\"Soquel\",\"Del Valle\",\"Manor\",\"Wilderville\",\"Cantonment\",\"Crescent\",\"Mendota\",\"Hugo\",\"Navarre\",\"Bay Shore\",\"Sparks\",\"Mcminnville\",\"Darlington\",\"Ruskin\",\"Beacon\",\"Delhi\",\"Glenside\",\"Richardson\",\"Hanover Park\",\"Valyermo\",\"Nottingham\",\"Waldorf\",\"Earlimart\",\"Hopland\",\"McMinnville\",\"Estacada\",\"West Chicago\",\"Maricopa\",\"Blackwood\",\"Miami Beach\",\"Umatilla\",\"Roslyn Heights\",\"Woods Cross\",\"Little Neck\",\"Felton\",\"Royal Oaks\",\"Sebastopol\",\"Grantsville\",\"Fountain\",\"City Of Industry\",\"Fort Collins\",\"Loveland\",\"Kirkland\",\"Cranford\",\"North Chicago\",\"Hattiesburg\",\"Dundee\",\"Gaston\",\"Pawtucket\",\"Jupiter\",\"Rush City\",\"Lake Station\",\"Bemidji\",\"Naperville\",\"Brothers\",\"Sunnyvale\",\"San Pedro\",\"Boardman\",\"El Sobrante\",\"Mapleton\",\"Wauconda\",\"Ballston Spa\",\"South Saint Paul\",\"Wheaton\",\"Wildomar\",\"Harrisonburg\",\"Kennesaw\",\"Rome\",\"Portsmouth\",\"Irrigon\",\"Gervais\",\"Hobe Sound\",\"Montrose\",\"Camp Sherman\",\"Janesville\",\"Huntington Station\",\"South Ozone Park\",\"Seminole\",\"Clio\",\"Richland\",\"Puyallup\",\"Valley Springs\",\"Clarksville\",\"Hazel Park\",\"Belleville\",\"Bellingham\",\"Statesville\",\"Toms River\",\"Carol Stream\",\"Gloucester City\",\"Silver Lake\",\"Plainfield\",\"Echo\",\"Granite Bay\",\"Spring\",\"Port Richey\",\"Rio Vista\",\"Green River\",\"Davison\",\"Drain\",\"Ft Mitchell\",\"Cave Junction\",\"Alta\",\"Hercules\",\"Missoula\",\"Huron\",\"Vernon Hills\",\"Live Oak\",\"Round Rock\",\"Neskowin\",\"Ojai\",\"King City\",\"Bishop\",\"Belton\",\"Jericho\",\"Caliente\",\"Villa Park\",\"Trinidad\",\"Littlerock\",\"Spring Valley\",\"Helper\",\"Anoka\",\"Maitland\",\"Walton\",\"Brookfield\",\"Mount Pleasant\",\"King Of Prussia\",\"Ruther Glen\",\"Avon\",\"Cromwell\",\"Mariposa\",\"North Bergen\",\"Atascadero\",\"Jessup\",\"Humble\",\"Northport\",\"Oakhurst\",\"Boulder Creek\",\"Newcastle\",\"Cicero\",\"Bandon\",\"Northbrook\",\"Zumbrota\",\"Triangle\",\"Tucker\",\"Taylor\",\"Palm Coast\",\"Molalla\",\"Nehalem\",\"Tangent\",\"Salisbury\",\"Pasadena\",\"Dade City\",\"Pine City\",\"Mountain View\",\"Powell Butte\",\"Verona\",\"Teaneck\",\"Beaver\",\"Ypsilanti\",\"Walterboro\",\"Little River\",\"Dillon\",\"Soledad\",\"Commerce\",\"Prospect\",\"Iselin\",\"Watervliet\",\"Lakeport\",\"Cortlandt Manor\",\"McDonough\",\"Ellenton\",\"Fairmont\",\"Waldport\",\"Ladera Ranch\",\"Stillwater\",\"South Amboy\",\"Somerset\",\"Katonah\",\"Walterville\",\"Somis\",\"Winona\",\"Penfield\",\"Cottondale\",\"Hendersonville\",\"Daphne\",\"Palmetto Bay\",\"Silverton\",\"Fort Wayne\",\"Adel\",\"Phoenixville\",\"Thompson\",\"Woodridge\",\"Trumbull\",\"El Segundo\",\"Baltimore\",\"Aventura\",\"Stayton\",\"Saratoga Springs\",\"Berwyn\",\"Austell\",\"West Harrison\",\"Mentone\",\"Nuevo\",\"Dexter\",\"Bronxville\",\"Whitestone\",\"Tarpon Springs\",\"Newburgh\",\"Summerfield\",\"Ocoee\",\"Bay City\",\"Harbor City\",\"Daytona Beach\",\"Pineville\",\"Tonawanda\",\"Yorktown Heights\",\"Jasper\",\"Lithia Springs\",\"Wayzata\",\"Paragonah\",\"Rego Park\",\"Yoncalla\",\"Sun City\",\"Melville\",\"Montgomeryville\",\"Vail\",\"Pioneer\",\"Lyons\",\"Sauk Rapids\",\"Erlanger\",\"Gretna\",\"Bartlett\",\"Ridgefield\",\"Mitchell\",\"Yorba Linda\",\"Old Westbury\",\"Crockett\",\"Rockledge\",\"Port Orford\",\"Westbury\",\"Kerman\",\"Sioux Falls\",\"Yreka\",\"Glen Ellyn\",\"Garden City\",\"College Park\",\"Enterprise\",\"Holiday\",\"Redondo Beach\",\"Millbrae\",\"La Palma\",\"Mount Morris\",\"Clearlake Oaks\",\"Sutherlin\",\"Merrimack\",\"Myrtle Point\",\"Murfreesboro\",\"South Miami\",\"Santa Margarita\",\"White City\",\"Gold Beach\",\"Talent\",\"Hatboro\",\"Gonzales\",\"New Albany\",\"Long Island City\",\"Canby\",\"Placentia\",\"Capitola\",\"Novi\",\"Waynesville\",\"Mount Shasta\",\"Elmwood Park\",\"Arvada\",\"Saint Helena\",\"Blue Bell\",\"Banks\",\"Long Creek\",\"Reedley\",\"Clark\",\"Morgantown\",\"Junction City\",\"Waterford\",\"Clanton\",\"Tarrytown\",\"Willard\",\"Deerfield\",\"Pleasant Grove\",\"Deland\",\"Orland\",\"Travelers Rest\",\"Milton Freewater\",\"Fort Bragg\",\"Caledonia\",\"New London\",\"Westfir\",\"Oviedo\",\"Vernon\",\"Council Bluffs\",\"Ingleside\",\"Jordan\",\"Healdsburg\",\"Lower Lake\",\"Branford\",\"Wimauma\",\"Wallowa\",\"Morristown\",\"Aromas\",\"Rosemount\",\"Escalon\",\"Scarsdale\",\"Blythewood\",\"Manhasset\",\"Wendover\",\"Hinsdale\",\"Whitehall\",\"Kelseyville\",\"Londonderry\",\"Longmont\",\"Merrillville\",\"Rodeo\",\"Quantico\",\"Wyncote\",\"Hurst\",\"Andover\",\"West Nyack\",\"Defuniak Springs\",\"Ormond Beach\",\"Ione\",\"Buxton\",\"West Hempstead\",\"Willows\",\"Big Sur\",\"Bloomingdale\",\"Pismo Beach\",\"Savage\",\"Sebring\",\"Montague\",\"Bellefonte\",\"Buttonwillow\",\"Stevensville\",\"Newport Beach\",\"Weed\",\"Marina\",\"Forest Grove\",\"Wytheville\",\"Hamburg\",\"Tahoe City\",\"Brockport\",\"Clinton Township\",\"Hinckley\",\"Wheat Ridge\",\"Saddle Brook\",\"Tolleson\",\"Hubbard\",\"Hightstown\",\"Polk City\",\"Moss Landing\",\"Great Neck\",\"Stevenson Ranch\",\"Lamont\",\"Scappoose\",\"Kingston\",\"Beaufort\",\"Cowpens\",\"Pixley\",\"Rocky Hill\",\"Issaquah\",\"Snohomish\",\"Bonanza\",\"Buckeye\",\"Okeechobee\",\"Mooresville\",\"Boring\",\"Johnston\",\"Lititz\",\"East Rutherford\",\"Kennett Square\",\"Loris\",\"Hauppauge\",\"Marcus Hook\",\"Plainview\",\"Oak Creek\",\"East Elmhurst\",\"Glide\",\"Timmonsville\",\"Gig Harbor\",\"Marianna\",\"Hemet\",\"Urbandale\",\"Bolingbrook\",\"Cedar Valley\",\"Silver Plume\",\"Moncks Corner\",\"Idanha\",\"Shelton\",\"Panguitch\",\"Schaumburg\",\"Blythe\",\"Saratoga\",\"Pacifica\",\"Cumberland\",\"Roselle\",\"Lugoff\",\"Arden\",\"Dunn\",\"Thornton\",\"Leawood\",\"Maywood\",\"Perryville\",\"Clover\",\"Palm Bay\",\"Mount Holly\",\"Wofford Heights\",\"Halsey\",\"Floriston\",\"Corte Madera\",\"Upper Lake\",\"Telford\",\"Hempstead\",\"Edmond\",\"Great Falls\",\"Rensselaer\",\"Edwards\",\"Wendell\",\"Joliet\",\"Berlin\",\"Mount Kisco\",\"Worthington\",\"Ridgewood\",\"Ladson\",\"McArthur\",\"Helena\",\"Newnan\",\"Forsyth\",\"Eagle\",\"Thomasville\",\"Parkton\",\"Wells\",\"Lawrenceville\",\"Grandview\",\"South Charleston\",\"Ridgefield Park\",\"Blue Springs\",\"Arlington Heights\",\"Hibbing\",\"Bay Point\",\"Pollock Pines\",\"Ridgecrest\",\"Wallingford\",\"Spencerport\",\"Claymont\",\"West Babylon\",\"Mechanicsburg\",\"Whitsett\",\"Macclenny\",\"Vero Beach\",\"Suwanee\",\"Max Meadows\",\"Stanfield\",\"Gates\",\"Neptune\",\"Weehawken\",\"Elizabethtown\",\"Gladstone\",\"Bear\",\"Kalamazoo\",\"Crescent Lake\",\"Kernersville\",\"Blue Lake\",\"Skokie\",\"Chanhassen\",\"Palatine\",\"Loomis\",\"Westchester\",\"Edgewood\",\"Mayer\",\"Glencoe\",\"Dos Palos\",\"Crawfordville\",\"Arnold\",\"Midland\",\"Markleeville\",\"Lake Worth Beach\",\"West des Moines\",\"Terrebonne\",\"Pilot Rock\",\"Gresham\",\"Fairplay\",\"Mount Hood Parkdale\",\"Farmingdale\",\"Dinuba\",\"Longs\",\"Lincolnshire\",\"Bridgewater\",\"Panama City Beach\",\"Wheatland\",\"Mountlake Terrace\",\"Stuart\",\"Long Grove\",\"Rickreall\",\"Cotati\",\"Keasbey\",\"Harper Woods\",\"Arcata\",\"Lake George\",\"Mosier\",\"Tinley Park\",\"Alpharetta\",\"Lindsay\",\"Hazelwood\",\"Benson\",\"Virginia\",\"Pelham\",\"Titusville\",\"Reston\",\"Chambersburg\",\"Greensburg\",\"Brunswick\",\"Pala\",\"Bremerton\",\"Hoffman Estates\",\"Athens\",\"Marlton\",\"New Ulm\",\"Hatfield\",\"Ridgeville\",\"American Fork\",\"Cheshire\",\"South Pasadena\",\"Morrow\",\"Yachats\",\"Juntura\",\"Seaford\",\"East Providence\",\"Parrish\",\"Feasterville Trevose\",\"Bensenville\",\"Grapevine\",\"Llano\",\"Kettleman City\",\"Newman\",\"Reisterstown\",\"New Britain\",\"Sterling Heights\",\"Colusa\",\"Osakis\",\"Templeton\",\"Posen\",\"Bayside\",\"Temple\",\"Gardiner\",\"Spring Grove\",\"Monroe Township\",\"North East\",\"State College\",\"Pembroke Pines\",\"Narberth\",\"Fletcher\",\"Santaquin\",\"South Holland\",\"Pelzer\",\"Hamilton\",\"Swedesboro\",\"Villa Rica\",\"Hackensack\",\"Nokomis\",\"Dillsburg\",\"Hooksett\",\"Willamina\",\"Coeur D Alene\",\"Schiller Park\",\"Coleville\",\"Solana Beach\",\"Willmar\",\"Fountain Inn\",\"Noti\",\"Mckinleyville\",\"Bountiful\",\"Port Chester\",\"Quinton\",\"Griffin\",\"Seymour\",\"Ijamsville\",\"Wharton\",\"Boulder\",\"Shaniko\",\"Capistrano Beach\",\"Hartsville\",\"Midway\",\"Lake Isabella\",\"Iowa City\",\"Egg Harbor Township\",\"North Augusta\",\"Blue Earth\",\"Yulee\",\"Prairie City\",\"Dinwiddie\",\"Clyde\",\"Detroit Lakes\",\"Gansevoort\",\"Wellford\",\"Millville\",\"Rocky Mount\",\"Herndon\",\"Eveleth\",\"Stacy\",\"Dalton\",\"Paradise\",\"Naselle\",\"Willow Creek\",\"Commack\",\"Lewistown\",\"Bedminster\",\"Pittsford\",\"Fairport\",\"Justice\",\"San Martin\",\"Melrose\",\"Cordova\",\"Leeds\",\"Clear Lake\",\"Pleasantville\",\"Three Rivers\",\"Keene\",\"Waynesboro\",\"Azalea\",\"Victor\",\"Red Wing\",\"Southbury\",\"Lake Crystal\",\"Needles\",\"Laurens\",\"Odessa\",\"Rancho Santa Fe\",\"Salina\",\"Dunn Loring\",\"Depoe Bay\",\"Deltona\",\"Randolph\",\"Christiansburg\",\"Grandville\",\"Severn\",\"Marriottsville\",\"Methuen\",\"Gasquet\",\"Sebastian\",\"Lenhartsville\",\"Battle Creek\",\"Cabin John\",\"Shandon\",\"Mamaroneck\",\"Gastonia\",\"Shaver Lake\",\"Allen Park\",\"Scottsburg\",\"Churchville\",\"Hebron\",\"Stone Mountain\",\"Williamston\",\"Taft\",\"Angels Camp\",\"Jonestown\",\"Perry Hall\",\"Winton\",\"Aitkin\",\"Eyota\",\"Vernonia\",\"Stewartville\",\"Gilbertsville\",\"Doswell\",\"Pine Grove\",\"Litchfield\",\"Martinsburg\",\"Zionsville\",\"Amity\",\"Guerneville\",\"Ossining\",\"Rohnert Park\",\"Balch Springs\",\"Sunny Isles Beach\",\"Scio\",\"Ridgeland\",\"East Saint Louis\",\"Homeland\",\"Lincoln City\",\"Idaho Falls\",\"Lewiston\",\"Crestview\",\"Morrison\",\"Lake Bluff\",\"Inwood\",\"Sewickley\",\"Hardeeville\",\"Bow\",\"New Brunswick\",\"Red Lion\",\"Essex\",\"Rancho Santa Margarita\",\"Baker\",\"Heppner\",\"Howard Beach\",\"Bloomsburg\",\"Chesnee\",\"Buford\",\"Westerville\",\"Foley\",\"Brick\",\"Suffern\",\"Frisco\",\"Bessemer\",\"Saint Joseph\",\"Nicasio\",\"Platteville\",\"Fairfax Station\",\"Eagle Creek\",\"Camp Hill\",\"Binghamton\",\"Mammoth Lakes\",\"Newton\",\"Crows Landing\",\"Conley\",\"Groveland\",\"New Braunfels\",\"Quakertown\",\"Shingletown\",\"Warm Springs\",\"Grantville\",\"Taylorsville\",\"Brisbane\",\"West Orange\",\"Tipton\",\"Garrison\",\"Rutherford\",\"Vernal\",\"Markham\",\"Evansville\",\"Cupertino\",\"Merchantville\",\"Du Bois\",\"Rockwall\",\"Chapin\",\"Mansfield\",\"Camas Valley\",\"San Ardo\",\"Alsip\",\"Zephyrhills\",\"Alachua\",\"Doyle\",\"Arbuckle\",\"Moore\",\"Eatontown\",\"Holbrook\",\"Rolling Meadows\",\"Wynnewood\",\"New Paltz\",\"Echo Lake\",\"Pulaski\",\"Wappingers Falls\",\"Santa Ynez\",\"Queens Village\",\"Scarborough\",\"Gordonsville\",\"Stroudsburg\",\"Elverta\",\"High Point\",\"Haines\",\"Davidsonville\",\"Signal Hill\",\"Springville-Mapleton\",\"Harrison Township\",\"Wheeling\",\"Ashburn\",\"North Haven\",\"Lemoyne\",\"Mercer Island\",\"Sunland\",\"Lucerne\",\"Sykesville\",\"New Market\",\"Laytonville\",\"Grand Island\",\"Duchesne\",\"Waterloo\",\"Enfield\",\"Rockford\",\"Seal Rock\",\"Bridgeville\",\"Locust Grove\",\"Jonesboro\",\"Fishkill\",\"Zachary\",\"Islandia\",\"Graniteville\",\"Louisa\",\"Evergreen\",\"Bellerose\",\"Hamtramck\",\"Mt Baldy\",\"Bayonne\",\"Graham\",\"Muncy\",\"Veneta\",\"Roswell\",\"Champlin\",\"Mantua\",\"Goose Creek\",\"Katy\",\"Lagrangeville\",\"Riddle\",\"Southaven\",\"Middleburg\",\"New Harmony\",\"Laveen\",\"West Memphis\",\"Osprey\",\"Glenwood Springs\",\"Black Canyon City\",\"Joelton\",\"Avenal\",\"Smithfield\",\"Souderton\",\"Cornelius\",\"Pacific\",\"Canyonville\",\"Hammonton\",\"Milaca\",\"Winfield\",\"Cambria Heights\",\"Yukon\",\"Yamhill\",\"Belle Plaine\",\"Youngstown\",\"Whites Creek\",\"Ronkonkoma\",\"Woodbine\",\"Malta\",\"Sewell\",\"Lakefield\",\"Coral Gables\",\"Laporte\",\"Marina Del Rey\",\"Dakota\",\"Yucaipa\",\"Harper\",\"Hines\",\"Belgrade\",\"Pickens\",\"Roebuck\",\"Bellmore\",\"Batavia\",\"Reddick\",\"Perth Amboy\",\"Breaux Bridge\",\"Maryland Heights\",\"Onamia\",\"Trail\",\"Ardmore\",\"Winters\",\"Scranton\",\"Glenmoore\",\"West Haven\",\"New Cumberland\",\"Monmouth\",\"Hughson\",\"Lockport\",\"Holmdel\",\"Glendale Heights\",\"Marana\",\"Windom\",\"Elko New Market\",\"Shedd\",\"Townsend\",\"Kerby\",\"Putnam Valley\",\"Malverne\",\"East Haven\",\"Moro\",\"Keno\",\"Bella Vista\",\"Hilmar\",\"Aumsville\",\"Hillsville\",\"Discovery Bay\",\"Prattville\",\"Tanner\",\"Duncanville\",\"Las Vegas\",\"Warner\",\"Wilson\",\"Wellington\",\"Murrells Inlet\",\"Sioux City\",\"Howell\",\"Beach Park\",\"Oneonta\",\"Pocatello\",\"Catskill\",\"Southport\",\"Uniondale\",\"Casselberry\",\"Stoughton\",\"Carnegie\",\"Park City\",\"Port Charlotte\",\"Usaf Academy\",\"Saugerties\",\"Apollo Beach\",\"Keswick\",\"Somers\",\"Kenosha\",\"Waukesha\",\"Euless\",\"Old Hickory\",\"Moab\",\"Saint Peters\",\"Rockaway Beach\",\"Kyburz\",\"Lanexa\",\"East Meadow\",\"Elk Grove Village\",\"Cascade\",\"Leesville\",\"Morrisdale\",\"Itasca\",\"Haymarket\",\"Blodgett\",\"Lynchburg\",\"Loma Linda\",\"Crestline\",\"Sandstone\",\"Pico Rivera\",\"Butte\",\"Glenville\",\"Burney\",\"Lewisburg\",\"Sloughhouse\",\"North Babylon\",\"Kenilworth\",\"Lindenhurst\",\"Hoopa\",\"Gap\",\"New Hartford\",\"Harris\",\"Melrose Park\",\"Topanga\",\"South Chesterfield\",\"Wilkes Barre\",\"Hutchinson\",\"Corcoran\",\"Metuchen\",\"Auburn Hills\",\"Perry\",\"Lake Elmo\",\"Godwin\",\"Manning\",\"Parkesburg\",\"Sumner\",\"Timber\",\"Glen Rock\",\"Benton Harbor\",\"King George\",\"Summit\",\"Adams\",\"Phelps\",\"Acworth\",\"Bluffton\",\"Saint Matthews\",\"Calimesa\",\"Bossier City\",\"Whitefish\",\"Woodlyn\",\"Winnsboro\",\"Ridley Park\",\"Effingham\",\"Martinsville\",\"Crawfordsville\",\"Aston\",\"LA Place\",\"Syosset\",\"Bennettsville\",\"Montevideo\",\"Gulfport\",\"Selkirk\",\"Hazel Crest\",\"Brownton\",\"Raphine\",\"Appleton\",\"Willow River\",\"Raymond\",\"Harvey\",\"Gotha\",\"Richmond Hill\",\"Kensington\",\"Chipley\",\"Sunbury\",\"Saint Rose\",\"Kingwood\",\"Braintree\",\"Sturtevant\",\"Southington\",\"Pennsauken\",\"Delta\",\"Queenstown\",\"Cutler\",\"Douglasville\",\"Lincoln Park\",\"Deer Park\",\"Monroeville\",\"Waterville\",\"Williston\",\"Conroe\",\"Bridgeview\",\"Price\",\"Strasburg\",\"Lakehead\",\"Ballston Lake\",\"Mount Crawford\",\"Cheltenham\",\"Winston\",\"Whitmore Lake\",\"Greenwell Springs\",\"Silver Springs\",\"La Mirada\",\"Clarks Grove\",\"Guild\",\"Sedona\",\"Le Sueur\",\"Westfield\",\"New Stanton\",\"Ebensburg\",\"Dunedin\",\"East Greenwich\",\"Greenbrae\",\"Lee Vining\",\"Potomac\",\"San Andreas\",\"Bodega Bay\",\"Cloquet\",\"Annville\",\"Prairieville\",\"Caruthers\",\"Chelsea\",\"Adrian\",\"Carmel Valley\",\"New Kent\",\"Saint Regis\",\"Bryn Mawr\",\"Christmas\",\"Kimball\",\"Dresher\",\"Crozet\",\"Excelsior\",\"Rockwood\",\"Canyon City\",\"Jenner\",\"Lafayette Hill\",\"Essington\",\"Halfmoon\",\"Coopersburg\",\"Swansea\",\"Afton\",\"Westville\",\"Worcester\",\"Green Bay\",\"Mineral\",\"Springfield Gardens\",\"Myers Flat\",\"Perrysburg\",\"Port Townsend\",\"Troutville\",\"Derwood\",\"Framingham\",\"Corfu\",\"Lake Arrowhead\",\"Immokalee\",\"Mocksville\",\"Havre de Grace\",\"Woodruff\",\"Purcellville\",\"Totowa\",\"Johnsonville\",\"Waxahachie\",\"Windermere\",\"Friant\",\"El Dorado\",\"Monmouth Junction\",\"Cold Spring\",\"Buda\",\"Front Royal\",\"Mims\",\"Schwenksville\",\"Orosi\",\"Philomath\",\"North Brunswick\",\"Dunnellon\",\"Fox Lake\",\"Sublimity\",\"Sherburn\",\"Frankfort\",\"Dufur\",\"Dunkirk\",\"Courtland\",\"Fishers\",\"Zimmerman\",\"Holt\",\"Peekskill\",\"Rhinebeck\",\"Hebo\",\"Kingman\",\"Swartz Creek\",\"Hopkinton\",\"Schertz\",\"San Ysidro\",\"Sweet Home\",\"Falmouth\",\"Breezewood\",\"Inyokern\",\"Shafter\",\"Fortuna\",\"Piscataway\",\"Vance\",\"Weyers Cave\",\"Hobart\",\"Mc Calla\",\"Allen\",\"Greencastle\",\"Hornbrook\",\"Vernon Rockville\",\"Penn Valley\",\"Cool\",\"Oak View\",\"Deming\",\"Westmont\",\"Channahon\",\"Red Bank\",\"Clear Spring\",\"Ellenwood\",\"Sutter Creek\",\"Ben Lomond\",\"Mill Creek\",\"Yorktown\",\"Kings Beach\",\"Alsea\",\"Candler\",\"Canterbury\",\"Dumont\",\"Langhorne\",\"Kenner\",\"Suisun City\",\"Le Roy\",\"Lamar\",\"Amsterdam\",\"Tidewater\",\"Dodge Center\",\"Jerome\",\"Cullman\",\"Terra Bella\",\"Windham\",\"Barnum\",\"Springdale\",\"Mason\",\"Hilliard\",\"Newtown\",\"Byron Center\",\"Mount Jackson\",\"Henrietta\",\"Prather\",\"Sleepy Eye\",\"Baldwinsville\",\"Port Huron\",\"Hudsonville\",\"Myakka City\",\"Sturbridge\",\"Philipsburg\",\"Loleta\",\"Grand Haven\",\"Foster\",\"Milan\",\"Tyrone\",\"Hancock\",\"Fairburn\",\"Wexford\",\"Staples\",\"Greeley\",\"Ringgold\",\"Smithtown\",\"Goshen\",\"Gridley\",\"Lindon\",\"Orick\",\"Stevinson\",\"Delaware\",\"Dunnigan\",\"Norwich\",\"Belle Vernon\",\"Carson City\",\"Old Bridge\",\"Old Station\",\"Riley\",\"Beech Island\",\"Highland Falls\",\"Jersey Shore\",\"Flagler Beach\",\"Lockeford\",\"Bangor\",\"Barnesville\",\"Strathmore\",\"Brook Park\",\"Moose Lake\",\"Bishopville\",\"Motley\",\"Gales Creek\",\"Spanaway\",\"Eden\",\"Duncansville\",\"Armonk\",\"Morganton\",\"Bowman\",\"Elyria\",\"Spray\",\"Kutztown\",\"Camino\",\"Natural Bridge\",\"Queensbury\",\"O Fallon\",\"Somerville\",\"Chatfield\",\"June Lake\",\"Palatka\",\"Lake Stevens\",\"Murphys\",\"Mountain Home\",\"Sun City Center\",\"Cartersville\",\"Whitesboro\",\"Superior\",\"New Windsor\",\"Braselton\",\"Mona\",\"Saint Helens\",\"Central\",\"La Honda\",\"Bushnell\",\"Becker\",\"Saint Johns\",\"Amityville\",\"Wixom\",\"Ridgeway\",\"Waco\",\"Ocean City\",\"Loganton\",\"Hawaiian Gardens\",\"Park Rapids\",\"Latta\",\"Saco\",\"Vernalis\",\"Finlayson\",\"Bethel\",\"Revere\",\"Waltham\",\"Beachwood\",\"Gladwyne\",\"Bradley\",\"West Point\",\"Grand Ledge\",\"McKinleyville\",\"North Salem\",\"Lyman\",\"Florissant\",\"Aliso Viejo\",\"Dolton\",\"Granite Falls\",\"Fairdale\",\"Maple Shade\",\"Cameron Park\",\"Oceano\",\"Ochopee\",\"Leola\",\"Red Hook\",\"New Hill\",\"Brookhaven\",\"Marrero\",\"Cohoes\",\"Broomall\",\"Friendswood\",\"Goodrich\",\"Providence Forge\",\"Charlestown\",\"Deer River\",\"Albion\",\"Lake Havasu City\",\"Vineland\",\"Edinburg\",\"Denham Springs\",\"Spring Mills\",\"Petersburg\",\"Mount Joy\",\"Culpeper\",\"Frazier Park\",\"Flat Rock\",\"Nicolaus\",\"Chelmsford\",\"Crownsville\",\"Sanbornton\",\"Fulton\",\"Eglin AFB\",\"Hazelton\",\"Lake Placid\",\"Richburg\",\"New York Mills\",\"Dundas\",\"Geyserville\",\"Penryn\",\"Micanopy\",\"Los Molinos\",\"Center Line\",\"Kannapolis\",\"Elliston\",\"McCloud\",\"Uncasville\",\"Fair Play\",\"Pine Island\",\"Bealeton\",\"Duanesburg\",\"Minnetonka\",\"Vincentown\",\"Myerstown\",\"Willoughby\",\"Westwego\",\"Fargo\",\"China Grove\",\"Moss Beach\",\"Alturas\",\"Asbury\",\"Rowlett\",\"Boonville\",\"Calumet City\",\"Port Wentworth\",\"Bradford\",\"Patchogue\",\"Sloatsburg\",\"Biggs\",\"Wadena\",\"Hayfork\",\"Tonopah\",\"Allendale\",\"Carteret\",\"Irwin\",\"La Vergne\",\"Gray\",\"Labelle\",\"Ashby\",\"Newburg\",\"Bellaire\",\"Levittown\",\"Mebane\",\"Sherwood\",\"Dickerson\",\"Woburn\",\"Caryville\",\"Lewisberry\",\"Brookville\",\"Vidal\",\"Fleming Island\",\"Saluda\",\"White Hall\",\"Cambria\",\"La Crosse\",\"Birdsboro\",\"Edgewater\",\"Niagara Falls\",\"Philo\",\"Waverly\",\"Shelby\",\"Tuckerton\",\"Huntley\",\"Walnut Grove\",\"Chisholm\",\"Sandy Hook\",\"O Brien\",\"Mays Landing\",\"Glasgow\",\"Dassel\",\"Eastover\",\"Heflin\",\"Middlebury\",\"Otter Rock\",\"Quarryville\",\"Forestville\",\"Diamond Springs\",\"Escalante\",\"Chisago City\",\"Leland\",\"Smartsville\",\"Collierville\",\"Boron\",\"Columbia Falls\",\"Attleboro\",\"Parma\",\"Toms Brook\",\"Magnolia\",\"Coyote\",\"Goldsboro\",\"Cranbury\",\"Lake Dallas\",\"Port Orchard\",\"North Aurora\",\"Portola Valley\",\"Westwood\",\"Galesburg\",\"Covelo\",\"Nassau\",\"Fincastle\",\"Leggett\",\"Johnson City\",\"Glenwood\",\"Elizabethport\",\"Eagle Lake\",\"Oakley\",\"Muskegon\",\"Universal City\",\"Hillsborough\",\"Midway City\",\"New Lenox\",\"Belleview\",\"Kenansville\",\"Cedar Park\",\"Key Largo\",\"Newberry\",\"Landrum\",\"Hernando\",\"Weedsport\",\"Redwood Falls\",\"Bowling Green\",\"LaGrange\",\"Foxboro\",\"Helix\",\"Stony Point\",\"Haverhill\",\"Pinon Hills\",\"Los Altos\",\"Poulsbo\",\"Amherst\",\"Ash Fork\",\"Austinville\",\"Colmar\",\"Valley Center\",\"Mint Hill\",\"Fancy Gap\",\"Franklin Park\",\"Valrico\",\"Apache Junction\",\"Oconomowoc\",\"Dupont\",\"Baytown\",\"Rockingham\",\"Sudlersville\",\"Mount Sidney\",\"New River\",\"Medina\",\"Redford\",\"Waseca\",\"Glenn\",\"Channelview\",\"Littlefield\",\"Bohemia\",\"Sorrento\",\"Heron Lake\",\"Roslyn\",\"Blackfoot\",\"Paw Paw\",\"Stanton\",\"Stevens\",\"Alden\",\"Prescott\",\"Montoursville\",\"Hickory\",\"Mokelumne Hill\",\"Alabaster\",\"Pope Valley\",\"Briarcliff Manor\",\"Scottsville\",\"Delaplane\",\"Crown Point\",\"North Richland Hills\",\"Sparks Glencoe\",\"Montgomery Creek\",\"Riverbank\",\"London\",\"Rushford\",\"Bigfork\",\"Coolidge\",\"Ankeny\",\"Fishersville\",\"Zolfo Springs\",\"Summerland\",\"Morris\",\"Pennsburg\",\"Holly\",\"Centre Hall\",\"Green Lane\",\"Sharon\",\"New City\",\"Pittston\",\"Walker\",\"Gray Court\",\"Old Fort\",\"Trout Run\",\"Williamstown\",\"Baxter\",\"Barboursville\",\"Gaylord\",\"Okatie\",\"Garberville\",\"Runnemede\",\"Lemont\",\"Callahan\",\"Coulterville\",\"Grand Bay\",\"Nicollet\",\"Linwood\",\"Weatherford\",\"Naugatuck\",\"Hickory Hills\",\"Aynor\",\"Buellton\",\"Daleville\",\"Fort Valley\",\"Pebble Beach\",\"La Porte\",\"Moss Point\",\"Matawan\",\"Marathon\",\"Shafer\",\"Bethpage\",\"San Quentin\",\"Cumming\",\"Nice\",\"Holtsville\",\"Orderville\",\"Chehalis\",\"Smith River\",\"Sturgeon Lake\",\"Selinsgrove\",\"Santa Rosa Beach\",\"Beaumont\",\"Old Lyme\",\"Jemison\",\"Sevier\",\"Wentzville\",\"Wakefield\",\"Absecon\",\"Trabuco Canyon\",\"Soddy Daisy\",\"Neenah\",\"Herriman\",\"Wellsville\",\"Rogue River\",\"Boyds\",\"Davidson\",\"Horn Lake\",\"Fossil\",\"Dobbs Ferry\",\"Saint Albans\",\"Tomah\",\"Aldie\",\"Dutch Flat\",\"Shrewsbury\",\"Huntington Woods\",\"Collinsville\",\"Verdi\",\"Klamath\",\"Bridal Veil\",\"Falling Waters\",\"Hampstead\",\"Bonita\",\"Guilford\",\"Whippany\",\"Arkadelphia\",\"Bingham Lake\",\"Newville\",\"Winnetka\",\"Glen Ellen\",\"West Henrietta\",\"Ganado\",\"North\",\"Applegate\",\"Mount Ephraim\",\"Gerber\",\"Hillburn\",\"Park Ridge\",\"Southfields\",\"Long Prairie\",\"Citra\",\"Eddyville\",\"Lake Charles\",\"Davie\",\"La Fayette\",\"Cotton\",\"Los Osos\",\"El Mirage\",\"Denville\",\"Paynesville\",\"Garfield\",\"Key Biscayne\",\"Pine Bluff\",\"Campobello\",\"Lynnfield\",\"Cantil\",\"East Greenville\",\"Santee\",\"Beloit\",\"Canastota\",\"Oronoco\",\"Dunsmuir\",\"Sumpter\",\"Contoocook\",\"Gunnison\",\"Beatty\",\"Cypress\",\"Wallace\",\"Pamplico\",\"Tenmile\",\"Maumee\",\"Pacific Palisades\",\"Letohatchee\",\"Noblesville\",\"Kittery\",\"Howey in the Hills\",\"Watertown\",\"Chapel Hill\",\"Wilton Manors\",\"Laton\",\"Warminster\",\"Alberta\",\"Dandridge\",\"Cleves\",\"Woodlake\",\"Wade\",\"Elkhorn\",\"Troutman\",\"Hazlet\",\"Wayland\",\"Auburndale\",\"Loganville\",\"Mount Dora\",\"Pooler\",\"Clearlake\",\"Southampton\",\"Ames\",\"Lonoke\",\"Kershaw\",\"Berthoud\",\"Carnesville\",\"Coral Springs\",\"Berryville\",\"Preston\",\"Geneva\",\"Stephens City\",\"Vicksburg\",\"Emigrant Gap\",\"Rushmore\",\"Joseph\",\"Oldsmar\",\"Rice\",\"Warrior\",\"Snelling\",\"East Lansing\",\"Prescott Valley\",\"Laguna\",\"Norwood Young America\",\"Forney\",\"Fords\",\"Mill City\",\"Powhatan\",\"Backus\",\"Saugus\",\"Honea Path\",\"Orange Cove\",\"Denair\",\"Amelia Court House\",\"Victoria\",\"Lone Tree\",\"Cle Elum\",\"New Hampton\",\"Nyssa\",\"Magalia\",\"Lynd\",\"Clarendon Hills\",\"La Crescent\",\"Ponce de Leon\",\"Gaffney\",\"Advance\",\"Laguna Beach\",\"Paoli\",\"Tully\",\"Grass Lake\",\"Lone Pine\",\"Parkersburg\",\"Kinzers\",\"Glenview\",\"Walsenburg\",\"Florida City\",\"Castella\",\"Decherd\",\"Queen Anne\",\"Chesterton\",\"Poughkeepsie\",\"Glen Saint Mary\",\"Sutton\",\"Fort Mc Coy\",\"Hilton\",\"Spring Run\",\"Spencer\",\"Theodore\",\"Blooming Prairie\",\"Twin Peaks\",\"Kasson\",\"Condon\",\"Howard\",\"Redwood Valley\",\"Catlett\",\"Hoosick Falls\",\"Walkersville\",\"Salyer\",\"Shorewood\",\"Mill Hall\",\"Port Orange\",\"Lynden\",\"Clemmons\",\"Lake Harmony\",\"Latrobe\",\"Windber\",\"Firth\",\"Lincolnwood\",\"Macomb\",\"Port Matilda\",\"Tiller\",\"Beaver Falls\",\"Parlier\",\"Floodwood\",\"Hughesville\",\"Penrose\",\"New Baltimore\",\"Belmar\",\"Hayden\",\"Radford\",\"Clear Brook\",\"Winthrop\",\"Mount Angel\",\"Eatonville\",\"Girard\",\"Mullins\",\"Paisley\",\"Strongsville\",\"Forked River\",\"Wrightwood\",\"Morton Grove\",\"Mora\",\"East Lyme\",\"Toano\",\"Valdosta\",\"Duncannon\",\"Flourtown\",\"Homosassa\",\"Derry\",\"South Bend\",\"Tremonton\",\"Twain Harte\",\"Lenoir City\",\"Darby\",\"Peach Bottom\",\"Yemassee\",\"Miami Shores\",\"Emporia\",\"Western Springs\",\"Cameron\",\"Westlake\",\"Fall River\",\"Leominster\",\"Debary\",\"Miramar Beach\",\"Kingsville\",\"Catheys Valley\",\"Cape Coral\",\"Bristow\",\"Haltom City\",\"Peabody\",\"Hephzibah\",\"Millbury\",\"Atkins\",\"Warfield\",\"Rifle\",\"Central Valley\",\"Milroy\",\"Perham\",\"Marcy\",\"New Berlin\",\"Chagrin Falls\",\"Etters\",\"Terre Haute\",\"Port Royal\",\"Le Grand\",\"Saint Pauls\",\"Burleson\",\"Malabar\",\"Drewsey\",\"Woodinville\",\"Mercer\",\"Townville\",\"Otisville\",\"Auberry\",\"Biscoe\",\"Bremen\",\"Blairsden Graeagle\",\"Quicksburg\",\"Media\",\"Pilot Hill\",\"Shirley\",\"West Friendship\",\"Hamilton City\",\"Royse City\",\"Clairton\",\"Halifax\",\"Lee\",\"Calera\",\"Palo Cedro\",\"Abbeville\",\"Fallon\",\"Houma\",\"Basking Ridge\",\"McKinney\",\"Esparto\",\"Kelso\",\"Torrington\",\"Thonotosassa\",\"Avoca\",\"Stoneham\",\"Port Deposit\",\"Mifflintown\",\"Highland Mills\",\"Kellogg\",\"Crum Lynne\",\"Huntingdon\",\"West Coxsackie\",\"Pillager\",\"Mountville\",\"Signal Mountain\",\"Seabrook\",\"Colonia\",\"West Branch\",\"Elma\",\"Pearl\",\"Lansdowne\",\"Dairy\",\"Falkville\",\"Canonsburg\",\"Sanborn\",\"Marengo\",\"Beckley\",\"View Park\",\"Herald\",\"Morro Bay\",\"Aspers\",\"Leona Valley\",\"Winterhaven\",\"Rathdrum\",\"Deer Island\",\"Turner\",\"Lima\",\"Hill City\",\"Coram\",\"Northville\",\"Fallston\",\"Brookpark\",\"Brookshire\",\"Tuxedo Park\",\"Gambrills\",\"Esko\",\"Bolinas\",\"Hopewell\",\"Cana\",\"Ottumwa\",\"Reidsville\",\"Brownsville\",\"Squaw Valley\",\"Groton\",\"Kanab\",\"Allenwood\",\"Summerton\",\"Eloy\",\"Warsaw\",\"Allston\",\"Haverford\",\"Spotsylvania\",\"Fort Lupton\",\"Mahopac\",\"Martin\",\"Dallastown\",\"Kew Gardens\",\"Dickinson\",\"Avondale Estates\",\"Malad City\",\"East Stroudsburg\",\"Stony Creek\",\"Lakemoor\",\"New Columbia\",\"Ferndale\",\"Comstock Park\",\"South Salt Lake\",\"Sparta\",\"Paicines\",\"Willow Springs\",\"Colchester\",\"Trinity\",\"Clinton Corners\",\"Merion Station\",\"Passaic\",\"Dewey\",\"Bonifay\",\"Fuquay Varina\",\"Plainwell\",\"Phillipsburg\",\"Dunbar\",\"Three Forks\",\"Donegal\",\"Edgerton\",\"Tilton\",\"Chicago Heights\",\"South Beach\",\"Marne\",\"Penns Grove\",\"Frostburg\",\"Zeeland\",\"New Oxford\",\"Hellertown\",\"Holmes\",\"Zellwood\",\"Moseley\",\"Warfordsburg\",\"Carle Place\",\"Accokeek\",\"Dalzell\",\"Oak Harbor\",\"Wallkill\",\"Gold Run\",\"Leonia\",\"New Bern\",\"Raynham\",\"Edinburgh\",\"Dorchester Center\",\"Death Valley\",\"Hope Mills\",\"Soperton\",\"Perkiomenville\",\"Deerwood\",\"Painesville\",\"East Berlin\",\"Niceville\",\"Maple Heights\",\"Fort McDowell\",\"South Richmond Hill\",\"Lolo\",\"Maple Valley\",\"Hamden\",\"Roaring Spring\",\"Ronks\",\"Hallandale Beach\",\"Olivia\",\"Argyle\",\"Oshkosh\",\"Eau Claire\",\"Lawnside\",\"Slayton\",\"Euclid\",\"Freehold\",\"Mifflinburg\",\"Windsor Locks\",\"Gallup\",\"Manahawkin\",\"Sun City West\",\"Carlotta\",\"Bland\",\"Mahwah\",\"Clive\",\"Rockaway\",\"Wrightsville\",\"Indian Trail\",\"Browns Valley\",\"South Portland\",\"Mission\",\"Trappe\",\"Marlborough\",\"Elkhart\",\"Oregon\",\"Iva\",\"Hartsdale\",\"Arleta\",\"Northwood\",\"Green Cove Springs\",\"Brockton\",\"Northumberland\",\"North Stonington\",\"Loxley\",\"Brinnon\",\"Copperopolis\",\"Alton\",\"Fort Monroe\",\"Belfair\",\"Rocky Point\",\"Waretown\",\"Chatham\",\"Asheboro\",\"Rembert\",\"Grosse Tete\",\"Kanarraville\",\"Gurdon\",\"Cambridge City\",\"Casa Blanca\",\"Boalsburg\",\"Orange City\",\"Knights Landing\",\"Anacortes\",\"Shortsville\",\"Brodnax\",\"San Simeon\",\"Von Ormy\",\"Brinkley\",\"Cape May Court House\",\"Spicewood\",\"Shamokin Dam\",\"Mary Esther\",\"Straughn\",\"Tujunga\",\"Lothian\",\"Solvang\",\"New Freedom\",\"Kyle\",\"Rescue\",\"Drums\",\"Missouri City\",\"Monte Rio\",\"White Springs\",\"Pearland\",\"Wilmette\",\"Holly Hill\",\"Spring Lake\",\"Bovey\",\"Winter Springs\",\"Scandia\",\"Social Circle\",\"East Freedom\",\"New Paris\",\"Spring City\",\"Ozark\",\"Santa Fe\",\"Gypsum\",\"Belvidere\",\"Blountsville\",\"Union Bridge\",\"Hutchins\",\"The Plains\",\"Hanceville\",\"Lake Helen\",\"New Prague\",\"Valley City\",\"Calhoun\",\"Reinholds\",\"Reynoldsburg\",\"Mc Leansville\",\"Millington\",\"Mount Carmel\",\"Clancy\",\"Crystal River\",\"Rahway\",\"Grain Valley\",\"Sayreville\",\"Larchmont\",\"Cass Lake\",\"Lester Prairie\",\"Berwick\",\"Remer\",\"Castleton on Hudson\",\"Lostine\",\"Rex\",\"Endicott\",\"High Springs\",\"Coupeville\",\"Glade Spring\",\"Honey Brook\",\"Ripley\",\"Slidell\",\"Alcolu\",\"Lincolnton\",\"Silverado\",\"Lake Butler\",\"Evergreen Park\",\"Kane\",\"Alva\",\"Ellijay\",\"Limon\",\"Street\",\"Island Lake\",\"Grand Junction\",\"Morton\",\"Foristell\",\"Grand Ridge\",\"Danvers\",\"Rochelle Park\",\"Pleasant View\",\"Ligonier\",\"Lock Haven\",\"Worth\",\"Armona\",\"Fort George G Meade\",\"Redcrest\",\"Willow Street\",\"Grantham\",\"Nedrow\",\"Baldwin\",\"Klamath River\",\"Akeley\",\"Montesano\",\"Findlay\",\"Cologne\",\"Villanova\",\"Kimberly\",\"Maidens\",\"Reedsville\",\"Bailey\",\"Palmyra\",\"Big Pool\",\"Bayport\",\"Lehighton\",\"Pleasant Prairie\",\"Enola\",\"Charlton\",\"Bath\",\"San Miguel\",\"Islamorada\",\"Buena Vista\",\"Oak Lawn\",\"Monkton\",\"El Cerrito\",\"Flowood\",\"Bryant\",\"Chestertown\",\"Montpelier\",\"Kersey\",\"Heber City\",\"Langlois\",\"Wickenburg\",\"Mokena\",\"Miami Springs\",\"Atlantic City\",\"Creedmoor\",\"New Holland\",\"Blacksburg\",\"Pewaukee\",\"Post Falls\",\"East Windsor\",\"French Gulch\",\"Hope Hull\",\"Frazee\",\"Weaverville\",\"Prior Lake\",\"Logan\",\"Thorntown\",\"Imbler\",\"Mullan\",\"Orient\",\"Lockbourne\",\"Palisade\",\"Tomball\",\"Dickson\",\"Merrill\",\"Anita\",\"Yarmouth\",\"Bates\",\"San Simon\",\"Zamora\",\"American Falls\",\"Rhododendron\",\"Leadville\",\"Annapolis Junction\",\"Peyton\",\"Phenix City\",\"Country Club Hills\",\"Newtown Square\",\"Henefer\",\"Taunton\",\"Papillion\",\"Hazen\",\"Adelphi\",\"Ashville\",\"Saraland\",\"DeWitt\",\"Granite City\",\"Grant\",\"Grasonville\",\"Deer Lodge\",\"West Islip\",\"Fort Jones\",\"Seneca Falls\",\"Pelion\",\"Piru\",\"Enoree\",\"Sierraville\",\"Cedarville\",\"Bowdoinham\",\"Butler\",\"Cedar Knolls\",\"Westborough\",\"Englishtown\",\"Vandalia\",\"New Hyde Park\",\"East Rochester\",\"Pomfret Center\",\"Keithville\",\"Mountain Top\",\"Port Angeles\",\"Garibaldi\",\"Fellsmere\",\"Gardner\",\"Cooksville\",\"Eustis\",\"Waubun\",\"Broadway\",\"Jeffersonville\",\"Jenison\",\"Kasota\",\"Silver Creek\",\"Scott Depot\",\"Glendive\",\"Waukee\",\"Orr\",\"Eaton Rapids\",\"Glastonbury\",\"Point Reyes Station\",\"Hot Springs National Park\",\"Cedar Hill\",\"Bonner Springs\",\"Canaan\",\"Youngsville\",\"Saint Marys\",\"Harleyville\",\"Ogilvie\",\"Pleasant Valley\",\"Blomkest\",\"Paradise Valley\",\"North Hampton\",\"Maxwell\",\"Ledgewood\",\"Chester Springs\",\"Welches\",\"Jennings\",\"Chattahoochee\",\"Platte City\",\"Jewett City\",\"Jim Thorpe\",\"Demotte\",\"Oakland Park\",\"Chappaqua\",\"Fort Myers Beach\",\"Birch Run\",\"Crossville\",\"Chalfont\",\"Clay\",\"Mountain Lake\",\"Dayville\",\"Cuyahoga Falls\",\"Bentonville\",\"Port Reading\",\"Shepherd\",\"Adamstown\",\"Adairsville\",\"Gardendale\",\"Nitro\",\"Rexford\",\"Old Town\",\"Twin Bridges\",\"Hewitt\",\"Bethany\",\"Coraopolis\",\"Prince George\",\"Macdoel\",\"Doylestown\",\"Snoqualmie\",\"Topeka\",\"Nichols\",\"Timberville\",\"Dedham\",\"Polson\",\"New Hudson\",\"Earth City\",\"Earp\",\"Roscoe\",\"Kenly\",\"Dana Point\",\"Purdys\",\"Shady Cove\",\"Sugar Grove\",\"Elverson\",\"Gold Bar\",\"Harvest\",\"Kathleen\",\"Granville\",\"El Nido\",\"Somers Point\",\"Floral Park\",\"Osage\",\"Severna Park\",\"Laramie\",\"Bayville\",\"Church Hill\",\"Winslow\",\"Andrews Air Force Base\",\"Hodges\",\"Dubois\",\"Oakton\",\"Ronan\",\"Molino\",\"Heber\",\"New Kensington\",\"Stanwood\",\"Granby\",\"Shelbyville\",\"East Islip\",\"Cedartown\",\"Pauline\",\"Mystic\",\"Onyx\",\"Mc Donald\",\"Stevenson\",\"Lake Saint Louis\",\"Lavonia\",\"Harmony\",\"North Andover\",\"East Chatham\",\"Craryville\",\"Oilville\",\"Uniontown\",\"Galena\",\"Fair Lawn\",\"Alpine\",\"Claysville\",\"Mulino\",\"Spicer\",\"Centralia\",\"Mullica Hill\",\"Port Byron\",\"Elkin\",\"South Haven\",\"Senoia\",\"Show Low\",\"South Rockwood\",\"Queen Creek\",\"Jamesville\",\"South Fork\",\"Delafield\",\"Plantsville\",\"Chadds Ford\",\"West Jefferson\",\"Mc Kenney\",\"Cedarpines Park\",\"West Newton\",\"Unity\",\"Fergus Falls\",\"Catawba\",\"Hasbrouck Heights\",\"Yorkville\",\"Harrisonville\",\"Elkview\",\"Walcott\",\"Bullhead City\",\"Ferron\",\"Castleton On Hudson\",\"Port Republic\",\"Valdese\",\"Bladensburg\",\"Purchase\",\"Honeyville\",\"Bolton\",\"Barnegat\",\"Van Buren\",\"La Plata\",\"Lyndhurst\",\"Cranberry Township\",\"Manns Choice\",\"Mount Hope\",\"Selden\",\"Biddeford\",\"Rural Hall\",\"Warners\",\"Pike Road\",\"Dobson\",\"Biloxi\",\"Mount Olive\",\"Fultonville\",\"Sugar Land\",\"Honeoye Falls\",\"Congress\",\"Seligman\",\"Fredonia\",\"Ponchatoula\",\"Bay Minette\",\"Hinkley\",\"Hogansville\",\"Litchfield Park\",\"Manhattan\",\"White Marsh\",\"Climax\",\"Foothill Ranch\",\"Rockville Centre\",\"Sayville\",\"Cookeville\",\"Northome\",\"Piercy\",\"Belle\",\"Wood Dale\",\"Lake Hughes\",\"Blaine\",\"Walhalla\",\"York Springs\",\"Camillus\",\"Manakin Sabot\",\"Orland Park\",\"Scott\",\"Lawrence\",\"De Soto\",\"Needham\",\"Las Cruces\",\"Bassett\",\"Beaver Springs\",\"Mechanicville\",\"Landisville\",\"Gettysburg\",\"Remington\",\"Taylors Falls\",\"Salome\",\"Hicksville\",\"Kingsport\",\"Wood Village\",\"Macedonia\",\"Kearney\",\"Barberton\",\"Audubon\",\"Mandan\",\"Bodfish\",\"North Olmsted\",\"Chardon\",\"Asbury Park\",\"Burgaw\",\"Ocklawaha\",\"Leander\",\"Weirsdale\",\"Whitestown\",\"Texas City\",\"Havana\",\"Texarkana\",\"Elberton\",\"Dennison\",\"Siler City\",\"Wellborn\",\"Wampum\",\"Fond du Lac\",\"Moosic\",\"Marina del Rey\",\"Jackson Heights\",\"Ithaca\",\"Anniston\",\"Round Lake Beach\",\"Welch\",\"Pearblossom\",\"Manlius\",\"Lindstrom\",\"Fort White\",\"Idaho Springs\",\"Oswego\",\"Pembroke\",\"Oak Grove\",\"Moultrie\",\"Menahga\",\"Orleans\",\"Mount Juliet\",\"Royalton\",\"Jarratt\",\"Kings Mountain\",\"Lennon\",\"Millbrook\",\"Kenyon\",\"North Canton\",\"Luray\",\"Tannersville\",\"North San Juan\",\"Stafford Springs\",\"North Kingstown\",\"New Cuyama\",\"Knightstown\",\"Heath Springs\",\"Kinston\",\"Opelika\",\"Salt Point\",\"Inverness\",\"Paulsboro\",\"Old Chatham\",\"Sixes\",\"Stahlstown\",\"Maumelle\",\"League City\",\"Garvin\",\"Divide\",\"Verndale\",\"Willington\",\"Roanoke Rapids\",\"Blauvelt\",\"Casey\",\"Clifton Forge\",\"Charles City\",\"Tobyhanna\",\"Barnwell\",\"Bruceton Mills\",\"Tranquillity\",\"Bunker Hill\",\"Elmo\",\"Canyon\",\"Galway\",\"De Beque\",\"Bedford Hills\",\"Davisburg\",\"East Petersburg\",\"Cross\",\"Big Bear City\",\"Winder\",\"Weldon\",\"Wanamingo\",\"Roseland\",\"Cheyenne\",\"Dacula\",\"Grants\",\"Rough and Ready\",\"Brooks\",\"Quartzsite\",\"Hamlin\",\"Vestal\",\"Douglas City\",\"Athena\",\"Gloucester\",\"Cayucos\",\"Washougal\",\"Glenmont\",\"Gallatin Gateway\",\"Rockton\",\"Constantine\",\"McClellan\",\"Westmoreland\",\"Acme\",\"Hayes\",\"Middle River\",\"Fernandina Beach\",\"Lewis Center\",\"Wedgefield\",\"Coloma\",\"Boxford\",\"Norwood\",\"Warrensburg\",\"Schodack Landing\",\"Tiffin\",\"Ridgway\",\"Hanksville\",\"South Windsor\",\"Huger\",\"Bonners Ferry\",\"Pierz\",\"Ancram\",\"Hector\",\"Kodak\",\"The Villages\",\"Chilcoot\",\"Belvedere Tiburon\",\"Bellwood\",\"Watchung\",\"Dammeron Valley\",\"Bernville\",\"Canajoharie\",\"Midpines\",\"Galivants Ferry\",\"Beverly\",\"Kirkwood\",\"Monsey\",\"Solon\",\"Waynesburg\",\"Port Ludlow\",\"Deforest\",\"Gibsonia\",\"Leechburg\",\"Moraine\",\"Joplin\",\"Twain\",\"Isanti\",\"Wausau\",\"Forest Ranch\",\"Bloomfield Hills\",\"Casco\",\"Harriman\",\"Sherman\",\"Cogan Station\",\"Sicklerville\",\"Wauchula\",\"Branchville\",\"Whitney Point\",\"Medley\",\"Ahwahnee\",\"Boerne\",\"Atlantic\",\"Chicago Ridge\",\"Cazadero\",\"Menlo\",\"Ninety Six\",\"Coudersport\",\"Menomonee Falls\",\"White Haven\",\"Carleton\",\"Warrington\",\"Charleroi\",\"Satellite Beach\",\"Archer\",\"Holden\",\"Maurertown\",\"Peru\",\"Hope\",\"Swanton\",\"West Union\",\"Charles Town\",\"Chambers\",\"Beech Grove\",\"Bell\",\"Gramercy\",\"Thomaston\",\"Glen Mills\",\"Sutter\",\"North Antelope Valley\",\"Ghent\",\"Valley Park\",\"Maynard\",\"Dutch John\",\"Penngrove\",\"Rockport\",\"Quilcene\",\"Apollo\",\"White Pigeon\",\"Valatie\",\"Greentown\",\"Imperial\",\"Fosters\",\"Stanley\",\"Elysburg\",\"Whitakers\",\"Rosenberg\",\"Needham Heights\",\"Pittsville\",\"Emporium\",\"Grovetown\",\"Kennebunk\",\"Brookeville\",\"Cortez\",\"Gualala\",\"Youngwood\",\"Foresthill\",\"Forest Hill\",\"Streamwood\",\"Fogelsville\",\"Stinson Beach\",\"Fall River Mills\",\"Seekonk\",\"Redfield\",\"Bouse\",\"Old Saybrook\",\"Tuckahoe\",\"Rocky Ford\",\"Smithton\",\"Comptche\",\"Township of Washington\",\"Kenwood\",\"Mc Connellsburg\",\"Butte Falls\",\"Chicopee\",\"Sharpsburg\",\"California Hot Springs\",\"New Gloucester\",\"Millstone Township\",\"Cushing\",\"Freedom\",\"Minden\",\"Green Isle\",\"Amenia\",\"Elko\",\"Ellabell\",\"Croton on Hudson\",\"Round O\",\"Kentfield\",\"New Bedford\",\"Bryantown\",\"Overton\",\"Jarrettsville\",\"Friendsville\",\"Bound Brook\",\"Federalsburg\",\"Mount Sterling\",\"Ellsworth\",\"Storrs Mansfield\",\"Fernley\",\"West Grove\",\"Festus\",\"Glenbrook\",\"Summer Lake\",\"Roberts\",\"Bennett\",\"Boonton\",\"Mc Ewen\",\"Stony Brook\",\"Register\",\"Oreland\",\"Hoschton\",\"Carlstadt\",\"Sawyer\",\"Millerstown\",\"Rutherfordton\",\"Lake Lillian\",\"Fort Belvoir\",\"West Milton\",\"Twin Falls\",\"Ironton\",\"Franktown\",\"Candor\",\"West Middlesex\",\"Carnelian Bay\",\"Reelsville\",\"Batesburg\",\"Parlin\",\"Morrilton\",\"La Salle\",\"Batesville\",\"Bluemont\",\"Burr Ridge\",\"Mountainside\",\"Wellsboro\",\"Derby\",\"Grouse Creek\",\"South Salem\",\"Palmerton\",\"North Liberty\",\"College Point\",\"Cumberland Foreside\",\"North Ridgeville\",\"Talmage\",\"Powell\",\"Allison Park\",\"Cherokee\",\"Aledo\",\"Coronado\",\"Coralville\",\"Los Olivos\",\"Davis Creek\",\"Goodhue\",\"Louisburg\",\"Dawsonville\",\"Declo\",\"Oneida\",\"South Hill\",\"Solway\",\"Swisher\",\"Walden\",\"Haskell\",\"Okemos\",\"Higganum\",\"Havre De Grace\",\"Parkers Prairie\",\"Portola\",\"Ona\",\"Destin\",\"Clarkfield\",\"Weedville\",\"Hampshire\",\"Ware Shoals\",\"Warner Robins\",\"Candia\",\"Big Timber\",\"Granada\",\"Malone\",\"La Vista\",\"Ellwood City\",\"Occidental\",\"Forrest City\",\"Orting\",\"Scotrun\",\"Clearwater Beach\",\"Okahumpka\",\"Key West\",\"East Palatka\",\"Eutaw\",\"Burke\",\"West Terre Haute\",\"Garysburg\",\"Robbins\",\"Satsuma\",\"De Witt\",\"Hoover\",\"Triadelphia\",\"Blanding\",\"Scotia\",\"Elbridge\",\"Minnesota Lake\",\"Hayfield\",\"Rolesville\",\"Kit Carson\",\"Starr\",\"Fort Morgan\",\"Oaklyn\",\"Manila\",\"Cove\",\"Minooka\",\"New Bloomfield\",\"Great River\",\"Herkimer\",\"Cuba\",\"Silverdale\",\"Hunker\",\"Cinnaminson\",\"Natick\",\"Payette\",\"Elloree\",\"Milledgeville\",\"Moore Haven\",\"Fort Bliss\",\"Queens\",\"Sequim\",\"Shawsville\",\"Hackettstown\",\"Long Barn\",\"Russell\",\"Sanderson\",\"Ardsley\",\"Wattsburg\",\"Finksburg\",\"Mc Kittrick\",\"Dolphin\",\"Santa Rosa Valley\",\"Wright\",\"Gilberts\",\"Russellville\",\"Hollidaysburg\",\"Copiague\",\"Ruffin\",\"Averill Park\",\"Goldendale\",\"Hardy\",\"Donaldson\",\"Wiggins\",\"Mc Veytown\",\"Century\",\"Glenhaven\",\"Adair\",\"Mountain Iron\",\"Hidden Valley Lake\",\"Gold River\",\"Happy Camp\",\"Pevely\",\"Norman\",\"Mount Gilead\",\"Nisswa\",\"Arch Cape\",\"Saegertown\",\"Islip\",\"West Sand Lake\",\"White Stone\",\"Stewartsville\",\"Delmar\",\"Medway\",\"Millsboro\",\"York Haven\",\"Landenberg\",\"Sidney\",\"Chiefland\",\"Grinnell\",\"Paeonian Springs\",\"Fort Rock\",\"Bagley\",\"Moody\",\"Newfield\",\"Moscow\",\"North Mankato\",\"Takoma Park\",\"Kingston Springs\",\"Stanardsville\",\"North Fork\",\"Battle Ground\",\"Brazil\",\"Newton Lower Falls\",\"North Franklin\",\"Lecanto\",\"Mount Sinai\",\"Big Pine\",\"Everson\",\"Stokesdale\",\"Mohegan Lake\",\"Sellersburg\",\"Wamsutter\",\"Calpine\",\"Ivanhoe\",\"Fruitland\",\"Pickerington\",\"Safety Harbor\",\"Gila Bend\",\"Winthrop Harbor\",\"Hannibal\",\"San Gregorio\",\"Killingworth\",\"Michigan City\",\"Republic\",\"Mickleton\",\"Bulls Gap\",\"Waldron\",\"Wisconsin Dells\",\"Dimondale\",\"Morganville\",\"Nutley\",\"Boone\",\"East Helena\",\"North Smithfield\",\"Surfside\",\"Westover\",\"Tuolumne\",\"Camas\",\"Epping\",\"O Neals\",\"Tolland\",\"Angola\",\"Hollis\",\"Westbrook\",\"Angleton\",\"New Milford\",\"Rising Sun\",\"Kingsley\",\"West Miami\",\"Voorhees\",\"Conifer\",\"Buena\",\"Fort Ripley\",\"Olney\",\"Buckley\",\"Breckenridge\",\"Fort Plain\",\"Hastings on Hudson\",\"Whiteland\",\"Fairborn\",\"Morriston\",\"Coldwater\",\"Etna\",\"Prince Frederick\",\"Broad Run\",\"Gum Spring\",\"Smoaks\",\"Watsontown\",\"Planada\",\"Puposky\",\"Loretto\",\"Clewiston\",\"Groveport\",\"Murrysville\",\"Osceola\",\"Murdock\",\"Teasdale\",\"Alma\",\"Emmaus\",\"Jeannette\",\"Loyalton\",\"Underwood\",\"Halfway\",\"West Farmington\",\"Rochelle\",\"Bird In Hand\",\"East Peoria\",\"Deatsville\",\"Charlotte Hall\",\"Rangely\",\"Bay Saint Louis\",\"Waldo\",\"East Greenbush\",\"Nesconset\",\"Thomson\",\"Barney\",\"Middlesex\",\"Sun Prairie\",\"Grampian\",\"Rural Retreat\",\"Canal Winchester\",\"Gaines\",\"River Edge\",\"Spokane Valley\",\"Lake Park\",\"Valhalla\",\"Mckeesport\",\"Tijeras\",\"Glenolden\",\"Hillsdale\",\"Centereach\",\"Dothan\",\"Ruffs Dale\",\"Roxboro\",\"Meadow Vista\",\"Shenandoah\",\"Ririe\",\"Avenel\",\"Cassatt\",\"South Plainfield\",\"Dekalb\",\"Verbena\",\"Baraboo\",\"Sheboygan\",\"Henryville\",\"Bettendorf\",\"Kremmling\",\"Hazel Green\",\"Pescadero\",\"Franksville\",\"Hazleton\",\"New Buffalo\",\"Warba\",\"Bergen\",\"Saint Ann\",\"Fruit Heights\",\"Rogersville\",\"Palermo\",\"Heathsville\",\"Frederica\",\"Hurlock\",\"Ravenna\",\"Oak Forest\",\"Missouri Valley\",\"Croydon\",\"Matteson\",\"Kirkville\",\"Mathews\",\"Jonesville\",\"Clemson\",\"Medical Lake\",\"Farmingville\",\"Mount Prospect\",\"Deer Creek\",\"Casa Grande\",\"Crystal Spring\",\"Port Jervis\",\"Moorhead\",\"Jones\",\"Wickliffe\",\"Long Pond\",\"Mckenzie Bridge\",\"Mchenry\",\"Princess Anne\",\"Ellensburg\",\"Dorris\",\"Snow Hill\",\"Soulsbyville\",\"Lauderdale Lakes\",\"Shoreline\",\"Manvel\",\"Shorter\",\"Cataldo\",\"Fabius\",\"Mentor\",\"Shamong\",\"Brookston\",\"Englewood Cliffs\",\"Longview\",\"West Berlin\",\"Cochranville\",\"West Augusta\",\"South Glastonbury\",\"Marlboro\",\"Walkertown\",\"Eastaboga\",\"Wall Township\",\"Lincoln University\",\"Clifton Springs\",\"Ravena\",\"Mandeville\",\"Sellersville\",\"Canon City\",\"Lewis Run\",\"Shelley\",\"Mequon\",\"Vallecito\",\"Chillicothe\",\"Park Valley\",\"Palmer\",\"Tupman\",\"Longmeadow\",\"East Earl\",\"Meridianville\",\"Rutledge\",\"Cabot\",\"Capay\",\"Malaga\",\"Malden Bridge\",\"Port Jefferson Station\",\"Lyle\",\"Attica\",\"Willow Spring\",\"Ballico\",\"Saint Stephen\",\"Blackduck\",\"Grafton\",\"Fleetwood\",\"Flemington\",\"Ahoskie\",\"Narvon\",\"Bainbridge\",\"Toney\",\"Golden Valley\",\"Albemarle\",\"Assonet\",\"Avon Park\",\"Henning\",\"Guadalupe\",\"Bliss\",\"Hoffman\",\"North Jackson\",\"Ash Grove\",\"Windsor Heights\",\"Grimesland\",\"Pengilly\",\"Pedricktown\",\"Homewood\",\"Sweetwater\",\"Hinton\",\"Jefferson City\",\"Highlands\",\"Big Pine Key\",\"Bonneau\",\"Haw River\",\"Sandpoint\",\"Muncy Valley\",\"Chestnut Hill\",\"Caseyville\",\"Osteen\",\"Saint Maries\",\"Pocomoke City\",\"Amarillo\",\"Fort Ann\",\"Depew\",\"Bamberg\",\"Haddonfield\",\"Estes Park\",\"Green Pond\",\"Terrell\",\"Plain City\",\"Neelyton\",\"Manti\",\"Hooper\",\"White Post\",\"Interlachen\",\"Nunica\",\"West Bridgewater\",\"Tarentum\",\"Gardnerville\",\"Apple Valley\",\"Madison Lake\",\"Kennebunkport\",\"The Sea Ranch\",\"Tobaccoville\",\"Ballwin\",\"Ball Ground\",\"Tremont\",\"Cape Neddick\",\"Maplesville\",\"Wyckoff\",\"Black Hawk\",\"North Versailles\",\"Casmalia\",\"Empire\",\"Waconia\",\"North Tonawanda\",\"Peridot\",\"Summerland Key\",\"Warroad\",\"Heyburn\",\"Del Rey\",\"Choctaw\",\"Beckwourth\",\"Eutawville\",\"Shrub Oak\",\"Hanna\",\"Willcox\",\"Resaca\",\"Sugarloaf\",\"Snellville\",\"Romeoville\",\"Galloway\",\"Delanson\",\"Farmville\",\"Fultondale\",\"Rocky Gap\",\"Conover\",\"Lilburn\",\"Fayette\",\"Grand Forks\",\"Plattsburgh\",\"Gable\",\"Rio Oso\",\"Clementon\",\"Airville\",\"Cimarron\",\"Trafford\",\"Tuba City\",\"Bird Island\",\"Saint Clair\",\"Gallatin\",\"Muir Beach\",\"Shasta Lake\",\"Ellington\",\"Juliette\",\"Bena\",\"Bridgman\",\"Round Hill\",\"Putnam\",\"Emlenton\",\"Toquerville\",\"Dugway\",\"Owens Cross Roads\",\"Brecksville\",\"Mars Hill\",\"Loogootee\",\"Devon\",\"Six Mile\",\"Latonia\",\"Lake Panasoffkee\",\"Beavertown\",\"Myersville\",\"Lawton\",\"Short Hills\",\"Jacksonville Beach\",\"Rumson\",\"Mabel\",\"Four Oaks\",\"Huffman\",\"Potterville\",\"North Creek\",\"Hoodsport\",\"Alberton\",\"Burtonsville\",\"Vauxhall\",\"Spotswood\",\"Lake Katrine\",\"Pittsfield\",\"Clarks Summit\",\"Fort Lawn\",\"West Springfield\",\"Delmont\",\"New Smyrna Beach\",\"Belcamp\",\"Center City\",\"Hortonville\",\"Webberville\",\"Rush\",\"Shawano\",\"Eden Valley\",\"Lady Lake\",\"Garden Valley\",\"Eighty Four\",\"Chippewa Falls\",\"Chino Valley\",\"Amesbury\",\"Allenton\",\"Milltown\",\"Calhan\",\"Orchard Park\",\"Odenton\",\"Crescent Valley\",\"Aliquippa\",\"Hartland\",\"Staley\",\"Ramer\",\"Creston\",\"Vaughn\",\"Termo\",\"Great Lakes\",\"Cardwell\",\"Palestine\",\"East Walpole\",\"Wetumpka\",\"Plains\",\"Pottersville\",\"Blue Island\",\"Brandy Station\",\"Clara City\",\"Cross Plains\",\"Brewton\",\"Gouldsboro\",\"Greenbrier\",\"Forest\",\"Racine\",\"Washoe Valley\",\"Collinston\",\"Cold Spring Harbor\",\"Mapleton Depot\",\"Semmes\",\"Pine River\",\"Forks\",\"White Oak\",\"Jacobson\",\"Drummond\",\"Julian\",\"Angora\",\"Rimforest\",\"Thompsons Station\",\"Greeneville\",\"Sylvania\",\"Saint Amant\",\"Atherton\",\"Fennville\",\"Douglas\",\"Thompsontown\",\"Shippenville\",\"Wilkesboro\",\"Flanders\",\"Searcy\",\"Hanley Falls\",\"Altura\",\"Dos Rios\",\"Cave Creek\",\"Coopersville\",\"Dunlap\",\"Greenlawn\",\"Kila\",\"Angier\",\"Seward\",\"Mc Kees Rocks\",\"Wilmer\",\"Gibbstown\",\"Fort Smith\",\"Ely\",\"Seville\",\"Homer Glen\",\"Mason City\",\"Clarkdale\",\"Le Center\",\"Ephraim\",\"Emmett\",\"Burgettstown\",\"Greenland\",\"Babylon\",\"Hawick\",\"Indiana\",\"Iron Station\",\"West Greenwich\",\"Bancroft\",\"Georgiana\",\"Lake View\",\"Brooklet\",\"Cheswick\",\"West Olive\",\"Welcome\",\"Hilton Head Island\",\"Mc Coll\",\"Middlefield\",\"Beech Creek\",\"Canfield\",\"Geneseo\",\"Douglassville\",\"Southlake\",\"Midland City\",\"Atmore\",\"Grenada\",\"Coward\",\"Battle Lake\",\"Greenacres\",\"Meyersdale\",\"Durand\",\"Saddle River\",\"Boones Mill\",\"Littlestown\",\"Vinton\",\"Port Clinton\",\"Spiceland\",\"Power\",\"Skaneateles\",\"Roggen\",\"North Chili\",\"Mc David\",\"Gibbon\",\"Ashton\",\"Loa\",\"Hixton\",\"Saint Clairsville\",\"Bay Harbor Islands\",\"North Manchester\",\"Cannon Beach\",\"New Salem\",\"Huson\",\"West Fargo\",\"Apison\",\"Pocahontas\",\"Heiskell\",\"Nanty Glo\",\"Ironside\",\"Brookline\",\"Lewes\",\"Pilot Mountain\",\"Paynes Creek\",\"Palos Verdes Peninsula\",\"De Pere\",\"Seven Springs\",\"Enumclaw\",\"Old Mill Creek\",\"Stanford\",\"Madisonburg\",\"Thorofare\",\"Sigurd\",\"Rigby\",\"Fort Littleton\",\"Starke\",\"Starbuck\",\"Ruckersville\",\"Bryan\",\"Neeses\",\"Walnut Ridge\",\"Onalaska\",\"Streetsboro\",\"Saint Augusta\",\"Kayenta\",\"Morocco\",\"Bonner\",\"Storm Lake\",\"Ferris\",\"Pacolet\",\"Lynbrook\",\"Fitchburg\",\"Zumbro Falls\",\"Jay\",\"Conrad\",\"Fallentimber\",\"Mount Horeb\",\"Olivet\",\"Grand Meadow\",\"MI Wuk Village\",\"Braham\",\"Mustang\",\"Flowery Branch\",\"Columbia City\",\"Granger\",\"Blossvale\",\"Smethport\",\"Watkins\",\"Folkston\",\"Islip Terrace\",\"Isle\",\"Oskaloosa\",\"Zanesville\",\"North Grosvenordale\",\"Millburn\",\"Manasquan\",\"Denmark\",\"Lebanon Junction\",\"Los Alamos\",\"New Canaan\",\"Fraziers Bottom\",\"Upper Darby\",\"Elk\",\"Tamarack\",\"North Platte\",\"Lithia\",\"Curwensville\",\"Wabasha\",\"Cairo\",\"Urbana\",\"Winlock\",\"North Myrtle Beach\",\"Callaway\",\"Berkeley Heights\",\"El Portal\",\"High Ridge\",\"Cottageville\",\"Paragould\",\"Christiana\",\"Big Rapids\",\"Haddam\",\"Nescopeck\",\"Mahnomen\",\"Harwood\",\"Royal City\",\"Schuylerville\",\"Union Pier\",\"Kingsland\",\"Harwinton\",\"Pataskala\",\"Camptonville\",\"Cusseta\",\"Yountville\",\"Campbellton\",\"Lemon Cove\",\"La Junta\",\"Central City\",\"Cuervo\",\"West Contra Costa\",\"Villa Ridge\",\"Marshfield\",\"Siletz\",\"Walkerton\",\"Little Mountain\",\"Dauphin\",\"Mc Alisterville\",\"Villa Grove\",\"Oakbrook Terrace\",\"Pinconning\",\"Oxbow\",\"Lenoir\",\"Xenia\",\"Cedar Springs\",\"Vining\",\"Custer\",\"Safford\",\"Mather\",\"Glenshaw\",\"Sweet Springs\",\"Grassflat\",\"Northampton\",\"Pacheco\",\"Richlands\",\"Goldens Bridge\",\"Laurel Hill\",\"Donalds\",\"Laughlin\",\"Swan River\",\"Yadkinville\",\"Dawson\",\"Swainsboro\",\"Wells Tannery\",\"Filer\",\"Marshallville\",\"Butner\",\"Franklin Square\",\"Franklinton\",\"Esperance\",\"Hydesville\",\"Foreston\",\"Britt\",\"Punxsutawney\",\"Shamokin\",\"Greenfield Center\",\"Zephyr Cove\",\"Pattersonville\",\"Skykomish\",\"Huntingtown\",\"Cosmos\",\"Calhoun Falls\",\"Torrey\",\"Olive Branch\",\"Millerton\",\"Lonsdale\",\"Uxbridge\",\"Snow Shoe\",\"Millersburg\",\"Willow Beach\",\"Pittsboro\",\"Albertville\",\"Talmo\",\"Fowlerville\",\"Montville\",\"Steinhatchee\",\"Napoleon\",\"Browns Mills\",\"Montgomery Village\",\"Montgomery City\",\"Fort Duchesne\",\"Fort Edward\",\"Old Greenwich\",\"Kerkhoven\",\"Monteagle\",\"Fort Mohave\",\"Corinth\",\"Whaleyville\",\"Scotch Plains\",\"Moneta\",\"Lowville\",\"Blandford\",\"Bunnell\",\"Mohawk\",\"Yuma\",\"Burnt Ranch\",\"Haddon Heights\",\"Edwardsville\",\"Egg Harbor City\",\"Wareham\",\"Duxbury\",\"Hampden\",\"Carr\",\"Havertown\",\"Riverwoods\",\"Barclay\",\"Mendocino\",\"Widener\",\"Lake Wales\",\"Lake Wilson\",\"Lakeside\",\"Muncie\",\"Lakewood Ranch\",\"Bates City\",\"Hockley\",\"Cross Hill\",\"Sutherland\",\"Duffield\",\"Parachute\",\"Dubuque\",\"Fish Camp\",\"Crothersville\",\"Glen Head\",\"Cayce\",\"Lapeer\",\"Edmonds\",\"Lowgap\",\"Rock Springs\",\"Eaton\",\"Howe\",\"Valley\",\"Winter Haven\",\"Allyn\",\"Florahome\",\"Smiths Creek\",\"Remlap\",\"Hat Creek\",\"Skippers\",\"Bracey\",\"Fulda\",\"Peachtree City\",\"Blytheville\",\"Newalla\",\"Mansfield Center\",\"Wisconsin Rapids\",\"Piqua\",\"Fitzpatrick\",\"Garyville\",\"Ponte Vedra Beach\",\"Taberg\",\"Madeline\",\"Colts Neck\",\"Luthersburg\",\"Hainesville\",\"Socorro\",\"Washington Boro\",\"Connersville\",\"Hammett\",\"Hawley\",\"Wellton\",\"Harvard\",\"Crystal Lake\",\"Clarion\",\"Churubusco\",\"Maple Park\",\"Oakville\",\"Wellesley Hills\",\"Crescent Mills\",\"Altamont\",\"Ocean View\",\"Palisades Park\",\"Tenino\",\"Alpha\",\"Haslett\",\"Saint Francis\",\"Coppell\",\"Lookout\",\"Cosmopolis\",\"Cosby\",\"Lorida\",\"Alford\",\"Rocky River\",\"Ridge\",\"Pierson\",\"Cohasset\",\"Rincon\",\"Olanta\",\"Madisonville\",\"Harlan\",\"Marked Tree\",\"Hamptonville\",\"Marshalltown\",\"Hudson Falls\",\"Springwater\",\"Berkley\",\"Mineola\",\"Cabazon\",\"Bethune\",\"Beverly Hills\",\"New Carlisle\",\"Westford\",\"Upper Chichester\",\"Minnesota City\",\"New Brighton\",\"Patton\",\"New Boston\",\"Byers\",\"Miramonte\",\"Schaghticoke\",\"Remsen\",\"Saint Paul Park\",\"Eastman\",\"Nine Mile Falls\",\"Menomonie\",\"Barrett\",\"Pinetops\",\"Gay\",\"Pinewood\",\"Beale AFB\",\"Newburyport\",\"Sprakers\",\"Lagrange\",\"Valparaiso\",\"Lacombe\",\"Lillington\",\"Sacred Heart\",\"West Winfield\",\"Standish\",\"Union Mills\",\"Eagle Rock\",\"Forest City\",\"Reed Point\",\"Floyd\",\"Stewart\",\"Kalama\",\"Branchburg\",\"Fairland\",\"Faison\",\"Stilwell\",\"Jamaica Plain\",\"Sedalia\",\"Fitzgerald\",\"Jeffers\",\"Jeffersonton\",\"Johannesburg\",\"Peculiar\",\"Brightwood\",\"Pocono Summit\",\"Nevis\",\"Brocton\",\"Burnham\",\"Union Grove\",\"Neotsu\",\"Fort Stewart\",\"Bucyrus\",\"Pell City\",\"Fort Myer\",\"Osceola Mills\",\"Nazareth\",\"Black Creek\",\"Rosendale\",\"Ionia\",\"Black Mountain\",\"Brooklawn\",\"Bronson\",\"Carver\",\"Hot Springs\",\"Mcdonough\",\"Delran\",\"Veyo\",\"South Lyon\",\"Mayport\",\"Hiram\",\"Ramsey\",\"Rio Grande\",\"McGregor\",\"Ramseur\",\"Volcano\",\"Gleneden Beach\",\"Champions Gate\",\"Center Point\",\"Delavan\",\"Cedar Grove\",\"Glenns Ferry\",\"North Providence\",\"Lauderhill\",\"Mattawan\",\"North Scituate\",\"Peotone\",\"Pequot Lakes\",\"Dodge City\",\"Saint Ignatius\",\"Askov\",\"Pine\",\"Armagh\",\"Castleberry\",\"Gold Creek\",\"Mayesville\",\"Woodland Park\",\"Graceville\",\"Libby\",\"Castle Hayne\",\"Lexington Park\",\"Catawissa\",\"Aylett\",\"Nunnelly\",\"Holland Patent\",\"Woodcliff Lake\",\"North Plains\",\"Eads\",\"Ansonia\",\"Chase City\",\"Dudley\",\"Herculaneum\",\"South Setauket\",\"Hickman\",\"Seven Valleys\",\"Broken Arrow\",\"Blackville\",\"Anaconda\",\"Blairsville\",\"White House\",\"Montvale\",\"Black River Falls\",\"Riggins\",\"Melvindale\",\"Brayton\",\"Zelienople\",\"Nakina\",\"Wilcox\",\"Smithville\",\"Rio Dell\",\"Redway\",\"Seaside Heights\",\"Concho\",\"Anna\",\"Bodega\",\"Sedro Woolley\",\"Norway\",\"Whitewater\",\"Seguin\",\"Mableton\",\"Williamson\",\"Ringoes\",\"Ragged Point\",\"Richfield Springs\",\"Breinigsville\",\"Bricelyn\",\"Mauldin\",\"Okabena\",\"Raiford\",\"Camano Island\",\"Beechgrove\",\"Manitowoc\",\"Alpena\",\"Woodstown\",\"Middleton\",\"Middlebury Center\",\"Mead\",\"Canoga Park\",\"Middleboro\",\"Ottawa\",\"Manorville\",\"West Warwick\",\"Rock Island\",\"Manson\",\"Altavista\",\"West Liberty\",\"Saint Martinville\",\"Manton\",\"Shelby Township\",\"Ransomville\",\"Ballantine\",\"McIntosh\",\"Rawlins\",\"Pageland\",\"New Lebanon\",\"Ozone Park\",\"Neola\",\"Saint Helena Island\",\"Yaphank\",\"Nesbit\",\"Worden\",\"New Alexandria\",\"Rhoadesville\",\"Center Valley\",\"Olyphant\",\"West Decatur\",\"Shalimar\",\"Byram\",\"Pullman\",\"Saint James\",\"Allegan\",\"Manchester Township\",\"Atalissa\",\"Bethel Island\",\"Berry Creek\",\"New Germany\",\"North Barrington\",\"Rimrock\",\"Toluca Lake\",\"Hewlett\",\"Crosby\",\"Foster City\",\"Fort Thomas\",\"Vanceboro\",\"Fort Klamath\",\"Springboro\",\"Pelican Rapids\",\"Tonto Basin\",\"Gordonville\",\"Ehrhardt\",\"Stuttgart\",\"Knox\",\"Elburn\",\"Unityville\",\"Unionville\",\"Corsica\",\"Harlem\",\"Panorama City\",\"Roselle Park\",\"Kinards\",\"Pavilion\",\"Kildeer\",\"Hershey\",\"Gardners\",\"Good Thunder\",\"Folcroft\",\"Elwood\",\"Parowan\",\"Cross River\",\"Tafton\",\"Huntsburg\",\"Hartselle\",\"Fruitland Park\",\"Lilly\",\"Toccoa\",\"South River\",\"Waddell\",\"Temple City\",\"Haubstadt\",\"Frenchtown\",\"Dingmans Ferry\",\"Tallapoosa\",\"Greycliff\",\"Southgate\",\"Duvall\",\"Dover Plains\",\"Hurley\",\"Dravosburg\",\"Sunset\",\"Hurricane Mills\",\"Dry Branch\",\"Lanesboro\",\"Green Brook\",\"Littlefork\",\"Duquesne\",\"Durant\",\"Durhamville\",\"Pegram\",\"Coupland\",\"Cool Ridge\",\"Platina\",\"Cope\",\"Tuscumbia\",\"Loxahatchee\",\"Kawkawlin\",\"Story City\",\"Society Hill\",\"Cook\",\"Evanston\",\"Pine Brook\",\"Hooversville\",\"Plato\",\"Turbotville\",\"Kaibeto\",\"Tavernier\",\"Jensen\",\"Johnsonburg\",\"Stone Ridge\",\"Gold Canyon\",\"South Glens Falls\",\"Ennis\",\"Laurinburg\",\"Shoreham\",\"Havre\",\"Petal\",\"Sunrise\",\"Las Animas\",\"Buckhead\",\"Buckingham\",\"Blue Ridge\",\"Hill AFB\",\"Percival\",\"Trussville\",\"Heth\",\"Schnecksville\",\"Pinehurst\",\"Plantation\",\"Swannanoa\",\"Hayneville\",\"Red Oak\",\"Blue Ash\",\"Hyde Park\",\"Meadville\",\"Tahoma\",\"Tahoe Vista\",\"Paxinos\",\"Frankford\",\"Browerville\",\"Yacolt\",\"Bonaire\",\"Kennewick\",\"Owings\",\"Mc Kean\",\"Oak Ridge\",\"New Hope\",\"Potter Valley\",\"De Leon Springs\",\"Hartsel\",\"Deep River\",\"North Bay Village\",\"Rixeyville\",\"Mount Solon\",\"Wheatley\",\"Tuckerman\",\"Tucumcari\",\"Schellsburg\",\"Rockmart\",\"Maxton\",\"Topsham\",\"Fairmount\",\"Voorheesville\",\"Desoto\",\"Voluntown\",\"Central Islip\",\"Mountain Ranch\",\"San Marino\",\"Peterson\",\"Holyoke\",\"Hingham\",\"Le Mars\",\"Attleboro Falls\",\"Whitmire\",\"Athol\",\"Ryan\",\"Plover\",\"Point Arena\",\"Essexville\",\"Lacey\",\"Wynantskill\",\"Moriarty\",\"La Marque\",\"Camp Verde\",\"Wewahitchka\",\"English\",\"Quitman\",\"Vado\",\"Efland\",\"Tuskegee\",\"White Pine\",\"Norton\",\"Tifton\",\"East Setauket\",\"Cabin Creek\",\"Thorp\",\"Kittanning\",\"Elk River\",\"Ashford\",\"Elmore\",\"Stephentown\",\"Riverhead\",\"Roaring Branch\",\"Union Point\",\"Moosup\",\"Glassboro\",\"Buskirk\",\"Stow\",\"East New Market\",\"Plush\",\"Bal Harbour\",\"Schoolcraft\",\"Saltese\",\"Eagle Mountain\",\"Tewksbury\",\"Spirit Lake\",\"Carthage\",\"Montross\",\"Veradale\",\"River Forest\",\"Glen Campbell\",\"Incline Village\",\"East Aurora\",\"Fosston\",\"Carmichaels\",\"Roseau\",\"Pikeville\",\"Island Falls\",\"Indian Head\",\"Indian Rocks Beach\",\"East Granby\",\"East Haddam\",\"Isabella\",\"Cantua Creek\",\"Laingsburg\",\"Ottawa Lake\",\"Inglis\",\"Interlochen\",\"Sheffield\",\"Brundidge\",\"Schoharie\",\"Weiser\",\"Lynn Haven\",\"Concordia\",\"Baudette\",\"Slingerlands\",\"Saukville\",\"Belews Creek\",\"Mantorville\",\"Clarksboro\",\"Rimersburg\",\"Slate Hill\",\"Newborn\",\"Hager City\",\"Belden\",\"Chilhowie\",\"Cherry Valley\",\"Wauseon\",\"Cotopaxi\",\"Mars\",\"Continental Divide\",\"Tappahannock\",\"Horseheads\",\"New Richland\",\"Taneytown\",\"Coalville\",\"Accomac\",\"Bear Mountain\",\"Rison\",\"Sauquoit\",\"Beaver Dam\",\"Pharr\",\"Prewitt\",\"Corona Del Mar\",\"Clendenin\",\"Cocoa Beach\",\"Alexander City\",\"Renville\",\"Corry\",\"Cobb\",\"Walworth\",\"Harrington\",\"Sneads\",\"Stephenson\",\"Sultan\",\"Eagle Bridge\",\"Poynette\",\"Otsego\",\"Brogan\",\"Tomkins Cove\",\"Manistee\",\"Ada\",\"Galax\",\"Byhalia\",\"Rosharon\",\"Hahira\",\"Lambsburg\",\"Koosharem\",\"Wolcott\",\"Washington Township\",\"Langley\",\"Niantic\",\"Catharpin\",\"Surry\",\"Pinecrest\",\"Broad Brook\",\"Beacon Falls\",\"Hollsopple\",\"Kooskia\",\"Eight Mile\",\"Franklin Lakes\",\"Castle Creek\",\"Lovingston\",\"Wetmore\",\"Gordon\",\"Moravia\",\"Hazlet Township\",\"Maple Lake\",\"Thurmont\",\"Strafford\",\"Ulysses\",\"Giltner\",\"Rebersburg\",\"Mexico\",\"Tollhouse\",\"Hensley\",\"Loma\",\"Oriskany\",\"Pride\",\"Waunakee\",\"La Porte City\",\"Barnhart\",\"Glade Hill\",\"Waupaca\",\"Needmore\",\"Horseshoe Bend\",\"Webster City\",\"East Northport\",\"International Falls\",\"Bismarck\",\"Bumpass\",\"Cape Charles\",\"West Suffield\",\"Sanders\",\"Nerstrand\",\"Balaton\",\"Springerville\",\"Siloam Springs\",\"Nicholson\",\"Lake Odessa\",\"England\",\"Wray\",\"Skyforest\",\"Flora\",\"Browns Summit\",\"Arlee\",\"Lake Hopatcong\",\"Rushville\",\"Arrington\",\"Coventry\",\"Pennington\",\"Grady\",\"Rosemont\",\"Edgemoor\",\"Cokato\",\"Green Sea\",\"Kaufman\",\"North Wilkesboro\",\"Dahlgren\",\"Danube\",\"Bentleyville\",\"Roundup\",\"Tallulah\",\"Wingdale\",\"Buzzards Bay\",\"Blanchester\",\"Fort Benning\",\"Mayflower\",\"Woodsboro\",\"Agate\",\"Lorain\",\"Saguache\",\"Sabattus\",\"Bono\",\"Seeley Lake\",\"Blair\",\"Centerfield\",\"South Elgin\",\"Rehoboth Beach\",\"Tulelake\",\"Holtwood\",\"Morris Plains\",\"Fair Haven\",\"Winnebago\",\"University Park\",\"Ocean Springs\",\"Rustburg\",\"Tioga\",\"Silas\",\"Guilderland\",\"Mount Wolf\",\"Deansboro\",\"Topping\",\"Mount Ulla\",\"Silt\",\"Charlo\",\"Radnor\",\"Fellows\",\"Riegelwood\",\"Marshville\",\"Matamoras\",\"Battle Mountain\",\"Summit Argo\",\"Pearl River\",\"Ferrum\",\"South Pittsburg\",\"Mattawa\",\"Wahkon\",\"Del Norte\",\"Mount Pocono\",\"Newport Coast\",\"Barneveld\",\"Ariel\",\"Pine Mountain\",\"Chimacum\",\"Columbia Cross Roads\",\"Newmanstown\",\"Coal Township\",\"Cusick\",\"Dolan Springs\",\"Lisbon\",\"Brewerton\",\"Currie\",\"McAdoo\",\"Convent\",\"Latimer\",\"Gladys\",\"McCammon\",\"Dows\",\"Waveland\",\"Orangeville\",\"Purcell\",\"Howes Cave\",\"Stormville\",\"Bolivar\",\"Red Lodge\",\"Swoope\",\"Pinetown\",\"Glennville\",\"Ostrander\",\"Newton Grove\",\"California City\",\"Port Penn\",\"Mc Cormick\",\"South Yarmouth\",\"Gautier\",\"South Burlington\",\"Elmer\",\"Lawrenceburg\",\"King Hill\",\"Eureka Springs\",\"Glenoma\",\"Astor\",\"Alto\",\"New Pine Creek\",\"Howard Lake\",\"Ismay\",\"Corona del Mar\",\"Narrows\",\"Mitchellville\",\"Strong\",\"Model\",\"Bartow\",\"Burkeville\",\"King\",\"Salix\",\"Stuarts Draft\",\"Saltsburg\",\"Blenheim\",\"Goode\",\"Wautoma\",\"Sussex\",\"Tarboro\",\"Mohnton\",\"Camden Wyoming\",\"Keyport\",\"Mukwonago\",\"Ewing\",\"Truro\",\"Snow Camp\",\"Mosinee\",\"Converse\",\"Bon Aqua\",\"Seatac\",\"White River Junction\",\"Colorado City\",\"Colonial Beach\",\"Kaukauna\",\"Bokeelia\",\"Hockessin\",\"Watkins Glen\",\"Stevens Point\",\"Brattleboro\",\"Tupelo\",\"Union Beach\",\"Zuni\",\"Mount Union\",\"Connelly Springs\",\"Ho Ho Kus\",\"Wibaux\",\"Mountain Rest\",\"Woodville\",\"Lyndon Station\",\"North Garden\",\"Boydton\",\"Lynn\",\"Boys Town\",\"Bozrah\",\"Mount Hamilton\",\"North Hartland\",\"Bonney Lake\",\"Highlands Ranch\",\"Madelia\",\"Rexburg\",\"Hamlet\",\"Montello\",\"Polk\",\"Kernville\",\"Cornish\",\"Unadilla\",\"Sweet Grass\",\"Slinger\",\"Kettle River\",\"Monongahela\",\"Sevierville\",\"Sandwich\",\"Haines City\",\"Blossburg\",\"Lost Creek\",\"Monee\",\"North Royalton\",\"Coker\",\"Riceville\",\"James Creek\",\"Senatobia\",\"Pamplin\",\"Cordele\",\"Orcutt\",\"Plantersville\",\"Moorestown\",\"Steamboat Springs\",\"Brownsboro\",\"Tygh Valley\",\"Sale Creek\",\"Rutland\",\"Montverde\",\"Jal\",\"Three Springs\",\"Kelliher\",\"Sebeka\",\"Elkwood\",\"Cayuga\",\"Big Bar\",\"Vesta\",\"Mcgregor\",\"Hurt\",\"Talking Rock\",\"Vesuvius\",\"Guyton\",\"Temperance\",\"Owego\",\"Lava Hot Springs\",\"Summersville\",\"Dover AFB\",\"Gurley\",\"Cummings\",\"Silverthorne\",\"Alum Bank\",\"Page\",\"Mc Rae\",\"Big Bend\",\"Cubero\",\"Dunellen\",\"Chualar\",\"Sullivan\",\"Titus\",\"Netcong\",\"Ajo\",\"Mendon\",\"Eagle Springs\",\"Sulphur\",\"Penn Laird\",\"Clare\",\"Franconia\",\"Axis\",\"Melbourne Beach\",\"Dyer\",\"Crystal Springs\",\"New Raymer\",\"South Boston\",\"Castle Dale\",\"Bessemer City\",\"Linville\",\"West Park\",\"Champlain\",\"Pineland\",\"Lee Center\",\"Pottsville\",\"Leetsdale\",\"Leicester\",\"Sidell\",\"Wagener\",\"Bennington\",\"Deeth\",\"Berrien Springs\",\"Saranac\",\"Mastic\",\"Decorah\",\"Allegany\",\"Oregon House\",\"West Bend\",\"Samoa\",\"Marysvale\",\"Ogunquit\",\"Ohio City\",\"Petoskey\",\"Rhinelander\",\"Holton\",\"Vinemont\",\"Oberlin\",\"New Enterprise\",\"Dix Hills\",\"Grey Eagle\",\"Nokesville\",\"Harrisville\",\"Santo Domingo Pueblo\",\"Freeville\",\"Belle Glade\",\"Barkhamsted\",\"Powder Springs\",\"Wood River\",\"Silver Point\",\"Humphrey\",\"Mayville\",\"Lodge Grass\",\"Circleville\",\"The Colony\",\"Thorndale\",\"Traverse City\",\"Eatonton\",\"Biwabik\",\"Hadley\",\"East Taunton\",\"Port Allegany\",\"Spring House\",\"Coxsackie\",\"Middleport\",\"Crab Orchard\",\"East Nassau\",\"Middle Village\",\"Crabtree\",\"Spring Arbor\",\"Gallitzin\",\"East Hampton\",\"Holladay\",\"La Habra\",\"Gore\",\"Ravenswood\",\"Sturgis\",\"Robertsdale\",\"Lordsburg\",\"Blairsburg\",\"Pompeys Pillar\",\"Galveston\",\"Fort Defiance\",\"Knapp\",\"Swisshome\",\"Miller Place\",\"Eldred\",\"Shannon\",\"Northridge\",\"Riceboro\",\"New Wilmington\",\"Presto\",\"Goodyears Bar\",\"Wyola\",\"Richmondville\",\"Indialantic\",\"Sylacauga\",\"Clarklake\",\"Gothenburg\",\"Pilesgrove\",\"Norridge\",\"Pella\",\"Crofton\",\"Saxton\",\"Clarkesville\",\"Port Costa\",\"Sprague\",\"East Carbon\",\"Tappan\",\"East Canaan\",\"Toomsuba\",\"Tryon\",\"Iowa Park\",\"North Billerica\",\"Franklinville\",\"Hopkinsville\",\"Frametown\",\"Fiddletown\",\"Willis\",\"Bonnieville\",\"Ferdinand\",\"Fort Deposit\",\"Jarrell\",\"Homer\",\"Boonsboro\",\"Battleboro\",\"Scenery Hill\",\"Bear Creek\",\"Iron\",\"Blairstown\",\"Wise\",\"Gate City\",\"Belt\",\"Homerville\",\"Niota\",\"Galeton\",\"Blackstock\",\"Strykersville\",\"Imlay\",\"Muscatine\",\"Orefield\",\"New Galilee\",\"Frostproof\",\"Natural Bridge Station\",\"Belle Chasse\",\"Scottsboro\",\"Birds Landing\",\"Bastian\",\"Bass Lake\",\"Beaver Crossing\",\"Ault\",\"Wirtz\",\"Fiskdale\",\"Badger\",\"Basalt\",\"Blountstown\",\"Round Lake Heights\",\"Gasburg\",\"New Town\",\"Rowesville\",\"Hustontown\",\"Austerlitz\",\"New Plymouth\",\"Bois D Arc\",\"Gill\",\"Avella\",\"Summerhill\",\"Blachly\",\"Mukilteo\",\"Tipp City\",\"Oriskany Falls\",\"Blue Jay\",\"Nederland\",\"Gadsden\",\"Aubrey\",\"Reynolds\",\"Biscayne Park\",\"New Providence\",\"Aulander\",\"Schererville\",\"Genesee\",\"Banning\",\"Beryl\",\"New Madison\",\"Turtle Creek\",\"Graysville\",\"West Concord\",\"Cement City\",\"Dodgeville\",\"Greens Fork\",\"Port Washington\",\"Virginia Gardens\",\"Omro\",\"Le Claire\",\"Center Hill\",\"Dike\",\"Sagle\",\"Dickens\",\"Grottoes\",\"Harwood Heights\",\"Dansville\",\"Deposit\",\"Mauston\",\"Chalmers\",\"Denison\",\"Grygla\",\"Lenox\",\"Alliance\",\"Chariton\",\"Waite Park\",\"Pacific Grove\",\"Marydel\",\"Darwin\",\"Laurys Station\",\"Dolores\",\"Cedar Key\",\"McCleary\",\"Gravette\",\"Wysox\",\"Roscommon\",\"Early\",\"Earlham\",\"Earleville\",\"Lake Village\",\"Cascadia\",\"Shepherdsville\",\"Port Jefferson\",\"Dyersburg\",\"Caspar\",\"Dupo\",\"Terry\",\"Meadowview\",\"Landisburg\",\"Amelia\",\"Cato\",\"Mccloud\",\"Alvin\",\"Spangle\",\"Drewryville\",\"Drakes Branch\",\"Yerington\",\"Larwill\",\"San Juan\",\"Danielson\",\"Granite\",\"Cornelia\",\"Aguilar\",\"Teec Nos Pos\",\"Waycross\",\"Cobleskill\",\"Cornwall Bridge\",\"Cornwall\",\"Maiden\",\"Mahaffey\",\"Colbert\",\"Somerdale\",\"Hallstead\",\"Loudon\",\"Sloan\",\"Dallesport\",\"Lowndesboro\",\"Colleyville\",\"Watkinsville\",\"Colquitt\",\"Smithmill\",\"Mabelvale\",\"Luling\",\"Oliver Springs\",\"Hannacroix\",\"Lumberton\",\"Luna Pier\",\"Luning\",\"Longville\",\"Long Lake\",\"Covert\",\"Long Branch\",\"San Jacinto\",\"Paris\",\"Gulliver\",\"Harrison City\",\"Rolla\",\"Chittenango\",\"Culdesac\",\"Pylesville\",\"Putney\",\"Simsbury\",\"Cibola\",\"Wapakoneta\",\"Croton On Hudson\",\"Okemah\",\"Harpursville\",\"Lockhart\",\"Locust Fork\",\"Crompond\",\"Manzanola\",\"Crimora\",\"Creede\",\"Claxton\",\"Pratt\",\"Cozad\",\"Warrendale\",\"East Boston\",\"Cadillac\",\"Veedersburg\",\"Sewaren\",\"Point Mugu Nawc\",\"Statesboro\",\"Moodus\",\"Stateline\",\"White\",\"Wrentham\",\"Good Hope\",\"Star City\",\"Embarrass\",\"Budd Lake\",\"Monetta\",\"Robbinsville\",\"High Bridge\",\"Weyauwega\",\"Pawcatuck\",\"Stantonsburg\",\"Kiln\",\"Burley\",\"Elm Creek\",\"Burtrum\",\"Butte City\",\"Kings Canyon National Pk\",\"Raytown\",\"Northborough\",\"Twin Lakes\",\"Rowley\",\"Arco\",\"Woody\",\"Farwell\",\"Glen Gardner\",\"North Dartmouth\",\"Glen Oaks\",\"Boxborough\",\"Woodward\",\"Mount Holly Springs\",\"Whiting\",\"Whitesburg\",\"Seiad Valley\",\"Selbyville\",\"Turbeville\",\"Eudora\",\"Whitehouse Station\",\"Mossyrock\",\"Kandiyohi\",\"Whiteford\",\"Moselle\",\"Evans Mills\",\"Whitefield\",\"Bridger\",\"Smock\",\"Red Creek\",\"Kaycee\",\"Pomona Park\",\"Hesperia\",\"Edon\",\"Rock Falls\",\"East Sandwich\",\"Raton\",\"Camp Douglas\",\"Mifflinville\",\"Vandergrift\",\"Cape May\",\"Sycamore\",\"Middleville\",\"Wyandanch\",\"Van Horn\",\"Port Bolivar\",\"Ebro\",\"Merry Hill\",\"Van Wert\",\"Miles City\",\"Sylva\",\"Appomattox\",\"Sheboygan Falls\",\"Elbe\",\"Anthony\",\"East Chicago\",\"Kneeland\",\"Lacona\",\"Middle Grove\",\"Middle Island\",\"Northglenn\",\"Eldridge\",\"Rock River\",\"Tazewell\",\"Hermantown\",\"North Las Vegas\",\"Glen Carbon\",\"Ribera\",\"Tecumseh\",\"Yakima\",\"Genoa\",\"Wooster\",\"Swanquarter\",\"Richwood\",\"Womelsdorf\",\"Oak Hill\",\"Tavares\",\"Abbotsford\",\"Graford\",\"Hampton Bays\",\"Angelus Oaks\",\"Hinesville\",\"Pinetta\",\"Gillette\",\"Bald Knob\",\"Glen Ullin\",\"Gilmore\",\"Olin\",\"Norlina\",\"Oldtown\",\"Hamel\",\"Ashley\",\"North Palm Beach\",\"Americus\",\"Pine Plains\",\"Barksdale AFB\",\"Ohkay Owingeh\",\"Oakwood\",\"Grapeview\",\"Youngtown\",\"Onawa\",\"Hartley\",\"Hartly\",\"Three Oaks\",\"Thornville\",\"Wood Ridge\",\"Wurtsboro\",\"Arcade\",\"Roxbury\",\"Woodlawn\",\"Rudolph\",\"Alpine Meadows\",\"Hesston\",\"Guthrie\",\"Supply\",\"Alvarado\",\"Ailey\",\"Oakland Mills\",\"Haddon Township\",\"Higginsville\",\"Olympic Valley\",\"Hastings On Hudson\",\"North Plainfield\",\"Swarthmore\",\"Antrim\",\"Oakman\",\"Ash\",\"Salley\",\"Riga\",\"Alanson\",\"Sanbornville\",\"Wrenshall\",\"Goldvein\",\"Attalla\",\"Luxora\",\"Tomales\",\"Melissa\",\"Rancho Palos Verdes\",\"Vernon Center\",\"Cassville\",\"Casper\",\"Ouray\",\"Melfa\",\"Rockland\",\"Ovando\",\"Dysart\",\"Eagle River\",\"Carrolltown\",\"Lake Mills\",\"Venus\",\"West Salem\",\"Rancho Dominguez\",\"Dumas\",\"Shady Spring\",\"Doniphan\",\"Virgin\",\"Dix\",\"West Fork\",\"Mc Gaheysville\",\"Mc Graw\",\"Laurel Springs\",\"McHenry\",\"Castlewood\",\"Mcarthur\",\"Spanish Fort\",\"Mcclellan\",\"Lanoka Harbor\",\"Lanett\",\"Lanesville\",\"Port Crane\",\"Carnation\",\"Carlin\",\"California\",\"Egnar\",\"Calverton\",\"Elba\",\"Millmont\",\"Elberta\",\"Pompton Plains\",\"Westerlo\",\"Carey\",\"Cadiz\",\"Bay Head\",\"Eleva\",\"Elk Mound\",\"Elkmont\",\"Ellisville\",\"Rocheport\",\"Effie\",\"Edwardsburg\",\"Ravenel\",\"Poncha Springs\",\"Campton\",\"Valley Cottage\",\"East Troy\",\"East Palo Alto\",\"Laguna Woods\",\"Lake Ariel\",\"Mi Wuk Village\",\"Sprague River\",\"Metropolis\",\"Vass\",\"Cardiff By The Sea\",\"Lake Geneva\",\"Mc Connells\",\"Mc Clure\",\"Mc Clellandtown\",\"Somes Bar\",\"Coalport\",\"Rockwell\",\"Corryton\",\"Slatington\",\"Manchaca\",\"Corsicana\",\"Manitou Springs\",\"Lockesburg\",\"Sopchoppy\",\"Claysburg\",\"Crawley\",\"Loman\",\"Crewe\",\"Crittenden\",\"Sligo\",\"Cornersville\",\"Palm Springs\",\"Cornell\",\"Lovelock\",\"Loving\",\"Watseka\",\"Collingswood\",\"Hampton Falls\",\"Lytle Creek\",\"Columbia Station\",\"Columbus Grove\",\"Comanche\",\"Smithsburg\",\"Lumber Bridge\",\"Conowingo\",\"Connellsville\",\"Weems\",\"Purvis\",\"Center Moriches\",\"Raeford\",\"West Boylston\",\"Charlotte Court House\",\"Rolling Prairie\",\"Leonardo\",\"Massapequa Park\",\"South Orange\",\"Dent\",\"Cross Junction\",\"Wabasso\",\"Maysville\",\"Volo\",\"Diberville\",\"Mazeppa\",\"Dillsboro\",\"Waldwick\",\"Liberty Lake\",\"Lignum\",\"Lilliwaup\",\"Dardanelle\",\"Lind\",\"Marmora\",\"Walnut Cove\",\"South Colton\",\"Pardeeville\",\"Cumberland Furnace\",\"Marinette\",\"Marine On Saint Croix\",\"Chinook\",\"Little Egg Harbor Twp\",\"Little Ferry\",\"Citronelle\",\"Elmira\",\"Upperco\",\"Orono\",\"Floral City\",\"Fort Johnson\",\"Bells\",\"Natrona Heights\",\"Treasure Island\",\"Nathrop\",\"Blakeslee\",\"Iron City\",\"Fort Atkinson\",\"Forksville\",\"Howland\",\"Pekin\",\"Florham Park\",\"Stratham\",\"Bluefield\",\"Birdseye\",\"Jane Lew\",\"Toppenish\",\"Munds Park\",\"Bolivia\",\"Platte\",\"Mulberry\",\"Jermyn\",\"Feura Bush\",\"Stonington\",\"New Sharon\",\"Mountain\",\"Boswell\",\"Mount Pleasant Mills\",\"Wills Point\",\"Inlet Beach\",\"Whitwell\",\"Big Falls\",\"Berkey\",\"Wingate\",\"Friendship\",\"Friedens\",\"Berne\",\"Pisgah Forest\",\"New Ellenton\",\"Freeland\",\"Toughkenamon\",\"Towanda\",\"New Caney\",\"Fraser\",\"Hutto\",\"Frankenmuth\",\"Hoxie\",\"Schroon Lake\",\"Topsfield\",\"Schuyler\",\"Schaller\",\"Imlay City\",\"Big Springs\",\"Birchwood\",\"New Meadows\",\"Neosho Rapids\",\"Scipio\",\"Oriska\",\"Indianola\",\"Nekoosa\",\"Fruita\",\"Beebe\",\"Brodhead\",\"Brownsburg\",\"Brookland\",\"Kemah\",\"Sunman\",\"Stem\",\"White Lake\",\"Beaver Creek\",\"Sentinel Butte\",\"Tybee Island\",\"Kenneth City\",\"Brooten\",\"Ritzville\",\"Emmons\",\"Garrett\",\"Kent City\",\"Keezletown\",\"Bruce Twp\",\"Pennsville\",\"Monte Vista\",\"Bruneau\",\"Brush\",\"Star Tannery\",\"Kewadin\",\"Newman Lake\",\"Keyes\",\"Buhl\",\"Satartia\",\"Keystone\",\"Moline\",\"Kelford\",\"Huguenot\",\"Erwin\",\"Stewartstown\",\"Beaverdam\",\"Mount Lemmon\",\"Far Hills\",\"Fannettsburg\",\"Boyd\",\"Falls Village\",\"Judsonia\",\"Tunnel Hill\",\"Justin\",\"Mount Bethel\",\"Mount Ayr\",\"Kabetogama\",\"Moundville\",\"Moses Lake\",\"Broad Top\",\"Moroni\",\"New Zion\",\"Brimfield\",\"Plumas Lake\",\"Plumerville\",\"Evart\",\"Kankakee\",\"Pennsylvania Furnace\",\"Pioche\",\"San Acacia\",\"Oracle\",\"Prinsburg\",\"Pinnacle\",\"Reynoldsville\",\"Saline\",\"Penn Run\",\"Ordway\",\"Pavo\",\"Parish\",\"Rothsay\",\"Paulden\",\"Osterburg\",\"Pawling\",\"Poland\",\"Saint Michael\",\"Ponce De Leon\",\"Osburn\",\"Onley\",\"Pontiac\",\"Only\",\"Ottertail\",\"Saint Robert\",\"Overgaard\",\"Pounding Mill\",\"Peshastin\",\"Pine Mountain Club\",\"Rotterdam Junction\",\"Rougemont\",\"Owasso\",\"Saint James City\",\"Rootstown\",\"Roberta\",\"Roopville\",\"Pacific Junction\",\"Riner\",\"Paducah\",\"Palos Park\",\"Little Orleans\",\"Fortson\",\"Tower\",\"Fitzwilliam\",\"Flag Pond\",\"Flagler\",\"Flatwoods\",\"Trion\",\"Ford\",\"Forest Home\",\"Forest Lakes\",\"Fork Union\",\"Olalla\",\"Towner\",\"Towaoc\",\"Farmington Hills\",\"Towaco\",\"Topaz\",\"Galion\",\"Garrettsville\",\"Germanton\",\"Timnath\",\"Glens Falls\",\"Tigerton\",\"Golconda\",\"Goreville\",\"Grandin\",\"Trumansburg\",\"Farmersville\",\"Vineyard\",\"Edinboro\",\"Vilas\",\"Vidalia\",\"Versailles\",\"Dushore\",\"Dutton\",\"Vardaman\",\"Vanderbilt\",\"Eastlake\",\"Valier\",\"Economy\",\"Eddington\",\"Egan\",\"Far Rockaway\",\"El Reno\",\"Elbow Lake\",\"Union Church\",\"Elysian\",\"Emmet\",\"Errol\",\"Tuscarora\",\"Evans\",\"Evansdale\",\"Evening Shade\",\"Fairhaven\",\"Grayson\",\"Green Lake\",\"Greene\",\"Stevensburg\",\"Ivor\",\"Stoystown\",\"Stonyford\",\"Jesup\",\"Jetersville\",\"Jobstown\",\"Johns Island\",\"Joiner\",\"Stoddard\",\"Joseph City\",\"Juliaetta\",\"Kenna\",\"Greenwood Village\",\"Keystone Heights\",\"Kilkenny\",\"Stanhope\",\"Kinderhook\",\"La Veta\",\"Laceys Spring\",\"Ladysmith\",\"Lake Benton\",\"Lake Jackson\",\"Lakota\",\"Lamberton\",\"Islandton\",\"Irwindale\",\"Iowa\",\"Igo\",\"Grimes\",\"Tenafly\",\"Hamer\",\"Tappen\",\"Harmans\",\"Tallassee\",\"Hawk Run\",\"Talbotton\",\"Hazlehurst\",\"Sylvester\",\"Hereford\",\"Hernandez\",\"Hiawatha\",\"Hillman\",\"Hobbs\",\"Homer City\",\"Hop Bottom\",\"Hosford\",\"Hot Sulphur Springs\",\"Sun Lakes\",\"Houtzdale\",\"Humeston\",\"Hyndman\",\"Dolgeville\",\"Disputanta\",\"Lawtey\",\"Bondurant\",\"Belgium\",\"Winsted\",\"Belle Haven\",\"Winnemucca\",\"Bemus Point\",\"Berlin Heights\",\"Big Stone Gap\",\"Wilseyville\",\"Birnamwood\",\"Willimantic\",\"Bogue Chitto\",\"Bosque Farms\",\"Belcher\",\"Bourbon\",\"Boutte\",\"Boyertown\",\"Brevard\",\"Brielle\",\"White Salmon\",\"Brillion\",\"Buffalo Lake\",\"Weyerhaeuser\",\"Burnt Hills\",\"Butterfield\",\"Belford\",\"Beecher\",\"Destrehan\",\"Angwin\",\"Abbottstown\",\"Accident\",\"Agawam\",\"Alameda\",\"Alexander\",\"Algonquin\",\"Alplaus\",\"Amanda\",\"Amissville\",\"Amma\",\"Anatone\",\"Arabi\",\"Beach City\",\"Argos\",\"Arimo\",\"Arkdale\",\"Ashaway\",\"Worley\",\"Ashland City\",\"Autryville\",\"Axtell\",\"Ayden\",\"Barton City\",\"Basom\",\"Byfield\",\"Caddo Mills\",\"Callao\",\"Craig\",\"Clint\",\"Clintonville\",\"Coleman\",\"Concrete\",\"Confluence\",\"Conklin\",\"Connell\",\"Coosawhatchie\",\"Cornville\",\"Corunna\",\"Warrens\",\"Warr Acres\",\"West Yarmouth\",\"Crestwood\",\"Cross City\",\"Crow Agency\",\"Crystal Beach\",\"Wamego\",\"Cyclone\",\"Walbridge\",\"Wakeman\",\"Wagon Mound\",\"Demorest\",\"Wabash\",\"Claverack\",\"Claremore\",\"Citrus Springs\",\"Church Road\",\"West Wendover\",\"Capac\",\"Cape Canaveral\",\"Capron\",\"Carbondale\",\"West Seneca\",\"West Mifflin\",\"West Lake Hills\",\"Cecil\",\"Cedar Glen\",\"West Creek\",\"Chattaroy\",\"Chauvin\",\"Cheney\",\"West Alexandria\",\"West Alexander\",\"Cherry Tree\",\"Chesapeake City\",\"Chichester\",\"Wellston\",\"Chinle\",\"Choteau\",\"Wellesley\",\"Lawley\",\"Harpers Ferry\",\"Skillman\",\"Newton Falls\",\"Mascoutah\",\"Miltona\",\"Sayre\",\"New Virginia\",\"Newbury\",\"Massillon\",\"Saucier\",\"Shasta\",\"Newington\",\"Lotus\",\"Sardis\",\"Linkwood\",\"Millen\",\"Maynardville\",\"Los Altos Hills\",\"Nicholasville\",\"South Beloit\",\"Metter\",\"Nicktown\",\"Little Sioux\",\"Little Elm\",\"South China\",\"Lumpkin\",\"New Preston Marble Dale\",\"New Lisbon\",\"Silver Bay\",\"Mantoloking\",\"Mound House\",\"Morenci\",\"Manteno\",\"Munster\",\"Moreland\",\"Morehead\",\"Sealy\",\"Montezuma\",\"Manassas Park\",\"Sea Bright\",\"Nappanee\",\"Marcellus\",\"Scipio Center\",\"Malcom\",\"Mardela Springs\",\"Mishawaka\",\"Mad River\",\"Marienville\",\"Maringouin\",\"Marion Station\",\"Merrimac\",\"Maple Hill\",\"San Tan Valley\",\"Meeker\",\"Lincroft\",\"Shermans Dale\",\"Mc Kenzie\",\"Limestone\",\"Menasha\",\"Shippensburg\",\"South Royalton\",\"Shinnston\",\"Leavenworth\",\"Shiprock\",\"Mc Gregor\",\"Mc Dermott\",\"San Geronimo\",\"Shoshone\",\"Ocean Ridge\",\"Leslie\",\"Lineville\",\"Coeymans Hollow\",\"Monaca\",\"Prosperity\",\"Coeburn\",\"East Amherst\",\"Dickinson Center\",\"Conestoga\",\"Momence\",\"Clute\",\"Shade Gap\",\"Rose Creek\",\"Conner\",\"Earlysville\",\"Coon Valley\",\"Miramar\",\"Vergennes\",\"Dyersville\",\"Corbin\",\"Dwight\",\"Corbin City\",\"Minot\",\"Cortland\",\"Coalmont\",\"Clements\",\"Clintwood\",\"Shinglehouse\",\"Chenango Forks\",\"Moxee\",\"Mount Jewett\",\"Mount Clemens\",\"Van Dyne\",\"Chesaning\",\"Cheverly\",\"Morningside\",\"East Moline\",\"East Millsboro\",\"Wellsburg\",\"East Mc Keesport\",\"Chugwater\",\"Moraga\",\"Chunchula\",\"Seneca Rocks\",\"Montevallo\",\"Clarissa\",\"Montara\",\"Cos Cob\",\"Mondamin\",\"East Falmouth\",\"Osgood\",\"Mineral Wells\",\"Rodman\",\"Preston Hollow\",\"Deer Trail\",\"Dalbo\",\"Poughquag\",\"Dale\",\"Dalmatia\",\"Daniels\",\"Davidsville\",\"Waleska\",\"De Kalb\",\"Menands\",\"Rollins\",\"Rollinsville\",\"Port Trevorton\",\"Defiance\",\"Costilla\",\"Mica\",\"Delphi\",\"Vintondale\",\"Shelburne Falls\",\"Sheldon\",\"Vonore\",\"Portageville\",\"Dillwyn\",\"Porter\",\"Porter Corners\",\"Devens\",\"Devils Lake\",\"Dagsboro\",\"Walls\",\"West Blocton\",\"Drake\",\"Warrensville\",\"Shickshinny\",\"Diamond Point\",\"Council\",\"Countryside\",\"Shevlin\",\"Mineral Point\",\"Durango\",\"Port Murray\",\"Duke Center\",\"Covesville\",\"Duck\",\"Sherrill\",\"Cresson\",\"Mills River\",\"Dripping Springs\",\"Crook\",\"Cropseyville\",\"Sharon Hill\",\"Millport\",\"Powhatan Point\",\"Millheim\",\"Dresden\",\"Cuba City\",\"Cudahy\",\"Millers Creek\",\"Parkston\",\"Mulliken\",\"Normal\",\"Becket\",\"Reseda\",\"Wittenberg\",\"Bean Station\",\"Bascom\",\"Bartonsville\",\"Wood Lake\",\"Ophir\",\"Baring\",\"Barhamsville\",\"Bargersville\",\"Baden\",\"Baconton\",\"Norris\",\"Wiscasset\",\"Saranac Lake\",\"West Bloomfield\",\"Bertha\",\"Blackwater\",\"Newfoundland\",\"Sarver\",\"Big Sandy\",\"Reevesville\",\"Wind Gap\",\"Rehoboth\",\"Sarcoxie\",\"Newton Center\",\"Winkelman\",\"Bellport\",\"Winnett\",\"Belleair Bluffs\",\"Sardinia\",\"North Arlington\",\"Ava\",\"North Attleboro\",\"Occoquan\",\"Yeagertown\",\"Yeehaw Junction\",\"Nunda\",\"Altheimer\",\"Almyra\",\"Almont\",\"Alburgh\",\"Aurelia\",\"Oconto\",\"Oelwein\",\"Adkins\",\"Adamsville\",\"Rileyville\",\"Ogema\",\"Amboy\",\"Ambridge\",\"Ridge Spring\",\"Noxon\",\"Notasulga\",\"Amston\",\"Northern Cambria\",\"Andrews\",\"North Woodstock\",\"Antigo\",\"Sandy Creek\",\"North Oxford\",\"Sandy Ridge\",\"North Bellmore\",\"North Baltimore\",\"Woolwich\",\"Atascosa\",\"Blairs\",\"Bloomer\",\"Bloomingburg\",\"Nauvoo\",\"West River\",\"West Roxbury\",\"Carlos\",\"Randsburg\",\"Rock Tavern\",\"Scottville\",\"Rapidan\",\"Camak\",\"Nebo\",\"Canadensis\",\"Campbellsburg\",\"Camp Creek\",\"Camilla\",\"Camdenton\",\"Seagoville\",\"Cassel\",\"Castalian Springs\",\"East Shasta\",\"Catoosa\",\"Cazenovia\",\"Sears\",\"Murphy\",\"Cedarhurst\",\"Central Square\",\"Cerro Gordo\",\"Chaffee\",\"West Collingswood\",\"West Burlington\",\"Champion\",\"Charlevoix\",\"Seaside Park\",\"Cambridge Springs\",\"Westby\",\"Bloxom\",\"New Tripoli\",\"Brinklow\",\"Oregonia\",\"New Palestine\",\"Bradenton Beach\",\"Whiteville\",\"Whitmore\",\"Bostic\",\"Westcliffe\",\"Borger\",\"Bonnie\",\"Saugatuck\",\"Bonduel\",\"Bolton Landing\",\"Newcomerstown\",\"Bristolville\",\"Broadview Heights\",\"Brodheadsville\",\"Brogue\",\"White Cloud\",\"New Florence\",\"New Fairfield\",\"New Eagle\",\"Busby\",\"New Concord\",\"New Church\",\"Westhampton Beach\",\"New Bethlehem\",\"Raymore\",\"Calcium\",\"Sciota\",\"Ray\",\"East Pittsburgh\",\"Early Branch\",\"Palisades\",\"Machias\",\"Pfafftown\",\"Harlingen\",\"Maggie Valley\",\"Harrells\",\"Magee\",\"Havelock\",\"Peterborough\",\"Haverstraw\",\"Slippery Rock\",\"Haysi\",\"Mackinaw\",\"Helen\",\"Helm\",\"Helmville\",\"Hemlock\",\"Hanahan\",\"Henagar\",\"Herlong\",\"Luverne\",\"Smyrna Mills\",\"Perkasie\",\"Swanville\",\"Swan Valley\",\"Lunenburg\",\"Rumsey\",\"Holloway\",\"Holly Ridge\",\"Ludlow\",\"Honey Grove\",\"Lucedale\",\"Tarrs\",\"Tawas City\",\"Geismar\",\"Golden Beach\",\"Gibsland\",\"Tivoli\",\"Tishomingo\",\"Pine Valley\",\"Glen Arm\",\"Marblemount\",\"Glenbeulah\",\"Sioux Rapids\",\"Glorieta\",\"Pine Bush\",\"Gloucester Point\",\"Maquoketa\",\"Gobles\",\"Tierra Amarilla\",\"Goodridge\",\"Hallam\",\"Six Lakes\",\"Grantsboro\",\"Grasston\",\"Piffard\",\"Graytown\",\"Teterboro\",\"Green Mountain Falls\",\"Greenbank\",\"Greenleaf\",\"Greenup\",\"Groveton\",\"Grundy\",\"Guffey\",\"Tekonsha\",\"Hope Valley\",\"Hoquiam\",\"Sunfield\",\"Stanberry\",\"Karthaus\",\"Sterrett\",\"Keenesburg\",\"Kendall\",\"Statham\",\"Kennedyville\",\"Kensett\",\"Keysville\",\"Park Falls\",\"Kimmell\",\"King William\",\"King and Queen Court House\",\"Kingdom City\",\"Kings Park\",\"Staatsburg\",\"Sunburg\",\"St Pete Beach\",\"Patrick AFB\",\"Knobel\",\"Spruce Pine\",\"La Jose\",\"Pass Christian\",\"La Verkin\",\"Leonardtown\",\"Lake\",\"Lake Barrington\",\"Lecompton\",\"Lake in the Hills\",\"Sperry\",\"Southborough\",\"Stilesville\",\"Peachtree Corners\",\"Linton\",\"Lizella\",\"Pennock\",\"Lowry\",\"Solen\",\"Houghton Lake\",\"Houlton\",\"Lovettsville\",\"Rural Valley\",\"Hubertus\",\"Saint Anthony\",\"Hummelstown\",\"Huttonsville\",\"Pencil Bluff\",\"Rush Valley\",\"Solgohachia\",\"Ida\",\"Pembine\",\"Sulligent\",\"Sula\",\"Sugar Hill\",\"Indiantown\",\"Interlaken\",\"Iola\",\"Lostant\",\"Loon Lake\",\"Lodge\",\"Strawberry Valley\",\"Jamieson\",\"Lockwood\",\"Lizton\",\"Marbury\",\"Olean\",\"Trinity Center\",\"Elwell\",\"Rough And Ready\",\"Finland\",\"Fisherville\",\"Point of Rocks\",\"Trumann\",\"Mastic Beach\",\"Flat Top\",\"Massena\",\"Emerson\",\"Flintstone\",\"Union Dale\",\"Markleville\",\"Union Hall\",\"Elm City\",\"Plummer\",\"Pomfret\",\"Fork\",\"Marston\",\"Trevorton\",\"Fort Gratiot\",\"Fort Mitchell\",\"Fort Payne\",\"Point Pleasant Boro\",\"Fife Lake\",\"Tyronza\",\"Fenelton\",\"Evans City\",\"Mc Alpin\",\"Mazomanie\",\"Estherville\",\"Faber\",\"Tunica\",\"Fairbanks\",\"Essig\",\"Fairhope\",\"Fairless Hills\",\"Eskdale\",\"Fall Branch\",\"Tukwila\",\"Erskine\",\"Twin Lake\",\"Pleasant Dale\",\"Tolono\",\"Fanning Springs\",\"May\",\"Sibley\",\"Sidman\",\"Elk Creek\",\"Mc Arthur\",\"Elizaville\",\"Gallion\",\"Mc Lain\",\"Frenchglen\",\"Fryeburg\",\"Ft Wright\",\"McKeesport\",\"Galien\",\"Edgar\",\"Eastport\",\"Freeman\",\"Saint Joe\",\"Garden Prairie\",\"Pink Hill\",\"Pontotoc\",\"Gas City\",\"Gaylordsville\",\"Rosebud\",\"French Lick\",\"Shoals\",\"Township Of Washington\",\"Elizabeth City\",\"Margate\",\"Free Union\",\"Elizabethton\",\"Tower City\",\"Vivian\",\"Varnville\",\"Starkville\",\"Star\",\"South Lebanon\",\"Rosholt\",\"Shipshewana\",\"Wyalusing\",\"Winooski\",\"Rosalia\",\"Sabillasville\",\"Velva\",\"Wyaconda\",\"Union Springs\",\"Sandersville\",\"Volant\",\"Sperryville\",\"South Wales\",\"Valley Ford\",\"Spanishburg\",\"Sandy River Plt\",\"Shoshoni\",\"Winger\",\"Turrell\",\"South Hackensack\",\"Twinsburg\",\"State Road\",\"Two Dot\",\"Wolfeboro\",\"Woodbury Heights\",\"South Dennis\",\"Upperville\",\"South Windham\",\"Ulster Park\",\"Sabin\",\"Woodrow\",\"Ulster\",\"Shonto\",\"Vina\",\"Stockholm\",\"Uhrichsville\",\"Sapulpa\",\"Vermilion\",\"Wolf Point\",\"South Bloomfield\",\"Stoneville\",\"Squaw Lake\",\"Wright City\",\"Spruce Creek\",\"Wittmann\",\"Yelm\",\"Springville-Johnsondale\",\"Tyngsboro\",\"Virgilina\",\"Salkum\",\"Weeki Wachee\",\"Riviera Beach\",\"Waddy\",\"Thiells\",\"Roxbury Crossing\",\"Shadyside\",\"Wassaic\",\"West Frankfort\",\"Royal\",\"Waskish\",\"Valley Head\",\"West Lebanon\",\"Skokomish Nation\",\"West Long Branch\",\"Slater\",\"West Portsmouth\",\"Wartrace\",\"Royal Palm Beach\",\"Temple Terrace\",\"West Stockbridge\",\"Sleepy Hollow\",\"Thermopolis\",\"Thoreau\",\"River Falls\",\"West Bountiful\",\"Welaka\",\"Toddville\",\"Waynetown\",\"Waynesfield\",\"Tolovana Park\",\"Tionesta\",\"Waxhaw\",\"Tillman\",\"Welsh\",\"Sellers\",\"Sinnamahoning\",\"Toponas\",\"Waterford Works\",\"West Alton\",\"Waterfall\",\"Three Lakes\",\"Toston\",\"West Wareham\",\"Scotland Neck\",\"Sikeston\",\"Trimont\",\"Swanzey\",\"Walstonburg\",\"Tuckasegee\",\"Swaledale\",\"Surfside Beach\",\"Rolling Hills Estates\",\"Sunnyside\",\"Walla Walla\",\"Wildersville\",\"Rossville\",\"Sun River\",\"Wiley\",\"Sodus\",\"Sheffield Village\",\"Williston Park\",\"Sumrall\",\"Roslindale\",\"Swatara\",\"Roaring River\",\"Wheeler\",\"Talladega\",\"Rock City Falls\",\"Saint Francisville\",\"Tallmadge\",\"Tripoli\",\"Trout Creek\",\"Rogerson\",\"Saint Paris\",\"Tabor City\",\"Sierra City\",\"Ward\",\"Sigel\",\"Rohrersville\",\"Wapello\",\"Wevertown\",\"Smiths Station\",\"Weymouth\",\"Roseboro\",\"Zwingle\",\"Neversink\",\"Guinda\",\"Colona\",\"Oaktown\",\"Collins\",\"Lusby\",\"Oconto Falls\",\"Colgate\",\"Coleraine\",\"Colby\",\"Grifton\",\"Cocolalla\",\"Oil City\",\"Guin\",\"Coaling\",\"Omer\",\"Guntersville\",\"Clitherall\",\"Olar\",\"Hagerman\",\"Clayville\",\"Oley\",\"Lucerne Valley\",\"Clarkton\",\"Clarks Mills\",\"Hainesport\",\"Hales Corners\",\"Clarence\",\"Oakland City\",\"Luther\",\"Oakes\",\"Oak Run\",\"Grand Canyon\",\"Culleoka\",\"Grand View\",\"Crouse\",\"North Chelmsford\",\"Crivitz\",\"Crete\",\"Mackay\",\"Cream Ridge\",\"Crawford\",\"Crandall\",\"North Lawrence\",\"North Lima\",\"Mack\",\"North Mono\",\"Corydon\",\"Machesney Park\",\"Cordesville\",\"Coral Springs-Margate\",\"Copake\",\"North Weymouth\",\"Constableville\",\"Conneaut\",\"Lyles\",\"Grayling\",\"Clallam Bay\",\"Onarga\",\"Canyon Dam\",\"Hermann\",\"Cedar Lake\",\"Owosso\",\"Cedar Falls\",\"Headland\",\"Heath\",\"Lismore\",\"Cathlamet\",\"Cataula\",\"Castalia\",\"Painted Post\",\"Palo\",\"Palos Heights\",\"Palos Hills\",\"Ono\",\"Hermosa Beach\",\"Lindley\",\"Cartwright\",\"Parker City\",\"Carrsville\",\"Parksley\",\"Carroll\",\"High Falls\",\"Carrington\",\"Hiko\",\"Hillsgrove\",\"Parsonsburg\",\"Haysville\",\"Overbrook\",\"Hawkinsville\",\"Haughton\",\"Church Creek\",\"Oostburg\",\"Hanoverton\",\"Hansford\",\"Chocowinity\",\"Harborcreek\",\"Chidester\",\"Cheyenne Wells\",\"Chetek\",\"Orlinda\",\"Orofino\",\"Harpersville\",\"Harrah\",\"Cheraw\",\"Orovada\",\"Chaumont\",\"Orwigsburg\",\"Chaplin\",\"Ossineke\",\"Ossipee\",\"Lomita\",\"Challenge\",\"Haslet\",\"Loma Mar\",\"Logansport\",\"Cumberland Center\",\"Custar\",\"Cut Bank\",\"Fordyce\",\"Monte Sereno\",\"Fleming\",\"Elkhart Lake\",\"Elkader\",\"Moorefield\",\"Mooresboro\",\"Elk Falls\",\"Flovilla\",\"Floweree\",\"Fond Du Lac\",\"Moriches\",\"Morrice\",\"Mosheim\",\"Nipton\",\"Fort Benton\",\"Fort Bridger\",\"Fort Denaud\",\"Mc Kinnon\",\"Fortville\",\"East Wenatchee\",\"Mount Gretna\",\"East Waterford\",\"East Wareham\",\"Mount Nebo\",\"Mc Clave\",\"Mount Royal\",\"Mont Clare\",\"Finleyville\",\"Mongaup Valley\",\"Moncure\",\"Everly\",\"Exchange\",\"Fabens\",\"Merrillan\",\"Fairview Heights\",\"Millboro\",\"Falconer\",\"Epsom\",\"Milliken\",\"Fall City\",\"Mendenhall\",\"Farmland\",\"Emmetsburg\",\"Minerva\",\"Emily\",\"Emigrant\",\"Emerald Hills\",\"Meherrin\",\"Felts Mills\",\"Medora\",\"Medinah\",\"Elon\",\"Elmwood\",\"Elmont\",\"Elliott\",\"Frackville\",\"Mc Bee\",\"Mayview\",\"Maribel\",\"Getzville\",\"Marcus\",\"Diboll\",\"Diamond\",\"Gibsonburg\",\"Marcell\",\"Desmet\",\"New Matamoras\",\"Derrick City\",\"New Philadelphia\",\"Gilman\",\"New Russia\",\"Many Farms\",\"Glen Echo\",\"Mannsville\",\"Deadwood\",\"Glyndon\",\"Newaygo\",\"Goochland\",\"Goodells\",\"Newland\",\"Manalapan\",\"Newton Highlands\",\"Nichols Hills\",\"Cyrus\",\"New Creek\",\"New Brockton\",\"East Leroy\",\"Gentry\",\"Frazeysburg\",\"Maud\",\"Frederic\",\"Muscle Shoals\",\"French Settlement\",\"Frontenac\",\"Fruitport\",\"Eagleville\",\"Napanoch\",\"Eagle Grove\",\"Eagle Bend\",\"Gales Ferry\",\"Dunnell\",\"Dulce\",\"Due West\",\"Gallagher\",\"Dryden\",\"Drumore\",\"Martins Ferry\",\"Driscoll\",\"Dowagiac\",\"Gasport\",\"Markleysburg\",\"New Augusta\",\"Dobbins\",\"Caret\",\"Eufaula\",\"Postville\",\"Laceyville\",\"Pollocksville\",\"Apalachin\",\"Pomeroy\",\"Rayne\",\"Rayle\",\"Appling\",\"Iron Mountain\",\"Lantana\",\"Black Oak\",\"Black Earth\",\"Bixby\",\"Ravalli\",\"Raritan\",\"Bingen\",\"Biglerville\",\"Lanse\",\"Bigelow\",\"Big Spring\",\"Port Hadlock\",\"Blanca\",\"Blanchard\",\"Blandon\",\"Anamosa\",\"Amberg\",\"Indian Harbour Beach\",\"Botkins\",\"Bosler\",\"Lawsonville\",\"Lavina\",\"Boiceville\",\"Boca Grande\",\"Playa Vista\",\"Poestenkill\",\"Ancramdale\",\"Bly\",\"Laurelton\",\"Industry\",\"Barryville\",\"Bloomsbury\",\"La Follette\",\"Pocono Lake\",\"Irondequoit\",\"Benzonia\",\"Amawalk\",\"Lanark\",\"Ballard\",\"Quinebaug\",\"Prairie Du Sac\",\"Bantam\",\"Prairie du Chien\",\"Joanna\",\"Beavercreek\",\"Prattsville\",\"Jenkins\",\"Bearcreek\",\"Beallsville\",\"Bayfield\",\"Barco\",\"Lake Luzerne\",\"Lake Grove\",\"Jenks\",\"Jensen Beach\",\"Prole\",\"Prosser\",\"Bainbridge Island\",\"Raisin City\",\"Powers\",\"Posey\",\"Rappahannock Academy\",\"Lame Deer\",\"Junction\",\"Italy\",\"Portersville\",\"Arundel\",\"Bellefontaine\",\"Belleair Beach\",\"Asher\",\"Lagunitas\",\"Atglen\",\"Jonesborough\",\"Atwood\",\"Avilla\",\"Potsdam\",\"Belfast\",\"Pound\",\"Jamison\",\"Red Boiling Springs\",\"Keansburg\",\"Boyne Falls\",\"Hydes\",\"Kennedy\",\"Honor\",\"Addis\",\"Bulger\",\"Lenore\",\"Penhook\",\"Lengby\",\"Reserve\",\"Kendall Park\",\"Alamogordo\",\"Albertson\",\"Reedville\",\"Horton\",\"Reedsburg\",\"Bruceville\",\"Howard City\",\"Aldrich\",\"Lemitar\",\"Howey In The Hills\",\"Pelican Lake\",\"Burnt Cabins\",\"Richardton\",\"Kerrick\",\"Absarokee\",\"Kerrville\",\"Accord\",\"Camby\",\"Leroy\",\"Holdrege\",\"Cadyville\",\"Leon\",\"Paxton\",\"Richboro\",\"Caballo\",\"Kerhonkson\",\"Holley\",\"Kingfield\",\"Pearisburg\",\"Pearson\",\"Bylas\",\"Holstein\",\"Huddleston\",\"Pennington Gap\",\"Kenbridge\",\"Alledonia\",\"Braceville\",\"Braddyville\",\"Brady\",\"Brantley\",\"Pima\",\"Kokomo\",\"Brewer\",\"Piermont\",\"Almena\",\"Pierceton\",\"Pierce\",\"Picayune\",\"Brian Head\",\"Knightsen\",\"Barker\",\"Kempton\",\"Leeper\",\"Leetonia\",\"Fort Stockton\",\"Tonganoxie\",\"Tomahawk\",\"Kemmerer\",\"Garnett\",\"Kents Store\",\"Fence\",\"Garland City\",\"Gambier\",\"Steward\",\"Trowbridge\",\"Forestport\",\"Galva\",\"Stoneboro\",\"Kalkaska\",\"Forreston\",\"Kalona\",\"Foxburg\",\"Gates Mills\",\"Keene Valley\",\"Trout Lake\",\"Turin\",\"Evington\",\"Keller\",\"Trona\",\"Jewett\",\"Steilacoom\",\"Fostoria\",\"Genoa City\",\"Factoryville\",\"Keeseville\",\"Geddes\",\"Forbestown\",\"Kelly\",\"Gatzke\",\"Joes\",\"Toone\",\"Steele\",\"Kennard\",\"Kenmare\",\"Freetown\",\"Freeburg\",\"Fort Dodge\",\"Julesburg\",\"Town Creek\",\"Stephens\",\"Steamboat Rock\",\"Fayette City\",\"Keizer\",\"Juneau\",\"Franklin Grove\",\"Tower Lakes\",\"Fort Garland\",\"Fishertown\",\"Kaw\",\"Frenchville\",\"Tulalip\",\"Kansasville\",\"Fife\",\"Stone Park\",\"Kentland\",\"Kenova\",\"Galesville\",\"Johnsburg\",\"Fieldale\",\"Kamiah\",\"Fort Campbell\",\"Stittville\",\"Gainesboro\",\"Gahanna\",\"Juda\",\"Faucett\",\"Frewsburg\",\"Kearneysville\",\"Hilltown\",\"Germansville\",\"Tamarac\",\"Evensville\",\"Idlewild\",\"Harshaw\",\"Iliff\",\"Summer Shade\",\"Harpersfield\",\"Hardyville\",\"Hardwick\",\"Hardin\",\"Happy Jack\",\"Sumas\",\"Hanover Township\",\"Hallowell\",\"Sulphur Springs\",\"Imboden\",\"Imperial Beach\",\"Halliday\",\"Ina\",\"Hale\",\"Tekamah\",\"Indian Head Park\",\"Tell City\",\"Guttenberg\",\"Sugarcreek\",\"Indian Hills\",\"Indian Lake\",\"Guildhall\",\"Grover\",\"Grindstone\",\"Hartstown\",\"Tamaqua\",\"Jetmore\",\"Hartville\",\"Hoboken\",\"Hokah\",\"Surrey\",\"Highwood\",\"Highspire\",\"Hiddenite\",\"Hickory Grove\",\"Hickory Corners\",\"Sweeny\",\"Holmes Beach\",\"Switz City\",\"Holts Summit\",\"Henniker\",\"Hennepin\",\"Hemingway\",\"Hometown\",\"Hellam\",\"Tabernacle\",\"Horace\",\"Head Waters\",\"Riegelsville\",\"Suncook\",\"Hays\",\"Hayesville\",\"Hawthorn Woods\",\"Sunburst\",\"Sunapee\",\"Hortense\",\"Hotchkiss\",\"Sudbury\",\"Griffith\",\"Sublette\",\"Tennessee\",\"Suttons Bay\",\"Gosport\",\"Jacobus\",\"Gordo\",\"Goodwin\",\"Goodwater\",\"Goodfield\",\"James City\",\"Golden Meadow\",\"Goffstown\",\"Java\",\"Gloversville\",\"Globe\",\"Jellico\",\"Glenrock\",\"Tillar\",\"Tillatoba\",\"Glendo\",\"Glenburn\",\"Glen Morgan\",\"Tinton Falls\",\"Jemez Springs\",\"Glassport\",\"Gladwin\",\"Gilsum\",\"Gillett\",\"Jenkinsville\",\"Gilford\",\"Gibson\",\"Stratton\",\"Gould\",\"Thompsonville\",\"Grantsburg\",\"Tensed\",\"Stuyvesant\",\"Grenville\",\"Iowa Falls\",\"Green Forest\",\"Irma\",\"Great Meadows\",\"Grays River\",\"Gray Summit\",\"Texline\",\"Thaxton\",\"Iron River\",\"Grass Range\",\"Granton\",\"Ixonia\",\"Strum\",\"Granite Canon\",\"Iroquois\",\"Irvona\",\"Ishpeming\",\"Theresa\",\"Thetford Center\",\"Thibodaux\",\"Strawberry Point\",\"Grand River\",\"Thompson Falls\",\"Grahamsville\",\"Strawberry Plains\",\"Hartfield\",\"Rindge\",\"Turon\",\"Burr Oak\",\"Bryant Pond\",\"Bryceville\",\"Bryson City\",\"Wheatfield\",\"Buckner\",\"Buna\",\"Bunn\",\"Wever\",\"Burtchville\",\"Brush Prairie\",\"Byrdstown\",\"Byromville\",\"Cadott\",\"Calabash\",\"Calumet\",\"Campti\",\"Cantrall\",\"Canutillo\",\"Wheelersburg\",\"Bruno\",\"West Unity\",\"Whitehouse\",\"Bond\",\"Wilbur\",\"Boscobel\",\"Bourbonnais\",\"Bowdon\",\"Whittington\",\"Box Elder\",\"Boyce\",\"White Sulphur Springs\",\"Bruce\",\"Briones\",\"Britton\",\"Broadview\",\"Brockway\",\"Brookneal\",\"Brooktondale\",\"Brown City\",\"White Bird\",\"Canyon Creek\",\"Carlock\",\"Turtle Lake\",\"Challis\",\"West Enfield\",\"West Edmeston\",\"Center Ossipee\",\"Centerburg\",\"West Cornwall\",\"Central Contra Costa\",\"Centuria\",\"Chadwicks\",\"Chama\",\"Celina\",\"West Chazy\",\"Champaign\",\"Chassell\",\"Chateaugay\",\"Cheboygan\",\"Wesson\",\"Cherryville\",\"Chesterbrook\",\"West Finley\",\"Cedar Creek\",\"Carp Lake\",\"Cashton\",\"Carrabelle\",\"Carrboro\",\"Carrizozo\",\"West Oneonta\",\"Carterville\",\"Casar\",\"Cash\",\"Cashmere\",\"Casnovia\",\"Cedar Bluff\",\"Cassadaga\",\"Casselton\",\"Castile\",\"West Lafayette\",\"West Hills\",\"Cave City\",\"Cave Spring\",\"West Hatfield\",\"Blue Mountain\",\"Blue Grass\",\"Blountville\",\"Wylliesburg\",\"Yatesboro\",\"Anadarko\",\"Andalusia\",\"Andersonville\",\"Andes\",\"Annawan\",\"Wynne\",\"Antwerp\",\"Aquasco\",\"Amana\",\"Archbald\",\"Wrightstown\",\"Argenta\",\"Argusville\",\"Arriba\",\"Wrens\",\"Asherton\",\"Woolwine\",\"Amargosa Valley\",\"Alum Creek\",\"Bloomville\",\"Adin\",\"Zortman\",\"Zirconia\",\"Ackerman\",\"Zion Crossroads\",\"Zieglerville\",\"Adams Center\",\"Adams Run\",\"Zenia\",\"Agency\",\"Almond\",\"Airmont\",\"Airway Heights\",\"Alapaha\",\"Alexandria Bay\",\"Alexis\",\"Young America\",\"Allensville\",\"Allport\",\"Atkinson\",\"Avalon\",\"Avonmore\",\"Bighorn\",\"Belpre\",\"Belview\",\"Bent Mountain\",\"Benwood\",\"Bernardsville\",\"Beulah\",\"Bidwell\",\"Big Prairie\",\"Bingham Canyon\",\"Axton\",\"Willow Hill\",\"Blackshear\",\"Blackwell\",\"Blairs Mills\",\"Blakesburg\",\"Blencoe\",\"Willingboro\",\"Williamsville\",\"Winneconne\",\"Belle Isle\",\"Belington\",\"Belfry\",\"Baggs\",\"Woodhaven\",\"Woodbourne\",\"Bardonia\",\"Barton\",\"Basehor\",\"Wolverine\",\"Baskerville\",\"Bastrop\",\"Baxley\",\"Wishon\",\"Bechtelsville\",\"Bejou\",\"Belchertown\",\"Winterville\",\"Beldenville\",\"Belfield\",\"Chestnut Mound\",\"Cheyney\",\"Chickamauga\",\"Vancleave\",\"East Branch\",\"East Brookfield\",\"East Canton\",\"Vassalboro\",\"East Dubuque\",\"East Durham\",\"East Hanover\",\"East Hartland\",\"East Jordan\",\"East Bend\",\"East Kingston\",\"East Liberty\",\"East Liverpool\",\"Van Etten\",\"East Newark\",\"East Palestine\",\"East Tehama\",\"Valley Grove\",\"East Bernard\",\"Earle\",\"Dillard\",\"Dora\",\"Dittmer\",\"Viola\",\"Donaldsonville\",\"Donalsonville\",\"Vincent\",\"Stapleton\",\"Vincennes\",\"Villard\",\"Dorset\",\"Vermontville\",\"Dozier\",\"Drexel Hill\",\"Vevay\",\"Vestavia\",\"Dry Fork\",\"Verona Beach\",\"Duette\",\"Dunnsville\",\"Valley Falls\",\"Eastpoint\",\"Eau Galle\",\"Epes\",\"Elrod\",\"Elsinore\",\"Elsmere\",\"Unicoi\",\"Embudo\",\"Emmitsburg\",\"Enon\",\"Enville\",\"Two Harbors\",\"Vallecitos\",\"Epworth\",\"Equality\",\"Ernul\",\"Escanaba\",\"Espanola\",\"Ethel\",\"Ethridge\",\"Etlan\",\"Elmdale\",\"Ellicottville\",\"Ellenville\",\"Ellenburg Center\",\"Eckerman\",\"Edenton\",\"Edgefield\",\"Edwardsport\",\"El Campo\",\"Elberfeld\",\"Elberon\",\"Elbert\",\"Eldon\",\"Eldorado\",\"Electra\",\"Upper Sandusky\",\"Eliot\",\"Upper Keys\",\"University Place\",\"Elkland\",\"Ellenboro\",\"Viroqua\",\"Dierks\",\"Childwold\",\"Water Mill\",\"College Grove\",\"Collingdale\",\"Colma\",\"Colt\",\"Columbus Junction\",\"Commodore\",\"Como\",\"Comstock\",\"Congers\",\"Cohocton\",\"Convoy\",\"Cooperstown\",\"Washington Crossing\",\"Copenhagen\",\"Copley\",\"Corral\",\"Correctionville\",\"Cottontown\",\"Colebrook\",\"Cody\",\"Volborg\",\"Clarks Hill\",\"Chili\",\"Christopher\",\"Chula\",\"Chuluota\",\"Cibolo\",\"Clarinda\",\"Weiner\",\"Weimar\",\"Clawson\",\"Waukon\",\"Wedowee\",\"Clemons\",\"Cleveland Heights\",\"Cloudcroft\",\"Clymer\",\"Cochise\",\"Waupun\",\"Coden\",\"Cowansville\",\"Creighton\",\"Cross Fork\",\"Delevan\",\"Deal\",\"Dearborn Heights\",\"Deary\",\"Wakeeney\",\"Deep Run\",\"Del City\",\"Wagram\",\"Delaware Water Gap\",\"Wading River\",\"Ware\",\"Wadesboro\",\"Delphos\",\"Delton\",\"Dennehotso\",\"Dennis\",\"Deweyville\",\"Volente\",\"Dewitt\",\"De Queen\",\"De Mossville\",\"Wales\",\"Davenport Center\",\"Crozier\",\"Crumpler\",\"Wapato\",\"Culloden\",\"Cullowhee\",\"Cunningham\",\"Cut Off\",\"Cygnet\",\"Wallsburg\",\"Dallas Center\",\"Damon\",\"Wallback\",\"Danforth\",\"Wall\",\"Darien Center\",\"Darrow\",\"Dateland\",\"Kettering\",\"Aaronsburg\",\"Silver Star\",\"Saint Ignace\",\"McPherson\",\"McComb\",\"Shohola\",\"Mc Sherrystown\",\"Mc Intosh\",\"Paxico\",\"Mc Henry\",\"Mc Dowell\",\"Maytown\",\"Shushan\",\"Peconic\",\"Maurepas\",\"Mattoon\",\"Mattapoisett\",\"Mattapan\",\"Mathias\",\"Matfield Green\",\"Massey\",\"Masonville\",\"Mascotte\",\"Pemberton\",\"Martinsdale\",\"Penasco\",\"Mart\",\"Pendroy\",\"Marseilles\",\"Peninsula\",\"Pauma Valley\",\"Paul Smiths\",\"Shiocton\",\"Paonia\",\"Pachuta\",\"Midville\",\"Middleburgh\",\"Packwood\",\"Pagosa Springs\",\"Middle Point\",\"Sheffield Lake\",\"Michigan\",\"Shelbina\",\"Saint Croix Falls\",\"Metamora\",\"Saint Bonifacius\",\"Paragon\",\"Mccleary\",\"Park Hall\",\"Sagola\",\"Parkman\",\"Mercersburg\",\"Sagamore Beach\",\"Mediapolis\",\"Mechanic Falls\",\"Pateros\",\"Meadow Bridge\",\"Mclean\",\"Patoka\",\"Mccordsville\",\"Penn Yan\",\"Markleton\",\"Markle\",\"Ponsford\",\"Pleasant Garden\",\"Plum Branch\",\"Rosie\",\"Lula\",\"Point Pleasant Beach\",\"Luke\",\"Lufkin\",\"Pollock\",\"Snydertown\",\"Soap Lake\",\"Lucile\",\"Lucas\",\"Lucama\",\"Luxemburg\",\"Ponte Vedra\",\"Poolesville\",\"Lovington\",\"Lovell\",\"Solomons\",\"Losantville\",\"Rose City\",\"Rose Bud\",\"Port Henry\",\"Lore City\",\"Rosanky\",\"Long Island\",\"Smoketown\",\"Lykens\",\"Pequea\",\"Pinckneyville\",\"Perdido\",\"Sinclair\",\"Perkinston\",\"Siren\",\"Perrysville\",\"Manquin\",\"Peshtigo\",\"Manly\",\"Skull Valley\",\"Manhattan Beach\",\"Petrified Forest Natl Pk\",\"Pigeon Forge\",\"Mancelona\",\"Lynnville\",\"Slatyfork\",\"Pingree\",\"Pinola\",\"Malden\",\"Pipersville\",\"Sloansville\",\"Madeira Beach\",\"Pitman\",\"Slocomb\",\"Pittsview\",\"Plainsboro\",\"Plattsmouth\",\"Ozone\",\"Millersport\",\"Lomira\",\"Sharpsville\",\"New Madrid\",\"Sand Springs\",\"New Iberia\",\"Schenevus\",\"Sand Coulee\",\"Novelty\",\"Nunn\",\"Oakboro\",\"New Canton\",\"Schofield\",\"Oakfield\",\"Schriever\",\"Ocean Isle Beach\",\"Ocheyedan\",\"Nevada\",\"San Manuel\",\"Odon\",\"Ogallala\",\"Neosho\",\"Ogdensburg\",\"Oil Trough\",\"Ojo Caliente\",\"Negaunee\",\"Necedah\",\"Okawville\",\"Scottdale\",\"Okolona\",\"New Park\",\"North Vernon\",\"Sandusky\",\"North Grafton\",\"Nordland\",\"Nocona\",\"Nixon\",\"Norman Park\",\"Nixa\",\"North Adams\",\"North Baldwin\",\"North Bangor\",\"North Coastal\",\"Newtonville\",\"Newport Center\",\"Newfane\",\"North Java\",\"New Richmond\",\"Sauk City\",\"New Washington\",\"New Vineyard\",\"Sault Sainte Marie\",\"Saunderstown\",\"New Vienna\",\"New Underwood\",\"New Trier\",\"New Tazewell\",\"Saxon\",\"Saylorsburg\",\"New Ross\",\"Navasota\",\"Naubinway\",\"Natchez\",\"Oscoda\",\"Moscow Mills\",\"Saint Thomas\",\"Moravian Falls\",\"Moran\",\"Mooringsport\",\"Orondo\",\"Sergeant Bluff\",\"Moorcroft\",\"Orrville\",\"Ortonville\",\"Osborn\",\"Monona\",\"Monessen\",\"Mound City\",\"Saint Michaels\",\"Shacklefords\",\"Mohave Valley\",\"Mizpah\",\"Minto\",\"Outing\",\"Minneota\",\"Ovid\",\"Owen\",\"Owingsville\",\"Milnor\",\"Milmont Park\",\"Mossville\",\"Mount Calvary\",\"Nassawadox\",\"Seaview\",\"Nashwauk\",\"Sea Girt\",\"Nanjemoy\",\"Naches\",\"Myton\",\"Old Tappan\",\"Olmsted Falls\",\"San Anselmo\",\"Seanor\",\"Muscoda\",\"Olney Springs\",\"Mullinville\",\"Mountainburg\",\"Salado\",\"Mountain City\",\"Sammamish\",\"Mount Rainier\",\"Onsted\",\"Salol\",\"Sedgwick\",\"Mount Lookout\",\"Mount Ida\",\"Mount Croghan\",\"Oradell\",\"Orchard Lake\",\"Mount Carroll\",\"Lonepine\",\"Nora Springs\",\"South Vienna\",\"Quaker City\",\"Lacrosse\",\"Prospect Park\",\"Lester\",\"Lago Vista\",\"Spring Branch\",\"Lake Alfred\",\"Leoma\",\"Lake Cormorant\",\"Rocky Ridge\",\"Rabun Gap\",\"South Mills\",\"South Milwaukee\",\"Roachdale\",\"Lake Forest Park\",\"Ragland\",\"Ralls\",\"Proctor\",\"Rives Junction\",\"Knox City\",\"Lachine\",\"Prairie du Sac\",\"Springfield Center\",\"La Grange Park\",\"Springer\",\"La Mesa\",\"Reed City\",\"La Motte\",\"Preble\",\"Prestonsburg\",\"Lackawaxen\",\"Lacon\",\"Liberty Hill\",\"Presque Isle\",\"Redwood\",\"Spring Hope\",\"Rodessa\",\"Lake Lynn\",\"Red Hill\",\"Splendora\",\"Raynesford\",\"Landing\",\"Robert\",\"Lanesborough\",\"Rapid City\",\"Reads Landing\",\"Ledyard\",\"South Sioux City\",\"Robertsville\",\"Ranchos de Taos\",\"Larimore\",\"South Weymouth\",\"Larned\",\"Leadore\",\"Larrabee\",\"Laughlintown\",\"Ravenwood\",\"Robersonville\",\"Reardan\",\"Lambertville\",\"Randleman\",\"Randall\",\"Spiritwood\",\"Lena\",\"Lake Tahoe\",\"Randle\",\"South Portsmouth\",\"South Prairie\",\"Rockbridge\",\"Lake Waccamaw\",\"Lakehurst\",\"Rector\",\"Lempster\",\"Rockaway Park\",\"Laketown\",\"Lambert\",\"Kohler\",\"Lascassas\",\"South Deerfield\",\"Ridgely\",\"Roll\",\"Portland West\",\"Kilmarnock\",\"Potlatch\",\"Kirksville\",\"Roland\",\"Repton\",\"Livingston Manor\",\"Rich Square\",\"Lithopolis\",\"Romney\",\"South Amana\",\"Powells Point\",\"South Bay\",\"Prague\",\"Kinmundy\",\"Ronda\",\"Kitty Hawk\",\"Richford\",\"Stanfordville\",\"Portville\",\"Wenonah\",\"Yanceyville\",\"Saint Xavier\",\"Oreana\",\"Orford\",\"Orfordville\",\"Weslaco\",\"Anabel\",\"Amidon\",\"North Bloomfield\",\"Wenona\",\"Sainte Genevieve\",\"Chesterland\",\"Yalaha\",\"Wentworths Location\",\"Warden\",\"Wenham\",\"Washburn\",\"Chocorua\",\"Orchard\",\"Yankeetown\",\"Oneill\",\"Red Bay\",\"Opdyke\",\"Wellersburg\",\"North Hero\",\"Zillah\",\"Creola\",\"Sallisaw\",\"Adair Village\",\"Crestview Hills\",\"North Ferrisburgh\",\"Creve Coeur\",\"North Collins\",\"Wellesley Island\",\"Acra\",\"Wellfleet\",\"Opelousas\",\"American Fork-Pleasant Grove\",\"Chimayo\",\"Richland Center\",\"Opheim\",\"Rebecca\",\"Chenoa\",\"Cherry Log\",\"Center Harbor\",\"Wanatah\",\"Cuddebackville\",\"Othello\",\"Saint Mary\",\"Otter\",\"Otway\",\"Otwell\",\"Ringle\",\"Wye Mills\",\"Center Sandwich\",\"Abilene\",\"West Des Moines\",\"Saint Stephens Church\",\"West Dover\",\"Apalachicola\",\"Saint Johnsville\",\"West End\",\"Roca\",\"Aberdeen Proving Ground\",\"Center Cross\",\"Center\",\"Norborne\",\"Centennial\",\"Ravendale\",\"Otego\",\"Oswegatchie\",\"Crystal City\",\"Oswayo\",\"Chepachet\",\"Anahuac\",\"Crowley\",\"Cisco\",\"Chelan\",\"Robbinston\",\"West Baldwin\",\"Readstown\",\"Chebanse\",\"Wapwallopen\",\"Chazy\",\"Orrtanna\",\"Richton Park\",\"Rio\",\"Chappell\",\"Norris City\",\"Crystal Bay\",\"West Brooklyn\",\"Anthem\",\"Rayville\",\"West Charleston\",\"Anton Chico\",\"Richview\",\"North Hudson\",\"Weirton\",\"Yazoo City\",\"Coal Center\",\"Ocilla\",\"Ainsworth\",\"Odell\",\"Odin\",\"Cold Brook\",\"Alfred\",\"Zanesfield\",\"Coffeeville\",\"Codyville Plt\",\"North Reading\",\"Oglesby\",\"Ohatchee\",\"Corrigan\",\"San Jon\",\"North Pownal\",\"Oilmont\",\"Coats\",\"Coalton\",\"Sandy Level\",\"Coal Valley\",\"Waverly Hall\",\"Algodones\",\"Cottonwood Falls\",\"Ochlocknee\",\"North Star\",\"Rittman\",\"Albers\",\"Sandoval\",\"North Yarmouth\",\"Nova\",\"Cooper City\",\"Reese\",\"Washtucna\",\"Sand Lake\",\"Alamosa\",\"Waskom\",\"Reedy\",\"River Oaks\",\"Colo\",\"Nowata\",\"Alcova\",\"Oak Hall\",\"Alda\",\"Reeds Spring\",\"North Troy\",\"Reeder\",\"Oakmont\",\"Colstrip\",\"Oaks\",\"Aliceville\",\"Cotuit\",\"Amazonia\",\"Redkey\",\"Rising City\",\"Rich Creek\",\"Clearmont\",\"Clearbrook\",\"Redgranite\",\"Olmito\",\"Cove City\",\"Rich Hill\",\"Olmstedville\",\"Sandy Spring\",\"Clarksdale\",\"San Angelo\",\"Roan Mountain\",\"Clark Mills\",\"Yellow Springs\",\"Olympia Fields\",\"Clarington\",\"Craigmont\",\"North Westside\",\"Crary\",\"Samson\",\"Omak\",\"Warner Springs\",\"Old Monroe\",\"Webbers Falls\",\"Coushatta\",\"Cotulla\",\"Rives\",\"Reunion\",\"Rhome\",\"Rivesville\",\"Redington Shores\",\"Closter\",\"Clontarf\",\"San Elizario\",\"Clintondale\",\"Warrensville Heights\",\"Cedar Point\",\"Webb City\",\"Clifton Heights\",\"Altha\",\"Altona\",\"Cliffwood\",\"Clifford Township\",\"Adena\",\"Addyston\",\"Ola\",\"Cleona\",\"Yoe\",\"Clifton Township\",\"Berlin Center\",\"Arab\",\"White Castle\",\"Pinebluff\",\"Braddock\",\"Withee\",\"Rowland\",\"Boyne City\",\"Wisner\",\"Wishram\",\"Box Springs\",\"Pray\",\"Bowler\",\"Round Top\",\"Pisgah\",\"Bouton\",\"Bourg\",\"Pitcher\",\"Bottineau\",\"Wise River\",\"Beaver City\",\"Wisdom\",\"Prairie Grove\",\"Placida\",\"Bee Branch\",\"Boscawen\",\"Booneville\",\"Plaistow\",\"Boligee\",\"Bolckow\",\"Platte Center\",\"Bogart\",\"Bradford township\",\"Pine Bluffs\",\"Beasley\",\"Brierfield\",\"Prospect Hill\",\"Brownsdale\",\"Perkins\",\"Rudd\",\"Brooklyn Heights\",\"Prichard\",\"Royston\",\"Broadus\",\"Broadbent\",\"Pesotum\",\"White River\",\"Bay Village\",\"Briggsdale\",\"White Sands Missile Range\",\"Braidwood\",\"Bridport\",\"Bridgewater Corners\",\"Wolbach\",\"Bridgeboro\",\"Phillips\",\"Roe\",\"Brent\",\"Piketon\",\"Brazoria\",\"Whitelaw\",\"Branscomb\",\"Bearden\",\"Braman\",\"Bee Cave\",\"Wilkeson\",\"Boaz\",\"Rose Hill\",\"Bellows Falls\",\"Willshire\",\"Bisbee\",\"Wilmerding\",\"Birch River\",\"Poplarville\",\"Bellville\",\"Bellvue\",\"Wilmot\",\"Wilsall\",\"Port Arthur\",\"Billerica\",\"Wilsons\",\"Port Gibson\",\"Willowick\",\"Roodhouse\",\"Porterdale\",\"Big Rock\",\"Portales\",\"Big Arm\",\"Rosburg\",\"Beulaville\",\"Port Saint Joe\",\"Bethany Beach\",\"Port Monmouth\",\"Berthold\",\"Port Lavaca\",\"Berlin township\",\"Black Diamond\",\"Black Eagle\",\"Playa del Rey\",\"Point Of Rocks\",\"Willards\",\"Bel Alton\",\"Bluff City\",\"Pleasant City\",\"Blue Mounds\",\"Blowing Rock\",\"Rosston\",\"Rossford\",\"Pleasant Ridge\",\"Plentywood\",\"Belding\",\"Blocksburg\",\"Potter\",\"Post\",\"Black Forest-Peyton\",\"Poseyville\",\"Polacca\",\"Bell Buckle\",\"Polo\",\"Willoughby Hills\",\"Belle Center\",\"Pompton Lakes\",\"Pond Eddy\",\"Belle Fourche\",\"Blacklick\",\"Belle Rose\",\"Black River\",\"Rosebush\",\"Brownstown\",\"White Bluff\",\"West Gardiner\",\"Rugby\",\"Ashkum\",\"Ashtabula\",\"Rock Stream\",\"Sag Harbor\",\"Parksville\",\"West Paris\",\"Paron\",\"Carriere\",\"Parrottsville\",\"Sadieville\",\"Assaria\",\"Carrabassett Valley\",\"Rantoul\",\"Parshall\",\"Carolina Beach\",\"Carney\",\"Parsons\",\"Ranger\",\"Carbon Hill\",\"Cape Girardeau\",\"Atlantic Beach\",\"Canyon Lake\",\"Atoka\",\"Woodstock Valley\",\"Attapulgus\",\"Sachse\",\"Sabina\",\"Au Gres\",\"Patten\",\"Ashfield\",\"West Newbury\",\"West Monroe\",\"Arona\",\"Saint Jacob\",\"Arapahoe\",\"Rochester Hills\",\"Ozona\",\"Rock Creek\",\"Pace\",\"Cecilton\",\"West Helena\",\"Saint Helen\",\"Rock Hall\",\"Saint Gabriel\",\"Catlettsburg\",\"Rarden\",\"Rock Port\",\"Rock Spring\",\"Rock Rapids\",\"Saint Elmo\",\"Berkshire\",\"Rapids City\",\"Castleton\",\"Worton\",\"Saint Croix\",\"Ascutney\",\"Paige\",\"Painter\",\"Palos Verdes Estates\",\"Panacea\",\"West Milford\",\"West Warren\",\"Austinburg\",\"Canon\",\"Quapaw\",\"Woodgate\",\"Burlington Junction\",\"Burkittsville\",\"Baird\",\"Burkburnett\",\"Bakerstown\",\"Rushsylvania\",\"Burdette\",\"Bunnlevel\",\"Buncombe\",\"Pen Argyl\",\"Balmorhea\",\"Bulverde\",\"Bucklin\",\"Pelican\",\"Bar Harbor\",\"Buckhannon\",\"Woodacre\",\"Purlear\",\"Rupert\",\"Pennville\",\"Cumberland City\",\"Brushton\",\"Provo-Orem\",\"Pentwater\",\"Runnells\",\"Peosta\",\"Prosper\",\"Burnett\",\"Burnt Prairie\",\"Canandaigua\",\"Westernville\",\"Canal Point\",\"Auxvasse\",\"Westampton\",\"Campbell Hall\",\"Camp Dennison\",\"S Coffeyville\",\"Calvin\",\"Calumet Park\",\"Paupack\",\"Rydal\",\"Cairnbrook\",\"Avera\",\"Westernport\",\"Pawleys Island\",\"Peeples Valley\",\"Caddo Gap\",\"Ruthven\",\"Westhampton\",\"Payne\",\"Byrnedale\",\"Peachland\",\"Russian River-Sonoma Coast\",\"Byars\",\"Butlerville\",\"Axson\",\"Bahama\",\"Burt\",\"Baileyton\",\"Kill Buck\",\"Neshanic Station\",\"Nooksack\",\"Taylor Mill\",\"Hallwood\",\"Hankinson\",\"Tatum\",\"Lovejoy\",\"Solon Springs\",\"Louisville Central\",\"Loudonville\",\"Lottie\",\"Harford\",\"Los Lunas\",\"Taopi\",\"Lorena\",\"Harrod\",\"Hart\",\"Tamworth\",\"Hallsville\",\"Loysburg\",\"Tamassee\",\"Lubbock\",\"Snowflake\",\"Snowmass\",\"Ludowici\",\"Temperanceville\",\"Gwinner\",\"Hackberry\",\"Hagerhill\",\"Hague\",\"Hahnville\",\"Hailey\",\"Lucan\",\"Teague\",\"Teachey\",\"Lublin\",\"Haleyville\",\"Lopez\",\"Lookout Mountain\",\"Lulu\",\"Helotes\",\"Linfield\",\"Henriette\",\"Henryetta\",\"Sykeston\",\"Hensonville\",\"Herman\",\"Lineboro\",\"South Easton\",\"Hermanville\",\"Swifton\",\"South El Dorado\",\"Hertford\",\"Hesperus\",\"Hettinger\",\"Sweet\",\"Lisbon Falls\",\"Hegins\",\"Lonedell\",\"Hedgesville\",\"Harwich\",\"Harwich Port\",\"Haswell\",\"Logandale\",\"Hauser\",\"Lodgepole\",\"Locust\",\"Loch Sheldrake\",\"Lobelville\",\"Little Suamico\",\"Headrick\",\"Little Chute\",\"Heavener\",\"Heber Springs\",\"South Cairo\",\"Lukeville\",\"Lumberville\",\"South Euclid\",\"Mangum\",\"Slade\",\"Gloverville\",\"Mancos\",\"Goddard\",\"Tie Siding\",\"Manchester Center\",\"Ticonderoga\",\"Tickfaw\",\"Thurman\",\"Goldston\",\"Slaughter\",\"Mammoth Spring\",\"Gooding\",\"Goodland\",\"Thorsby\",\"Tignall\",\"Manitou Beach\",\"Malmstrom AFB\",\"Tilleda\",\"Sinclairville\",\"Marco Island\",\"Marble Falls\",\"Marble Canyon\",\"Marble\",\"Manzanita\",\"Manville\",\"Glen Flora\",\"Skiatook\",\"Glen Ridge\",\"Glenarm\",\"Mannford\",\"Tillson\",\"Glenelg\",\"Glenpool\",\"Goodview\",\"Malin\",\"Tennyson\",\"Lytton\",\"Lyon\",\"Graton\",\"Thackerville\",\"Lynn Center\",\"Lyndonville\",\"Teutopolis\",\"Tetonia\",\"Great Bend\",\"Great Valley\",\"Luthersville\",\"Greendale\",\"Terrace Park\",\"Greenvale\",\"Lusk\",\"Sneads Ferry\",\"The Hills\",\"Macclesfield\",\"Gorham\",\"Grannis\",\"Maize\",\"Thorn Hill\",\"Maineville\",\"Gower\",\"Grabill\",\"Magdalena\",\"Madrid\",\"Grand Cane\",\"Grand Isle\",\"Maddock\",\"Smackover\",\"Mackinaw City\",\"Grangeville\",\"Smelterville\",\"Smith\",\"Line Lexington\",\"Hickory Flat\",\"Curtiss\",\"Jacksonville West\",\"Jean\",\"Jeanerette\",\"Lake Orion\",\"Spooner\",\"Spout Spring\",\"Jeromesville\",\"Lake Andes\",\"Lairdsville\",\"Spring Dale\",\"Johnston City\",\"Jonesburg\",\"Joshua\",\"Stockertown\",\"Stockdale\",\"Jud\",\"Stowe\",\"Jackpot\",\"Stirum\",\"Jack\",\"Spalding\",\"Lapwai\",\"Lansford\",\"Irondale\",\"Irons\",\"Lance Creek\",\"Stroud\",\"Sparrow Bush\",\"Irwinton\",\"Stromsburg\",\"Lamoni\",\"Island Pond\",\"Ivoryton\",\"Spencerville\",\"Lakeway\",\"Laconia\",\"Judith Gap\",\"Ipava\",\"Kendrick\",\"Kenmore\",\"Stamps\",\"Kinnelon\",\"Stanchfield\",\"State Line\",\"Kimbolton\",\"State Center\",\"Keokuk\",\"Killona\",\"Ketchum\",\"Star Lake\",\"Killen\",\"Kewaskum\",\"Killeen\",\"Keymar\",\"Kinsley\",\"Kendallville\",\"Kadoka\",\"Kintnersville\",\"La Monte\",\"Kathryn\",\"Keams Canyon\",\"La Feria\",\"Springport\",\"La Farge\",\"Kykotsmovi Village\",\"Kuna\",\"Kulpmont\",\"Krum\",\"Kittrell\",\"Kirtland\",\"Steger\",\"Steep Falls\",\"Kiowa\",\"Irasburg\",\"Suamico\",\"Lindenwold\",\"Hohenwald\",\"South Kent\",\"Leonard\",\"Surgoinsville\",\"Hollis Center\",\"Holly Grove\",\"Holly Pond\",\"Sunset Valley\",\"Leo\",\"Lenzburg\",\"Hondo\",\"South Paris\",\"Lenoxville\",\"Hornell\",\"Horner\",\"Sunderland\",\"Holdingford\",\"Hobson\",\"Horntown\",\"South Houston\",\"Hico\",\"Limington\",\"Higden\",\"Likely\",\"Highgate Center\",\"Liebenthal\",\"Lickingville\",\"Hildebran\",\"Hillrose\",\"South Heart\",\"Levelland\",\"Letts\",\"Hiltons\",\"Hindsville\",\"Hobgood\",\"South Point\",\"Horse Cave\",\"Intervale\",\"Hydro\",\"Illiopolis\",\"South Solon\",\"Ilwaco\",\"Lebo\",\"Imler\",\"South Whitley\",\"Indian Creek\",\"Lawtons\",\"Lavaca\",\"Lauderdale\",\"Indian River\",\"Indian Valley\",\"Inkom\",\"Larsen\",\"Succasunna\",\"Leesport\",\"Left Hand\",\"South Range\",\"Hurdsfield\",\"Hosston\",\"Houghton Lake Heights\",\"House Springs\",\"Lemmon\",\"Sumterville\",\"South Roxana\",\"Hoyleton\",\"Hubert\",\"Lehr\",\"Summit Point\",\"Huff\",\"Humptulips\",\"Huntertown\",\"Summertown\",\"Hurdle Mills\",\"Geyser\",\"Sims\",\"Gerry\",\"Nathalie\",\"Eagle Bay\",\"Scribner\",\"Eagle Nest\",\"East Alton\",\"Nahunta\",\"East Bethany\",\"Velarde\",\"Musselshell\",\"Seale\",\"East Concord\",\"Vaughan\",\"Muskego\",\"East Dorset\",\"Varysburg\",\"East Dublin\",\"Dyess\",\"Dunmore\",\"Vansant\",\"Dunbarton\",\"Vidor\",\"Dowling\",\"Downieville\",\"Downs\",\"Nemaha\",\"Drayton\",\"Nelson\",\"Vickery\",\"Driggs\",\"Nellysford\",\"Neillsville\",\"Scott City\",\"Nebraska City\",\"Dubberly\",\"National Stock Yards\",\"Varna\",\"East Hampstead\",\"Double Springs\",\"Eastanollee\",\"Eastland\",\"Seibert\",\"Selah\",\"Selby\",\"Ebeemee Twp\",\"Echola\",\"Valentine\",\"Edgecomb\",\"Mounds\",\"Edgeley\",\"Edna\",\"Edwall\",\"Eidson\",\"Usk\",\"Morrisonville\",\"Eastborough\",\"Mount Clare\",\"Murtaugh\",\"Valley Grande\",\"Munroe Falls\",\"Mumford\",\"Mulkeytown\",\"Van Horne\",\"Mountain Lakes\",\"Mount Tremper\",\"East Norwich\",\"East Patchogue\",\"East Point\",\"Valmora\",\"Valleyford\",\"East Quogue\",\"Valley View\",\"East Waterboro\",\"Mount Healthy\",\"Dove Creek\",\"Neptune Beach\",\"Germfask\",\"Daniel\",\"Newmarket\",\"Newell\",\"Newcomb\",\"Newbern\",\"Davis City\",\"Davisboro\",\"New Waterford\",\"De Graff\",\"De Leon\",\"De Ruyter\",\"Saulsbury\",\"Decaturville\",\"Wakarusa\",\"Deepwater\",\"Savona\",\"Danielsville\",\"Walla Walla-College Place\",\"New Sweden\",\"Waller\",\"Walters\",\"Nolensville\",\"Walnutport\",\"Cuttingsville\",\"Walnut Hills\",\"Cuyama\",\"Cynthiana\",\"Walnut Bottom\",\"Nickerson\",\"Nickelsville\",\"Dacono\",\"Dafter\",\"Niagara\",\"Wallisville\",\"Nezperce\",\"Delco\",\"Wadley\",\"Dorrance\",\"Dinosaur\",\"District 3\",\"District 6 Spauldings\",\"Divernon\",\"Dixfield\",\"Dixons Mills\",\"New Baden\",\"Dodge\",\"New Auburn\",\"Schurz\",\"Dongola\",\"Vilonia\",\"Ness City\",\"Donnellson\",\"Donnelly\",\"Kiester\",\"District 1 Abingdon\",\"New Carrollton\",\"New Springfield\",\"New Durham\",\"Dellrose\",\"Dendron\",\"Scandinavia\",\"Deridder\",\"Dermott\",\"Desert Center\",\"Desert Hot Springs\",\"Vona\",\"Devine\",\"Dewey Beach\",\"New Lothrop\",\"New Limerick\",\"New Lexington\",\"New Leipzig\",\"New Era\",\"Sells\",\"Morley\",\"Upton\",\"Fordland\",\"McVille\",\"Forest Falls\",\"Trimble\",\"McLoud\",\"Trexlertown\",\"Trevor\",\"Tres Pinos\",\"Fort Branch\",\"Trempealeau\",\"McCall\",\"Trementina\",\"McAlister\",\"Travis AFB\",\"Fort Loudon\",\"Fort Scott\",\"Fordoche\",\"Mccall\",\"Mc Clellanville\",\"Fonda\",\"Sheridan Lake\",\"Ferrisburgh\",\"Meadows of Dan\",\"Findley Lake\",\"Sherwood Forest\",\"Meadows Of Dan\",\"Fitzhugh\",\"Five Points\",\"Truman\",\"Flinton\",\"Flomaton\",\"Floyds Knobs\",\"Mccammon\",\"Trotwood\",\"Shipman\",\"Fort Sumner\",\"Fouke\",\"Upsala\",\"Martinton\",\"Martell\",\"Tonkawa\",\"Garden\",\"Garfield Heights\",\"Garnet Valley\",\"Marmarth\",\"Garryowen\",\"Marmaduke\",\"Marlow\",\"Gatesville\",\"Marion Junction\",\"Marine\",\"Geraldine\",\"Marenisco\",\"Tolar\",\"Gallipolis\",\"Marvell\",\"Fountain Hill\",\"Maryland\",\"Fox River Grove\",\"Township 12 Paw Creek\",\"Mc Clelland\",\"Mc Caskill\",\"Francesville\",\"Maugansville\",\"Free Soil\",\"Mattituck\",\"Sierra Blanca\",\"Frenchburg\",\"Tornillo\",\"Frierson\",\"Fruitdale\",\"Gabbs\",\"Sigourney\",\"Melvin\",\"Faulkner\",\"Sheppard AFB\",\"Elmendorf\",\"Mogadore\",\"Elroy\",\"Shady Valley\",\"Moffit\",\"Underhill\",\"Emden\",\"Emerado\",\"Minonk\",\"Minong\",\"Mineral Ridge\",\"Ulmer\",\"Mine Hill\",\"Endeavor\",\"Enderlin\",\"Engadine\",\"Mohall\",\"Molena\",\"Farnham\",\"Elm Mott\",\"Moorland\",\"Elida\",\"Seney\",\"Upper Jay\",\"Mooreville\",\"Seven Hills\",\"Upatoi\",\"Elkins\",\"University Heights\",\"Montour\",\"Elkville\",\"Monroe City\",\"Ellenburg Depot\",\"Monmouth Beach\",\"Monarch\",\"Milo\",\"Tylertown\",\"Enon Valley\",\"Two Rivers\",\"Exmore\",\"Export\",\"Mesick\",\"Merrionette Park\",\"Tunkhannock\",\"Fairbank\",\"Tumbling Shoals\",\"Fairchild Air Force Base\",\"Fairmount Heights\",\"Tullahoma\",\"Shell\",\"Meredith\",\"Menoken\",\"Falls Creek\",\"Mena\",\"Tupper Lake\",\"Mexico Beach\",\"Shelburne\",\"Twain Harte-Tuolumne City\",\"Mills\",\"Mill Spring\",\"Erick\",\"Erin\",\"Mifflin\",\"Midwest City\",\"Midwest\",\"Shelburn\",\"Essex Junction\",\"Estill Springs\",\"Midway Park\",\"Etna Green\",\"Ettrick\",\"Eure\",\"Hazle Township\"]},\"selected\":{\"id\":\"1417\"},\"selection_policy\":{\"id\":\"1416\"}},\"id\":\"1372\",\"type\":\"ColumnDataSource\"},{\"attributes\":{\"factors\":[\"Los Angeles\",\"Miami\",\"Sacramento\",\"Charlotte\",\"Dallas\",\"Portland\",\"Minneapolis\",\"Orlando\",\"Houston\",\"San Diego\"]},\"id\":\"1354\",\"type\":\"FactorRange\"},{\"attributes\":{\"coordinates\":null,\"group\":null,\"text\":\"Top City have Number of Accident\",\"text_color\":\"#5B5B5B\",\"text_font\":\"Calibri Light\",\"text_font_size\":\"1.25em\",\"text_font_style\":\"bold\"},\"id\":\"1352\",\"type\":\"Title\"},{\"attributes\":{},\"id\":\"1360\",\"type\":\"LinearScale\"},{\"attributes\":{},\"id\":\"1370\",\"type\":\"NumeralTickFormatter\"},{\"attributes\":{},\"id\":\"1417\",\"type\":\"Selection\"},{\"attributes\":{\"axis\":{\"id\":\"1362\"},\"coordinates\":null,\"grid_line_color\":null,\"group\":null,\"ticker\":null},\"id\":\"1364\",\"type\":\"Grid\"}],\"root_ids\":[\"1351\"]},\"title\":\"Bokeh Application\",\"version\":\"2.4.1\"}};\n",
       "  const render_items = [{\"docid\":\"1c60eebd-c595-4306-9486-b069c4838b7d\",\"root_ids\":[\"1351\"],\"roots\":{\"1351\":\"a09cdf31-68d9-4aa7-a380-2e4351abb3d0\"}}];\n",
       "  root.Bokeh.embed.embed_items_notebook(docs_json, render_items);\n",
       "\n",
       "  }\n",
       "  if (root.Bokeh !== undefined) {\n",
       "    embed_document(root);\n",
       "  } else {\n",
       "    let attempts = 0;\n",
       "    const timer = setInterval(function(root) {\n",
       "      if (root.Bokeh !== undefined) {\n",
       "        clearInterval(timer);\n",
       "        embed_document(root);\n",
       "      } else {\n",
       "        attempts++;\n",
       "        if (attempts > 100) {\n",
       "          clearInterval(timer);\n",
       "          console.log(\"Bokeh: ERROR: Unable to run BokehJS code because BokehJS library is missing\");\n",
       "        }\n",
       "      }\n",
       "    }, 10, root)\n",
       "  }\n",
       "})(window);"
      ],
      "application/vnd.bokehjs_exec.v0+json": ""
     },
     "metadata": {
      "application/vnd.bokehjs_exec.v0+json": {
       "id": "1351"
      }
     },
     "output_type": "display_data"
    }
   ],
   "source": [
    "\n",
    "x = city.City\n",
    "\n",
    "y = city['#Accident']\n",
    "\n",
    "\n",
    "\n",
    "curdoc().theme = 'caliber'\n",
    "\n",
    "\n",
    "\n",
    "p = figure(x_range=x[:10],width=800, height=500, title=\"Top City have Number of Accident\" \n",
    "           ,toolbar_location=None, tools=\"\")\n",
    "p.yaxis.formatter = NumeralTickFormatter(format=\"0,0\")\n",
    "\n",
    "\n",
    "p.vbar(x=x, top=y, width=.5, color=\"grey\")\n",
    "\n",
    "p.xgrid.grid_line_color = None\n",
    "p.y_range.start = 0\n",
    "\n",
    "show(p)"
   ]
  },
  {
   "cell_type": "markdown",
   "id": "dfdbb507",
   "metadata": {},
   "source": [
    "## - Show the accidents on US MAP"
   ]
  },
  {
   "cell_type": "code",
   "execution_count": 25,
   "id": "a51e2830",
   "metadata": {},
   "outputs": [
    {
     "data": {
      "text/plain": [
       "(40.10891, -83.09286)"
      ]
     },
     "execution_count": 25,
     "metadata": {},
     "output_type": "execute_result"
    }
   ],
   "source": [
    "lat, lon = accident_df.Start_Lat[0], accident_df.Start_Lng[0]\n",
    "lat, lon "
   ]
  },
  {
   "cell_type": "code",
   "execution_count": 26,
   "id": "2e1dc90f",
   "metadata": {},
   "outputs": [
    {
     "name": "stdout",
     "output_type": "stream",
     "text": [
      "586533     33.996323\n",
      "1085495    40.699790\n",
      "1151042    34.075217\n",
      "1015142    33.614681\n",
      "974295     33.913040\n",
      "             ...    \n",
      "1486364    33.965273\n",
      "576343     30.456324\n",
      "1054949    34.025177\n",
      "668585     38.154706\n",
      "615384     33.789554\n",
      "Name: Start_Lat, Length: 100, dtype: float64\n",
      "586533    -117.840052\n",
      "1085495   -111.890580\n",
      "1151042   -118.274206\n",
      "1015142   -117.707783\n",
      "974295    -118.125400\n",
      "              ...    \n",
      "1486364   -117.326684\n",
      "576343     -81.629283\n",
      "1054949   -117.114751\n",
      "668585    -121.675469\n",
      "615384    -117.805713\n",
      "Name: Start_Lng, Length: 100, dtype: float64\n"
     ]
    }
   ],
   "source": [
    "for x in accident_df[['Start_Lat', 'Start_Lng']].sample(100).iteritems():\n",
    "    print(x[1])"
   ]
  },
  {
   "cell_type": "code",
   "execution_count": 27,
   "id": "08e95871",
   "metadata": {},
   "outputs": [
    {
     "data": {
      "text/plain": [
       "<zip at 0x7f829cef98c0>"
      ]
     },
     "execution_count": 27,
     "metadata": {},
     "output_type": "execute_result"
    }
   ],
   "source": [
    "zip(list(accident_df.Start_Lat), list(accident_df.Start_Lng))"
   ]
  },
  {
   "cell_type": "code",
   "execution_count": 28,
   "id": "a81dac6d",
   "metadata": {},
   "outputs": [],
   "source": [
    "sample_df = accident_df.sample(int(0.001 * len(df)))\n",
    "lat_lon_pairs = list(zip(list(sample_df.Start_Lat), list(sample_df.Start_Lng)))"
   ]
  },
  {
   "cell_type": "code",
   "execution_count": 29,
   "id": "2af00e7d",
   "metadata": {},
   "outputs": [
    {
     "data": {
      "text/html": [
       "<div style=\"width:100%;\"><div style=\"position:relative;width:100%;height:0;padding-bottom:60%;\"><span style=\"color:#565656\">Make this Notebook Trusted to load map: File -> Trust Notebook</span><iframe src=\"about:blank\" style=\"position:absolute;width:100%;height:100%;left:0;top:0;border:none !important;\" data-html=%3C%21DOCTYPE%20html%3E%0A%3Chead%3E%20%20%20%20%0A%20%20%20%20%3Cmeta%20http-equiv%3D%22content-type%22%20content%3D%22text/html%3B%20charset%3DUTF-8%22%20/%3E%0A%20%20%20%20%0A%20%20%20%20%20%20%20%20%3Cscript%3E%0A%20%20%20%20%20%20%20%20%20%20%20%20L_NO_TOUCH%20%3D%20false%3B%0A%20%20%20%20%20%20%20%20%20%20%20%20L_DISABLE_3D%20%3D%20false%3B%0A%20%20%20%20%20%20%20%20%3C/script%3E%0A%20%20%20%20%0A%20%20%20%20%3Cstyle%3Ehtml%2C%20body%20%7Bwidth%3A%20100%25%3Bheight%3A%20100%25%3Bmargin%3A%200%3Bpadding%3A%200%3B%7D%3C/style%3E%0A%20%20%20%20%3Cstyle%3E%23map%20%7Bposition%3Aabsolute%3Btop%3A0%3Bbottom%3A0%3Bright%3A0%3Bleft%3A0%3B%7D%3C/style%3E%0A%20%20%20%20%3Cscript%20src%3D%22https%3A//cdn.jsdelivr.net/npm/leaflet%401.6.0/dist/leaflet.js%22%3E%3C/script%3E%0A%20%20%20%20%3Cscript%20src%3D%22https%3A//code.jquery.com/jquery-1.12.4.min.js%22%3E%3C/script%3E%0A%20%20%20%20%3Cscript%20src%3D%22https%3A//maxcdn.bootstrapcdn.com/bootstrap/3.2.0/js/bootstrap.min.js%22%3E%3C/script%3E%0A%20%20%20%20%3Cscript%20src%3D%22https%3A//cdnjs.cloudflare.com/ajax/libs/Leaflet.awesome-markers/2.0.2/leaflet.awesome-markers.js%22%3E%3C/script%3E%0A%20%20%20%20%3Clink%20rel%3D%22stylesheet%22%20href%3D%22https%3A//cdn.jsdelivr.net/npm/leaflet%401.6.0/dist/leaflet.css%22/%3E%0A%20%20%20%20%3Clink%20rel%3D%22stylesheet%22%20href%3D%22https%3A//maxcdn.bootstrapcdn.com/bootstrap/3.2.0/css/bootstrap.min.css%22/%3E%0A%20%20%20%20%3Clink%20rel%3D%22stylesheet%22%20href%3D%22https%3A//maxcdn.bootstrapcdn.com/bootstrap/3.2.0/css/bootstrap-theme.min.css%22/%3E%0A%20%20%20%20%3Clink%20rel%3D%22stylesheet%22%20href%3D%22https%3A//maxcdn.bootstrapcdn.com/font-awesome/4.6.3/css/font-awesome.min.css%22/%3E%0A%20%20%20%20%3Clink%20rel%3D%22stylesheet%22%20href%3D%22https%3A//cdnjs.cloudflare.com/ajax/libs/Leaflet.awesome-markers/2.0.2/leaflet.awesome-markers.css%22/%3E%0A%20%20%20%20%3Clink%20rel%3D%22stylesheet%22%20href%3D%22https%3A//cdn.jsdelivr.net/gh/python-visualization/folium/folium/templates/leaflet.awesome.rotate.min.css%22/%3E%0A%20%20%20%20%0A%20%20%20%20%20%20%20%20%20%20%20%20%3Cmeta%20name%3D%22viewport%22%20content%3D%22width%3Ddevice-width%2C%0A%20%20%20%20%20%20%20%20%20%20%20%20%20%20%20%20initial-scale%3D1.0%2C%20maximum-scale%3D1.0%2C%20user-scalable%3Dno%22%20/%3E%0A%20%20%20%20%20%20%20%20%20%20%20%20%3Cstyle%3E%0A%20%20%20%20%20%20%20%20%20%20%20%20%20%20%20%20%23map_0faae47f1e0e4583a977ca3a8aa3a66c%20%7B%0A%20%20%20%20%20%20%20%20%20%20%20%20%20%20%20%20%20%20%20%20position%3A%20relative%3B%0A%20%20%20%20%20%20%20%20%20%20%20%20%20%20%20%20%20%20%20%20width%3A%20100.0%25%3B%0A%20%20%20%20%20%20%20%20%20%20%20%20%20%20%20%20%20%20%20%20height%3A%20100.0%25%3B%0A%20%20%20%20%20%20%20%20%20%20%20%20%20%20%20%20%20%20%20%20left%3A%200.0%25%3B%0A%20%20%20%20%20%20%20%20%20%20%20%20%20%20%20%20%20%20%20%20top%3A%200.0%25%3B%0A%20%20%20%20%20%20%20%20%20%20%20%20%20%20%20%20%7D%0A%20%20%20%20%20%20%20%20%20%20%20%20%3C/style%3E%0A%20%20%20%20%20%20%20%20%0A%20%20%20%20%3Cscript%20src%3D%22https%3A//cdn.jsdelivr.net/gh/python-visualization/folium%40master/folium/templates/leaflet_heat.min.js%22%3E%3C/script%3E%0A%3C/head%3E%0A%3Cbody%3E%20%20%20%20%0A%20%20%20%20%0A%20%20%20%20%20%20%20%20%20%20%20%20%3Cdiv%20class%3D%22folium-map%22%20id%3D%22map_0faae47f1e0e4583a977ca3a8aa3a66c%22%20%3E%3C/div%3E%0A%20%20%20%20%20%20%20%20%0A%3C/body%3E%0A%3Cscript%3E%20%20%20%20%0A%20%20%20%20%0A%20%20%20%20%20%20%20%20%20%20%20%20var%20map_0faae47f1e0e4583a977ca3a8aa3a66c%20%3D%20L.map%28%0A%20%20%20%20%20%20%20%20%20%20%20%20%20%20%20%20%22map_0faae47f1e0e4583a977ca3a8aa3a66c%22%2C%0A%20%20%20%20%20%20%20%20%20%20%20%20%20%20%20%20%7B%0A%20%20%20%20%20%20%20%20%20%20%20%20%20%20%20%20%20%20%20%20center%3A%20%5B37.09024%2C%20-95.712891%5D%2C%0A%20%20%20%20%20%20%20%20%20%20%20%20%20%20%20%20%20%20%20%20crs%3A%20L.CRS.EPSG3857%2C%0A%20%20%20%20%20%20%20%20%20%20%20%20%20%20%20%20%20%20%20%20zoom%3A%204.4%2C%0A%20%20%20%20%20%20%20%20%20%20%20%20%20%20%20%20%20%20%20%20zoomControl%3A%20true%2C%0A%20%20%20%20%20%20%20%20%20%20%20%20%20%20%20%20%20%20%20%20preferCanvas%3A%20false%2C%0A%20%20%20%20%20%20%20%20%20%20%20%20%20%20%20%20%7D%0A%20%20%20%20%20%20%20%20%20%20%20%20%29%3B%0A%0A%20%20%20%20%20%20%20%20%20%20%20%20%0A%0A%20%20%20%20%20%20%20%20%0A%20%20%20%20%0A%20%20%20%20%20%20%20%20%20%20%20%20var%20tile_layer_66915ff3dd2544e2ace89b44235f3064%20%3D%20L.tileLayer%28%0A%20%20%20%20%20%20%20%20%20%20%20%20%20%20%20%20%22https%3A//%7Bs%7D.tile.openstreetmap.org/%7Bz%7D/%7Bx%7D/%7By%7D.png%22%2C%0A%20%20%20%20%20%20%20%20%20%20%20%20%20%20%20%20%7B%22attribution%22%3A%20%22Data%20by%20%5Cu0026copy%3B%20%5Cu003ca%20href%3D%5C%22http%3A//openstreetmap.org%5C%22%5Cu003eOpenStreetMap%5Cu003c/a%5Cu003e%2C%20under%20%5Cu003ca%20href%3D%5C%22http%3A//www.openstreetmap.org/copyright%5C%22%5Cu003eODbL%5Cu003c/a%5Cu003e.%22%2C%20%22detectRetina%22%3A%20false%2C%20%22maxNativeZoom%22%3A%2018%2C%20%22maxZoom%22%3A%2018%2C%20%22minZoom%22%3A%200%2C%20%22noWrap%22%3A%20false%2C%20%22opacity%22%3A%201%2C%20%22subdomains%22%3A%20%22abc%22%2C%20%22tms%22%3A%20false%7D%0A%20%20%20%20%20%20%20%20%20%20%20%20%29.addTo%28map_0faae47f1e0e4583a977ca3a8aa3a66c%29%3B%0A%20%20%20%20%20%20%20%20%0A%20%20%20%20%0A%20%20%20%20%20%20%20%20%20%20%20%20var%20heat_map_de77e3b4a4f04de0aafd514749f5ac84%20%3D%20L.heatLayer%28%0A%20%20%20%20%20%20%20%20%20%20%20%20%20%20%20%20%5B%5B41.104434%2C%20-73.563047%5D%2C%20%5B33.019069%2C%20-117.120007%5D%2C%20%5B32.333889%2C%20-90.160102%5D%2C%20%5B28.459743%2C%20-82.627135%5D%2C%20%5B37.127197%2C%20-122.122887%5D%2C%20%5B25.826304%2C%20-80.323387%5D%2C%20%5B36.588824%2C%20-79.322307%5D%2C%20%5B37.807884%2C%20-121.297215%5D%2C%20%5B37.780935%2C%20-122.173268%5D%2C%20%5B42.40042%2C%20-122.18651%5D%2C%20%5B38.506905%2C%20-122.769949%5D%2C%20%5B45.061645%2C%20-123.571561%5D%2C%20%5B37.927221%2C%20-122.37295%5D%2C%20%5B37.433091%2C%20-121.158803%5D%2C%20%5B42.28029%2C%20-83.21519%5D%2C%20%5B34.05634%2C%20-118.201764%5D%2C%20%5B37.853122%2C%20-122.221963%5D%2C%20%5B33.90965%2C%20-118.1049%5D%2C%20%5B37.405432%2C%20-77.664488%5D%2C%20%5B40.80771%2C%20-73.3803%5D%2C%20%5B34.852634%2C%20-120.524343%5D%2C%20%5B33.722631%2C%20-117.648362%5D%2C%20%5B38.77403%2C%20-77.24923%5D%2C%20%5B33.62842%2C%20-117.72088%5D%2C%20%5B34.043122%2C%20-117.550438%5D%2C%20%5B41.735526%2C%20-85.001489%5D%2C%20%5B31.76972%2C%20-106.37319%5D%2C%20%5B39.94274%2C%20-76.71884%5D%2C%20%5B43.2127%2C%20-123.35492%5D%2C%20%5B38.869353%2C%20-77.046646%5D%2C%20%5B40.66575%2C%20-73.83233%5D%2C%20%5B39.783023%2C%20-105.128558%5D%2C%20%5B34.151737%2C%20-118.46802%5D%2C%20%5B34.06425%2C%20-81.13897%5D%2C%20%5B34.087169%2C%20-117.679154%5D%2C%20%5B44.58324%2C%20-117.45707%5D%2C%20%5B39.72549%2C%20-105.04159%5D%2C%20%5B38.07915%2C%20-84.49313%5D%2C%20%5B35.39899%2C%20-97.49516%5D%2C%20%5B33.662313%2C%20-84.395202%5D%2C%20%5B41.389195%2C%20-73.541906%5D%2C%20%5B36.263439%2C%20-86.738031%5D%2C%20%5B33.935258%2C%20-118.039354%5D%2C%20%5B35.87586%2C%20-78.5402%5D%2C%20%5B42.8018%2C%20-87.95336%5D%2C%20%5B44.96235%2C%20-93.20213%5D%2C%20%5B35.881787%2C%20-87.828%5D%2C%20%5B33.876142%2C%20-118.168574%5D%2C%20%5B25.86624%2C%20-80.20847%5D%2C%20%5B44.86183%2C%20-93.28205%5D%2C%20%5B31.874239%2C%20-82.356367%5D%2C%20%5B33.563618%2C%20-84.27214%5D%2C%20%5B40.664895%2C%20-73.996599%5D%2C%20%5B27.99341%2C%20-82.45359%5D%2C%20%5B47.57141%2C%20-122.32275%5D%2C%20%5B40.71534%2C%20-74.13812%5D%2C%20%5B34.664638%2C%20-79.519882%5D%2C%20%5B34.365024%2C%20-118.503463%5D%2C%20%5B38.661829%2C%20-121.536559%5D%2C%20%5B26.498442%2C%20-81.943404%5D%2C%20%5B40.71783%2C%20-73.406%5D%2C%20%5B38.519085%2C%20-121.521717%5D%2C%20%5B38.572407%2C%20-121.509314%5D%2C%20%5B42.4079%2C%20-71.10088%5D%2C%20%5B36.190897%2C%20-86.788868%5D%2C%20%5B28.581571%2C%20-81.171951%5D%2C%20%5B43.126466%2C%20-95.143623%5D%2C%20%5B32.726112%2C%20-117.073052%5D%2C%20%5B38.80051%2C%20-107.74386%5D%2C%20%5B32.9237%2C%20-96.75621%5D%2C%20%5B31.35106%2C%20-84.07232%5D%2C%20%5B27.92651%2C%20-82.33133%5D%2C%20%5B37.783044%2C%20-121.258012%5D%2C%20%5B45.54219%2C%20-122.274157%5D%2C%20%5B30.35238%2C%20-97.536715%5D%2C%20%5B25.685827%2C%20-80.403672%5D%2C%20%5B35.352231%2C%20-80.846628%5D%2C%20%5B33.02399%2C%20-96.710103%5D%2C%20%5B33.30577%2C%20-111.8949%5D%2C%20%5B37.604194%2C%20-122.064961%5D%2C%20%5B34.244242%2C%20-118.319284%5D%2C%20%5B27.7765%2C%20-82.64667%5D%2C%20%5B28.50878%2C%20-81.42592%5D%2C%20%5B43.042706%2C%20-83.656564%5D%2C%20%5B34.033156%2C%20-118.137927%5D%2C%20%5B29.98159%2C%20-90.2536%5D%2C%20%5B39.95784%2C%20-82.5324%5D%2C%20%5B37.604645%2C%20-119.966057%5D%2C%20%5B41.36466%2C%20-96.09428%5D%2C%20%5B34.216826%2C%20-79.759378%5D%2C%20%5B33.436211%2C%20-111.927418%5D%2C%20%5B32.673822%2C%20-96.859642%5D%2C%20%5B41.86401%2C%20-88.14281%5D%2C%20%5B34.811484%2C%20-82.419494%5D%2C%20%5B36.822877%2C%20-119.801309%5D%2C%20%5B34.153767%2C%20-118.275389%5D%2C%20%5B40.240797%2C%20-75.285725%5D%2C%20%5B37.419448%2C%20-121.955906%5D%2C%20%5B38.919693%2C%20-76.978793%5D%2C%20%5B35.441227%2C%20-119.052419%5D%2C%20%5B46.12017%2C%20-123.24687%5D%2C%20%5B45.394402%2C%20-92.994407%5D%2C%20%5B38.030352%2C%20-121.095909%5D%2C%20%5B37.71523%2C%20-122.17298%5D%2C%20%5B37.374833%2C%20-120.67015%5D%2C%20%5B29.776371%2C%20-95.455967%5D%2C%20%5B33.742044%2C%20-117.837326%5D%2C%20%5B34.033361%2C%20-118.152748%5D%2C%20%5B33.59676%2C%20-117.176004%5D%2C%20%5B39.926557%2C%20-77.624789%5D%2C%20%5B35.30505%2C%20-80.85837%5D%2C%20%5B37.486918%2C%20-121.940904%5D%2C%20%5B34.171261%2C%20-118.515615%5D%2C%20%5B34.024597%2C%20-118.469235%5D%2C%20%5B30.393168%2C%20-91.110607%5D%2C%20%5B38.464636%2C%20-121.364417%5D%2C%20%5B41.76837%2C%20-88.04184%5D%2C%20%5B41.60325%2C%20-87.73647%5D%2C%20%5B34.0652%2C%20-118.00005%5D%2C%20%5B37.794631%2C%20-122.206233%5D%2C%20%5B39.820089%2C%20-85.829591%5D%2C%20%5B34.041757%2C%20-118.567637%5D%2C%20%5B29.96166%2C%20-90.075656%5D%2C%20%5B35.58012%2C%20-97.54924%5D%2C%20%5B38.555118%2C%20-121.403675%5D%2C%20%5B41.187304%2C%20-74.038335%5D%2C%20%5B40.616439%2C%20-74.026182%5D%2C%20%5B38.89775%2C%20-76.061593%5D%2C%20%5B35.271674%2C%20-80.884254%5D%2C%20%5B37.625931%2C%20-77.573186%5D%2C%20%5B25.822533%2C%20-80.369759%5D%2C%20%5B33.913177%2C%20-118.145717%5D%2C%20%5B39.654361%2C%20-79.444444%5D%2C%20%5B33.932337%2C%20-118.361322%5D%2C%20%5B40.83407%2C%20-74.4411%5D%2C%20%5B44.91092%2C%20-93.14382%5D%2C%20%5B28.640197%2C%20-81.442592%5D%2C%20%5B36.060315%2C%20-79.603296%5D%2C%20%5B43.65961%2C%20-93.19038%5D%2C%20%5B33.06853%2C%20-87.694593%5D%2C%20%5B35.04627%2C%20-89.69441%5D%2C%20%5B25.685165%2C%20-80.419593%5D%2C%20%5B32.79096%2C%20-96.75879%5D%2C%20%5B25.925478%2C%20-80.291995%5D%2C%20%5B30.574752%2C%20-91.128254%5D%2C%20%5B34.064885%2C%20-117.293987%5D%2C%20%5B38.833144%2C%20-77.450827%5D%2C%20%5B40.855916%2C%20-74.013457%5D%2C%20%5B38.002469%2C%20-122.053311%5D%2C%20%5B39.54138%2C%20-104.86894%5D%2C%20%5B41.306652%2C%20-112.027643%5D%2C%20%5B34.451542%2C%20-118.614887%5D%2C%20%5B42.27237%2C%20-88.19845%5D%2C%20%5B34.567812%2C%20-119.951468%5D%2C%20%5B34.082806%2C%20-118.297847%5D%2C%20%5B33.83921%2C%20-118.263133%5D%2C%20%5B29.266977%2C%20-82.201762%5D%2C%20%5B28.42741%2C%20-81.400363%5D%2C%20%5B34.154179%2C%20-118.468226%5D%2C%20%5B32.936722%2C%20-117.241405%5D%2C%20%5B36.280626%2C%20-121.302964%5D%2C%20%5B37.986881%2C%20-122.069937%5D%2C%20%5B39.8993%2C%20-104.98796%5D%2C%20%5B35.25878%2C%20-80.96792%5D%2C%20%5B39.074989%2C%20-76.946192%5D%2C%20%5B33.92529%2C%20-118.32882%5D%2C%20%5B37.043646%2C%20-120.635557%5D%2C%20%5B38.449321%2C%20-123.000334%5D%2C%20%5B39.008367%2C%20-122.614363%5D%2C%20%5B42.49437%2C%20-82.94641%5D%2C%20%5B44.76724%2C%20-122.53124%5D%2C%20%5B36.661111%2C%20-121.816111%5D%2C%20%5B38.664199%2C%20-121.253281%5D%2C%20%5B44.94944%2C%20-92.99698%5D%2C%20%5B33.881791%2C%20-117.582518%5D%2C%20%5B40.14653%2C%20-79.83705%5D%2C%20%5B32.76767%2C%20-117.16242%5D%2C%20%5B33.941178%2C%20-118.096711%5D%2C%20%5B39.530578%2C%20-76.181849%5D%2C%20%5B39.908705%2C%20-75.362294%5D%2C%20%5B37.581342%2C%20-119.959384%5D%2C%20%5B34.231912%2C%20-117.202047%5D%2C%20%5B25.941444%2C%20-80.121377%5D%2C%20%5B36.713833%2C%20-119.853426%5D%2C%20%5B40.491653%2C%20-75.380208%5D%2C%20%5B37.443784%2C%20-76.293097%5D%2C%20%5B34.57376%2C%20-82.7077%5D%2C%20%5B34.035318%2C%20-118.329622%5D%2C%20%5B32.732039%2C%20-117.171795%5D%2C%20%5B34.210621%2C%20-118.224807%5D%2C%20%5B41.345854%2C%20-74.226926%5D%2C%20%5B33.810628%2C%20-118.081322%5D%2C%20%5B40.094228%2C%20-75.286721%5D%2C%20%5B34.687711%2C%20-111.743928%5D%2C%20%5B39.108291%2C%20-77.184587%5D%2C%20%5B32.894497%2C%20-96.711806%5D%2C%20%5B37.99217%2C%20-121.25285%5D%2C%20%5B34.08322%2C%20-118.22836%5D%2C%20%5B40.426853%2C%20-79.892077%5D%2C%20%5B39.67045%2C%20-104.82928%5D%2C%20%5B34.017427%2C%20-118.17396%5D%2C%20%5B40.641364%2C%20-89.535915%5D%2C%20%5B34.24973%2C%20-117.442178%5D%2C%20%5B39.988657%2C%20-75.088108%5D%2C%20%5B34.087194%2C%20-117.664329%5D%2C%20%5B44.86225%2C%20-93.24312%5D%2C%20%5B42.087816%2C%20-88.456621%5D%2C%20%5B33.148694%2C%20-117.334244%5D%2C%20%5B37.24524%2C%20-121.77273%5D%2C%20%5B34.161262%2C%20-118.413761%5D%2C%20%5B33.60497%2C%20-117.69042%5D%2C%20%5B29.920292%2C%20-90.108007%5D%2C%20%5B39.738932%2C%20-121.82309%5D%2C%20%5B38.223227%2C%20-122.258004%5D%2C%20%5B30.427849%2C%20-91.078053%5D%2C%20%5B30.501211%2C%20-87.229653%5D%2C%20%5B45.694078%2C%20-108.679362%5D%2C%20%5B32.755913%2C%20-117.235399%5D%2C%20%5B39.05321%2C%20-94.477154%5D%2C%20%5B25.747943%2C%20-80.36786%5D%2C%20%5B34.44042%2C%20-118.59981%5D%2C%20%5B35.830498%2C%20-78.5849%5D%2C%20%5B37.595793%2C%20-77.565869%5D%2C%20%5B33.668106%2C%20-112.082015%5D%2C%20%5B28.569291%2C%20-81.228182%5D%2C%20%5B38.05744%2C%20-103.730914%5D%2C%20%5B34.154133%2C%20-118.467958%5D%2C%20%5B41.230432%2C%20-73.073069%5D%2C%20%5B41.760845%2C%20-122.621744%5D%2C%20%5B35.728191%2C%20-78.555475%5D%2C%20%5B40.86551%2C%20-77.93895%5D%2C%20%5B36.748501%2C%20-121.66243%5D%2C%20%5B33.844081%2C%20-98.489824%5D%2C%20%5B33.061636%2C%20-117.29108%5D%2C%20%5B35.441295%2C%20-119.08385%5D%2C%20%5B44.000459%2C%20-92.309861%5D%2C%20%5B32.90153%2C%20-96.89813%5D%2C%20%5B41.98891%2C%20-88.14654%5D%2C%20%5B42.20656%2C%20-71.79193%5D%2C%20%5B28.087329%2C%20-82.459534%5D%2C%20%5B37.34696%2C%20-121.85889%5D%2C%20%5B25.821778%2C%20-80.313693%5D%2C%20%5B40.938233%2C%20-74.14308%5D%2C%20%5B40.144597%2C%20-75.118795%5D%2C%20%5B44.851931%2C%20-123.229254%5D%2C%20%5B34.739%2C%20-86.60308%5D%2C%20%5B33.715028%2C%20-84.240588%5D%2C%20%5B40.971404%2C%20-73.725371%5D%2C%20%5B44.562081%2C%20-123.061648%5D%2C%20%5B39.874352%2C%20-75.10212%5D%2C%20%5B40.485651%2C%20-123.767485%5D%2C%20%5B38.43132%2C%20-122.7094%5D%2C%20%5B38.64876%2C%20-90.5414%5D%2C%20%5B37.717973%2C%20-121.70142%5D%2C%20%5B43.02938%2C%20-112.4079%5D%2C%20%5B38.873974%2C%20-76.978014%5D%2C%20%5B33.81439%2C%20-118.1721%5D%2C%20%5B32.92393%2C%20-96.77563%5D%2C%20%5B26.003404%2C%20-80.338994%5D%2C%20%5B37.765236%2C%20-122.404898%5D%2C%20%5B39.018985%2C%20-76.976448%5D%2C%20%5B35.521371%2C%20-93.873436%5D%2C%20%5B33.751577%2C%20-117.846082%5D%2C%20%5B37.59258%2C%20-122.05645%5D%2C%20%5B41.94068%2C%20-88.15115%5D%2C%20%5B33.82817%2C%20-84.48709%5D%2C%20%5B29.70165%2C%20-95.29513%5D%2C%20%5B33.842042%2C%20-118.286251%5D%2C%20%5B34.06507%2C%20-117.307015%5D%2C%20%5B40.760124%2C%20-73.856052%5D%2C%20%5B40.908148%2C%20-74.098114%5D%2C%20%5B36.18711%2C%20-96.00493%5D%2C%20%5B32.330444%2C%20-111.046255%5D%2C%20%5B25.840826%2C%20-80.322235%5D%2C%20%5B29.75035%2C%20-95.14585%5D%2C%20%5B44.779039%2C%20-93.37807%5D%2C%20%5B45.386023%2C%20-118.31529%5D%2C%20%5B33.841294%2C%20-79.713807%5D%2C%20%5B34.103754%2C%20-117.983506%5D%2C%20%5B33.91417%2C%20-118.28669%5D%2C%20%5B26.335481%2C%20-80.17028%5D%2C%20%5B45.196841%2C%20-93.557413%5D%2C%20%5B37.321122%2C%20-121.899889%5D%2C%20%5B33.945464%2C%20-118.304215%5D%2C%20%5B25.819351%2C%20-80.244675%5D%2C%20%5B37.42018%2C%20-121.9145%5D%2C%20%5B43.18653%2C%20-77.60837%5D%2C%20%5B45.503864%2C%20-119.805266%5D%2C%20%5B38.868825%2C%20-77.179454%5D%2C%20%5B42.392245%2C%20-82.999951%5D%2C%20%5B29.57514%2C%20-98.47857%5D%2C%20%5B44.28794%2C%20-117.21999%5D%2C%20%5B40.016153%2C%20-75.733961%5D%2C%20%5B35.21401%2C%20-80.77123%5D%2C%20%5B37.49608%2C%20-120.871987%5D%2C%20%5B40.57875%2C%20-111.89997%5D%2C%20%5B41.395318%2C%20-113.962644%5D%2C%20%5B39.152505%2C%20-121.659673%5D%2C%20%5B33.079113%2C%20-117.296606%5D%2C%20%5B35.391185%2C%20-118.982235%5D%2C%20%5B42.394464%2C%20-87.927877%5D%2C%20%5B37.964544%2C%20-89.05353%5D%2C%20%5B43.88828%2C%20-121.382%5D%2C%20%5B39.35509%2C%20-120.14628%5D%2C%20%5B42.492008%2C%20-83.014104%5D%2C%20%5B34.163501%2C%20-79.765252%5D%2C%20%5B45.1227%2C%20-93.388879%5D%2C%20%5B44.74096%2C%20-92.94993%5D%2C%20%5B30.42649%2C%20-91.066544%5D%2C%20%5B35.129853%2C%20-80.914298%5D%2C%20%5B34.069633%2C%20-118.261298%5D%2C%20%5B43.06811%2C%20-76.16452%5D%2C%20%5B39.0515%2C%20-76.84142%5D%2C%20%5B35.503056%2C%20-119.537778%5D%2C%20%5B25.964267%2C%20-80.254623%5D%2C%20%5B26.443608%2C%20-80.089184%5D%2C%20%5B30.497036%2C%20-87.221948%5D%2C%20%5B25.9007%2C%20-80.178334%5D%2C%20%5B30.215107%2C%20-97.710382%5D%2C%20%5B40.742765%2C%20-111.989918%5D%2C%20%5B40.69134%2C%20-73.88599%5D%2C%20%5B40.41364%2C%20-74.44795%5D%2C%20%5B33.841356%2C%20-118.265494%5D%2C%20%5B33.89406%2C%20-84.25492%5D%2C%20%5B45.12567%2C%20-122.80619%5D%2C%20%5B37.63982%2C%20-77.58801%5D%2C%20%5B35.05168%2C%20-89.73254%5D%2C%20%5B37.48401%2C%20-79.668592%5D%2C%20%5B27.179181%2C%20-81.872571%5D%2C%20%5B37.55792%2C%20-89.02968%5D%2C%20%5B42.88526%2C%20-86.08031%5D%2C%20%5B36.26923%2C%20-86.75572%5D%2C%20%5B39.998058%2C%20-75.233212%5D%2C%20%5B45.59486%2C%20-122.68389%5D%2C%20%5B32.25016%2C%20-110.978%5D%2C%20%5B36.804127%2C%20-121.783824%5D%2C%20%5B34.959445%2C%20-89.998877%5D%2C%20%5B47.23724%2C%20-122.43348%5D%2C%20%5B29.775406%2C%20-95.421898%5D%2C%20%5B30.252452%2C%20-97.735969%5D%2C%20%5B41.90412%2C%20-88.04294%5D%2C%20%5B37.671435%2C%20-122.13849%5D%2C%20%5B40.101631%2C%20-75.252753%5D%2C%20%5B40.683975%2C%20-74.001525%5D%2C%20%5B45.566605%2C%20-117.971546%5D%2C%20%5B33.56752%2C%20-112.18629%5D%2C%20%5B41.518141%2C%20-73.983462%5D%2C%20%5B38.60879%2C%20-121.429527%5D%2C%20%5B40.734441%2C%20-74.125529%5D%2C%20%5B25.772717%2C%20-80.369401%5D%2C%20%5B36.10465%2C%20-80.24119%5D%2C%20%5B32.65813%2C%20-96.88665%5D%2C%20%5B41.98671%2C%20-88.08572%5D%2C%20%5B38.002784%2C%20-122.538358%5D%2C%20%5B39.963594%2C%20-75.82209%5D%2C%20%5B32.84392%2C%20-96.63466%5D%2C%20%5B33.83987%2C%20-84.48734%5D%2C%20%5B43.1496%2C%20-76.1256%5D%2C%20%5B42.347164%2C%20-122.875628%5D%2C%20%5B25.864146%2C%20-80.322654%5D%2C%20%5B43.604957%2C%20-116.355981%5D%2C%20%5B44.86165%2C%20-93.27828%5D%2C%20%5B30.41259%2C%20-81.56539%5D%2C%20%5B38.861529%2C%20-77.348973%5D%2C%20%5B34.072997%2C%20-118.269436%5D%2C%20%5B40.185359%2C%20-77.23894%5D%2C%20%5B43.065783%2C%20-71.47138%5D%2C%20%5B40.851066%2C%20-73.949949%5D%2C%20%5B45.276572%2C%20-93.737973%5D%2C%20%5B38.581534%2C%20-121.405632%5D%2C%20%5B39.31918%2C%20-94.6929%5D%2C%20%5B29.80177%2C%20-95.33963%5D%2C%20%5B37.201005%2C%20-121.736465%5D%2C%20%5B27.129004%2C%20-80.346702%5D%2C%20%5B37.734134%2C%20-122.13955%5D%2C%20%5B34.22136%2C%20-119.09843%5D%2C%20%5B36.801506%2C%20-121.665869%5D%2C%20%5B33.36931%2C%20-117.251028%5D%2C%20%5B35.19089%2C%20-118.50762%5D%2C%20%5B34.0349%2C%20-118.36729%5D%2C%20%5B34.978547%2C%20-120.570776%5D%2C%20%5B33.969501%2C%20-117.549%5D%2C%20%5B34.176578%2C%20-118.307953%5D%2C%20%5B39.64507%2C%20-84.16063%5D%2C%20%5B35.76672%2C%20-78.73553%5D%2C%20%5B40.7471%2C%20-73.83509%5D%2C%20%5B32.86487%2C%20-96.862442%5D%2C%20%5B45.400153%2C%20-122.745534%5D%2C%20%5B38.6782%2C%20-90.01459%5D%2C%20%5B42.47654%2C%20-122.991716%5D%2C%20%5B45.67238%2C%20-118.83546%5D%2C%20%5B34.556756%2C%20-80.897087%5D%2C%20%5B32.206372%2C%20-110.826351%5D%2C%20%5B34.988747%2C%20-85.068985%5D%2C%20%5B38.494929%2C%20-121.695589%5D%2C%20%5B28.603617%2C%20-81.310679%5D%2C%20%5B37.42238%2C%20-122.22632%5D%2C%20%5B38.453167%2C%20-121.445171%5D%2C%20%5B41.25022%2C%20-73.00339%5D%2C%20%5B25.732705%2C%20-80.354702%5D%2C%20%5B34.17488%2C%20-117.886076%5D%2C%20%5B32.948121%2C%20-80.205496%5D%2C%20%5B41.04778%2C%20-73.83441%5D%2C%20%5B45.508708%2C%20-122.738383%5D%2C%20%5B41.41767%2C%20-73.29077%5D%2C%20%5B26.67968%2C%20-81.79848%5D%2C%20%5B38.79507%2C%20-122.567274%5D%2C%20%5B35.833986%2C%20-78.634357%5D%2C%20%5B34.024733%2C%20-117.735811%5D%2C%20%5B31.8412%2C%20-106.44506%5D%2C%20%5B38.224504%2C%20-122.126524%5D%2C%20%5B47.711368%2C%20-121.361733%5D%2C%20%5B47.35367%2C%20-122.24464%5D%2C%20%5B41.851419%2C%20-122.569495%5D%2C%20%5B33.989301%2C%20-118.246538%5D%2C%20%5B40.118057%2C%20-75.307113%5D%2C%20%5B34.310678%2C%20-118.486572%5D%2C%20%5B37.76866%2C%20-122.15394%5D%2C%20%5B33.1292%2C%20-117.09812%5D%2C%20%5B33.434025%2C%20-117.141885%5D%2C%20%5B40.849516%2C%20-74.121224%5D%2C%20%5B39.269042%2C%20-121.057171%5D%2C%20%5B25.628933%2C%20-80.341162%5D%2C%20%5B34.107669%2C%20-118.186067%5D%2C%20%5B41.02553%2C%20-73.60949%5D%2C%20%5B38.348957%2C%20-122.961329%5D%2C%20%5B43.077798%2C%20-124.415181%5D%2C%20%5B33.859282%2C%20-118.290432%5D%2C%20%5B40.43434%2C%20-79.74798%5D%2C%20%5B32.85334%2C%20-83.63368%5D%2C%20%5B45.93995%2C%20-123.91907%5D%2C%20%5B43.002011%2C%20-83.772697%5D%2C%20%5B38.36356%2C%20-122.71259%5D%2C%20%5B34.067408%2C%20-117.573163%5D%2C%20%5B35.159242%2C%20-89.875761%5D%2C%20%5B43.323392%2C%20-124.206015%5D%2C%20%5B38.285132%2C%20-78.933902%5D%2C%20%5B34.109118%2C%20-118.332602%5D%2C%20%5B25.922163%2C%20-80.309204%5D%2C%20%5B41.098748%2C%20-74.037455%5D%2C%20%5B39.12165%2C%20-76.55205%5D%2C%20%5B40.750198%2C%20-111.910088%5D%2C%20%5B42.825735%2C%20-89.303261%5D%2C%20%5B34.024634%2C%20-117.756964%5D%2C%20%5B34.008526%2C%20-118.204899%5D%2C%20%5B37.181162%2C%20-93.331532%5D%2C%20%5B34.976262%2C%20-81.013382%5D%2C%20%5B45.27586%2C%20-122.77316%5D%2C%20%5B39.12646%2C%20-84.56132%5D%2C%20%5B40.791766%2C%20-77.865144%5D%2C%20%5B33.562813%2C%20-112.116004%5D%2C%20%5B45.353979%2C%20-118.192166%5D%2C%20%5B34.835556%2C%20-118.863611%5D%2C%20%5B30.234656%2C%20-97.743694%5D%2C%20%5B38.660771%2C%20-121.345303%5D%2C%20%5B45.03557%2C%20-92.88343%5D%2C%20%5B34.521964%2C%20-118.097417%5D%2C%20%5B33.372541%2C%20-117.253381%5D%2C%20%5B38.491979%2C%20-121.427175%5D%2C%20%5B40.119057%2C%20-75.354032%5D%2C%20%5B33.883704%2C%20-117.640311%5D%2C%20%5B40.31565%2C%20-122.034147%5D%2C%20%5B35.25238%2C%20-118.924345%5D%2C%20%5B43.05981%2C%20-77.57309%5D%2C%20%5B33.844712%2C%20-117.828327%5D%2C%20%5B34.31845%2C%20-117.48042%5D%2C%20%5B34.492575%2C%20-118.180139%5D%2C%20%5B34.97053%2C%20-85.19361%5D%2C%20%5B40.075144%2C%20-76.297217%5D%2C%20%5B39.943435%2C%20-78.987544%5D%2C%20%5B41.110418%2C%20-73.50111%5D%2C%20%5B44.8389%2C%20-117.880219%5D%2C%20%5B43.69795%2C%20-84.36828%5D%2C%20%5B38.134167%2C%20-122.476424%5D%2C%20%5B38.709973%2C%20-77.221645%5D%2C%20%5B33.348996%2C%20-111.971777%5D%2C%20%5B34.055804%2C%20-117.689447%5D%2C%20%5B44.40173%2C%20-92.33393%5D%2C%20%5B31.749233%2C%20-106.339641%5D%2C%20%5B42.35692%2C%20-83.27439%5D%2C%20%5B40.711566%2C%20-74.244307%5D%2C%20%5B40.739762%2C%20-73.846106%5D%2C%20%5B25.92222%2C%20-80.21115%5D%2C%20%5B36.06531%2C%20-79.38075%5D%2C%20%5B42.37886%2C%20-83.2077%5D%2C%20%5B38.872193%2C%20-76.981705%5D%2C%20%5B34.40519%2C%20-118.57475%5D%2C%20%5B34.07414%2C%20-117.54468%5D%2C%20%5B47.45783%2C%20-115.695%5D%2C%20%5B38.578737%2C%20-77.319835%5D%2C%20%5B40.10962%2C%20-79.38226%5D%2C%20%5B33.157949%2C%20-117.207208%5D%2C%20%5B31.604801%2C%20-97.106384%5D%2C%20%5B33.804439%2C%20-118.20751%5D%2C%20%5B33.96907%2C%20-117.328625%5D%2C%20%5B41.87575%2C%20-87.68822%5D%2C%20%5B42.232636%2C%20-87.855187%5D%2C%20%5B36.801566%2C%20-121.665778%5D%2C%20%5B34.145263%2C%20-117.284159%5D%2C%20%5B25.68887%2C%20-80.350428%5D%2C%20%5B34.27679%2C%20-118.452996%5D%2C%20%5B38.90483%2C%20-77.016166%5D%2C%20%5B37.78534%2C%20-122.192427%5D%2C%20%5B32.72457%2C%20-96.70025%5D%2C%20%5B40.622016%2C%20-74.247635%5D%2C%20%5B35.03904%2C%20-85.26706%5D%2C%20%5B37.583101%2C%20-122.050132%5D%2C%20%5B36.036347%2C%20-119.510554%5D%2C%20%5B37.143411%2C%20-121.984839%5D%2C%20%5B35.945605%2C%20-78.54231%5D%2C%20%5B34.068957%2C%20-117.348586%5D%2C%20%5B42.90641%2C%20-71.46365%5D%2C%20%5B35.94277%2C%20-87.19222%5D%2C%20%5B34.652835%2C%20-120.182622%5D%2C%20%5B44.66988%2C%20-123.05797%5D%2C%20%5B30.188294%2C%20-97.772194%5D%2C%20%5B44.85893%2C%20-93.29824%5D%2C%20%5B36.677931%2C%20-119.790764%5D%2C%20%5B47.67587%2C%20-122.32131%5D%2C%20%5B35.29502%2C%20-80.96039%5D%2C%20%5B38.63669%2C%20-77.29234%5D%2C%20%5B34.102884%2C%20-118.196304%5D%2C%20%5B36.200835%2C%20-86.769689%5D%2C%20%5B34.124675%2C%20-118.476764%5D%2C%20%5B34.00081%2C%20-118.17489%5D%2C%20%5B33.855818%2C%20-118.015834%5D%2C%20%5B33.74359%2C%20-84.35876%5D%2C%20%5B42.166658%2C%20-87.921443%5D%2C%20%5B34.05941%2C%20-118.00142%5D%2C%20%5B37.325573%2C%20-122.205863%5D%2C%20%5B39.09628%2C%20-94.574321%5D%2C%20%5B33.434454%2C%20-117.617214%5D%2C%20%5B33.641515%2C%20-117.139194%5D%2C%20%5B40.016162%2C%20-76.160932%5D%2C%20%5B27.463463%2C%20-82.587601%5D%2C%20%5B33.055571%2C%20-80.23862%5D%2C%20%5B38.640086%2C%20-121.196016%5D%2C%20%5B40.714662%2C%20-111.785148%5D%2C%20%5B36.976983%2C%20-120.079343%5D%2C%20%5B40.738074%2C%20-74.217299%5D%2C%20%5B39.863598%2C%20-121.960168%5D%2C%20%5B36.939951%2C%20-77.392727%5D%2C%20%5B40.609813%2C%20-75.529986%5D%2C%20%5B41.493271%2C%20-112.053871%5D%2C%20%5B38.68203%2C%20-121.33527%5D%2C%20%5B45.27921%2C%20-93.00331%5D%2C%20%5B33.770953%2C%20-117.991436%5D%2C%20%5B33.1001%2C%20-117.308567%5D%2C%20%5B34.072806%2C%20-118.466716%5D%2C%20%5B45.887649%2C%20-106.630644%5D%2C%20%5B45.172086%2C%20-122.443419%5D%2C%20%5B34.029389%2C%20-84.048875%5D%2C%20%5B38.023255%2C%20-121.966585%5D%2C%20%5B34.48617%2C%20-118.61675%5D%2C%20%5B40.70392%2C%20-111.98018%5D%2C%20%5B40.54424%2C%20-111.92524%5D%2C%20%5B34.026447%2C%20-117.33326%5D%2C%20%5B40.58766%2C%20-111.87213%5D%2C%20%5B32.840485%2C%20-117.173957%5D%2C%20%5B33.38602%2C%20-111.81078%5D%2C%20%5B35.22533%2C%20-80.86432%5D%2C%20%5B33.041735%2C%20-117.196319%5D%2C%20%5B33.87253%2C%20-118.20232%5D%2C%20%5B30.736749%2C%20-81.658297%5D%2C%20%5B29.92649%2C%20-90.02415%5D%2C%20%5B41.912607%2C%20-87.93976%5D%2C%20%5B34.127047%2C%20-80.50474%5D%2C%20%5B33.536555%2C%20-117.172136%5D%2C%20%5B33.856054%2C%20-118.024374%5D%2C%20%5B34.011075%2C%20-118.280745%5D%2C%20%5B35.739471%2C%20-78.568745%5D%2C%20%5B25.604071%2C%20-80.441788%5D%2C%20%5B44.962524%2C%20-92.768415%5D%2C%20%5B38.87904%2C%20-77.25407%5D%2C%20%5B28.504851%2C%20-81.285427%5D%2C%20%5B43.091694%2C%20-75.93133%5D%2C%20%5B38.44312%2C%20-122.72223%5D%2C%20%5B39.245615%2C%20-123.126331%5D%2C%20%5B33.72762%2C%20-118.082212%5D%2C%20%5B38.92067%2C%20-77.02517%5D%2C%20%5B38.604187%2C%20-121.401548%5D%2C%20%5B38.376971%2C%20-121.95366%5D%2C%20%5B38.58558%2C%20-121.45046%5D%2C%20%5B36.0252%2C%20-95.86947%5D%2C%20%5B40.21446%2C%20-76.06535%5D%2C%20%5B33.68375%2C%20-112.11407%5D%2C%20%5B34.762424%2C%20-118.14682%5D%2C%20%5B35.115171%2C%20-118.186171%5D%2C%20%5B42.72383%2C%20-71.4393%5D%2C%20%5B42.164604%2C%20-123.646617%5D%2C%20%5B43.11497%2C%20-83.76326%5D%2C%20%5B38.501274%2C%20-122.998719%5D%2C%20%5B37.602202%2C%20-121.001339%5D%2C%20%5B43.60841%2C%20-96.35299%5D%2C%20%5B33.940125%2C%20-117.291229%5D%2C%20%5B34.063556%2C%20-118.000071%5D%2C%20%5B38.027948%2C%20-121.951649%5D%2C%20%5B39.21762%2C%20-84.44953%5D%2C%20%5B33.77816%2C%20-117.86967%5D%2C%20%5B33.929075%2C%20-118.233586%5D%2C%20%5B40.00651%2C%20-76.61289%5D%2C%20%5B44.998143%2C%20-123.000086%5D%2C%20%5B29.748099%2C%20-95.363052%5D%2C%20%5B40.699692%2C%20-111.911731%5D%2C%20%5B40.844796%2C%20-73.905512%5D%2C%20%5B46.673301%2C%20-92.29214%5D%2C%20%5B35.28867%2C%20-80.7298%5D%2C%20%5B37.3427%2C%20-121.901165%5D%2C%20%5B38.660599%2C%20-121.329678%5D%2C%20%5B40.959724%2C%20-73.740631%5D%2C%20%5B38.316185%2C%20-120.942576%5D%2C%20%5B30.360309%2C%20-97.692525%5D%2C%20%5B34.116938%2C%20-117.302347%5D%2C%20%5B33.788303%2C%20-78.999108%5D%2C%20%5B37.061423%2C%20-76.420673%5D%2C%20%5B44.12367%2C%20-121.28537%5D%2C%20%5B35.34879%2C%20-97.54762%5D%2C%20%5B34.081431%2C%20-117.689621%5D%2C%20%5B39.326984%2C%20-120.39026%5D%2C%20%5B45.49112%2C%20-122.67805%5D%2C%20%5B42.15196%2C%20-87.95691%5D%2C%20%5B44.933599%2C%20-93.274773%5D%2C%20%5B33.997931%2C%20-117.860618%5D%2C%20%5B33.288848%2C%20-117.225431%5D%2C%20%5B45.80585%2C%20-119.242623%5D%2C%20%5B37.35343%2C%20-77.45076%5D%2C%20%5B42.224203%2C%20-83.653217%5D%2C%20%5B28.47874%2C%20-81.44897%5D%2C%20%5B28.419187%2C%20-81.404635%5D%2C%20%5B33.71924%2C%20-84.81004%5D%2C%20%5B33.73382%2C%20-117.833969%5D%2C%20%5B40.729665%2C%20-113.409825%5D%2C%20%5B34.088093%2C%20-117.302032%5D%2C%20%5B30.195161%2C%20-82.5033%5D%2C%20%5B33.711067%2C%20-84.212711%5D%2C%20%5B32.271963%2C%20-110.979525%5D%2C%20%5B34.682228%2C%20-118.16577%5D%2C%20%5B33.930913%2C%20-118.17868%5D%2C%20%5B33.875902%2C%20-118.164664%5D%2C%20%5B33.45792%2C%20-112.3346%5D%2C%20%5B37.658107%2C%20-122.096868%5D%2C%20%5B42.29824%2C%20-83.97071%5D%2C%20%5B28.529233%2C%20-81.38594%5D%2C%20%5B32.49153%2C%20-84.9431%5D%2C%20%5B37.40404%2C%20-77.46095%5D%2C%20%5B33.845969%2C%20-118.094815%5D%2C%20%5B34.029525%2C%20-118.444054%5D%2C%20%5B34.081982%2C%20-117.710276%5D%2C%20%5B41.750761%2C%20-72.657984%5D%2C%20%5B33.931008%2C%20-118.278496%5D%2C%20%5B36.939164%2C%20-77.734519%5D%2C%20%5B41.24807%2C%20-112.01685%5D%2C%20%5B25.932208%2C%20-80.203853%5D%2C%20%5B38.763211%2C%20-121.258093%5D%2C%20%5B40.082019%2C%20-76.35645%5D%2C%20%5B45.31956%2C%20-93.84002%5D%2C%20%5B33.75042%2C%20-84.38172%5D%2C%20%5B40.099656%2C%20-75.293727%5D%2C%20%5B38.399888%2C%20-78.908947%5D%2C%20%5B32.77033%2C%20-117.13874%5D%2C%20%5B32.83388%2C%20-83.738368%5D%2C%20%5B29.996119%2C%20-90.125988%5D%2C%20%5B40.68701%2C%20-73.72638%5D%2C%20%5B33.408399%2C%20-111.718624%5D%2C%20%5B38.613735%2C%20-90.197292%5D%2C%20%5B37.334921%2C%20-79.859805%5D%2C%20%5B42.9607%2C%20-88.03974%5D%2C%20%5B40.5935%2C%20-111.9027%5D%2C%20%5B40.78238%2C%20-111.90889%5D%2C%20%5B35.595947%2C%20-78.650581%5D%2C%20%5B25.716156%2C%20-80.43126%5D%2C%20%5B40.164015%2C%20-75.13576%5D%2C%20%5B33.864239%2C%20-117.260524%5D%2C%20%5B30.269609%2C%20-97.696717%5D%2C%20%5B41.75358%2C%20-88.205111%5D%2C%20%5B37.361313%2C%20-118.43299%5D%2C%20%5B37.84259%2C%20-122.29759%5D%2C%20%5B35.36338%2C%20-97.51249%5D%2C%20%5B40.699851%2C%20-74.211789%5D%2C%20%5B28.609793%2C%20-81.427297%5D%2C%20%5B47.951325%2C%20-122.199059%5D%2C%20%5B41.566604%2C%20-87.63632%5D%2C%20%5B37.831716%2C%20-122.480153%5D%2C%20%5B39.032117%2C%20-84.589008%5D%2C%20%5B41.63181%2C%20-72.87362%5D%2C%20%5B39.60516%2C%20-75.74053%5D%2C%20%5B26.23049%2C%20-80.13426%5D%2C%20%5B34.149131%2C%20-118.469156%5D%2C%20%5B48.421307%2C%20-122.256556%5D%2C%20%5B33.779062%2C%20-117.881686%5D%2C%20%5B42.379037%2C%20-83.216965%5D%2C%20%5B25.68692%2C%20-80.416652%5D%2C%20%5B40.7183%2C%20-112.060052%5D%2C%20%5B40.505107%2C%20-104.99186%5D%2C%20%5B33.86933%2C%20-117.75079%5D%2C%20%5B27.961201%2C%20-81.538636%5D%2C%20%5B36.205685%2C%20-86.62245%5D%2C%20%5B34.018157%2C%20-118.282371%5D%2C%20%5B39.74013%2C%20-104.82599%5D%2C%20%5B33.996437%2C%20-117.964461%5D%2C%20%5B36.153284%2C%20-86.772182%5D%2C%20%5B34.13558%2C%20-117.99506%5D%2C%20%5B33.180816%2C%20-117.344376%5D%2C%20%5B36.134898%2C%20-94.182024%5D%2C%20%5B40.049817%2C%20-76.299084%5D%2C%20%5B37.456933%2C%20-122.288614%5D%2C%20%5B44.98662%2C%20-93.08917%5D%2C%20%5B33.919738%2C%20-118.26524%5D%2C%20%5B48.07944%2C%20-123.17293%5D%2C%20%5B37.52265%2C%20-77.49171%5D%2C%20%5B33.559595%2C%20-117.672082%5D%2C%20%5B36.750583%2C%20-119.796502%5D%2C%20%5B35.2015%2C%20-81.34113%5D%2C%20%5B38.769968%2C%20-76.086877%5D%2C%20%5B40.422031%2C%20-120.69673%5D%2C%20%5B30.410879%2C%20-85.678032%5D%2C%20%5B32.220875%2C%20-110.812415%5D%2C%20%5B35.32138%2C%20-80.73396%5D%2C%20%5B37.823839%2C%20-122.313576%5D%2C%20%5B39.403263%2C%20-122.194985%5D%2C%20%5B33.755195%2C%20-78.964804%5D%2C%20%5B37.486957%2C%20-121.932375%5D%2C%20%5B41.84516%2C%20-87.6311%5D%2C%20%5B34.448881%2C%20-79.843221%5D%2C%20%5B42.31909%2C%20-71.18328%5D%2C%20%5B44.836973%2C%20-93.398298%5D%2C%20%5B34.054078%2C%20-118.237857%5D%2C%20%5B39.93353%2C%20-74.96386%5D%2C%20%5B32.655884%2C%20-97.061837%5D%2C%20%5B39.63469%2C%20-75.65722%5D%2C%20%5B38.882235%2C%20-77.028547%5D%2C%20%5B34.502158%2C%20-118.627422%5D%2C%20%5B40.87023%2C%20-74.41909%5D%2C%20%5B37.68896%2C%20-122.135611%5D%2C%20%5B40.159241%2C%20-75.482079%5D%2C%20%5B34.924555%2C%20-81.223515%5D%2C%20%5B44.392844%2C%20-120.962718%5D%2C%20%5B37.701387%2C%20-121.769828%5D%2C%20%5B39.554532%2C%20-76.525604%5D%2C%20%5B40.78661%2C%20-73.5278%5D%2C%20%5B39.012082%2C%20-77.063678%5D%2C%20%5B35.26443%2C%20-80.84297%5D%2C%20%5B34.959831%2C%20-82.015875%5D%2C%20%5B45.389421%2C%20-121.14208%5D%2C%20%5B42.32622%2C%20-83.05046%5D%2C%20%5B37.83312%2C%20-122.294587%5D%2C%20%5B40.68889%2C%20-111.95165%5D%2C%20%5B37.597841%2C%20-121.946908%5D%2C%20%5B30.44358%2C%20-97.83307%5D%2C%20%5B43.78023%2C%20-93.30893%5D%2C%20%5B38.682416%2C%20-120.854597%5D%2C%20%5B41.32052%2C%20-73.99104%5D%2C%20%5B34.060331%2C%20-81.049457%5D%2C%20%5B35.217458%2C%20-80.780686%5D%2C%20%5B29.99676%2C%20-90.14069%5D%2C%20%5B25.670025%2C%20-80.44279%5D%2C%20%5B35.82101%2C%20-78.70489%5D%2C%20%5B35.075521%2C%20-120.521014%5D%2C%20%5B41.49769%2C%20-111.96926%5D%2C%20%5B36.273085%2C%20-86.710104%5D%2C%20%5B33.26047%2C%20-96.60547%5D%2C%20%5B35.376234%2C%20-118.914164%5D%2C%20%5B35.017695%2C%20-85.188987%5D%2C%20%5B41.370361%2C%20-82.269189%5D%2C%20%5B31.98982%2C%20-81.07661%5D%2C%20%5B38.004637%2C%20-121.257466%5D%2C%20%5B34.027858%2C%20-117.124407%5D%2C%20%5B28.008351%2C%20-82.453294%5D%2C%20%5B45.29004%2C%20-122.76949%5D%2C%20%5B34.15573%2C%20-118.43456%5D%2C%20%5B28.56983%2C%20-81.286198%5D%2C%20%5B39.77989%2C%20-104.98547%5D%2C%20%5B25.891627%2C%20-80.163146%5D%2C%20%5B39.88505%2C%20-105.0251%5D%2C%20%5B31.706781%2C%20-106.283798%5D%2C%20%5B42.64157%2C%20-124.40561%5D%2C%20%5B34.023913%2C%20-118.191127%5D%2C%20%5B33.73382%2C%20-117.833969%5D%2C%20%5B41.77412%2C%20-72.66821%5D%2C%20%5B38.805289%2C%20-77.213129%5D%2C%20%5B33.87278%2C%20-118.27544%5D%2C%20%5B39.077247%2C%20-121.544553%5D%2C%20%5B42.46566%2C%20-123.01065%5D%2C%20%5B34.067695%2C%20-117.592111%5D%2C%20%5B34.27441%2C%20-118.54049%5D%2C%20%5B35.07627%2C%20-89.9508%5D%2C%20%5B40.653099%2C%20-111.957839%5D%2C%20%5B41.15649%2C%20-105.40104%5D%2C%20%5B37.69269%2C%20-122.110662%5D%2C%20%5B29.796005%2C%20-95.163091%5D%2C%20%5B44.421032%2C%20-121.866106%5D%2C%20%5B44.12436%2C%20-94.19272%5D%2C%20%5B25.598293%2C%20-80.382968%5D%2C%20%5B32.87908%2C%20-80.02465%5D%2C%20%5B43.562968%2C%20-123.280302%5D%2C%20%5B29.498093%2C%20-98.400378%5D%2C%20%5B36.433764%2C%20-120.392163%5D%2C%20%5B37.44073%2C%20-77.34282%5D%2C%20%5B33.449861%2C%20-112.375408%5D%2C%20%5B32.714613%2C%20-117.117744%5D%2C%20%5B36.1131%2C%20-79.76487%5D%2C%20%5B32.19223%2C%20-110.858038%5D%2C%20%5B40.33354%2C%20-74.09872%5D%2C%20%5B30.445498%2C%20-91.138817%5D%2C%20%5B44.35937%2C%20-121.17858%5D%2C%20%5B45.067%2C%20-93.18621%5D%2C%20%5B25.924654%2C%20-80.315769%5D%2C%20%5B41.025882%2C%20-76.083347%5D%2C%20%5B32.429958%2C%20-93.715478%5D%2C%20%5B28.53734%2C%20-81.36501%5D%2C%20%5B38.6562%2C%20-77.27855%5D%2C%20%5B33.689284%2C%20-117.833077%5D%2C%20%5B33.874617%2C%20-118.011407%5D%2C%20%5B34.309862%2C%20-117.472761%5D%2C%20%5B38.352094%2C%20-77.478944%5D%2C%20%5B39.95887%2C%20-83.34742%5D%2C%20%5B44.9366%2C%20-92.96068%5D%2C%20%5B35.176495%2C%20-80.875858%5D%2C%20%5B40.585649%2C%20-122.360743%5D%2C%20%5B39.7504%2C%20-84.20561%5D%2C%20%5B30.399856%2C%20-86.999842%5D%2C%20%5B42.706215%2C%20-73.830982%5D%2C%20%5B30.198191%2C%20-81.739306%5D%2C%20%5B33.928431%2C%20-118.252726%5D%2C%20%5B33.830793%2C%20-83.870617%5D%2C%20%5B48.15712%2C%20-122.18983%5D%2C%20%5B34.154899%2C%20-118.31088%5D%2C%20%5B43.41186%2C%20-124.22403%5D%2C%20%5B42.54863%2C%20-73.67135%5D%2C%20%5B33.874587%2C%20-118.16863%5D%2C%20%5B43.01941%2C%20-85.63615%5D%2C%20%5B33.758872%2C%20-84.379259%5D%2C%20%5B31.7048%2C%20-106.31762%5D%2C%20%5B41.78335%2C%20-87.63083%5D%2C%20%5B39.315744%2C%20-75.847817%5D%2C%20%5B37.24121%2C%20-121.76735%5D%2C%20%5B36.826376%2C%20-119.785243%5D%2C%20%5B38.013095%2C%20-122.001843%5D%2C%20%5B34.098546%2C%20-118.252252%5D%2C%20%5B34.140958%2C%20-118.709618%5D%2C%20%5B37.605622%2C%20-121.872658%5D%2C%20%5B28.565657%2C%20-81.376557%5D%2C%20%5B44.45864%2C%20-95.75593%5D%2C%20%5B40.836076%2C%20-73.870172%5D%2C%20%5B30.037297%2C%20-97.689839%5D%2C%20%5B44.65371%2C%20-83.70653%5D%2C%20%5B45.07928%2C%20-93.05273%5D%2C%20%5B40.52677%2C%20-111.887921%5D%2C%20%5B41.009366%2C%20-73.645132%5D%2C%20%5B44.125481%2C%20-122.628096%5D%2C%20%5B41.46681%2C%20-81.59693%5D%2C%20%5B34.942352%2C%20-82.25014%5D%2C%20%5B46.607227%2C%20-93.410252%5D%2C%20%5B41.229354%2C%20-112.006335%5D%2C%20%5B30.72006%2C%20-88.15297%5D%2C%20%5B39.01554%2C%20-77.12223%5D%2C%20%5B29.99157%2C%20-90.053633%5D%2C%20%5B35.910412%2C%20-78.646713%5D%2C%20%5B42.78198%2C%20-83.53477%5D%2C%20%5B40.62165%2C%20-111.90361%5D%2C%20%5B39.6695%2C%20-75.67973%5D%2C%20%5B40.08191%2C%20-75.17164%5D%2C%20%5B41.684%2C%20-87.64205%5D%2C%20%5B39.14634%2C%20-77.21506%5D%2C%20%5B40.5542%2C%20-80.1164%5D%2C%20%5B38.684905%2C%20-121.339377%5D%2C%20%5B35.527478%2C%20-90.433691%5D%2C%20%5B35.855785%2C%20-78.581272%5D%2C%20%5B34.135148%2C%20-117.332263%5D%2C%20%5B33.78373%2C%20-118.09149%5D%2C%20%5B32.73611%2C%20-97.06259%5D%2C%20%5B45.075792%2C%20-93.331788%5D%2C%20%5B37.74496%2C%20-122.40522%5D%2C%20%5B34.108933%2C%20-79.91411%5D%2C%20%5B38.660469%2C%20-121.360858%5D%2C%20%5B37.839916%2C%20-120.225516%5D%2C%20%5B41.59859%2C%20-74.0852%5D%2C%20%5B35.42817%2C%20-78.06392%5D%2C%20%5B39.843321%2C%20-104.98448%5D%2C%20%5B35.17152%2C%20-89.86788%5D%2C%20%5B46.26414%2C%20-95.53398%5D%2C%20%5B36.90409%2C%20-119.519035%5D%2C%20%5B42.5977%2C%20-86.21753%5D%2C%20%5B35.04612%2C%20-89.68912%5D%2C%20%5B37.366436%2C%20-121.901034%5D%2C%20%5B43.61779%2C%20-122.08177%5D%2C%20%5B43.10538%2C%20-123.35938%5D%2C%20%5B38.2645%2C%20-85.72533%5D%2C%20%5B39.64366%2C%20-84.30522%5D%2C%20%5B37.36612%2C%20-77.49884%5D%2C%20%5B37.049751%2C%20-122.065794%5D%2C%20%5B26.1071%2C%20-80.16878%5D%2C%20%5B33.868821%2C%20-117.730125%5D%2C%20%5B44.02882%2C%20-121.31572%5D%2C%20%5B40.55658%2C%20-75.26822%5D%2C%20%5B26.528056%2C%20-81.869772%5D%2C%20%5B34.426592%2C%20-118.420783%5D%2C%20%5B34.153767%2C%20-118.275389%5D%2C%20%5B34.071963%2C%20-117.881301%5D%2C%20%5B33.924683%2C%20-118.10397%5D%2C%20%5B33.46597%2C%20-112.1345%5D%2C%20%5B42.815632%2C%20-73.766856%5D%2C%20%5B39.209419%2C%20-121.307005%5D%2C%20%5B42.383965%2C%20-87.956985%5D%2C%20%5B28.53928%2C%20-81.254126%5D%2C%20%5B41.76827%2C%20-72.683347%5D%2C%20%5B33.764945%2C%20-117.865544%5D%2C%20%5B36.626274%2C%20-121.839169%5D%2C%20%5B35.29356%2C%20-80.74017%5D%2C%20%5B38.175538%2C%20-79.001497%5D%2C%20%5B33.524017%2C%20-112.112377%5D%2C%20%5B40.348487%2C%20-111.591665%5D%2C%20%5B34.028844%2C%20-81.102521%5D%2C%20%5B41.72711%2C%20-87.62476%5D%2C%20%5B33.40159%2C%20-111.8913%5D%2C%20%5B38.784158%2C%20-77.178567%5D%2C%20%5B39.48724%2C%20-86.01516%5D%2C%20%5B43.019807%2C%20-124.41517%5D%2C%20%5B38.00074%2C%20-88.9326%5D%2C%20%5B37.55503%2C%20-77.40749%5D%2C%20%5B26.602366%2C%20-80.173463%5D%2C%20%5B47.75843%2C%20-122.18429%5D%2C%20%5B38.092339%2C%20-122.826388%5D%2C%20%5B28.487584%2C%20-81.428479%5D%2C%20%5B39.183633%2C%20-94.521306%5D%2C%20%5B33.918474%2C%20-84.357737%5D%2C%20%5B28.64766%2C%20-81.26822%5D%2C%20%5B33.7162%2C%20-84.398391%5D%2C%20%5B34.121442%2C%20-118.229849%5D%2C%20%5B47.29005%2C%20-122.30157%5D%2C%20%5B40.875663%2C%20-111.89699%5D%2C%20%5B41.756125%2C%20-71.876654%5D%2C%20%5B25.460632%2C%20-80.475282%5D%2C%20%5B42.39532%2C%20-82.98926%5D%2C%20%5B36.606572%2C%20-119.662673%5D%2C%20%5B35.30287%2C%20-80.84953%5D%2C%20%5B48.283871%2C%20-114.164546%5D%2C%20%5B29.828064%2C%20-95.402178%5D%2C%20%5B28.687624%2C%20-81.38861%5D%2C%20%5B41.289542%2C%20-72.813904%5D%2C%20%5B29.857124%2C%20-95.412229%5D%2C%20%5B47.34393%2C%20-114.71148%5D%2C%20%5B28.03701%2C%20-82.06232%5D%2C%20%5B38.30105%2C%20-121.31721%5D%2C%20%5B47.239393%2C%20-122.408129%5D%2C%20%5B41.569446%2C%20-72.651469%5D%2C%20%5B38.026752%2C%20-121.941273%5D%2C%20%5B39.885439%2C%20-104.98767%5D%2C%20%5B42.854393%2C%20-78.79108%5D%2C%20%5B34.135687%2C%20-117.376334%5D%2C%20%5B33.876954%2C%20-118.182324%5D%2C%20%5B34.07168%2C%20-118.1068%5D%2C%20%5B34.01258%2C%20-118.49067%5D%2C%20%5B34.752996%2C%20-117.166407%5D%2C%20%5B45.311612%2C%20-121.661779%5D%2C%20%5B43.09588%2C%20-77.58188%5D%2C%20%5B39.983704%2C%20-76.734061%5D%2C%20%5B37.35086%2C%20-108.45345%5D%2C%20%5B29.513493%2C%20-98.532246%5D%2C%20%5B25.910063%2C%20-80.210076%5D%2C%20%5B37.59287%2C%20-121.88222%5D%2C%20%5B34.027457%2C%20-118.274494%5D%2C%20%5B34.75578%2C%20-86.59416%5D%2C%20%5B42.899459%2C%20-83.769568%5D%2C%20%5B32.777355%2C%20-117.1624%5D%2C%20%5B40.393952%2C%20-77.01362%5D%2C%20%5B40.849493%2C%20-73.942082%5D%2C%20%5B40.81111%2C%20-73.93135%5D%2C%20%5B45.06179%2C%20-93.15831%5D%2C%20%5B30.761856%2C%20-87.341721%5D%2C%20%5B34.257274%2C%20-118.472353%5D%2C%20%5B37.712473%2C%20-121.715963%5D%2C%20%5B37.44349%2C%20-77.5813%5D%2C%20%5B37.353666%2C%20-120.503545%5D%2C%20%5B39.46648%2C%20-111.99824%5D%2C%20%5B40.73736%2C%20-73.99683%5D%2C%20%5B36.232727%2C%20-86.784256%5D%2C%20%5B45.825305%2C%20-122.845009%5D%2C%20%5B33.47127%2C%20-112.11212%5D%2C%20%5B36.987858%2C%20-121.98522%5D%2C%20%5B40.70576%2C%20-73.42771%5D%2C%20%5B33.952521%2C%20-81.243133%5D%2C%20%5B37.47615%2C%20-121.93249%5D%2C%20%5B32.5097%2C%20-93.743006%5D%2C%20%5B42.11836%2C%20-88.42447%5D%2C%20%5B41.81097%2C%20-87.94487%5D%2C%20%5B40.16209%2C%20-75.1238%5D%2C%20%5B38.16596%2C%20-122.21157%5D%2C%20%5B43.095669%2C%20-75.242999%5D%2C%20%5B47.98797%2C%20-122.18291%5D%2C%20%5B40.87223%2C%20-73.45433%5D%2C%20%5B40.07669%2C%20-76.26409%5D%2C%20%5B36.06449%2C%20-79.46234%5D%2C%20%5B30.507005%2C%20-91.17104%5D%2C%20%5B44.96548%2C%20-93.26765%5D%2C%20%5B30.533555%2C%20-87.285097%5D%2C%20%5B42.866965%2C%20-73.891485%5D%2C%20%5B34.077659%2C%20-117.998176%5D%2C%20%5B33.986182%2C%20-117.346222%5D%2C%20%5B45.76906%2C%20-119.2407%5D%2C%20%5B34.06742%2C%20-117.5766%5D%2C%20%5B26.346834%2C%20-80.11828%5D%2C%20%5B40.17391%2C%20-104.81638%5D%2C%20%5B37.987213%2C%20-121.250655%5D%2C%20%5B37.552485%2C%20-77.427263%5D%2C%20%5B34.374689%2C%20-119.007861%5D%2C%20%5B39.83194%2C%20-105.01068%5D%2C%20%5B28.047312%2C%20-82.352496%5D%2C%20%5B42.06052%2C%20-87.75565%5D%2C%20%5B33.975029%2C%20-80.397514%5D%2C%20%5B34.084151%2C%20-117.692354%5D%2C%20%5B42.93165%2C%20-85.72108%5D%2C%20%5B42.253377%2C%20-123.15305%5D%2C%20%5B25.928453%2C%20-80.189477%5D%2C%20%5B32.88561%2C%20-96.70039%5D%2C%20%5B34.00024%2C%20-117.3528%5D%2C%20%5B39.531434%2C%20-122.329778%5D%2C%20%5B26.226734%2C%20-80.136298%5D%2C%20%5B43.164337%2C%20-73.860911%5D%2C%20%5B28.465445%2C%20-81.38247%5D%2C%20%5B33.770109%2C%20-117.981166%5D%2C%20%5B40.109437%2C%20-76.655384%5D%2C%20%5B39.498461%2C%20-122.198949%5D%2C%20%5B39.90505%2C%20-111.82473%5D%2C%20%5B33.191203%2C%20-117.122008%5D%2C%20%5B43.83061%2C%20-121.42524%5D%2C%20%5B32.962425%2C%20-117.09676%5D%2C%20%5B45.772134%2C%20-120.082849%5D%2C%20%5B33.937615%2C%20-117.123581%5D%2C%20%5B35.143303%2C%20-80.786689%5D%2C%20%5B40.07912%2C%20-76.76336%5D%2C%20%5B42.337585%2C%20-88.02408%5D%2C%20%5B35.29503%2C%20-80.74481%5D%2C%20%5B44.04814%2C%20-123.17297%5D%2C%20%5B42.292459%2C%20-122.994718%5D%2C%20%5B39.06869%2C%20-76.64033%5D%2C%20%5B33.984286%2C%20-117.842712%5D%2C%20%5B27.961769%2C%20-82.453668%5D%2C%20%5B39.984119%2C%20-75.817405%5D%2C%20%5B25.892269%2C%20-80.324259%5D%2C%20%5B41.296504%2C%20-77.066222%5D%2C%20%5B41.2753%2C%20-73.11613%5D%2C%20%5B39.169095%2C%20-121.438993%5D%2C%20%5B33.941283%2C%20-84.504387%5D%2C%20%5B34.342119%2C%20-118.505532%5D%2C%20%5B44.96613%2C%20-93.27862%5D%2C%20%5B45.60043%2C%20-122.6352%5D%2C%20%5B38.617917%2C%20-121.399559%5D%2C%20%5B37.950387%2C%20-119.113076%5D%2C%20%5B34.06572%2C%20-117.50039%5D%2C%20%5B25.963024%2C%20-80.155081%5D%2C%20%5B37.54282%2C%20-121.270948%5D%2C%20%5B38.65975%2C%20-80.7373%5D%2C%20%5B45.06898%2C%20-93.24747%5D%2C%20%5B29.96553%2C%20-90.083407%5D%2C%20%5B43.935558%2C%20-91.965653%5D%2C%20%5B44.98809%2C%20-123.33757%5D%2C%20%5B32.668136%2C%20-96.864405%5D%2C%20%5B40.411888%2C%20-111.866194%5D%2C%20%5B43.1931%2C%20-77.62185%5D%2C%20%5B45.52292%2C%20-122.68592%5D%2C%20%5B25.705939%2C%20-80.293491%5D%2C%20%5B25.560625%2C%20-80.368135%5D%2C%20%5B42.962755%2C%20-85.642013%5D%2C%20%5B30.199538%2C%20-97.633126%5D%2C%20%5B32.87835%2C%20-96.68734%5D%2C%20%5B33.884413%2C%20-117.630588%5D%2C%20%5B32.30528%2C%20-111.012005%5D%2C%20%5B34.763223%2C%20-82.472369%5D%2C%20%5B37.635501%2C%20-77.574709%5D%2C%20%5B33.502127%2C%20-111.930549%5D%2C%20%5B39.32473%2C%20-77.01145%5D%2C%20%5B44.77543%2C%20-94.1796%5D%2C%20%5B34.261121%2C%20-117.449936%5D%2C%20%5B40.6665%2C%20-73.80847%5D%2C%20%5B35.58021%2C%20-97.56719%5D%2C%20%5B28.451938%2C%20-81.400468%5D%2C%20%5B25.883829%2C%20-80.208559%5D%2C%20%5B40.03805%2C%20-76.32151%5D%2C%20%5B34.061369%2C%20-117.575887%5D%2C%20%5B34.608249%2C%20-80.602016%5D%2C%20%5B29.792924%2C%20-95.529621%5D%2C%20%5B34.271796%2C%20-118.349071%5D%2C%20%5B40.4842%2C%20-79.90786%5D%2C%20%5B34.428056%2C%20-119.735556%5D%2C%20%5B40.83602%2C%20-73.87392%5D%2C%20%5B40.700648%2C%20-73.989882%5D%2C%20%5B25.733231%2C%20-80.351741%5D%2C%20%5B29.098141%2C%20-95.690542%5D%2C%20%5B32.17549%2C%20-110.9108%5D%2C%20%5B42.38429%2C%20-87.85542%5D%2C%20%5B35.86488%2C%20-78.63748%5D%2C%20%5B40.815893%2C%20-73.931003%5D%2C%20%5B34.785778%2C%20-82.426452%5D%2C%20%5B45.044549%2C%20-93.45265%5D%2C%20%5B42.38359%2C%20-123.470204%5D%2C%20%5B44.97079%2C%20-93.25216%5D%2C%20%5B32.17786%2C%20-110.94707%5D%2C%20%5B41.16633%2C%20-73.20849%5D%2C%20%5B37.712259%2C%20-122.402565%5D%2C%20%5B25.760888%2C%20-80.392834%5D%2C%20%5B40.79263%2C%20-112.8362%5D%2C%20%5B25.883393%2C%20-80.361758%5D%2C%20%5B39.725324%2C%20-105.023115%5D%2C%20%5B34.012169%2C%20-118.135451%5D%2C%20%5B25.890445%2C%20-80.182433%5D%2C%20%5B45.12774%2C%20-93.48593%5D%2C%20%5B33.891715%2C%20-117.646811%5D%2C%20%5B43.19462%2C%20-77.6288%5D%2C%20%5B33.43683%2C%20-112.0825%5D%2C%20%5B43.102036%2C%20-75.353904%5D%2C%20%5B44.96577%2C%20-93.27935%5D%2C%20%5B36.296886%2C%20-119.117541%5D%2C%20%5B32.90359%2C%20-97.31709%5D%2C%20%5B29.554802%2C%20-98.349115%5D%2C%20%5B33.934144%2C%20-117.555853%5D%2C%20%5B45.84601%2C%20-119.31093%5D%2C%20%5B45.1105%2C%20-122.88075%5D%2C%20%5B36.187412%2C%20-86.773108%5D%2C%20%5B35.699032%2C%20-78.579143%5D%2C%20%5B42.204294%2C%20-84.557868%5D%2C%20%5B25.943451%2C%20-80.307088%5D%2C%20%5B38.721457%2C%20-121.368928%5D%2C%20%5B33.883948%2C%20-117.525285%5D%2C%20%5B40.664616%2C%20-73.845237%5D%2C%20%5B41.70315%2C%20-71.81115%5D%2C%20%5B31.75608%2C%20-106.2741%5D%2C%20%5B25.845667%2C%20-80.250772%5D%2C%20%5B34.27257%2C%20-118.49048%5D%2C%20%5B42.32345%2C%20-83.74178%5D%2C%20%5B40.821854%2C%20-111.949491%5D%2C%20%5B38.038047%2C%20-122.745684%5D%2C%20%5B40.616842%2C%20-74.025838%5D%2C%20%5B28.571445%2C%20-81.371504%5D%2C%20%5B38.295378%2C%20-122.03418%5D%2C%20%5B29.725044%2C%20-95.332134%5D%2C%20%5B40.103734%2C%20-76.253603%5D%2C%20%5B35.147538%2C%20-80.827579%5D%2C%20%5B27.88286%2C%20-82.654963%5D%2C%20%5B34.17208%2C%20-118.53213%5D%2C%20%5B36.964852%2C%20-76.413391%5D%2C%20%5B25.826194%2C%20-80.37394%5D%2C%20%5B45.69138%2C%20-121.76661%5D%2C%20%5B43.03066%2C%20-76.14772%5D%2C%20%5B36.086429%2C%20-86.698726%5D%2C%20%5B40.0377%2C%20-76.27175%5D%2C%20%5B37.47697%2C%20-121.93317%5D%2C%20%5B40.656567%2C%20-75.378018%5D%2C%20%5B40.12314%2C%20-74.70103%5D%2C%20%5B34.155752%2C%20-118.434841%5D%2C%20%5B43.31773%2C%20-88.37894%5D%2C%20%5B33.59516%2C%20-117.67355%5D%2C%20%5B33.893998%2C%20-84.255481%5D%2C%20%5B26.440216%2C%20-80.174158%5D%2C%20%5B45.815153%2C%20-94.280285%5D%2C%20%5B37.333611%2C%20-121.861477%5D%2C%20%5B34.04844%2C%20-117.946751%5D%2C%20%5B37.956357%2C%20-121.263959%5D%2C%20%5B36.520975%2C%20-119.565365%5D%2C%20%5B33.928989%2C%20-81.037312%5D%2C%20%5B34.13816%2C%20-80.94654%5D%2C%20%5B43.17081%2C%20-117.03629%5D%2C%20%5B40.04045%2C%20-76.297411%5D%2C%20%5B45.10456%2C%20-93.4601%5D%2C%20%5B37.824861%2C%20-122.313611%5D%2C%20%5B26.71786%2C%20-80.09041%5D%2C%20%5B37.119466%2C%20-76.451121%5D%2C%20%5B36.920764%2C%20-121.812002%5D%2C%20%5B45.87183%2C%20-123.6006%5D%2C%20%5B26.330455%2C%20-81.815091%5D%2C%20%5B33.434025%2C%20-117.141885%5D%2C%20%5B40.332366%2C%20-78.368793%5D%2C%20%5B42.80547%2C%20-86.03841%5D%2C%20%5B40.182709%2C%20-75.131502%5D%2C%20%5B39.47887%2C%20-77.24361%5D%2C%20%5B38.965362%2C%20-77.180746%5D%2C%20%5B39.75845%2C%20-105.0214%5D%2C%20%5B45.331447%2C%20-123.837261%5D%2C%20%5B38.79866%2C%20-77.58907%5D%2C%20%5B44.95078%2C%20-93.09979%5D%2C%20%5B39.19579%2C%20-77.267%5D%2C%20%5B27.828377%2C%20-82.679686%5D%2C%20%5B36.10941%2C%20-79.79099%5D%2C%20%5B34.148687%2C%20-118.045863%5D%2C%20%5B35.622814%2C%20-82.227419%5D%2C%20%5B26.087218%2C%20-80.362898%5D%2C%20%5B34.689675%2C%20-118.091539%5D%2C%20%5B42.34455%2C%20-71.26302%5D%2C%20%5B40.191918%2C%20-111.647289%5D%2C%20%5B44.032719%2C%20-117.002716%5D%2C%20%5B41.56469%2C%20-72.50873%5D%2C%20%5B36.01685%2C%20-86.61988%5D%2C%20%5B47.66217%2C%20-122.3554%5D%2C%20%5B33.971724%2C%20-80.95141%5D%2C%20%5B37.65801%2C%20-121.90299%5D%2C%20%5B40.7974%2C%20-73.92931%5D%2C%20%5B45.783107%2C%20-118.103635%5D%2C%20%5B36.749589%2C%20-119.997097%5D%2C%20%5B36.274205%2C%20-86.796745%5D%2C%20%5B32.470984%2C%20-93.797272%5D%2C%20%5B28.428348%2C%20-81.406535%5D%2C%20%5B35.016106%2C%20-82.412205%5D%2C%20%5B38.566863%2C%20-121.382778%5D%2C%20%5B42.914603%2C%20-85.764802%5D%2C%20%5B32.8345%2C%20-96.60975%5D%2C%20%5B37.62737%2C%20-122.08125%5D%2C%20%5B40.814103%2C%20-73.933861%5D%2C%20%5B25.685198%2C%20-80.418289%5D%2C%20%5B47.124662%2C%20-93.255932%5D%2C%20%5B26.16219%2C%20-80.16231%5D%2C%20%5B37.385553%2C%20-77.480249%5D%2C%20%5B37.863935%2C%20-122.302816%5D%2C%20%5B37.38093%2C%20-77.4533%5D%2C%20%5B38.349039%2C%20-122.303351%5D%2C%20%5B40.093919%2C%20-75.365219%5D%2C%20%5B34.015034%2C%20-117.086778%5D%2C%20%5B33.967742%2C%20-118.163242%5D%2C%20%5B29.849562%2C%20-95.513153%5D%2C%20%5B37.735317%2C%20-122.191851%5D%2C%20%5B42.897389%2C%20-71.074416%5D%2C%20%5B44.44139%2C%20-69.72611%5D%2C%20%5B33.967222%2C%20-118.083234%5D%2C%20%5B42.47015%2C%20-83.43125%5D%2C%20%5B38.22138%2C%20-77.508321%5D%2C%20%5B34.13481%2C%20-117.66314%5D%2C%20%5B37.48751%2C%20-120.839385%5D%2C%20%5B37.29049%2C%20-121.871134%5D%2C%20%5B40.967492%2C%20-76.876197%5D%2C%20%5B27.447751%2C%20-82.574066%5D%2C%20%5B33.3947%2C%20-111.89131%5D%2C%20%5B33.21916%2C%20-111.7727%5D%2C%20%5B44.91239%2C%20-93.35064%5D%2C%20%5B35.14228%2C%20-80.78573%5D%2C%20%5B42.322415%2C%20-83.741537%5D%2C%20%5B42.20856%2C%20-73.635467%5D%2C%20%5B38.937481%2C%20-77.207707%5D%2C%20%5B28.472491%2C%20-81.409154%5D%2C%20%5B34.095565%2C%20-117.819303%5D%2C%20%5B37.690755%2C%20-122.092362%5D%2C%20%5B47.64293%2C%20-117.54997%5D%2C%20%5B36.764644%2C%20-119.853306%5D%2C%20%5B37.701658%2C%20-121.769699%5D%2C%20%5B37.425508%2C%20-79.932946%5D%2C%20%5B36.956173%2C%20-113.791698%5D%2C%20%5B32.778949%2C%20-117.061686%5D%2C%20%5B41.74693%2C%20-87.62529%5D%2C%20%5B35.751048%2C%20-78.669335%5D%2C%20%5B47.37802%2C%20-122.2474%5D%2C%20%5B38.24572%2C%20-122.62552%5D%2C%20%5B42.787533%2C%20-78.816428%5D%2C%20%5B40.12991%2C%20-75.11215%5D%2C%20%5B29.769012%2C%20-95.606176%5D%2C%20%5B44.858711%2C%20-93.350197%5D%2C%20%5B37.663981%2C%20-121.028285%5D%2C%20%5B25.69876%2C%20-80.34131%5D%2C%20%5B44.088102%2C%20-92.899478%5D%2C%20%5B43.15186%2C%20-77.61438%5D%2C%20%5B34.058679%2C%20-118.253434%5D%2C%20%5B35.418895%2C%20-119.021258%5D%2C%20%5B39.757849%2C%20-105.009016%5D%2C%20%5B37.789998%2C%20-120.866039%5D%2C%20%5B37.000384%2C%20-76.317254%5D%2C%20%5B45.4974%2C%20-122.571846%5D%2C%20%5B45.0917%2C%20-93.44227%5D%2C%20%5B36.0879%2C%20-79.78906%5D%2C%20%5B34.072806%2C%20-118.466716%5D%2C%20%5B34.060331%2C%20-81.049457%5D%2C%20%5B28.565903%2C%20-81.20745%5D%2C%20%5B33.647396%2C%20-117.744301%5D%2C%20%5B38.666686%2C%20-121.3505%5D%2C%20%5B25.954287%2C%20-80.275487%5D%2C%20%5B33.77533%2C%20-117.848743%5D%2C%20%5B42.18561%2C%20-71.07672%5D%2C%20%5B33.80532%2C%20-79.00994%5D%2C%20%5B44.97626%2C%20-93.24667%5D%2C%20%5B33.94105%2C%20-118.0968%5D%2C%20%5B33.661412%2C%20-112.113837%5D%2C%20%5B30.344601%2C%20-81.668307%5D%2C%20%5B45.513764%2C%20-92.96008%5D%2C%20%5B33.705453%2C%20-117.954392%5D%2C%20%5B38.5138%2C%20-122.77859%5D%2C%20%5B41.88434%2C%20-83.38858%5D%2C%20%5B39.90568%2C%20-84.341043%5D%2C%20%5B41.47414%2C%20-81.69893%5D%2C%20%5B45.66381%2C%20-121.89316%5D%2C%20%5B29.936741%2C%20-90.082858%5D%2C%20%5B38.525792%2C%20-121.763114%5D%2C%20%5B35.372484%2C%20-118.973143%5D%2C%20%5B25.714063%2C%20-80.429422%5D%2C%20%5B33.953472%2C%20-118.089884%5D%2C%20%5B33.31528%2C%20-112.0069%5D%2C%20%5B39.70357%2C%20-86.08241%5D%2C%20%5B40.62132%2C%20-89.4543%5D%2C%20%5B34.08576%2C%20-84.51934%5D%2C%20%5B25.87182%2C%20-80.24256%5D%2C%20%5B38.686513%2C%20-121.382967%5D%2C%20%5B33.899055%2C%20-118.186959%5D%2C%20%5B40.347303%2C%20-121.597373%5D%2C%20%5B32.762017%2C%20-96.856742%5D%2C%20%5B41.93962%2C%20-87.70819%5D%2C%20%5B40.7508%2C%20-73.89741%5D%2C%20%5B34.072822%2C%20-117.545016%5D%2C%20%5B42.22098%2C%20-83.41918%5D%2C%20%5B35.717636%2C%20-119.366015%5D%2C%20%5B38.610391%2C%20-121.38285%5D%2C%20%5B41.36955%2C%20-83.617%5D%2C%20%5B40.6238%2C%20-74.21623%5D%2C%20%5B41.6171%2C%20-72.69576%5D%2C%20%5B33.011905%2C%20-80.237779%5D%2C%20%5B39.76355%2C%20-84.253383%5D%2C%20%5B39.213376%2C%20-76.695433%5D%2C%20%5B39.24436%2C%20-94.48775%5D%2C%20%5B33.24757%2C%20-87.14149%5D%2C%20%5B41.94283%2C%20-71.47319%5D%2C%20%5B38.49585%2C%20-121.44559%5D%2C%20%5B33.758687%2C%20-117.802008%5D%2C%20%5B37.34576%2C%20-120.61257%5D%2C%20%5B40.70287%2C%20-112.0249%5D%2C%20%5B28.450455%2C%20-81.427192%5D%2C%20%5B41.31307%2C%20-72.36363%5D%2C%20%5B26.010788%2C%20-80.166969%5D%2C%20%5B26.529735%2C%20-81.871348%5D%2C%20%5B40.062341%2C%20-74.974362%5D%2C%20%5B38.53844%2C%20-121.512919%5D%2C%20%5B42.478779%2C%20-87.82377%5D%2C%20%5B42.16537%2C%20-88.15566%5D%2C%20%5B35.000778%2C%20-85.211323%5D%2C%20%5B47.55343%2C%20-122.33423%5D%2C%20%5B41.81031%2C%20-87.96375%5D%2C%20%5B43.80496%2C%20-93.2926%5D%2C%20%5B33.792668%2C%20-117.87919%5D%2C%20%5B39.236433%2C%20-84.366764%5D%2C%20%5B33.619476%2C%20-84.432055%5D%2C%20%5B25.840731%2C%20-80.333631%5D%2C%20%5B40.85306%2C%20-73.96011%5D%2C%20%5B39.919948%2C%20-86.106816%5D%2C%20%5B41.280833%2C%20-122.295%5D%2C%20%5B41.39012%2C%20-88.19296%5D%2C%20%5B25.782307%2C%20-80.23074%5D%2C%20%5B45.55466%2C%20-93.10523%5D%2C%20%5B33.364322%2C%20-117.542418%5D%2C%20%5B40.763%2C%20-82.74583%5D%2C%20%5B39.013398%2C%20-77.04473%5D%2C%20%5B29.738431%2C%20-81.963218%5D%2C%20%5B45.416311%2C%20-122.743924%5D%2C%20%5B34.040194%2C%20-118.017156%5D%2C%20%5B34.768992%2C%20-120.427483%5D%2C%20%5B38.249214%2C%20-122.041663%5D%2C%20%5B40.17606%2C%20-75.12308%5D%2C%20%5B34.035921%2C%20-118.092917%5D%2C%20%5B33.840111%2C%20-117.249923%5D%2C%20%5B26.51109%2C%20-80.172655%5D%2C%20%5B33.974652%2C%20-118.280597%5D%2C%20%5B45.40077%2C%20-93.8898%5D%2C%20%5B37.709158%2C%20-120.245138%5D%2C%20%5B39.18172%2C%20-94.589613%5D%2C%20%5B42.97337%2C%20-85.64375%5D%2C%20%5B37.150096%2C%20-80.333137%5D%2C%20%5B34.07029%2C%20-117.435747%5D%2C%20%5B34.136621%2C%20-117.536691%5D%2C%20%5B28.580034%2C%20-81.476099%5D%2C%20%5B34.119658%2C%20-117.807205%5D%2C%20%5B45.61231%2C%20-94.9532%5D%2C%20%5B41.88094%2C%20-71.37705%5D%2C%20%5B40.29846%2C%20-75.28413%5D%2C%20%5B32.812773%2C%20-96.806749%5D%2C%20%5B33.912021%2C%20-117.447022%5D%2C%20%5B37.83836%2C%20-122.22211%5D%2C%20%5B32.841814%2C%20-96.59097%5D%2C%20%5B30.51517%2C%20-91.02574%5D%2C%20%5B39.13629%2C%20-84.60471%5D%2C%20%5B40.442208%2C%20-79.824331%5D%2C%20%5B38.242539%2C%20-85.814155%5D%2C%20%5B29.661574%2C%20-95.316964%5D%2C%20%5B34.189794%2C%20-118.939195%5D%2C%20%5B35.18905%2C%20-111.62568%5D%2C%20%5B33.28223%2C%20-111.80685%5D%2C%20%5B33.4589%2C%20-117.65587%5D%2C%20%5B34.179397%2C%20-118.311692%5D%2C%20%5B45.710821%2C%20-121.543522%5D%2C%20%5B33.709734%2C%20-117.78173%5D%2C%20%5B44.23304%2C%20-121.20227%5D%2C%20%5B37.62259%2C%20-97.33413%5D%2C%20%5B40.862232%2C%20-77.663351%5D%2C%20%5B34.05516%2C%20-118.2154%5D%2C%20%5B44.425761%2C%20-121.737778%5D%2C%20%5B28.330603%2C%20-82.653821%5D%2C%20%5B36.702623%2C%20-76.695578%5D%2C%20%5B41.42474%2C%20-73.35569%5D%2C%20%5B39.90819%2C%20-88.95455%5D%2C%20%5B34.087962%2C%20-117.641458%5D%2C%20%5B28.57789%2C%20-81.456211%5D%2C%20%5B28.451188%2C%20-81.339436%5D%2C%20%5B28.449924%2C%20-81.479136%5D%2C%20%5B40.734157%2C%20-74.126186%5D%2C%20%5B27.99614%2C%20-82.37304%5D%2C%20%5B37.250686%2C%20-121.91391%5D%2C%20%5B40.0854%2C%20-75.39815%5D%2C%20%5B41.79542%2C%20-88.33318%5D%2C%20%5B37.211605%2C%20-122.156671%5D%2C%20%5B33.45132%2C%20-112.12602%5D%2C%20%5B37.7046%2C%20-121.7346%5D%2C%20%5B29.942203%2C%20-90.122994%5D%2C%20%5B36.670408%2C%20-119.725943%5D%2C%20%5B28.694239%2C%20-96.825372%5D%2C%20%5B38.880214%2C%20-77.238095%5D%2C%20%5B42.02361%2C%20-71.26073%5D%2C%20%5B38.34408%2C%20-85.7941%5D%2C%20%5B45.0952%2C%20-122.90313%5D%2C%20%5B32.65963%2C%20-97.32119%5D%2C%20%5B34.069775%2C%20-118.236153%5D%2C%20%5B39.999654%2C%20-76.26455%5D%2C%20%5B34.081381%2C%20-117.719203%5D%2C%20%5B45.53161%2C%20-122.56866%5D%2C%20%5B36.762316%2C%20-121.753422%5D%2C%20%5B34.138551%2C%20-117.241486%5D%2C%20%5B39.135751%2C%20-94.819065%5D%2C%20%5B40.666891%2C%20-121.357995%5D%2C%20%5B37.822695%2C%20-122.260875%5D%2C%20%5B34.15575%2C%20-118.436258%5D%2C%20%5B33.911043%2C%20-118.167614%5D%2C%20%5B42.196756%2C%20-86.053208%5D%2C%20%5B38.910202%2C%20-77.470418%5D%2C%20%5B32.28528%2C%20-110.93289%5D%2C%20%5B37.50154%2C%20-77.47302%5D%2C%20%5B35.97975%2C%20-83.93722%5D%2C%20%5B41.01512%2C%20-111.94018%5D%2C%20%5B32.792505%2C%20-96.68388%5D%2C%20%5B44.86699%2C%20-93.63714%5D%2C%20%5B30.457735%2C%20-91.064563%5D%2C%20%5B44.954325%2C%20-93.187364%5D%2C%20%5B48.102341%2C%20-117.640489%5D%2C%20%5B42.725189%2C%20-82.744932%5D%2C%20%5B40.718346%2C%20-111.883832%5D%2C%20%5B40.26225%2C%20-111.70759%5D%2C%20%5B41.144229%2C%20-111.918609%5D%2C%20%5B44.63019%2C%20-123.011907%5D%2C%20%5B33.948714%2C%20-117.300692%5D%2C%20%5B44.078742%2C%20-116.97975%5D%2C%20%5B40.756952%2C%20-77.162355%5D%2C%20%5B38.67705%2C%20-90.44958%5D%2C%20%5B39.56397%2C%20-104.905226%5D%2C%20%5B40.072995%2C%20-75.322575%5D%2C%20%5B36.228094%2C%20-86.82629%5D%2C%20%5B36.845417%2C%20-76.252754%5D%2C%20%5B40.292402%2C%20-80.169327%5D%2C%20%5B34.12071%2C%20-117.74037%5D%2C%20%5B45.55981%2C%20-122.17327%5D%2C%20%5B35.801304%2C%20-78.622293%5D%2C%20%5B45.552481%2C%20-122.185381%5D%2C%20%5B34.498419%2C%20-117.748178%5D%2C%20%5B30.213079%2C%20-81.760308%5D%2C%20%5B42.53893%2C%20-87.95214%5D%2C%20%5B28.66132%2C%20-80.86765%5D%2C%20%5B39.33112%2C%20-120.286115%5D%2C%20%5B34.148644%2C%20-118.05017%5D%2C%20%5B34.34429%2C%20-118.50495%5D%2C%20%5B43.990543%2C%20-123.006187%5D%2C%20%5B32.436836%2C%20-93.760956%5D%2C%20%5B39.75444%2C%20-105.237031%5D%2C%20%5B34.171117%2C%20-118.574141%5D%2C%20%5B34.03729%2C%20-118.27081%5D%2C%20%5B43.4328%2C%20-95.643208%5D%2C%20%5B39.013053%2C%20-122.358889%5D%2C%20%5B41.91795%2C%20-87.66797%5D%2C%20%5B27.968134%2C%20-82.781791%5D%2C%20%5B33.910918%2C%20-117.883722%5D%2C%20%5B34.944079%2C%20-81.99382%5D%2C%20%5B37.2916%2C%20-121.93686%5D%2C%20%5B34.785944%2C%20-86.939438%5D%2C%20%5B37.77544%2C%20-122.40593%5D%2C%20%5B26.667341%2C%20-81.881481%5D%2C%20%5B39.79078%2C%20-75.11554%5D%2C%20%5B39.639841%2C%20-84.252744%5D%2C%20%5B33.745064%2C%20-84.389759%5D%2C%20%5B36.761282%2C%20-119.831985%5D%2C%20%5B36.86412%2C%20-121.722534%5D%2C%20%5B34.065745%2C%20-117.498168%5D%2C%20%5B43.19596%2C%20-77.57675%5D%2C%20%5B34.82961%2C%20-82.2943%5D%2C%20%5B38.318496%2C%20-122.714438%5D%2C%20%5B30.31651%2C%20-91.82549%5D%2C%20%5B38.454981%2C%20-121.400522%5D%2C%20%5B27.851805%2C%20-82.828102%5D%2C%20%5B29.59786%2C%20-98.2765%5D%2C%20%5B45.49937%2C%20-122.67686%5D%2C%20%5B36.141296%2C%20-86.731857%5D%2C%20%5B43.10795%2C%20-88.0579%5D%2C%20%5B34.06643%2C%20-117.32988%5D%2C%20%5B45.51676%2C%20-122.68803%5D%2C%20%5B34.07277%2C%20-118.46648%5D%2C%20%5B38.70821%2C%20-90.5018%5D%2C%20%5B37.828019%2C%20-122.294429%5D%2C%20%5B32.64536%2C%20-96.70566%5D%2C%20%5B33.715164%2C%20-117.845366%5D%2C%20%5B42.34768%2C%20-71.07836%5D%2C%20%5B38.93587%2C%20-94.50841%5D%2C%20%5B42.194419%2C%20-121.683439%5D%2C%20%5B27.83906%2C%20-82.68353%5D%2C%20%5B44.963012%2C%20-93.213691%5D%2C%20%5B39.273175%2C%20-103.716538%5D%2C%20%5B43.087044%2C%20-77.624726%5D%2C%20%5B37.58484%2C%20-77.43919%5D%2C%20%5B34.031919%2C%20-118.27448%5D%2C%20%5B40.11427%2C%20-75.05116%5D%2C%20%5B38.540436%2C%20-77.348241%5D%2C%20%5B38.484163%2C%20-121.511722%5D%2C%20%5B32.769901%2C%20-117.206747%5D%2C%20%5B37.555539%2C%20-121.915845%5D%2C%20%5B37.01105%2C%20-76.3225%5D%2C%20%5B41.49309%2C%20-94.294297%5D%2C%20%5B28.792441%2C%20-81.391112%5D%2C%20%5B42.83045%2C%20-74.01113%5D%2C%20%5B33.805221%2C%20-118.207494%5D%2C%20%5B34.065833%2C%20-117.805424%5D%2C%20%5B25.77056%2C%20-80.319%5D%5D%2C%0A%20%20%20%20%20%20%20%20%20%20%20%20%20%20%20%20%7B%22blur%22%3A%2015%2C%20%22maxZoom%22%3A%2018%2C%20%22minOpacity%22%3A%200.5%2C%20%22radius%22%3A%2025%7D%0A%20%20%20%20%20%20%20%20%20%20%20%20%29.addTo%28map_0faae47f1e0e4583a977ca3a8aa3a66c%29%3B%0A%20%20%20%20%20%20%20%20%0A%3C/script%3E onload=\"this.contentDocument.open();this.contentDocument.write(    decodeURIComponent(this.getAttribute('data-html')));this.contentDocument.close();\" allowfullscreen webkitallowfullscreen mozallowfullscreen></iframe></div></div>"
      ],
      "text/plain": [
       "<folium.folium.Map at 0x7f82e5adce80>"
      ]
     },
     "execution_count": 29,
     "metadata": {},
     "output_type": "execute_result"
    }
   ],
   "source": [
    "\n",
    "map = folium.Map(location = [37.09024 ,-95.712891], zoom_start = 4.4)\n",
    "HeatMap(lat_lon_pairs).add_to(map)\n",
    "map"
   ]
  },
  {
   "cell_type": "markdown",
   "id": "7dee938f",
   "metadata": {},
   "source": [
    "## - Change datatype of the Start Time & End Time "
   ]
  },
  {
   "cell_type": "code",
   "execution_count": 30,
   "id": "468fed67",
   "metadata": {},
   "outputs": [],
   "source": [
    "accident_df.Start_Time = pd.to_datetime(accident_df.Start_Time)\n",
    "accident_df.End_Time = pd.to_datetime(accident_df.End_Time)"
   ]
  },
  {
   "cell_type": "code",
   "execution_count": 31,
   "id": "5d8b72d6",
   "metadata": {},
   "outputs": [
    {
     "data": {
      "text/plain": [
       "ID                           object\n",
       "Severity                      int64\n",
       "Start_Time           datetime64[ns]\n",
       "End_Time             datetime64[ns]\n",
       "Start_Lat                   float64\n",
       "Start_Lng                   float64\n",
       "End_Lat                     float64\n",
       "End_Lng                     float64\n",
       "Distance(mi)                float64\n",
       "Description                  object\n",
       "Street                       object\n",
       "Side                         object\n",
       "City                         object\n",
       "County                       object\n",
       "State                        object\n",
       "Country                      object\n",
       "Temperature(F)              float64\n",
       "Wind_Chill(F)               float64\n",
       "Humidity(%)                 float64\n",
       "Pressure(in)                float64\n",
       "Visibility(mi)              float64\n",
       "Weather_Condition            object\n",
       "Sunrise_Sunset               object\n",
       "dtype: object"
      ]
     },
     "execution_count": 31,
     "metadata": {},
     "output_type": "execute_result"
    }
   ],
   "source": [
    "accident_df.dtypes"
   ]
  },
  {
   "cell_type": "code",
   "execution_count": 32,
   "id": "0899f333",
   "metadata": {},
   "outputs": [
    {
     "data": {
      "text/plain": [
       "0   2016-02-08 00:37:08\n",
       "5   2016-02-08 07:53:43\n",
       "Name: Start_Time, dtype: datetime64[ns]"
      ]
     },
     "execution_count": 32,
     "metadata": {},
     "output_type": "execute_result"
    }
   ],
   "source": [
    "accident_df.Start_Time.head(2)"
   ]
  },
  {
   "cell_type": "code",
   "execution_count": 33,
   "id": "20a2098d",
   "metadata": {},
   "outputs": [
    {
     "data": {
      "text/plain": [
       "0   2016-02-08 06:37:08\n",
       "5   2016-02-08 13:53:43\n",
       "Name: End_Time, dtype: datetime64[ns]"
      ]
     },
     "execution_count": 33,
     "metadata": {},
     "output_type": "execute_result"
    }
   ],
   "source": [
    "accident_df.End_Time.head(2)"
   ]
  },
  {
   "cell_type": "code",
   "execution_count": 34,
   "id": "3a1a1f88",
   "metadata": {},
   "outputs": [],
   "source": [
    "# Extract year, month, day, hour and weekday\n",
    "accident_df['Year']=accident_df['Start_Time'].dt.year\n",
    "accident_df['Month']=accident_df['Start_Time'].dt.strftime('%b')\n",
    "accident_df['Day']=accident_df['Start_Time'].dt.day\n",
    "accident_df['Hour']=accident_df['Start_Time'].dt.hour\n",
    "accident_df['Weekday']=accident_df['Start_Time'].dt.strftime('%a')"
   ]
  },
  {
   "cell_type": "code",
   "execution_count": 35,
   "id": "cd653c7d",
   "metadata": {},
   "outputs": [
    {
     "data": {
      "text/html": [
       "<div>\n",
       "<style scoped>\n",
       "    .dataframe tbody tr th:only-of-type {\n",
       "        vertical-align: middle;\n",
       "    }\n",
       "\n",
       "    .dataframe tbody tr th {\n",
       "        vertical-align: top;\n",
       "    }\n",
       "\n",
       "    .dataframe thead th {\n",
       "        text-align: right;\n",
       "    }\n",
       "</style>\n",
       "<table border=\"1\" class=\"dataframe\">\n",
       "  <thead>\n",
       "    <tr style=\"text-align: right;\">\n",
       "      <th></th>\n",
       "      <th>ID</th>\n",
       "      <th>Severity</th>\n",
       "      <th>Start_Time</th>\n",
       "      <th>End_Time</th>\n",
       "      <th>Start_Lat</th>\n",
       "      <th>Start_Lng</th>\n",
       "      <th>End_Lat</th>\n",
       "      <th>End_Lng</th>\n",
       "      <th>Distance(mi)</th>\n",
       "      <th>Description</th>\n",
       "      <th>...</th>\n",
       "      <th>Humidity(%)</th>\n",
       "      <th>Pressure(in)</th>\n",
       "      <th>Visibility(mi)</th>\n",
       "      <th>Weather_Condition</th>\n",
       "      <th>Sunrise_Sunset</th>\n",
       "      <th>Year</th>\n",
       "      <th>Month</th>\n",
       "      <th>Day</th>\n",
       "      <th>Hour</th>\n",
       "      <th>Weekday</th>\n",
       "    </tr>\n",
       "  </thead>\n",
       "  <tbody>\n",
       "    <tr>\n",
       "      <th>0</th>\n",
       "      <td>A-2716600</td>\n",
       "      <td>3</td>\n",
       "      <td>2016-02-08 00:37:08</td>\n",
       "      <td>2016-02-08 06:37:08</td>\n",
       "      <td>40.108910</td>\n",
       "      <td>-83.092860</td>\n",
       "      <td>40.112060</td>\n",
       "      <td>-83.031870</td>\n",
       "      <td>3.230</td>\n",
       "      <td>Between Sawmill Rd/Exit 20 and OH-315/Olentang...</td>\n",
       "      <td>...</td>\n",
       "      <td>58.0</td>\n",
       "      <td>29.76</td>\n",
       "      <td>10.0</td>\n",
       "      <td>Light Rain</td>\n",
       "      <td>Night</td>\n",
       "      <td>2016</td>\n",
       "      <td>Feb</td>\n",
       "      <td>8</td>\n",
       "      <td>0</td>\n",
       "      <td>Mon</td>\n",
       "    </tr>\n",
       "    <tr>\n",
       "      <th>5</th>\n",
       "      <td>A-2716605</td>\n",
       "      <td>3</td>\n",
       "      <td>2016-02-08 07:53:43</td>\n",
       "      <td>2016-02-08 13:53:43</td>\n",
       "      <td>39.172393</td>\n",
       "      <td>-84.492792</td>\n",
       "      <td>39.170476</td>\n",
       "      <td>-84.501798</td>\n",
       "      <td>0.500</td>\n",
       "      <td>At Mitchell Ave/Exit 6 - Accident.</td>\n",
       "      <td>...</td>\n",
       "      <td>93.0</td>\n",
       "      <td>29.69</td>\n",
       "      <td>10.0</td>\n",
       "      <td>Light Rain</td>\n",
       "      <td>Day</td>\n",
       "      <td>2016</td>\n",
       "      <td>Feb</td>\n",
       "      <td>8</td>\n",
       "      <td>7</td>\n",
       "      <td>Mon</td>\n",
       "    </tr>\n",
       "    <tr>\n",
       "      <th>6</th>\n",
       "      <td>A-2716606</td>\n",
       "      <td>2</td>\n",
       "      <td>2016-02-08 08:16:57</td>\n",
       "      <td>2016-02-08 14:16:57</td>\n",
       "      <td>39.063240</td>\n",
       "      <td>-84.032430</td>\n",
       "      <td>39.067310</td>\n",
       "      <td>-84.058510</td>\n",
       "      <td>1.427</td>\n",
       "      <td>At Dela Palma Rd - Accident.</td>\n",
       "      <td>...</td>\n",
       "      <td>100.0</td>\n",
       "      <td>29.66</td>\n",
       "      <td>10.0</td>\n",
       "      <td>Overcast</td>\n",
       "      <td>Day</td>\n",
       "      <td>2016</td>\n",
       "      <td>Feb</td>\n",
       "      <td>8</td>\n",
       "      <td>8</td>\n",
       "      <td>Mon</td>\n",
       "    </tr>\n",
       "    <tr>\n",
       "      <th>7</th>\n",
       "      <td>A-2716607</td>\n",
       "      <td>2</td>\n",
       "      <td>2016-02-08 08:16:57</td>\n",
       "      <td>2016-02-08 14:16:57</td>\n",
       "      <td>39.067080</td>\n",
       "      <td>-84.058550</td>\n",
       "      <td>39.063020</td>\n",
       "      <td>-84.032540</td>\n",
       "      <td>1.423</td>\n",
       "      <td>At Dela Palma Rd - Accident.</td>\n",
       "      <td>...</td>\n",
       "      <td>100.0</td>\n",
       "      <td>29.66</td>\n",
       "      <td>10.0</td>\n",
       "      <td>Overcast</td>\n",
       "      <td>Day</td>\n",
       "      <td>2016</td>\n",
       "      <td>Feb</td>\n",
       "      <td>8</td>\n",
       "      <td>8</td>\n",
       "      <td>Mon</td>\n",
       "    </tr>\n",
       "    <tr>\n",
       "      <th>9</th>\n",
       "      <td>A-2716609</td>\n",
       "      <td>2</td>\n",
       "      <td>2016-02-08 11:51:46</td>\n",
       "      <td>2016-02-08 17:51:46</td>\n",
       "      <td>41.375310</td>\n",
       "      <td>-81.820170</td>\n",
       "      <td>41.367860</td>\n",
       "      <td>-81.821740</td>\n",
       "      <td>0.521</td>\n",
       "      <td>At Bagley Rd/Exit 235 - Accident.</td>\n",
       "      <td>...</td>\n",
       "      <td>92.0</td>\n",
       "      <td>29.63</td>\n",
       "      <td>0.5</td>\n",
       "      <td>Snow</td>\n",
       "      <td>Day</td>\n",
       "      <td>2016</td>\n",
       "      <td>Feb</td>\n",
       "      <td>8</td>\n",
       "      <td>11</td>\n",
       "      <td>Mon</td>\n",
       "    </tr>\n",
       "    <tr>\n",
       "      <th>...</th>\n",
       "      <td>...</td>\n",
       "      <td>...</td>\n",
       "      <td>...</td>\n",
       "      <td>...</td>\n",
       "      <td>...</td>\n",
       "      <td>...</td>\n",
       "      <td>...</td>\n",
       "      <td>...</td>\n",
       "      <td>...</td>\n",
       "      <td>...</td>\n",
       "      <td>...</td>\n",
       "      <td>...</td>\n",
       "      <td>...</td>\n",
       "      <td>...</td>\n",
       "      <td>...</td>\n",
       "      <td>...</td>\n",
       "      <td>...</td>\n",
       "      <td>...</td>\n",
       "      <td>...</td>\n",
       "      <td>...</td>\n",
       "      <td>...</td>\n",
       "    </tr>\n",
       "    <tr>\n",
       "      <th>1516059</th>\n",
       "      <td>A-4239402</td>\n",
       "      <td>2</td>\n",
       "      <td>2019-08-23 18:03:25</td>\n",
       "      <td>2019-08-23 18:32:01</td>\n",
       "      <td>34.002480</td>\n",
       "      <td>-117.379360</td>\n",
       "      <td>33.998880</td>\n",
       "      <td>-117.370940</td>\n",
       "      <td>0.543</td>\n",
       "      <td>At Market St - Accident.</td>\n",
       "      <td>...</td>\n",
       "      <td>40.0</td>\n",
       "      <td>28.92</td>\n",
       "      <td>10.0</td>\n",
       "      <td>Fair</td>\n",
       "      <td>Day</td>\n",
       "      <td>2019</td>\n",
       "      <td>Aug</td>\n",
       "      <td>23</td>\n",
       "      <td>18</td>\n",
       "      <td>Fri</td>\n",
       "    </tr>\n",
       "    <tr>\n",
       "      <th>1516060</th>\n",
       "      <td>A-4239403</td>\n",
       "      <td>2</td>\n",
       "      <td>2019-08-23 19:11:30</td>\n",
       "      <td>2019-08-23 19:38:23</td>\n",
       "      <td>32.766960</td>\n",
       "      <td>-117.148060</td>\n",
       "      <td>32.765550</td>\n",
       "      <td>-117.153630</td>\n",
       "      <td>0.338</td>\n",
       "      <td>At Camino Del Rio/Mission Center Rd - Accident.</td>\n",
       "      <td>...</td>\n",
       "      <td>73.0</td>\n",
       "      <td>29.39</td>\n",
       "      <td>10.0</td>\n",
       "      <td>Fair</td>\n",
       "      <td>Day</td>\n",
       "      <td>2019</td>\n",
       "      <td>Aug</td>\n",
       "      <td>23</td>\n",
       "      <td>19</td>\n",
       "      <td>Fri</td>\n",
       "    </tr>\n",
       "    <tr>\n",
       "      <th>1516061</th>\n",
       "      <td>A-4239404</td>\n",
       "      <td>2</td>\n",
       "      <td>2019-08-23 19:00:21</td>\n",
       "      <td>2019-08-23 19:28:49</td>\n",
       "      <td>33.775450</td>\n",
       "      <td>-117.847790</td>\n",
       "      <td>33.777400</td>\n",
       "      <td>-117.857270</td>\n",
       "      <td>0.561</td>\n",
       "      <td>At Glassell St/Grand Ave - Accident. in the ri...</td>\n",
       "      <td>...</td>\n",
       "      <td>64.0</td>\n",
       "      <td>29.74</td>\n",
       "      <td>10.0</td>\n",
       "      <td>Partly Cloudy</td>\n",
       "      <td>Day</td>\n",
       "      <td>2019</td>\n",
       "      <td>Aug</td>\n",
       "      <td>23</td>\n",
       "      <td>19</td>\n",
       "      <td>Fri</td>\n",
       "    </tr>\n",
       "    <tr>\n",
       "      <th>1516062</th>\n",
       "      <td>A-4239405</td>\n",
       "      <td>2</td>\n",
       "      <td>2019-08-23 19:00:21</td>\n",
       "      <td>2019-08-23 19:29:42</td>\n",
       "      <td>33.992460</td>\n",
       "      <td>-118.403020</td>\n",
       "      <td>33.983110</td>\n",
       "      <td>-118.395650</td>\n",
       "      <td>0.772</td>\n",
       "      <td>At CA-90/Marina Fwy/Jefferson Blvd - Accident.</td>\n",
       "      <td>...</td>\n",
       "      <td>81.0</td>\n",
       "      <td>29.62</td>\n",
       "      <td>10.0</td>\n",
       "      <td>Fair</td>\n",
       "      <td>Day</td>\n",
       "      <td>2019</td>\n",
       "      <td>Aug</td>\n",
       "      <td>23</td>\n",
       "      <td>19</td>\n",
       "      <td>Fri</td>\n",
       "    </tr>\n",
       "    <tr>\n",
       "      <th>1516063</th>\n",
       "      <td>A-4239406</td>\n",
       "      <td>2</td>\n",
       "      <td>2019-08-23 18:52:06</td>\n",
       "      <td>2019-08-23 19:21:31</td>\n",
       "      <td>34.133930</td>\n",
       "      <td>-117.230920</td>\n",
       "      <td>34.137360</td>\n",
       "      <td>-117.239340</td>\n",
       "      <td>0.537</td>\n",
       "      <td>At Highland Ave/Arden Ave - Accident.</td>\n",
       "      <td>...</td>\n",
       "      <td>47.0</td>\n",
       "      <td>28.63</td>\n",
       "      <td>7.0</td>\n",
       "      <td>Fair</td>\n",
       "      <td>Day</td>\n",
       "      <td>2019</td>\n",
       "      <td>Aug</td>\n",
       "      <td>23</td>\n",
       "      <td>18</td>\n",
       "      <td>Fri</td>\n",
       "    </tr>\n",
       "  </tbody>\n",
       "</table>\n",
       "<p>1058882 rows × 28 columns</p>\n",
       "</div>"
      ],
      "text/plain": [
       "                ID  Severity          Start_Time            End_Time  \\\n",
       "0        A-2716600         3 2016-02-08 00:37:08 2016-02-08 06:37:08   \n",
       "5        A-2716605         3 2016-02-08 07:53:43 2016-02-08 13:53:43   \n",
       "6        A-2716606         2 2016-02-08 08:16:57 2016-02-08 14:16:57   \n",
       "7        A-2716607         2 2016-02-08 08:16:57 2016-02-08 14:16:57   \n",
       "9        A-2716609         2 2016-02-08 11:51:46 2016-02-08 17:51:46   \n",
       "...            ...       ...                 ...                 ...   \n",
       "1516059  A-4239402         2 2019-08-23 18:03:25 2019-08-23 18:32:01   \n",
       "1516060  A-4239403         2 2019-08-23 19:11:30 2019-08-23 19:38:23   \n",
       "1516061  A-4239404         2 2019-08-23 19:00:21 2019-08-23 19:28:49   \n",
       "1516062  A-4239405         2 2019-08-23 19:00:21 2019-08-23 19:29:42   \n",
       "1516063  A-4239406         2 2019-08-23 18:52:06 2019-08-23 19:21:31   \n",
       "\n",
       "         Start_Lat   Start_Lng    End_Lat     End_Lng  Distance(mi)  \\\n",
       "0        40.108910  -83.092860  40.112060  -83.031870         3.230   \n",
       "5        39.172393  -84.492792  39.170476  -84.501798         0.500   \n",
       "6        39.063240  -84.032430  39.067310  -84.058510         1.427   \n",
       "7        39.067080  -84.058550  39.063020  -84.032540         1.423   \n",
       "9        41.375310  -81.820170  41.367860  -81.821740         0.521   \n",
       "...            ...         ...        ...         ...           ...   \n",
       "1516059  34.002480 -117.379360  33.998880 -117.370940         0.543   \n",
       "1516060  32.766960 -117.148060  32.765550 -117.153630         0.338   \n",
       "1516061  33.775450 -117.847790  33.777400 -117.857270         0.561   \n",
       "1516062  33.992460 -118.403020  33.983110 -118.395650         0.772   \n",
       "1516063  34.133930 -117.230920  34.137360 -117.239340         0.537   \n",
       "\n",
       "                                               Description  ... Humidity(%)  \\\n",
       "0        Between Sawmill Rd/Exit 20 and OH-315/Olentang...  ...        58.0   \n",
       "5                       At Mitchell Ave/Exit 6 - Accident.  ...        93.0   \n",
       "6                             At Dela Palma Rd - Accident.  ...       100.0   \n",
       "7                             At Dela Palma Rd - Accident.  ...       100.0   \n",
       "9                        At Bagley Rd/Exit 235 - Accident.  ...        92.0   \n",
       "...                                                    ...  ...         ...   \n",
       "1516059                           At Market St - Accident.  ...        40.0   \n",
       "1516060    At Camino Del Rio/Mission Center Rd - Accident.  ...        73.0   \n",
       "1516061  At Glassell St/Grand Ave - Accident. in the ri...  ...        64.0   \n",
       "1516062     At CA-90/Marina Fwy/Jefferson Blvd - Accident.  ...        81.0   \n",
       "1516063              At Highland Ave/Arden Ave - Accident.  ...        47.0   \n",
       "\n",
       "        Pressure(in) Visibility(mi) Weather_Condition Sunrise_Sunset  Year  \\\n",
       "0              29.76           10.0        Light Rain          Night  2016   \n",
       "5              29.69           10.0        Light Rain            Day  2016   \n",
       "6              29.66           10.0          Overcast            Day  2016   \n",
       "7              29.66           10.0          Overcast            Day  2016   \n",
       "9              29.63            0.5              Snow            Day  2016   \n",
       "...              ...            ...               ...            ...   ...   \n",
       "1516059        28.92           10.0              Fair            Day  2019   \n",
       "1516060        29.39           10.0              Fair            Day  2019   \n",
       "1516061        29.74           10.0     Partly Cloudy            Day  2019   \n",
       "1516062        29.62           10.0              Fair            Day  2019   \n",
       "1516063        28.63            7.0              Fair            Day  2019   \n",
       "\n",
       "         Month  Day  Hour  Weekday  \n",
       "0          Feb    8     0      Mon  \n",
       "5          Feb    8     7      Mon  \n",
       "6          Feb    8     8      Mon  \n",
       "7          Feb    8     8      Mon  \n",
       "9          Feb    8    11      Mon  \n",
       "...        ...  ...   ...      ...  \n",
       "1516059    Aug   23    18      Fri  \n",
       "1516060    Aug   23    19      Fri  \n",
       "1516061    Aug   23    19      Fri  \n",
       "1516062    Aug   23    19      Fri  \n",
       "1516063    Aug   23    18      Fri  \n",
       "\n",
       "[1058882 rows x 28 columns]"
      ]
     },
     "execution_count": 35,
     "metadata": {},
     "output_type": "execute_result"
    }
   ],
   "source": [
    "accident_df"
   ]
  },
  {
   "cell_type": "markdown",
   "id": "dc52bcff",
   "metadata": {},
   "source": [
    "## - New feature Amount of time in the unit of minutes for each accident"
   ]
  },
  {
   "cell_type": "code",
   "execution_count": 36,
   "id": "ef435c5c",
   "metadata": {},
   "outputs": [],
   "source": [
    "accident_df['Time_Duration(min)']=round((accident_df['End_Time'] - accident_df['Start_Time'])/np.timedelta64(1,'m'))"
   ]
  },
  {
   "cell_type": "code",
   "execution_count": null,
   "id": "1984f7d4",
   "metadata": {},
   "outputs": [],
   "source": [
    "accident_df.info()"
   ]
  },
  {
   "cell_type": "code",
   "execution_count": null,
   "id": "81d4d1ef",
   "metadata": {},
   "outputs": [],
   "source": [
    "accident_df.head(1)"
   ]
  },
  {
   "cell_type": "code",
   "execution_count": 37,
   "id": "3e76dbcd",
   "metadata": {},
   "outputs": [
    {
     "data": {
      "text/plain": [
       "Series([], Name: Time_Duration(min), dtype: float64)"
      ]
     },
     "execution_count": 37,
     "metadata": {},
     "output_type": "execute_result"
    }
   ],
   "source": [
    "# Check if there is any negative time_duration values\n",
    "accident_df['Time_Duration(min)'][accident_df['Time_Duration(min)']<=0]"
   ]
  },
  {
   "cell_type": "code",
   "execution_count": 38,
   "id": "6afb4239",
   "metadata": {},
   "outputs": [],
   "source": [
    "neg_outliers=accident_df['Time_Duration(min)']<=0\n",
    "\n",
    "# Set outliers to NAN\n",
    "accident_df[neg_outliers] = np.nan\n",
    "\n",
    "# Drop rows with negative td\n",
    "accident_df.dropna(subset=['Time_Duration(min)'],axis=0,inplace=True)\n"
   ]
  },
  {
   "cell_type": "code",
   "execution_count": null,
   "id": "8e4563dc",
   "metadata": {},
   "outputs": [],
   "source": [
    "accident_df.info()"
   ]
  },
  {
   "cell_type": "code",
   "execution_count": 39,
   "id": "c29bf3d6",
   "metadata": {},
   "outputs": [],
   "source": [
    "# Remove outliers for Time_Duration(min): n * std (n=3), \n",
    "\n",
    "n=3\n",
    "median = accident_df['Time_Duration(min)'].median()\n",
    "std = accident_df['Time_Duration(min)'].std()\n",
    "outliers = (accident_df['Time_Duration(min)'] - median).abs() > std*n\n",
    "\n",
    "# Set outliers to NULL\n",
    "accident_df[outliers] = np.nan\n",
    "\n",
    "# Fill with median\n",
    "accident_df['Time_Duration(min)'].fillna(median, inplace=True) "
   ]
  },
  {
   "cell_type": "code",
   "execution_count": 40,
   "id": "c0c94f34",
   "metadata": {},
   "outputs": [
    {
     "name": "stdout",
     "output_type": "stream",
     "text": [
      "<class 'pandas.core.frame.DataFrame'>\n",
      "Int64Index: 1058882 entries, 0 to 1516063\n",
      "Data columns (total 29 columns):\n",
      " #   Column              Non-Null Count    Dtype         \n",
      "---  ------              --------------    -----         \n",
      " 0   ID                  1058354 non-null  object        \n",
      " 1   Severity            1058354 non-null  float64       \n",
      " 2   Start_Time          1058354 non-null  datetime64[ns]\n",
      " 3   End_Time            1058354 non-null  datetime64[ns]\n",
      " 4   Start_Lat           1058354 non-null  float64       \n",
      " 5   Start_Lng           1058354 non-null  float64       \n",
      " 6   End_Lat             1058354 non-null  float64       \n",
      " 7   End_Lng             1058354 non-null  float64       \n",
      " 8   Distance(mi)        1058354 non-null  float64       \n",
      " 9   Description         1058354 non-null  object        \n",
      " 10  Street              1058354 non-null  object        \n",
      " 11  Side                1058354 non-null  object        \n",
      " 12  City                1058354 non-null  object        \n",
      " 13  County              1058354 non-null  object        \n",
      " 14  State               1058354 non-null  object        \n",
      " 15  Country             1058354 non-null  object        \n",
      " 16  Temperature(F)      1058354 non-null  float64       \n",
      " 17  Wind_Chill(F)       1058354 non-null  float64       \n",
      " 18  Humidity(%)         1058354 non-null  float64       \n",
      " 19  Pressure(in)        1058354 non-null  float64       \n",
      " 20  Visibility(mi)      1058354 non-null  float64       \n",
      " 21  Weather_Condition   1058354 non-null  object        \n",
      " 22  Sunrise_Sunset      1058354 non-null  object        \n",
      " 23  Year                1058354 non-null  float64       \n",
      " 24  Month               1058354 non-null  object        \n",
      " 25  Day                 1058354 non-null  float64       \n",
      " 26  Hour                1058354 non-null  float64       \n",
      " 27  Weekday             1058354 non-null  object        \n",
      " 28  Time_Duration(min)  1058882 non-null  float64       \n",
      "dtypes: datetime64[ns](2), float64(15), object(12)\n",
      "memory usage: 242.4+ MB\n"
     ]
    }
   ],
   "source": [
    "accident_df.info()"
   ]
  },
  {
   "cell_type": "code",
   "execution_count": 41,
   "id": "64894b62",
   "metadata": {},
   "outputs": [
    {
     "data": {
      "text/plain": [
       "ID                    528\n",
       "Country               528\n",
       "Weekday               528\n",
       "Hour                  528\n",
       "Day                   528\n",
       "Month                 528\n",
       "Year                  528\n",
       "Sunrise_Sunset        528\n",
       "Weather_Condition     528\n",
       "Visibility(mi)        528\n",
       "Pressure(in)          528\n",
       "Humidity(%)           528\n",
       "Wind_Chill(F)         528\n",
       "Temperature(F)        528\n",
       "State                 528\n",
       "Severity              528\n",
       "County                528\n",
       "City                  528\n",
       "Side                  528\n",
       "Street                528\n",
       "Description           528\n",
       "Distance(mi)          528\n",
       "End_Lng               528\n",
       "End_Lat               528\n",
       "Start_Lng             528\n",
       "Start_Lat             528\n",
       "End_Time              528\n",
       "Start_Time            528\n",
       "Time_Duration(min)      0\n",
       "dtype: int64"
      ]
     },
     "execution_count": 41,
     "metadata": {},
     "output_type": "execute_result"
    }
   ],
   "source": [
    "# check if there is a null value\n",
    "accident_df.isnull().sum().sort_values(ascending=False)"
   ]
  },
  {
   "cell_type": "code",
   "execution_count": 42,
   "id": "6198ce5d",
   "metadata": {},
   "outputs": [],
   "source": [
    "accident_df.dropna(inplace=True)"
   ]
  },
  {
   "cell_type": "markdown",
   "id": "8f680491",
   "metadata": {},
   "source": [
    "## Max time to clear an accident"
   ]
  },
  {
   "cell_type": "code",
   "execution_count": 43,
   "id": "8809b181",
   "metadata": {},
   "outputs": [
    {
     "data": {
      "text/plain": [
       "471362    13809.0\n",
       "250851    13809.0\n",
       "713037    13809.0\n",
       "593032    13809.0\n",
       "335106    13592.0\n",
       "Name: Time_Duration(min), dtype: float64"
      ]
     },
     "execution_count": 43,
     "metadata": {},
     "output_type": "execute_result"
    }
   ],
   "source": [
    "accident_df['Time_Duration(min)'].sort_values(ascending = False).head()"
   ]
  },
  {
   "cell_type": "code",
   "execution_count": 44,
   "id": "d38ff1f4",
   "metadata": {},
   "outputs": [
    {
     "data": {
      "text/plain": [
       "434859    6.0\n",
       "356687    6.0\n",
       "634209    6.0\n",
       "489402    6.0\n",
       "763161    5.0\n",
       "Name: Time_Duration(min), dtype: float64"
      ]
     },
     "execution_count": 44,
     "metadata": {},
     "output_type": "execute_result"
    }
   ],
   "source": [
    "accident_df['Time_Duration(min)'].sort_values(ascending = False).tail()"
   ]
  },
  {
   "cell_type": "code",
   "execution_count": 45,
   "id": "d4a39142",
   "metadata": {},
   "outputs": [
    {
     "name": "stdout",
     "output_type": "stream",
     "text": [
      "Max time to clear an accident by 13809.0 minutes \n",
      "Max time to clear an accident by 230 hours \n",
      "Max time to clear an accident by 10 days \n",
      "Min time to clear an accident by 5.0 minutes \n"
     ]
    }
   ],
   "source": [
    "max_time_minutes = accident_df['Time_Duration(min)'].max()\n",
    "max_time_hours = round(accident_df['Time_Duration(min)'].max()/60)\n",
    "max_time_days = round(accident_df['Time_Duration(min)'].max()/60/24)\n",
    "min_time_minutes = accident_df['Time_Duration(min)'].min()\n",
    "\n",
    "print('Max time to clear an accident by {} minutes ' .format(max_time_minutes))\n",
    "print('Max time to clear an accident by {} hours ' .format(max_time_hours))\n",
    "print('Max time to clear an accident by {} days ' .format(max_time_days))\n",
    "print('Min time to clear an accident by {} minutes ' .format(min_time_minutes))\n",
    "\n"
   ]
  },
  {
   "cell_type": "code",
   "execution_count": 46,
   "id": "52997cfb",
   "metadata": {},
   "outputs": [
    {
     "data": {
      "text/plain": [
       "Index(['ID', 'Severity', 'Start_Time', 'End_Time', 'Start_Lat', 'Start_Lng',\n",
       "       'End_Lat', 'End_Lng', 'Distance(mi)', 'Description', 'Street', 'Side',\n",
       "       'City', 'County', 'State', 'Country', 'Temperature(F)', 'Wind_Chill(F)',\n",
       "       'Humidity(%)', 'Pressure(in)', 'Visibility(mi)', 'Weather_Condition',\n",
       "       'Sunrise_Sunset', 'Year', 'Month', 'Day', 'Hour', 'Weekday',\n",
       "       'Time_Duration(min)'],\n",
       "      dtype='object')"
      ]
     },
     "execution_count": 46,
     "metadata": {},
     "output_type": "execute_result"
    }
   ],
   "source": [
    "accident_df.columns"
   ]
  },
  {
   "cell_type": "markdown",
   "id": "cfa12373",
   "metadata": {},
   "source": [
    "## Dose the weekend affect the number of accidents (New Feature)"
   ]
  },
  {
   "cell_type": "code",
   "execution_count": 47,
   "id": "93c0d5c6",
   "metadata": {},
   "outputs": [],
   "source": [
    "accident_df['Is_Weekend'] = accident_df['Start_Time'].dt.weekday > 4"
   ]
  },
  {
   "cell_type": "code",
   "execution_count": 48,
   "id": "044e4787",
   "metadata": {},
   "outputs": [
    {
     "data": {
      "text/html": [
       "<div>\n",
       "<style scoped>\n",
       "    .dataframe tbody tr th:only-of-type {\n",
       "        vertical-align: middle;\n",
       "    }\n",
       "\n",
       "    .dataframe tbody tr th {\n",
       "        vertical-align: top;\n",
       "    }\n",
       "\n",
       "    .dataframe thead th {\n",
       "        text-align: right;\n",
       "    }\n",
       "</style>\n",
       "<table border=\"1\" class=\"dataframe\">\n",
       "  <thead>\n",
       "    <tr style=\"text-align: right;\">\n",
       "      <th></th>\n",
       "      <th>Is_Weekend</th>\n",
       "      <th>#Accident</th>\n",
       "    </tr>\n",
       "  </thead>\n",
       "  <tbody>\n",
       "    <tr>\n",
       "      <th>0</th>\n",
       "      <td>True</td>\n",
       "      <td>212153</td>\n",
       "    </tr>\n",
       "    <tr>\n",
       "      <th>1</th>\n",
       "      <td>False</td>\n",
       "      <td>846201</td>\n",
       "    </tr>\n",
       "  </tbody>\n",
       "</table>\n",
       "</div>"
      ],
      "text/plain": [
       "   Is_Weekend  #Accident\n",
       "0        True     212153\n",
       "1       False     846201"
      ]
     },
     "execution_count": 48,
     "metadata": {},
     "output_type": "execute_result"
    }
   ],
   "source": [
    "# Show number of accidents in weekday and weekend\n",
    "weekend = accident_df.Is_Weekend\n",
    "weekend = accident_df.groupby([weekend]).count().sort_values(by = \"ID\").iloc[:,[0]]\n",
    "weekend = weekend.reset_index()\n",
    "weekend.rename(columns={'ID': '#Accident'}, inplace=True)\n",
    "\n",
    "weekend"
   ]
  },
  {
   "cell_type": "markdown",
   "id": "e23a1843",
   "metadata": {},
   "source": [
    "## - Dose the weekend affect the severity of accidents "
   ]
  },
  {
   "cell_type": "code",
   "execution_count": 49,
   "id": "2a07c59d",
   "metadata": {},
   "outputs": [
    {
     "data": {
      "text/html": [
       "<div>\n",
       "<style scoped>\n",
       "    .dataframe tbody tr th:only-of-type {\n",
       "        vertical-align: middle;\n",
       "    }\n",
       "\n",
       "    .dataframe tbody tr th {\n",
       "        vertical-align: top;\n",
       "    }\n",
       "\n",
       "    .dataframe thead th {\n",
       "        text-align: right;\n",
       "    }\n",
       "</style>\n",
       "<table border=\"1\" class=\"dataframe\">\n",
       "  <thead>\n",
       "    <tr style=\"text-align: right;\">\n",
       "      <th></th>\n",
       "      <th>Is_Weekend</th>\n",
       "      <th>Severity</th>\n",
       "      <th>#Accident</th>\n",
       "    </tr>\n",
       "  </thead>\n",
       "  <tbody>\n",
       "    <tr>\n",
       "      <th>0</th>\n",
       "      <td>True</td>\n",
       "      <td>1.0</td>\n",
       "      <td>4294</td>\n",
       "    </tr>\n",
       "    <tr>\n",
       "      <th>1</th>\n",
       "      <td>True</td>\n",
       "      <td>4.0</td>\n",
       "      <td>12675</td>\n",
       "    </tr>\n",
       "    <tr>\n",
       "      <th>2</th>\n",
       "      <td>True</td>\n",
       "      <td>3.0</td>\n",
       "      <td>14449</td>\n",
       "    </tr>\n",
       "    <tr>\n",
       "      <th>3</th>\n",
       "      <td>False</td>\n",
       "      <td>1.0</td>\n",
       "      <td>23280</td>\n",
       "    </tr>\n",
       "    <tr>\n",
       "      <th>4</th>\n",
       "      <td>False</td>\n",
       "      <td>4.0</td>\n",
       "      <td>47179</td>\n",
       "    </tr>\n",
       "    <tr>\n",
       "      <th>5</th>\n",
       "      <td>False</td>\n",
       "      <td>3.0</td>\n",
       "      <td>70266</td>\n",
       "    </tr>\n",
       "    <tr>\n",
       "      <th>6</th>\n",
       "      <td>True</td>\n",
       "      <td>2.0</td>\n",
       "      <td>180735</td>\n",
       "    </tr>\n",
       "    <tr>\n",
       "      <th>7</th>\n",
       "      <td>False</td>\n",
       "      <td>2.0</td>\n",
       "      <td>705476</td>\n",
       "    </tr>\n",
       "  </tbody>\n",
       "</table>\n",
       "</div>"
      ],
      "text/plain": [
       "   Is_Weekend  Severity  #Accident\n",
       "0        True       1.0       4294\n",
       "1        True       4.0      12675\n",
       "2        True       3.0      14449\n",
       "3       False       1.0      23280\n",
       "4       False       4.0      47179\n",
       "5       False       3.0      70266\n",
       "6        True       2.0     180735\n",
       "7       False       2.0     705476"
      ]
     },
     "execution_count": 49,
     "metadata": {},
     "output_type": "execute_result"
    }
   ],
   "source": [
    "# Show severity of accidents in weekday and weekend\n",
    "weekend_Severity = accident_df.groupby(['Is_Weekend','Severity']).count().sort_values(by = \"ID\").iloc[:,[0]]\n",
    "weekend_Severity = weekend_Severity.reset_index()\n",
    "weekend_Severity.rename(columns={'ID': '#Accident'}, inplace=True)\n",
    "weekend_Severity"
   ]
  },
  {
   "cell_type": "markdown",
   "id": "4ad6ed08",
   "metadata": {},
   "source": [
    "## - What times with the most accidents? "
   ]
  },
  {
   "cell_type": "code",
   "execution_count": 50,
   "id": "a8322e28",
   "metadata": {},
   "outputs": [],
   "source": [
    "# Show the time that has most accidents \n",
    "time = accident_df.Start_Time.dt.hour\n",
    "hour_time = time\n",
    "hour_time = pd.DataFrame()\n",
    "# state.head(10)\n",
    "\n",
    "hour_time = accident_df.groupby(time).count().sort_values(by = \"ID\" ).iloc[:,[0]]\n",
    "hour_time = hour_time.reset_index()\n",
    "hour_time.rename(columns={'Start_Time': 'Time' , 'ID': '#Accident'}, inplace=True)\n",
    "# hour_time"
   ]
  },
  {
   "cell_type": "code",
   "execution_count": 51,
   "id": "9b74b5bb",
   "metadata": {},
   "outputs": [],
   "source": [
    "hour_time = hour_time.sort_values('Time')"
   ]
  },
  {
   "cell_type": "code",
   "execution_count": 53,
   "id": "79cce9b2",
   "metadata": {},
   "outputs": [
    {
     "name": "stderr",
     "output_type": "stream",
     "text": [
      "/Users/raneem/opt/anaconda3/lib/python3.9/site-packages/bokeh/models/sources.py:205: BokehUserWarning:\n",
      "\n",
      "ColumnDataSource's columns must be of the same length. Current lengths: ('left', 10), ('top', 24)\n",
      "\n",
      "/Users/raneem/opt/anaconda3/lib/python3.9/site-packages/bokeh/models/sources.py:205: BokehUserWarning:\n",
      "\n",
      "ColumnDataSource's columns must be of the same length. Current lengths: ('left', 10), ('right', 10), ('top', 24)\n",
      "\n"
     ]
    },
    {
     "data": {
      "text/html": [
       "\n",
       "\n",
       "\n",
       "\n",
       "\n",
       "\n",
       "  <div class=\"bk-root\" id=\"8520a3f8-fd32-4c4c-b4de-856a66087e4e\" data-root-id=\"1593\"></div>\n"
      ]
     },
     "metadata": {},
     "output_type": "display_data"
    },
    {
     "data": {
      "application/javascript": [
       "(function(root) {\n",
       "  function embed_document(root) {\n",
       "    \n",
       "  const docs_json = {\"1d9ab9c7-e1dd-4ddb-813b-94a3cca201e8\":{\"defs\":[],\"roots\":{\"references\":[{\"attributes\":{\"below\":[{\"id\":\"1604\"}],\"center\":[{\"id\":\"1607\"},{\"id\":\"1611\"}],\"height\":500,\"left\":[{\"id\":\"1608\"}],\"renderers\":[{\"id\":\"1632\"}],\"title\":{\"id\":\"1594\"},\"toolbar\":{\"id\":\"1619\"},\"width\":800,\"x_range\":{\"id\":\"1596\"},\"x_scale\":{\"id\":\"1600\"},\"y_range\":{\"id\":\"1598\"},\"y_scale\":{\"id\":\"1602\"}},\"id\":\"1593\",\"subtype\":\"Figure\",\"type\":\"Plot\"},{\"attributes\":{\"bottom\":{\"value\":0},\"fill_alpha\":{\"value\":0.1},\"fill_color\":{\"value\":\"grey\"},\"hatch_alpha\":{\"value\":0.1},\"hatch_color\":{\"value\":\"grey\"},\"left\":{\"field\":\"left\"},\"line_alpha\":{\"value\":0.1},\"line_color\":{\"value\":\"white\"},\"right\":{\"field\":\"right\"},\"top\":{\"field\":\"top\"}},\"id\":\"1630\",\"type\":\"Quad\"},{\"attributes\":{},\"id\":\"1616\",\"type\":\"ResetTool\"},{\"attributes\":{},\"id\":\"1626\",\"type\":\"NumeralTickFormatter\"},{\"attributes\":{\"coordinates\":null,\"data_source\":{\"id\":\"1628\"},\"glyph\":{\"id\":\"1629\"},\"group\":null,\"hover_glyph\":null,\"muted_glyph\":{\"id\":\"1631\"},\"nonselection_glyph\":{\"id\":\"1630\"},\"view\":{\"id\":\"1633\"}},\"id\":\"1632\",\"type\":\"GlyphRenderer\"},{\"attributes\":{\"source\":{\"id\":\"1628\"}},\"id\":\"1633\",\"type\":\"CDSView\"},{\"attributes\":{\"bottom\":{\"value\":0},\"fill_alpha\":{\"value\":0.2},\"fill_color\":{\"value\":\"grey\"},\"hatch_alpha\":{\"value\":0.2},\"hatch_color\":{\"value\":\"grey\"},\"left\":{\"field\":\"left\"},\"line_alpha\":{\"value\":0.2},\"line_color\":{\"value\":\"white\"},\"right\":{\"field\":\"right\"},\"top\":{\"field\":\"top\"}},\"id\":\"1631\",\"type\":\"Quad\"},{\"attributes\":{\"bottom\":{\"value\":0},\"fill_color\":{\"value\":\"grey\"},\"hatch_color\":{\"value\":\"grey\"},\"left\":{\"field\":\"left\"},\"line_color\":{\"value\":\"white\"},\"right\":{\"field\":\"right\"},\"top\":{\"field\":\"top\"}},\"id\":\"1629\",\"type\":\"Quad\"},{\"attributes\":{\"bottom_units\":\"screen\",\"coordinates\":null,\"fill_alpha\":0.5,\"fill_color\":\"lightgrey\",\"group\":null,\"left_units\":\"screen\",\"level\":\"overlay\",\"line_alpha\":1.0,\"line_color\":\"black\",\"line_dash\":[4,4],\"line_width\":2,\"right_units\":\"screen\",\"syncable\":false,\"top_units\":\"screen\"},\"id\":\"1618\",\"type\":\"BoxAnnotation\"},{\"attributes\":{},\"id\":\"1687\",\"type\":\"BasicTickFormatter\"},{\"attributes\":{},\"id\":\"1596\",\"type\":\"DataRange1d\"},{\"attributes\":{\"axis_label_standoff\":10,\"axis_label_text_color\":\"#5B5B5B\",\"axis_label_text_font\":\"Calibri Light\",\"axis_label_text_font_size\":\"1.15em\",\"axis_label_text_font_style\":\"bold\",\"axis_line_alpha\":1,\"axis_line_color\":\"#5B5B5B\",\"coordinates\":null,\"formatter\":{\"id\":\"1687\"},\"group\":null,\"major_label_policy\":{\"id\":\"1688\"},\"major_label_text_color\":\"#5B5B5B\",\"major_label_text_font\":\"Calibri Light\",\"major_label_text_font_size\":\"0.95em\",\"major_label_text_font_style\":\"bold\",\"major_tick_in\":0,\"major_tick_line_alpha\":0.25,\"major_tick_line_color\":\"#5B5B5B\",\"major_tick_out\":3,\"minor_tick_line_alpha\":0.25,\"minor_tick_line_color\":\"#5B5B5B\",\"ticker\":{\"id\":\"1605\"}},\"id\":\"1604\",\"type\":\"LinearAxis\"},{\"attributes\":{},\"id\":\"1688\",\"type\":\"AllLabels\"},{\"attributes\":{\"data\":{\"left\":{\"__ndarray__\":\"AAAAAAAAAABmZmZmZmYCQGZmZmZmZhJAmZmZmZmZG0BmZmZmZmYiQAAAAAAAACdAmZmZmZmZK0CZmZmZmRkwQGZmZmZmZjJAMzMzMzOzNEA=\",\"dtype\":\"float64\",\"order\":\"little\",\"shape\":[10]},\"right\":{\"__ndarray__\":\"ZmZmZmZmAkBmZmZmZmYSQJmZmZmZmRtAZmZmZmZmIkAAAAAAAAAnQJmZmZmZmStAmZmZmZkZMEBmZmZmZmYyQDMzMzMzszRAAAAAAAAAN0A=\",\"dtype\":\"float64\",\"order\":\"little\",\"shape\":[10]},\"top\":[38862,37255,32804,25966,22639,27475,37177,45603,45121,35739,31419,33338,47523,59159,60886,64865,67628,69871,61804,47557,42570,41149,41249,40695]},\"selected\":{\"id\":\"1690\"},\"selection_policy\":{\"id\":\"1689\"}},\"id\":\"1628\",\"type\":\"ColumnDataSource\"},{\"attributes\":{},\"id\":\"1612\",\"type\":\"PanTool\"},{\"attributes\":{},\"id\":\"1690\",\"type\":\"Selection\"},{\"attributes\":{},\"id\":\"1602\",\"type\":\"LinearScale\"},{\"attributes\":{},\"id\":\"1613\",\"type\":\"WheelZoomTool\"},{\"attributes\":{\"coordinates\":null,\"group\":null,\"text\":\"Plot sizing example\",\"text_color\":\"#5B5B5B\",\"text_font\":\"Calibri Light\",\"text_font_size\":\"1.25em\",\"text_font_style\":\"bold\"},\"id\":\"1594\",\"type\":\"Title\"},{\"attributes\":{},\"id\":\"1598\",\"type\":\"DataRange1d\"},{\"attributes\":{\"tools\":[{\"id\":\"1612\"},{\"id\":\"1613\"},{\"id\":\"1614\"},{\"id\":\"1615\"},{\"id\":\"1616\"},{\"id\":\"1617\"}]},\"id\":\"1619\",\"type\":\"Toolbar\"},{\"attributes\":{},\"id\":\"1605\",\"type\":\"BasicTicker\"},{\"attributes\":{},\"id\":\"1609\",\"type\":\"BasicTicker\"},{\"attributes\":{\"axis\":{\"id\":\"1608\"},\"coordinates\":null,\"dimension\":1,\"group\":null,\"ticker\":null},\"id\":\"1611\",\"type\":\"Grid\"},{\"attributes\":{},\"id\":\"1689\",\"type\":\"UnionRenderers\"},{\"attributes\":{},\"id\":\"1617\",\"type\":\"HelpTool\"},{\"attributes\":{},\"id\":\"1685\",\"type\":\"AllLabels\"},{\"attributes\":{\"axis_label_standoff\":10,\"axis_label_text_color\":\"#5B5B5B\",\"axis_label_text_font\":\"Calibri Light\",\"axis_label_text_font_size\":\"1.15em\",\"axis_label_text_font_style\":\"bold\",\"axis_line_alpha\":1,\"axis_line_color\":\"#5B5B5B\",\"coordinates\":null,\"formatter\":{\"id\":\"1626\"},\"group\":null,\"major_label_policy\":{\"id\":\"1685\"},\"major_label_text_color\":\"#5B5B5B\",\"major_label_text_font\":\"Calibri Light\",\"major_label_text_font_size\":\"0.95em\",\"major_label_text_font_style\":\"bold\",\"major_tick_in\":0,\"major_tick_line_alpha\":0.25,\"major_tick_line_color\":\"#5B5B5B\",\"major_tick_out\":3,\"minor_tick_line_alpha\":0.25,\"minor_tick_line_color\":\"#5B5B5B\",\"ticker\":{\"id\":\"1609\"}},\"id\":\"1608\",\"type\":\"LinearAxis\"},{\"attributes\":{},\"id\":\"1600\",\"type\":\"LinearScale\"},{\"attributes\":{\"overlay\":{\"id\":\"1618\"}},\"id\":\"1614\",\"type\":\"BoxZoomTool\"},{\"attributes\":{\"axis\":{\"id\":\"1604\"},\"coordinates\":null,\"group\":null,\"ticker\":null},\"id\":\"1607\",\"type\":\"Grid\"},{\"attributes\":{},\"id\":\"1615\",\"type\":\"SaveTool\"}],\"root_ids\":[\"1593\"]},\"title\":\"Bokeh Application\",\"version\":\"2.4.1\"}};\n",
       "  const render_items = [{\"docid\":\"1d9ab9c7-e1dd-4ddb-813b-94a3cca201e8\",\"root_ids\":[\"1593\"],\"roots\":{\"1593\":\"8520a3f8-fd32-4c4c-b4de-856a66087e4e\"}}];\n",
       "  root.Bokeh.embed.embed_items_notebook(docs_json, render_items);\n",
       "\n",
       "  }\n",
       "  if (root.Bokeh !== undefined) {\n",
       "    embed_document(root);\n",
       "  } else {\n",
       "    let attempts = 0;\n",
       "    const timer = setInterval(function(root) {\n",
       "      if (root.Bokeh !== undefined) {\n",
       "        clearInterval(timer);\n",
       "        embed_document(root);\n",
       "      } else {\n",
       "        attempts++;\n",
       "        if (attempts > 100) {\n",
       "          clearInterval(timer);\n",
       "          console.log(\"Bokeh: ERROR: Unable to run BokehJS code because BokehJS library is missing\");\n",
       "        }\n",
       "      }\n",
       "    }, 10, root)\n",
       "  }\n",
       "})(window);"
      ],
      "application/vnd.bokehjs_exec.v0+json": ""
     },
     "metadata": {
      "application/vnd.bokehjs_exec.v0+json": {
       "id": "1593"
      }
     },
     "output_type": "display_data"
    }
   ],
   "source": [
    "\n",
    "data = hour_time['Time']\n",
    "top = hour_time['#Accident']\n",
    "\n",
    "hist, edges = np.histogram(data, bins=10)\n",
    "\n",
    "x = [0, 1, 2, 3, 4, 5, 6, 7, 8, 9, 10, 11, 12, 13, 14, 15, 16, 17, 18, 19, 20, 21, 22, 23]\n",
    " \n",
    "\n",
    "p = figure(title=\"Plot sizing example\", width=800, height=500)\n",
    "p.yaxis.formatter = NumeralTickFormatter(format=\"0,0\")\n",
    "\n",
    "\n",
    "p.quad(top=top, bottom=0, left=edges[:-1] , right=edges[1:] , line_color=\"white\",color=\"grey\")\n",
    "\n",
    "show(p)\n",
    "\n",
    "\n"
   ]
  },
  {
   "cell_type": "markdown",
   "id": "13ea19e9",
   "metadata": {},
   "source": [
    "## - Compare number of accidents of each year [2016, 2017, 2018, 2019, 2020] "
   ]
  },
  {
   "cell_type": "code",
   "execution_count": 54,
   "id": "35fa118d",
   "metadata": {},
   "outputs": [],
   "source": [
    "times = pd.to_datetime(accident_df.Start_Time)\n",
    "times = accident_df.groupby([times.dt.year]).count().sort_values(by = \"ID\").iloc[:,[0]]\n",
    "times = times.reset_index()\n",
    "#times"
   ]
  },
  {
   "cell_type": "code",
   "execution_count": 55,
   "id": "71a72891",
   "metadata": {},
   "outputs": [],
   "source": [
    "# Change coloumn name\n",
    "\n",
    "times['Start_Time'] = pd.to_numeric(times['Start_Time'], downcast='signed')\n",
    "times.rename(columns={'Start_Time': 'Year' ,  'ID': '#Accident'}, inplace=True)\n",
    "times = times.sort_values('Year')\n",
    "#times"
   ]
  },
  {
   "cell_type": "code",
   "execution_count": 56,
   "id": "646e1be5",
   "metadata": {},
   "outputs": [
    {
     "data": {
      "text/html": [
       "\n",
       "\n",
       "\n",
       "\n",
       "\n",
       "\n",
       "  <div class=\"bk-root\" id=\"c72faa4f-2de9-4dcc-bec6-6fbd9810a986\" data-root-id=\"1737\"></div>\n"
      ]
     },
     "metadata": {},
     "output_type": "display_data"
    },
    {
     "data": {
      "application/javascript": [
       "(function(root) {\n",
       "  function embed_document(root) {\n",
       "    \n",
       "  const docs_json = {\"a225ff7c-07a1-46de-b627-79fa80ea2815\":{\"defs\":[],\"roots\":{\"references\":[{\"attributes\":{\"below\":[{\"id\":\"1748\"}],\"center\":[{\"id\":\"1751\"},{\"id\":\"1755\"}],\"height\":500,\"left\":[{\"id\":\"1752\"}],\"renderers\":[{\"id\":\"1776\"}],\"title\":{\"id\":\"1738\"},\"toolbar\":{\"id\":\"1763\"},\"width\":800,\"x_range\":{\"id\":\"1740\"},\"x_scale\":{\"id\":\"1744\"},\"y_range\":{\"id\":\"1742\"},\"y_scale\":{\"id\":\"1746\"}},\"id\":\"1737\",\"subtype\":\"Figure\",\"type\":\"Plot\"},{\"attributes\":{\"bottom_units\":\"screen\",\"coordinates\":null,\"fill_alpha\":0.5,\"fill_color\":\"lightgrey\",\"group\":null,\"left_units\":\"screen\",\"level\":\"overlay\",\"line_alpha\":1.0,\"line_color\":\"black\",\"line_dash\":[4,4],\"line_width\":2,\"right_units\":\"screen\",\"syncable\":false,\"top_units\":\"screen\"},\"id\":\"1762\",\"type\":\"BoxAnnotation\"},{\"attributes\":{\"source\":{\"id\":\"1772\"}},\"id\":\"1777\",\"type\":\"CDSView\"},{\"attributes\":{\"coordinates\":null,\"data_source\":{\"id\":\"1772\"},\"glyph\":{\"id\":\"1773\"},\"group\":null,\"hover_glyph\":null,\"muted_glyph\":{\"id\":\"1775\"},\"nonselection_glyph\":{\"id\":\"1774\"},\"view\":{\"id\":\"1777\"}},\"id\":\"1776\",\"type\":\"GlyphRenderer\"},{\"attributes\":{},\"id\":\"1756\",\"type\":\"PanTool\"},{\"attributes\":{\"axis\":{\"id\":\"1752\"},\"coordinates\":null,\"dimension\":1,\"group\":null,\"ticker\":null},\"id\":\"1755\",\"type\":\"Grid\"},{\"attributes\":{\"axis_label_standoff\":10,\"axis_label_text_color\":\"#5B5B5B\",\"axis_label_text_font\":\"Calibri Light\",\"axis_label_text_font_size\":\"1.15em\",\"axis_label_text_font_style\":\"bold\",\"axis_line_alpha\":1,\"axis_line_color\":\"#5B5B5B\",\"coordinates\":null,\"formatter\":{\"id\":\"1770\"},\"group\":null,\"major_label_policy\":{\"id\":\"1838\"},\"major_label_text_color\":\"#5B5B5B\",\"major_label_text_font\":\"Calibri Light\",\"major_label_text_font_size\":\"0.95em\",\"major_label_text_font_style\":\"bold\",\"major_tick_in\":0,\"major_tick_line_alpha\":0.25,\"major_tick_line_color\":\"#5B5B5B\",\"major_tick_out\":3,\"minor_tick_line_alpha\":0.25,\"minor_tick_line_color\":\"#5B5B5B\",\"ticker\":{\"id\":\"1753\"}},\"id\":\"1752\",\"type\":\"LinearAxis\"},{\"attributes\":{\"line_alpha\":0.2,\"line_color\":\"#1f77b4\",\"x\":{\"field\":\"x\"},\"y\":{\"field\":\"y\"}},\"id\":\"1775\",\"type\":\"Line\"},{\"attributes\":{},\"id\":\"1761\",\"type\":\"HelpTool\"},{\"attributes\":{},\"id\":\"1757\",\"type\":\"WheelZoomTool\"},{\"attributes\":{},\"id\":\"1760\",\"type\":\"ResetTool\"},{\"attributes\":{\"line_alpha\":0.1,\"line_color\":\"#1f77b4\",\"x\":{\"field\":\"x\"},\"y\":{\"field\":\"y\"}},\"id\":\"1774\",\"type\":\"Line\"},{\"attributes\":{},\"id\":\"1759\",\"type\":\"SaveTool\"},{\"attributes\":{},\"id\":\"1838\",\"type\":\"AllLabels\"},{\"attributes\":{},\"id\":\"1770\",\"type\":\"NumeralTickFormatter\"},{\"attributes\":{},\"id\":\"1753\",\"type\":\"BasicTicker\"},{\"attributes\":{},\"id\":\"1740\",\"type\":\"DataRange1d\"},{\"attributes\":{},\"id\":\"1840\",\"type\":\"BasicTickFormatter\"},{\"attributes\":{\"line_color\":\"#1f77b4\",\"x\":{\"field\":\"x\"},\"y\":{\"field\":\"y\"}},\"id\":\"1773\",\"type\":\"Line\"},{\"attributes\":{},\"id\":\"1742\",\"type\":\"DataRange1d\"},{\"attributes\":{\"tools\":[{\"id\":\"1756\"},{\"id\":\"1757\"},{\"id\":\"1758\"},{\"id\":\"1759\"},{\"id\":\"1760\"},{\"id\":\"1761\"}]},\"id\":\"1763\",\"type\":\"Toolbar\"},{\"attributes\":{},\"id\":\"1841\",\"type\":\"AllLabels\"},{\"attributes\":{\"overlay\":{\"id\":\"1762\"}},\"id\":\"1758\",\"type\":\"BoxZoomTool\"},{\"attributes\":{},\"id\":\"1746\",\"type\":\"LinearScale\"},{\"attributes\":{\"axis\":{\"id\":\"1748\"},\"coordinates\":null,\"group\":null,\"ticker\":null},\"id\":\"1751\",\"type\":\"Grid\"},{\"attributes\":{},\"id\":\"1744\",\"type\":\"LinearScale\"},{\"attributes\":{},\"id\":\"1842\",\"type\":\"UnionRenderers\"},{\"attributes\":{\"coordinates\":null,\"group\":null,\"text\":\"Number of Accidents\",\"text_color\":\"#5B5B5B\",\"text_font\":\"Calibri Light\",\"text_font_size\":\"1.25em\",\"text_font_style\":\"bold\"},\"id\":\"1738\",\"type\":\"Title\"},{\"attributes\":{},\"id\":\"1749\",\"type\":\"BasicTicker\"},{\"attributes\":{},\"id\":\"1843\",\"type\":\"Selection\"},{\"attributes\":{\"data\":{\"x\":{\"__ndarray__\":\"4AfhB+IH4wfkBw==\",\"dtype\":\"int16\",\"order\":\"little\",\"shape\":[5]},\"y\":[15166,29361,36215,226758,750854]},\"selected\":{\"id\":\"1843\"},\"selection_policy\":{\"id\":\"1842\"}},\"id\":\"1772\",\"type\":\"ColumnDataSource\"},{\"attributes\":{\"axis_label_standoff\":10,\"axis_label_text_color\":\"#5B5B5B\",\"axis_label_text_font\":\"Calibri Light\",\"axis_label_text_font_size\":\"1.15em\",\"axis_label_text_font_style\":\"bold\",\"axis_line_alpha\":1,\"axis_line_color\":\"#5B5B5B\",\"coordinates\":null,\"formatter\":{\"id\":\"1840\"},\"group\":null,\"major_label_policy\":{\"id\":\"1841\"},\"major_label_text_color\":\"#5B5B5B\",\"major_label_text_font\":\"Calibri Light\",\"major_label_text_font_size\":\"0.95em\",\"major_label_text_font_style\":\"bold\",\"major_tick_in\":0,\"major_tick_line_alpha\":0.25,\"major_tick_line_color\":\"#5B5B5B\",\"major_tick_out\":3,\"minor_tick_line_alpha\":0.25,\"minor_tick_line_color\":\"#5B5B5B\",\"ticker\":{\"id\":\"1749\"}},\"id\":\"1748\",\"type\":\"LinearAxis\"}],\"root_ids\":[\"1737\"]},\"title\":\"Bokeh Application\",\"version\":\"2.4.1\"}};\n",
       "  const render_items = [{\"docid\":\"a225ff7c-07a1-46de-b627-79fa80ea2815\",\"root_ids\":[\"1737\"],\"roots\":{\"1737\":\"c72faa4f-2de9-4dcc-bec6-6fbd9810a986\"}}];\n",
       "  root.Bokeh.embed.embed_items_notebook(docs_json, render_items);\n",
       "\n",
       "  }\n",
       "  if (root.Bokeh !== undefined) {\n",
       "    embed_document(root);\n",
       "  } else {\n",
       "    let attempts = 0;\n",
       "    const timer = setInterval(function(root) {\n",
       "      if (root.Bokeh !== undefined) {\n",
       "        clearInterval(timer);\n",
       "        embed_document(root);\n",
       "      } else {\n",
       "        attempts++;\n",
       "        if (attempts > 100) {\n",
       "          clearInterval(timer);\n",
       "          console.log(\"Bokeh: ERROR: Unable to run BokehJS code because BokehJS library is missing\");\n",
       "        }\n",
       "      }\n",
       "    }, 10, root)\n",
       "  }\n",
       "})(window);"
      ],
      "application/vnd.bokehjs_exec.v0+json": ""
     },
     "metadata": {
      "application/vnd.bokehjs_exec.v0+json": {
       "id": "1737"
      }
     },
     "output_type": "display_data"
    }
   ],
   "source": [
    "\n",
    "x = times['Year']\n",
    "y = times['#Accident']\n",
    "\n",
    "p = figure(title='Number of Accidents', width=800, height=500)\n",
    "p.yaxis.formatter = NumeralTickFormatter(format=\"0,0\")\n",
    "\n",
    "\n",
    "p.line(x, y)\n",
    "show(p)"
   ]
  },
  {
   "cell_type": "markdown",
   "id": "98e21a4f",
   "metadata": {},
   "source": [
    "## - Compare number of accedint in Day & Night"
   ]
  },
  {
   "cell_type": "code",
   "execution_count": 57,
   "id": "7ec789bd",
   "metadata": {},
   "outputs": [],
   "source": [
    "day_night = accident_df.Sunrise_Sunset\n",
    "day_night = accident_df.groupby([day_night]).count().sort_values(by = \"ID\").iloc[:,[0]]\n",
    "day_night = day_night.reset_index()"
   ]
  },
  {
   "cell_type": "code",
   "execution_count": 58,
   "id": "cc061be6",
   "metadata": {},
   "outputs": [
    {
     "data": {
      "text/html": [
       "<div>\n",
       "<style scoped>\n",
       "    .dataframe tbody tr th:only-of-type {\n",
       "        vertical-align: middle;\n",
       "    }\n",
       "\n",
       "    .dataframe tbody tr th {\n",
       "        vertical-align: top;\n",
       "    }\n",
       "\n",
       "    .dataframe thead th {\n",
       "        text-align: right;\n",
       "    }\n",
       "</style>\n",
       "<table border=\"1\" class=\"dataframe\">\n",
       "  <thead>\n",
       "    <tr style=\"text-align: right;\">\n",
       "      <th></th>\n",
       "      <th>Day/Night</th>\n",
       "      <th>#Accident</th>\n",
       "    </tr>\n",
       "  </thead>\n",
       "  <tbody>\n",
       "    <tr>\n",
       "      <th>0</th>\n",
       "      <td>Night</td>\n",
       "      <td>480572</td>\n",
       "    </tr>\n",
       "    <tr>\n",
       "      <th>1</th>\n",
       "      <td>Day</td>\n",
       "      <td>577782</td>\n",
       "    </tr>\n",
       "  </tbody>\n",
       "</table>\n",
       "</div>"
      ],
      "text/plain": [
       "  Day/Night  #Accident\n",
       "0     Night     480572\n",
       "1       Day     577782"
      ]
     },
     "execution_count": 58,
     "metadata": {},
     "output_type": "execute_result"
    }
   ],
   "source": [
    "# Change coloumn name\n",
    "day_night.rename(columns={'Sunrise_Sunset': 'Day/Night', 'ID': '#Accident'}, inplace=True)\n",
    "day_night"
   ]
  },
  {
   "cell_type": "code",
   "execution_count": 59,
   "id": "1300f7d3",
   "metadata": {},
   "outputs": [
    {
     "data": {
      "text/plain": [
       "Index(['Day/Night', '#Accident'], dtype='object')"
      ]
     },
     "execution_count": 59,
     "metadata": {},
     "output_type": "execute_result"
    }
   ],
   "source": [
    "day_night.columns"
   ]
  },
  {
   "cell_type": "code",
   "execution_count": 61,
   "id": "3bc4634c",
   "metadata": {},
   "outputs": [
    {
     "data": {
      "text/html": [
       "\n",
       "    <div class=\"bk-root\">\n",
       "        <a href=\"https://bokeh.org\" target=\"_blank\" class=\"bk-logo bk-logo-small bk-logo-notebook\"></a>\n",
       "        <span id=\"2033\">Loading BokehJS ...</span>\n",
       "    </div>"
      ]
     },
     "metadata": {},
     "output_type": "display_data"
    },
    {
     "data": {
      "application/javascript": [
       "\n",
       "(function(root) {\n",
       "  function now() {\n",
       "    return new Date();\n",
       "  }\n",
       "\n",
       "  const force = true;\n",
       "\n",
       "  if (typeof root._bokeh_onload_callbacks === \"undefined\" || force === true) {\n",
       "    root._bokeh_onload_callbacks = [];\n",
       "    root._bokeh_is_loading = undefined;\n",
       "  }\n",
       "\n",
       "  const JS_MIME_TYPE = 'application/javascript';\n",
       "  const HTML_MIME_TYPE = 'text/html';\n",
       "  const EXEC_MIME_TYPE = 'application/vnd.bokehjs_exec.v0+json';\n",
       "  const CLASS_NAME = 'output_bokeh rendered_html';\n",
       "\n",
       "  /**\n",
       "   * Render data to the DOM node\n",
       "   */\n",
       "  function render(props, node) {\n",
       "    const script = document.createElement(\"script\");\n",
       "    node.appendChild(script);\n",
       "  }\n",
       "\n",
       "  /**\n",
       "   * Handle when an output is cleared or removed\n",
       "   */\n",
       "  function handleClearOutput(event, handle) {\n",
       "    const cell = handle.cell;\n",
       "\n",
       "    const id = cell.output_area._bokeh_element_id;\n",
       "    const server_id = cell.output_area._bokeh_server_id;\n",
       "    // Clean up Bokeh references\n",
       "    if (id != null && id in Bokeh.index) {\n",
       "      Bokeh.index[id].model.document.clear();\n",
       "      delete Bokeh.index[id];\n",
       "    }\n",
       "\n",
       "    if (server_id !== undefined) {\n",
       "      // Clean up Bokeh references\n",
       "      const cmd_clean = \"from bokeh.io.state import curstate; print(curstate().uuid_to_server['\" + server_id + \"'].get_sessions()[0].document.roots[0]._id)\";\n",
       "      cell.notebook.kernel.execute(cmd_clean, {\n",
       "        iopub: {\n",
       "          output: function(msg) {\n",
       "            const id = msg.content.text.trim();\n",
       "            if (id in Bokeh.index) {\n",
       "              Bokeh.index[id].model.document.clear();\n",
       "              delete Bokeh.index[id];\n",
       "            }\n",
       "          }\n",
       "        }\n",
       "      });\n",
       "      // Destroy server and session\n",
       "      const cmd_destroy = \"import bokeh.io.notebook as ion; ion.destroy_server('\" + server_id + \"')\";\n",
       "      cell.notebook.kernel.execute(cmd_destroy);\n",
       "    }\n",
       "  }\n",
       "\n",
       "  /**\n",
       "   * Handle when a new output is added\n",
       "   */\n",
       "  function handleAddOutput(event, handle) {\n",
       "    const output_area = handle.output_area;\n",
       "    const output = handle.output;\n",
       "\n",
       "    // limit handleAddOutput to display_data with EXEC_MIME_TYPE content only\n",
       "    if ((output.output_type != \"display_data\") || (!Object.prototype.hasOwnProperty.call(output.data, EXEC_MIME_TYPE))) {\n",
       "      return\n",
       "    }\n",
       "\n",
       "    const toinsert = output_area.element.find(\".\" + CLASS_NAME.split(' ')[0]);\n",
       "\n",
       "    if (output.metadata[EXEC_MIME_TYPE][\"id\"] !== undefined) {\n",
       "      toinsert[toinsert.length - 1].firstChild.textContent = output.data[JS_MIME_TYPE];\n",
       "      // store reference to embed id on output_area\n",
       "      output_area._bokeh_element_id = output.metadata[EXEC_MIME_TYPE][\"id\"];\n",
       "    }\n",
       "    if (output.metadata[EXEC_MIME_TYPE][\"server_id\"] !== undefined) {\n",
       "      const bk_div = document.createElement(\"div\");\n",
       "      bk_div.innerHTML = output.data[HTML_MIME_TYPE];\n",
       "      const script_attrs = bk_div.children[0].attributes;\n",
       "      for (let i = 0; i < script_attrs.length; i++) {\n",
       "        toinsert[toinsert.length - 1].firstChild.setAttribute(script_attrs[i].name, script_attrs[i].value);\n",
       "        toinsert[toinsert.length - 1].firstChild.textContent = bk_div.children[0].textContent\n",
       "      }\n",
       "      // store reference to server id on output_area\n",
       "      output_area._bokeh_server_id = output.metadata[EXEC_MIME_TYPE][\"server_id\"];\n",
       "    }\n",
       "  }\n",
       "\n",
       "  function register_renderer(events, OutputArea) {\n",
       "\n",
       "    function append_mime(data, metadata, element) {\n",
       "      // create a DOM node to render to\n",
       "      const toinsert = this.create_output_subarea(\n",
       "        metadata,\n",
       "        CLASS_NAME,\n",
       "        EXEC_MIME_TYPE\n",
       "      );\n",
       "      this.keyboard_manager.register_events(toinsert);\n",
       "      // Render to node\n",
       "      const props = {data: data, metadata: metadata[EXEC_MIME_TYPE]};\n",
       "      render(props, toinsert[toinsert.length - 1]);\n",
       "      element.append(toinsert);\n",
       "      return toinsert\n",
       "    }\n",
       "\n",
       "    /* Handle when an output is cleared or removed */\n",
       "    events.on('clear_output.CodeCell', handleClearOutput);\n",
       "    events.on('delete.Cell', handleClearOutput);\n",
       "\n",
       "    /* Handle when a new output is added */\n",
       "    events.on('output_added.OutputArea', handleAddOutput);\n",
       "\n",
       "    /**\n",
       "     * Register the mime type and append_mime function with output_area\n",
       "     */\n",
       "    OutputArea.prototype.register_mime_type(EXEC_MIME_TYPE, append_mime, {\n",
       "      /* Is output safe? */\n",
       "      safe: true,\n",
       "      /* Index of renderer in `output_area.display_order` */\n",
       "      index: 0\n",
       "    });\n",
       "  }\n",
       "\n",
       "  // register the mime type if in Jupyter Notebook environment and previously unregistered\n",
       "  if (root.Jupyter !== undefined) {\n",
       "    const events = require('base/js/events');\n",
       "    const OutputArea = require('notebook/js/outputarea').OutputArea;\n",
       "\n",
       "    if (OutputArea.prototype.mime_types().indexOf(EXEC_MIME_TYPE) == -1) {\n",
       "      register_renderer(events, OutputArea);\n",
       "    }\n",
       "  }\n",
       "\n",
       "  \n",
       "  if (typeof (root._bokeh_timeout) === \"undefined\" || force === true) {\n",
       "    root._bokeh_timeout = Date.now() + 5000;\n",
       "    root._bokeh_failed_load = false;\n",
       "  }\n",
       "\n",
       "  const NB_LOAD_WARNING = {'data': {'text/html':\n",
       "     \"<div style='background-color: #fdd'>\\n\"+\n",
       "     \"<p>\\n\"+\n",
       "     \"BokehJS does not appear to have successfully loaded. If loading BokehJS from CDN, this \\n\"+\n",
       "     \"may be due to a slow or bad network connection. Possible fixes:\\n\"+\n",
       "     \"</p>\\n\"+\n",
       "     \"<ul>\\n\"+\n",
       "     \"<li>re-rerun `output_notebook()` to attempt to load from CDN again, or</li>\\n\"+\n",
       "     \"<li>use INLINE resources instead, as so:</li>\\n\"+\n",
       "     \"</ul>\\n\"+\n",
       "     \"<code>\\n\"+\n",
       "     \"from bokeh.resources import INLINE\\n\"+\n",
       "     \"output_notebook(resources=INLINE)\\n\"+\n",
       "     \"</code>\\n\"+\n",
       "     \"</div>\"}};\n",
       "\n",
       "  function display_loaded() {\n",
       "    const el = document.getElementById(\"2033\");\n",
       "    if (el != null) {\n",
       "      el.textContent = \"BokehJS is loading...\";\n",
       "    }\n",
       "    if (root.Bokeh !== undefined) {\n",
       "      if (el != null) {\n",
       "        el.textContent = \"BokehJS \" + root.Bokeh.version + \" successfully loaded.\";\n",
       "      }\n",
       "    } else if (Date.now() < root._bokeh_timeout) {\n",
       "      setTimeout(display_loaded, 100)\n",
       "    }\n",
       "  }\n",
       "\n",
       "\n",
       "  function run_callbacks() {\n",
       "    try {\n",
       "      root._bokeh_onload_callbacks.forEach(function(callback) {\n",
       "        if (callback != null)\n",
       "          callback();\n",
       "      });\n",
       "    } finally {\n",
       "      delete root._bokeh_onload_callbacks\n",
       "    }\n",
       "    console.debug(\"Bokeh: all callbacks have finished\");\n",
       "  }\n",
       "\n",
       "  function load_libs(css_urls, js_urls, callback) {\n",
       "    if (css_urls == null) css_urls = [];\n",
       "    if (js_urls == null) js_urls = [];\n",
       "\n",
       "    root._bokeh_onload_callbacks.push(callback);\n",
       "    if (root._bokeh_is_loading > 0) {\n",
       "      console.debug(\"Bokeh: BokehJS is being loaded, scheduling callback at\", now());\n",
       "      return null;\n",
       "    }\n",
       "    if (js_urls == null || js_urls.length === 0) {\n",
       "      run_callbacks();\n",
       "      return null;\n",
       "    }\n",
       "    console.debug(\"Bokeh: BokehJS not loaded, scheduling load and callback at\", now());\n",
       "    root._bokeh_is_loading = css_urls.length + js_urls.length;\n",
       "\n",
       "    function on_load() {\n",
       "      root._bokeh_is_loading--;\n",
       "      if (root._bokeh_is_loading === 0) {\n",
       "        console.debug(\"Bokeh: all BokehJS libraries/stylesheets loaded\");\n",
       "        run_callbacks()\n",
       "      }\n",
       "    }\n",
       "\n",
       "    function on_error(url) {\n",
       "      console.error(\"failed to load \" + url);\n",
       "    }\n",
       "\n",
       "    for (let i = 0; i < css_urls.length; i++) {\n",
       "      const url = css_urls[i];\n",
       "      const element = document.createElement(\"link\");\n",
       "      element.onload = on_load;\n",
       "      element.onerror = on_error.bind(null, url);\n",
       "      element.rel = \"stylesheet\";\n",
       "      element.type = \"text/css\";\n",
       "      element.href = url;\n",
       "      console.debug(\"Bokeh: injecting link tag for BokehJS stylesheet: \", url);\n",
       "      document.body.appendChild(element);\n",
       "    }\n",
       "\n",
       "    for (let i = 0; i < js_urls.length; i++) {\n",
       "      const url = js_urls[i];\n",
       "      const element = document.createElement('script');\n",
       "      element.onload = on_load;\n",
       "      element.onerror = on_error.bind(null, url);\n",
       "      element.async = false;\n",
       "      element.src = url;\n",
       "      console.debug(\"Bokeh: injecting script tag for BokehJS library: \", url);\n",
       "      document.head.appendChild(element);\n",
       "    }\n",
       "  };\n",
       "\n",
       "  function inject_raw_css(css) {\n",
       "    const element = document.createElement(\"style\");\n",
       "    element.appendChild(document.createTextNode(css));\n",
       "    document.body.appendChild(element);\n",
       "  }\n",
       "\n",
       "  \n",
       "  const js_urls = [\"https://cdn.bokeh.org/bokeh/release/bokeh-2.4.1.min.js\", \"https://cdn.bokeh.org/bokeh/release/bokeh-gl-2.4.1.min.js\", \"https://cdn.bokeh.org/bokeh/release/bokeh-widgets-2.4.1.min.js\", \"https://cdn.bokeh.org/bokeh/release/bokeh-tables-2.4.1.min.js\", \"https://cdn.bokeh.org/bokeh/release/bokeh-mathjax-2.4.1.min.js\"];\n",
       "  const css_urls = [];\n",
       "  \n",
       "\n",
       "  const inline_js = [\n",
       "    function(Bokeh) {\n",
       "      Bokeh.set_log_level(\"info\");\n",
       "    },\n",
       "    function(Bokeh) {\n",
       "    \n",
       "    \n",
       "    }\n",
       "  ];\n",
       "\n",
       "  function run_inline_js() {\n",
       "    \n",
       "    if (root.Bokeh !== undefined || force === true) {\n",
       "      \n",
       "    for (let i = 0; i < inline_js.length; i++) {\n",
       "      inline_js[i].call(root, root.Bokeh);\n",
       "    }\n",
       "    if (force === true) {\n",
       "        display_loaded();\n",
       "      }} else if (Date.now() < root._bokeh_timeout) {\n",
       "      setTimeout(run_inline_js, 100);\n",
       "    } else if (!root._bokeh_failed_load) {\n",
       "      console.log(\"Bokeh: BokehJS failed to load within specified timeout.\");\n",
       "      root._bokeh_failed_load = true;\n",
       "    } else if (force !== true) {\n",
       "      const cell = $(document.getElementById(\"2033\")).parents('.cell').data().cell;\n",
       "      cell.output_area.append_execute_result(NB_LOAD_WARNING)\n",
       "    }\n",
       "\n",
       "  }\n",
       "\n",
       "  if (root._bokeh_is_loading === 0) {\n",
       "    console.debug(\"Bokeh: BokehJS loaded, going straight to plotting\");\n",
       "    run_inline_js();\n",
       "  } else {\n",
       "    load_libs(css_urls, js_urls, function() {\n",
       "      console.debug(\"Bokeh: BokehJS plotting callback run at\", now());\n",
       "      run_inline_js();\n",
       "    });\n",
       "  }\n",
       "}(window));"
      ],
      "application/vnd.bokehjs_load.v0+json": "\n(function(root) {\n  function now() {\n    return new Date();\n  }\n\n  const force = true;\n\n  if (typeof root._bokeh_onload_callbacks === \"undefined\" || force === true) {\n    root._bokeh_onload_callbacks = [];\n    root._bokeh_is_loading = undefined;\n  }\n\n  \n\n  \n  if (typeof (root._bokeh_timeout) === \"undefined\" || force === true) {\n    root._bokeh_timeout = Date.now() + 5000;\n    root._bokeh_failed_load = false;\n  }\n\n  const NB_LOAD_WARNING = {'data': {'text/html':\n     \"<div style='background-color: #fdd'>\\n\"+\n     \"<p>\\n\"+\n     \"BokehJS does not appear to have successfully loaded. If loading BokehJS from CDN, this \\n\"+\n     \"may be due to a slow or bad network connection. Possible fixes:\\n\"+\n     \"</p>\\n\"+\n     \"<ul>\\n\"+\n     \"<li>re-rerun `output_notebook()` to attempt to load from CDN again, or</li>\\n\"+\n     \"<li>use INLINE resources instead, as so:</li>\\n\"+\n     \"</ul>\\n\"+\n     \"<code>\\n\"+\n     \"from bokeh.resources import INLINE\\n\"+\n     \"output_notebook(resources=INLINE)\\n\"+\n     \"</code>\\n\"+\n     \"</div>\"}};\n\n  function display_loaded() {\n    const el = document.getElementById(\"2033\");\n    if (el != null) {\n      el.textContent = \"BokehJS is loading...\";\n    }\n    if (root.Bokeh !== undefined) {\n      if (el != null) {\n        el.textContent = \"BokehJS \" + root.Bokeh.version + \" successfully loaded.\";\n      }\n    } else if (Date.now() < root._bokeh_timeout) {\n      setTimeout(display_loaded, 100)\n    }\n  }\n\n\n  function run_callbacks() {\n    try {\n      root._bokeh_onload_callbacks.forEach(function(callback) {\n        if (callback != null)\n          callback();\n      });\n    } finally {\n      delete root._bokeh_onload_callbacks\n    }\n    console.debug(\"Bokeh: all callbacks have finished\");\n  }\n\n  function load_libs(css_urls, js_urls, callback) {\n    if (css_urls == null) css_urls = [];\n    if (js_urls == null) js_urls = [];\n\n    root._bokeh_onload_callbacks.push(callback);\n    if (root._bokeh_is_loading > 0) {\n      console.debug(\"Bokeh: BokehJS is being loaded, scheduling callback at\", now());\n      return null;\n    }\n    if (js_urls == null || js_urls.length === 0) {\n      run_callbacks();\n      return null;\n    }\n    console.debug(\"Bokeh: BokehJS not loaded, scheduling load and callback at\", now());\n    root._bokeh_is_loading = css_urls.length + js_urls.length;\n\n    function on_load() {\n      root._bokeh_is_loading--;\n      if (root._bokeh_is_loading === 0) {\n        console.debug(\"Bokeh: all BokehJS libraries/stylesheets loaded\");\n        run_callbacks()\n      }\n    }\n\n    function on_error(url) {\n      console.error(\"failed to load \" + url);\n    }\n\n    for (let i = 0; i < css_urls.length; i++) {\n      const url = css_urls[i];\n      const element = document.createElement(\"link\");\n      element.onload = on_load;\n      element.onerror = on_error.bind(null, url);\n      element.rel = \"stylesheet\";\n      element.type = \"text/css\";\n      element.href = url;\n      console.debug(\"Bokeh: injecting link tag for BokehJS stylesheet: \", url);\n      document.body.appendChild(element);\n    }\n\n    for (let i = 0; i < js_urls.length; i++) {\n      const url = js_urls[i];\n      const element = document.createElement('script');\n      element.onload = on_load;\n      element.onerror = on_error.bind(null, url);\n      element.async = false;\n      element.src = url;\n      console.debug(\"Bokeh: injecting script tag for BokehJS library: \", url);\n      document.head.appendChild(element);\n    }\n  };\n\n  function inject_raw_css(css) {\n    const element = document.createElement(\"style\");\n    element.appendChild(document.createTextNode(css));\n    document.body.appendChild(element);\n  }\n\n  \n  const js_urls = [\"https://cdn.bokeh.org/bokeh/release/bokeh-2.4.1.min.js\", \"https://cdn.bokeh.org/bokeh/release/bokeh-gl-2.4.1.min.js\", \"https://cdn.bokeh.org/bokeh/release/bokeh-widgets-2.4.1.min.js\", \"https://cdn.bokeh.org/bokeh/release/bokeh-tables-2.4.1.min.js\", \"https://cdn.bokeh.org/bokeh/release/bokeh-mathjax-2.4.1.min.js\"];\n  const css_urls = [];\n  \n\n  const inline_js = [\n    function(Bokeh) {\n      Bokeh.set_log_level(\"info\");\n    },\n    function(Bokeh) {\n    \n    \n    }\n  ];\n\n  function run_inline_js() {\n    \n    if (root.Bokeh !== undefined || force === true) {\n      \n    for (let i = 0; i < inline_js.length; i++) {\n      inline_js[i].call(root, root.Bokeh);\n    }\n    if (force === true) {\n        display_loaded();\n      }} else if (Date.now() < root._bokeh_timeout) {\n      setTimeout(run_inline_js, 100);\n    } else if (!root._bokeh_failed_load) {\n      console.log(\"Bokeh: BokehJS failed to load within specified timeout.\");\n      root._bokeh_failed_load = true;\n    } else if (force !== true) {\n      const cell = $(document.getElementById(\"2033\")).parents('.cell').data().cell;\n      cell.output_area.append_execute_result(NB_LOAD_WARNING)\n    }\n\n  }\n\n  if (root._bokeh_is_loading === 0) {\n    console.debug(\"Bokeh: BokehJS loaded, going straight to plotting\");\n    run_inline_js();\n  } else {\n    load_libs(css_urls, js_urls, function() {\n      console.debug(\"Bokeh: BokehJS plotting callback run at\", now());\n      run_inline_js();\n    });\n  }\n}(window));"
     },
     "metadata": {},
     "output_type": "display_data"
    },
    {
     "data": {
      "text/html": [
       "\n",
       "\n",
       "\n",
       "\n",
       "\n",
       "\n",
       "  <div class=\"bk-root\" id=\"242ca82d-6845-4dfa-8706-f9aebf5d77c2\" data-root-id=\"2034\"></div>\n"
      ]
     },
     "metadata": {},
     "output_type": "display_data"
    },
    {
     "data": {
      "application/javascript": [
       "(function(root) {\n",
       "  function embed_document(root) {\n",
       "    \n",
       "  const docs_json = {\"762fcdcd-4006-4c73-ad46-61beb985689c\":{\"defs\":[],\"roots\":{\"references\":[{\"attributes\":{\"below\":[{\"id\":\"2045\"}],\"center\":[{\"id\":\"2047\"},{\"id\":\"2051\"}],\"height\":500,\"left\":[{\"id\":\"2048\"}],\"renderers\":[{\"id\":\"2059\"}],\"title\":{\"id\":\"2035\"},\"toolbar\":{\"id\":\"2052\"},\"toolbar_location\":null,\"width\":800,\"x_range\":{\"id\":\"2037\"},\"x_scale\":{\"id\":\"2041\"},\"y_range\":{\"id\":\"2039\"},\"y_scale\":{\"id\":\"2043\"}},\"id\":\"2034\",\"subtype\":\"Figure\",\"type\":\"Plot\"},{\"attributes\":{},\"id\":\"2052\",\"type\":\"Toolbar\"},{\"attributes\":{\"axis_label_standoff\":10,\"axis_label_text_color\":\"#5B5B5B\",\"axis_label_text_font\":\"Calibri Light\",\"axis_label_text_font_size\":\"1.15em\",\"axis_label_text_font_style\":\"bold\",\"axis_line_alpha\":1,\"axis_line_color\":\"#5B5B5B\",\"coordinates\":null,\"formatter\":{\"id\":\"2053\"},\"group\":null,\"major_label_policy\":{\"id\":\"2138\"},\"major_label_text_color\":\"#5B5B5B\",\"major_label_text_font\":\"Calibri Light\",\"major_label_text_font_size\":\"0.95em\",\"major_label_text_font_style\":\"bold\",\"major_tick_in\":0,\"major_tick_line_alpha\":0.25,\"major_tick_line_color\":\"#5B5B5B\",\"major_tick_out\":3,\"minor_tick_line_alpha\":0.25,\"minor_tick_line_color\":\"#5B5B5B\",\"ticker\":{\"id\":\"2049\"}},\"id\":\"2048\",\"type\":\"LinearAxis\"},{\"attributes\":{},\"id\":\"2142\",\"type\":\"UnionRenderers\"},{\"attributes\":{},\"id\":\"2138\",\"type\":\"AllLabels\"},{\"attributes\":{\"fill_color\":{\"value\":\"grey\"},\"hatch_color\":{\"value\":\"grey\"},\"line_color\":{\"value\":\"grey\"},\"top\":{\"field\":\"top\"},\"width\":{\"value\":0.5},\"x\":{\"field\":\"x\"}},\"id\":\"2056\",\"type\":\"VBar\"},{\"attributes\":{\"fill_alpha\":{\"value\":0.2},\"fill_color\":{\"value\":\"grey\"},\"hatch_alpha\":{\"value\":0.2},\"hatch_color\":{\"value\":\"grey\"},\"line_alpha\":{\"value\":0.2},\"line_color\":{\"value\":\"grey\"},\"top\":{\"field\":\"top\"},\"width\":{\"value\":0.5},\"x\":{\"field\":\"x\"}},\"id\":\"2058\",\"type\":\"VBar\"},{\"attributes\":{},\"id\":\"2053\",\"type\":\"NumeralTickFormatter\"},{\"attributes\":{\"fill_alpha\":{\"value\":0.1},\"fill_color\":{\"value\":\"grey\"},\"hatch_alpha\":{\"value\":0.1},\"hatch_color\":{\"value\":\"grey\"},\"line_alpha\":{\"value\":0.1},\"line_color\":{\"value\":\"grey\"},\"top\":{\"field\":\"top\"},\"width\":{\"value\":0.5},\"x\":{\"field\":\"x\"}},\"id\":\"2057\",\"type\":\"VBar\"},{\"attributes\":{\"start\":0},\"id\":\"2039\",\"type\":\"DataRange1d\"},{\"attributes\":{},\"id\":\"2041\",\"type\":\"CategoricalScale\"},{\"attributes\":{},\"id\":\"2043\",\"type\":\"LinearScale\"},{\"attributes\":{\"axis_label_standoff\":10,\"axis_label_text_color\":\"#5B5B5B\",\"axis_label_text_font\":\"Calibri Light\",\"axis_label_text_font_size\":\"1.15em\",\"axis_label_text_font_style\":\"bold\",\"axis_line_alpha\":1,\"axis_line_color\":\"#5B5B5B\",\"coordinates\":null,\"formatter\":{\"id\":\"2140\"},\"group\":null,\"major_label_policy\":{\"id\":\"2141\"},\"major_label_text_color\":\"#5B5B5B\",\"major_label_text_font\":\"Calibri Light\",\"major_label_text_font_size\":\"0.95em\",\"major_label_text_font_style\":\"bold\",\"major_tick_in\":0,\"major_tick_line_alpha\":0.25,\"major_tick_line_color\":\"#5B5B5B\",\"major_tick_out\":3,\"minor_tick_line_alpha\":0.25,\"minor_tick_line_color\":\"#5B5B5B\",\"ticker\":{\"id\":\"2046\"}},\"id\":\"2045\",\"type\":\"CategoricalAxis\"},{\"attributes\":{\"coordinates\":null,\"data_source\":{\"id\":\"2055\"},\"glyph\":{\"id\":\"2056\"},\"group\":null,\"hover_glyph\":null,\"muted_glyph\":{\"id\":\"2058\"},\"nonselection_glyph\":{\"id\":\"2057\"},\"view\":{\"id\":\"2060\"}},\"id\":\"2059\",\"type\":\"GlyphRenderer\"},{\"attributes\":{\"axis\":{\"id\":\"2045\"},\"coordinates\":null,\"grid_line_color\":null,\"group\":null,\"ticker\":null},\"id\":\"2047\",\"type\":\"Grid\"},{\"attributes\":{},\"id\":\"2143\",\"type\":\"Selection\"},{\"attributes\":{\"factors\":[\"Night\",\"Day\"]},\"id\":\"2037\",\"type\":\"FactorRange\"},{\"attributes\":{\"source\":{\"id\":\"2055\"}},\"id\":\"2060\",\"type\":\"CDSView\"},{\"attributes\":{},\"id\":\"2140\",\"type\":\"CategoricalTickFormatter\"},{\"attributes\":{\"axis\":{\"id\":\"2048\"},\"coordinates\":null,\"dimension\":1,\"group\":null,\"ticker\":null},\"id\":\"2051\",\"type\":\"Grid\"},{\"attributes\":{\"coordinates\":null,\"group\":null,\"text\":\"Number of accedint in Day & Night\",\"text_color\":\"#5B5B5B\",\"text_font\":\"Calibri Light\",\"text_font_size\":\"1.25em\",\"text_font_style\":\"bold\"},\"id\":\"2035\",\"type\":\"Title\"},{\"attributes\":{},\"id\":\"2141\",\"type\":\"AllLabels\"},{\"attributes\":{},\"id\":\"2046\",\"type\":\"CategoricalTicker\"},{\"attributes\":{\"data\":{\"top\":[480572,577782],\"x\":[\"Night\",\"Day\"]},\"selected\":{\"id\":\"2143\"},\"selection_policy\":{\"id\":\"2142\"}},\"id\":\"2055\",\"type\":\"ColumnDataSource\"},{\"attributes\":{},\"id\":\"2049\",\"type\":\"BasicTicker\"}],\"root_ids\":[\"2034\"]},\"title\":\"Bokeh Application\",\"version\":\"2.4.1\"}};\n",
       "  const render_items = [{\"docid\":\"762fcdcd-4006-4c73-ad46-61beb985689c\",\"root_ids\":[\"2034\"],\"roots\":{\"2034\":\"242ca82d-6845-4dfa-8706-f9aebf5d77c2\"}}];\n",
       "  root.Bokeh.embed.embed_items_notebook(docs_json, render_items);\n",
       "\n",
       "  }\n",
       "  if (root.Bokeh !== undefined) {\n",
       "    embed_document(root);\n",
       "  } else {\n",
       "    let attempts = 0;\n",
       "    const timer = setInterval(function(root) {\n",
       "      if (root.Bokeh !== undefined) {\n",
       "        clearInterval(timer);\n",
       "        embed_document(root);\n",
       "      } else {\n",
       "        attempts++;\n",
       "        if (attempts > 100) {\n",
       "          clearInterval(timer);\n",
       "          console.log(\"Bokeh: ERROR: Unable to run BokehJS code because BokehJS library is missing\");\n",
       "        }\n",
       "      }\n",
       "    }, 10, root)\n",
       "  }\n",
       "})(window);"
      ],
      "application/vnd.bokehjs_exec.v0+json": ""
     },
     "metadata": {
      "application/vnd.bokehjs_exec.v0+json": {
       "id": "2034"
      }
     },
     "output_type": "display_data"
    }
   ],
   "source": [
    "from bokeh.io import curdoc\n",
    "from bokeh.sampledata.autompg import autompg as df\n",
    "from bokeh.themes import built_in_themes\n",
    "output_notebook()\n",
    "\n",
    "x = day_night['Day/Night']\n",
    "y = day_night['#Accident']\n",
    "\n",
    "curdoc().theme = 'caliber'\n",
    "\n",
    "\n",
    "p = figure(x_range=x[:10],width=800, height=500, title=\"Number of accedint in Day & Night\" \n",
    "           ,toolbar_location=None, tools=\"\")\n",
    "\n",
    "p.yaxis.formatter = NumeralTickFormatter(format=\"0,0\")\n",
    "\n",
    "p.vbar(x=x, top=y, width=.5, color=\"grey\")\n",
    "\n",
    "p.xgrid.grid_line_color = None\n",
    "p.y_range.start = 0\n",
    "\n",
    "show(p)"
   ]
  },
  {
   "cell_type": "markdown",
   "id": "44d4f08b",
   "metadata": {},
   "source": [
    "## In which Side most of the accidents occurred "
   ]
  },
  {
   "cell_type": "code",
   "execution_count": 62,
   "id": "070c18dc",
   "metadata": {},
   "outputs": [],
   "source": [
    "side = accident_df.Side\n",
    "side=accident_df.groupby([side]).count().sort_values(by = \"ID\").iloc[:,[0]]\n",
    "side=side.reset_index()"
   ]
  },
  {
   "cell_type": "code",
   "execution_count": 63,
   "id": "1d28a9f7",
   "metadata": {},
   "outputs": [],
   "source": [
    "side.rename(columns={'ID': '#Accident'}, inplace=True)"
   ]
  },
  {
   "cell_type": "code",
   "execution_count": 64,
   "id": "b7e4027f",
   "metadata": {},
   "outputs": [
    {
     "data": {
      "text/html": [
       "<div>\n",
       "<style scoped>\n",
       "    .dataframe tbody tr th:only-of-type {\n",
       "        vertical-align: middle;\n",
       "    }\n",
       "\n",
       "    .dataframe tbody tr th {\n",
       "        vertical-align: top;\n",
       "    }\n",
       "\n",
       "    .dataframe thead th {\n",
       "        text-align: right;\n",
       "    }\n",
       "</style>\n",
       "<table border=\"1\" class=\"dataframe\">\n",
       "  <thead>\n",
       "    <tr style=\"text-align: right;\">\n",
       "      <th></th>\n",
       "      <th>Side</th>\n",
       "      <th>#Accident</th>\n",
       "    </tr>\n",
       "  </thead>\n",
       "  <tbody>\n",
       "    <tr>\n",
       "      <th>0</th>\n",
       "      <td>L</td>\n",
       "      <td>168373</td>\n",
       "    </tr>\n",
       "    <tr>\n",
       "      <th>1</th>\n",
       "      <td>R</td>\n",
       "      <td>889981</td>\n",
       "    </tr>\n",
       "  </tbody>\n",
       "</table>\n",
       "</div>"
      ],
      "text/plain": [
       "  Side  #Accident\n",
       "0    L     168373\n",
       "1    R     889981"
      ]
     },
     "execution_count": 64,
     "metadata": {},
     "output_type": "execute_result"
    }
   ],
   "source": [
    "side"
   ]
  },
  {
   "cell_type": "code",
   "execution_count": 65,
   "id": "65fdfbe9",
   "metadata": {},
   "outputs": [
    {
     "data": {
      "text/html": [
       "\n",
       "\n",
       "\n",
       "\n",
       "\n",
       "\n",
       "  <div class=\"bk-root\" id=\"7507b970-f480-45d8-9daf-52bc610ffafc\" data-root-id=\"2184\"></div>\n"
      ]
     },
     "metadata": {},
     "output_type": "display_data"
    },
    {
     "data": {
      "application/javascript": [
       "(function(root) {\n",
       "  function embed_document(root) {\n",
       "    \n",
       "  const docs_json = {\"90fce111-5f59-43d4-a644-6ccc6b84affb\":{\"defs\":[],\"roots\":{\"references\":[{\"attributes\":{\"below\":[{\"id\":\"2195\"}],\"center\":[{\"id\":\"2197\"},{\"id\":\"2201\"}],\"height\":500,\"left\":[{\"id\":\"2198\"}],\"renderers\":[{\"id\":\"2209\"}],\"title\":{\"id\":\"2185\"},\"toolbar\":{\"id\":\"2202\"},\"toolbar_location\":null,\"width\":800,\"x_range\":{\"id\":\"2187\"},\"x_scale\":{\"id\":\"2191\"},\"y_range\":{\"id\":\"2189\"},\"y_scale\":{\"id\":\"2193\"}},\"id\":\"2184\",\"subtype\":\"Figure\",\"type\":\"Plot\"},{\"attributes\":{\"fill_alpha\":{\"value\":0.1},\"fill_color\":{\"value\":\"#bababa\"},\"hatch_alpha\":{\"value\":0.1},\"hatch_color\":{\"value\":\"#bababa\"},\"line_alpha\":{\"value\":0.1},\"line_color\":{\"value\":\"#bababa\"},\"top\":{\"field\":\"top\"},\"width\":{\"value\":0.5},\"x\":{\"field\":\"x\"}},\"id\":\"2207\",\"type\":\"VBar\"},{\"attributes\":{\"coordinates\":null,\"data_source\":{\"id\":\"2205\"},\"glyph\":{\"id\":\"2206\"},\"group\":null,\"hover_glyph\":null,\"muted_glyph\":{\"id\":\"2208\"},\"nonselection_glyph\":{\"id\":\"2207\"},\"view\":{\"id\":\"2210\"}},\"id\":\"2209\",\"type\":\"GlyphRenderer\"},{\"attributes\":{\"factors\":[\"L\",\"R\"]},\"id\":\"2187\",\"type\":\"FactorRange\"},{\"attributes\":{},\"id\":\"2203\",\"type\":\"NumeralTickFormatter\"},{\"attributes\":{\"axis_label_standoff\":10,\"axis_label_text_color\":\"#5B5B5B\",\"axis_label_text_font\":\"Calibri Light\",\"axis_label_text_font_size\":\"1.15em\",\"axis_label_text_font_style\":\"bold\",\"axis_line_alpha\":1,\"axis_line_color\":\"#5B5B5B\",\"coordinates\":null,\"formatter\":{\"id\":\"2298\"},\"group\":null,\"major_label_policy\":{\"id\":\"2299\"},\"major_label_text_color\":\"#5B5B5B\",\"major_label_text_font\":\"Calibri Light\",\"major_label_text_font_size\":\"0.95em\",\"major_label_text_font_style\":\"bold\",\"major_tick_in\":0,\"major_tick_line_alpha\":0.25,\"major_tick_line_color\":\"#5B5B5B\",\"major_tick_out\":3,\"minor_tick_line_alpha\":0.25,\"minor_tick_line_color\":\"#5B5B5B\",\"ticker\":{\"id\":\"2196\"}},\"id\":\"2195\",\"type\":\"CategoricalAxis\"},{\"attributes\":{},\"id\":\"2298\",\"type\":\"CategoricalTickFormatter\"},{\"attributes\":{\"start\":0},\"id\":\"2189\",\"type\":\"DataRange1d\"},{\"attributes\":{\"coordinates\":null,\"group\":null,\"text\":\"Most accidents Side occurred \",\"text_color\":\"#5B5B5B\",\"text_font\":\"Calibri Light\",\"text_font_size\":\"1.25em\",\"text_font_style\":\"bold\"},\"id\":\"2185\",\"type\":\"Title\"},{\"attributes\":{\"data\":{\"top\":[168373,889981],\"x\":[\"L\",\"R\"]},\"selected\":{\"id\":\"2301\"},\"selection_policy\":{\"id\":\"2300\"}},\"id\":\"2205\",\"type\":\"ColumnDataSource\"},{\"attributes\":{},\"id\":\"2296\",\"type\":\"AllLabels\"},{\"attributes\":{},\"id\":\"2202\",\"type\":\"Toolbar\"},{\"attributes\":{\"axis\":{\"id\":\"2198\"},\"coordinates\":null,\"dimension\":1,\"group\":null,\"ticker\":null},\"id\":\"2201\",\"type\":\"Grid\"},{\"attributes\":{},\"id\":\"2299\",\"type\":\"AllLabels\"},{\"attributes\":{\"axis_label_standoff\":10,\"axis_label_text_color\":\"#5B5B5B\",\"axis_label_text_font\":\"Calibri Light\",\"axis_label_text_font_size\":\"1.15em\",\"axis_label_text_font_style\":\"bold\",\"axis_line_alpha\":1,\"axis_line_color\":\"#5B5B5B\",\"coordinates\":null,\"formatter\":{\"id\":\"2203\"},\"group\":null,\"major_label_policy\":{\"id\":\"2296\"},\"major_label_text_color\":\"#5B5B5B\",\"major_label_text_font\":\"Calibri Light\",\"major_label_text_font_size\":\"0.95em\",\"major_label_text_font_style\":\"bold\",\"major_tick_in\":0,\"major_tick_line_alpha\":0.25,\"major_tick_line_color\":\"#5B5B5B\",\"major_tick_out\":3,\"minor_tick_line_alpha\":0.25,\"minor_tick_line_color\":\"#5B5B5B\",\"ticker\":{\"id\":\"2199\"}},\"id\":\"2198\",\"type\":\"LinearAxis\"},{\"attributes\":{\"fill_color\":{\"value\":\"#bababa\"},\"hatch_color\":{\"value\":\"#bababa\"},\"line_color\":{\"value\":\"#bababa\"},\"top\":{\"field\":\"top\"},\"width\":{\"value\":0.5},\"x\":{\"field\":\"x\"}},\"id\":\"2206\",\"type\":\"VBar\"},{\"attributes\":{\"axis\":{\"id\":\"2195\"},\"coordinates\":null,\"grid_line_color\":null,\"group\":null,\"ticker\":null},\"id\":\"2197\",\"type\":\"Grid\"},{\"attributes\":{},\"id\":\"2196\",\"type\":\"CategoricalTicker\"},{\"attributes\":{},\"id\":\"2300\",\"type\":\"UnionRenderers\"},{\"attributes\":{},\"id\":\"2301\",\"type\":\"Selection\"},{\"attributes\":{},\"id\":\"2199\",\"type\":\"BasicTicker\"},{\"attributes\":{\"fill_alpha\":{\"value\":0.2},\"fill_color\":{\"value\":\"#bababa\"},\"hatch_alpha\":{\"value\":0.2},\"hatch_color\":{\"value\":\"#bababa\"},\"line_alpha\":{\"value\":0.2},\"line_color\":{\"value\":\"#bababa\"},\"top\":{\"field\":\"top\"},\"width\":{\"value\":0.5},\"x\":{\"field\":\"x\"}},\"id\":\"2208\",\"type\":\"VBar\"},{\"attributes\":{},\"id\":\"2193\",\"type\":\"LinearScale\"},{\"attributes\":{\"source\":{\"id\":\"2205\"}},\"id\":\"2210\",\"type\":\"CDSView\"},{\"attributes\":{},\"id\":\"2191\",\"type\":\"CategoricalScale\"}],\"root_ids\":[\"2184\"]},\"title\":\"Bokeh Application\",\"version\":\"2.4.1\"}};\n",
       "  const render_items = [{\"docid\":\"90fce111-5f59-43d4-a644-6ccc6b84affb\",\"root_ids\":[\"2184\"],\"roots\":{\"2184\":\"7507b970-f480-45d8-9daf-52bc610ffafc\"}}];\n",
       "  root.Bokeh.embed.embed_items_notebook(docs_json, render_items);\n",
       "\n",
       "  }\n",
       "  if (root.Bokeh !== undefined) {\n",
       "    embed_document(root);\n",
       "  } else {\n",
       "    let attempts = 0;\n",
       "    const timer = setInterval(function(root) {\n",
       "      if (root.Bokeh !== undefined) {\n",
       "        clearInterval(timer);\n",
       "        embed_document(root);\n",
       "      } else {\n",
       "        attempts++;\n",
       "        if (attempts > 100) {\n",
       "          clearInterval(timer);\n",
       "          console.log(\"Bokeh: ERROR: Unable to run BokehJS code because BokehJS library is missing\");\n",
       "        }\n",
       "      }\n",
       "    }, 10, root)\n",
       "  }\n",
       "})(window);"
      ],
      "application/vnd.bokehjs_exec.v0+json": ""
     },
     "metadata": {
      "application/vnd.bokehjs_exec.v0+json": {
       "id": "2184"
      }
     },
     "output_type": "display_data"
    }
   ],
   "source": [
    "x = side['Side']\n",
    "y = side['#Accident']\n",
    "\n",
    "\n",
    "curdoc().theme = 'caliber'\n",
    "\n",
    "\n",
    "p = figure(x_range=x[:10],width=800, height=500, title=\"Most accidents Side occurred \" \n",
    "           ,toolbar_location=None, tools=\"\")\n",
    "\n",
    "p.yaxis.formatter = NumeralTickFormatter(format=\"0,0\")\n",
    "\n",
    "p.vbar(x=x, top=y, width=.5, color=\"#bababa\")\n",
    "\n",
    "p.xgrid.grid_line_color = None\n",
    "p.y_range.start = 0\n",
    "\n",
    "show(p)"
   ]
  },
  {
   "cell_type": "markdown",
   "id": "951f052d",
   "metadata": {},
   "source": [
    "## - Compare number of accedint in severity"
   ]
  },
  {
   "cell_type": "code",
   "execution_count": 66,
   "id": "5ef063a3",
   "metadata": {},
   "outputs": [],
   "source": [
    "# How the severity of accedint affect \n",
    "\n",
    "severity = accident_df.Severity\n",
    "severity=accident_df.groupby([severity]).count().sort_values(by = \"ID\").iloc[:,[0]]\n",
    "severity=severity.reset_index()\n"
   ]
  },
  {
   "cell_type": "code",
   "execution_count": 67,
   "id": "54da13cc",
   "metadata": {},
   "outputs": [],
   "source": [
    "# Change coloumn name\n",
    "severity.rename(columns={'ID': '#Accident'}, inplace=True)\n",
    "#severity"
   ]
  },
  {
   "cell_type": "code",
   "execution_count": 69,
   "id": "5ef74ac5",
   "metadata": {},
   "outputs": [
    {
     "data": {
      "text/html": [
       "\n",
       "\n",
       "\n",
       "\n",
       "\n",
       "\n",
       "  <div class=\"bk-root\" id=\"28c9ebeb-055c-4dbf-ace5-10d4bb21c894\" data-root-id=\"2509\"></div>\n"
      ]
     },
     "metadata": {},
     "output_type": "display_data"
    },
    {
     "data": {
      "application/javascript": [
       "(function(root) {\n",
       "  function embed_document(root) {\n",
       "    \n",
       "  const docs_json = {\"7a9456a0-658e-4e1e-8409-180a8a49b22f\":{\"defs\":[],\"roots\":{\"references\":[{\"attributes\":{\"below\":[{\"id\":\"2520\"}],\"center\":[{\"id\":\"2523\"},{\"id\":\"2527\"}],\"height\":500,\"left\":[{\"id\":\"2524\"}],\"renderers\":[{\"id\":\"2535\"}],\"title\":{\"id\":\"2510\"},\"toolbar\":{\"id\":\"2528\"},\"toolbar_location\":null,\"width\":800,\"x_range\":{\"id\":\"2512\"},\"x_scale\":{\"id\":\"2516\"},\"y_range\":{\"id\":\"2514\"},\"y_scale\":{\"id\":\"2518\"}},\"id\":\"2509\",\"subtype\":\"Figure\",\"type\":\"Plot\"},{\"attributes\":{},\"id\":\"2518\",\"type\":\"LinearScale\"},{\"attributes\":{\"axis\":{\"id\":\"2520\"},\"coordinates\":null,\"grid_line_color\":null,\"group\":null,\"ticker\":null},\"id\":\"2523\",\"type\":\"Grid\"},{\"attributes\":{},\"id\":\"2521\",\"type\":\"BasicTicker\"},{\"attributes\":{\"axis_label_standoff\":10,\"axis_label_text_color\":\"#5B5B5B\",\"axis_label_text_font\":\"Calibri Light\",\"axis_label_text_font_size\":\"1.15em\",\"axis_label_text_font_style\":\"bold\",\"axis_line_alpha\":1,\"axis_line_color\":\"#5B5B5B\",\"coordinates\":null,\"formatter\":{\"id\":\"2640\"},\"group\":null,\"major_label_policy\":{\"id\":\"2641\"},\"major_label_text_color\":\"#5B5B5B\",\"major_label_text_font\":\"Calibri Light\",\"major_label_text_font_size\":\"0.95em\",\"major_label_text_font_style\":\"bold\",\"major_tick_in\":0,\"major_tick_line_alpha\":0.25,\"major_tick_line_color\":\"#5B5B5B\",\"major_tick_out\":3,\"minor_tick_line_alpha\":0.25,\"minor_tick_line_color\":\"#5B5B5B\",\"ticker\":{\"id\":\"2521\"}},\"id\":\"2520\",\"type\":\"LinearAxis\"},{\"attributes\":{\"coordinates\":null,\"data_source\":{\"id\":\"2531\"},\"glyph\":{\"id\":\"2532\"},\"group\":null,\"hover_glyph\":null,\"muted_glyph\":{\"id\":\"2534\"},\"nonselection_glyph\":{\"id\":\"2533\"},\"view\":{\"id\":\"2536\"}},\"id\":\"2535\",\"type\":\"GlyphRenderer\"},{\"attributes\":{},\"id\":\"2642\",\"type\":\"UnionRenderers\"},{\"attributes\":{\"axis_label_standoff\":10,\"axis_label_text_color\":\"#5B5B5B\",\"axis_label_text_font\":\"Calibri Light\",\"axis_label_text_font_size\":\"1.15em\",\"axis_label_text_font_style\":\"bold\",\"axis_line_alpha\":1,\"axis_line_color\":\"#5B5B5B\",\"coordinates\":null,\"formatter\":{\"id\":\"2529\"},\"group\":null,\"major_label_policy\":{\"id\":\"2638\"},\"major_label_text_color\":\"#5B5B5B\",\"major_label_text_font\":\"Calibri Light\",\"major_label_text_font_size\":\"0.95em\",\"major_label_text_font_style\":\"bold\",\"major_tick_in\":0,\"major_tick_line_alpha\":0.25,\"major_tick_line_color\":\"#5B5B5B\",\"major_tick_out\":3,\"minor_tick_line_alpha\":0.25,\"minor_tick_line_color\":\"#5B5B5B\",\"ticker\":{\"id\":\"2525\"}},\"id\":\"2524\",\"type\":\"LinearAxis\"},{\"attributes\":{\"fill_alpha\":{\"value\":0.2},\"fill_color\":{\"value\":\"grey\"},\"hatch_alpha\":{\"value\":0.2},\"hatch_color\":{\"value\":\"grey\"},\"line_alpha\":{\"value\":0.2},\"line_color\":{\"value\":\"grey\"},\"top\":{\"field\":\"top\"},\"width\":{\"value\":0.5},\"x\":{\"field\":\"x\"}},\"id\":\"2534\",\"type\":\"VBar\"},{\"attributes\":{\"axis\":{\"id\":\"2524\"},\"coordinates\":null,\"dimension\":1,\"group\":null,\"ticker\":null},\"id\":\"2527\",\"type\":\"Grid\"},{\"attributes\":{\"fill_alpha\":{\"value\":0.1},\"fill_color\":{\"value\":\"grey\"},\"hatch_alpha\":{\"value\":0.1},\"hatch_color\":{\"value\":\"grey\"},\"line_alpha\":{\"value\":0.1},\"line_color\":{\"value\":\"grey\"},\"top\":{\"field\":\"top\"},\"width\":{\"value\":0.5},\"x\":{\"field\":\"x\"}},\"id\":\"2533\",\"type\":\"VBar\"},{\"attributes\":{},\"id\":\"2528\",\"type\":\"Toolbar\"},{\"attributes\":{},\"id\":\"2529\",\"type\":\"NumeralTickFormatter\"},{\"attributes\":{\"data\":{\"top\":[27574,59854,84715,886211],\"x\":{\"__ndarray__\":\"AAAAAAAA8D8AAAAAAAAQQAAAAAAAAAhAAAAAAAAAAEA=\",\"dtype\":\"float64\",\"order\":\"little\",\"shape\":[4]}},\"selected\":{\"id\":\"2643\"},\"selection_policy\":{\"id\":\"2642\"}},\"id\":\"2531\",\"type\":\"ColumnDataSource\"},{\"attributes\":{},\"id\":\"2641\",\"type\":\"AllLabels\"},{\"attributes\":{},\"id\":\"2516\",\"type\":\"LinearScale\"},{\"attributes\":{},\"id\":\"2643\",\"type\":\"Selection\"},{\"attributes\":{},\"id\":\"2640\",\"type\":\"BasicTickFormatter\"},{\"attributes\":{\"fill_color\":{\"value\":\"grey\"},\"hatch_color\":{\"value\":\"grey\"},\"line_color\":{\"value\":\"grey\"},\"top\":{\"field\":\"top\"},\"width\":{\"value\":0.5},\"x\":{\"field\":\"x\"}},\"id\":\"2532\",\"type\":\"VBar\"},{\"attributes\":{},\"id\":\"2512\",\"type\":\"DataRange1d\"},{\"attributes\":{\"coordinates\":null,\"group\":null,\"text_color\":\"#5B5B5B\",\"text_font\":\"Calibri Light\",\"text_font_size\":\"1.25em\",\"text_font_style\":\"bold\"},\"id\":\"2510\",\"type\":\"Title\"},{\"attributes\":{\"start\":0},\"id\":\"2514\",\"type\":\"DataRange1d\"},{\"attributes\":{\"source\":{\"id\":\"2531\"}},\"id\":\"2536\",\"type\":\"CDSView\"},{\"attributes\":{},\"id\":\"2638\",\"type\":\"AllLabels\"},{\"attributes\":{},\"id\":\"2525\",\"type\":\"BasicTicker\"}],\"root_ids\":[\"2509\"]},\"title\":\"Bokeh Application\",\"version\":\"2.4.1\"}};\n",
       "  const render_items = [{\"docid\":\"7a9456a0-658e-4e1e-8409-180a8a49b22f\",\"root_ids\":[\"2509\"],\"roots\":{\"2509\":\"28c9ebeb-055c-4dbf-ace5-10d4bb21c894\"}}];\n",
       "  root.Bokeh.embed.embed_items_notebook(docs_json, render_items);\n",
       "\n",
       "  }\n",
       "  if (root.Bokeh !== undefined) {\n",
       "    embed_document(root);\n",
       "  } else {\n",
       "    let attempts = 0;\n",
       "    const timer = setInterval(function(root) {\n",
       "      if (root.Bokeh !== undefined) {\n",
       "        clearInterval(timer);\n",
       "        embed_document(root);\n",
       "      } else {\n",
       "        attempts++;\n",
       "        if (attempts > 100) {\n",
       "          clearInterval(timer);\n",
       "          console.log(\"Bokeh: ERROR: Unable to run BokehJS code because BokehJS library is missing\");\n",
       "        }\n",
       "      }\n",
       "    }, 10, root)\n",
       "  }\n",
       "})(window);"
      ],
      "application/vnd.bokehjs_exec.v0+json": ""
     },
     "metadata": {
      "application/vnd.bokehjs_exec.v0+json": {
       "id": "2509"
      }
     },
     "output_type": "display_data"
    }
   ],
   "source": [
    "\n",
    "x = severity['Severity']\n",
    "y = severity['#Accident']\n",
    "\n",
    "curdoc().theme = 'caliber'\n",
    "\n",
    "\n",
    "p = figure(width=800, height=500, title=\"\" \n",
    "           ,toolbar_location=None, tools=\"\")\n",
    "p.yaxis.formatter = NumeralTickFormatter(format=\"0,0\")\n",
    "\n",
    "\n",
    "p.vbar(x=x, top=y, width=.5, color=\"grey\")\n",
    "\n",
    "p.xgrid.grid_line_color = None\n",
    "p.y_range.start = 0\n",
    "\n",
    "show(p)"
   ]
  },
  {
   "cell_type": "markdown",
   "id": "3c6446d7",
   "metadata": {},
   "source": [
    "## - Show the severity of the accidents during the day or night"
   ]
  },
  {
   "cell_type": "code",
   "execution_count": 70,
   "id": "cb72af58",
   "metadata": {},
   "outputs": [],
   "source": [
    "day_severity = accident_df.groupby(['Severity', 'Sunrise_Sunset'] ).count().sort_values(by = \"ID\" ,ascending = False).iloc[:,[0]]\n",
    "day_severity = day_severity.reset_index()"
   ]
  },
  {
   "cell_type": "code",
   "execution_count": 71,
   "id": "48d36cfe",
   "metadata": {},
   "outputs": [
    {
     "data": {
      "text/html": [
       "<div>\n",
       "<style scoped>\n",
       "    .dataframe tbody tr th:only-of-type {\n",
       "        vertical-align: middle;\n",
       "    }\n",
       "\n",
       "    .dataframe tbody tr th {\n",
       "        vertical-align: top;\n",
       "    }\n",
       "\n",
       "    .dataframe thead th {\n",
       "        text-align: right;\n",
       "    }\n",
       "</style>\n",
       "<table border=\"1\" class=\"dataframe\">\n",
       "  <thead>\n",
       "    <tr style=\"text-align: right;\">\n",
       "      <th></th>\n",
       "      <th>Severity</th>\n",
       "      <th>Day/Night</th>\n",
       "      <th>#Accident</th>\n",
       "    </tr>\n",
       "  </thead>\n",
       "  <tbody>\n",
       "    <tr>\n",
       "      <th>0</th>\n",
       "      <td>2.0</td>\n",
       "      <td>Day</td>\n",
       "      <td>461013</td>\n",
       "    </tr>\n",
       "    <tr>\n",
       "      <th>1</th>\n",
       "      <td>2.0</td>\n",
       "      <td>Night</td>\n",
       "      <td>425198</td>\n",
       "    </tr>\n",
       "    <tr>\n",
       "      <th>2</th>\n",
       "      <td>3.0</td>\n",
       "      <td>Day</td>\n",
       "      <td>59702</td>\n",
       "    </tr>\n",
       "    <tr>\n",
       "      <th>3</th>\n",
       "      <td>4.0</td>\n",
       "      <td>Day</td>\n",
       "      <td>34165</td>\n",
       "    </tr>\n",
       "    <tr>\n",
       "      <th>4</th>\n",
       "      <td>4.0</td>\n",
       "      <td>Night</td>\n",
       "      <td>25689</td>\n",
       "    </tr>\n",
       "    <tr>\n",
       "      <th>5</th>\n",
       "      <td>3.0</td>\n",
       "      <td>Night</td>\n",
       "      <td>25013</td>\n",
       "    </tr>\n",
       "    <tr>\n",
       "      <th>6</th>\n",
       "      <td>1.0</td>\n",
       "      <td>Day</td>\n",
       "      <td>22902</td>\n",
       "    </tr>\n",
       "    <tr>\n",
       "      <th>7</th>\n",
       "      <td>1.0</td>\n",
       "      <td>Night</td>\n",
       "      <td>4672</td>\n",
       "    </tr>\n",
       "  </tbody>\n",
       "</table>\n",
       "</div>"
      ],
      "text/plain": [
       "   Severity Day/Night  #Accident\n",
       "0       2.0       Day     461013\n",
       "1       2.0     Night     425198\n",
       "2       3.0       Day      59702\n",
       "3       4.0       Day      34165\n",
       "4       4.0     Night      25689\n",
       "5       3.0     Night      25013\n",
       "6       1.0       Day      22902\n",
       "7       1.0     Night       4672"
      ]
     },
     "execution_count": 71,
     "metadata": {},
     "output_type": "execute_result"
    }
   ],
   "source": [
    "# Change coloumn name\n",
    "day_severity.rename(columns={'Sunrise_Sunset': 'Day/Night', 'ID': '#Accident'}, inplace=True)\n",
    "day_severity"
   ]
  },
  {
   "cell_type": "markdown",
   "id": "57b03ceb",
   "metadata": {},
   "source": [
    "## - Average Accedints Sevrity by ever state"
   ]
  },
  {
   "cell_type": "code",
   "execution_count": 72,
   "id": "c587f5c8",
   "metadata": {},
   "outputs": [
    {
     "name": "stderr",
     "output_type": "stream",
     "text": [
      "/Users/raneem/opt/anaconda3/lib/python3.9/site-packages/seaborn/categorical.py:3717: UserWarning:\n",
      "\n",
      "The `factorplot` function has been renamed to `catplot`. The original name will be removed in a future release. Please update your code. Note that the default `kind` in `factorplot` (`'point'`) has changed `'strip'` in `catplot`.\n",
      "\n",
      "/Users/raneem/opt/anaconda3/lib/python3.9/site-packages/seaborn/_decorators.py:36: FutureWarning:\n",
      "\n",
      "Pass the following variables as keyword args: x, y. From version 0.12, the only valid positional argument will be `data`, and passing other arguments without an explicit keyword will result in an error or misinterpretation.\n",
      "\n"
     ]
    },
    {
     "data": {
      "image/png": "[encoded data removed]",
      "text/plain": [
       "<Figure size 1080x360 with 1 Axes>"
      ]
     },
     "metadata": {
      "needs_background": "light"
     },
     "output_type": "display_data"
    }
   ],
   "source": [
    "import matplotlib.pyplot as plt\n",
    "\n",
    "\n",
    "sns.factorplot('State','Severity', data=accident_df)\n",
    "fig=plt.gcf()\n",
    "fig.set_size_inches(15,5)\n",
    "\n",
    "\n",
    "plt.show()"
   ]
  },
  {
   "cell_type": "code",
   "execution_count": 73,
   "id": "e1c4a6f0",
   "metadata": {},
   "outputs": [],
   "source": [
    "state_severity = accident_df['State'] ,['Severity']\n",
    "state_severity=accident_df.groupby(['State' ,'Severity']).count().sort_values(by = \"ID\" ,ascending=False).iloc[:,[0]]\n",
    "state_severity=state_severity.reset_index()"
   ]
  },
  {
   "cell_type": "code",
   "execution_count": 74,
   "id": "d95d778a",
   "metadata": {},
   "outputs": [
    {
     "data": {
      "text/html": [
       "<div>\n",
       "<style scoped>\n",
       "    .dataframe tbody tr th:only-of-type {\n",
       "        vertical-align: middle;\n",
       "    }\n",
       "\n",
       "    .dataframe tbody tr th {\n",
       "        vertical-align: top;\n",
       "    }\n",
       "\n",
       "    .dataframe thead th {\n",
       "        text-align: right;\n",
       "    }\n",
       "</style>\n",
       "<table border=\"1\" class=\"dataframe\">\n",
       "  <thead>\n",
       "    <tr style=\"text-align: right;\">\n",
       "      <th></th>\n",
       "      <th>State</th>\n",
       "      <th>Severity</th>\n",
       "      <th>ID</th>\n",
       "    </tr>\n",
       "  </thead>\n",
       "  <tbody>\n",
       "    <tr>\n",
       "      <th>31</th>\n",
       "      <td>NY</td>\n",
       "      <td>4.0</td>\n",
       "      <td>4487</td>\n",
       "    </tr>\n",
       "    <tr>\n",
       "      <th>35</th>\n",
       "      <td>PA</td>\n",
       "      <td>4.0</td>\n",
       "      <td>3813</td>\n",
       "    </tr>\n",
       "    <tr>\n",
       "      <th>36</th>\n",
       "      <td>FL</td>\n",
       "      <td>4.0</td>\n",
       "      <td>3725</td>\n",
       "    </tr>\n",
       "    <tr>\n",
       "      <th>37</th>\n",
       "      <td>CA</td>\n",
       "      <td>4.0</td>\n",
       "      <td>3635</td>\n",
       "    </tr>\n",
       "    <tr>\n",
       "      <th>38</th>\n",
       "      <td>MI</td>\n",
       "      <td>4.0</td>\n",
       "      <td>3309</td>\n",
       "    </tr>\n",
       "    <tr>\n",
       "      <th>39</th>\n",
       "      <td>MD</td>\n",
       "      <td>4.0</td>\n",
       "      <td>3175</td>\n",
       "    </tr>\n",
       "    <tr>\n",
       "      <th>40</th>\n",
       "      <td>GA</td>\n",
       "      <td>4.0</td>\n",
       "      <td>3105</td>\n",
       "    </tr>\n",
       "    <tr>\n",
       "      <th>42</th>\n",
       "      <td>VA</td>\n",
       "      <td>4.0</td>\n",
       "      <td>3054</td>\n",
       "    </tr>\n",
       "    <tr>\n",
       "      <th>51</th>\n",
       "      <td>OR</td>\n",
       "      <td>4.0</td>\n",
       "      <td>2539</td>\n",
       "    </tr>\n",
       "    <tr>\n",
       "      <th>57</th>\n",
       "      <td>CO</td>\n",
       "      <td>4.0</td>\n",
       "      <td>2276</td>\n",
       "    </tr>\n",
       "    <tr>\n",
       "      <th>58</th>\n",
       "      <td>OH</td>\n",
       "      <td>4.0</td>\n",
       "      <td>2220</td>\n",
       "    </tr>\n",
       "    <tr>\n",
       "      <th>60</th>\n",
       "      <td>NJ</td>\n",
       "      <td>4.0</td>\n",
       "      <td>2170</td>\n",
       "    </tr>\n",
       "    <tr>\n",
       "      <th>64</th>\n",
       "      <td>TX</td>\n",
       "      <td>4.0</td>\n",
       "      <td>2058</td>\n",
       "    </tr>\n",
       "    <tr>\n",
       "      <th>66</th>\n",
       "      <td>IL</td>\n",
       "      <td>4.0</td>\n",
       "      <td>2000</td>\n",
       "    </tr>\n",
       "    <tr>\n",
       "      <th>69</th>\n",
       "      <td>NC</td>\n",
       "      <td>4.0</td>\n",
       "      <td>1917</td>\n",
       "    </tr>\n",
       "    <tr>\n",
       "      <th>73</th>\n",
       "      <td>WA</td>\n",
       "      <td>4.0</td>\n",
       "      <td>1697</td>\n",
       "    </tr>\n",
       "    <tr>\n",
       "      <th>79</th>\n",
       "      <td>IN</td>\n",
       "      <td>4.0</td>\n",
       "      <td>1565</td>\n",
       "    </tr>\n",
       "    <tr>\n",
       "      <th>80</th>\n",
       "      <td>WI</td>\n",
       "      <td>4.0</td>\n",
       "      <td>1533</td>\n",
       "    </tr>\n",
       "    <tr>\n",
       "      <th>81</th>\n",
       "      <td>CT</td>\n",
       "      <td>4.0</td>\n",
       "      <td>1456</td>\n",
       "    </tr>\n",
       "    <tr>\n",
       "      <th>83</th>\n",
       "      <td>AZ</td>\n",
       "      <td>4.0</td>\n",
       "      <td>1395</td>\n",
       "    </tr>\n",
       "    <tr>\n",
       "      <th>95</th>\n",
       "      <td>MO</td>\n",
       "      <td>4.0</td>\n",
       "      <td>814</td>\n",
       "    </tr>\n",
       "    <tr>\n",
       "      <th>98</th>\n",
       "      <td>TN</td>\n",
       "      <td>4.0</td>\n",
       "      <td>764</td>\n",
       "    </tr>\n",
       "    <tr>\n",
       "      <th>99</th>\n",
       "      <td>UT</td>\n",
       "      <td>4.0</td>\n",
       "      <td>750</td>\n",
       "    </tr>\n",
       "    <tr>\n",
       "      <th>100</th>\n",
       "      <td>IA</td>\n",
       "      <td>4.0</td>\n",
       "      <td>727</td>\n",
       "    </tr>\n",
       "    <tr>\n",
       "      <th>103</th>\n",
       "      <td>SC</td>\n",
       "      <td>4.0</td>\n",
       "      <td>688</td>\n",
       "    </tr>\n",
       "    <tr>\n",
       "      <th>107</th>\n",
       "      <td>LA</td>\n",
       "      <td>4.0</td>\n",
       "      <td>577</td>\n",
       "    </tr>\n",
       "    <tr>\n",
       "      <th>108</th>\n",
       "      <td>DE</td>\n",
       "      <td>4.0</td>\n",
       "      <td>514</td>\n",
       "    </tr>\n",
       "    <tr>\n",
       "      <th>114</th>\n",
       "      <td>DC</td>\n",
       "      <td>4.0</td>\n",
       "      <td>459</td>\n",
       "    </tr>\n",
       "    <tr>\n",
       "      <th>116</th>\n",
       "      <td>AR</td>\n",
       "      <td>4.0</td>\n",
       "      <td>416</td>\n",
       "    </tr>\n",
       "    <tr>\n",
       "      <th>123</th>\n",
       "      <td>AL</td>\n",
       "      <td>4.0</td>\n",
       "      <td>318</td>\n",
       "    </tr>\n",
       "    <tr>\n",
       "      <th>124</th>\n",
       "      <td>MN</td>\n",
       "      <td>4.0</td>\n",
       "      <td>304</td>\n",
       "    </tr>\n",
       "    <tr>\n",
       "      <th>125</th>\n",
       "      <td>KY</td>\n",
       "      <td>4.0</td>\n",
       "      <td>281</td>\n",
       "    </tr>\n",
       "    <tr>\n",
       "      <th>128</th>\n",
       "      <td>MA</td>\n",
       "      <td>4.0</td>\n",
       "      <td>253</td>\n",
       "    </tr>\n",
       "    <tr>\n",
       "      <th>132</th>\n",
       "      <td>KS</td>\n",
       "      <td>4.0</td>\n",
       "      <td>210</td>\n",
       "    </tr>\n",
       "    <tr>\n",
       "      <th>134</th>\n",
       "      <td>ID</td>\n",
       "      <td>4.0</td>\n",
       "      <td>206</td>\n",
       "    </tr>\n",
       "    <tr>\n",
       "      <th>135</th>\n",
       "      <td>NM</td>\n",
       "      <td>4.0</td>\n",
       "      <td>196</td>\n",
       "    </tr>\n",
       "    <tr>\n",
       "      <th>136</th>\n",
       "      <td>WV</td>\n",
       "      <td>4.0</td>\n",
       "      <td>185</td>\n",
       "    </tr>\n",
       "    <tr>\n",
       "      <th>137</th>\n",
       "      <td>NE</td>\n",
       "      <td>4.0</td>\n",
       "      <td>180</td>\n",
       "    </tr>\n",
       "    <tr>\n",
       "      <th>141</th>\n",
       "      <td>NV</td>\n",
       "      <td>4.0</td>\n",
       "      <td>164</td>\n",
       "    </tr>\n",
       "    <tr>\n",
       "      <th>143</th>\n",
       "      <td>WY</td>\n",
       "      <td>4.0</td>\n",
       "      <td>131</td>\n",
       "    </tr>\n",
       "    <tr>\n",
       "      <th>144</th>\n",
       "      <td>OK</td>\n",
       "      <td>4.0</td>\n",
       "      <td>131</td>\n",
       "    </tr>\n",
       "    <tr>\n",
       "      <th>145</th>\n",
       "      <td>MS</td>\n",
       "      <td>4.0</td>\n",
       "      <td>130</td>\n",
       "    </tr>\n",
       "    <tr>\n",
       "      <th>154</th>\n",
       "      <td>NH</td>\n",
       "      <td>4.0</td>\n",
       "      <td>69</td>\n",
       "    </tr>\n",
       "    <tr>\n",
       "      <th>155</th>\n",
       "      <td>MT</td>\n",
       "      <td>4.0</td>\n",
       "      <td>69</td>\n",
       "    </tr>\n",
       "    <tr>\n",
       "      <th>157</th>\n",
       "      <td>RI</td>\n",
       "      <td>4.0</td>\n",
       "      <td>62</td>\n",
       "    </tr>\n",
       "    <tr>\n",
       "      <th>163</th>\n",
       "      <td>ME</td>\n",
       "      <td>4.0</td>\n",
       "      <td>48</td>\n",
       "    </tr>\n",
       "    <tr>\n",
       "      <th>166</th>\n",
       "      <td>VT</td>\n",
       "      <td>4.0</td>\n",
       "      <td>38</td>\n",
       "    </tr>\n",
       "    <tr>\n",
       "      <th>169</th>\n",
       "      <td>SD</td>\n",
       "      <td>4.0</td>\n",
       "      <td>33</td>\n",
       "    </tr>\n",
       "    <tr>\n",
       "      <th>177</th>\n",
       "      <td>ND</td>\n",
       "      <td>4.0</td>\n",
       "      <td>8</td>\n",
       "    </tr>\n",
       "  </tbody>\n",
       "</table>\n",
       "</div>"
      ],
      "text/plain": [
       "    State  Severity    ID\n",
       "31     NY       4.0  4487\n",
       "35     PA       4.0  3813\n",
       "36     FL       4.0  3725\n",
       "37     CA       4.0  3635\n",
       "38     MI       4.0  3309\n",
       "39     MD       4.0  3175\n",
       "40     GA       4.0  3105\n",
       "42     VA       4.0  3054\n",
       "51     OR       4.0  2539\n",
       "57     CO       4.0  2276\n",
       "58     OH       4.0  2220\n",
       "60     NJ       4.0  2170\n",
       "64     TX       4.0  2058\n",
       "66     IL       4.0  2000\n",
       "69     NC       4.0  1917\n",
       "73     WA       4.0  1697\n",
       "79     IN       4.0  1565\n",
       "80     WI       4.0  1533\n",
       "81     CT       4.0  1456\n",
       "83     AZ       4.0  1395\n",
       "95     MO       4.0   814\n",
       "98     TN       4.0   764\n",
       "99     UT       4.0   750\n",
       "100    IA       4.0   727\n",
       "103    SC       4.0   688\n",
       "107    LA       4.0   577\n",
       "108    DE       4.0   514\n",
       "114    DC       4.0   459\n",
       "116    AR       4.0   416\n",
       "123    AL       4.0   318\n",
       "124    MN       4.0   304\n",
       "125    KY       4.0   281\n",
       "128    MA       4.0   253\n",
       "132    KS       4.0   210\n",
       "134    ID       4.0   206\n",
       "135    NM       4.0   196\n",
       "136    WV       4.0   185\n",
       "137    NE       4.0   180\n",
       "141    NV       4.0   164\n",
       "143    WY       4.0   131\n",
       "144    OK       4.0   131\n",
       "145    MS       4.0   130\n",
       "154    NH       4.0    69\n",
       "155    MT       4.0    69\n",
       "157    RI       4.0    62\n",
       "163    ME       4.0    48\n",
       "166    VT       4.0    38\n",
       "169    SD       4.0    33\n",
       "177    ND       4.0     8"
      ]
     },
     "execution_count": 74,
     "metadata": {},
     "output_type": "execute_result"
    }
   ],
   "source": [
    "state_severity.loc[state_severity['Severity']==4]"
   ]
  },
  {
   "cell_type": "markdown",
   "id": "2912e651",
   "metadata": {},
   "source": [
    "## - Weather Condition Affecte"
   ]
  },
  {
   "cell_type": "code",
   "execution_count": 75,
   "id": "20178a08",
   "metadata": {},
   "outputs": [],
   "source": [
    "wheather = accident_df.Weather_Condition\n",
    "wheather = accident_df.groupby([wheather]).count().sort_values(by = \"ID\", ascending=False).iloc[:,[0]]\n",
    "wheather = wheather.reset_index()\n",
    "# wheather.head()"
   ]
  },
  {
   "cell_type": "code",
   "execution_count": 76,
   "id": "a3d1f5d4",
   "metadata": {},
   "outputs": [],
   "source": [
    "wheather.rename(columns={'ID': '#Accident'}, inplace=True)\n",
    "# wheather.head()"
   ]
  },
  {
   "cell_type": "code",
   "execution_count": 77,
   "id": "a39bcc34",
   "metadata": {},
   "outputs": [
    {
     "data": {
      "text/html": [
       "\n",
       "\n",
       "\n",
       "\n",
       "\n",
       "\n",
       "  <div class=\"bk-root\" id=\"94364ae0-b8fe-486d-8a8b-3e0fddc25398\" data-root-id=\"2684\"></div>\n"
      ]
     },
     "metadata": {},
     "output_type": "display_data"
    },
    {
     "data": {
      "application/javascript": [
       "(function(root) {\n",
       "  function embed_document(root) {\n",
       "    \n",
       "  const docs_json = {\"ea6c7bbc-85e9-4b17-981d-7e41065a31d9\":{\"defs\":[],\"roots\":{\"references\":[{\"attributes\":{\"below\":[{\"id\":\"2695\"}],\"center\":[{\"id\":\"2697\"},{\"id\":\"2701\"}],\"height\":500,\"left\":[{\"id\":\"2698\"}],\"renderers\":[{\"id\":\"2709\"}],\"title\":{\"id\":\"2685\"},\"toolbar\":{\"id\":\"2702\"},\"toolbar_location\":null,\"width\":800,\"x_range\":{\"id\":\"2687\"},\"x_scale\":{\"id\":\"2691\"},\"y_range\":{\"id\":\"2689\"},\"y_scale\":{\"id\":\"2693\"}},\"id\":\"2684\",\"subtype\":\"Figure\",\"type\":\"Plot\"},{\"attributes\":{\"source\":{\"id\":\"2705\"}},\"id\":\"2710\",\"type\":\"CDSView\"},{\"attributes\":{\"factors\":[\"Fair\",\"Cloudy\",\"Mostly Cloudy\",\"Partly Cloudy\",\"Light Rain\",\"Overcast\",\"Clear\",\"Light Snow\",\"Fog\",\"Rain\"]},\"id\":\"2687\",\"type\":\"FactorRange\"},{\"attributes\":{},\"id\":\"2822\",\"type\":\"CategoricalTickFormatter\"},{\"attributes\":{},\"id\":\"2825\",\"type\":\"Selection\"},{\"attributes\":{\"fill_color\":{\"value\":\"#bababa\"},\"hatch_color\":{\"value\":\"#bababa\"},\"line_color\":{\"value\":\"#bababa\"},\"top\":{\"field\":\"top\"},\"width\":{\"value\":0.5},\"x\":{\"field\":\"x\"}},\"id\":\"2706\",\"type\":\"VBar\"},{\"attributes\":{\"axis\":{\"id\":\"2695\"},\"coordinates\":null,\"grid_line_color\":null,\"group\":null,\"ticker\":null},\"id\":\"2697\",\"type\":\"Grid\"},{\"attributes\":{\"axis_label_standoff\":10,\"axis_label_text_color\":\"#5B5B5B\",\"axis_label_text_font\":\"Calibri Light\",\"axis_label_text_font_size\":\"1.15em\",\"axis_label_text_font_style\":\"bold\",\"axis_line_alpha\":1,\"axis_line_color\":\"#5B5B5B\",\"coordinates\":null,\"formatter\":{\"id\":\"2703\"},\"group\":null,\"major_label_policy\":{\"id\":\"2820\"},\"major_label_text_color\":\"#5B5B5B\",\"major_label_text_font\":\"Calibri Light\",\"major_label_text_font_size\":\"0.95em\",\"major_label_text_font_style\":\"bold\",\"major_tick_in\":0,\"major_tick_line_alpha\":0.25,\"major_tick_line_color\":\"#5B5B5B\",\"major_tick_out\":3,\"minor_tick_line_alpha\":0.25,\"minor_tick_line_color\":\"#5B5B5B\",\"ticker\":{\"id\":\"2699\"}},\"id\":\"2698\",\"type\":\"LinearAxis\"},{\"attributes\":{\"axis_label_standoff\":10,\"axis_label_text_color\":\"#5B5B5B\",\"axis_label_text_font\":\"Calibri Light\",\"axis_label_text_font_size\":\"1.15em\",\"axis_label_text_font_style\":\"bold\",\"axis_line_alpha\":1,\"axis_line_color\":\"#5B5B5B\",\"coordinates\":null,\"formatter\":{\"id\":\"2822\"},\"group\":null,\"major_label_policy\":{\"id\":\"2823\"},\"major_label_text_color\":\"#5B5B5B\",\"major_label_text_font\":\"Calibri Light\",\"major_label_text_font_size\":\"0.95em\",\"major_label_text_font_style\":\"bold\",\"major_tick_in\":0,\"major_tick_line_alpha\":0.25,\"major_tick_line_color\":\"#5B5B5B\",\"major_tick_out\":3,\"minor_tick_line_alpha\":0.25,\"minor_tick_line_color\":\"#5B5B5B\",\"ticker\":{\"id\":\"2696\"}},\"id\":\"2695\",\"type\":\"CategoricalAxis\"},{\"attributes\":{\"data\":{\"top\":[456674,158652,131178,91773,52800,27073,26837,20657,17673,12463,12008,6515,5567,4287,3598,3219,3173,2731,2422,2104,1822,1455,1257,1244,1139,1089,1073,738,708,690,636,483,437,433,428,350,303,277,239,235,209,206,142,106,94,80,79,76,73,73,69,63,63,56,43,43,36,33,31,30,26,21,21,20,20,18,18,17,13,13,13,11,8,7,6,6,6,5,4,4,4,4,3,3,3,3,3,3,3,3,2,2,2,2,1,1,1,1,1,1,1,1,1,1,1,1],\"x\":[\"Fair\",\"Cloudy\",\"Mostly Cloudy\",\"Partly Cloudy\",\"Light Rain\",\"Overcast\",\"Clear\",\"Light Snow\",\"Fog\",\"Rain\",\"Haze\",\"Fair / Windy\",\"Scattered Clouds\",\"Heavy Rain\",\"Mostly Cloudy / Windy\",\"Cloudy / Windy\",\"Light Drizzle\",\"Smoke\",\"Snow\",\"Partly Cloudy / Windy\",\"Light Rain / Windy\",\"T-Storm\",\"Thunder in the Vicinity\",\"Wintry Mix\",\"Light Rain with Thunder\",\"Light Snow / Windy\",\"Thunder\",\"Drizzle\",\"Heavy T-Storm\",\"Heavy Snow\",\"Light Freezing Rain\",\"Rain / Windy\",\"Shallow Fog\",\"Mist\",\"Patches of Fog\",\"N/A Precipitation\",\"Heavy Rain / Windy\",\"Showers in the Vicinity\",\"Snow / Windy\",\"Haze / Windy\",\"Light Freezing Drizzle\",\"Light Freezing Fog\",\"Blowing Snow\",\"Heavy Snow / Windy\",\"Fog / Windy\",\"Light Rain Shower\",\"Blowing Dust / Windy\",\"Blowing Dust\",\"Light Ice Pellets\",\"Heavy T-Storm / Windy\",\"T-Storm / Windy\",\"Blowing Snow / Windy\",\"Light Drizzle / Windy\",\"Heavy Drizzle\",\"Drizzle and Fog\",\"Thunder / Windy\",\"Ice Pellets\",\"Smoke / Windy\",\"Light Thunderstorms and Rain\",\"Wintry Mix / Windy\",\"Partial Fog\",\"Squalls / Windy\",\"Sleet\",\"Snow and Sleet\",\"Thunderstorms and Rain\",\"Snow and Sleet / Windy\",\"Freezing Rain\",\"Heavy Thunderstorms and Rain\",\"Rain Shower\",\"Widespread Dust\",\"Light Freezing Rain / Windy\",\"Light Sleet\",\"Small Hail\",\"Sand / Dust Whirlwinds\",\"Light Thunderstorms and Snow\",\"Light Snow Showers\",\"Light Rain Shower / Windy\",\"Patches of Fog / Windy\",\"Light Sleet / Windy\",\"Heavy Snow with Thunder\",\"Thunder / Wintry Mix / Windy\",\"Light Snow and Sleet / Windy\",\"Light Rain Showers\",\"Snow Grains\",\"Thunderstorm\",\"Drizzle / Windy\",\"Light Snow and Sleet\",\"Heavy Rain Shower\",\"Light Snow with Thunder\",\"Heavy Thunderstorms and Snow\",\"Heavy Ice Pellets\",\"Light Blowing Snow\",\"Tornado\",\"Freezing Drizzle\",\"Drifting Snow\",\"Heavy Blowing Snow\",\"Light Fog\",\"Light Snow Shower\",\"Sleet / Windy\",\"Low Drifting Snow\",\"Thunder and Hail / Windy\",\"Sand / Dust Whirls Nearby\",\"Freezing Rain / Windy\",\"Heavy Thunderstorms with Small Hail\",\"Heavy Freezing Drizzle\",\"Thunder and Hail\"]},\"selected\":{\"id\":\"2825\"},\"selection_policy\":{\"id\":\"2824\"}},\"id\":\"2705\",\"type\":\"ColumnDataSource\"},{\"attributes\":{\"axis\":{\"id\":\"2698\"},\"coordinates\":null,\"dimension\":1,\"group\":null,\"ticker\":null},\"id\":\"2701\",\"type\":\"Grid\"},{\"attributes\":{},\"id\":\"2691\",\"type\":\"CategoricalScale\"},{\"attributes\":{\"coordinates\":null,\"data_source\":{\"id\":\"2705\"},\"glyph\":{\"id\":\"2706\"},\"group\":null,\"hover_glyph\":null,\"muted_glyph\":{\"id\":\"2708\"},\"nonselection_glyph\":{\"id\":\"2707\"},\"view\":{\"id\":\"2710\"}},\"id\":\"2709\",\"type\":\"GlyphRenderer\"},{\"attributes\":{\"coordinates\":null,\"group\":null,\"text\":\"Weather Condition Affected\",\"text_color\":\"#5B5B5B\",\"text_font\":\"Calibri Light\",\"text_font_size\":\"1.25em\",\"text_font_style\":\"bold\"},\"id\":\"2685\",\"type\":\"Title\"},{\"attributes\":{},\"id\":\"2824\",\"type\":\"UnionRenderers\"},{\"attributes\":{},\"id\":\"2699\",\"type\":\"BasicTicker\"},{\"attributes\":{},\"id\":\"2702\",\"type\":\"Toolbar\"},{\"attributes\":{},\"id\":\"2693\",\"type\":\"LinearScale\"},{\"attributes\":{\"start\":0},\"id\":\"2689\",\"type\":\"DataRange1d\"},{\"attributes\":{},\"id\":\"2820\",\"type\":\"AllLabels\"},{\"attributes\":{},\"id\":\"2696\",\"type\":\"CategoricalTicker\"},{\"attributes\":{},\"id\":\"2703\",\"type\":\"NumeralTickFormatter\"},{\"attributes\":{\"fill_alpha\":{\"value\":0.2},\"fill_color\":{\"value\":\"#bababa\"},\"hatch_alpha\":{\"value\":0.2},\"hatch_color\":{\"value\":\"#bababa\"},\"line_alpha\":{\"value\":0.2},\"line_color\":{\"value\":\"#bababa\"},\"top\":{\"field\":\"top\"},\"width\":{\"value\":0.5},\"x\":{\"field\":\"x\"}},\"id\":\"2708\",\"type\":\"VBar\"},{\"attributes\":{},\"id\":\"2823\",\"type\":\"AllLabels\"},{\"attributes\":{\"fill_alpha\":{\"value\":0.1},\"fill_color\":{\"value\":\"#bababa\"},\"hatch_alpha\":{\"value\":0.1},\"hatch_color\":{\"value\":\"#bababa\"},\"line_alpha\":{\"value\":0.1},\"line_color\":{\"value\":\"#bababa\"},\"top\":{\"field\":\"top\"},\"width\":{\"value\":0.5},\"x\":{\"field\":\"x\"}},\"id\":\"2707\",\"type\":\"VBar\"}],\"root_ids\":[\"2684\"]},\"title\":\"Bokeh Application\",\"version\":\"2.4.1\"}};\n",
       "  const render_items = [{\"docid\":\"ea6c7bbc-85e9-4b17-981d-7e41065a31d9\",\"root_ids\":[\"2684\"],\"roots\":{\"2684\":\"94364ae0-b8fe-486d-8a8b-3e0fddc25398\"}}];\n",
       "  root.Bokeh.embed.embed_items_notebook(docs_json, render_items);\n",
       "\n",
       "  }\n",
       "  if (root.Bokeh !== undefined) {\n",
       "    embed_document(root);\n",
       "  } else {\n",
       "    let attempts = 0;\n",
       "    const timer = setInterval(function(root) {\n",
       "      if (root.Bokeh !== undefined) {\n",
       "        clearInterval(timer);\n",
       "        embed_document(root);\n",
       "      } else {\n",
       "        attempts++;\n",
       "        if (attempts > 100) {\n",
       "          clearInterval(timer);\n",
       "          console.log(\"Bokeh: ERROR: Unable to run BokehJS code because BokehJS library is missing\");\n",
       "        }\n",
       "      }\n",
       "    }, 10, root)\n",
       "  }\n",
       "})(window);"
      ],
      "application/vnd.bokehjs_exec.v0+json": ""
     },
     "metadata": {
      "application/vnd.bokehjs_exec.v0+json": {
       "id": "2684"
      }
     },
     "output_type": "display_data"
    }
   ],
   "source": [
    "x = wheather.Weather_Condition\n",
    "\n",
    "y = wheather['#Accident']\n",
    "\n",
    "\n",
    "curdoc().theme = 'caliber'\n",
    "\n",
    "\n",
    "p = figure(x_range=x[:10],width=800, height=500, title=\"Weather Condition Affected\" \n",
    "           ,toolbar_location=None, tools=\"\")\n",
    "p.yaxis.formatter = NumeralTickFormatter(format=\"0,0\")\n",
    "\n",
    "\n",
    "p.vbar(x=x, top=y, width=.5, color=\"#bababa\")\n",
    "\n",
    "p.xgrid.grid_line_color = None\n",
    "p.y_range.start = 0\n",
    "\n",
    "show(p)"
   ]
  },
  {
   "cell_type": "markdown",
   "id": "651ee3b9",
   "metadata": {},
   "source": [
    "## - New dataframe to use it in the model"
   ]
  },
  {
   "cell_type": "code",
   "execution_count": 78,
   "id": "36847734",
   "metadata": {},
   "outputs": [],
   "source": [
    "# list of features for Molding \n",
    "\n",
    "col_list=['Severity','Start_Lng','Start_Lat','Distance(mi)','Side','City','County','State',\n",
    "             'Visibility(mi)','Weather_Condition',\n",
    "             'Sunrise_Sunset','Hour','Weekday', 'Time_Duration(min)']"
   ]
  },
  {
   "cell_type": "code",
   "execution_count": 79,
   "id": "8d0cd51d",
   "metadata": {},
   "outputs": [],
   "source": [
    "select_df = accident_df[col_list].copy()\n",
    "# select_df.head(2)"
   ]
  },
  {
   "cell_type": "markdown",
   "id": "9cfb3ad3",
   "metadata": {},
   "source": [
    "## - Select the data of New York  to use it in the model "
   ]
  },
  {
   "cell_type": "code",
   "execution_count": 80,
   "id": "c747ee86",
   "metadata": {},
   "outputs": [],
   "source": [
    "# Set state\n",
    "state='CA'\n",
    "\n",
    "# Select the state of New York\n",
    "df_state=select_df.loc[accident_df.State==state].copy()\n",
    "df_state.drop('State',axis=1, inplace=True)\n",
    "# df_state.head()"
   ]
  },
  {
   "cell_type": "code",
   "execution_count": null,
   "id": "01cbc50d",
   "metadata": {
    "scrolled": true
   },
   "outputs": [],
   "source": [
    "# Set county \n",
    "county='Los Angeles'\n",
    "\n",
    "df_county=df_state.loc[df_state.County==county].copy()\n",
    "df_county.drop('County',axis=1, inplace=True)\n",
    "# df_county"
   ]
  },
  {
   "cell_type": "code",
   "execution_count": 81,
   "id": "73f92245",
   "metadata": {},
   "outputs": [],
   "source": [
    "# Generate dummies for categorical data\n",
    "df_dummy = pd.get_dummies(df_state,drop_first=True)\n",
    "\n",
    "\n",
    "# df_dummy = pd.get_dummies(df_county,drop_first=True)\n",
    "\n",
    "# df_dummy.info()"
   ]
  },
  {
   "cell_type": "code",
   "execution_count": 82,
   "id": "3e6cafe1",
   "metadata": {},
   "outputs": [
    {
     "data": {
      "text/plain": [
       "(324400, 1167)"
      ]
     },
     "execution_count": 82,
     "metadata": {},
     "output_type": "execute_result"
    }
   ],
   "source": [
    "df_dummy.shape"
   ]
  },
  {
   "cell_type": "code",
   "execution_count": 83,
   "id": "74f7cdd0",
   "metadata": {},
   "outputs": [
    {
     "name": "stdout",
     "output_type": "stream",
     "text": [
      "<class 'pandas.core.frame.DataFrame'>\n",
      "Int64Index: 324400 entries, 1018 to 1516063\n",
      "Columns: 1167 entries, Severity to Weekday_Wed\n",
      "dtypes: float64(7), uint8(1160)\n",
      "memory usage: 378.7 MB\n"
     ]
    }
   ],
   "source": [
    "df_dummy.info()"
   ]
  },
  {
   "cell_type": "code",
   "execution_count": 84,
   "id": "df6e4e58",
   "metadata": {},
   "outputs": [],
   "source": [
    "col = df_dummy.select_dtypes(exclude=['float']).columns\n",
    "\n",
    "df_dummy[col] = df_dummy[col].apply(pd.to_numeric, downcast='float', errors='coerce')"
   ]
  },
  {
   "cell_type": "code",
   "execution_count": null,
   "id": "22f7793a",
   "metadata": {},
   "outputs": [],
   "source": [
    "df_dummy.dtypes"
   ]
  },
  {
   "cell_type": "markdown",
   "id": "3150334a",
   "metadata": {},
   "source": [
    "# Modle:"
   ]
  },
  {
   "cell_type": "markdown",
   "id": "d82a7eee",
   "metadata": {},
   "source": [
    "### Predict the accident severity"
   ]
  },
  {
   "cell_type": "code",
   "execution_count": 85,
   "id": "0feeb0ed",
   "metadata": {},
   "outputs": [],
   "source": [
    "df_sample= df_dummy\n",
    "\n",
    "# Set the target for the prediction\n",
    "target='Severity'\n",
    "\n",
    "\n",
    "# Create arrays for the features and the response variable\n",
    "\n",
    "# set X and y\n",
    "y = df_sample[target]\n",
    "X = df_sample.drop(target, axis=1)\n",
    "\n",
    "# Split the data set into training and testing data sets\n",
    "X_train, X_test, y_train, y_test = train_test_split(X, y, test_size=0.3, random_state=123)"
   ]
  },
  {
   "cell_type": "code",
   "execution_count": 86,
   "id": "6293550e",
   "metadata": {},
   "outputs": [],
   "source": [
    "# List of classification algorithms\n",
    "algo_lst=['Logistic Regression','Decision Trees','Random Forest']\n",
    "\n",
    "# Initialize an empty list for the accuracy for each algorithm\n",
    "accuracy_lst=[]"
   ]
  },
  {
   "cell_type": "markdown",
   "id": "e1616ec2",
   "metadata": {},
   "source": [
    "## Logistic regression"
   ]
  },
  {
   "cell_type": "code",
   "execution_count": 87,
   "id": "d30bbde7",
   "metadata": {},
   "outputs": [
    {
     "name": "stderr",
     "output_type": "stream",
     "text": [
      "/Users/raneem/opt/anaconda3/lib/python3.9/site-packages/sklearn/linear_model/_logistic.py:814: ConvergenceWarning: lbfgs failed to converge (status=1):\n",
      "STOP: TOTAL NO. of ITERATIONS REACHED LIMIT.\n",
      "\n",
      "Increase the number of iterations (max_iter) or scale the data as shown in:\n",
      "    https://scikit-learn.org/stable/modules/preprocessing.html\n",
      "Please also refer to the documentation for alternative solver options:\n",
      "    https://scikit-learn.org/stable/modules/linear_model.html#logistic-regression\n",
      "  n_iter_i = _check_optimize_result(\n"
     ]
    },
    {
     "name": "stdout",
     "output_type": "stream",
     "text": [
      "              precision    recall  f1-score   support\n",
      "\n",
      "         1.0       0.16      0.93      0.27      1637\n",
      "         2.0       0.99      0.45      0.62     92673\n",
      "         3.0       0.04      0.57      0.07      1921\n",
      "         4.0       0.02      0.24      0.03      1089\n",
      "\n",
      "    accuracy                           0.46     97320\n",
      "   macro avg       0.30      0.55      0.25     97320\n",
      "weighted avg       0.95      0.46      0.59     97320\n",
      "\n"
     ]
    }
   ],
   "source": [
    "# Logistic regression\n",
    "lr = LogisticRegression(random_state=0,class_weight='balanced',n_jobs=-1)\n",
    "lr.fit(X_train,y_train)\n",
    "y_pred=lr.predict(X_test)\n",
    "\n",
    "# Get the accuracy score\n",
    "# acc=accuracy_score(y_test, y_pred)\n",
    "print(classification_report(y_test, y_pred))\n",
    "# Append to the accuracy list\n",
    "# accuracy_lst.append(acc)\n",
    "\n",
    "# print(\"accuracy_score: {:.3f}.\".format(acc))"
   ]
  },
  {
   "cell_type": "markdown",
   "id": "798cc8b7",
   "metadata": {},
   "source": [
    "## Decision tree algorithm"
   ]
  },
  {
   "cell_type": "code",
   "execution_count": 88,
   "id": "d0d34d01",
   "metadata": {},
   "outputs": [
    {
     "name": "stdout",
     "output_type": "stream",
     "text": [
      "              precision    recall  f1-score   support\n",
      "\n",
      "         1.0       0.67      0.73      0.70      1637\n",
      "         2.0       0.97      0.99      0.98     92673\n",
      "         3.0       0.41      0.13      0.19      1921\n",
      "         4.0       0.61      0.12      0.20      1089\n",
      "\n",
      "    accuracy                           0.96     97320\n",
      "   macro avg       0.67      0.49      0.52     97320\n",
      "weighted avg       0.95      0.96      0.95     97320\n",
      "\n"
     ]
    }
   ],
   "source": [
    "# Decision tree algorithm\n",
    "\n",
    "# Instantiate dt_entropy, set 'entropy' as the information criterion\n",
    "dt_entropy = DecisionTreeClassifier(max_depth=6, criterion='entropy', random_state=1, class_weight='balanced')\n",
    "\n",
    "\n",
    "# Fit dt_entropy to the training set\n",
    "dt_entropy.fit(X_train, y_train)\n",
    "\n",
    "# Use dt_entropy to predict test set labels\n",
    "y_pred= dt_entropy.predict(X_test)\n",
    "\n",
    "# Evaluate accuracy_entropy\n",
    "accuracy_entropy = accuracy_score(y_test, y_pred)\n",
    "\n",
    "\n",
    "# Print accuracy_entropy\n",
    "# print('[Decision Tree -- entropy] accuracy_score: {:.3f}.'.format(accuracy_entropy))\n",
    "\n",
    "\n",
    "\n",
    "# Instantiate dt_gini, set 'gini' as the information criterion\n",
    "dt_gini = DecisionTreeClassifier(max_depth=8, criterion='gini', random_state=1)\n",
    "\n",
    "\n",
    "# Fit dt_entropy to the training set\n",
    "dt_gini.fit(X_train, y_train)\n",
    "\n",
    "# Use dt_entropy to predict test set labels\n",
    "y_pred= dt_gini.predict(X_test)\n",
    "\n",
    "# Evaluate accuracy_entropy\n",
    "# accuracy_gini = accuracy_score(y_test, y_pred)\n",
    "\n",
    "# Append to the accuracy list\n",
    "# acc=accuracy_gini\n",
    "# accuracy_lst.append(acc)\n",
    "print(classification_report(y_test, y_pred))\n",
    "\n",
    "\n",
    "# Print accuracy_gini\n",
    "# print('[Decision Tree -- gini] accuracy_score: ', format(accuracy_gini))"
   ]
  },
  {
   "cell_type": "markdown",
   "id": "7121b504",
   "metadata": {},
   "source": [
    "## Random Forest algorithm"
   ]
  },
  {
   "cell_type": "code",
   "execution_count": 89,
   "id": "b08e5f3e",
   "metadata": {},
   "outputs": [
    {
     "name": "stdout",
     "output_type": "stream",
     "text": [
      "              precision    recall  f1-score   support\n",
      "\n",
      "         1.0       0.85      0.66      0.75      1637\n",
      "         2.0       0.97      1.00      0.98     92673\n",
      "         3.0       0.71      0.18      0.28      1921\n",
      "         4.0       0.77      0.30      0.43      1089\n",
      "\n",
      "    accuracy                           0.97     97320\n",
      "   macro avg       0.83      0.53      0.61     97320\n",
      "weighted avg       0.96      0.97      0.96     97320\n",
      "\n"
     ]
    }
   ],
   "source": [
    "# Random Forest algorithm\n",
    "\n",
    "#Create a Gaussian Classifier\n",
    "clf=RandomForestClassifier(n_estimators=100,class_weight='balanced',n_jobs=-1)\n",
    "\n",
    "#Train the model using the training sets y_pred=clf.predict(X_test)\n",
    "clf.fit(X_train,y_train)\n",
    "\n",
    "y_pred=clf.predict(X_test)\n",
    "\n",
    "\n",
    "# Get the accuracy score\n",
    "# acc=accuracy_score(y_test, y_pred)\n",
    "\n",
    "# Append to the accuracy list\n",
    "# accuracy_lst.append(acc)\n",
    "print(classification_report(y_test, y_pred))\n",
    "\n",
    "# Model Accuracy, how often is the classifier correct?\n",
    "# print(\"Randon Forest Algorithm Accuracy Score: \" ,format(acc))"
   ]
  },
  {
   "cell_type": "code",
   "execution_count": 90,
   "id": "7f29782a",
   "metadata": {},
   "outputs": [],
   "source": [
    "important_feau = pd.Series(clf.feature_importances_,index=X.columns).sort_values(ascending=False)\n",
    "# important_feau"
   ]
  },
  {
   "cell_type": "code",
   "execution_count": null,
   "id": "2b730da1",
   "metadata": {},
   "outputs": [],
   "source": [
    "important_feau.index"
   ]
  },
  {
   "cell_type": "code",
   "execution_count": 91,
   "id": "c4e0d148",
   "metadata": {},
   "outputs": [
    {
     "name": "stdout",
     "output_type": "stream",
     "text": [
      "Start_Lng\n",
      "Start_Lat\n",
      "Distance(mi)\n",
      "Hour\n",
      "Time_Duration(min)\n"
     ]
    }
   ],
   "source": [
    "# Create a selector object that will use the random forest classifier to identify\n",
    "# features that have an importance of more than 0.04\n",
    "sfm = SelectFromModel(clf, threshold=0.04)\n",
    "\n",
    "# Train the selector\n",
    "sfm.fit(X_train, y_train)\n",
    "\n",
    "feat_labels=X.columns\n",
    "\n",
    "# Print the names of the most important features\n",
    "for feature_list_index in sfm.get_support(indices=True):\n",
    "    print(feat_labels[feature_list_index])"
   ]
  },
  {
   "cell_type": "code",
   "execution_count": 92,
   "id": "5e522433",
   "metadata": {},
   "outputs": [
    {
     "data": {
      "text/plain": [
       "RandomForestClassifier(n_jobs=-1, random_state=0)"
      ]
     },
     "execution_count": 92,
     "metadata": {},
     "output_type": "execute_result"
    }
   ],
   "source": [
    "#### Transform the data to create a new dataset containing only the most important features\n",
    "# Note: We have to apply the transform to both the training X and test X data.\n",
    "X_important_train = sfm.transform(X_train)\n",
    "X_important_test = sfm.transform(X_test)\n",
    "\n",
    "# Create a new random forest classifier for the most important features\n",
    "clf_important = RandomForestClassifier(n_estimators=100, random_state=0, n_jobs=-1)\n",
    "\n",
    "\n",
    "# Train the new classifier on the new dataset containing the most important features\n",
    "clf_important.fit(X_important_train, y_train)\n",
    "\n",
    "\n"
   ]
  },
  {
   "cell_type": "code",
   "execution_count": 93,
   "id": "823405b9",
   "metadata": {},
   "outputs": [
    {
     "name": "stdout",
     "output_type": "stream",
     "text": [
      "For the full feature               precision    recall  f1-score   support\n",
      "\n",
      "         1.0       0.85      0.66      0.75      1637\n",
      "         2.0       0.97      1.00      0.98     92673\n",
      "         3.0       0.71      0.18      0.28      1921\n",
      "         4.0       0.77      0.30      0.43      1089\n",
      "\n",
      "    accuracy                           0.97     97320\n",
      "   macro avg       0.83      0.53      0.61     97320\n",
      "weighted avg       0.96      0.97      0.96     97320\n",
      "\n",
      "For the Selected feature               precision    recall  f1-score   support\n",
      "\n",
      "         1.0       0.73      0.76      0.75      1637\n",
      "         2.0       0.98      0.99      0.99     92673\n",
      "         3.0       0.51      0.25      0.34      1921\n",
      "         4.0       0.63      0.36      0.46      1089\n",
      "\n",
      "    accuracy                           0.97     97320\n",
      "   macro avg       0.71      0.59      0.63     97320\n",
      "weighted avg       0.96      0.97      0.96     97320\n",
      "\n"
     ]
    }
   ],
   "source": [
    "# Apply The Full Featured Classifier To The Test Data\n",
    "y_pred = clf.predict(X_test)\n",
    "\n",
    "# View The Accuracy Of Our Full Feature Model\n",
    "# print('CLF Full feature -- accuracy_score: ',format(accuracy_score(y_test, y_pred)))\n",
    "print('For the full feature',classification_report(y_test, y_pred))\n",
    "\n",
    "\n",
    "# Apply The Full Featured Classifier To The Test Data\n",
    "y_important_pred = clf_important.predict(X_important_test)\n",
    "print('For the Selected feature',classification_report(y_test, y_important_pred))\n",
    "\n",
    "\n",
    "# View The Accuracy Of Our Limited Feature Model\n",
    "# print('CLF S feature -- accuracy_score: ' , format(accuracy_score(y_test, y_important_pred)))"
   ]
  },
  {
   "cell_type": "code",
   "execution_count": null,
   "id": "1151ec9f",
   "metadata": {},
   "outputs": [],
   "source": [
    "# list of algorithms and accuracy scores \n",
    "df_acc=pd.DataFrame(list(zip(algo_lst, accuracy_lst)), columns=['Algorithm','Accuracy Score']).sort_values(by=['Accuracy Score'],ascending = True)"
   ]
  },
  {
   "cell_type": "code",
   "execution_count": null,
   "id": "3902404a",
   "metadata": {},
   "outputs": [],
   "source": [
    "df_acc.sort_values(by ='Accuracy Score', ascending = False)"
   ]
  },
  {
   "cell_type": "markdown",
   "id": "115de39e",
   "metadata": {},
   "source": [
    "## - Predict the Accident in right side or not "
   ]
  },
  {
   "cell_type": "code",
   "execution_count": 94,
   "id": "6484c936",
   "metadata": {},
   "outputs": [],
   "source": [
    "sample2_df= df_dummy\n",
    "\n",
    "# Set the target for the prediction\n",
    "target='Side_R'\n",
    "\n",
    "\n",
    "# Create arrays for the features and the response variable\n",
    "\n",
    "y = sample2_df[target]\n",
    "X = sample2_df.drop(target, axis=1)\n",
    "\n",
    "# Split the data set into training and testing data sets\n",
    "X_train2, X_test2, y_train2, y_test2 = train_test_split(X, y, test_size=0.3, random_state=23)"
   ]
  },
  {
   "cell_type": "code",
   "execution_count": 95,
   "id": "5fcd9756",
   "metadata": {},
   "outputs": [],
   "source": [
    "# List of classification algorithms\n",
    "algo_lst=['Logistic Regression','Decision Trees','Random Forest']\n",
    "# Initialize an empty list for the accuracy for each algorithm\n",
    "accuracy_lst=[]"
   ]
  },
  {
   "cell_type": "markdown",
   "id": "a8827ed0",
   "metadata": {},
   "source": [
    "## Logistic regression"
   ]
  },
  {
   "cell_type": "code",
   "execution_count": 96,
   "id": "2c38d130",
   "metadata": {},
   "outputs": [
    {
     "name": "stderr",
     "output_type": "stream",
     "text": [
      "/Users/raneem/opt/anaconda3/lib/python3.9/site-packages/sklearn/linear_model/_logistic.py:814: ConvergenceWarning: lbfgs failed to converge (status=1):\n",
      "STOP: TOTAL NO. of ITERATIONS REACHED LIMIT.\n",
      "\n",
      "Increase the number of iterations (max_iter) or scale the data as shown in:\n",
      "    https://scikit-learn.org/stable/modules/preprocessing.html\n",
      "Please also refer to the documentation for alternative solver options:\n",
      "    https://scikit-learn.org/stable/modules/linear_model.html#logistic-regression\n",
      "  n_iter_i = _check_optimize_result(\n"
     ]
    },
    {
     "name": "stdout",
     "output_type": "stream",
     "text": [
      "              precision    recall  f1-score   support\n",
      "\n",
      "           0       0.18      0.63      0.28     11233\n",
      "           1       0.93      0.62      0.75     86087\n",
      "\n",
      "    accuracy                           0.63     97320\n",
      "   macro avg       0.55      0.63      0.51     97320\n",
      "weighted avg       0.84      0.63      0.69     97320\n",
      "\n",
      "accuracy_score: 0.625.\n"
     ]
    }
   ],
   "source": [
    "# Logistic regression\n",
    "lr = LogisticRegression(random_state=0,class_weight='balanced',n_jobs=-1)\n",
    "lr.fit(X_train2,y_train2)\n",
    "y_pred=lr.predict(X_test2)\n",
    "\n",
    "# Get the accuracy score\n",
    "acc=accuracy_score(y_test2, y_pred)\n",
    "\n",
    "# Append to the accuracy list\n",
    "accuracy_lst.append(acc)\n",
    "print(classification_report(y_test2, y_pred))\n",
    "\n",
    "\n",
    "print(\"accuracy_score: {:.3f}.\".format(acc))"
   ]
  },
  {
   "cell_type": "markdown",
   "id": "76a187eb",
   "metadata": {},
   "source": [
    "## Decision tree algorithm"
   ]
  },
  {
   "cell_type": "code",
   "execution_count": 97,
   "id": "7711bda1",
   "metadata": {},
   "outputs": [
    {
     "name": "stdout",
     "output_type": "stream",
     "text": [
      "              precision    recall  f1-score   support\n",
      "\n",
      "           0       0.73      0.04      0.07     11233\n",
      "           1       0.89      1.00      0.94     86087\n",
      "\n",
      "    accuracy                           0.89     97320\n",
      "   macro avg       0.81      0.52      0.51     97320\n",
      "weighted avg       0.87      0.89      0.84     97320\n",
      "\n"
     ]
    }
   ],
   "source": [
    "# Decision tree algorithm\n",
    "\n",
    "# Instantiate dt_entropy, set 'entropy' as the information criterion\n",
    "dt_entropy = DecisionTreeClassifier(max_depth=8, criterion='entropy', random_state=1,class_weight='balanced')\n",
    "\n",
    "\n",
    "# Fit dt_entropy to the training set\n",
    "dt_entropy.fit(X_train2, y_train2)\n",
    "\n",
    "# Use dt_entropy to predict test set labels\n",
    "y_pred= dt_entropy.predict(X_test2)\n",
    "\n",
    "# Evaluate accuracy_entropy\n",
    "accuracy_entropy = accuracy_score(y_test2, y_pred)\n",
    "\n",
    "\n",
    "# Print accuracy_entropy\n",
    "# print('[Decision Tree -- entropy] accuracy_score: {:.3f}.'.format(accuracy_entropy))\n",
    "\n",
    "\n",
    "\n",
    "# Instantiate dt_gini, set 'gini' as the information criterion\n",
    "dt_gini = DecisionTreeClassifier(max_depth=8, criterion='gini', random_state=1)\n",
    "\n",
    "\n",
    "dt_gini.fit(X_train2, y_train2)\n",
    "y_pred= dt_gini.predict(X_test2)\n",
    "\n",
    "# Evaluate accuracy_entropy\n",
    "accuracy_gini = accuracy_score(y_test2, y_pred)\n",
    "\n",
    "acc=accuracy_gini\n",
    "accuracy_lst.append(acc)\n",
    "print(classification_report(y_test2, y_pred))\n",
    "\n",
    "\n",
    "# Print accuracy_gini\n",
    "# print('[Decision Tree -- gini] accuracy_score: ', format(accuracy_gini))"
   ]
  },
  {
   "cell_type": "markdown",
   "id": "377e8c41",
   "metadata": {},
   "source": [
    "## Random Forest algorithm"
   ]
  },
  {
   "cell_type": "code",
   "execution_count": 98,
   "id": "cc287121",
   "metadata": {},
   "outputs": [
    {
     "name": "stdout",
     "output_type": "stream",
     "text": [
      "              precision    recall  f1-score   support\n",
      "\n",
      "           0       0.80      0.27      0.40     11233\n",
      "           1       0.91      0.99      0.95     86087\n",
      "\n",
      "    accuracy                           0.91     97320\n",
      "   macro avg       0.85      0.63      0.67     97320\n",
      "weighted avg       0.90      0.91      0.89     97320\n",
      "\n"
     ]
    }
   ],
   "source": [
    "# Random Forest algorithm\n",
    "\n",
    "\n",
    "clf=RandomForestClassifier(n_estimators=100, random_state=1,class_weight='balanced')\n",
    "\n",
    "clf.fit(X_train2,y_train2)\n",
    "y_pred=clf.predict(X_test2)\n",
    "\n",
    "\n",
    "# accuracy score\n",
    "acc=accuracy_score(y_test2, y_pred)\n",
    "accuracy_lst.append(acc)\n",
    "print(classification_report(y_test2, y_pred))\n",
    "\n",
    "\n",
    "\n",
    "\n",
    "# print(\"Randon Forest Algorithm Accuracy Score: \" ,format(acc))"
   ]
  },
  {
   "cell_type": "code",
   "execution_count": 99,
   "id": "892467b1",
   "metadata": {},
   "outputs": [
    {
     "name": "stdout",
     "output_type": "stream",
     "text": [
      "Start_Lng\n",
      "Start_Lat\n",
      "Distance(mi)\n",
      "Hour\n",
      "Time_Duration(min)\n"
     ]
    }
   ],
   "source": [
    "# Create a selector object that will use the random forest classifier to identify\n",
    "# features that have an importance of more than 0.06\n",
    "sfm = SelectFromModel(clf, threshold=0.06)\n",
    "\n",
    "# Train the selector\n",
    "sfm.fit(X_train2, y_train2)\n",
    "\n",
    "feat_labels=X.columns\n",
    "\n",
    "# Print the names of the most important features\n",
    "for feature_list_index in sfm.get_support(indices=True):\n",
    "    print(feat_labels[feature_list_index])"
   ]
  },
  {
   "cell_type": "code",
   "execution_count": 100,
   "id": "eeb33630",
   "metadata": {},
   "outputs": [
    {
     "data": {
      "text/plain": [
       "RandomForestClassifier(n_jobs=-1, random_state=0)"
      ]
     },
     "execution_count": 100,
     "metadata": {},
     "output_type": "execute_result"
    }
   ],
   "source": [
    "#### Transform the data to create a new dataset containing only the most important features\n",
    "# Note: We have to apply the transform to both the training X and test X data.\n",
    "X_important_train = sfm.transform(X_train2)\n",
    "X_important_test = sfm.transform(X_test2)\n",
    "\n",
    "# Create a new random forest classifier for the most important features\n",
    "clf_important = RandomForestClassifier(n_estimators=100, random_state=0, n_jobs=-1)\n",
    "\n",
    "# Train the new classifier on the new dataset containing the most important features\n",
    "clf_important.fit(X_important_train, y_train2)\n"
   ]
  },
  {
   "cell_type": "code",
   "execution_count": 101,
   "id": "0450b883",
   "metadata": {},
   "outputs": [
    {
     "name": "stdout",
     "output_type": "stream",
     "text": [
      "For the Full feature               precision    recall  f1-score   support\n",
      "\n",
      "           0       0.80      0.27      0.40     11233\n",
      "           1       0.91      0.99      0.95     86087\n",
      "\n",
      "    accuracy                           0.91     97320\n",
      "   macro avg       0.85      0.63      0.67     97320\n",
      "weighted avg       0.90      0.91      0.89     97320\n",
      "\n",
      "For the Selected feature               precision    recall  f1-score   support\n",
      "\n",
      "           0       0.83      0.35      0.50     11233\n",
      "           1       0.92      0.99      0.95     86087\n",
      "\n",
      "    accuracy                           0.92     97320\n",
      "   macro avg       0.88      0.67      0.72     97320\n",
      "weighted avg       0.91      0.92      0.90     97320\n",
      "\n"
     ]
    }
   ],
   "source": [
    "# Apply The Full Featured Classifier To The Test Data\n",
    "y_pred = clf.predict(X_test2)\n",
    "\n",
    "# View The Accuracy Of Our Full Feature Model\n",
    "# print('CLF (Full feature) -- accuracy_score: ',format(accuracy_score(y_test2, y_pred)))\n",
    "print('For the Full feature',classification_report(y_test2, y_pred))\n",
    "\n",
    "\n",
    "# Apply The Full Featured Classifier To The Test Data\n",
    "y_important_pred = clf_important.predict(X_important_test)\n",
    "print('For the Selected feature',classification_report(y_test2, y_important_pred))\n",
    "\n",
    "\n",
    "# View The Accuracy Of Our Limited Feature Model\n",
    "# print('CLF Limited feature) -- accuracy_score: ' , format(accuracy_score(y_test2, y_important_pred)))"
   ]
  },
  {
   "cell_type": "code",
   "execution_count": null,
   "id": "0c1a2617",
   "metadata": {},
   "outputs": [],
   "source": [
    "# list of algorithms and accuracy scores\n",
    "df_acc=pd.DataFrame(list(zip(algo_lst, accuracy_lst)), columns=['Algorithm','Accuracy Score']).sort_values(by=['Accuracy Score'],ascending = True)\n",
    "\n",
    "df_acc.sort_values(by ='Accuracy Score', ascending = False)"
   ]
  }
 ],
 "metadata": {
  "kernelspec": {
   "display_name": "Python 3 (ipykernel)",
   "language": "python",
   "name": "python3"
  },
  "language_info": {
   "codemirror_mode": {
    "name": "ipython",
    "version": 3
   },
   "file_extension": ".py",
   "mimetype": "text/x-python",
   "name": "python",
   "nbconvert_exporter": "python",
   "pygments_lexer": "ipython3",
   "version": "3.9.7"
  }
 },
 "nbformat": 4,
 "nbformat_minor": 5
}
